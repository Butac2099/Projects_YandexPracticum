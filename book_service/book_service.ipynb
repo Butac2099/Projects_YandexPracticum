{
 "cells": [
  {
   "cell_type": "markdown",
   "metadata": {},
   "source": [
    "# Проект по SQL сервиса для чтения книг по подписке"
   ]
  },
  {
   "cell_type": "markdown",
   "metadata": {},
   "source": [
    "**Цель -  проанализировать базу данных. В ней — информация о книгах, издательствах, авторах, а также пользовательские обзоры книг. Эти данные помогут сформулировать ценностное предложение для нового продукта**"
   ]
  },
  {
   "cell_type": "markdown",
   "metadata": {},
   "source": [
    "# План исследования:\n",
    "\n",
    "**1.  Первичное знакомство;**\n",
    "\n",
    "\n",
    "  \n",
    "**Таблица `books`**\n",
    "\n",
    "Содержит данные о книгах:\n",
    "- `book_id` — идентификатор книги;\n",
    "- `author_id` — идентификатор автора;\n",
    "- `title` — название книги;\n",
    "- `num_pages` — количество страниц;\n",
    "- `publication_date` — дата публикации книги;\n",
    "- `publisher_id` — идентификатор издателя.\n",
    "\n",
    "**Таблица `authors`**\n",
    "\n",
    "Содержит данные об авторах:\n",
    "- `author_id` — идентификатор автора;\n",
    "- `author` — имя автора.\n",
    "\n",
    "**Таблица `publishers`**\n",
    "\n",
    "Содержит данные об издательствах:\n",
    "- `publisher_id` — идентификатор издательства;\n",
    "- `publisher` — название издательства.\n",
    "\n",
    "**Таблица `ratings`**\n",
    "\n",
    "Содержит данные о пользовательских оценках книг:\n",
    "- `rating_id` — идентификатор оценки;\n",
    "- `book_id` — идентификатор книги;\n",
    "- `username` — имя пользователя, оставившего оценку;\n",
    "- `rating` — оценка книги.\n",
    "\n",
    "**Таблица `reviews`**\n",
    "\n",
    "Содержит данные о пользовательских обзорах на книги:\n",
    "- `review_id` — идентификатор обзора;\n",
    "- `book_id` — идентификатор книги;\n",
    "- `username` — имя пользователя, написавшего обзор;\n",
    "- `text` — текст обзора.\n",
    "\n",
    "**2. Преобработка данных;**\n",
    "\n",
    "**3. Посчитать, сколько книг вышло после 1 января 2000 года;**\n",
    "\n",
    "**4. Для каждой книги посчитать количество обзоров и среднюю оценку;**\n",
    "\n",
    "**5. Определить издательство, которое выпустило наибольшее число книг толще 50 страниц — так вы исключите из анализа брошюры;**\n",
    "\n",
    "**6. Определить автора с самой высокой средней оценкой книг — учитывайте только книги с 50 и более оценками;**\n",
    "\n",
    "**7. Посчитать среднее количество обзоров от пользователей, которые поставили больше 50 оценок.**"
   ]
  },
  {
   "cell_type": "code",
   "execution_count": 1,
   "metadata": {},
   "outputs": [],
   "source": [
    "# импортируем библиотеки\n",
    "import pandas as pd\n",
    "from sqlalchemy import create_engine\n",
    "\n",
    "# устанавливаем параметры\n",
    "db_config = {'user': 'praktikum_student', # имя пользователя\n",
    "'pwd': 'Sdf4$2;d-d30pp', # пароль\n",
    "'host': 'rc1b-wcoijxj3yxfsf3fs.mdb.yandexcloud.net',\n",
    "'port': 6432, # порт подключения\n",
    "'db': 'data-analyst-final-project-db'} # название базы данных\n",
    "connection_string = 'postgresql://{}:{}@{}:{}/{}'.format(db_config['user'],\n",
    " db_config['pwd'],\n",
    " db_config['host'],\n",
    " db_config['port'],\n",
    " db_config['db'])\n",
    "\n",
    "#сохраняем коннектор\n",
    "engine = create_engine(connection_string, connect_args={'sslmode':'require'})"
   ]
  },
  {
   "cell_type": "code",
   "execution_count": 2,
   "metadata": {},
   "outputs": [],
   "source": [
    "#сформируем sql запрос\n",
    "books = pd.io.sql.read_sql(''' SELECT * FROM books''', con = engine)"
   ]
  },
  {
   "cell_type": "code",
   "execution_count": 3,
   "metadata": {},
   "outputs": [],
   "source": [
    "authors = pd.io.sql.read_sql(''' SELECT * FROM authors''', con = engine)"
   ]
  },
  {
   "cell_type": "code",
   "execution_count": 4,
   "metadata": {},
   "outputs": [],
   "source": [
    "publishers = pd.io.sql.read_sql(''' SELECT * FROM publishers''', con = engine)"
   ]
  },
  {
   "cell_type": "code",
   "execution_count": 5,
   "metadata": {},
   "outputs": [],
   "source": [
    "ratings = pd.io.sql.read_sql(''' SELECT * FROM ratings''', con = engine)"
   ]
  },
  {
   "cell_type": "code",
   "execution_count": 6,
   "metadata": {},
   "outputs": [],
   "source": [
    "reviews = pd.io.sql.read_sql(''' SELECT * FROM reviews''', con = engine)"
   ]
  },
  {
   "cell_type": "code",
   "execution_count": 7,
   "metadata": {
    "scrolled": true
   },
   "outputs": [
    {
     "data": {
      "text/html": [
       "<div>\n",
       "<style scoped>\n",
       "    .dataframe tbody tr th:only-of-type {\n",
       "        vertical-align: middle;\n",
       "    }\n",
       "\n",
       "    .dataframe tbody tr th {\n",
       "        vertical-align: top;\n",
       "    }\n",
       "\n",
       "    .dataframe thead th {\n",
       "        text-align: right;\n",
       "    }\n",
       "</style>\n",
       "<table border=\"1\" class=\"dataframe\">\n",
       "  <thead>\n",
       "    <tr style=\"text-align: right;\">\n",
       "      <th></th>\n",
       "      <th>book_id</th>\n",
       "      <th>author_id</th>\n",
       "      <th>title</th>\n",
       "      <th>num_pages</th>\n",
       "      <th>publication_date</th>\n",
       "      <th>publisher_id</th>\n",
       "    </tr>\n",
       "  </thead>\n",
       "  <tbody>\n",
       "    <tr>\n",
       "      <th>0</th>\n",
       "      <td>1</td>\n",
       "      <td>546</td>\n",
       "      <td>'Salem's Lot</td>\n",
       "      <td>594</td>\n",
       "      <td>2005-11-01</td>\n",
       "      <td>93</td>\n",
       "    </tr>\n",
       "    <tr>\n",
       "      <th>1</th>\n",
       "      <td>2</td>\n",
       "      <td>465</td>\n",
       "      <td>1 000 Places to See Before You Die</td>\n",
       "      <td>992</td>\n",
       "      <td>2003-05-22</td>\n",
       "      <td>336</td>\n",
       "    </tr>\n",
       "    <tr>\n",
       "      <th>2</th>\n",
       "      <td>3</td>\n",
       "      <td>407</td>\n",
       "      <td>13 Little Blue Envelopes (Little Blue Envelope...</td>\n",
       "      <td>322</td>\n",
       "      <td>2010-12-21</td>\n",
       "      <td>135</td>\n",
       "    </tr>\n",
       "    <tr>\n",
       "      <th>3</th>\n",
       "      <td>4</td>\n",
       "      <td>82</td>\n",
       "      <td>1491: New Revelations of the Americas Before C...</td>\n",
       "      <td>541</td>\n",
       "      <td>2006-10-10</td>\n",
       "      <td>309</td>\n",
       "    </tr>\n",
       "    <tr>\n",
       "      <th>4</th>\n",
       "      <td>5</td>\n",
       "      <td>125</td>\n",
       "      <td>1776</td>\n",
       "      <td>386</td>\n",
       "      <td>2006-07-04</td>\n",
       "      <td>268</td>\n",
       "    </tr>\n",
       "  </tbody>\n",
       "</table>\n",
       "</div>"
      ],
      "text/plain": [
       "   book_id  author_id                                              title  \\\n",
       "0        1        546                                       'Salem's Lot   \n",
       "1        2        465                 1 000 Places to See Before You Die   \n",
       "2        3        407  13 Little Blue Envelopes (Little Blue Envelope...   \n",
       "3        4         82  1491: New Revelations of the Americas Before C...   \n",
       "4        5        125                                               1776   \n",
       "\n",
       "   num_pages publication_date  publisher_id  \n",
       "0        594       2005-11-01            93  \n",
       "1        992       2003-05-22           336  \n",
       "2        322       2010-12-21           135  \n",
       "3        541       2006-10-10           309  \n",
       "4        386       2006-07-04           268  "
      ]
     },
     "metadata": {},
     "output_type": "display_data"
    },
    {
     "data": {
      "text/html": [
       "<div>\n",
       "<style scoped>\n",
       "    .dataframe tbody tr th:only-of-type {\n",
       "        vertical-align: middle;\n",
       "    }\n",
       "\n",
       "    .dataframe tbody tr th {\n",
       "        vertical-align: top;\n",
       "    }\n",
       "\n",
       "    .dataframe thead th {\n",
       "        text-align: right;\n",
       "    }\n",
       "</style>\n",
       "<table border=\"1\" class=\"dataframe\">\n",
       "  <thead>\n",
       "    <tr style=\"text-align: right;\">\n",
       "      <th></th>\n",
       "      <th>author_id</th>\n",
       "      <th>author</th>\n",
       "    </tr>\n",
       "  </thead>\n",
       "  <tbody>\n",
       "    <tr>\n",
       "      <th>0</th>\n",
       "      <td>1</td>\n",
       "      <td>A.S. Byatt</td>\n",
       "    </tr>\n",
       "    <tr>\n",
       "      <th>1</th>\n",
       "      <td>2</td>\n",
       "      <td>Aesop/Laura Harris/Laura Gibbs</td>\n",
       "    </tr>\n",
       "    <tr>\n",
       "      <th>2</th>\n",
       "      <td>3</td>\n",
       "      <td>Agatha Christie</td>\n",
       "    </tr>\n",
       "    <tr>\n",
       "      <th>3</th>\n",
       "      <td>4</td>\n",
       "      <td>Alan Brennert</td>\n",
       "    </tr>\n",
       "    <tr>\n",
       "      <th>4</th>\n",
       "      <td>5</td>\n",
       "      <td>Alan Moore/David   Lloyd</td>\n",
       "    </tr>\n",
       "  </tbody>\n",
       "</table>\n",
       "</div>"
      ],
      "text/plain": [
       "   author_id                          author\n",
       "0          1                      A.S. Byatt\n",
       "1          2  Aesop/Laura Harris/Laura Gibbs\n",
       "2          3                 Agatha Christie\n",
       "3          4                   Alan Brennert\n",
       "4          5        Alan Moore/David   Lloyd"
      ]
     },
     "metadata": {},
     "output_type": "display_data"
    },
    {
     "data": {
      "text/html": [
       "<div>\n",
       "<style scoped>\n",
       "    .dataframe tbody tr th:only-of-type {\n",
       "        vertical-align: middle;\n",
       "    }\n",
       "\n",
       "    .dataframe tbody tr th {\n",
       "        vertical-align: top;\n",
       "    }\n",
       "\n",
       "    .dataframe thead th {\n",
       "        text-align: right;\n",
       "    }\n",
       "</style>\n",
       "<table border=\"1\" class=\"dataframe\">\n",
       "  <thead>\n",
       "    <tr style=\"text-align: right;\">\n",
       "      <th></th>\n",
       "      <th>publisher_id</th>\n",
       "      <th>publisher</th>\n",
       "    </tr>\n",
       "  </thead>\n",
       "  <tbody>\n",
       "    <tr>\n",
       "      <th>0</th>\n",
       "      <td>1</td>\n",
       "      <td>Ace</td>\n",
       "    </tr>\n",
       "    <tr>\n",
       "      <th>1</th>\n",
       "      <td>2</td>\n",
       "      <td>Ace Book</td>\n",
       "    </tr>\n",
       "    <tr>\n",
       "      <th>2</th>\n",
       "      <td>3</td>\n",
       "      <td>Ace Books</td>\n",
       "    </tr>\n",
       "    <tr>\n",
       "      <th>3</th>\n",
       "      <td>4</td>\n",
       "      <td>Ace Hardcover</td>\n",
       "    </tr>\n",
       "    <tr>\n",
       "      <th>4</th>\n",
       "      <td>5</td>\n",
       "      <td>Addison Wesley Publishing Company</td>\n",
       "    </tr>\n",
       "  </tbody>\n",
       "</table>\n",
       "</div>"
      ],
      "text/plain": [
       "   publisher_id                          publisher\n",
       "0             1                                Ace\n",
       "1             2                           Ace Book\n",
       "2             3                          Ace Books\n",
       "3             4                      Ace Hardcover\n",
       "4             5  Addison Wesley Publishing Company"
      ]
     },
     "metadata": {},
     "output_type": "display_data"
    },
    {
     "data": {
      "text/html": [
       "<div>\n",
       "<style scoped>\n",
       "    .dataframe tbody tr th:only-of-type {\n",
       "        vertical-align: middle;\n",
       "    }\n",
       "\n",
       "    .dataframe tbody tr th {\n",
       "        vertical-align: top;\n",
       "    }\n",
       "\n",
       "    .dataframe thead th {\n",
       "        text-align: right;\n",
       "    }\n",
       "</style>\n",
       "<table border=\"1\" class=\"dataframe\">\n",
       "  <thead>\n",
       "    <tr style=\"text-align: right;\">\n",
       "      <th></th>\n",
       "      <th>rating_id</th>\n",
       "      <th>book_id</th>\n",
       "      <th>username</th>\n",
       "      <th>rating</th>\n",
       "    </tr>\n",
       "  </thead>\n",
       "  <tbody>\n",
       "    <tr>\n",
       "      <th>0</th>\n",
       "      <td>1</td>\n",
       "      <td>1</td>\n",
       "      <td>ryanfranco</td>\n",
       "      <td>4</td>\n",
       "    </tr>\n",
       "    <tr>\n",
       "      <th>1</th>\n",
       "      <td>2</td>\n",
       "      <td>1</td>\n",
       "      <td>grantpatricia</td>\n",
       "      <td>2</td>\n",
       "    </tr>\n",
       "    <tr>\n",
       "      <th>2</th>\n",
       "      <td>3</td>\n",
       "      <td>1</td>\n",
       "      <td>brandtandrea</td>\n",
       "      <td>5</td>\n",
       "    </tr>\n",
       "    <tr>\n",
       "      <th>3</th>\n",
       "      <td>4</td>\n",
       "      <td>2</td>\n",
       "      <td>lorichen</td>\n",
       "      <td>3</td>\n",
       "    </tr>\n",
       "    <tr>\n",
       "      <th>4</th>\n",
       "      <td>5</td>\n",
       "      <td>2</td>\n",
       "      <td>mariokeller</td>\n",
       "      <td>2</td>\n",
       "    </tr>\n",
       "  </tbody>\n",
       "</table>\n",
       "</div>"
      ],
      "text/plain": [
       "   rating_id  book_id       username  rating\n",
       "0          1        1     ryanfranco       4\n",
       "1          2        1  grantpatricia       2\n",
       "2          3        1   brandtandrea       5\n",
       "3          4        2       lorichen       3\n",
       "4          5        2    mariokeller       2"
      ]
     },
     "metadata": {},
     "output_type": "display_data"
    },
    {
     "data": {
      "text/html": [
       "<div>\n",
       "<style scoped>\n",
       "    .dataframe tbody tr th:only-of-type {\n",
       "        vertical-align: middle;\n",
       "    }\n",
       "\n",
       "    .dataframe tbody tr th {\n",
       "        vertical-align: top;\n",
       "    }\n",
       "\n",
       "    .dataframe thead th {\n",
       "        text-align: right;\n",
       "    }\n",
       "</style>\n",
       "<table border=\"1\" class=\"dataframe\">\n",
       "  <thead>\n",
       "    <tr style=\"text-align: right;\">\n",
       "      <th></th>\n",
       "      <th>review_id</th>\n",
       "      <th>book_id</th>\n",
       "      <th>username</th>\n",
       "      <th>text</th>\n",
       "    </tr>\n",
       "  </thead>\n",
       "  <tbody>\n",
       "    <tr>\n",
       "      <th>0</th>\n",
       "      <td>1</td>\n",
       "      <td>1</td>\n",
       "      <td>brandtandrea</td>\n",
       "      <td>Mention society tell send professor analysis. ...</td>\n",
       "    </tr>\n",
       "    <tr>\n",
       "      <th>1</th>\n",
       "      <td>2</td>\n",
       "      <td>1</td>\n",
       "      <td>ryanfranco</td>\n",
       "      <td>Foot glass pretty audience hit themselves. Amo...</td>\n",
       "    </tr>\n",
       "    <tr>\n",
       "      <th>2</th>\n",
       "      <td>3</td>\n",
       "      <td>2</td>\n",
       "      <td>lorichen</td>\n",
       "      <td>Listen treat keep worry. Miss husband tax but ...</td>\n",
       "    </tr>\n",
       "    <tr>\n",
       "      <th>3</th>\n",
       "      <td>4</td>\n",
       "      <td>3</td>\n",
       "      <td>johnsonamanda</td>\n",
       "      <td>Finally month interesting blue could nature cu...</td>\n",
       "    </tr>\n",
       "    <tr>\n",
       "      <th>4</th>\n",
       "      <td>5</td>\n",
       "      <td>3</td>\n",
       "      <td>scotttamara</td>\n",
       "      <td>Nation purpose heavy give wait song will. List...</td>\n",
       "    </tr>\n",
       "  </tbody>\n",
       "</table>\n",
       "</div>"
      ],
      "text/plain": [
       "   review_id  book_id       username  \\\n",
       "0          1        1   brandtandrea   \n",
       "1          2        1     ryanfranco   \n",
       "2          3        2       lorichen   \n",
       "3          4        3  johnsonamanda   \n",
       "4          5        3    scotttamara   \n",
       "\n",
       "                                                text  \n",
       "0  Mention society tell send professor analysis. ...  \n",
       "1  Foot glass pretty audience hit themselves. Amo...  \n",
       "2  Listen treat keep worry. Miss husband tax but ...  \n",
       "3  Finally month interesting blue could nature cu...  \n",
       "4  Nation purpose heavy give wait song will. List...  "
      ]
     },
     "metadata": {},
     "output_type": "display_data"
    }
   ],
   "source": [
    "#посмотрим таблицы\n",
    "table = books, authors, publishers, ratings, reviews\n",
    "\n",
    "for row in table:\n",
    "    display(row.head())"
   ]
  },
  {
   "cell_type": "markdown",
   "metadata": {},
   "source": [
    "# Предобработка данных"
   ]
  },
  {
   "cell_type": "code",
   "execution_count": 8,
   "metadata": {},
   "outputs": [
    {
     "name": "stdout",
     "output_type": "stream",
     "text": [
      "<class 'pandas.core.frame.DataFrame'>\n",
      "RangeIndex: 1000 entries, 0 to 999\n",
      "Data columns (total 6 columns):\n",
      " #   Column            Non-Null Count  Dtype \n",
      "---  ------            --------------  ----- \n",
      " 0   book_id           1000 non-null   int64 \n",
      " 1   author_id         1000 non-null   int64 \n",
      " 2   title             1000 non-null   object\n",
      " 3   num_pages         1000 non-null   int64 \n",
      " 4   publication_date  1000 non-null   object\n",
      " 5   publisher_id      1000 non-null   int64 \n",
      "dtypes: int64(4), object(2)\n",
      "memory usage: 47.0+ KB\n",
      "<class 'pandas.core.frame.DataFrame'>\n",
      "RangeIndex: 636 entries, 0 to 635\n",
      "Data columns (total 2 columns):\n",
      " #   Column     Non-Null Count  Dtype \n",
      "---  ------     --------------  ----- \n",
      " 0   author_id  636 non-null    int64 \n",
      " 1   author     636 non-null    object\n",
      "dtypes: int64(1), object(1)\n",
      "memory usage: 10.1+ KB\n",
      "<class 'pandas.core.frame.DataFrame'>\n",
      "RangeIndex: 340 entries, 0 to 339\n",
      "Data columns (total 2 columns):\n",
      " #   Column        Non-Null Count  Dtype \n",
      "---  ------        --------------  ----- \n",
      " 0   publisher_id  340 non-null    int64 \n",
      " 1   publisher     340 non-null    object\n",
      "dtypes: int64(1), object(1)\n",
      "memory usage: 5.4+ KB\n",
      "<class 'pandas.core.frame.DataFrame'>\n",
      "RangeIndex: 6456 entries, 0 to 6455\n",
      "Data columns (total 4 columns):\n",
      " #   Column     Non-Null Count  Dtype \n",
      "---  ------     --------------  ----- \n",
      " 0   rating_id  6456 non-null   int64 \n",
      " 1   book_id    6456 non-null   int64 \n",
      " 2   username   6456 non-null   object\n",
      " 3   rating     6456 non-null   int64 \n",
      "dtypes: int64(3), object(1)\n",
      "memory usage: 201.9+ KB\n",
      "<class 'pandas.core.frame.DataFrame'>\n",
      "RangeIndex: 2793 entries, 0 to 2792\n",
      "Data columns (total 4 columns):\n",
      " #   Column     Non-Null Count  Dtype \n",
      "---  ------     --------------  ----- \n",
      " 0   review_id  2793 non-null   int64 \n",
      " 1   book_id    2793 non-null   int64 \n",
      " 2   username   2793 non-null   object\n",
      " 3   text       2793 non-null   object\n",
      "dtypes: int64(2), object(2)\n",
      "memory usage: 87.4+ KB\n"
     ]
    }
   ],
   "source": [
    "#посмотрим информацию по колонкам\n",
    "table = books, authors, publishers, ratings, reviews\n",
    "\n",
    "for row in table:\n",
    "    row.info()"
   ]
  },
  {
   "cell_type": "code",
   "execution_count": 9,
   "metadata": {},
   "outputs": [],
   "source": [
    "#преобразуем дату в date\n",
    "books['publication_date'] = pd.to_datetime(books['publication_date'])"
   ]
  },
  {
   "cell_type": "code",
   "execution_count": 10,
   "metadata": {},
   "outputs": [
    {
     "name": "stdout",
     "output_type": "stream",
     "text": [
      "book_id             0\n",
      "author_id           0\n",
      "title               0\n",
      "num_pages           0\n",
      "publication_date    0\n",
      "publisher_id        0\n",
      "dtype: int64\n",
      "author_id    0\n",
      "author       0\n",
      "dtype: int64\n",
      "publisher_id    0\n",
      "publisher       0\n",
      "dtype: int64\n",
      "rating_id    0\n",
      "book_id      0\n",
      "username     0\n",
      "rating       0\n",
      "dtype: int64\n",
      "review_id    0\n",
      "book_id      0\n",
      "username     0\n",
      "text         0\n",
      "dtype: int64\n"
     ]
    }
   ],
   "source": [
    "#проверим на пропуски\n",
    "table = books, authors, publishers, ratings, reviews\n",
    "\n",
    "for row in table:\n",
    "    print(row.isna().sum())"
   ]
  },
  {
   "cell_type": "markdown",
   "metadata": {},
   "source": [
    "пропусков нет"
   ]
  },
  {
   "cell_type": "code",
   "execution_count": 11,
   "metadata": {},
   "outputs": [
    {
     "name": "stdout",
     "output_type": "stream",
     "text": [
      "Кол-во дубликатов - 0\n",
      "Кол-во дубликатов - 0\n",
      "Кол-во дубликатов - 0\n",
      "Кол-во дубликатов - 0\n",
      "Кол-во дубликатов - 0\n"
     ]
    }
   ],
   "source": [
    "#проверим на дубликаты\n",
    "table = books, authors, publishers, ratings, reviews\n",
    "\n",
    "for row in table:\n",
    "    print('Кол-во дубликатов -', row.duplicated().sum())"
   ]
  },
  {
   "cell_type": "markdown",
   "metadata": {},
   "source": [
    "Дубликатов нет"
   ]
  },
  {
   "cell_type": "code",
   "execution_count": 12,
   "metadata": {},
   "outputs": [
    {
     "name": "stdout",
     "output_type": "stream",
     "text": [
      "           book_id    author_id   num_pages  publisher_id\n",
      "count  1000.000000  1000.000000  1000.00000   1000.000000\n",
      "mean    500.500000   320.417000   389.11100    171.270000\n",
      "std     288.819436   181.620172   229.39014     99.082685\n",
      "min       1.000000     1.000000    14.00000      1.000000\n",
      "25%     250.750000   162.750000   249.00000     83.000000\n",
      "50%     500.500000   316.500000   352.00000    177.500000\n",
      "75%     750.250000   481.000000   453.00000    258.000000\n",
      "max    1000.000000   636.000000  2690.00000    340.000000\n",
      "        author_id\n",
      "count  636.000000\n",
      "mean   318.500000\n",
      "std    183.741666\n",
      "min      1.000000\n",
      "25%    159.750000\n",
      "50%    318.500000\n",
      "75%    477.250000\n",
      "max    636.000000\n",
      "       publisher_id\n",
      "count    340.000000\n",
      "mean     170.500000\n",
      "std       98.293777\n",
      "min        1.000000\n",
      "25%       85.750000\n",
      "50%      170.500000\n",
      "75%      255.250000\n",
      "max      340.000000\n",
      "         rating_id      book_id       rating\n",
      "count  6456.000000  6456.000000  6456.000000\n",
      "mean   3228.500000   510.574195     3.928284\n",
      "std    1863.831001   284.141636     0.943303\n",
      "min       1.000000     1.000000     1.000000\n",
      "25%    1614.750000   291.000000     3.000000\n",
      "50%    3228.500000   506.000000     4.000000\n",
      "75%    4842.250000   750.000000     5.000000\n",
      "max    6456.000000  1000.000000     5.000000\n",
      "         review_id      book_id\n",
      "count  2793.000000  2793.000000\n",
      "mean   1397.000000   504.693161\n",
      "std     806.413976   288.472931\n",
      "min       1.000000     1.000000\n",
      "25%     699.000000   259.000000\n",
      "50%    1397.000000   505.000000\n",
      "75%    2095.000000   753.000000\n",
      "max    2793.000000  1000.000000\n"
     ]
    }
   ],
   "source": [
    "#проверим на аномальные значения\n",
    "table = books, authors, publishers, ratings, reviews\n",
    "\n",
    "for row in table:\n",
    "    print(row.describe())"
   ]
  },
  {
   "cell_type": "markdown",
   "metadata": {},
   "source": [
    "**Аномалий не замечено, рейтиниги разумные, ревью тоже. Данные в хорошем состоянии достались нам**"
   ]
  },
  {
   "cell_type": "markdown",
   "metadata": {},
   "source": [
    "# Cколько книг вышло после 1 января 2000 года"
   ]
  },
  {
   "cell_type": "code",
   "execution_count": 13,
   "metadata": {},
   "outputs": [
    {
     "data": {
      "text/plain": [
       "819"
      ]
     },
     "execution_count": 13,
     "metadata": {},
     "output_type": "execute_result"
    }
   ],
   "source": [
    "#посчитаем, сколько книг вышло после 1 января 2000 года\n",
    "task_one = ''' \n",
    "SELECT COUNT(book_id) \n",
    "FROM books\n",
    "WHERE publication_date > '2000-01-01'\n",
    "'''\n",
    "task_one = pd.io.sql.read_sql(task_one, con = engine)\n",
    "\n",
    "task_one.iloc[0,0]"
   ]
  },
  {
   "cell_type": "markdown",
   "id": "7e49b516",
   "metadata": {},
   "source": [
    "**После 1 января 2000 года вышло 819 книг**"
   ]
  },
  {
   "cell_type": "markdown",
   "metadata": {},
   "source": [
    "# Посчитаем количество обзоров и среднюю оценку для каждой из книг"
   ]
  },
  {
   "cell_type": "code",
   "execution_count": 14,
   "id": "f9058070",
   "metadata": {},
   "outputs": [
    {
     "data": {
      "text/html": [
       "<div>\n",
       "<style scoped>\n",
       "    .dataframe tbody tr th:only-of-type {\n",
       "        vertical-align: middle;\n",
       "    }\n",
       "\n",
       "    .dataframe tbody tr th {\n",
       "        vertical-align: top;\n",
       "    }\n",
       "\n",
       "    .dataframe thead th {\n",
       "        text-align: right;\n",
       "    }\n",
       "</style>\n",
       "<table border=\"1\" class=\"dataframe\">\n",
       "  <thead>\n",
       "    <tr style=\"text-align: right;\">\n",
       "      <th></th>\n",
       "      <th>title</th>\n",
       "      <th>book_id</th>\n",
       "      <th>avg_rating</th>\n",
       "      <th>cnt_reviews</th>\n",
       "    </tr>\n",
       "  </thead>\n",
       "  <tbody>\n",
       "    <tr>\n",
       "      <th>911</th>\n",
       "      <td>A Dirty Job (Grim Reaper  #1)</td>\n",
       "      <td>17</td>\n",
       "      <td>5.00</td>\n",
       "      <td>4.0</td>\n",
       "    </tr>\n",
       "    <tr>\n",
       "      <th>320</th>\n",
       "      <td>Moneyball: The Art of Winning an Unfair Game</td>\n",
       "      <td>444</td>\n",
       "      <td>5.00</td>\n",
       "      <td>3.0</td>\n",
       "    </tr>\n",
       "    <tr>\n",
       "      <th>648</th>\n",
       "      <td>School's Out—Forever (Maximum Ride  #2)</td>\n",
       "      <td>553</td>\n",
       "      <td>5.00</td>\n",
       "      <td>3.0</td>\n",
       "    </tr>\n",
       "    <tr>\n",
       "      <th>28</th>\n",
       "      <td>Light in August</td>\n",
       "      <td>390</td>\n",
       "      <td>5.00</td>\n",
       "      <td>2.0</td>\n",
       "    </tr>\n",
       "    <tr>\n",
       "      <th>44</th>\n",
       "      <td>Act of Treason (Mitch Rapp  #9)</td>\n",
       "      <td>57</td>\n",
       "      <td>5.00</td>\n",
       "      <td>2.0</td>\n",
       "    </tr>\n",
       "    <tr>\n",
       "      <th>...</th>\n",
       "      <td>...</td>\n",
       "      <td>...</td>\n",
       "      <td>...</td>\n",
       "      <td>...</td>\n",
       "    </tr>\n",
       "    <tr>\n",
       "      <th>446</th>\n",
       "      <td>The World Is Flat: A Brief History of the Twen...</td>\n",
       "      <td>915</td>\n",
       "      <td>2.25</td>\n",
       "      <td>3.0</td>\n",
       "    </tr>\n",
       "    <tr>\n",
       "      <th>900</th>\n",
       "      <td>Drowning Ruth</td>\n",
       "      <td>202</td>\n",
       "      <td>2.00</td>\n",
       "      <td>3.0</td>\n",
       "    </tr>\n",
       "    <tr>\n",
       "      <th>711</th>\n",
       "      <td>His Excellency: George Washington</td>\n",
       "      <td>316</td>\n",
       "      <td>2.00</td>\n",
       "      <td>2.0</td>\n",
       "    </tr>\n",
       "    <tr>\n",
       "      <th>960</th>\n",
       "      <td>Junky</td>\n",
       "      <td>371</td>\n",
       "      <td>2.00</td>\n",
       "      <td>2.0</td>\n",
       "    </tr>\n",
       "    <tr>\n",
       "      <th>314</th>\n",
       "      <td>Harvesting the Heart</td>\n",
       "      <td>303</td>\n",
       "      <td>1.50</td>\n",
       "      <td>2.0</td>\n",
       "    </tr>\n",
       "  </tbody>\n",
       "</table>\n",
       "<p>1000 rows × 4 columns</p>\n",
       "</div>"
      ],
      "text/plain": [
       "                                                 title  book_id  avg_rating  \\\n",
       "911                      A Dirty Job (Grim Reaper  #1)       17        5.00   \n",
       "320       Moneyball: The Art of Winning an Unfair Game      444        5.00   \n",
       "648            School's Out—Forever (Maximum Ride  #2)      553        5.00   \n",
       "28                                     Light in August      390        5.00   \n",
       "44                     Act of Treason (Mitch Rapp  #9)       57        5.00   \n",
       "..                                                 ...      ...         ...   \n",
       "446  The World Is Flat: A Brief History of the Twen...      915        2.25   \n",
       "900                                      Drowning Ruth      202        2.00   \n",
       "711                  His Excellency: George Washington      316        2.00   \n",
       "960                                              Junky      371        2.00   \n",
       "314                               Harvesting the Heart      303        1.50   \n",
       "\n",
       "     cnt_reviews  \n",
       "911          4.0  \n",
       "320          3.0  \n",
       "648          3.0  \n",
       "28           2.0  \n",
       "44           2.0  \n",
       "..           ...  \n",
       "446          3.0  \n",
       "900          3.0  \n",
       "711          2.0  \n",
       "960          2.0  \n",
       "314          2.0  \n",
       "\n",
       "[1000 rows x 4 columns]"
      ]
     },
     "execution_count": 14,
     "metadata": {},
     "output_type": "execute_result"
    }
   ],
   "source": [
    "#для каждой книги посчитаем количество обзоров и среднюю оценку\n",
    "\n",
    "task_two = '''\n",
    "WITH rating AS (\n",
    "        SELECT book_id,\n",
    "        ROUND(AVG(rating), 2) AS avg_rating\n",
    "        FROM ratings \n",
    "        GROUP BY book_id),\n",
    "\n",
    "review AS (\n",
    "        SELECT book_id,\n",
    "        COUNT(review_id) AS cnt_reviews\n",
    "        FROM reviews \n",
    "        GROUP BY book_id)\n",
    "\n",
    "SELECT b.title,\n",
    "       b.book_id,\n",
    "       r.avg_rating,\n",
    "       re.cnt_reviews\n",
    "FROM books AS b \n",
    "LEFT JOIN rating AS r ON b.book_id=r.book_id\n",
    "LEFT JOIN review AS re ON b.book_id=re.book_id\n",
    "'''\n",
    "\n",
    "task_two = pd.io.sql.read_sql(task_two, con = engine)\n",
    "\n",
    "task_two.sort_values(by=['avg_rating', 'cnt_reviews'], ascending=False)"
   ]
  },
  {
   "cell_type": "markdown",
   "metadata": {},
   "source": [
    "**Вывели для каждой книги количество обзоров и среднюю оценку**\n",
    "\n",
    "- **Топ-5** по рейтингу:\n",
    "\n",
    "  - A Dirty Job (Grim Reaper #1) 5.00\n",
    "  - Moneyball: The Art of Winning an Unfair Game 5.00\n",
    "  - School's Out—Forever (Maximum Ride #2) 5.00\n",
    "  - Light in August 5.00\n",
    "  - Act of Treason (Mitch Rapp #9) 5.00"
   ]
  },
  {
   "cell_type": "markdown",
   "metadata": {},
   "source": [
    "# Определим издательство, которое выпустило наибольшее число книг толще 50 страниц"
   ]
  },
  {
   "cell_type": "markdown",
   "metadata": {},
   "source": [
    "<b>С помощью данного кода мы сможем исключить из анализа брошюры</b>"
   ]
  },
  {
   "cell_type": "code",
   "execution_count": 15,
   "id": "72e58569",
   "metadata": {},
   "outputs": [
    {
     "data": {
      "text/plain": [
       "'Penguin Books'"
      ]
     },
     "execution_count": 15,
     "metadata": {},
     "output_type": "execute_result"
    }
   ],
   "source": [
    "#найдем издательство, которое выпустило наибольшее число книг толще 50 страниц — так вы исключите из анализа брошюры\n",
    "\n",
    "task_free = '''\n",
    "WITH book AS (\n",
    "            SELECT publisher_id,\n",
    "            COUNT(book_id) AS cnt_book\n",
    "            FROM books\n",
    "            WHERE num_pages > 50\n",
    "            GROUP BY publisher_id)\n",
    "\n",
    "SELECT publisher\n",
    "FROM book AS b\n",
    "JOIN publishers AS pub ON b.publisher_id=pub.publisher_id\n",
    "ORDER BY cnt_book DESC\n",
    "LIMIT 1\n",
    "'''\n",
    "task_free = pd.io.sql.read_sql(task_free, con = engine)\n",
    "\n",
    "task_free.iloc[0,0]"
   ]
  },
  {
   "cell_type": "markdown",
   "id": "adef7ac8",
   "metadata": {},
   "source": [
    "**Издательство, которое выпустило наибольшее число книг толще 50 страниц - Penguin Books**"
   ]
  },
  {
   "cell_type": "markdown",
   "metadata": {},
   "source": [
    "# Определим автора с самой высокой средней оценкой книг"
   ]
  },
  {
   "cell_type": "code",
   "execution_count": 16,
   "id": "622731b4",
   "metadata": {},
   "outputs": [
    {
     "data": {
      "text/plain": [
       "'J.K. Rowling/Mary GrandPré'"
      ]
     },
     "execution_count": 16,
     "metadata": {},
     "output_type": "execute_result"
    }
   ],
   "source": [
    "#определим автора с самой высокой средней оценкой книг, учтем только книги с 50 и более оценкам\n",
    "task_four = '''\n",
    "WITH rating AS (\n",
    "                SELECT book_id,\n",
    "                COUNT(rating_id) AS cnt_rating_id,\n",
    "                ROUND(AVG(rating), 2) AS avg_rating\n",
    "                FROM ratings\n",
    "                GROUP BY book_id\n",
    "                HAVING COUNT(rating_id) >= 50\n",
    "                ORDER BY avg_rating DESC)\n",
    "       \n",
    "SELECT aut.author,\n",
    "       ROUNd(AVG(aut.avg_rating), 2) as avg_rating_final\n",
    "FROM  (SELECT author, \n",
    "              avg_rating\n",
    "       FROM books AS b\n",
    "       JOIN rating AS rat ON b.book_id=rat.book_id\n",
    "       JOIN authors AS a ON b.author_id=a.author_id) AS aut\n",
    "GROUP BY aut.author\n",
    "LIMIT 1\n",
    "'''\n",
    "task_four = pd.io.sql.read_sql(task_four, con = engine)\n",
    "\n",
    "task_four.iloc[0,0]"
   ]
  },
  {
   "cell_type": "markdown",
   "id": "760d0638",
   "metadata": {},
   "source": [
    "**Автор с самой высокой средней оценкой книг - JK Rowling/Mary GrandPré**"
   ]
  },
  {
   "cell_type": "markdown",
   "metadata": {},
   "source": [
    "# Посчитаем среднее количество обзоров от пользователей, которые поставили больше 50 оценок"
   ]
  },
  {
   "cell_type": "code",
   "execution_count": 17,
   "id": "0776df27",
   "metadata": {},
   "outputs": [
    {
     "data": {
      "text/plain": [
       "24.33"
      ]
     },
     "execution_count": 17,
     "metadata": {},
     "output_type": "execute_result"
    }
   ],
   "source": [
    "#посчитаем среднее количество обзоров от пользователей, которые поставили больше 50 оценок\n",
    "\n",
    "task_five = '''\n",
    "WITH rating AS(\n",
    "            SELECT username,\n",
    "            COUNT(rating_id) AS cnt_rating_id\n",
    "            FROM ratings\n",
    "            GROUP BY username\n",
    "            HAVING COUNT(rating_id) > 50)\n",
    "\n",
    "SELECT ROUND(AVG(us.cnt_review_id),2)\n",
    "FROM  (SELECT rev.username,\n",
    "              COUNT(review_id) AS cnt_review_id\n",
    "       FROM rating AS rat\n",
    "       JOIN reviews AS rev ON rat.username = rev.username\n",
    "       GROUP BY rev.username) AS us\n",
    "'''\n",
    "\n",
    "task_five = pd.io.sql.read_sql(task_five, con = engine)\n",
    "\n",
    "task_five.iloc[0,0]"
   ]
  },
  {
   "cell_type": "markdown",
   "id": "5affe650",
   "metadata": {},
   "source": [
    "**Cреднее количество обзоров от пользователей, которые поставили больше 50 оценок - 24,33**"
   ]
  },
  {
   "cell_type": "markdown",
   "metadata": {},
   "source": [
    "**Итоговые выводы:**\n",
    "\n",
    " - После 1 января 2000 года было выпущено 819 книг.\n",
    "\n",
    " - **Топ-5** по рейтингу:\n",
    "\n",
    "  - A Dirty Job (Grim Reaper #1) 5.00\n",
    "  - Moneyball: The Art of Winning an Unfair Game 5.00\n",
    "  - School's Out—Forever (Maximum Ride #2) 5.00\n",
    "  - Light in August 5.00\n",
    "  - Act of Treason (Mitch Rapp #9) 5.00\n",
    "  \n",
    " - Издательство Penguin Books - выпустило наибольше число книг толще 50 страниц.\n",
    "\n",
    " - Автор с самой высокой средней оценкой книг - JK Rowling/Mary GrandPré.\n",
    "\n",
    " - Cреднее количество обзоров от пользователей, которые поставили больше 50 оценок - 24,33."
   ]
  }
 ],
 "metadata": {
  "ExecuteTimeLog": [
   {
    "duration": 8796,
    "start_time": "2023-04-08T17:47:25.096Z"
   },
   {
    "duration": 66,
    "start_time": "2023-04-08T17:48:30.771Z"
   },
   {
    "duration": 3,
    "start_time": "2023-04-08T17:56:50.693Z"
   },
   {
    "duration": 362,
    "start_time": "2023-04-08T17:56:52.673Z"
   },
   {
    "duration": 99,
    "start_time": "2023-04-08T17:59:20.046Z"
   },
   {
    "duration": 109,
    "start_time": "2023-04-08T17:59:39.889Z"
   },
   {
    "duration": 87,
    "start_time": "2023-04-08T18:00:09.949Z"
   },
   {
    "duration": 76,
    "start_time": "2023-04-08T18:00:54.676Z"
   },
   {
    "duration": 140,
    "start_time": "2023-04-08T18:00:55.459Z"
   },
   {
    "duration": 100,
    "start_time": "2023-04-08T18:00:56.026Z"
   },
   {
    "duration": 25,
    "start_time": "2023-04-08T18:01:08.024Z"
   },
   {
    "duration": 11647,
    "start_time": "2023-04-09T13:49:26.987Z"
   },
   {
    "duration": 396,
    "start_time": "2023-04-09T13:49:38.636Z"
   },
   {
    "duration": 113,
    "start_time": "2023-04-09T13:49:39.035Z"
   },
   {
    "duration": 77,
    "start_time": "2023-04-09T13:49:39.156Z"
   },
   {
    "duration": 127,
    "start_time": "2023-04-09T13:49:39.236Z"
   },
   {
    "duration": 89,
    "start_time": "2023-04-09T13:49:39.366Z"
   },
   {
    "duration": 49,
    "start_time": "2023-04-09T13:49:39.457Z"
   },
   {
    "duration": 12871,
    "start_time": "2023-04-09T14:11:31.234Z"
   },
   {
    "duration": 271,
    "start_time": "2023-04-09T14:11:44.107Z"
   },
   {
    "duration": 75,
    "start_time": "2023-04-09T14:11:44.380Z"
   },
   {
    "duration": 78,
    "start_time": "2023-04-09T14:11:44.457Z"
   },
   {
    "duration": 97,
    "start_time": "2023-04-09T14:11:44.537Z"
   },
   {
    "duration": 107,
    "start_time": "2023-04-09T14:11:44.637Z"
   },
   {
    "duration": 52,
    "start_time": "2023-04-09T14:11:44.746Z"
   },
   {
    "duration": 55,
    "start_time": "2023-04-09T14:11:44.800Z"
   },
   {
    "duration": 14,
    "start_time": "2023-04-09T14:11:44.863Z"
   },
   {
    "duration": 9,
    "start_time": "2023-04-09T14:11:44.880Z"
   },
   {
    "duration": 16,
    "start_time": "2023-04-09T14:11:44.891Z"
   },
   {
    "duration": 10,
    "start_time": "2023-04-09T14:11:44.909Z"
   },
   {
    "duration": 57,
    "start_time": "2023-04-09T14:11:44.921Z"
   },
   {
    "duration": 82,
    "start_time": "2023-04-09T14:18:54.328Z"
   },
   {
    "duration": 7,
    "start_time": "2023-04-09T14:19:00.709Z"
   },
   {
    "duration": 9,
    "start_time": "2023-04-09T14:19:05.976Z"
   },
   {
    "duration": 31,
    "start_time": "2023-04-09T14:19:08.973Z"
   },
   {
    "duration": 7,
    "start_time": "2023-04-09T14:20:12.500Z"
   },
   {
    "duration": 15,
    "start_time": "2023-04-09T14:20:17.971Z"
   },
   {
    "duration": 20,
    "start_time": "2023-04-09T14:22:39.556Z"
   },
   {
    "duration": 11,
    "start_time": "2023-04-09T14:22:43.014Z"
   },
   {
    "duration": 8800,
    "start_time": "2023-04-09T14:39:48.243Z"
   },
   {
    "duration": 289,
    "start_time": "2023-04-09T14:39:57.045Z"
   },
   {
    "duration": 65,
    "start_time": "2023-04-09T14:39:57.336Z"
   },
   {
    "duration": 66,
    "start_time": "2023-04-09T14:39:57.403Z"
   },
   {
    "duration": 91,
    "start_time": "2023-04-09T14:39:57.471Z"
   },
   {
    "duration": 79,
    "start_time": "2023-04-09T14:39:57.564Z"
   },
   {
    "duration": 34,
    "start_time": "2023-04-09T14:39:57.645Z"
   },
   {
    "duration": 37,
    "start_time": "2023-04-09T14:39:57.680Z"
   },
   {
    "duration": 31,
    "start_time": "2023-04-09T14:39:57.718Z"
   },
   {
    "duration": 11,
    "start_time": "2023-04-09T14:39:57.751Z"
   },
   {
    "duration": 26,
    "start_time": "2023-04-09T14:39:57.763Z"
   },
   {
    "duration": 60,
    "start_time": "2023-04-09T14:39:57.790Z"
   },
   {
    "duration": 9614,
    "start_time": "2023-04-09T14:41:52.570Z"
   },
   {
    "duration": 254,
    "start_time": "2023-04-09T14:42:02.186Z"
   },
   {
    "duration": 64,
    "start_time": "2023-04-09T14:42:02.442Z"
   },
   {
    "duration": 65,
    "start_time": "2023-04-09T14:42:02.507Z"
   },
   {
    "duration": 91,
    "start_time": "2023-04-09T14:42:02.574Z"
   },
   {
    "duration": 78,
    "start_time": "2023-04-09T14:42:02.667Z"
   },
   {
    "duration": 33,
    "start_time": "2023-04-09T14:42:02.746Z"
   },
   {
    "duration": 35,
    "start_time": "2023-04-09T14:42:02.781Z"
   },
   {
    "duration": 3,
    "start_time": "2023-04-09T14:42:02.818Z"
   },
   {
    "duration": 15,
    "start_time": "2023-04-09T14:42:02.848Z"
   },
   {
    "duration": 46,
    "start_time": "2023-04-09T14:42:02.866Z"
   },
   {
    "duration": 63,
    "start_time": "2023-04-09T14:42:02.914Z"
   },
   {
    "duration": 80,
    "start_time": "2023-04-09T14:42:02.978Z"
   },
   {
    "duration": 94,
    "start_time": "2023-04-09T14:42:03.060Z"
   },
   {
    "duration": 6,
    "start_time": "2023-04-09T14:42:03.156Z"
   },
   {
    "duration": 40,
    "start_time": "2023-04-09T14:42:03.163Z"
   },
   {
    "duration": 20,
    "start_time": "2023-04-09T14:42:03.205Z"
   },
   {
    "duration": 76,
    "start_time": "2023-04-09T14:42:03.227Z"
   },
   {
    "duration": 68,
    "start_time": "2023-04-09T14:42:03.304Z"
   },
   {
    "duration": 67,
    "start_time": "2023-04-09T14:42:03.374Z"
   },
   {
    "duration": 9283,
    "start_time": "2023-04-09T14:45:12.712Z"
   },
   {
    "duration": 248,
    "start_time": "2023-04-09T14:45:21.999Z"
   },
   {
    "duration": 65,
    "start_time": "2023-04-09T14:45:22.252Z"
   },
   {
    "duration": 65,
    "start_time": "2023-04-09T14:45:22.320Z"
   },
   {
    "duration": 97,
    "start_time": "2023-04-09T14:45:22.387Z"
   },
   {
    "duration": 80,
    "start_time": "2023-04-09T14:45:22.486Z"
   },
   {
    "duration": 33,
    "start_time": "2023-04-09T14:45:22.568Z"
   },
   {
    "duration": 49,
    "start_time": "2023-04-09T14:45:22.603Z"
   },
   {
    "duration": 4,
    "start_time": "2023-04-09T14:45:22.653Z"
   },
   {
    "duration": 14,
    "start_time": "2023-04-09T14:45:22.659Z"
   },
   {
    "duration": 15,
    "start_time": "2023-04-09T14:45:22.674Z"
   },
   {
    "duration": 83,
    "start_time": "2023-04-09T14:45:22.690Z"
   },
   {
    "duration": 65,
    "start_time": "2023-04-09T14:45:22.775Z"
   },
   {
    "duration": 87,
    "start_time": "2023-04-09T14:45:22.841Z"
   },
   {
    "duration": 95,
    "start_time": "2023-04-09T14:45:22.930Z"
   },
   {
    "duration": 0,
    "start_time": "2023-04-09T14:45:23.027Z"
   },
   {
    "duration": 0,
    "start_time": "2023-04-09T14:45:23.028Z"
   },
   {
    "duration": 0,
    "start_time": "2023-04-09T14:45:23.029Z"
   },
   {
    "duration": 0,
    "start_time": "2023-04-09T14:45:23.030Z"
   },
   {
    "duration": 0,
    "start_time": "2023-04-09T14:45:23.032Z"
   },
   {
    "duration": 8,
    "start_time": "2023-04-09T14:45:38.612Z"
   },
   {
    "duration": 10004,
    "start_time": "2023-04-09T14:46:20.598Z"
   },
   {
    "duration": 278,
    "start_time": "2023-04-09T14:46:30.605Z"
   },
   {
    "duration": 71,
    "start_time": "2023-04-09T14:46:30.884Z"
   },
   {
    "duration": 77,
    "start_time": "2023-04-09T14:46:30.957Z"
   },
   {
    "duration": 102,
    "start_time": "2023-04-09T14:46:31.038Z"
   },
   {
    "duration": 93,
    "start_time": "2023-04-09T14:46:31.142Z"
   },
   {
    "duration": 40,
    "start_time": "2023-04-09T14:46:31.237Z"
   },
   {
    "duration": 44,
    "start_time": "2023-04-09T14:46:31.278Z"
   },
   {
    "duration": 19,
    "start_time": "2023-04-09T14:46:31.324Z"
   },
   {
    "duration": 50,
    "start_time": "2023-04-09T14:46:31.344Z"
   },
   {
    "duration": 44,
    "start_time": "2023-04-09T14:46:31.396Z"
   },
   {
    "duration": 89,
    "start_time": "2023-04-09T14:46:31.442Z"
   },
   {
    "duration": 84,
    "start_time": "2023-04-09T14:46:31.533Z"
   },
   {
    "duration": 92,
    "start_time": "2023-04-09T14:46:31.620Z"
   },
   {
    "duration": 7,
    "start_time": "2023-04-09T14:46:31.714Z"
   },
   {
    "duration": 29,
    "start_time": "2023-04-09T14:46:31.723Z"
   },
   {
    "duration": 33,
    "start_time": "2023-04-09T14:46:31.754Z"
   },
   {
    "duration": 98,
    "start_time": "2023-04-09T14:46:31.789Z"
   },
   {
    "duration": 79,
    "start_time": "2023-04-09T14:46:31.888Z"
   },
   {
    "duration": 76,
    "start_time": "2023-04-09T14:46:31.969Z"
   },
   {
    "duration": 2,
    "start_time": "2023-04-09T14:51:55.268Z"
   },
   {
    "duration": 2,
    "start_time": "2023-04-09T14:52:14.053Z"
   },
   {
    "duration": 8114,
    "start_time": "2023-04-09T14:52:36.155Z"
   },
   {
    "duration": 268,
    "start_time": "2023-04-09T14:52:44.270Z"
   },
   {
    "duration": 67,
    "start_time": "2023-04-09T14:52:44.540Z"
   },
   {
    "duration": 64,
    "start_time": "2023-04-09T14:52:44.609Z"
   },
   {
    "duration": 84,
    "start_time": "2023-04-09T14:52:44.676Z"
   },
   {
    "duration": 77,
    "start_time": "2023-04-09T14:52:44.761Z"
   },
   {
    "duration": 28,
    "start_time": "2023-04-09T14:52:44.840Z"
   },
   {
    "duration": 32,
    "start_time": "2023-04-09T14:52:44.869Z"
   },
   {
    "duration": 4,
    "start_time": "2023-04-09T14:52:44.902Z"
   },
   {
    "duration": 14,
    "start_time": "2023-04-09T14:52:44.907Z"
   },
   {
    "duration": 29,
    "start_time": "2023-04-09T14:52:44.922Z"
   },
   {
    "duration": 36,
    "start_time": "2023-04-09T14:52:44.953Z"
   },
   {
    "duration": 69,
    "start_time": "2023-04-09T14:52:44.991Z"
   },
   {
    "duration": 78,
    "start_time": "2023-04-09T14:52:45.062Z"
   },
   {
    "duration": 65,
    "start_time": "2023-04-09T14:52:45.142Z"
   },
   {
    "duration": 67,
    "start_time": "2023-04-09T14:52:45.210Z"
   },
   {
    "duration": 66,
    "start_time": "2023-04-09T14:52:45.279Z"
   },
   {
    "duration": 8390,
    "start_time": "2023-04-09T14:53:55.412Z"
   },
   {
    "duration": 239,
    "start_time": "2023-04-09T14:54:03.804Z"
   },
   {
    "duration": 64,
    "start_time": "2023-04-09T14:54:04.045Z"
   },
   {
    "duration": 63,
    "start_time": "2023-04-09T14:54:04.111Z"
   },
   {
    "duration": 82,
    "start_time": "2023-04-09T14:54:04.176Z"
   },
   {
    "duration": 79,
    "start_time": "2023-04-09T14:54:04.260Z"
   },
   {
    "duration": 30,
    "start_time": "2023-04-09T14:54:04.341Z"
   },
   {
    "duration": 32,
    "start_time": "2023-04-09T14:54:04.372Z"
   },
   {
    "duration": 4,
    "start_time": "2023-04-09T14:54:04.406Z"
   },
   {
    "duration": 38,
    "start_time": "2023-04-09T14:54:04.412Z"
   },
   {
    "duration": 17,
    "start_time": "2023-04-09T14:54:04.453Z"
   },
   {
    "duration": 54,
    "start_time": "2023-04-09T14:54:04.472Z"
   },
   {
    "duration": 68,
    "start_time": "2023-04-09T14:54:04.548Z"
   },
   {
    "duration": 84,
    "start_time": "2023-04-09T14:54:04.618Z"
   },
   {
    "duration": 64,
    "start_time": "2023-04-09T14:54:04.704Z"
   },
   {
    "duration": 67,
    "start_time": "2023-04-09T14:54:04.770Z"
   },
   {
    "duration": 67,
    "start_time": "2023-04-09T14:54:04.838Z"
   },
   {
    "duration": 66,
    "start_time": "2023-04-09T14:58:34.297Z"
   },
   {
    "duration": 65,
    "start_time": "2023-04-09T15:03:59.059Z"
   },
   {
    "duration": 67,
    "start_time": "2023-04-09T15:04:05.507Z"
   },
   {
    "duration": 88,
    "start_time": "2023-04-09T15:04:55.566Z"
   },
   {
    "duration": 65,
    "start_time": "2023-04-09T15:04:58.539Z"
   },
   {
    "duration": 71,
    "start_time": "2023-04-09T15:07:28.552Z"
   },
   {
    "duration": 262,
    "start_time": "2023-04-09T15:09:13.332Z"
   },
   {
    "duration": 13209,
    "start_time": "2023-04-09T15:10:23.212Z"
   },
   {
    "duration": 242,
    "start_time": "2023-04-09T15:10:36.423Z"
   },
   {
    "duration": 66,
    "start_time": "2023-04-09T15:10:36.667Z"
   },
   {
    "duration": 65,
    "start_time": "2023-04-09T15:10:36.734Z"
   },
   {
    "duration": 96,
    "start_time": "2023-04-09T15:10:36.801Z"
   },
   {
    "duration": 81,
    "start_time": "2023-04-09T15:10:36.902Z"
   },
   {
    "duration": 29,
    "start_time": "2023-04-09T15:10:36.984Z"
   },
   {
    "duration": 31,
    "start_time": "2023-04-09T15:10:37.015Z"
   },
   {
    "duration": 4,
    "start_time": "2023-04-09T15:10:37.048Z"
   },
   {
    "duration": 17,
    "start_time": "2023-04-09T15:10:37.054Z"
   },
   {
    "duration": 25,
    "start_time": "2023-04-09T15:10:37.073Z"
   },
   {
    "duration": 37,
    "start_time": "2023-04-09T15:10:37.100Z"
   },
   {
    "duration": 73,
    "start_time": "2023-04-09T15:10:37.139Z"
   },
   {
    "duration": 80,
    "start_time": "2023-04-09T15:10:37.214Z"
   },
   {
    "duration": 67,
    "start_time": "2023-04-09T15:10:37.296Z"
   },
   {
    "duration": 69,
    "start_time": "2023-04-09T15:10:37.364Z"
   },
   {
    "duration": 237,
    "start_time": "2023-04-09T15:10:37.434Z"
   },
   {
    "duration": 81,
    "start_time": "2023-04-09T15:10:49.744Z"
   },
   {
    "duration": 3,
    "start_time": "2023-04-09T15:14:02.964Z"
   },
   {
    "duration": 12989,
    "start_time": "2023-04-09T15:14:54.261Z"
   },
   {
    "duration": 269,
    "start_time": "2023-04-09T15:15:07.255Z"
   },
   {
    "duration": 67,
    "start_time": "2023-04-09T15:15:07.525Z"
   },
   {
    "duration": 66,
    "start_time": "2023-04-09T15:15:07.594Z"
   },
   {
    "duration": 98,
    "start_time": "2023-04-09T15:15:07.662Z"
   },
   {
    "duration": 80,
    "start_time": "2023-04-09T15:15:07.762Z"
   },
   {
    "duration": 52,
    "start_time": "2023-04-09T15:15:07.843Z"
   },
   {
    "duration": 97,
    "start_time": "2023-04-09T15:15:07.896Z"
   },
   {
    "duration": 4,
    "start_time": "2023-04-09T15:15:07.995Z"
   },
   {
    "duration": 20,
    "start_time": "2023-04-09T15:15:08.002Z"
   },
   {
    "duration": 19,
    "start_time": "2023-04-09T15:15:08.024Z"
   },
   {
    "duration": 60,
    "start_time": "2023-04-09T15:15:08.045Z"
   },
   {
    "duration": 84,
    "start_time": "2023-04-09T15:15:08.106Z"
   },
   {
    "duration": 91,
    "start_time": "2023-04-09T15:15:08.192Z"
   },
   {
    "duration": 69,
    "start_time": "2023-04-09T15:15:08.285Z"
   },
   {
    "duration": 70,
    "start_time": "2023-04-09T15:15:08.357Z"
   },
   {
    "duration": 75,
    "start_time": "2023-04-09T15:15:08.429Z"
   },
   {
    "duration": 75,
    "start_time": "2023-04-09T15:19:30.862Z"
   },
   {
    "duration": 13,
    "start_time": "2023-04-09T15:19:34.784Z"
   },
   {
    "duration": 41,
    "start_time": "2023-04-09T15:20:10.485Z"
   },
   {
    "duration": 10327,
    "start_time": "2023-04-09T15:20:14.403Z"
   },
   {
    "duration": 296,
    "start_time": "2023-04-09T15:20:24.733Z"
   },
   {
    "duration": 82,
    "start_time": "2023-04-09T15:20:25.031Z"
   },
   {
    "duration": 72,
    "start_time": "2023-04-09T15:20:25.115Z"
   },
   {
    "duration": 109,
    "start_time": "2023-04-09T15:20:25.190Z"
   },
   {
    "duration": 87,
    "start_time": "2023-04-09T15:20:25.302Z"
   },
   {
    "duration": 31,
    "start_time": "2023-04-09T15:20:25.391Z"
   },
   {
    "duration": 47,
    "start_time": "2023-04-09T15:20:25.424Z"
   },
   {
    "duration": 5,
    "start_time": "2023-04-09T15:20:25.473Z"
   },
   {
    "duration": 16,
    "start_time": "2023-04-09T15:20:25.480Z"
   },
   {
    "duration": 13,
    "start_time": "2023-04-09T15:20:25.498Z"
   },
   {
    "duration": 65,
    "start_time": "2023-04-09T15:20:25.513Z"
   },
   {
    "duration": 71,
    "start_time": "2023-04-09T15:20:25.580Z"
   },
   {
    "duration": 87,
    "start_time": "2023-04-09T15:20:25.657Z"
   },
   {
    "duration": 94,
    "start_time": "2023-04-09T15:20:25.746Z"
   },
   {
    "duration": 82,
    "start_time": "2023-04-09T15:20:25.842Z"
   },
   {
    "duration": 84,
    "start_time": "2023-04-09T15:20:25.926Z"
   },
   {
    "duration": 65,
    "start_time": "2023-04-09T15:24:13.172Z"
   },
   {
    "duration": 9557,
    "start_time": "2023-04-09T15:24:17.651Z"
   },
   {
    "duration": 249,
    "start_time": "2023-04-09T15:24:27.210Z"
   },
   {
    "duration": 64,
    "start_time": "2023-04-09T15:24:27.461Z"
   },
   {
    "duration": 65,
    "start_time": "2023-04-09T15:24:27.528Z"
   },
   {
    "duration": 85,
    "start_time": "2023-04-09T15:24:27.594Z"
   },
   {
    "duration": 81,
    "start_time": "2023-04-09T15:24:27.680Z"
   },
   {
    "duration": 33,
    "start_time": "2023-04-09T15:24:27.762Z"
   },
   {
    "duration": 36,
    "start_time": "2023-04-09T15:24:27.797Z"
   },
   {
    "duration": 4,
    "start_time": "2023-04-09T15:24:27.849Z"
   },
   {
    "duration": 25,
    "start_time": "2023-04-09T15:24:27.856Z"
   },
   {
    "duration": 27,
    "start_time": "2023-04-09T15:24:27.883Z"
   },
   {
    "duration": 50,
    "start_time": "2023-04-09T15:24:27.912Z"
   },
   {
    "duration": 65,
    "start_time": "2023-04-09T15:24:27.964Z"
   },
   {
    "duration": 81,
    "start_time": "2023-04-09T15:24:28.030Z"
   },
   {
    "duration": 67,
    "start_time": "2023-04-09T15:24:28.112Z"
   },
   {
    "duration": 68,
    "start_time": "2023-04-09T15:24:28.181Z"
   },
   {
    "duration": 67,
    "start_time": "2023-04-09T15:24:28.251Z"
   },
   {
    "duration": 8509,
    "start_time": "2023-04-09T15:29:07.744Z"
   },
   {
    "duration": 259,
    "start_time": "2023-04-09T15:29:16.255Z"
   },
   {
    "duration": 67,
    "start_time": "2023-04-09T15:29:16.516Z"
   },
   {
    "duration": 66,
    "start_time": "2023-04-09T15:29:16.585Z"
   },
   {
    "duration": 102,
    "start_time": "2023-04-09T15:29:16.654Z"
   },
   {
    "duration": 96,
    "start_time": "2023-04-09T15:29:16.758Z"
   },
   {
    "duration": 42,
    "start_time": "2023-04-09T15:29:16.856Z"
   },
   {
    "duration": 54,
    "start_time": "2023-04-09T15:29:16.900Z"
   },
   {
    "duration": 4,
    "start_time": "2023-04-09T15:29:16.956Z"
   },
   {
    "duration": 27,
    "start_time": "2023-04-09T15:29:16.962Z"
   },
   {
    "duration": 15,
    "start_time": "2023-04-09T15:29:16.990Z"
   },
   {
    "duration": 66,
    "start_time": "2023-04-09T15:29:17.006Z"
   },
   {
    "duration": 73,
    "start_time": "2023-04-09T15:29:17.074Z"
   },
   {
    "duration": 79,
    "start_time": "2023-04-09T15:29:17.149Z"
   },
   {
    "duration": 67,
    "start_time": "2023-04-09T15:29:17.230Z"
   },
   {
    "duration": 68,
    "start_time": "2023-04-09T15:29:17.299Z"
   },
   {
    "duration": 69,
    "start_time": "2023-04-09T15:29:17.369Z"
   },
   {
    "duration": 8395,
    "start_time": "2023-04-09T15:33:01.590Z"
   },
   {
    "duration": 241,
    "start_time": "2023-04-09T15:33:09.988Z"
   },
   {
    "duration": 65,
    "start_time": "2023-04-09T15:33:10.231Z"
   },
   {
    "duration": 64,
    "start_time": "2023-04-09T15:33:10.299Z"
   },
   {
    "duration": 94,
    "start_time": "2023-04-09T15:33:10.365Z"
   },
   {
    "duration": 84,
    "start_time": "2023-04-09T15:33:10.461Z"
   },
   {
    "duration": 29,
    "start_time": "2023-04-09T15:33:10.547Z"
   },
   {
    "duration": 32,
    "start_time": "2023-04-09T15:33:10.578Z"
   },
   {
    "duration": 12,
    "start_time": "2023-04-09T15:33:10.611Z"
   },
   {
    "duration": 14,
    "start_time": "2023-04-09T15:33:10.650Z"
   },
   {
    "duration": 16,
    "start_time": "2023-04-09T15:33:10.667Z"
   },
   {
    "duration": 83,
    "start_time": "2023-04-09T15:33:10.685Z"
   },
   {
    "duration": 65,
    "start_time": "2023-04-09T15:33:10.770Z"
   },
   {
    "duration": 78,
    "start_time": "2023-04-09T15:33:10.837Z"
   },
   {
    "duration": 66,
    "start_time": "2023-04-09T15:33:10.916Z"
   },
   {
    "duration": 69,
    "start_time": "2023-04-09T15:33:10.983Z"
   },
   {
    "duration": 85,
    "start_time": "2023-04-09T15:33:11.054Z"
   },
   {
    "duration": 5712,
    "start_time": "2023-04-09T21:39:52.228Z"
   },
   {
    "duration": 289,
    "start_time": "2023-04-09T21:39:57.942Z"
   },
   {
    "duration": 71,
    "start_time": "2023-04-09T21:39:58.233Z"
   },
   {
    "duration": 72,
    "start_time": "2023-04-09T21:39:58.306Z"
   },
   {
    "duration": 102,
    "start_time": "2023-04-09T21:39:58.380Z"
   },
   {
    "duration": 85,
    "start_time": "2023-04-09T21:39:58.484Z"
   },
   {
    "duration": 27,
    "start_time": "2023-04-09T21:39:58.570Z"
   },
   {
    "duration": 30,
    "start_time": "2023-04-09T21:39:58.599Z"
   },
   {
    "duration": 12,
    "start_time": "2023-04-09T21:39:58.630Z"
   },
   {
    "duration": 18,
    "start_time": "2023-04-09T21:39:58.643Z"
   },
   {
    "duration": 12,
    "start_time": "2023-04-09T21:39:58.662Z"
   },
   {
    "duration": 35,
    "start_time": "2023-04-09T21:39:58.675Z"
   },
   {
    "duration": 92,
    "start_time": "2023-04-09T21:39:58.712Z"
   },
   {
    "duration": 86,
    "start_time": "2023-04-09T21:39:58.806Z"
   },
   {
    "duration": 74,
    "start_time": "2023-04-09T21:39:58.893Z"
   },
   {
    "duration": 77,
    "start_time": "2023-04-09T21:39:58.968Z"
   },
   {
    "duration": 76,
    "start_time": "2023-04-09T21:39:59.046Z"
   },
   {
    "duration": 10146,
    "start_time": "2023-04-09T22:38:09.165Z"
   },
   {
    "duration": 271,
    "start_time": "2023-04-09T22:38:19.313Z"
   },
   {
    "duration": 71,
    "start_time": "2023-04-09T22:38:19.585Z"
   },
   {
    "duration": 71,
    "start_time": "2023-04-09T22:38:19.658Z"
   },
   {
    "duration": 91,
    "start_time": "2023-04-09T22:38:19.731Z"
   },
   {
    "duration": 84,
    "start_time": "2023-04-09T22:38:19.824Z"
   },
   {
    "duration": 27,
    "start_time": "2023-04-09T22:38:19.910Z"
   },
   {
    "duration": 32,
    "start_time": "2023-04-09T22:38:19.939Z"
   },
   {
    "duration": 3,
    "start_time": "2023-04-09T22:38:19.973Z"
   },
   {
    "duration": 14,
    "start_time": "2023-04-09T22:38:19.977Z"
   },
   {
    "duration": 11,
    "start_time": "2023-04-09T22:38:19.993Z"
   },
   {
    "duration": 41,
    "start_time": "2023-04-09T22:38:20.035Z"
   },
   {
    "duration": 72,
    "start_time": "2023-04-09T22:38:20.078Z"
   },
   {
    "duration": 94,
    "start_time": "2023-04-09T22:38:20.153Z"
   },
   {
    "duration": 74,
    "start_time": "2023-04-09T22:38:20.249Z"
   },
   {
    "duration": 75,
    "start_time": "2023-04-09T22:38:20.324Z"
   },
   {
    "duration": 74,
    "start_time": "2023-04-09T22:38:20.401Z"
   },
   {
    "duration": 117,
    "start_time": "2023-04-09T22:39:00.915Z"
   },
   {
    "duration": 104,
    "start_time": "2023-04-09T22:46:33.609Z"
   },
   {
    "duration": 107,
    "start_time": "2023-04-09T22:47:00.365Z"
   },
   {
    "duration": 4,
    "start_time": "2023-04-09T22:49:01.353Z"
   },
   {
    "duration": 90,
    "start_time": "2023-06-28T16:33:33.194Z"
   },
   {
    "duration": 29032,
    "start_time": "2023-06-28T16:33:59.763Z"
   },
   {
    "duration": 486,
    "start_time": "2023-06-28T16:34:28.797Z"
   },
   {
    "duration": 122,
    "start_time": "2023-06-28T16:34:29.284Z"
   },
   {
    "duration": 119,
    "start_time": "2023-06-28T16:34:29.408Z"
   },
   {
    "duration": 140,
    "start_time": "2023-06-28T16:34:29.529Z"
   },
   {
    "duration": 117,
    "start_time": "2023-06-28T16:34:29.671Z"
   },
   {
    "duration": 56,
    "start_time": "2023-06-28T16:34:29.790Z"
   },
   {
    "duration": 60,
    "start_time": "2023-06-28T16:34:29.858Z"
   },
   {
    "duration": 17,
    "start_time": "2023-06-28T16:34:29.927Z"
   },
   {
    "duration": 33,
    "start_time": "2023-06-28T16:34:29.946Z"
   },
   {
    "duration": 17,
    "start_time": "2023-06-28T16:34:29.981Z"
   },
   {
    "duration": 87,
    "start_time": "2023-06-28T16:34:30.000Z"
   },
   {
    "duration": 100,
    "start_time": "2023-06-28T16:34:30.088Z"
   },
   {
    "duration": 166,
    "start_time": "2023-06-28T16:34:30.189Z"
   },
   {
    "duration": 106,
    "start_time": "2023-06-28T16:34:30.356Z"
   },
   {
    "duration": 136,
    "start_time": "2023-06-28T16:34:30.464Z"
   },
   {
    "duration": 125,
    "start_time": "2023-06-28T16:34:30.608Z"
   }
  ],
  "kernelspec": {
   "display_name": "Python 3 (ipykernel)",
   "language": "python",
   "name": "python3"
  },
  "language_info": {
   "codemirror_mode": {
    "name": "ipython",
    "version": 3
   },
   "file_extension": ".py",
   "mimetype": "text/x-python",
   "name": "python",
   "nbconvert_exporter": "python",
   "pygments_lexer": "ipython3",
   "version": "3.9.5"
  },
  "toc": {
   "base_numbering": 1,
   "nav_menu": {},
   "number_sections": true,
   "sideBar": true,
   "skip_h1_title": true,
   "title_cell": "Table of Contents",
   "title_sidebar": "Contents",
   "toc_cell": false,
   "toc_position": {},
   "toc_section_display": true,
   "toc_window_display": false
  }
 },
 "nbformat": 4,
 "nbformat_minor": 2
}
