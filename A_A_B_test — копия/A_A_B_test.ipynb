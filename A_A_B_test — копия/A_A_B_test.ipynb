{
 "cells": [
  {
   "cell_type": "markdown",
   "metadata": {},
   "source": [
    "# Исследование воронки продаж продуктов питания"
   ]
  },
  {
   "cell_type": "markdown",
   "metadata": {},
   "source": [
    "<b>Цель проекта:</b> Изучить воронку продаж, проанализировать результаты A/A/B теста\n",
    "\n",
    "<b>План исследования:</b>\n",
    "\n",
    "1. Загрузить все необходимые библиотеки\n",
    "\n",
    "2. Переименовать наименование столбцов и изменить тип данных, а также добавить отдельный столбец дат\n",
    "\n",
    "3. Проверить на пропуски и дубликаты, при необходимости удалить строки, удаления которых не повлияет на итоговый результат\n",
    "\n",
    "4. Проверить на аномальные значения\n",
    "\n",
    "5. Проверить группы на наличие клиента в двух и более группах одновременно и на соотношение кол-ва клиентов в группах\n",
    "\n",
    "6. Изучить и проверить данные\n",
    "\n",
    "7. Изучить воронку событий\n",
    "\n",
    "8. Проанализировать результаты тестирования и описать выводы/рекомендации"
   ]
  },
  {
   "cell_type": "markdown",
   "metadata": {},
   "source": [
    "## Предобработка данных"
   ]
  },
  {
   "cell_type": "code",
   "execution_count": 1,
   "metadata": {},
   "outputs": [
    {
     "name": "stdout",
     "output_type": "stream",
     "text": [
      "Note: you may need to restart the kernel to use updated packages.\n"
     ]
    }
   ],
   "source": [
    "%pip install -U kaleido -q"
   ]
  },
  {
   "cell_type": "code",
   "execution_count": 2,
   "metadata": {},
   "outputs": [],
   "source": [
    "#загрузим все необходимые библиотеки\n",
    "\n",
    "import pandas as pd\n",
    "import datetime as dt\n",
    "import scipy.stats as stats\n",
    "import matplotlib.pyplot as plt\n",
    "import math as mth\n",
    "from plotly import graph_objects as go\n",
    "import plotly.io as pio\n",
    "pio.renderers.default = \"png\"\n",
    "import seaborn as sns\n",
    "sns.set(rc={'figure.figsize':(15,10)})\n"
   ]
  },
  {
   "cell_type": "code",
   "execution_count": 3,
   "metadata": {},
   "outputs": [
    {
     "data": {
      "text/html": [
       "<div>\n",
       "<style scoped>\n",
       "    .dataframe tbody tr th:only-of-type {\n",
       "        vertical-align: middle;\n",
       "    }\n",
       "\n",
       "    .dataframe tbody tr th {\n",
       "        vertical-align: top;\n",
       "    }\n",
       "\n",
       "    .dataframe thead th {\n",
       "        text-align: right;\n",
       "    }\n",
       "</style>\n",
       "<table border=\"1\" class=\"dataframe\">\n",
       "  <thead>\n",
       "    <tr style=\"text-align: right;\">\n",
       "      <th></th>\n",
       "      <th>EventName</th>\n",
       "      <th>DeviceIDHash</th>\n",
       "      <th>EventTimestamp</th>\n",
       "      <th>ExpId</th>\n",
       "    </tr>\n",
       "  </thead>\n",
       "  <tbody>\n",
       "    <tr>\n",
       "      <th>0</th>\n",
       "      <td>MainScreenAppear</td>\n",
       "      <td>4575588528974610257</td>\n",
       "      <td>1564029816</td>\n",
       "      <td>246</td>\n",
       "    </tr>\n",
       "    <tr>\n",
       "      <th>1</th>\n",
       "      <td>MainScreenAppear</td>\n",
       "      <td>7416695313311560658</td>\n",
       "      <td>1564053102</td>\n",
       "      <td>246</td>\n",
       "    </tr>\n",
       "    <tr>\n",
       "      <th>2</th>\n",
       "      <td>PaymentScreenSuccessful</td>\n",
       "      <td>3518123091307005509</td>\n",
       "      <td>1564054127</td>\n",
       "      <td>248</td>\n",
       "    </tr>\n",
       "    <tr>\n",
       "      <th>3</th>\n",
       "      <td>CartScreenAppear</td>\n",
       "      <td>3518123091307005509</td>\n",
       "      <td>1564054127</td>\n",
       "      <td>248</td>\n",
       "    </tr>\n",
       "    <tr>\n",
       "      <th>4</th>\n",
       "      <td>PaymentScreenSuccessful</td>\n",
       "      <td>6217807653094995999</td>\n",
       "      <td>1564055322</td>\n",
       "      <td>248</td>\n",
       "    </tr>\n",
       "    <tr>\n",
       "      <th>5</th>\n",
       "      <td>CartScreenAppear</td>\n",
       "      <td>6217807653094995999</td>\n",
       "      <td>1564055323</td>\n",
       "      <td>248</td>\n",
       "    </tr>\n",
       "    <tr>\n",
       "      <th>6</th>\n",
       "      <td>OffersScreenAppear</td>\n",
       "      <td>8351860793733343758</td>\n",
       "      <td>1564066242</td>\n",
       "      <td>246</td>\n",
       "    </tr>\n",
       "    <tr>\n",
       "      <th>7</th>\n",
       "      <td>MainScreenAppear</td>\n",
       "      <td>5682100281902512875</td>\n",
       "      <td>1564085677</td>\n",
       "      <td>246</td>\n",
       "    </tr>\n",
       "    <tr>\n",
       "      <th>8</th>\n",
       "      <td>MainScreenAppear</td>\n",
       "      <td>1850981295691852772</td>\n",
       "      <td>1564086702</td>\n",
       "      <td>247</td>\n",
       "    </tr>\n",
       "    <tr>\n",
       "      <th>9</th>\n",
       "      <td>MainScreenAppear</td>\n",
       "      <td>5407636962369102641</td>\n",
       "      <td>1564112112</td>\n",
       "      <td>246</td>\n",
       "    </tr>\n",
       "  </tbody>\n",
       "</table>\n",
       "</div>"
      ],
      "text/plain": [
       "                 EventName         DeviceIDHash  EventTimestamp  ExpId\n",
       "0         MainScreenAppear  4575588528974610257      1564029816    246\n",
       "1         MainScreenAppear  7416695313311560658      1564053102    246\n",
       "2  PaymentScreenSuccessful  3518123091307005509      1564054127    248\n",
       "3         CartScreenAppear  3518123091307005509      1564054127    248\n",
       "4  PaymentScreenSuccessful  6217807653094995999      1564055322    248\n",
       "5         CartScreenAppear  6217807653094995999      1564055323    248\n",
       "6       OffersScreenAppear  8351860793733343758      1564066242    246\n",
       "7         MainScreenAppear  5682100281902512875      1564085677    246\n",
       "8         MainScreenAppear  1850981295691852772      1564086702    247\n",
       "9         MainScreenAppear  5407636962369102641      1564112112    246"
      ]
     },
     "execution_count": 3,
     "metadata": {},
     "output_type": "execute_result"
    }
   ],
   "source": [
    "data = pd.read_csv('/datasets/logs_exp.csv', sep='\\t')\n",
    "data.head(10)"
   ]
  },
  {
   "cell_type": "code",
   "execution_count": 4,
   "metadata": {},
   "outputs": [
    {
     "data": {
      "text/html": [
       "<div>\n",
       "<style scoped>\n",
       "    .dataframe tbody tr th:only-of-type {\n",
       "        vertical-align: middle;\n",
       "    }\n",
       "\n",
       "    .dataframe tbody tr th {\n",
       "        vertical-align: top;\n",
       "    }\n",
       "\n",
       "    .dataframe thead th {\n",
       "        text-align: right;\n",
       "    }\n",
       "</style>\n",
       "<table border=\"1\" class=\"dataframe\">\n",
       "  <thead>\n",
       "    <tr style=\"text-align: right;\">\n",
       "      <th></th>\n",
       "      <th>event_name</th>\n",
       "      <th>user_id</th>\n",
       "      <th>event_dt</th>\n",
       "      <th>group</th>\n",
       "    </tr>\n",
       "  </thead>\n",
       "  <tbody>\n",
       "    <tr>\n",
       "      <th>0</th>\n",
       "      <td>MainScreenAppear</td>\n",
       "      <td>4575588528974610257</td>\n",
       "      <td>1564029816</td>\n",
       "      <td>246</td>\n",
       "    </tr>\n",
       "    <tr>\n",
       "      <th>1</th>\n",
       "      <td>MainScreenAppear</td>\n",
       "      <td>7416695313311560658</td>\n",
       "      <td>1564053102</td>\n",
       "      <td>246</td>\n",
       "    </tr>\n",
       "    <tr>\n",
       "      <th>2</th>\n",
       "      <td>PaymentScreenSuccessful</td>\n",
       "      <td>3518123091307005509</td>\n",
       "      <td>1564054127</td>\n",
       "      <td>248</td>\n",
       "    </tr>\n",
       "    <tr>\n",
       "      <th>3</th>\n",
       "      <td>CartScreenAppear</td>\n",
       "      <td>3518123091307005509</td>\n",
       "      <td>1564054127</td>\n",
       "      <td>248</td>\n",
       "    </tr>\n",
       "    <tr>\n",
       "      <th>4</th>\n",
       "      <td>PaymentScreenSuccessful</td>\n",
       "      <td>6217807653094995999</td>\n",
       "      <td>1564055322</td>\n",
       "      <td>248</td>\n",
       "    </tr>\n",
       "    <tr>\n",
       "      <th>5</th>\n",
       "      <td>CartScreenAppear</td>\n",
       "      <td>6217807653094995999</td>\n",
       "      <td>1564055323</td>\n",
       "      <td>248</td>\n",
       "    </tr>\n",
       "    <tr>\n",
       "      <th>6</th>\n",
       "      <td>OffersScreenAppear</td>\n",
       "      <td>8351860793733343758</td>\n",
       "      <td>1564066242</td>\n",
       "      <td>246</td>\n",
       "    </tr>\n",
       "    <tr>\n",
       "      <th>7</th>\n",
       "      <td>MainScreenAppear</td>\n",
       "      <td>5682100281902512875</td>\n",
       "      <td>1564085677</td>\n",
       "      <td>246</td>\n",
       "    </tr>\n",
       "    <tr>\n",
       "      <th>8</th>\n",
       "      <td>MainScreenAppear</td>\n",
       "      <td>1850981295691852772</td>\n",
       "      <td>1564086702</td>\n",
       "      <td>247</td>\n",
       "    </tr>\n",
       "    <tr>\n",
       "      <th>9</th>\n",
       "      <td>MainScreenAppear</td>\n",
       "      <td>5407636962369102641</td>\n",
       "      <td>1564112112</td>\n",
       "      <td>246</td>\n",
       "    </tr>\n",
       "  </tbody>\n",
       "</table>\n",
       "</div>"
      ],
      "text/plain": [
       "                event_name              user_id    event_dt  group\n",
       "0         MainScreenAppear  4575588528974610257  1564029816    246\n",
       "1         MainScreenAppear  7416695313311560658  1564053102    246\n",
       "2  PaymentScreenSuccessful  3518123091307005509  1564054127    248\n",
       "3         CartScreenAppear  3518123091307005509  1564054127    248\n",
       "4  PaymentScreenSuccessful  6217807653094995999  1564055322    248\n",
       "5         CartScreenAppear  6217807653094995999  1564055323    248\n",
       "6       OffersScreenAppear  8351860793733343758  1564066242    246\n",
       "7         MainScreenAppear  5682100281902512875  1564085677    246\n",
       "8         MainScreenAppear  1850981295691852772  1564086702    247\n",
       "9         MainScreenAppear  5407636962369102641  1564112112    246"
      ]
     },
     "execution_count": 4,
     "metadata": {},
     "output_type": "execute_result"
    }
   ],
   "source": [
    "#приведем название столбцов в уднобный для анализа вид\n",
    "data.columns = ['event_name', 'user_id', 'event_dt', 'group']\n",
    "data.head(10)"
   ]
  },
  {
   "cell_type": "code",
   "execution_count": 5,
   "metadata": {
    "scrolled": false
   },
   "outputs": [
    {
     "data": {
      "text/html": [
       "<div>\n",
       "<style scoped>\n",
       "    .dataframe tbody tr th:only-of-type {\n",
       "        vertical-align: middle;\n",
       "    }\n",
       "\n",
       "    .dataframe tbody tr th {\n",
       "        vertical-align: top;\n",
       "    }\n",
       "\n",
       "    .dataframe thead th {\n",
       "        text-align: right;\n",
       "    }\n",
       "</style>\n",
       "<table border=\"1\" class=\"dataframe\">\n",
       "  <thead>\n",
       "    <tr style=\"text-align: right;\">\n",
       "      <th></th>\n",
       "      <th>event_name</th>\n",
       "      <th>user_id</th>\n",
       "      <th>event_dt</th>\n",
       "      <th>group</th>\n",
       "      <th>dt</th>\n",
       "    </tr>\n",
       "  </thead>\n",
       "  <tbody>\n",
       "    <tr>\n",
       "      <th>0</th>\n",
       "      <td>MainScreenAppear</td>\n",
       "      <td>4575588528974610257</td>\n",
       "      <td>2019-07-25 04:43:36</td>\n",
       "      <td>246</td>\n",
       "      <td>2019-07-25</td>\n",
       "    </tr>\n",
       "    <tr>\n",
       "      <th>1</th>\n",
       "      <td>MainScreenAppear</td>\n",
       "      <td>7416695313311560658</td>\n",
       "      <td>2019-07-25 11:11:42</td>\n",
       "      <td>246</td>\n",
       "      <td>2019-07-25</td>\n",
       "    </tr>\n",
       "    <tr>\n",
       "      <th>2</th>\n",
       "      <td>PaymentScreenSuccessful</td>\n",
       "      <td>3518123091307005509</td>\n",
       "      <td>2019-07-25 11:28:47</td>\n",
       "      <td>248</td>\n",
       "      <td>2019-07-25</td>\n",
       "    </tr>\n",
       "    <tr>\n",
       "      <th>3</th>\n",
       "      <td>CartScreenAppear</td>\n",
       "      <td>3518123091307005509</td>\n",
       "      <td>2019-07-25 11:28:47</td>\n",
       "      <td>248</td>\n",
       "      <td>2019-07-25</td>\n",
       "    </tr>\n",
       "    <tr>\n",
       "      <th>4</th>\n",
       "      <td>PaymentScreenSuccessful</td>\n",
       "      <td>6217807653094995999</td>\n",
       "      <td>2019-07-25 11:48:42</td>\n",
       "      <td>248</td>\n",
       "      <td>2019-07-25</td>\n",
       "    </tr>\n",
       "    <tr>\n",
       "      <th>5</th>\n",
       "      <td>CartScreenAppear</td>\n",
       "      <td>6217807653094995999</td>\n",
       "      <td>2019-07-25 11:48:43</td>\n",
       "      <td>248</td>\n",
       "      <td>2019-07-25</td>\n",
       "    </tr>\n",
       "    <tr>\n",
       "      <th>6</th>\n",
       "      <td>OffersScreenAppear</td>\n",
       "      <td>8351860793733343758</td>\n",
       "      <td>2019-07-25 14:50:42</td>\n",
       "      <td>246</td>\n",
       "      <td>2019-07-25</td>\n",
       "    </tr>\n",
       "    <tr>\n",
       "      <th>7</th>\n",
       "      <td>MainScreenAppear</td>\n",
       "      <td>5682100281902512875</td>\n",
       "      <td>2019-07-25 20:14:37</td>\n",
       "      <td>246</td>\n",
       "      <td>2019-07-25</td>\n",
       "    </tr>\n",
       "    <tr>\n",
       "      <th>8</th>\n",
       "      <td>MainScreenAppear</td>\n",
       "      <td>1850981295691852772</td>\n",
       "      <td>2019-07-25 20:31:42</td>\n",
       "      <td>247</td>\n",
       "      <td>2019-07-25</td>\n",
       "    </tr>\n",
       "    <tr>\n",
       "      <th>9</th>\n",
       "      <td>MainScreenAppear</td>\n",
       "      <td>5407636962369102641</td>\n",
       "      <td>2019-07-26 03:35:12</td>\n",
       "      <td>246</td>\n",
       "      <td>2019-07-26</td>\n",
       "    </tr>\n",
       "  </tbody>\n",
       "</table>\n",
       "</div>"
      ],
      "text/plain": [
       "                event_name              user_id            event_dt  group  \\\n",
       "0         MainScreenAppear  4575588528974610257 2019-07-25 04:43:36    246   \n",
       "1         MainScreenAppear  7416695313311560658 2019-07-25 11:11:42    246   \n",
       "2  PaymentScreenSuccessful  3518123091307005509 2019-07-25 11:28:47    248   \n",
       "3         CartScreenAppear  3518123091307005509 2019-07-25 11:28:47    248   \n",
       "4  PaymentScreenSuccessful  6217807653094995999 2019-07-25 11:48:42    248   \n",
       "5         CartScreenAppear  6217807653094995999 2019-07-25 11:48:43    248   \n",
       "6       OffersScreenAppear  8351860793733343758 2019-07-25 14:50:42    246   \n",
       "7         MainScreenAppear  5682100281902512875 2019-07-25 20:14:37    246   \n",
       "8         MainScreenAppear  1850981295691852772 2019-07-25 20:31:42    247   \n",
       "9         MainScreenAppear  5407636962369102641 2019-07-26 03:35:12    246   \n",
       "\n",
       "           dt  \n",
       "0  2019-07-25  \n",
       "1  2019-07-25  \n",
       "2  2019-07-25  \n",
       "3  2019-07-25  \n",
       "4  2019-07-25  \n",
       "5  2019-07-25  \n",
       "6  2019-07-25  \n",
       "7  2019-07-25  \n",
       "8  2019-07-25  \n",
       "9  2019-07-26  "
      ]
     },
     "execution_count": 5,
     "metadata": {},
     "output_type": "execute_result"
    }
   ],
   "source": [
    "#изменим тип данных и добавим поле c датами\n",
    "data['event_dt'] = pd.to_datetime(data['event_dt'], unit='s')\n",
    "data['dt'] = data['event_dt'].dt.date\n",
    "data.head(10)"
   ]
  },
  {
   "cell_type": "code",
   "execution_count": 6,
   "metadata": {},
   "outputs": [
    {
     "name": "stdout",
     "output_type": "stream",
     "text": [
      "<class 'pandas.core.frame.DataFrame'>\n",
      "RangeIndex: 244126 entries, 0 to 244125\n",
      "Data columns (total 5 columns):\n",
      " #   Column      Non-Null Count   Dtype         \n",
      "---  ------      --------------   -----         \n",
      " 0   event_name  244126 non-null  object        \n",
      " 1   user_id     244126 non-null  int64         \n",
      " 2   event_dt    244126 non-null  datetime64[ns]\n",
      " 3   group       244126 non-null  int64         \n",
      " 4   dt          244126 non-null  object        \n",
      "dtypes: datetime64[ns](1), int64(2), object(2)\n",
      "memory usage: 9.3+ MB\n"
     ]
    }
   ],
   "source": [
    "data.info()"
   ]
  },
  {
   "cell_type": "markdown",
   "metadata": {},
   "source": [
    "пропусков нет"
   ]
  },
  {
   "cell_type": "code",
   "execution_count": 7,
   "metadata": {},
   "outputs": [
    {
     "data": {
      "text/plain": [
       "413"
      ]
     },
     "execution_count": 7,
     "metadata": {},
     "output_type": "execute_result"
    }
   ],
   "source": [
    "#проверим на дубликаты\n",
    "data.duplicated().sum()"
   ]
  },
  {
   "cell_type": "code",
   "execution_count": 8,
   "metadata": {},
   "outputs": [
    {
     "name": "stdout",
     "output_type": "stream",
     "text": [
      "Доля дубликатов: 0.17 %\n"
     ]
    }
   ],
   "source": [
    "print('Доля дубликатов:', round((data.duplicated().sum()/data['event_name'].count())*100, 2,), '%')"
   ]
  },
  {
   "cell_type": "code",
   "execution_count": 9,
   "metadata": {},
   "outputs": [
    {
     "data": {
      "text/plain": [
       "0"
      ]
     },
     "execution_count": 9,
     "metadata": {},
     "output_type": "execute_result"
    }
   ],
   "source": [
    "#удалим дубликаты и сохраним обновленный датафрейм\n",
    "df = data.drop_duplicates().reset_index(drop=True)\n",
    "df.duplicated().sum()"
   ]
  },
  {
   "cell_type": "code",
   "execution_count": 10,
   "metadata": {},
   "outputs": [
    {
     "data": {
      "text/html": [
       "<div>\n",
       "<style scoped>\n",
       "    .dataframe tbody tr th:only-of-type {\n",
       "        vertical-align: middle;\n",
       "    }\n",
       "\n",
       "    .dataframe tbody tr th {\n",
       "        vertical-align: top;\n",
       "    }\n",
       "\n",
       "    .dataframe thead th {\n",
       "        text-align: right;\n",
       "    }\n",
       "</style>\n",
       "<table border=\"1\" class=\"dataframe\">\n",
       "  <thead>\n",
       "    <tr style=\"text-align: right;\">\n",
       "      <th></th>\n",
       "      <th>user_id</th>\n",
       "      <th>group</th>\n",
       "    </tr>\n",
       "  </thead>\n",
       "  <tbody>\n",
       "    <tr>\n",
       "      <th>count</th>\n",
       "      <td>2.437130e+05</td>\n",
       "      <td>243713.000000</td>\n",
       "    </tr>\n",
       "    <tr>\n",
       "      <th>mean</th>\n",
       "      <td>4.627963e+18</td>\n",
       "      <td>247.022161</td>\n",
       "    </tr>\n",
       "    <tr>\n",
       "      <th>std</th>\n",
       "      <td>2.642723e+18</td>\n",
       "      <td>0.824420</td>\n",
       "    </tr>\n",
       "    <tr>\n",
       "      <th>min</th>\n",
       "      <td>6.888747e+15</td>\n",
       "      <td>246.000000</td>\n",
       "    </tr>\n",
       "    <tr>\n",
       "      <th>25%</th>\n",
       "      <td>2.372212e+18</td>\n",
       "      <td>246.000000</td>\n",
       "    </tr>\n",
       "    <tr>\n",
       "      <th>50%</th>\n",
       "      <td>4.623192e+18</td>\n",
       "      <td>247.000000</td>\n",
       "    </tr>\n",
       "    <tr>\n",
       "      <th>75%</th>\n",
       "      <td>6.932517e+18</td>\n",
       "      <td>248.000000</td>\n",
       "    </tr>\n",
       "    <tr>\n",
       "      <th>max</th>\n",
       "      <td>9.222603e+18</td>\n",
       "      <td>248.000000</td>\n",
       "    </tr>\n",
       "  </tbody>\n",
       "</table>\n",
       "</div>"
      ],
      "text/plain": [
       "            user_id          group\n",
       "count  2.437130e+05  243713.000000\n",
       "mean   4.627963e+18     247.022161\n",
       "std    2.642723e+18       0.824420\n",
       "min    6.888747e+15     246.000000\n",
       "25%    2.372212e+18     246.000000\n",
       "50%    4.623192e+18     247.000000\n",
       "75%    6.932517e+18     248.000000\n",
       "max    9.222603e+18     248.000000"
      ]
     },
     "execution_count": 10,
     "metadata": {},
     "output_type": "execute_result"
    }
   ],
   "source": [
    "#проверим на анмомалии\n",
    "df.describe()"
   ]
  },
  {
   "cell_type": "markdown",
   "metadata": {},
   "source": [
    "Аномальных значений нет"
   ]
  },
  {
   "cell_type": "code",
   "execution_count": 11,
   "metadata": {},
   "outputs": [
    {
     "data": {
      "text/html": [
       "<div>\n",
       "<style scoped>\n",
       "    .dataframe tbody tr th:only-of-type {\n",
       "        vertical-align: middle;\n",
       "    }\n",
       "\n",
       "    .dataframe tbody tr th {\n",
       "        vertical-align: top;\n",
       "    }\n",
       "\n",
       "    .dataframe thead th {\n",
       "        text-align: right;\n",
       "    }\n",
       "</style>\n",
       "<table border=\"1\" class=\"dataframe\">\n",
       "  <thead>\n",
       "    <tr style=\"text-align: right;\">\n",
       "      <th></th>\n",
       "      <th>user_id</th>\n",
       "    </tr>\n",
       "    <tr>\n",
       "      <th>group</th>\n",
       "      <th></th>\n",
       "    </tr>\n",
       "  </thead>\n",
       "  <tbody>\n",
       "    <tr>\n",
       "      <th>246</th>\n",
       "      <td>2489</td>\n",
       "    </tr>\n",
       "    <tr>\n",
       "      <th>247</th>\n",
       "      <td>2520</td>\n",
       "    </tr>\n",
       "    <tr>\n",
       "      <th>248</th>\n",
       "      <td>2542</td>\n",
       "    </tr>\n",
       "  </tbody>\n",
       "</table>\n",
       "</div>"
      ],
      "text/plain": [
       "       user_id\n",
       "group         \n",
       "246       2489\n",
       "247       2520\n",
       "248       2542"
      ]
     },
     "metadata": {},
     "output_type": "display_data"
    },
    {
     "data": {
      "text/plain": [
       "user_id    0\n",
       "dtype: int64"
      ]
     },
     "metadata": {},
     "output_type": "display_data"
    },
    {
     "data": {
      "text/plain": [
       "7551"
      ]
     },
     "execution_count": 11,
     "metadata": {},
     "output_type": "execute_result"
    }
   ],
   "source": [
    "#проверим группы на наличие клиента в двух и более группах одновременно\n",
    "unique = df.groupby('group').agg({'user_id':'nunique'})\n",
    "\n",
    "display(unique)\n",
    "\n",
    "display(unique.sum() - df['user_id'].nunique())\n",
    "\n",
    "df['user_id'].nunique()"
   ]
  },
  {
   "cell_type": "markdown",
   "metadata": {},
   "source": [
    "Разница в соотношении приемлема, задублированных клиентов нет"
   ]
  },
  {
   "cell_type": "markdown",
   "metadata": {},
   "source": [
    "## Изучите и проверьте данные"
   ]
  },
  {
   "cell_type": "code",
   "execution_count": 13,
   "metadata": {},
   "outputs": [
    {
     "name": "stdout",
     "output_type": "stream",
     "text": [
      "Всего событий: 243713\n"
     ]
    }
   ],
   "source": [
    "#сколько событий в логе\n",
    "print('Всего событий:', df['event_name'].count())"
   ]
  },
  {
   "cell_type": "code",
   "execution_count": 14,
   "metadata": {},
   "outputs": [
    {
     "name": "stdout",
     "output_type": "stream",
     "text": [
      "Всего пользователей: 7551\n"
     ]
    }
   ],
   "source": [
    "#сколько пользователей в логе\n",
    "print('Всего пользователей:', df['user_id'].nunique())"
   ]
  },
  {
   "cell_type": "code",
   "execution_count": 15,
   "metadata": {},
   "outputs": [
    {
     "data": {
      "text/html": [
       "<div>\n",
       "<style scoped>\n",
       "    .dataframe tbody tr th:only-of-type {\n",
       "        vertical-align: middle;\n",
       "    }\n",
       "\n",
       "    .dataframe tbody tr th {\n",
       "        vertical-align: top;\n",
       "    }\n",
       "\n",
       "    .dataframe thead th {\n",
       "        text-align: right;\n",
       "    }\n",
       "</style>\n",
       "<table border=\"1\" class=\"dataframe\">\n",
       "  <thead>\n",
       "    <tr style=\"text-align: right;\">\n",
       "      <th></th>\n",
       "      <th>event_dt</th>\n",
       "      <th>event_name</th>\n",
       "    </tr>\n",
       "    <tr>\n",
       "      <th>user_id</th>\n",
       "      <th></th>\n",
       "      <th></th>\n",
       "    </tr>\n",
       "  </thead>\n",
       "  <tbody>\n",
       "    <tr>\n",
       "      <th>6304868067479728361</th>\n",
       "      <td>2019-08-07 19:26:48</td>\n",
       "      <td>2307</td>\n",
       "    </tr>\n",
       "    <tr>\n",
       "      <th>197027893265565660</th>\n",
       "      <td>2019-08-07 16:37:52</td>\n",
       "      <td>1998</td>\n",
       "    </tr>\n",
       "    <tr>\n",
       "      <th>4623191541214045580</th>\n",
       "      <td>2019-08-06 20:59:28</td>\n",
       "      <td>1768</td>\n",
       "    </tr>\n",
       "    <tr>\n",
       "      <th>6932517045703054087</th>\n",
       "      <td>2019-08-07 19:58:43</td>\n",
       "      <td>1439</td>\n",
       "    </tr>\n",
       "    <tr>\n",
       "      <th>1754140665440434215</th>\n",
       "      <td>2019-08-07 07:00:33</td>\n",
       "      <td>1221</td>\n",
       "    </tr>\n",
       "    <tr>\n",
       "      <th>...</th>\n",
       "      <td>...</td>\n",
       "      <td>...</td>\n",
       "    </tr>\n",
       "    <tr>\n",
       "      <th>7399061063341528729</th>\n",
       "      <td>2019-08-01 08:32:27</td>\n",
       "      <td>1</td>\n",
       "    </tr>\n",
       "    <tr>\n",
       "      <th>2968164493349205501</th>\n",
       "      <td>2019-08-06 14:53:04</td>\n",
       "      <td>1</td>\n",
       "    </tr>\n",
       "    <tr>\n",
       "      <th>8071397669512236988</th>\n",
       "      <td>2019-08-01 14:00:00</td>\n",
       "      <td>1</td>\n",
       "    </tr>\n",
       "    <tr>\n",
       "      <th>425817683219936619</th>\n",
       "      <td>2019-08-07 18:24:08</td>\n",
       "      <td>1</td>\n",
       "    </tr>\n",
       "    <tr>\n",
       "      <th>6888746892508752</th>\n",
       "      <td>2019-08-06 14:06:34</td>\n",
       "      <td>1</td>\n",
       "    </tr>\n",
       "  </tbody>\n",
       "</table>\n",
       "<p>7551 rows × 2 columns</p>\n",
       "</div>"
      ],
      "text/plain": [
       "                               event_dt  event_name\n",
       "user_id                                            \n",
       "6304868067479728361 2019-08-07 19:26:48        2307\n",
       "197027893265565660  2019-08-07 16:37:52        1998\n",
       "4623191541214045580 2019-08-06 20:59:28        1768\n",
       "6932517045703054087 2019-08-07 19:58:43        1439\n",
       "1754140665440434215 2019-08-07 07:00:33        1221\n",
       "...                                 ...         ...\n",
       "7399061063341528729 2019-08-01 08:32:27           1\n",
       "2968164493349205501 2019-08-06 14:53:04           1\n",
       "8071397669512236988 2019-08-01 14:00:00           1\n",
       "425817683219936619  2019-08-07 18:24:08           1\n",
       "6888746892508752    2019-08-06 14:06:34           1\n",
       "\n",
       "[7551 rows x 2 columns]"
      ]
     },
     "execution_count": 15,
     "metadata": {},
     "output_type": "execute_result"
    }
   ],
   "source": [
    "#среднее ко-во событий на одного пользователя\n",
    "df_avg = df.groupby('user_id').agg({'event_dt' : 'max',\n",
    "                                    'event_name' : 'count'}).sort_values(by='event_name', ascending=False)\n",
    "\n",
    "df_avg"
   ]
  },
  {
   "cell_type": "code",
   "execution_count": 16,
   "metadata": {},
   "outputs": [
    {
     "data": {
      "text/html": [
       "<div>\n",
       "<style scoped>\n",
       "    .dataframe tbody tr th:only-of-type {\n",
       "        vertical-align: middle;\n",
       "    }\n",
       "\n",
       "    .dataframe tbody tr th {\n",
       "        vertical-align: top;\n",
       "    }\n",
       "\n",
       "    .dataframe thead th {\n",
       "        text-align: right;\n",
       "    }\n",
       "</style>\n",
       "<table border=\"1\" class=\"dataframe\">\n",
       "  <thead>\n",
       "    <tr style=\"text-align: right;\">\n",
       "      <th></th>\n",
       "      <th>event_name</th>\n",
       "    </tr>\n",
       "  </thead>\n",
       "  <tbody>\n",
       "    <tr>\n",
       "      <th>count</th>\n",
       "      <td>7551.000000</td>\n",
       "    </tr>\n",
       "    <tr>\n",
       "      <th>mean</th>\n",
       "      <td>32.275593</td>\n",
       "    </tr>\n",
       "    <tr>\n",
       "      <th>std</th>\n",
       "      <td>65.154219</td>\n",
       "    </tr>\n",
       "    <tr>\n",
       "      <th>min</th>\n",
       "      <td>1.000000</td>\n",
       "    </tr>\n",
       "    <tr>\n",
       "      <th>25%</th>\n",
       "      <td>9.000000</td>\n",
       "    </tr>\n",
       "    <tr>\n",
       "      <th>50%</th>\n",
       "      <td>20.000000</td>\n",
       "    </tr>\n",
       "    <tr>\n",
       "      <th>75%</th>\n",
       "      <td>37.000000</td>\n",
       "    </tr>\n",
       "    <tr>\n",
       "      <th>max</th>\n",
       "      <td>2307.000000</td>\n",
       "    </tr>\n",
       "  </tbody>\n",
       "</table>\n",
       "</div>"
      ],
      "text/plain": [
       "        event_name\n",
       "count  7551.000000\n",
       "mean     32.275593\n",
       "std      65.154219\n",
       "min       1.000000\n",
       "25%       9.000000\n",
       "50%      20.000000\n",
       "75%      37.000000\n",
       "max    2307.000000"
      ]
     },
     "execution_count": 16,
     "metadata": {},
     "output_type": "execute_result"
    }
   ],
   "source": [
    "df_avg.describe()"
   ]
  },
  {
   "cell_type": "markdown",
   "metadata": {},
   "source": [
    "В среднем на одного пользователя приходится 32 события, по медиане - 20, видимо значительное кол-во пользователей с аномальным кол-вом событий"
   ]
  },
  {
   "cell_type": "code",
   "execution_count": 17,
   "metadata": {},
   "outputs": [
    {
     "data": {
      "image/png": "[encoded data removed]",
      "text/plain": [
       "<Figure size 1080x720 with 1 Axes>"
      ]
     },
     "metadata": {},
     "output_type": "display_data"
    }
   ],
   "source": [
    "#график распределения событий по пользователям\n",
    "plt.scatter(df_avg['event_dt'], df_avg['event_name'])\n",
    "plt.title('Количество событий по пользователям')\n",
    "plt.show()"
   ]
  },
  {
   "cell_type": "markdown",
   "metadata": {},
   "source": [
    "Пользователей с аномальным кол-вом событий много, пока оставим"
   ]
  },
  {
   "cell_type": "code",
   "execution_count": 18,
   "metadata": {},
   "outputs": [
    {
     "data": {
      "text/plain": [
       "Timestamp('2019-07-25 04:43:36')"
      ]
     },
     "execution_count": 18,
     "metadata": {},
     "output_type": "execute_result"
    }
   ],
   "source": [
    "#посчитем минимальную дату\n",
    "df['event_dt'].min()"
   ]
  },
  {
   "cell_type": "code",
   "execution_count": 19,
   "metadata": {},
   "outputs": [
    {
     "data": {
      "text/plain": [
       "Timestamp('2019-08-07 21:15:17')"
      ]
     },
     "execution_count": 19,
     "metadata": {},
     "output_type": "execute_result"
    }
   ],
   "source": [
    "#посчитаем максимальную дату\n",
    "df['event_dt'].max()"
   ]
  },
  {
   "cell_type": "code",
   "execution_count": 20,
   "metadata": {},
   "outputs": [
    {
     "data": {
      "image/png": "[encoded data removed]",
      "text/plain": [
       "<Figure size 1080x720 with 1 Axes>"
      ]
     },
     "metadata": {},
     "output_type": "display_data"
    }
   ],
   "source": [
    "df['event_dt'].hist()\n",
    "plt.title('Количество событий по дням')\n",
    "plt.ylabel('Кол-во событий')\n",
    "plt.show() "
   ]
  },
  {
   "cell_type": "markdown",
   "metadata": {},
   "source": [
    "Определил временной промежуток с 2019-08-01 по 2019-08-07"
   ]
  },
  {
   "cell_type": "code",
   "execution_count": 21,
   "metadata": {},
   "outputs": [],
   "source": [
    "#датафрейм с актуальным временным горизонтом\n",
    "df_new=df.query('event_dt >= \"2019-08-01\"')"
   ]
  },
  {
   "cell_type": "code",
   "execution_count": 22,
   "metadata": {},
   "outputs": [
    {
     "name": "stdout",
     "output_type": "stream",
     "text": [
      "Кол-во потерянных событий: 2826\n"
     ]
    }
   ],
   "source": [
    "#много ли событий пропало, отбросив старые данные\n",
    "dis_event=(df['event_name'].count())-(df_new['event_name'].count())\n",
    "print('Кол-во потерянных событий:', dis_event)"
   ]
  },
  {
   "cell_type": "code",
   "execution_count": 23,
   "metadata": {},
   "outputs": [
    {
     "name": "stdout",
     "output_type": "stream",
     "text": [
      "Доля потеряных событий: 1.16 %\n"
     ]
    }
   ],
   "source": [
    "print('Доля потеряных событий:', round((dis_event/df['event_name'].count())*100, 2), '%')"
   ]
  },
  {
   "cell_type": "markdown",
   "metadata": {},
   "source": [
    "С новым горизнтом осталось 240887 событий, потеря - 2826 событий это менее 2%, не критично"
   ]
  },
  {
   "cell_type": "code",
   "execution_count": 24,
   "metadata": {},
   "outputs": [],
   "source": [
    "#много ли пользователей потеряли, отбросив старые данные\n",
    "df_user_total=df_new['user_id'].nunique()"
   ]
  },
  {
   "cell_type": "code",
   "execution_count": 25,
   "metadata": {},
   "outputs": [
    {
     "name": "stdout",
     "output_type": "stream",
     "text": [
      "Кол-во потерянных пользователей: 17\n"
     ]
    }
   ],
   "source": [
    "dis_user=(df['user_id'].nunique())-(df_new['user_id'].nunique())\n",
    "print('Кол-во потерянных пользователей:', dis_user)"
   ]
  },
  {
   "cell_type": "code",
   "execution_count": 26,
   "metadata": {},
   "outputs": [
    {
     "name": "stdout",
     "output_type": "stream",
     "text": [
      "Доля потерянных пользователей: 0.23 %\n"
     ]
    }
   ],
   "source": [
    "print('Доля потерянных пользователей:', round((dis_user/df['user_id'].nunique())*100, 2), '%')"
   ]
  },
  {
   "cell_type": "markdown",
   "metadata": {},
   "source": [
    "С новым горизнтом осталось 7534 пользователей, потеря - 17 пользователей это менее 1%, не критично"
   ]
  },
  {
   "cell_type": "code",
   "execution_count": 27,
   "metadata": {},
   "outputs": [
    {
     "data": {
      "text/html": [
       "<div>\n",
       "<style scoped>\n",
       "    .dataframe tbody tr th:only-of-type {\n",
       "        vertical-align: middle;\n",
       "    }\n",
       "\n",
       "    .dataframe tbody tr th {\n",
       "        vertical-align: top;\n",
       "    }\n",
       "\n",
       "    .dataframe thead th {\n",
       "        text-align: right;\n",
       "    }\n",
       "</style>\n",
       "<table border=\"1\" class=\"dataframe\">\n",
       "  <thead>\n",
       "    <tr style=\"text-align: right;\">\n",
       "      <th></th>\n",
       "      <th>user_id</th>\n",
       "    </tr>\n",
       "    <tr>\n",
       "      <th>group</th>\n",
       "      <th></th>\n",
       "    </tr>\n",
       "  </thead>\n",
       "  <tbody>\n",
       "    <tr>\n",
       "      <th>246</th>\n",
       "      <td>2484</td>\n",
       "    </tr>\n",
       "    <tr>\n",
       "      <th>247</th>\n",
       "      <td>2513</td>\n",
       "    </tr>\n",
       "    <tr>\n",
       "      <th>248</th>\n",
       "      <td>2537</td>\n",
       "    </tr>\n",
       "  </tbody>\n",
       "</table>\n",
       "</div>"
      ],
      "text/plain": [
       "       user_id\n",
       "group         \n",
       "246       2484\n",
       "247       2513\n",
       "248       2537"
      ]
     },
     "execution_count": 27,
     "metadata": {},
     "output_type": "execute_result"
    }
   ],
   "source": [
    "df_new.groupby('group').agg({'user_id':'nunique'})"
   ]
  },
  {
   "cell_type": "markdown",
   "metadata": {},
   "source": [
    "С новым горизнтом все три группы на месте и разница в кол-ве незначительная"
   ]
  },
  {
   "cell_type": "markdown",
   "metadata": {},
   "source": [
    "## Изучите воронку событий"
   ]
  },
  {
   "cell_type": "code",
   "execution_count": 28,
   "metadata": {},
   "outputs": [
    {
     "data": {
      "text/html": [
       "<div>\n",
       "<style scoped>\n",
       "    .dataframe tbody tr th:only-of-type {\n",
       "        vertical-align: middle;\n",
       "    }\n",
       "\n",
       "    .dataframe tbody tr th {\n",
       "        vertical-align: top;\n",
       "    }\n",
       "\n",
       "    .dataframe thead th {\n",
       "        text-align: right;\n",
       "    }\n",
       "</style>\n",
       "<table border=\"1\" class=\"dataframe\">\n",
       "  <thead>\n",
       "    <tr style=\"text-align: right;\">\n",
       "      <th></th>\n",
       "      <th>user_id</th>\n",
       "    </tr>\n",
       "    <tr>\n",
       "      <th>event_name</th>\n",
       "      <th></th>\n",
       "    </tr>\n",
       "  </thead>\n",
       "  <tbody>\n",
       "    <tr>\n",
       "      <th>MainScreenAppear</th>\n",
       "      <td>117328</td>\n",
       "    </tr>\n",
       "    <tr>\n",
       "      <th>OffersScreenAppear</th>\n",
       "      <td>46333</td>\n",
       "    </tr>\n",
       "    <tr>\n",
       "      <th>CartScreenAppear</th>\n",
       "      <td>42303</td>\n",
       "    </tr>\n",
       "    <tr>\n",
       "      <th>PaymentScreenSuccessful</th>\n",
       "      <td>33918</td>\n",
       "    </tr>\n",
       "    <tr>\n",
       "      <th>Tutorial</th>\n",
       "      <td>1005</td>\n",
       "    </tr>\n",
       "  </tbody>\n",
       "</table>\n",
       "</div>"
      ],
      "text/plain": [
       "                         user_id\n",
       "event_name                      \n",
       "MainScreenAppear          117328\n",
       "OffersScreenAppear         46333\n",
       "CartScreenAppear           42303\n",
       "PaymentScreenSuccessful    33918\n",
       "Tutorial                    1005"
      ]
     },
     "execution_count": 28,
     "metadata": {},
     "output_type": "execute_result"
    }
   ],
   "source": [
    "#какие события есть в логах\n",
    "df_new.groupby('event_name').agg({'user_id':'count'}).sort_values(by='user_id', ascending=False)"
   ]
  },
  {
   "cell_type": "code",
   "execution_count": 29,
   "metadata": {},
   "outputs": [
    {
     "data": {
      "text/html": [
       "<div>\n",
       "<style scoped>\n",
       "    .dataframe tbody tr th:only-of-type {\n",
       "        vertical-align: middle;\n",
       "    }\n",
       "\n",
       "    .dataframe tbody tr th {\n",
       "        vertical-align: top;\n",
       "    }\n",
       "\n",
       "    .dataframe thead th {\n",
       "        text-align: right;\n",
       "    }\n",
       "</style>\n",
       "<table border=\"1\" class=\"dataframe\">\n",
       "  <thead>\n",
       "    <tr style=\"text-align: right;\">\n",
       "      <th></th>\n",
       "      <th>event_name</th>\n",
       "      <th>user_id</th>\n",
       "    </tr>\n",
       "  </thead>\n",
       "  <tbody>\n",
       "    <tr>\n",
       "      <th>0</th>\n",
       "      <td>MainScreenAppear</td>\n",
       "      <td>7419</td>\n",
       "    </tr>\n",
       "    <tr>\n",
       "      <th>1</th>\n",
       "      <td>OffersScreenAppear</td>\n",
       "      <td>4593</td>\n",
       "    </tr>\n",
       "    <tr>\n",
       "      <th>2</th>\n",
       "      <td>CartScreenAppear</td>\n",
       "      <td>3734</td>\n",
       "    </tr>\n",
       "    <tr>\n",
       "      <th>3</th>\n",
       "      <td>PaymentScreenSuccessful</td>\n",
       "      <td>3539</td>\n",
       "    </tr>\n",
       "    <tr>\n",
       "      <th>4</th>\n",
       "      <td>Tutorial</td>\n",
       "      <td>840</td>\n",
       "    </tr>\n",
       "  </tbody>\n",
       "</table>\n",
       "</div>"
      ],
      "text/plain": [
       "                event_name  user_id\n",
       "0         MainScreenAppear     7419\n",
       "1       OffersScreenAppear     4593\n",
       "2         CartScreenAppear     3734\n",
       "3  PaymentScreenSuccessful     3539\n",
       "4                 Tutorial      840"
      ]
     },
     "execution_count": 29,
     "metadata": {},
     "output_type": "execute_result"
    }
   ],
   "source": [
    "#сколько пользователей совершали каждое из этих событий\n",
    "df_user_uniq = df_new.groupby('event_name').agg({'user_id': 'nunique'}).sort_values(by='user_id', ascending=False).reset_index()\n",
    "df_user_uniq"
   ]
  },
  {
   "cell_type": "markdown",
   "metadata": {},
   "source": [
    "В обоих случаях больше всего произошло событий MainScreenAppear (главная страница), составляет почти 50% от всего кол-ва. Далее идут OffersScreenAppear (предложения), CartScreenAppear (корзина) и PaymentScreenSuccessful (оплата), и в хвосте Tutorial (руководство)"
   ]
  },
  {
   "cell_type": "code",
   "execution_count": 30,
   "metadata": {},
   "outputs": [
    {
     "data": {
      "text/html": [
       "<div>\n",
       "<style scoped>\n",
       "    .dataframe tbody tr th:only-of-type {\n",
       "        vertical-align: middle;\n",
       "    }\n",
       "\n",
       "    .dataframe tbody tr th {\n",
       "        vertical-align: top;\n",
       "    }\n",
       "\n",
       "    .dataframe thead th {\n",
       "        text-align: right;\n",
       "    }\n",
       "</style>\n",
       "<table border=\"1\" class=\"dataframe\">\n",
       "  <thead>\n",
       "    <tr style=\"text-align: right;\">\n",
       "      <th></th>\n",
       "      <th>event_name</th>\n",
       "      <th>user_id</th>\n",
       "      <th>event_user_total</th>\n",
       "    </tr>\n",
       "  </thead>\n",
       "  <tbody>\n",
       "    <tr>\n",
       "      <th>0</th>\n",
       "      <td>MainScreenAppear</td>\n",
       "      <td>7419</td>\n",
       "      <td>98.47</td>\n",
       "    </tr>\n",
       "    <tr>\n",
       "      <th>1</th>\n",
       "      <td>OffersScreenAppear</td>\n",
       "      <td>4593</td>\n",
       "      <td>60.96</td>\n",
       "    </tr>\n",
       "    <tr>\n",
       "      <th>2</th>\n",
       "      <td>CartScreenAppear</td>\n",
       "      <td>3734</td>\n",
       "      <td>49.56</td>\n",
       "    </tr>\n",
       "    <tr>\n",
       "      <th>3</th>\n",
       "      <td>PaymentScreenSuccessful</td>\n",
       "      <td>3539</td>\n",
       "      <td>46.97</td>\n",
       "    </tr>\n",
       "    <tr>\n",
       "      <th>4</th>\n",
       "      <td>Tutorial</td>\n",
       "      <td>840</td>\n",
       "      <td>11.15</td>\n",
       "    </tr>\n",
       "  </tbody>\n",
       "</table>\n",
       "</div>"
      ],
      "text/plain": [
       "                event_name  user_id  event_user_total\n",
       "0         MainScreenAppear     7419             98.47\n",
       "1       OffersScreenAppear     4593             60.96\n",
       "2         CartScreenAppear     3734             49.56\n",
       "3  PaymentScreenSuccessful     3539             46.97\n",
       "4                 Tutorial      840             11.15"
      ]
     },
     "execution_count": 30,
     "metadata": {},
     "output_type": "execute_result"
    }
   ],
   "source": [
    "#доля пользователей, которые совершили хотя бы одно событие\n",
    "df_user_uniq['event_user_total'] = round((df_user_uniq['user_id']/df_user_total)*100, 2)\n",
    "df_user_uniq"
   ]
  },
  {
   "cell_type": "markdown",
   "metadata": {},
   "source": [
    "Видно, что от всех уникальных пользователей до оплаты доходит 47%"
   ]
  },
  {
   "cell_type": "code",
   "execution_count": 31,
   "metadata": {},
   "outputs": [
    {
     "data": {
      "text/html": [
       "<div>\n",
       "<style scoped>\n",
       "    .dataframe tbody tr th:only-of-type {\n",
       "        vertical-align: middle;\n",
       "    }\n",
       "\n",
       "    .dataframe tbody tr th {\n",
       "        vertical-align: top;\n",
       "    }\n",
       "\n",
       "    .dataframe thead th {\n",
       "        text-align: right;\n",
       "    }\n",
       "</style>\n",
       "<table border=\"1\" class=\"dataframe\">\n",
       "  <thead>\n",
       "    <tr style=\"text-align: right;\">\n",
       "      <th></th>\n",
       "      <th>event_name</th>\n",
       "      <th>user_id</th>\n",
       "      <th>event_user_total</th>\n",
       "      <th>event_user_pr</th>\n",
       "    </tr>\n",
       "  </thead>\n",
       "  <tbody>\n",
       "    <tr>\n",
       "      <th>0</th>\n",
       "      <td>MainScreenAppear</td>\n",
       "      <td>7419</td>\n",
       "      <td>98.47</td>\n",
       "      <td>inf</td>\n",
       "    </tr>\n",
       "    <tr>\n",
       "      <th>1</th>\n",
       "      <td>OffersScreenAppear</td>\n",
       "      <td>4593</td>\n",
       "      <td>60.96</td>\n",
       "      <td>61.91</td>\n",
       "    </tr>\n",
       "    <tr>\n",
       "      <th>2</th>\n",
       "      <td>CartScreenAppear</td>\n",
       "      <td>3734</td>\n",
       "      <td>49.56</td>\n",
       "      <td>81.30</td>\n",
       "    </tr>\n",
       "    <tr>\n",
       "      <th>3</th>\n",
       "      <td>PaymentScreenSuccessful</td>\n",
       "      <td>3539</td>\n",
       "      <td>46.97</td>\n",
       "      <td>94.78</td>\n",
       "    </tr>\n",
       "    <tr>\n",
       "      <th>4</th>\n",
       "      <td>Tutorial</td>\n",
       "      <td>840</td>\n",
       "      <td>11.15</td>\n",
       "      <td>23.74</td>\n",
       "    </tr>\n",
       "  </tbody>\n",
       "</table>\n",
       "</div>"
      ],
      "text/plain": [
       "                event_name  user_id  event_user_total  event_user_pr\n",
       "0         MainScreenAppear     7419             98.47            inf\n",
       "1       OffersScreenAppear     4593             60.96          61.91\n",
       "2         CartScreenAppear     3734             49.56          81.30\n",
       "3  PaymentScreenSuccessful     3539             46.97          94.78\n",
       "4                 Tutorial      840             11.15          23.74"
      ]
     },
     "execution_count": 31,
     "metadata": {},
     "output_type": "execute_result"
    }
   ],
   "source": [
    "#посчитаем по воронке событий, какая доля пользователей проходит на следующий шаг воронки\n",
    "df_user_uniq['event_user_pr'] = round((df_user_uniq['user_id']/df_user_uniq['user_id'].shift(1, fill_value=0))*100, 2)\n",
    "df_user_uniq"
   ]
  },
  {
   "cell_type": "markdown",
   "metadata": {},
   "source": [
    "Переход из предложений в корзину всего лишь составил 49% от общего кол-ва, а переход из главной страницы на страницу предложений составил 37%"
   ]
  },
  {
   "cell_type": "code",
   "execution_count": 32,
   "metadata": {},
   "outputs": [],
   "source": [
    "#копия фрейма с уникальными пользователями, для последующего удаления 'tutorial'\n",
    "df_user_uniq_copy = df_user_uniq.copy()\n",
    "df_user_uniq_copy.drop(labels = [4],axis = 0, inplace = True)"
   ]
  },
  {
   "cell_type": "code",
   "execution_count": 33,
   "metadata": {},
   "outputs": [
    {
     "data": {
      "image/png": "[encoded data removed]"
     },
     "metadata": {},
     "output_type": "display_data"
    }
   ],
   "source": [
    "#график воронки событий по пользователям\n",
    "fig = go.Figure(go.Funnel(x = df_user_uniq_copy['event_user_total'], y = df_user_uniq_copy['event_name']))\n",
    "fig.update_layout (title='Воронка событий',\n",
    "           yaxis_title='events')\n",
    "fig.show()"
   ]
  },
  {
   "cell_type": "markdown",
   "metadata": {},
   "source": [
    "## Изучите результаты эксперимента"
   ]
  },
  {
   "cell_type": "markdown",
   "metadata": {},
   "source": [
    "    Нулевая гипотеза: нет оснований считать доли разным. \n",
    "    Альтернативная гипотеза: между долями есть значимая разница"
   ]
  },
  {
   "cell_type": "code",
   "execution_count": 34,
   "metadata": {},
   "outputs": [
    {
     "name": "stdout",
     "output_type": "stream",
     "text": [
      "MainScreenAppearp-значение:0.6194860229779078\n",
      "Не удалось отвергнуть нулевую гипотезу, нет оснований считать доли разными\n",
      "OffersScreenAppearp-значение:0.2352227460362717\n",
      "Отвергаем нулевую гипотезу: между долями есть значимая разница\n",
      "CartScreenAppearp-значение:0.21899829728450415\n",
      "Отвергаем нулевую гипотезу: между долями есть значимая разница\n",
      "PaymentScreenSuccessfulp-значение:0.10914759823712927\n",
      "Отвергаем нулевую гипотезу: между долями есть значимая разница\n",
      "Tutorialp-значение:0.9454168827071352\n",
      "Не удалось отвергнуть нулевую гипотезу, нет оснований считать доли разными\n"
     ]
    }
   ],
   "source": [
    "#проверим статистические критерии разницу между выборками 246 и 247 с помощью функции\n",
    "users_total=df.groupby('group')['user_id'].nunique()\n",
    "users_total['246_247']=users_total[246]+users_total[247]\n",
    "\n",
    "users_funnel=(\n",
    "    df_new.pivot_table(index='event_name', columns='group', values='user_id', aggfunc='nunique')\n",
    "    .reset_index()\n",
    "    .sort_values(by=246, ascending=False)\n",
    ")\n",
    "users_funnel['246_247']=users_funnel[246] + users_funnel[247]\n",
    "\n",
    "def  z (group1, group2, alpha):\n",
    "    for i in users_funnel.index: \n",
    "        p1=users_funnel[group1][i]/users_total[group1]\n",
    "        p2=users_funnel[ group2][i]/users_total[group2]\n",
    "        p_combined=((users_funnel[group1][i]+users_funnel[group2][i])/(users_total[group1]+users_total[group2]))\n",
    "        difference=p1-p2\n",
    "        z_value=difference/mth.sqrt(p_combined*(1-p_combined)*(1/users_total[group1]+1/users_total[group2]))\n",
    "        distr=stats.norm(0, 1)\n",
    "        p_value=(1-distr.cdf(abs(z_value)))*2 \n",
    "        print ('{}p-значение:{}'.format(users_funnel['event_name'][i], p_value)) \n",
    "        if (p_value<alpha ): \n",
    "            print('Отвергаем нулевую гипотезу: между долями есть значимая разница') \n",
    "        else: \n",
    "            print('Не удалось отвергнуть нулевую гипотезу, нет оснований считать доли разными')\n",
    "    \n",
    "z(246, 247, 0.5)"
   ]
  },
  {
   "cell_type": "code",
   "execution_count": 35,
   "metadata": {},
   "outputs": [
    {
     "name": "stdout",
     "output_type": "stream",
     "text": [
      "MainScreenAppearp-значение:0.32916112087956995\n",
      "Не удалось отвергнуть нулевую гипотезу, нет оснований считать доли разными\n",
      "OffersScreenAppearp-значение:0.2097513010649208\n",
      "Не удалось отвергнуть нулевую гипотезу, нет оснований считать доли разными\n",
      "CartScreenAppearp-значение:0.07897406022802644\n",
      "Отвергаем нулевую гипотезу: между долями есть значимая разница\n",
      "PaymentScreenSuccessfulp-значение:0.21318312148591856\n",
      "Не удалось отвергнуть нулевую гипотезу, нет оснований считать доли разными\n",
      "Tutorialp-значение:0.8268596773192287\n",
      "Не удалось отвергнуть нулевую гипотезу, нет оснований считать доли разными\n"
     ]
    }
   ],
   "source": [
    "#проверим статистические критерии разницу между выборками 246 и 248\n",
    "z(246, 248, 0.1)"
   ]
  },
  {
   "cell_type": "code",
   "execution_count": 36,
   "metadata": {
    "scrolled": true
   },
   "outputs": [
    {
     "name": "stdout",
     "output_type": "stream",
     "text": [
      "MainScreenAppearp-значение:0.630511483398956\n",
      "Не удалось отвергнуть нулевую гипотезу, нет оснований считать доли разными\n",
      "OffersScreenAppearp-значение:0.948242051780652\n",
      "Не удалось отвергнуть нулевую гипотезу, нет оснований считать доли разными\n",
      "CartScreenAppearp-значение:0.598491352466854\n",
      "Не удалось отвергнуть нулевую гипотезу, нет оснований считать доли разными\n",
      "PaymentScreenSuccessfulp-значение:0.7174796792830545\n",
      "Не удалось отвергнуть нулевую гипотезу, нет оснований считать доли разными\n",
      "Tutorialp-значение:0.7731671969169724\n",
      "Не удалось отвергнуть нулевую гипотезу, нет оснований считать доли разными\n"
     ]
    }
   ],
   "source": [
    "#проверим статистические критерии разницу между выборками 247 и 248\n",
    "z(247, 248, 0.05)"
   ]
  },
  {
   "cell_type": "code",
   "execution_count": 37,
   "metadata": {},
   "outputs": [
    {
     "name": "stdout",
     "output_type": "stream",
     "text": [
      "MainScreenAppearp-значение:0.39650789406907316\n",
      "Не удалось отвергнуть нулевую гипотезу, нет оснований считать доли разными\n",
      "OffersScreenAppearp-значение:0.44807592847340594\n",
      "Не удалось отвергнуть нулевую гипотезу, нет оснований считать доли разными\n",
      "CartScreenAppearp-значение:0.18799753938915797\n",
      "Не удалось отвергнуть нулевую гипотезу, нет оснований считать доли разными\n",
      "PaymentScreenSuccessfulp-значение:0.6123472065065059\n",
      "Не удалось отвергнуть нулевую гипотезу, нет оснований считать доли разными\n",
      "Tutorialp-значение:0.7696461997168715\n",
      "Не удалось отвергнуть нулевую гипотезу, нет оснований считать доли разными\n"
     ]
    }
   ],
   "source": [
    "#проверим статистические критерии разницу между выборками 246+247 и 248\n",
    "z('246_247', 248, 0.05)"
   ]
  },
  {
   "cell_type": "markdown",
   "metadata": {},
   "source": [
    "<b>Итоговый вывод:</b>\n",
    "\n",
    "Остановить тест, изменение шрифта не повлияет на конверсию и увеличение продаж."
   ]
  }
 ],
 "metadata": {
  "ExecuteTimeLog": [
   {
    "duration": 1366,
    "start_time": "2023-02-07T16:33:01.265Z"
   },
   {
    "duration": 132,
    "start_time": "2023-02-07T16:33:44.531Z"
   },
   {
    "duration": 808,
    "start_time": "2023-02-07T16:33:56.231Z"
   },
   {
    "duration": 306,
    "start_time": "2023-02-07T16:34:10.457Z"
   },
   {
    "duration": 85,
    "start_time": "2023-02-07T16:34:31.154Z"
   },
   {
    "duration": 166,
    "start_time": "2023-02-07T16:34:39.113Z"
   },
   {
    "duration": 3,
    "start_time": "2023-02-07T16:36:42.852Z"
   },
   {
    "duration": 12,
    "start_time": "2023-02-07T16:36:48.428Z"
   },
   {
    "duration": 20,
    "start_time": "2023-02-07T16:37:20.179Z"
   },
   {
    "duration": 79,
    "start_time": "2023-02-07T16:43:31.134Z"
   },
   {
    "duration": 84,
    "start_time": "2023-02-07T16:43:47.606Z"
   },
   {
    "duration": 121,
    "start_time": "2023-02-07T16:43:56.008Z"
   },
   {
    "duration": 86,
    "start_time": "2023-02-07T16:44:05.909Z"
   },
   {
    "duration": 1143,
    "start_time": "2023-02-07T16:44:12.135Z"
   },
   {
    "duration": 158,
    "start_time": "2023-02-07T16:44:13.280Z"
   },
   {
    "duration": 11,
    "start_time": "2023-02-07T16:44:13.442Z"
   },
   {
    "duration": 45,
    "start_time": "2023-02-07T16:44:13.454Z"
   },
   {
    "duration": 393,
    "start_time": "2023-02-07T16:44:13.502Z"
   },
   {
    "duration": 88,
    "start_time": "2023-02-07T16:44:21.820Z"
   },
   {
    "duration": 15,
    "start_time": "2023-02-07T16:45:49.488Z"
   },
   {
    "duration": 80,
    "start_time": "2023-02-07T16:46:42.861Z"
   },
   {
    "duration": 88,
    "start_time": "2023-02-07T16:46:47.521Z"
   },
   {
    "duration": 1151,
    "start_time": "2023-02-07T16:48:04.231Z"
   },
   {
    "duration": 155,
    "start_time": "2023-02-07T16:48:05.384Z"
   },
   {
    "duration": 8,
    "start_time": "2023-02-07T16:48:05.541Z"
   },
   {
    "duration": 102,
    "start_time": "2023-02-07T16:48:05.551Z"
   },
   {
    "duration": 40,
    "start_time": "2023-02-07T16:48:05.655Z"
   },
   {
    "duration": 106,
    "start_time": "2023-02-07T16:48:05.697Z"
   },
   {
    "duration": 3,
    "start_time": "2023-02-07T16:48:05.805Z"
   },
   {
    "duration": 16,
    "start_time": "2023-02-07T16:48:05.810Z"
   },
   {
    "duration": 1180,
    "start_time": "2023-02-07T16:48:25.100Z"
   },
   {
    "duration": 193,
    "start_time": "2023-02-07T16:48:26.282Z"
   },
   {
    "duration": 12,
    "start_time": "2023-02-07T16:48:26.477Z"
   },
   {
    "duration": 153,
    "start_time": "2023-02-07T16:48:26.492Z"
   },
   {
    "duration": 54,
    "start_time": "2023-02-07T16:48:26.647Z"
   },
   {
    "duration": 105,
    "start_time": "2023-02-07T16:48:26.703Z"
   },
   {
    "duration": 3,
    "start_time": "2023-02-07T16:48:26.810Z"
   },
   {
    "duration": 1201,
    "start_time": "2023-02-07T16:48:46.013Z"
   },
   {
    "duration": 162,
    "start_time": "2023-02-07T16:48:47.217Z"
   },
   {
    "duration": 12,
    "start_time": "2023-02-07T16:48:47.381Z"
   },
   {
    "duration": 98,
    "start_time": "2023-02-07T16:48:47.394Z"
   },
   {
    "duration": 25,
    "start_time": "2023-02-07T16:48:47.494Z"
   },
   {
    "duration": 102,
    "start_time": "2023-02-07T16:48:47.521Z"
   },
   {
    "duration": 2,
    "start_time": "2023-02-07T16:48:47.626Z"
   },
   {
    "duration": 13,
    "start_time": "2023-02-07T16:48:47.630Z"
   },
   {
    "duration": 128,
    "start_time": "2023-02-07T16:49:05.147Z"
   },
   {
    "duration": 108,
    "start_time": "2023-02-07T16:49:17.998Z"
   },
   {
    "duration": 91,
    "start_time": "2023-02-07T16:50:35.916Z"
   },
   {
    "duration": 75,
    "start_time": "2023-02-07T16:50:57.058Z"
   },
   {
    "duration": 167,
    "start_time": "2023-02-07T16:51:20.216Z"
   },
   {
    "duration": 79,
    "start_time": "2023-02-07T16:51:28.262Z"
   },
   {
    "duration": 81,
    "start_time": "2023-02-07T16:51:49.124Z"
   },
   {
    "duration": 78,
    "start_time": "2023-02-07T16:52:19.939Z"
   },
   {
    "duration": 83,
    "start_time": "2023-02-07T16:52:37.584Z"
   },
   {
    "duration": 174,
    "start_time": "2023-02-07T17:17:01.237Z"
   },
   {
    "duration": 155,
    "start_time": "2023-02-07T17:17:09.690Z"
   },
   {
    "duration": 28,
    "start_time": "2023-02-07T17:17:34.012Z"
   },
   {
    "duration": 12,
    "start_time": "2023-02-07T18:19:23.010Z"
   },
   {
    "duration": 1183,
    "start_time": "2023-02-07T18:19:29.259Z"
   },
   {
    "duration": 171,
    "start_time": "2023-02-07T18:19:30.444Z"
   },
   {
    "duration": 7,
    "start_time": "2023-02-07T18:19:30.617Z"
   },
   {
    "duration": 110,
    "start_time": "2023-02-07T18:19:30.626Z"
   },
   {
    "duration": 28,
    "start_time": "2023-02-07T18:19:30.739Z"
   },
   {
    "duration": 100,
    "start_time": "2023-02-07T18:19:30.769Z"
   },
   {
    "duration": 87,
    "start_time": "2023-02-07T18:19:30.871Z"
   },
   {
    "duration": 186,
    "start_time": "2023-02-07T18:19:30.960Z"
   },
   {
    "duration": 27,
    "start_time": "2023-02-07T18:19:31.148Z"
   },
   {
    "duration": 12,
    "start_time": "2023-02-07T18:19:31.191Z"
   },
   {
    "duration": 10,
    "start_time": "2023-02-07T18:19:34.543Z"
   },
   {
    "duration": 36,
    "start_time": "2023-02-07T18:21:42.307Z"
   },
   {
    "duration": 33,
    "start_time": "2023-02-07T18:22:04.537Z"
   },
   {
    "duration": 35,
    "start_time": "2023-02-07T18:22:16.529Z"
   },
   {
    "duration": 37,
    "start_time": "2023-02-07T18:22:37.904Z"
   },
   {
    "duration": 40,
    "start_time": "2023-02-07T18:22:44.582Z"
   },
   {
    "duration": 1352,
    "start_time": "2023-02-08T16:03:55.321Z"
   },
   {
    "duration": 622,
    "start_time": "2023-02-08T16:03:56.674Z"
   },
   {
    "duration": 9,
    "start_time": "2023-02-08T16:03:57.298Z"
   },
   {
    "duration": 88,
    "start_time": "2023-02-08T16:03:57.309Z"
   },
   {
    "duration": 45,
    "start_time": "2023-02-08T16:03:57.399Z"
   },
   {
    "duration": 164,
    "start_time": "2023-02-08T16:03:57.447Z"
   },
   {
    "duration": 93,
    "start_time": "2023-02-08T16:03:57.613Z"
   },
   {
    "duration": 198,
    "start_time": "2023-02-08T16:03:57.708Z"
   },
   {
    "duration": 41,
    "start_time": "2023-02-08T16:03:57.908Z"
   },
   {
    "duration": 43,
    "start_time": "2023-02-08T16:03:57.951Z"
   },
   {
    "duration": 11,
    "start_time": "2023-02-08T16:03:57.995Z"
   },
   {
    "duration": 57,
    "start_time": "2023-02-08T16:06:14.129Z"
   },
   {
    "duration": 50,
    "start_time": "2023-02-08T16:06:55.332Z"
   },
   {
    "duration": 54,
    "start_time": "2023-02-08T16:07:32.693Z"
   },
   {
    "duration": 13,
    "start_time": "2023-02-08T16:35:13.441Z"
   },
   {
    "duration": 7,
    "start_time": "2023-02-08T16:35:41.493Z"
   },
   {
    "duration": 19,
    "start_time": "2023-02-08T16:54:49.585Z"
   },
   {
    "duration": 25,
    "start_time": "2023-02-08T16:55:00.687Z"
   },
   {
    "duration": 10,
    "start_time": "2023-02-08T16:55:35.676Z"
   },
   {
    "duration": 99,
    "start_time": "2023-02-08T17:00:45.554Z"
   },
   {
    "duration": 352,
    "start_time": "2023-02-08T17:00:55.553Z"
   },
   {
    "duration": 239,
    "start_time": "2023-02-08T17:01:06.360Z"
   },
   {
    "duration": 1230,
    "start_time": "2023-02-08T17:01:13.320Z"
   },
   {
    "duration": 162,
    "start_time": "2023-02-08T17:01:14.552Z"
   },
   {
    "duration": 16,
    "start_time": "2023-02-08T17:01:14.716Z"
   },
   {
    "duration": 111,
    "start_time": "2023-02-08T17:01:14.734Z"
   },
   {
    "duration": 25,
    "start_time": "2023-02-08T17:01:14.849Z"
   },
   {
    "duration": 104,
    "start_time": "2023-02-08T17:01:14.876Z"
   },
   {
    "duration": 93,
    "start_time": "2023-02-08T17:01:14.982Z"
   },
   {
    "duration": 258,
    "start_time": "2023-02-08T17:01:15.077Z"
   },
   {
    "duration": 28,
    "start_time": "2023-02-08T17:01:15.341Z"
   },
   {
    "duration": 43,
    "start_time": "2023-02-08T17:01:15.371Z"
   },
   {
    "duration": 15,
    "start_time": "2023-02-08T17:01:15.432Z"
   },
   {
    "duration": 33,
    "start_time": "2023-02-08T17:01:15.449Z"
   },
   {
    "duration": 40,
    "start_time": "2023-02-08T17:01:15.484Z"
   },
   {
    "duration": 14,
    "start_time": "2023-02-08T17:01:15.527Z"
   },
   {
    "duration": 254,
    "start_time": "2023-02-08T17:01:15.543Z"
   },
   {
    "duration": 1142,
    "start_time": "2023-02-08T17:01:32.420Z"
   },
   {
    "duration": 156,
    "start_time": "2023-02-08T17:01:33.564Z"
   },
   {
    "duration": 11,
    "start_time": "2023-02-08T17:01:33.721Z"
   },
   {
    "duration": 111,
    "start_time": "2023-02-08T17:01:33.734Z"
   },
   {
    "duration": 24,
    "start_time": "2023-02-08T17:01:33.847Z"
   },
   {
    "duration": 89,
    "start_time": "2023-02-08T17:01:33.873Z"
   },
   {
    "duration": 90,
    "start_time": "2023-02-08T17:01:33.964Z"
   },
   {
    "duration": 189,
    "start_time": "2023-02-08T17:01:34.056Z"
   },
   {
    "duration": 30,
    "start_time": "2023-02-08T17:01:34.246Z"
   },
   {
    "duration": 66,
    "start_time": "2023-02-08T17:01:34.278Z"
   },
   {
    "duration": 16,
    "start_time": "2023-02-08T17:01:34.346Z"
   },
   {
    "duration": 22,
    "start_time": "2023-02-08T17:01:34.363Z"
   },
   {
    "duration": 41,
    "start_time": "2023-02-08T17:01:34.387Z"
   },
   {
    "duration": 23,
    "start_time": "2023-02-08T17:01:34.430Z"
   },
   {
    "duration": 330,
    "start_time": "2023-02-08T17:01:34.455Z"
   },
   {
    "duration": 5,
    "start_time": "2023-02-08T17:04:01.841Z"
   },
   {
    "duration": 5,
    "start_time": "2023-02-08T17:04:11.521Z"
   },
   {
    "duration": 5,
    "start_time": "2023-02-08T17:04:32.253Z"
   },
   {
    "duration": 6,
    "start_time": "2023-02-08T17:04:37.795Z"
   },
   {
    "duration": 6,
    "start_time": "2023-02-08T17:04:59.120Z"
   },
   {
    "duration": 223,
    "start_time": "2023-02-08T17:05:37.796Z"
   },
   {
    "duration": 278,
    "start_time": "2023-02-08T17:05:59.987Z"
   },
   {
    "duration": 19,
    "start_time": "2023-02-08T17:06:49.961Z"
   },
   {
    "duration": 12,
    "start_time": "2023-02-08T17:07:04.376Z"
   },
   {
    "duration": 28,
    "start_time": "2023-02-08T17:07:38.426Z"
   },
   {
    "duration": 104,
    "start_time": "2023-02-08T17:11:44.773Z"
   },
   {
    "duration": 17,
    "start_time": "2023-02-08T17:11:50.153Z"
   },
   {
    "duration": 13,
    "start_time": "2023-02-08T17:11:52.021Z"
   },
   {
    "duration": 11,
    "start_time": "2023-02-08T17:13:39.271Z"
   },
   {
    "duration": 7,
    "start_time": "2023-02-08T17:13:59.020Z"
   },
   {
    "duration": 33,
    "start_time": "2023-02-08T17:14:56.687Z"
   },
   {
    "duration": 26,
    "start_time": "2023-02-08T17:18:27.871Z"
   },
   {
    "duration": 51,
    "start_time": "2023-02-08T17:21:25.265Z"
   },
   {
    "duration": 48,
    "start_time": "2023-02-08T17:21:39.445Z"
   },
   {
    "duration": 6,
    "start_time": "2023-02-08T17:26:29.666Z"
   },
   {
    "duration": 9,
    "start_time": "2023-02-08T17:26:36.474Z"
   },
   {
    "duration": 60,
    "start_time": "2023-02-08T17:27:03.467Z"
   },
   {
    "duration": 59,
    "start_time": "2023-02-08T17:27:14.192Z"
   },
   {
    "duration": 49,
    "start_time": "2023-02-08T17:27:39.536Z"
   },
   {
    "duration": 4,
    "start_time": "2023-02-08T17:27:49.687Z"
   },
   {
    "duration": 8,
    "start_time": "2023-02-08T17:28:05.341Z"
   },
   {
    "duration": 8,
    "start_time": "2023-02-08T17:28:56.870Z"
   },
   {
    "duration": 9,
    "start_time": "2023-02-08T17:29:27.142Z"
   },
   {
    "duration": 21,
    "start_time": "2023-02-08T17:30:14.422Z"
   },
   {
    "duration": 8,
    "start_time": "2023-02-08T17:51:36.664Z"
   },
   {
    "duration": 112,
    "start_time": "2023-02-08T17:51:48.365Z"
   },
   {
    "duration": 102,
    "start_time": "2023-02-08T17:52:52.623Z"
   },
   {
    "duration": 9,
    "start_time": "2023-02-08T17:53:21.139Z"
   },
   {
    "duration": 13,
    "start_time": "2023-02-08T17:53:54.613Z"
   },
   {
    "duration": 12,
    "start_time": "2023-02-08T17:53:56.538Z"
   },
   {
    "duration": 1597,
    "start_time": "2023-02-09T16:19:48.593Z"
   },
   {
    "duration": 751,
    "start_time": "2023-02-09T16:19:50.193Z"
   },
   {
    "duration": 17,
    "start_time": "2023-02-09T16:19:50.947Z"
   },
   {
    "duration": 136,
    "start_time": "2023-02-09T16:19:50.966Z"
   },
   {
    "duration": 41,
    "start_time": "2023-02-09T16:19:51.104Z"
   },
   {
    "duration": 130,
    "start_time": "2023-02-09T16:19:51.147Z"
   },
   {
    "duration": 104,
    "start_time": "2023-02-09T16:19:51.279Z"
   },
   {
    "duration": 226,
    "start_time": "2023-02-09T16:19:51.385Z"
   },
   {
    "duration": 41,
    "start_time": "2023-02-09T16:19:51.613Z"
   },
   {
    "duration": 68,
    "start_time": "2023-02-09T16:19:51.656Z"
   },
   {
    "duration": 19,
    "start_time": "2023-02-09T16:19:51.726Z"
   },
   {
    "duration": 43,
    "start_time": "2023-02-09T16:19:51.751Z"
   },
   {
    "duration": 50,
    "start_time": "2023-02-09T16:19:51.795Z"
   },
   {
    "duration": 25,
    "start_time": "2023-02-09T16:19:51.850Z"
   },
   {
    "duration": 445,
    "start_time": "2023-02-09T16:19:51.877Z"
   },
   {
    "duration": 6,
    "start_time": "2023-02-09T16:19:52.324Z"
   },
   {
    "duration": 51,
    "start_time": "2023-02-09T16:19:52.339Z"
   },
   {
    "duration": 408,
    "start_time": "2023-02-09T16:19:52.391Z"
   },
   {
    "duration": 19,
    "start_time": "2023-02-09T16:19:52.801Z"
   },
   {
    "duration": 36,
    "start_time": "2023-02-09T16:19:52.823Z"
   },
   {
    "duration": 59,
    "start_time": "2023-02-09T16:19:52.861Z"
   },
   {
    "duration": 66,
    "start_time": "2023-02-09T16:19:52.923Z"
   },
   {
    "duration": 29,
    "start_time": "2023-02-09T16:19:52.992Z"
   },
   {
    "duration": 64,
    "start_time": "2023-02-09T16:19:53.023Z"
   },
   {
    "duration": 88,
    "start_time": "2023-02-09T16:19:53.089Z"
   },
   {
    "duration": 26,
    "start_time": "2023-02-09T16:19:53.179Z"
   },
   {
    "duration": 73,
    "start_time": "2023-02-09T16:19:53.206Z"
   },
   {
    "duration": 11,
    "start_time": "2023-02-09T16:19:53.282Z"
   },
   {
    "duration": 47,
    "start_time": "2023-02-09T16:19:53.295Z"
   },
   {
    "duration": 215,
    "start_time": "2023-02-09T16:19:53.344Z"
   },
   {
    "duration": 0,
    "start_time": "2023-02-09T16:19:53.561Z"
   },
   {
    "duration": 0,
    "start_time": "2023-02-09T16:19:53.562Z"
   },
   {
    "duration": 0,
    "start_time": "2023-02-09T16:19:53.564Z"
   },
   {
    "duration": 0,
    "start_time": "2023-02-09T16:19:53.565Z"
   },
   {
    "duration": 1390,
    "start_time": "2023-02-09T16:20:23.637Z"
   },
   {
    "duration": 202,
    "start_time": "2023-02-09T16:20:25.029Z"
   },
   {
    "duration": 18,
    "start_time": "2023-02-09T16:20:25.233Z"
   },
   {
    "duration": 163,
    "start_time": "2023-02-09T16:20:25.254Z"
   },
   {
    "duration": 52,
    "start_time": "2023-02-09T16:20:25.420Z"
   },
   {
    "duration": 148,
    "start_time": "2023-02-09T16:20:25.474Z"
   },
   {
    "duration": 115,
    "start_time": "2023-02-09T16:20:25.624Z"
   },
   {
    "duration": 213,
    "start_time": "2023-02-09T16:20:25.742Z"
   },
   {
    "duration": 41,
    "start_time": "2023-02-09T16:20:25.958Z"
   },
   {
    "duration": 78,
    "start_time": "2023-02-09T16:20:26.003Z"
   },
   {
    "duration": 11,
    "start_time": "2023-02-09T16:20:26.083Z"
   },
   {
    "duration": 10,
    "start_time": "2023-02-09T16:20:26.095Z"
   },
   {
    "duration": 58,
    "start_time": "2023-02-09T16:20:26.107Z"
   },
   {
    "duration": 14,
    "start_time": "2023-02-09T16:20:26.167Z"
   },
   {
    "duration": 429,
    "start_time": "2023-02-09T16:20:26.182Z"
   },
   {
    "duration": 7,
    "start_time": "2023-02-09T16:20:26.614Z"
   },
   {
    "duration": 20,
    "start_time": "2023-02-09T16:20:26.623Z"
   },
   {
    "duration": 368,
    "start_time": "2023-02-09T16:20:26.646Z"
   },
   {
    "duration": 30,
    "start_time": "2023-02-09T16:20:27.017Z"
   },
   {
    "duration": 36,
    "start_time": "2023-02-09T16:20:27.048Z"
   },
   {
    "duration": 13,
    "start_time": "2023-02-09T16:20:27.086Z"
   },
   {
    "duration": 20,
    "start_time": "2023-02-09T16:20:27.101Z"
   },
   {
    "duration": 11,
    "start_time": "2023-02-09T16:20:27.123Z"
   },
   {
    "duration": 37,
    "start_time": "2023-02-09T16:20:27.137Z"
   },
   {
    "duration": 46,
    "start_time": "2023-02-09T16:20:27.176Z"
   },
   {
    "duration": 30,
    "start_time": "2023-02-09T16:20:27.224Z"
   },
   {
    "duration": 102,
    "start_time": "2023-02-09T16:20:27.256Z"
   },
   {
    "duration": 15,
    "start_time": "2023-02-09T16:20:27.362Z"
   },
   {
    "duration": 28,
    "start_time": "2023-02-09T16:20:27.379Z"
   },
   {
    "duration": 263,
    "start_time": "2023-02-09T16:20:27.409Z"
   },
   {
    "duration": 0,
    "start_time": "2023-02-09T16:20:27.676Z"
   },
   {
    "duration": 0,
    "start_time": "2023-02-09T16:20:27.678Z"
   },
   {
    "duration": 0,
    "start_time": "2023-02-09T16:20:27.679Z"
   },
   {
    "duration": 181,
    "start_time": "2023-02-09T16:20:53.682Z"
   },
   {
    "duration": 1431,
    "start_time": "2023-02-09T16:20:59.420Z"
   },
   {
    "duration": 205,
    "start_time": "2023-02-09T16:21:00.854Z"
   },
   {
    "duration": 15,
    "start_time": "2023-02-09T16:21:01.062Z"
   },
   {
    "duration": 148,
    "start_time": "2023-02-09T16:21:01.080Z"
   },
   {
    "duration": 42,
    "start_time": "2023-02-09T16:21:01.231Z"
   },
   {
    "duration": 142,
    "start_time": "2023-02-09T16:21:01.275Z"
   },
   {
    "duration": 125,
    "start_time": "2023-02-09T16:21:01.419Z"
   },
   {
    "duration": 229,
    "start_time": "2023-02-09T16:21:01.548Z"
   },
   {
    "duration": 32,
    "start_time": "2023-02-09T16:21:01.778Z"
   },
   {
    "duration": 72,
    "start_time": "2023-02-09T16:21:01.812Z"
   },
   {
    "duration": 12,
    "start_time": "2023-02-09T16:21:01.885Z"
   },
   {
    "duration": 44,
    "start_time": "2023-02-09T16:21:01.900Z"
   },
   {
    "duration": 80,
    "start_time": "2023-02-09T16:21:01.946Z"
   },
   {
    "duration": 22,
    "start_time": "2023-02-09T16:21:02.030Z"
   },
   {
    "duration": 473,
    "start_time": "2023-02-09T16:21:02.054Z"
   },
   {
    "duration": 13,
    "start_time": "2023-02-09T16:21:02.529Z"
   },
   {
    "duration": 56,
    "start_time": "2023-02-09T16:21:02.544Z"
   },
   {
    "duration": 375,
    "start_time": "2023-02-09T16:21:02.602Z"
   },
   {
    "duration": 17,
    "start_time": "2023-02-09T16:21:02.979Z"
   },
   {
    "duration": 20,
    "start_time": "2023-02-09T16:21:02.997Z"
   },
   {
    "duration": 35,
    "start_time": "2023-02-09T16:21:03.019Z"
   },
   {
    "duration": 36,
    "start_time": "2023-02-09T16:21:03.057Z"
   },
   {
    "duration": 20,
    "start_time": "2023-02-09T16:21:03.095Z"
   },
   {
    "duration": 42,
    "start_time": "2023-02-09T16:21:03.117Z"
   },
   {
    "duration": 75,
    "start_time": "2023-02-09T16:21:03.163Z"
   },
   {
    "duration": 39,
    "start_time": "2023-02-09T16:21:03.239Z"
   },
   {
    "duration": 82,
    "start_time": "2023-02-09T16:21:03.281Z"
   },
   {
    "duration": 13,
    "start_time": "2023-02-09T16:21:03.365Z"
   },
   {
    "duration": 45,
    "start_time": "2023-02-09T16:21:03.382Z"
   },
   {
    "duration": 175,
    "start_time": "2023-02-09T16:21:03.429Z"
   },
   {
    "duration": 11,
    "start_time": "2023-02-09T16:21:03.606Z"
   },
   {
    "duration": 69,
    "start_time": "2023-02-09T16:21:03.619Z"
   },
   {
    "duration": 18,
    "start_time": "2023-02-09T16:21:03.690Z"
   },
   {
    "duration": 1352,
    "start_time": "2023-02-09T16:26:17.459Z"
   },
   {
    "duration": 203,
    "start_time": "2023-02-09T16:26:18.813Z"
   },
   {
    "duration": 10,
    "start_time": "2023-02-09T16:26:19.018Z"
   },
   {
    "duration": 160,
    "start_time": "2023-02-09T16:26:19.029Z"
   },
   {
    "duration": 25,
    "start_time": "2023-02-09T16:26:19.191Z"
   },
   {
    "duration": 117,
    "start_time": "2023-02-09T16:26:19.218Z"
   },
   {
    "duration": 103,
    "start_time": "2023-02-09T16:26:19.338Z"
   },
   {
    "duration": 210,
    "start_time": "2023-02-09T16:26:19.443Z"
   },
   {
    "duration": 32,
    "start_time": "2023-02-09T16:26:19.657Z"
   },
   {
    "duration": 79,
    "start_time": "2023-02-09T16:26:19.690Z"
   },
   {
    "duration": 12,
    "start_time": "2023-02-09T16:26:19.771Z"
   },
   {
    "duration": 14,
    "start_time": "2023-02-09T16:26:19.785Z"
   },
   {
    "duration": 51,
    "start_time": "2023-02-09T16:26:19.801Z"
   },
   {
    "duration": 39,
    "start_time": "2023-02-09T16:26:19.855Z"
   },
   {
    "duration": 423,
    "start_time": "2023-02-09T16:26:19.895Z"
   },
   {
    "duration": 6,
    "start_time": "2023-02-09T16:26:20.320Z"
   },
   {
    "duration": 45,
    "start_time": "2023-02-09T16:26:20.328Z"
   },
   {
    "duration": 333,
    "start_time": "2023-02-09T16:26:20.375Z"
   },
   {
    "duration": 17,
    "start_time": "2023-02-09T16:26:20.711Z"
   },
   {
    "duration": 30,
    "start_time": "2023-02-09T16:26:20.737Z"
   },
   {
    "duration": 32,
    "start_time": "2023-02-09T16:26:20.770Z"
   },
   {
    "duration": 22,
    "start_time": "2023-02-09T16:26:20.804Z"
   },
   {
    "duration": 56,
    "start_time": "2023-02-09T16:26:20.828Z"
   },
   {
    "duration": 10,
    "start_time": "2023-02-09T16:26:20.885Z"
   },
   {
    "duration": 37,
    "start_time": "2023-02-09T16:26:20.896Z"
   },
   {
    "duration": 41,
    "start_time": "2023-02-09T16:26:20.935Z"
   },
   {
    "duration": 90,
    "start_time": "2023-02-09T16:26:20.978Z"
   },
   {
    "duration": 10,
    "start_time": "2023-02-09T16:26:21.072Z"
   },
   {
    "duration": 14,
    "start_time": "2023-02-09T16:26:21.086Z"
   },
   {
    "duration": 156,
    "start_time": "2023-02-09T16:26:21.102Z"
   },
   {
    "duration": 13,
    "start_time": "2023-02-09T16:26:21.260Z"
   },
   {
    "duration": 20,
    "start_time": "2023-02-09T16:26:21.277Z"
   },
   {
    "duration": 37,
    "start_time": "2023-02-09T16:26:21.299Z"
   },
   {
    "duration": 536,
    "start_time": "2023-02-09T16:27:06.831Z"
   },
   {
    "duration": 1308,
    "start_time": "2023-02-09T16:27:20.192Z"
   },
   {
    "duration": 180,
    "start_time": "2023-02-09T16:27:21.502Z"
   },
   {
    "duration": 11,
    "start_time": "2023-02-09T16:27:21.684Z"
   },
   {
    "duration": 127,
    "start_time": "2023-02-09T16:27:21.697Z"
   },
   {
    "duration": 45,
    "start_time": "2023-02-09T16:27:21.827Z"
   },
   {
    "duration": 100,
    "start_time": "2023-02-09T16:27:21.875Z"
   },
   {
    "duration": 98,
    "start_time": "2023-02-09T16:27:21.977Z"
   },
   {
    "duration": 214,
    "start_time": "2023-02-09T16:27:22.077Z"
   },
   {
    "duration": 29,
    "start_time": "2023-02-09T16:27:22.292Z"
   },
   {
    "duration": 64,
    "start_time": "2023-02-09T16:27:22.323Z"
   },
   {
    "duration": 11,
    "start_time": "2023-02-09T16:27:22.389Z"
   },
   {
    "duration": 42,
    "start_time": "2023-02-09T16:27:22.403Z"
   },
   {
    "duration": 66,
    "start_time": "2023-02-09T16:27:22.447Z"
   },
   {
    "duration": 13,
    "start_time": "2023-02-09T16:27:22.516Z"
   },
   {
    "duration": 418,
    "start_time": "2023-02-09T16:27:22.530Z"
   },
   {
    "duration": 8,
    "start_time": "2023-02-09T16:27:22.950Z"
   },
   {
    "duration": 41,
    "start_time": "2023-02-09T16:27:22.960Z"
   },
   {
    "duration": 327,
    "start_time": "2023-02-09T16:27:23.003Z"
   },
   {
    "duration": 23,
    "start_time": "2023-02-09T16:27:23.332Z"
   },
   {
    "duration": 34,
    "start_time": "2023-02-09T16:27:23.357Z"
   },
   {
    "duration": 25,
    "start_time": "2023-02-09T16:27:23.393Z"
   },
   {
    "duration": 44,
    "start_time": "2023-02-09T16:27:23.420Z"
   },
   {
    "duration": 32,
    "start_time": "2023-02-09T16:27:23.466Z"
   },
   {
    "duration": 19,
    "start_time": "2023-02-09T16:27:23.500Z"
   },
   {
    "duration": 73,
    "start_time": "2023-02-09T16:27:23.521Z"
   },
   {
    "duration": 26,
    "start_time": "2023-02-09T16:27:23.596Z"
   },
   {
    "duration": 77,
    "start_time": "2023-02-09T16:27:23.624Z"
   },
   {
    "duration": 10,
    "start_time": "2023-02-09T16:27:23.703Z"
   },
   {
    "duration": 55,
    "start_time": "2023-02-09T16:27:23.715Z"
   },
   {
    "duration": 162,
    "start_time": "2023-02-09T16:27:23.772Z"
   },
   {
    "duration": 18,
    "start_time": "2023-02-09T16:27:23.936Z"
   },
   {
    "duration": 35,
    "start_time": "2023-02-09T16:27:23.957Z"
   },
   {
    "duration": 46,
    "start_time": "2023-02-09T16:27:23.994Z"
   },
   {
    "duration": 198,
    "start_time": "2023-02-09T16:29:02.283Z"
   },
   {
    "duration": 1303,
    "start_time": "2023-02-12T19:33:35.131Z"
   },
   {
    "duration": 542,
    "start_time": "2023-02-12T19:33:36.436Z"
   },
   {
    "duration": 7,
    "start_time": "2023-02-12T19:33:36.980Z"
   },
   {
    "duration": 96,
    "start_time": "2023-02-12T19:33:36.989Z"
   },
   {
    "duration": 31,
    "start_time": "2023-02-12T19:33:37.087Z"
   },
   {
    "duration": 94,
    "start_time": "2023-02-12T19:33:37.119Z"
   },
   {
    "duration": 85,
    "start_time": "2023-02-12T19:33:37.215Z"
   },
   {
    "duration": 184,
    "start_time": "2023-02-12T19:33:37.302Z"
   },
   {
    "duration": 25,
    "start_time": "2023-02-12T19:33:37.487Z"
   },
   {
    "duration": 63,
    "start_time": "2023-02-12T19:33:37.514Z"
   },
   {
    "duration": 13,
    "start_time": "2023-02-12T19:33:37.578Z"
   },
   {
    "duration": 8,
    "start_time": "2023-02-12T19:33:37.592Z"
   },
   {
    "duration": 76,
    "start_time": "2023-02-12T19:33:37.601Z"
   },
   {
    "duration": 0,
    "start_time": "2023-02-12T19:33:37.679Z"
   },
   {
    "duration": 0,
    "start_time": "2023-02-12T19:33:37.680Z"
   },
   {
    "duration": 1,
    "start_time": "2023-02-12T19:33:37.681Z"
   },
   {
    "duration": 0,
    "start_time": "2023-02-12T19:33:37.683Z"
   },
   {
    "duration": 0,
    "start_time": "2023-02-12T19:33:37.684Z"
   },
   {
    "duration": 0,
    "start_time": "2023-02-12T19:33:37.685Z"
   },
   {
    "duration": 0,
    "start_time": "2023-02-12T19:33:37.687Z"
   },
   {
    "duration": 0,
    "start_time": "2023-02-12T19:33:37.688Z"
   },
   {
    "duration": 0,
    "start_time": "2023-02-12T19:33:37.689Z"
   },
   {
    "duration": 0,
    "start_time": "2023-02-12T19:33:37.691Z"
   },
   {
    "duration": 0,
    "start_time": "2023-02-12T19:33:37.692Z"
   },
   {
    "duration": 0,
    "start_time": "2023-02-12T19:33:37.693Z"
   },
   {
    "duration": 0,
    "start_time": "2023-02-12T19:33:37.693Z"
   },
   {
    "duration": 0,
    "start_time": "2023-02-12T19:33:37.694Z"
   },
   {
    "duration": 0,
    "start_time": "2023-02-12T19:33:37.695Z"
   },
   {
    "duration": 0,
    "start_time": "2023-02-12T19:33:37.696Z"
   },
   {
    "duration": 0,
    "start_time": "2023-02-12T19:33:37.697Z"
   },
   {
    "duration": 0,
    "start_time": "2023-02-12T19:33:37.698Z"
   },
   {
    "duration": 0,
    "start_time": "2023-02-12T19:33:37.699Z"
   },
   {
    "duration": 0,
    "start_time": "2023-02-12T19:33:37.700Z"
   },
   {
    "duration": 0,
    "start_time": "2023-02-12T19:33:37.701Z"
   },
   {
    "duration": 28,
    "start_time": "2023-02-12T19:33:53.016Z"
   },
   {
    "duration": 1090,
    "start_time": "2023-02-12T19:33:58.109Z"
   },
   {
    "duration": 175,
    "start_time": "2023-02-12T19:33:59.200Z"
   },
   {
    "duration": 7,
    "start_time": "2023-02-12T19:33:59.377Z"
   },
   {
    "duration": 99,
    "start_time": "2023-02-12T19:33:59.385Z"
   },
   {
    "duration": 29,
    "start_time": "2023-02-12T19:33:59.486Z"
   },
   {
    "duration": 91,
    "start_time": "2023-02-12T19:33:59.516Z"
   },
   {
    "duration": 90,
    "start_time": "2023-02-12T19:33:59.608Z"
   },
   {
    "duration": 174,
    "start_time": "2023-02-12T19:33:59.700Z"
   },
   {
    "duration": 25,
    "start_time": "2023-02-12T19:33:59.876Z"
   },
   {
    "duration": 41,
    "start_time": "2023-02-12T19:33:59.903Z"
   },
   {
    "duration": 27,
    "start_time": "2023-02-12T19:33:59.946Z"
   },
   {
    "duration": 9,
    "start_time": "2023-02-12T19:33:59.974Z"
   },
   {
    "duration": 29,
    "start_time": "2023-02-12T19:33:59.985Z"
   },
   {
    "duration": 10,
    "start_time": "2023-02-12T19:34:00.017Z"
   },
   {
    "duration": 333,
    "start_time": "2023-02-12T19:34:00.028Z"
   },
   {
    "duration": 5,
    "start_time": "2023-02-12T19:34:00.367Z"
   },
   {
    "duration": 12,
    "start_time": "2023-02-12T19:34:00.374Z"
   },
   {
    "duration": 306,
    "start_time": "2023-02-12T19:34:00.388Z"
   },
   {
    "duration": 15,
    "start_time": "2023-02-12T19:34:00.696Z"
   },
   {
    "duration": 21,
    "start_time": "2023-02-12T19:34:00.713Z"
   },
   {
    "duration": 35,
    "start_time": "2023-02-12T19:34:00.735Z"
   },
   {
    "duration": 43,
    "start_time": "2023-02-12T19:34:00.772Z"
   },
   {
    "duration": 47,
    "start_time": "2023-02-12T19:34:00.816Z"
   },
   {
    "duration": 36,
    "start_time": "2023-02-12T19:34:00.865Z"
   },
   {
    "duration": 52,
    "start_time": "2023-02-12T19:34:00.902Z"
   },
   {
    "duration": 25,
    "start_time": "2023-02-12T19:34:00.956Z"
   },
   {
    "duration": 62,
    "start_time": "2023-02-12T19:34:00.983Z"
   },
   {
    "duration": 8,
    "start_time": "2023-02-12T19:34:01.046Z"
   },
   {
    "duration": 27,
    "start_time": "2023-02-12T19:34:01.056Z"
   },
   {
    "duration": 117,
    "start_time": "2023-02-12T19:34:01.084Z"
   },
   {
    "duration": 0,
    "start_time": "2023-02-12T19:34:01.203Z"
   },
   {
    "duration": 0,
    "start_time": "2023-02-12T19:34:01.205Z"
   },
   {
    "duration": 0,
    "start_time": "2023-02-12T19:34:01.206Z"
   },
   {
    "duration": 0,
    "start_time": "2023-02-12T19:34:01.207Z"
   },
   {
    "duration": 1221,
    "start_time": "2023-02-12T19:36:57.531Z"
   },
   {
    "duration": 186,
    "start_time": "2023-02-12T19:36:58.754Z"
   },
   {
    "duration": 9,
    "start_time": "2023-02-12T19:36:58.943Z"
   },
   {
    "duration": 143,
    "start_time": "2023-02-12T19:36:58.954Z"
   },
   {
    "duration": 38,
    "start_time": "2023-02-12T19:36:59.100Z"
   },
   {
    "duration": 114,
    "start_time": "2023-02-12T19:36:59.140Z"
   },
   {
    "duration": 133,
    "start_time": "2023-02-12T19:36:59.256Z"
   },
   {
    "duration": 198,
    "start_time": "2023-02-12T19:36:59.391Z"
   },
   {
    "duration": 34,
    "start_time": "2023-02-12T19:36:59.591Z"
   },
   {
    "duration": 72,
    "start_time": "2023-02-12T19:36:59.627Z"
   },
   {
    "duration": 11,
    "start_time": "2023-02-12T19:36:59.701Z"
   },
   {
    "duration": 9,
    "start_time": "2023-02-12T19:36:59.714Z"
   },
   {
    "duration": 65,
    "start_time": "2023-02-12T19:36:59.725Z"
   },
   {
    "duration": 15,
    "start_time": "2023-02-12T19:36:59.795Z"
   },
   {
    "duration": 391,
    "start_time": "2023-02-12T19:36:59.812Z"
   },
   {
    "duration": 6,
    "start_time": "2023-02-12T19:37:00.205Z"
   },
   {
    "duration": 30,
    "start_time": "2023-02-12T19:37:00.213Z"
   },
   {
    "duration": 361,
    "start_time": "2023-02-12T19:37:00.245Z"
   },
   {
    "duration": 17,
    "start_time": "2023-02-12T19:37:00.609Z"
   },
   {
    "duration": 41,
    "start_time": "2023-02-12T19:37:00.628Z"
   },
   {
    "duration": 30,
    "start_time": "2023-02-12T19:37:00.672Z"
   },
   {
    "duration": 46,
    "start_time": "2023-02-12T19:37:00.704Z"
   },
   {
    "duration": 43,
    "start_time": "2023-02-12T19:37:00.752Z"
   },
   {
    "duration": 20,
    "start_time": "2023-02-12T19:37:00.797Z"
   },
   {
    "duration": 84,
    "start_time": "2023-02-12T19:37:00.820Z"
   },
   {
    "duration": 26,
    "start_time": "2023-02-12T19:37:00.907Z"
   },
   {
    "duration": 81,
    "start_time": "2023-02-12T19:37:00.934Z"
   },
   {
    "duration": 20,
    "start_time": "2023-02-12T19:37:01.020Z"
   },
   {
    "duration": 70,
    "start_time": "2023-02-12T19:37:01.042Z"
   },
   {
    "duration": 160,
    "start_time": "2023-02-12T19:37:01.114Z"
   },
   {
    "duration": 0,
    "start_time": "2023-02-12T19:37:01.287Z"
   },
   {
    "duration": 0,
    "start_time": "2023-02-12T19:37:01.289Z"
   },
   {
    "duration": 0,
    "start_time": "2023-02-12T19:37:01.291Z"
   },
   {
    "duration": 0,
    "start_time": "2023-02-12T19:37:01.292Z"
   },
   {
    "duration": 1377,
    "start_time": "2023-02-12T19:37:44.668Z"
   },
   {
    "duration": 1309,
    "start_time": "2023-02-12T19:37:59.012Z"
   },
   {
    "duration": 1361,
    "start_time": "2023-02-12T19:38:34.984Z"
   },
   {
    "duration": 211,
    "start_time": "2023-02-12T19:38:36.348Z"
   },
   {
    "duration": 18,
    "start_time": "2023-02-12T19:38:36.562Z"
   },
   {
    "duration": 124,
    "start_time": "2023-02-12T19:38:36.582Z"
   },
   {
    "duration": 39,
    "start_time": "2023-02-12T19:38:36.709Z"
   },
   {
    "duration": 136,
    "start_time": "2023-02-12T19:38:36.767Z"
   },
   {
    "duration": 122,
    "start_time": "2023-02-12T19:38:36.905Z"
   },
   {
    "duration": 233,
    "start_time": "2023-02-12T19:38:37.029Z"
   },
   {
    "duration": 38,
    "start_time": "2023-02-12T19:38:37.268Z"
   },
   {
    "duration": 80,
    "start_time": "2023-02-12T19:38:37.308Z"
   },
   {
    "duration": 22,
    "start_time": "2023-02-12T19:38:37.390Z"
   },
   {
    "duration": 14,
    "start_time": "2023-02-12T19:38:37.414Z"
   },
   {
    "duration": 65,
    "start_time": "2023-02-12T19:38:37.430Z"
   },
   {
    "duration": 14,
    "start_time": "2023-02-12T19:38:37.501Z"
   },
   {
    "duration": 403,
    "start_time": "2023-02-12T19:38:37.517Z"
   },
   {
    "duration": 5,
    "start_time": "2023-02-12T19:38:37.922Z"
   },
   {
    "duration": 9,
    "start_time": "2023-02-12T19:38:37.929Z"
   },
   {
    "duration": 340,
    "start_time": "2023-02-12T19:38:37.940Z"
   },
   {
    "duration": 20,
    "start_time": "2023-02-12T19:38:38.282Z"
   },
   {
    "duration": 23,
    "start_time": "2023-02-12T19:38:38.303Z"
   },
   {
    "duration": 46,
    "start_time": "2023-02-12T19:38:38.328Z"
   },
   {
    "duration": 28,
    "start_time": "2023-02-12T19:38:38.376Z"
   },
   {
    "duration": 14,
    "start_time": "2023-02-12T19:38:38.406Z"
   },
   {
    "duration": 8,
    "start_time": "2023-02-12T19:38:38.423Z"
   },
   {
    "duration": 59,
    "start_time": "2023-02-12T19:38:38.433Z"
   },
   {
    "duration": 39,
    "start_time": "2023-02-12T19:38:38.495Z"
   },
   {
    "duration": 108,
    "start_time": "2023-02-12T19:38:38.536Z"
   },
   {
    "duration": 10,
    "start_time": "2023-02-12T19:38:38.647Z"
   },
   {
    "duration": 36,
    "start_time": "2023-02-12T19:38:38.659Z"
   },
   {
    "duration": 1214,
    "start_time": "2023-02-12T19:38:38.697Z"
   },
   {
    "duration": 0,
    "start_time": "2023-02-12T19:38:39.914Z"
   },
   {
    "duration": 0,
    "start_time": "2023-02-12T19:38:39.916Z"
   },
   {
    "duration": 0,
    "start_time": "2023-02-12T19:38:39.918Z"
   },
   {
    "duration": 0,
    "start_time": "2023-02-12T19:38:39.920Z"
   },
   {
    "duration": 1253,
    "start_time": "2023-02-12T19:39:24.631Z"
   },
   {
    "duration": 1328,
    "start_time": "2023-02-12T19:40:02.779Z"
   },
   {
    "duration": 207,
    "start_time": "2023-02-12T19:40:04.109Z"
   },
   {
    "duration": 8,
    "start_time": "2023-02-12T19:40:04.317Z"
   },
   {
    "duration": 119,
    "start_time": "2023-02-12T19:40:04.327Z"
   },
   {
    "duration": 51,
    "start_time": "2023-02-12T19:40:04.448Z"
   },
   {
    "duration": 117,
    "start_time": "2023-02-12T19:40:04.500Z"
   },
   {
    "duration": 110,
    "start_time": "2023-02-12T19:40:04.619Z"
   },
   {
    "duration": 245,
    "start_time": "2023-02-12T19:40:04.731Z"
   },
   {
    "duration": 37,
    "start_time": "2023-02-12T19:40:04.979Z"
   },
   {
    "duration": 88,
    "start_time": "2023-02-12T19:40:05.019Z"
   },
   {
    "duration": 14,
    "start_time": "2023-02-12T19:40:05.110Z"
   },
   {
    "duration": 23,
    "start_time": "2023-02-12T19:40:05.126Z"
   },
   {
    "duration": 45,
    "start_time": "2023-02-12T19:40:05.151Z"
   },
   {
    "duration": 12,
    "start_time": "2023-02-12T19:40:05.200Z"
   },
   {
    "duration": 392,
    "start_time": "2023-02-12T19:40:05.214Z"
   },
   {
    "duration": 4,
    "start_time": "2023-02-12T19:40:05.608Z"
   },
   {
    "duration": 9,
    "start_time": "2023-02-12T19:40:05.613Z"
   },
   {
    "duration": 323,
    "start_time": "2023-02-12T19:40:05.623Z"
   },
   {
    "duration": 22,
    "start_time": "2023-02-12T19:40:05.948Z"
   },
   {
    "duration": 25,
    "start_time": "2023-02-12T19:40:05.973Z"
   },
   {
    "duration": 17,
    "start_time": "2023-02-12T19:40:06.000Z"
   },
   {
    "duration": 20,
    "start_time": "2023-02-12T19:40:06.018Z"
   },
   {
    "duration": 13,
    "start_time": "2023-02-12T19:40:06.039Z"
   },
   {
    "duration": 17,
    "start_time": "2023-02-12T19:40:06.053Z"
   },
   {
    "duration": 58,
    "start_time": "2023-02-12T19:40:06.073Z"
   },
   {
    "duration": 25,
    "start_time": "2023-02-12T19:40:06.132Z"
   },
   {
    "duration": 64,
    "start_time": "2023-02-12T19:40:06.159Z"
   },
   {
    "duration": 7,
    "start_time": "2023-02-12T19:40:06.225Z"
   },
   {
    "duration": 19,
    "start_time": "2023-02-12T19:40:06.234Z"
   },
   {
    "duration": 1309,
    "start_time": "2023-02-12T19:40:06.254Z"
   },
   {
    "duration": 0,
    "start_time": "2023-02-12T19:40:07.564Z"
   },
   {
    "duration": 0,
    "start_time": "2023-02-12T19:40:07.565Z"
   },
   {
    "duration": 0,
    "start_time": "2023-02-12T19:40:07.568Z"
   },
   {
    "duration": 0,
    "start_time": "2023-02-12T19:40:07.569Z"
   },
   {
    "duration": 1277,
    "start_time": "2023-02-12T19:41:28.665Z"
   },
   {
    "duration": 193,
    "start_time": "2023-02-12T19:41:29.944Z"
   },
   {
    "duration": 8,
    "start_time": "2023-02-12T19:41:30.139Z"
   },
   {
    "duration": 109,
    "start_time": "2023-02-12T19:41:30.148Z"
   },
   {
    "duration": 38,
    "start_time": "2023-02-12T19:41:30.259Z"
   },
   {
    "duration": 109,
    "start_time": "2023-02-12T19:41:30.299Z"
   },
   {
    "duration": 104,
    "start_time": "2023-02-12T19:41:30.409Z"
   },
   {
    "duration": 209,
    "start_time": "2023-02-12T19:41:30.515Z"
   },
   {
    "duration": 27,
    "start_time": "2023-02-12T19:41:30.726Z"
   },
   {
    "duration": 53,
    "start_time": "2023-02-12T19:41:30.767Z"
   },
   {
    "duration": 12,
    "start_time": "2023-02-12T19:41:30.821Z"
   },
   {
    "duration": 40,
    "start_time": "2023-02-12T19:41:30.834Z"
   },
   {
    "duration": 73,
    "start_time": "2023-02-12T19:41:30.876Z"
   },
   {
    "duration": 11,
    "start_time": "2023-02-12T19:41:30.951Z"
   },
   {
    "duration": 377,
    "start_time": "2023-02-12T19:41:30.963Z"
   },
   {
    "duration": 4,
    "start_time": "2023-02-12T19:41:31.342Z"
   },
   {
    "duration": 40,
    "start_time": "2023-02-12T19:41:31.347Z"
   },
   {
    "duration": 322,
    "start_time": "2023-02-12T19:41:31.389Z"
   },
   {
    "duration": 17,
    "start_time": "2023-02-12T19:41:31.712Z"
   },
   {
    "duration": 37,
    "start_time": "2023-02-12T19:41:31.730Z"
   },
   {
    "duration": 40,
    "start_time": "2023-02-12T19:41:31.769Z"
   },
   {
    "duration": 21,
    "start_time": "2023-02-12T19:41:31.811Z"
   },
   {
    "duration": 24,
    "start_time": "2023-02-12T19:41:31.833Z"
   },
   {
    "duration": 16,
    "start_time": "2023-02-12T19:41:31.859Z"
   },
   {
    "duration": 66,
    "start_time": "2023-02-12T19:41:31.877Z"
   },
   {
    "duration": 27,
    "start_time": "2023-02-12T19:41:31.945Z"
   },
   {
    "duration": 83,
    "start_time": "2023-02-12T19:41:31.974Z"
   },
   {
    "duration": 8,
    "start_time": "2023-02-12T19:41:32.059Z"
   },
   {
    "duration": 53,
    "start_time": "2023-02-12T19:41:32.068Z"
   },
   {
    "duration": 208,
    "start_time": "2023-02-12T19:41:32.123Z"
   },
   {
    "duration": 0,
    "start_time": "2023-02-12T19:41:32.333Z"
   },
   {
    "duration": 0,
    "start_time": "2023-02-12T19:41:32.334Z"
   },
   {
    "duration": 0,
    "start_time": "2023-02-12T19:41:32.335Z"
   },
   {
    "duration": 0,
    "start_time": "2023-02-12T19:41:32.336Z"
   },
   {
    "duration": 8094,
    "start_time": "2023-02-12T19:42:02.644Z"
   },
   {
    "duration": 2571,
    "start_time": "2023-02-12T19:42:15.615Z"
   },
   {
    "duration": 1347,
    "start_time": "2023-02-12T19:42:18.189Z"
   },
   {
    "duration": 248,
    "start_time": "2023-02-12T19:42:19.538Z"
   },
   {
    "duration": 12,
    "start_time": "2023-02-12T19:42:19.788Z"
   },
   {
    "duration": 142,
    "start_time": "2023-02-12T19:42:19.802Z"
   },
   {
    "duration": 36,
    "start_time": "2023-02-12T19:42:19.947Z"
   },
   {
    "duration": 98,
    "start_time": "2023-02-12T19:42:19.985Z"
   },
   {
    "duration": 88,
    "start_time": "2023-02-12T19:42:20.085Z"
   },
   {
    "duration": 181,
    "start_time": "2023-02-12T19:42:20.175Z"
   },
   {
    "duration": 37,
    "start_time": "2023-02-12T19:42:20.359Z"
   },
   {
    "duration": 87,
    "start_time": "2023-02-12T19:42:20.399Z"
   },
   {
    "duration": 19,
    "start_time": "2023-02-12T19:42:20.488Z"
   },
   {
    "duration": 14,
    "start_time": "2023-02-12T19:42:20.509Z"
   },
   {
    "duration": 58,
    "start_time": "2023-02-12T19:42:20.525Z"
   },
   {
    "duration": 16,
    "start_time": "2023-02-12T19:42:20.585Z"
   },
   {
    "duration": 344,
    "start_time": "2023-02-12T19:42:20.603Z"
   },
   {
    "duration": 5,
    "start_time": "2023-02-12T19:42:20.950Z"
   },
   {
    "duration": 5,
    "start_time": "2023-02-12T19:42:20.966Z"
   },
   {
    "duration": 285,
    "start_time": "2023-02-12T19:42:20.973Z"
   },
   {
    "duration": 20,
    "start_time": "2023-02-12T19:42:21.259Z"
   },
   {
    "duration": 23,
    "start_time": "2023-02-12T19:42:21.281Z"
   },
   {
    "duration": 16,
    "start_time": "2023-02-12T19:42:21.306Z"
   },
   {
    "duration": 18,
    "start_time": "2023-02-12T19:42:21.324Z"
   },
   {
    "duration": 33,
    "start_time": "2023-02-12T19:42:21.344Z"
   },
   {
    "duration": 8,
    "start_time": "2023-02-12T19:42:21.379Z"
   },
   {
    "duration": 36,
    "start_time": "2023-02-12T19:42:21.389Z"
   },
   {
    "duration": 64,
    "start_time": "2023-02-12T19:42:21.427Z"
   },
   {
    "duration": 53,
    "start_time": "2023-02-12T19:42:21.495Z"
   },
   {
    "duration": 22,
    "start_time": "2023-02-12T19:42:21.550Z"
   },
   {
    "duration": 12,
    "start_time": "2023-02-12T19:42:21.574Z"
   },
   {
    "duration": 847,
    "start_time": "2023-02-12T19:42:21.589Z"
   },
   {
    "duration": 143,
    "start_time": "2023-02-12T19:42:22.438Z"
   },
   {
    "duration": 8,
    "start_time": "2023-02-12T19:42:22.583Z"
   },
   {
    "duration": 16,
    "start_time": "2023-02-12T19:42:22.593Z"
   },
   {
    "duration": 10,
    "start_time": "2023-02-12T19:42:22.611Z"
   },
   {
    "duration": 62,
    "start_time": "2023-02-12T19:43:05.827Z"
   },
   {
    "duration": 1447,
    "start_time": "2023-02-12T19:44:14.179Z"
   },
   {
    "duration": 75,
    "start_time": "2023-02-12T19:44:44.331Z"
   },
   {
    "duration": 74,
    "start_time": "2023-02-12T19:46:50.450Z"
   },
   {
    "duration": 58,
    "start_time": "2023-02-12T19:50:53.054Z"
   },
   {
    "duration": 2720,
    "start_time": "2023-02-12T19:53:08.200Z"
   },
   {
    "duration": 1234,
    "start_time": "2023-02-12T19:53:10.922Z"
   },
   {
    "duration": 240,
    "start_time": "2023-02-12T19:53:12.158Z"
   },
   {
    "duration": 8,
    "start_time": "2023-02-12T19:53:12.400Z"
   },
   {
    "duration": 108,
    "start_time": "2023-02-12T19:53:12.410Z"
   },
   {
    "duration": 29,
    "start_time": "2023-02-12T19:53:12.520Z"
   },
   {
    "duration": 126,
    "start_time": "2023-02-12T19:53:12.551Z"
   },
   {
    "duration": 127,
    "start_time": "2023-02-12T19:53:12.679Z"
   },
   {
    "duration": 200,
    "start_time": "2023-02-12T19:53:12.808Z"
   },
   {
    "duration": 28,
    "start_time": "2023-02-12T19:53:13.011Z"
   },
   {
    "duration": 68,
    "start_time": "2023-02-12T19:53:13.040Z"
   },
   {
    "duration": 11,
    "start_time": "2023-02-12T19:53:13.110Z"
   },
   {
    "duration": 8,
    "start_time": "2023-02-12T19:53:13.122Z"
   },
   {
    "duration": 59,
    "start_time": "2023-02-12T19:53:13.131Z"
   },
   {
    "duration": 13,
    "start_time": "2023-02-12T19:53:13.193Z"
   },
   {
    "duration": 395,
    "start_time": "2023-02-12T19:53:13.208Z"
   },
   {
    "duration": 6,
    "start_time": "2023-02-12T19:53:13.605Z"
   },
   {
    "duration": 10,
    "start_time": "2023-02-12T19:53:13.612Z"
   },
   {
    "duration": 328,
    "start_time": "2023-02-12T19:53:13.625Z"
   },
   {
    "duration": 29,
    "start_time": "2023-02-12T19:53:13.955Z"
   },
   {
    "duration": 28,
    "start_time": "2023-02-12T19:53:13.986Z"
   },
   {
    "duration": 12,
    "start_time": "2023-02-12T19:53:14.016Z"
   },
   {
    "duration": 12,
    "start_time": "2023-02-12T19:53:14.030Z"
   },
   {
    "duration": 38,
    "start_time": "2023-02-12T19:53:14.044Z"
   },
   {
    "duration": 11,
    "start_time": "2023-02-12T19:53:14.084Z"
   },
   {
    "duration": 37,
    "start_time": "2023-02-12T19:53:14.097Z"
   },
   {
    "duration": 47,
    "start_time": "2023-02-12T19:53:14.136Z"
   },
   {
    "duration": 55,
    "start_time": "2023-02-12T19:53:14.187Z"
   },
   {
    "duration": 8,
    "start_time": "2023-02-12T19:53:14.244Z"
   },
   {
    "duration": 17,
    "start_time": "2023-02-12T19:53:14.266Z"
   },
   {
    "duration": 26,
    "start_time": "2023-02-12T19:53:14.284Z"
   },
   {
    "duration": 1005,
    "start_time": "2023-02-12T19:53:14.311Z"
   },
   {
    "duration": 126,
    "start_time": "2023-02-12T19:53:15.319Z"
   },
   {
    "duration": 9,
    "start_time": "2023-02-12T19:53:15.447Z"
   },
   {
    "duration": 18,
    "start_time": "2023-02-12T19:53:15.457Z"
   },
   {
    "duration": 33,
    "start_time": "2023-02-12T19:53:15.476Z"
   },
   {
    "duration": 97,
    "start_time": "2023-02-12T19:54:50.422Z"
   },
   {
    "duration": 102,
    "start_time": "2023-02-12T19:55:43.540Z"
   },
   {
    "duration": 87,
    "start_time": "2023-03-05T08:24:38.749Z"
   },
   {
    "duration": 2673,
    "start_time": "2023-03-05T08:24:47.707Z"
   },
   {
    "duration": 1312,
    "start_time": "2023-03-05T08:24:50.382Z"
   },
   {
    "duration": 1110,
    "start_time": "2023-03-05T08:24:51.696Z"
   },
   {
    "duration": 9,
    "start_time": "2023-03-05T08:24:52.808Z"
   },
   {
    "duration": 113,
    "start_time": "2023-03-05T08:24:52.818Z"
   },
   {
    "duration": 52,
    "start_time": "2023-03-05T08:24:52.932Z"
   },
   {
    "duration": 168,
    "start_time": "2023-03-05T08:24:52.986Z"
   },
   {
    "duration": 163,
    "start_time": "2023-03-05T08:24:53.170Z"
   },
   {
    "duration": 216,
    "start_time": "2023-03-05T08:24:53.335Z"
   },
   {
    "duration": 30,
    "start_time": "2023-03-05T08:24:53.562Z"
   },
   {
    "duration": 57,
    "start_time": "2023-03-05T08:24:53.593Z"
   },
   {
    "duration": 63,
    "start_time": "2023-03-05T08:24:53.658Z"
   },
   {
    "duration": 11,
    "start_time": "2023-03-05T08:24:53.722Z"
   },
   {
    "duration": 8,
    "start_time": "2023-03-05T08:24:53.734Z"
   },
   {
    "duration": 58,
    "start_time": "2023-03-05T08:24:53.743Z"
   },
   {
    "duration": 12,
    "start_time": "2023-03-05T08:24:53.802Z"
   },
   {
    "duration": 391,
    "start_time": "2023-03-05T08:24:53.816Z"
   },
   {
    "duration": 4,
    "start_time": "2023-03-05T08:24:54.210Z"
   },
   {
    "duration": 5,
    "start_time": "2023-03-05T08:24:54.216Z"
   },
   {
    "duration": 394,
    "start_time": "2023-03-05T08:24:54.223Z"
   },
   {
    "duration": 15,
    "start_time": "2023-03-05T08:24:54.619Z"
   },
   {
    "duration": 58,
    "start_time": "2023-03-05T08:24:54.636Z"
   },
   {
    "duration": 14,
    "start_time": "2023-03-05T08:24:54.701Z"
   },
   {
    "duration": 12,
    "start_time": "2023-03-05T08:24:54.717Z"
   },
   {
    "duration": 13,
    "start_time": "2023-03-05T08:24:54.731Z"
   },
   {
    "duration": 30,
    "start_time": "2023-03-05T08:24:54.746Z"
   },
   {
    "duration": 50,
    "start_time": "2023-03-05T08:24:54.779Z"
   },
   {
    "duration": 65,
    "start_time": "2023-03-05T08:24:54.833Z"
   },
   {
    "duration": 81,
    "start_time": "2023-03-05T08:24:54.911Z"
   },
   {
    "duration": 17,
    "start_time": "2023-03-05T08:24:54.993Z"
   },
   {
    "duration": 11,
    "start_time": "2023-03-05T08:24:55.011Z"
   },
   {
    "duration": 15,
    "start_time": "2023-03-05T08:24:55.023Z"
   },
   {
    "duration": 1107,
    "start_time": "2023-03-05T08:24:55.040Z"
   },
   {
    "duration": 177,
    "start_time": "2023-03-05T08:24:56.149Z"
   },
   {
    "duration": 10,
    "start_time": "2023-03-05T08:24:56.328Z"
   },
   {
    "duration": 40,
    "start_time": "2023-03-05T08:24:56.340Z"
   },
   {
    "duration": 10,
    "start_time": "2023-03-05T08:24:56.389Z"
   }
  ],
  "kernelspec": {
   "display_name": "Python 3 (ipykernel)",
   "language": "python",
   "name": "python3"
  },
  "language_info": {
   "codemirror_mode": {
    "name": "ipython",
    "version": 3
   },
   "file_extension": ".py",
   "mimetype": "text/x-python",
   "name": "python",
   "nbconvert_exporter": "python",
   "pygments_lexer": "ipython3",
   "version": "3.11.0"
  },
  "toc": {
   "base_numbering": 1,
   "nav_menu": {},
   "number_sections": true,
   "sideBar": true,
   "skip_h1_title": true,
   "title_cell": "Table of Contents",
   "title_sidebar": "Contents",
   "toc_cell": false,
   "toc_position": {},
   "toc_section_display": true,
   "toc_window_display": false
  }
 },
 "nbformat": 4,
 "nbformat_minor": 2
}
