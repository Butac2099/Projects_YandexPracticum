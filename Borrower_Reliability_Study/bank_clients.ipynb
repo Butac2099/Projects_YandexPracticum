{
 "cells": [
  {
   "cell_type": "markdown",
   "metadata": {},
   "source": [
    "# Исследование надёжности заёмщиков"
   ]
  },
  {
   "cell_type": "markdown",
   "metadata": {
    "cellId": "t1c4wam07doj74fhz2vfr"
   },
   "source": [
    "**Описание проекта**\n",
    "\n",
    "Заказчик — кредитный отдел банка. Нужно разобраться, влияет ли семейное положение и количество детей клиента на факт погашения кредита в срок. Входные данные от банка — статистика о платёжеспособности клиентов.\n",
    "\n",
    "Результаты исследования будут учтены при построении модели **кредитного скоринга** — специальной системы, которая оценивает способность потенциального заёмщика вернуть кредит банку."
   ]
  },
  {
   "cell_type": "markdown",
   "metadata": {},
   "source": [
    "**Описание данных**\n",
    "\n",
    "Согласно документации к данным:  \n",
    "- `children` — количество детей в семье  \n",
    "- `days_employed` — общий трудовой стаж в днях  \n",
    "- `dob_years` — возраст клиента в годах  \n",
    "- `education` — уровень образования клиента  \n",
    "- `education_id` — идентификатор уровня образования  \n",
    "- `family_status` — семейное положение  \n",
    "- `family_status_id` — идентификатор семейного положения  \n",
    "- `gender` — пол клиента  \n",
    "- `income_type` — тип занятости  \n",
    "- `debt` — имел ли задолженность по возврату кредитов  \n",
    "- `total_income` — ежемесячный доход  \n",
    "- `purpose` — цель получения кредита  "
   ]
  },
  {
   "cell_type": "markdown",
   "metadata": {
    "cellId": "ixz0t4va3owtov3aml4ee"
   },
   "source": [
    "## Шаг 1. Загрузка данных и изучение общей информации"
   ]
  },
  {
   "cell_type": "code",
   "execution_count": 1,
   "metadata": {
    "cellId": "pnjtio288spalsflizbzta"
   },
   "outputs": [],
   "source": [
    "import pandas as pd\n",
    "from pymystem3 import Mystem\n",
    "m = Mystem()\n",
    "import numpy as np"
   ]
  },
  {
   "cell_type": "code",
   "execution_count": 2,
   "metadata": {
    "cellId": "3h04irqfmx3w1e6f15phei"
   },
   "outputs": [],
   "source": [
    "data = pd.read_csv('/datasets/data.csv')"
   ]
  },
  {
   "cell_type": "code",
   "execution_count": 3,
   "metadata": {
    "cellId": "c02me2cfigq7yp5xm4qkjb"
   },
   "outputs": [
    {
     "name": "stdout",
     "output_type": "stream",
     "text": [
      "<class 'pandas.core.frame.DataFrame'>\n",
      "RangeIndex: 21525 entries, 0 to 21524\n",
      "Data columns (total 12 columns):\n",
      " #   Column            Non-Null Count  Dtype  \n",
      "---  ------            --------------  -----  \n",
      " 0   children          21525 non-null  int64  \n",
      " 1   days_employed     19351 non-null  float64\n",
      " 2   dob_years         21525 non-null  int64  \n",
      " 3   education         21525 non-null  object \n",
      " 4   education_id      21525 non-null  int64  \n",
      " 5   family_status     21525 non-null  object \n",
      " 6   family_status_id  21525 non-null  int64  \n",
      " 7   gender            21525 non-null  object \n",
      " 8   income_type       21525 non-null  object \n",
      " 9   debt              21525 non-null  int64  \n",
      " 10  total_income      19351 non-null  float64\n",
      " 11  purpose           21525 non-null  object \n",
      "dtypes: float64(2), int64(5), object(5)\n",
      "memory usage: 2.0+ MB\n"
     ]
    }
   ],
   "source": [
    "data.info()"
   ]
  },
  {
   "cell_type": "code",
   "execution_count": 4,
   "metadata": {
    "cellId": "33kjwhm0f6bp3mu4dl6w38"
   },
   "outputs": [
    {
     "data": {
      "text/html": [
       "<div>\n",
       "<style scoped>\n",
       "    .dataframe tbody tr th:only-of-type {\n",
       "        vertical-align: middle;\n",
       "    }\n",
       "\n",
       "    .dataframe tbody tr th {\n",
       "        vertical-align: top;\n",
       "    }\n",
       "\n",
       "    .dataframe thead th {\n",
       "        text-align: right;\n",
       "    }\n",
       "</style>\n",
       "<table border=\"1\" class=\"dataframe\">\n",
       "  <thead>\n",
       "    <tr style=\"text-align: right;\">\n",
       "      <th></th>\n",
       "      <th>children</th>\n",
       "      <th>days_employed</th>\n",
       "      <th>dob_years</th>\n",
       "      <th>education</th>\n",
       "      <th>education_id</th>\n",
       "      <th>family_status</th>\n",
       "      <th>family_status_id</th>\n",
       "      <th>gender</th>\n",
       "      <th>income_type</th>\n",
       "      <th>debt</th>\n",
       "      <th>total_income</th>\n",
       "      <th>purpose</th>\n",
       "    </tr>\n",
       "  </thead>\n",
       "  <tbody>\n",
       "    <tr>\n",
       "      <th>0</th>\n",
       "      <td>1</td>\n",
       "      <td>-8437.673028</td>\n",
       "      <td>42</td>\n",
       "      <td>высшее</td>\n",
       "      <td>0</td>\n",
       "      <td>женат / замужем</td>\n",
       "      <td>0</td>\n",
       "      <td>F</td>\n",
       "      <td>сотрудник</td>\n",
       "      <td>0</td>\n",
       "      <td>253875.639453</td>\n",
       "      <td>покупка жилья</td>\n",
       "    </tr>\n",
       "    <tr>\n",
       "      <th>1</th>\n",
       "      <td>1</td>\n",
       "      <td>-4024.803754</td>\n",
       "      <td>36</td>\n",
       "      <td>среднее</td>\n",
       "      <td>1</td>\n",
       "      <td>женат / замужем</td>\n",
       "      <td>0</td>\n",
       "      <td>F</td>\n",
       "      <td>сотрудник</td>\n",
       "      <td>0</td>\n",
       "      <td>112080.014102</td>\n",
       "      <td>приобретение автомобиля</td>\n",
       "    </tr>\n",
       "    <tr>\n",
       "      <th>2</th>\n",
       "      <td>0</td>\n",
       "      <td>-5623.422610</td>\n",
       "      <td>33</td>\n",
       "      <td>Среднее</td>\n",
       "      <td>1</td>\n",
       "      <td>женат / замужем</td>\n",
       "      <td>0</td>\n",
       "      <td>M</td>\n",
       "      <td>сотрудник</td>\n",
       "      <td>0</td>\n",
       "      <td>145885.952297</td>\n",
       "      <td>покупка жилья</td>\n",
       "    </tr>\n",
       "    <tr>\n",
       "      <th>3</th>\n",
       "      <td>3</td>\n",
       "      <td>-4124.747207</td>\n",
       "      <td>32</td>\n",
       "      <td>среднее</td>\n",
       "      <td>1</td>\n",
       "      <td>женат / замужем</td>\n",
       "      <td>0</td>\n",
       "      <td>M</td>\n",
       "      <td>сотрудник</td>\n",
       "      <td>0</td>\n",
       "      <td>267628.550329</td>\n",
       "      <td>дополнительное образование</td>\n",
       "    </tr>\n",
       "    <tr>\n",
       "      <th>4</th>\n",
       "      <td>0</td>\n",
       "      <td>340266.072047</td>\n",
       "      <td>53</td>\n",
       "      <td>среднее</td>\n",
       "      <td>1</td>\n",
       "      <td>гражданский брак</td>\n",
       "      <td>1</td>\n",
       "      <td>F</td>\n",
       "      <td>пенсионер</td>\n",
       "      <td>0</td>\n",
       "      <td>158616.077870</td>\n",
       "      <td>сыграть свадьбу</td>\n",
       "    </tr>\n",
       "    <tr>\n",
       "      <th>5</th>\n",
       "      <td>0</td>\n",
       "      <td>-926.185831</td>\n",
       "      <td>27</td>\n",
       "      <td>высшее</td>\n",
       "      <td>0</td>\n",
       "      <td>гражданский брак</td>\n",
       "      <td>1</td>\n",
       "      <td>M</td>\n",
       "      <td>компаньон</td>\n",
       "      <td>0</td>\n",
       "      <td>255763.565419</td>\n",
       "      <td>покупка жилья</td>\n",
       "    </tr>\n",
       "    <tr>\n",
       "      <th>6</th>\n",
       "      <td>0</td>\n",
       "      <td>-2879.202052</td>\n",
       "      <td>43</td>\n",
       "      <td>высшее</td>\n",
       "      <td>0</td>\n",
       "      <td>женат / замужем</td>\n",
       "      <td>0</td>\n",
       "      <td>F</td>\n",
       "      <td>компаньон</td>\n",
       "      <td>0</td>\n",
       "      <td>240525.971920</td>\n",
       "      <td>операции с жильем</td>\n",
       "    </tr>\n",
       "    <tr>\n",
       "      <th>7</th>\n",
       "      <td>0</td>\n",
       "      <td>-152.779569</td>\n",
       "      <td>50</td>\n",
       "      <td>СРЕДНЕЕ</td>\n",
       "      <td>1</td>\n",
       "      <td>женат / замужем</td>\n",
       "      <td>0</td>\n",
       "      <td>M</td>\n",
       "      <td>сотрудник</td>\n",
       "      <td>0</td>\n",
       "      <td>135823.934197</td>\n",
       "      <td>образование</td>\n",
       "    </tr>\n",
       "    <tr>\n",
       "      <th>8</th>\n",
       "      <td>2</td>\n",
       "      <td>-6929.865299</td>\n",
       "      <td>35</td>\n",
       "      <td>ВЫСШЕЕ</td>\n",
       "      <td>0</td>\n",
       "      <td>гражданский брак</td>\n",
       "      <td>1</td>\n",
       "      <td>F</td>\n",
       "      <td>сотрудник</td>\n",
       "      <td>0</td>\n",
       "      <td>95856.832424</td>\n",
       "      <td>на проведение свадьбы</td>\n",
       "    </tr>\n",
       "    <tr>\n",
       "      <th>9</th>\n",
       "      <td>0</td>\n",
       "      <td>-2188.756445</td>\n",
       "      <td>41</td>\n",
       "      <td>среднее</td>\n",
       "      <td>1</td>\n",
       "      <td>женат / замужем</td>\n",
       "      <td>0</td>\n",
       "      <td>M</td>\n",
       "      <td>сотрудник</td>\n",
       "      <td>0</td>\n",
       "      <td>144425.938277</td>\n",
       "      <td>покупка жилья для семьи</td>\n",
       "    </tr>\n",
       "  </tbody>\n",
       "</table>\n",
       "</div>"
      ],
      "text/plain": [
       "   children  days_employed  dob_years education  education_id  \\\n",
       "0         1   -8437.673028         42    высшее             0   \n",
       "1         1   -4024.803754         36   среднее             1   \n",
       "2         0   -5623.422610         33   Среднее             1   \n",
       "3         3   -4124.747207         32   среднее             1   \n",
       "4         0  340266.072047         53   среднее             1   \n",
       "5         0    -926.185831         27    высшее             0   \n",
       "6         0   -2879.202052         43    высшее             0   \n",
       "7         0    -152.779569         50   СРЕДНЕЕ             1   \n",
       "8         2   -6929.865299         35    ВЫСШЕЕ             0   \n",
       "9         0   -2188.756445         41   среднее             1   \n",
       "\n",
       "      family_status  family_status_id gender income_type  debt   total_income  \\\n",
       "0   женат / замужем                 0      F   сотрудник     0  253875.639453   \n",
       "1   женат / замужем                 0      F   сотрудник     0  112080.014102   \n",
       "2   женат / замужем                 0      M   сотрудник     0  145885.952297   \n",
       "3   женат / замужем                 0      M   сотрудник     0  267628.550329   \n",
       "4  гражданский брак                 1      F   пенсионер     0  158616.077870   \n",
       "5  гражданский брак                 1      M   компаньон     0  255763.565419   \n",
       "6   женат / замужем                 0      F   компаньон     0  240525.971920   \n",
       "7   женат / замужем                 0      M   сотрудник     0  135823.934197   \n",
       "8  гражданский брак                 1      F   сотрудник     0   95856.832424   \n",
       "9   женат / замужем                 0      M   сотрудник     0  144425.938277   \n",
       "\n",
       "                      purpose  \n",
       "0               покупка жилья  \n",
       "1     приобретение автомобиля  \n",
       "2               покупка жилья  \n",
       "3  дополнительное образование  \n",
       "4             сыграть свадьбу  \n",
       "5               покупка жилья  \n",
       "6           операции с жильем  \n",
       "7                 образование  \n",
       "8       на проведение свадьбы  \n",
       "9     покупка жилья для семьи  "
      ]
     },
     "metadata": {},
     "output_type": "display_data"
    }
   ],
   "source": [
    "display(data.head(10))"
   ]
  },
  {
   "cell_type": "code",
   "execution_count": 5,
   "metadata": {
    "cellId": "lnf6mtsvw1h33wqy7cy67n"
   },
   "outputs": [
    {
     "data": {
      "text/plain": [
       "Index(['children', 'days_employed', 'dob_years', 'education', 'education_id',\n",
       "       'family_status', 'family_status_id', 'gender', 'income_type', 'debt',\n",
       "       'total_income', 'purpose'],\n",
       "      dtype='object')"
      ]
     },
     "execution_count": 5,
     "metadata": {},
     "output_type": "execute_result"
    }
   ],
   "source": [
    "data.columns"
   ]
  },
  {
   "cell_type": "markdown",
   "metadata": {
    "cellId": "tauczsenbnrhk1ht9rjmbk"
   },
   "source": [
    "**Вывод**\n",
    "\n",
    "- В таблице двенадцать столбцов. Тип данных в столбцах - `int64`, `float64`, `object`.\n",
    "- В названиях столбцов нарушений нет.\n",
    "- Каждая строка таблицы-данные о заемщике.\n",
    "- В столбцах `days_employed` и `total_income` встречаются пропуски.  \n",
    "- В столбце `days_employed` встречаются отрицательные и некорректные значения.  \n",
    "- В столбце `education` встречаются неявные дубликаты."
   ]
  },
  {
   "cell_type": "markdown",
   "metadata": {
    "cellId": "11ae1fy077kqxh6o64vjyn"
   },
   "source": [
    "## Шаг 2. Предобработка данных"
   ]
  },
  {
   "cell_type": "markdown",
   "metadata": {
    "cellId": "ep7cnjxidzfv2mcg2toy8"
   },
   "source": [
    "### Обработка пропусков"
   ]
  },
  {
   "cell_type": "markdown",
   "metadata": {
    "cellId": "mmq0fgol1zki6og0t1l3m"
   },
   "source": [
    "Определим количество пропусков"
   ]
  },
  {
   "cell_type": "code",
   "execution_count": 6,
   "metadata": {
    "cellId": "wvofet6ubpfsq4p2u6hdcm"
   },
   "outputs": [
    {
     "data": {
      "text/plain": [
       "children               0\n",
       "days_employed       2174\n",
       "dob_years              0\n",
       "education              0\n",
       "education_id           0\n",
       "family_status          0\n",
       "family_status_id       0\n",
       "gender                 0\n",
       "income_type            0\n",
       "debt                   0\n",
       "total_income        2174\n",
       "purpose                0\n",
       "dtype: int64"
      ]
     },
     "execution_count": 6,
     "metadata": {},
     "output_type": "execute_result"
    }
   ],
   "source": [
    "data.isna().sum()"
   ]
  },
  {
   "cell_type": "code",
   "execution_count": 7,
   "metadata": {
    "cellId": "aw7pikihy8gaevjclory9k"
   },
   "outputs": [
    {
     "data": {
      "text/html": [
       "<div>\n",
       "<style scoped>\n",
       "    .dataframe tbody tr th:only-of-type {\n",
       "        vertical-align: middle;\n",
       "    }\n",
       "\n",
       "    .dataframe tbody tr th {\n",
       "        vertical-align: top;\n",
       "    }\n",
       "\n",
       "    .dataframe thead th {\n",
       "        text-align: right;\n",
       "    }\n",
       "</style>\n",
       "<table border=\"1\" class=\"dataframe\">\n",
       "  <thead>\n",
       "    <tr style=\"text-align: right;\">\n",
       "      <th></th>\n",
       "      <th>children</th>\n",
       "      <th>days_employed</th>\n",
       "      <th>dob_years</th>\n",
       "      <th>education</th>\n",
       "      <th>education_id</th>\n",
       "      <th>family_status</th>\n",
       "      <th>family_status_id</th>\n",
       "      <th>gender</th>\n",
       "      <th>income_type</th>\n",
       "      <th>debt</th>\n",
       "      <th>total_income</th>\n",
       "      <th>purpose</th>\n",
       "    </tr>\n",
       "  </thead>\n",
       "  <tbody>\n",
       "    <tr>\n",
       "      <th>12</th>\n",
       "      <td>0</td>\n",
       "      <td>NaN</td>\n",
       "      <td>65</td>\n",
       "      <td>среднее</td>\n",
       "      <td>1</td>\n",
       "      <td>гражданский брак</td>\n",
       "      <td>1</td>\n",
       "      <td>M</td>\n",
       "      <td>пенсионер</td>\n",
       "      <td>0</td>\n",
       "      <td>NaN</td>\n",
       "      <td>сыграть свадьбу</td>\n",
       "    </tr>\n",
       "    <tr>\n",
       "      <th>26</th>\n",
       "      <td>0</td>\n",
       "      <td>NaN</td>\n",
       "      <td>41</td>\n",
       "      <td>среднее</td>\n",
       "      <td>1</td>\n",
       "      <td>женат / замужем</td>\n",
       "      <td>0</td>\n",
       "      <td>M</td>\n",
       "      <td>госслужащий</td>\n",
       "      <td>0</td>\n",
       "      <td>NaN</td>\n",
       "      <td>образование</td>\n",
       "    </tr>\n",
       "    <tr>\n",
       "      <th>29</th>\n",
       "      <td>0</td>\n",
       "      <td>NaN</td>\n",
       "      <td>63</td>\n",
       "      <td>среднее</td>\n",
       "      <td>1</td>\n",
       "      <td>Не женат / не замужем</td>\n",
       "      <td>4</td>\n",
       "      <td>F</td>\n",
       "      <td>пенсионер</td>\n",
       "      <td>0</td>\n",
       "      <td>NaN</td>\n",
       "      <td>строительство жилой недвижимости</td>\n",
       "    </tr>\n",
       "    <tr>\n",
       "      <th>41</th>\n",
       "      <td>0</td>\n",
       "      <td>NaN</td>\n",
       "      <td>50</td>\n",
       "      <td>среднее</td>\n",
       "      <td>1</td>\n",
       "      <td>женат / замужем</td>\n",
       "      <td>0</td>\n",
       "      <td>F</td>\n",
       "      <td>госслужащий</td>\n",
       "      <td>0</td>\n",
       "      <td>NaN</td>\n",
       "      <td>сделка с подержанным автомобилем</td>\n",
       "    </tr>\n",
       "    <tr>\n",
       "      <th>55</th>\n",
       "      <td>0</td>\n",
       "      <td>NaN</td>\n",
       "      <td>54</td>\n",
       "      <td>среднее</td>\n",
       "      <td>1</td>\n",
       "      <td>гражданский брак</td>\n",
       "      <td>1</td>\n",
       "      <td>F</td>\n",
       "      <td>пенсионер</td>\n",
       "      <td>1</td>\n",
       "      <td>NaN</td>\n",
       "      <td>сыграть свадьбу</td>\n",
       "    </tr>\n",
       "    <tr>\n",
       "      <th>65</th>\n",
       "      <td>0</td>\n",
       "      <td>NaN</td>\n",
       "      <td>21</td>\n",
       "      <td>среднее</td>\n",
       "      <td>1</td>\n",
       "      <td>Не женат / не замужем</td>\n",
       "      <td>4</td>\n",
       "      <td>M</td>\n",
       "      <td>компаньон</td>\n",
       "      <td>0</td>\n",
       "      <td>NaN</td>\n",
       "      <td>операции с коммерческой недвижимостью</td>\n",
       "    </tr>\n",
       "    <tr>\n",
       "      <th>67</th>\n",
       "      <td>0</td>\n",
       "      <td>NaN</td>\n",
       "      <td>52</td>\n",
       "      <td>высшее</td>\n",
       "      <td>0</td>\n",
       "      <td>женат / замужем</td>\n",
       "      <td>0</td>\n",
       "      <td>F</td>\n",
       "      <td>пенсионер</td>\n",
       "      <td>0</td>\n",
       "      <td>NaN</td>\n",
       "      <td>покупка жилья для семьи</td>\n",
       "    </tr>\n",
       "    <tr>\n",
       "      <th>72</th>\n",
       "      <td>1</td>\n",
       "      <td>NaN</td>\n",
       "      <td>32</td>\n",
       "      <td>высшее</td>\n",
       "      <td>0</td>\n",
       "      <td>женат / замужем</td>\n",
       "      <td>0</td>\n",
       "      <td>M</td>\n",
       "      <td>госслужащий</td>\n",
       "      <td>0</td>\n",
       "      <td>NaN</td>\n",
       "      <td>операции с коммерческой недвижимостью</td>\n",
       "    </tr>\n",
       "    <tr>\n",
       "      <th>82</th>\n",
       "      <td>2</td>\n",
       "      <td>NaN</td>\n",
       "      <td>50</td>\n",
       "      <td>высшее</td>\n",
       "      <td>0</td>\n",
       "      <td>женат / замужем</td>\n",
       "      <td>0</td>\n",
       "      <td>F</td>\n",
       "      <td>сотрудник</td>\n",
       "      <td>0</td>\n",
       "      <td>NaN</td>\n",
       "      <td>жилье</td>\n",
       "    </tr>\n",
       "    <tr>\n",
       "      <th>83</th>\n",
       "      <td>0</td>\n",
       "      <td>NaN</td>\n",
       "      <td>52</td>\n",
       "      <td>среднее</td>\n",
       "      <td>1</td>\n",
       "      <td>женат / замужем</td>\n",
       "      <td>0</td>\n",
       "      <td>M</td>\n",
       "      <td>сотрудник</td>\n",
       "      <td>0</td>\n",
       "      <td>NaN</td>\n",
       "      <td>жилье</td>\n",
       "    </tr>\n",
       "  </tbody>\n",
       "</table>\n",
       "</div>"
      ],
      "text/plain": [
       "    children  days_employed  dob_years education  education_id  \\\n",
       "12         0            NaN         65   среднее             1   \n",
       "26         0            NaN         41   среднее             1   \n",
       "29         0            NaN         63   среднее             1   \n",
       "41         0            NaN         50   среднее             1   \n",
       "55         0            NaN         54   среднее             1   \n",
       "65         0            NaN         21   среднее             1   \n",
       "67         0            NaN         52    высшее             0   \n",
       "72         1            NaN         32    высшее             0   \n",
       "82         2            NaN         50    высшее             0   \n",
       "83         0            NaN         52   среднее             1   \n",
       "\n",
       "            family_status  family_status_id gender  income_type  debt  \\\n",
       "12       гражданский брак                 1      M    пенсионер     0   \n",
       "26        женат / замужем                 0      M  госслужащий     0   \n",
       "29  Не женат / не замужем                 4      F    пенсионер     0   \n",
       "41        женат / замужем                 0      F  госслужащий     0   \n",
       "55       гражданский брак                 1      F    пенсионер     1   \n",
       "65  Не женат / не замужем                 4      M    компаньон     0   \n",
       "67        женат / замужем                 0      F    пенсионер     0   \n",
       "72        женат / замужем                 0      M  госслужащий     0   \n",
       "82        женат / замужем                 0      F    сотрудник     0   \n",
       "83        женат / замужем                 0      M    сотрудник     0   \n",
       "\n",
       "    total_income                                purpose  \n",
       "12           NaN                        сыграть свадьбу  \n",
       "26           NaN                            образование  \n",
       "29           NaN       строительство жилой недвижимости  \n",
       "41           NaN       сделка с подержанным автомобилем  \n",
       "55           NaN                        сыграть свадьбу  \n",
       "65           NaN  операции с коммерческой недвижимостью  \n",
       "67           NaN                покупка жилья для семьи  \n",
       "72           NaN  операции с коммерческой недвижимостью  \n",
       "82           NaN                                  жилье  \n",
       "83           NaN                                  жилье  "
      ]
     },
     "execution_count": 7,
     "metadata": {},
     "output_type": "execute_result"
    }
   ],
   "source": [
    "data[data['days_employed'].isna()].head(10)"
   ]
  },
  {
   "cell_type": "markdown",
   "metadata": {
    "cellId": "4fczb01rbg92rxha8clinr"
   },
   "source": [
    "Пропуски в столбце `total_income` заполним медианным значением с учетом типа дохода, семейного положения и образования."
   ]
  },
  {
   "cell_type": "code",
   "execution_count": 8,
   "metadata": {
    "cellId": "cbm2hq54z8iyxnyqpxmv"
   },
   "outputs": [
    {
     "data": {
      "text/plain": [
       "children               0\n",
       "days_employed       2174\n",
       "dob_years              0\n",
       "education              0\n",
       "education_id           0\n",
       "family_status          0\n",
       "family_status_id       0\n",
       "gender                 0\n",
       "income_type            0\n",
       "debt                   0\n",
       "total_income           2\n",
       "purpose                0\n",
       "dtype: int64"
      ]
     },
     "execution_count": 8,
     "metadata": {},
     "output_type": "execute_result"
    }
   ],
   "source": [
    "data['total_income'] = data['total_income'].fillna(data.groupby(['income_type', 'family_status_id', \n",
    "                                                                 'education_id'])['total_income'].transform('median'))\n",
    "data.isna().sum()"
   ]
  },
  {
   "cell_type": "markdown",
   "metadata": {
    "cellId": "vzseb6x835phrjhxmjal1"
   },
   "source": [
    "Отавшиеся пропуски в столбце `total_income` заполним медианным значением с учетом типа дохода и образования."
   ]
  },
  {
   "cell_type": "code",
   "execution_count": 9,
   "metadata": {
    "cellId": "7ohc4qqw2yp9uvkaanot"
   },
   "outputs": [
    {
     "data": {
      "text/plain": [
       "children               0\n",
       "days_employed       2174\n",
       "dob_years              0\n",
       "education              0\n",
       "education_id           0\n",
       "family_status          0\n",
       "family_status_id       0\n",
       "gender                 0\n",
       "income_type            0\n",
       "debt                   0\n",
       "total_income           0\n",
       "purpose                0\n",
       "dtype: int64"
      ]
     },
     "execution_count": 9,
     "metadata": {},
     "output_type": "execute_result"
    }
   ],
   "source": [
    "data['total_income'] = data['total_income'].fillna(data.groupby(['income_type', 'education_id']\n",
    "                                                               )['total_income'].transform('median'))\n",
    "data.isna().sum()"
   ]
  },
  {
   "cell_type": "markdown",
   "metadata": {
    "cellId": "v8kst6cqy0kyc4opy1ec8b"
   },
   "source": [
    "В столбце `days_employed` уберем отрицательные значения."
   ]
  },
  {
   "cell_type": "code",
   "execution_count": 10,
   "metadata": {
    "cellId": "fl2s1n2mgtmltxiwub6up"
   },
   "outputs": [
    {
     "data": {
      "text/html": [
       "<div>\n",
       "<style scoped>\n",
       "    .dataframe tbody tr th:only-of-type {\n",
       "        vertical-align: middle;\n",
       "    }\n",
       "\n",
       "    .dataframe tbody tr th {\n",
       "        vertical-align: top;\n",
       "    }\n",
       "\n",
       "    .dataframe thead th {\n",
       "        text-align: right;\n",
       "    }\n",
       "</style>\n",
       "<table border=\"1\" class=\"dataframe\">\n",
       "  <thead>\n",
       "    <tr style=\"text-align: right;\">\n",
       "      <th></th>\n",
       "      <th>children</th>\n",
       "      <th>days_employed</th>\n",
       "      <th>dob_years</th>\n",
       "      <th>education</th>\n",
       "      <th>education_id</th>\n",
       "      <th>family_status</th>\n",
       "      <th>family_status_id</th>\n",
       "      <th>gender</th>\n",
       "      <th>income_type</th>\n",
       "      <th>debt</th>\n",
       "      <th>total_income</th>\n",
       "      <th>purpose</th>\n",
       "    </tr>\n",
       "  </thead>\n",
       "  <tbody>\n",
       "    <tr>\n",
       "      <th>0</th>\n",
       "      <td>1</td>\n",
       "      <td>8437.673028</td>\n",
       "      <td>42</td>\n",
       "      <td>высшее</td>\n",
       "      <td>0</td>\n",
       "      <td>женат / замужем</td>\n",
       "      <td>0</td>\n",
       "      <td>F</td>\n",
       "      <td>сотрудник</td>\n",
       "      <td>0</td>\n",
       "      <td>253875.639453</td>\n",
       "      <td>покупка жилья</td>\n",
       "    </tr>\n",
       "    <tr>\n",
       "      <th>1</th>\n",
       "      <td>1</td>\n",
       "      <td>4024.803754</td>\n",
       "      <td>36</td>\n",
       "      <td>среднее</td>\n",
       "      <td>1</td>\n",
       "      <td>женат / замужем</td>\n",
       "      <td>0</td>\n",
       "      <td>F</td>\n",
       "      <td>сотрудник</td>\n",
       "      <td>0</td>\n",
       "      <td>112080.014102</td>\n",
       "      <td>приобретение автомобиля</td>\n",
       "    </tr>\n",
       "    <tr>\n",
       "      <th>2</th>\n",
       "      <td>0</td>\n",
       "      <td>5623.422610</td>\n",
       "      <td>33</td>\n",
       "      <td>Среднее</td>\n",
       "      <td>1</td>\n",
       "      <td>женат / замужем</td>\n",
       "      <td>0</td>\n",
       "      <td>M</td>\n",
       "      <td>сотрудник</td>\n",
       "      <td>0</td>\n",
       "      <td>145885.952297</td>\n",
       "      <td>покупка жилья</td>\n",
       "    </tr>\n",
       "    <tr>\n",
       "      <th>3</th>\n",
       "      <td>3</td>\n",
       "      <td>4124.747207</td>\n",
       "      <td>32</td>\n",
       "      <td>среднее</td>\n",
       "      <td>1</td>\n",
       "      <td>женат / замужем</td>\n",
       "      <td>0</td>\n",
       "      <td>M</td>\n",
       "      <td>сотрудник</td>\n",
       "      <td>0</td>\n",
       "      <td>267628.550329</td>\n",
       "      <td>дополнительное образование</td>\n",
       "    </tr>\n",
       "    <tr>\n",
       "      <th>4</th>\n",
       "      <td>0</td>\n",
       "      <td>340266.072047</td>\n",
       "      <td>53</td>\n",
       "      <td>среднее</td>\n",
       "      <td>1</td>\n",
       "      <td>гражданский брак</td>\n",
       "      <td>1</td>\n",
       "      <td>F</td>\n",
       "      <td>пенсионер</td>\n",
       "      <td>0</td>\n",
       "      <td>158616.077870</td>\n",
       "      <td>сыграть свадьбу</td>\n",
       "    </tr>\n",
       "  </tbody>\n",
       "</table>\n",
       "</div>"
      ],
      "text/plain": [
       "   children  days_employed  dob_years education  education_id  \\\n",
       "0         1    8437.673028         42    высшее             0   \n",
       "1         1    4024.803754         36   среднее             1   \n",
       "2         0    5623.422610         33   Среднее             1   \n",
       "3         3    4124.747207         32   среднее             1   \n",
       "4         0  340266.072047         53   среднее             1   \n",
       "\n",
       "      family_status  family_status_id gender income_type  debt   total_income  \\\n",
       "0   женат / замужем                 0      F   сотрудник     0  253875.639453   \n",
       "1   женат / замужем                 0      F   сотрудник     0  112080.014102   \n",
       "2   женат / замужем                 0      M   сотрудник     0  145885.952297   \n",
       "3   женат / замужем                 0      M   сотрудник     0  267628.550329   \n",
       "4  гражданский брак                 1      F   пенсионер     0  158616.077870   \n",
       "\n",
       "                      purpose  \n",
       "0               покупка жилья  \n",
       "1     приобретение автомобиля  \n",
       "2               покупка жилья  \n",
       "3  дополнительное образование  \n",
       "4             сыграть свадьбу  "
      ]
     },
     "execution_count": 10,
     "metadata": {},
     "output_type": "execute_result"
    }
   ],
   "source": [
    "data['days_employed'] = data['days_employed'].abs()\n",
    "data.head()"
   ]
  },
  {
   "cell_type": "markdown",
   "metadata": {
    "cellId": "r09w7tmrl6omqjwsrp85dm"
   },
   "source": [
    "Если предположить что аномально большие значения, это стаж в часах, перезапишем их, разделив на 24."
   ]
  },
  {
   "cell_type": "code",
   "execution_count": 11,
   "metadata": {
    "cellId": "in821qhoyjerisnzkmksma"
   },
   "outputs": [
    {
     "data": {
      "text/html": [
       "<div>\n",
       "<style scoped>\n",
       "    .dataframe tbody tr th:only-of-type {\n",
       "        vertical-align: middle;\n",
       "    }\n",
       "\n",
       "    .dataframe tbody tr th {\n",
       "        vertical-align: top;\n",
       "    }\n",
       "\n",
       "    .dataframe thead th {\n",
       "        text-align: right;\n",
       "    }\n",
       "</style>\n",
       "<table border=\"1\" class=\"dataframe\">\n",
       "  <thead>\n",
       "    <tr style=\"text-align: right;\">\n",
       "      <th></th>\n",
       "      <th>children</th>\n",
       "      <th>days_employed</th>\n",
       "      <th>dob_years</th>\n",
       "      <th>education</th>\n",
       "      <th>education_id</th>\n",
       "      <th>family_status</th>\n",
       "      <th>family_status_id</th>\n",
       "      <th>gender</th>\n",
       "      <th>income_type</th>\n",
       "      <th>debt</th>\n",
       "      <th>total_income</th>\n",
       "      <th>purpose</th>\n",
       "    </tr>\n",
       "  </thead>\n",
       "  <tbody>\n",
       "    <tr>\n",
       "      <th>0</th>\n",
       "      <td>1</td>\n",
       "      <td>8437.673028</td>\n",
       "      <td>42</td>\n",
       "      <td>высшее</td>\n",
       "      <td>0</td>\n",
       "      <td>женат / замужем</td>\n",
       "      <td>0</td>\n",
       "      <td>F</td>\n",
       "      <td>сотрудник</td>\n",
       "      <td>0</td>\n",
       "      <td>253875.639453</td>\n",
       "      <td>покупка жилья</td>\n",
       "    </tr>\n",
       "    <tr>\n",
       "      <th>1</th>\n",
       "      <td>1</td>\n",
       "      <td>4024.803754</td>\n",
       "      <td>36</td>\n",
       "      <td>среднее</td>\n",
       "      <td>1</td>\n",
       "      <td>женат / замужем</td>\n",
       "      <td>0</td>\n",
       "      <td>F</td>\n",
       "      <td>сотрудник</td>\n",
       "      <td>0</td>\n",
       "      <td>112080.014102</td>\n",
       "      <td>приобретение автомобиля</td>\n",
       "    </tr>\n",
       "    <tr>\n",
       "      <th>2</th>\n",
       "      <td>0</td>\n",
       "      <td>5623.422610</td>\n",
       "      <td>33</td>\n",
       "      <td>Среднее</td>\n",
       "      <td>1</td>\n",
       "      <td>женат / замужем</td>\n",
       "      <td>0</td>\n",
       "      <td>M</td>\n",
       "      <td>сотрудник</td>\n",
       "      <td>0</td>\n",
       "      <td>145885.952297</td>\n",
       "      <td>покупка жилья</td>\n",
       "    </tr>\n",
       "    <tr>\n",
       "      <th>3</th>\n",
       "      <td>3</td>\n",
       "      <td>4124.747207</td>\n",
       "      <td>32</td>\n",
       "      <td>среднее</td>\n",
       "      <td>1</td>\n",
       "      <td>женат / замужем</td>\n",
       "      <td>0</td>\n",
       "      <td>M</td>\n",
       "      <td>сотрудник</td>\n",
       "      <td>0</td>\n",
       "      <td>267628.550329</td>\n",
       "      <td>дополнительное образование</td>\n",
       "    </tr>\n",
       "    <tr>\n",
       "      <th>4</th>\n",
       "      <td>0</td>\n",
       "      <td>14177.753002</td>\n",
       "      <td>53</td>\n",
       "      <td>среднее</td>\n",
       "      <td>1</td>\n",
       "      <td>гражданский брак</td>\n",
       "      <td>1</td>\n",
       "      <td>F</td>\n",
       "      <td>пенсионер</td>\n",
       "      <td>0</td>\n",
       "      <td>158616.077870</td>\n",
       "      <td>сыграть свадьбу</td>\n",
       "    </tr>\n",
       "  </tbody>\n",
       "</table>\n",
       "</div>"
      ],
      "text/plain": [
       "   children  days_employed  dob_years education  education_id  \\\n",
       "0         1    8437.673028         42    высшее             0   \n",
       "1         1    4024.803754         36   среднее             1   \n",
       "2         0    5623.422610         33   Среднее             1   \n",
       "3         3    4124.747207         32   среднее             1   \n",
       "4         0   14177.753002         53   среднее             1   \n",
       "\n",
       "      family_status  family_status_id gender income_type  debt   total_income  \\\n",
       "0   женат / замужем                 0      F   сотрудник     0  253875.639453   \n",
       "1   женат / замужем                 0      F   сотрудник     0  112080.014102   \n",
       "2   женат / замужем                 0      M   сотрудник     0  145885.952297   \n",
       "3   женат / замужем                 0      M   сотрудник     0  267628.550329   \n",
       "4  гражданский брак                 1      F   пенсионер     0  158616.077870   \n",
       "\n",
       "                      purpose  \n",
       "0               покупка жилья  \n",
       "1     приобретение автомобиля  \n",
       "2               покупка жилья  \n",
       "3  дополнительное образование  \n",
       "4             сыграть свадьбу  "
      ]
     },
     "execution_count": 11,
     "metadata": {},
     "output_type": "execute_result"
    }
   ],
   "source": [
    "data.loc[data['days_employed'] > 25000, 'days_employed'] = data.loc[data['days_employed'] > 25000, 'days_employed'] / 24\n",
    "data.head()"
   ]
  },
  {
   "cell_type": "markdown",
   "metadata": {
    "cellId": "ia1mh2yd65plf8xzbdrmg"
   },
   "source": [
    "Пропуски в столбце `days_employed` заполним средним значением с учетом возраста и типа занятости."
   ]
  },
  {
   "cell_type": "markdown",
   "metadata": {
    "cellId": "zp9n6nk8kkotd71xv58rzc"
   },
   "source": [
    "Для этого проверим столбец `dob_years`."
   ]
  },
  {
   "cell_type": "code",
   "execution_count": 12,
   "metadata": {
    "cellId": "weckttvjd8s4eg3v6pii"
   },
   "outputs": [
    {
     "data": {
      "text/plain": [
       "35    617\n",
       "40    609\n",
       "41    607\n",
       "34    603\n",
       "38    598\n",
       "42    597\n",
       "33    581\n",
       "39    573\n",
       "31    560\n",
       "36    555\n",
       "44    547\n",
       "29    545\n",
       "30    540\n",
       "48    538\n",
       "37    537\n",
       "50    514\n",
       "43    513\n",
       "32    510\n",
       "49    508\n",
       "28    503\n",
       "45    497\n",
       "27    493\n",
       "56    487\n",
       "52    484\n",
       "47    480\n",
       "54    479\n",
       "46    475\n",
       "58    461\n",
       "57    460\n",
       "53    459\n",
       "51    448\n",
       "59    444\n",
       "55    443\n",
       "26    408\n",
       "60    377\n",
       "25    357\n",
       "61    355\n",
       "62    352\n",
       "63    269\n",
       "64    265\n",
       "24    264\n",
       "23    254\n",
       "65    194\n",
       "66    183\n",
       "22    183\n",
       "67    167\n",
       "21    111\n",
       "0     101\n",
       "68     99\n",
       "69     85\n",
       "70     65\n",
       "71     58\n",
       "20     51\n",
       "72     33\n",
       "19     14\n",
       "73      8\n",
       "74      6\n",
       "75      1\n",
       "Name: dob_years, dtype: int64"
      ]
     },
     "execution_count": 12,
     "metadata": {},
     "output_type": "execute_result"
    }
   ],
   "source": [
    "data['dob_years'].value_counts()"
   ]
  },
  {
   "cell_type": "markdown",
   "metadata": {
    "cellId": "o2q59goi6gw4ghdyplw"
   },
   "source": [
    "В столбце `dob_years` обнаружены аномальные значения возраста равные 0, их доля около одного процента. Для того чтобы не учитывать при заполнении столбца `days_employed`, заменим их на NaN."
   ]
  },
  {
   "cell_type": "code",
   "execution_count": 13,
   "metadata": {
    "cellId": "4jt6gctrp0lpu6h5nrsusi"
   },
   "outputs": [
    {
     "data": {
      "text/plain": [
       "children               0\n",
       "days_employed       2174\n",
       "dob_years            101\n",
       "education              0\n",
       "education_id           0\n",
       "family_status          0\n",
       "family_status_id       0\n",
       "gender                 0\n",
       "income_type            0\n",
       "debt                   0\n",
       "total_income           0\n",
       "purpose                0\n",
       "dtype: int64"
      ]
     },
     "execution_count": 13,
     "metadata": {},
     "output_type": "execute_result"
    }
   ],
   "source": [
    "data['dob_years'].replace(0, np.NaN, inplace = True)\n",
    "data.isna().sum()"
   ]
  },
  {
   "cell_type": "markdown",
   "metadata": {
    "cellId": "b6hyg8nho7v5cavowhzmnp"
   },
   "source": [
    "Заполним пропуски в столбце `days_employed`."
   ]
  },
  {
   "cell_type": "code",
   "execution_count": 14,
   "metadata": {
    "cellId": "kluol2r5z2fss8j0ifw0g"
   },
   "outputs": [
    {
     "data": {
      "text/plain": [
       "children              0\n",
       "days_employed        14\n",
       "dob_years           101\n",
       "education             0\n",
       "education_id          0\n",
       "family_status         0\n",
       "family_status_id      0\n",
       "gender                0\n",
       "income_type           0\n",
       "debt                  0\n",
       "total_income          0\n",
       "purpose               0\n",
       "dtype: int64"
      ]
     },
     "execution_count": 14,
     "metadata": {},
     "output_type": "execute_result"
    }
   ],
   "source": [
    "data['days_employed'] = data['days_employed'].fillna(data.groupby(['dob_years', 'income_type']\n",
    "                                                                 )['days_employed'].transform('mean'))\n",
    "data.isna().sum()"
   ]
  },
  {
   "cell_type": "markdown",
   "metadata": {
    "cellId": "2r67p7xajahsbhzinu6moa"
   },
   "source": [
    "Оставшиеся пропуски заполним средним значением с учетом типа занятости."
   ]
  },
  {
   "cell_type": "code",
   "execution_count": 15,
   "metadata": {
    "cellId": "78d6nosxhxyzi3rnbw65up"
   },
   "outputs": [
    {
     "data": {
      "text/plain": [
       "children              0\n",
       "days_employed         0\n",
       "dob_years           101\n",
       "education             0\n",
       "education_id          0\n",
       "family_status         0\n",
       "family_status_id      0\n",
       "gender                0\n",
       "income_type           0\n",
       "debt                  0\n",
       "total_income          0\n",
       "purpose               0\n",
       "dtype: int64"
      ]
     },
     "execution_count": 15,
     "metadata": {},
     "output_type": "execute_result"
    }
   ],
   "source": [
    "data['days_employed'] = data['days_employed'].fillna(data.groupby('income_type')['days_employed'].transform('mean'))\n",
    "data.isna().sum()"
   ]
  },
  {
   "cell_type": "markdown",
   "metadata": {
    "cellId": "uz3mhmd5stuxp36uz259b"
   },
   "source": [
    "Проверим столбец `children`"
   ]
  },
  {
   "cell_type": "code",
   "execution_count": 16,
   "metadata": {
    "cellId": "pzcrjd4couo8sttywbjb6m"
   },
   "outputs": [
    {
     "data": {
      "text/plain": [
       " 0     14149\n",
       " 1      4818\n",
       " 2      2055\n",
       " 3       330\n",
       " 20       76\n",
       "-1        47\n",
       " 4        41\n",
       " 5         9\n",
       "Name: children, dtype: int64"
      ]
     },
     "execution_count": 16,
     "metadata": {},
     "output_type": "execute_result"
    }
   ],
   "source": [
    "data['children'].value_counts()"
   ]
  },
  {
   "cell_type": "markdown",
   "metadata": {
    "cellId": "a7g12985cc5bho9hgi4m"
   },
   "source": [
    "Значения -1 и 20 скорее всего являются значениями по умолчанию, применяемыми из-за отсутствия информации, их доля невелика, около одного процента. Поэтому заменим их на NaN, для того что бы они не искажали дальнейшие расчеты."
   ]
  },
  {
   "cell_type": "code",
   "execution_count": 17,
   "metadata": {
    "cellId": "uvuqaupysqdhgtovbzcjqc"
   },
   "outputs": [
    {
     "data": {
      "text/plain": [
       "0.0    14149\n",
       "1.0     4818\n",
       "2.0     2055\n",
       "3.0      330\n",
       "4.0       41\n",
       "5.0        9\n",
       "Name: children, dtype: int64"
      ]
     },
     "execution_count": 17,
     "metadata": {},
     "output_type": "execute_result"
    }
   ],
   "source": [
    "data['children'].replace(-1, np.NaN, inplace = True)\n",
    "data['children'].replace(20, np.NaN, inplace = True)\n",
    "data['children'].value_counts()"
   ]
  },
  {
   "cell_type": "markdown",
   "metadata": {
    "cellId": "t6cdkk4n9ntu7uq1x448r"
   },
   "source": [
    "**Вывод**\n",
    "- Пропуски заполнены средними и медианными значениями в зависимости от других характеристик\n",
    "- Возможная причина появления пропусков-сбой в системе сбора информации."
   ]
  },
  {
   "cell_type": "markdown",
   "metadata": {
    "cellId": "igdbrp3lcrkf9f74rlpco"
   },
   "source": [
    "### Замена типов данных"
   ]
  },
  {
   "cell_type": "markdown",
   "metadata": {
    "cellId": "ptt1e5ebp8t40f7ml7nuq"
   },
   "source": [
    "Заменим вещественный тип данных в столбцах `total_income` и `days_employed`, на целочисленный, для удобства дальнейших расчетов."
   ]
  },
  {
   "cell_type": "code",
   "execution_count": 18,
   "metadata": {
    "cellId": "w75vdn6ymjmuau09tp7eu"
   },
   "outputs": [
    {
     "data": {
      "text/html": [
       "<div>\n",
       "<style scoped>\n",
       "    .dataframe tbody tr th:only-of-type {\n",
       "        vertical-align: middle;\n",
       "    }\n",
       "\n",
       "    .dataframe tbody tr th {\n",
       "        vertical-align: top;\n",
       "    }\n",
       "\n",
       "    .dataframe thead th {\n",
       "        text-align: right;\n",
       "    }\n",
       "</style>\n",
       "<table border=\"1\" class=\"dataframe\">\n",
       "  <thead>\n",
       "    <tr style=\"text-align: right;\">\n",
       "      <th></th>\n",
       "      <th>children</th>\n",
       "      <th>days_employed</th>\n",
       "      <th>dob_years</th>\n",
       "      <th>education</th>\n",
       "      <th>education_id</th>\n",
       "      <th>family_status</th>\n",
       "      <th>family_status_id</th>\n",
       "      <th>gender</th>\n",
       "      <th>income_type</th>\n",
       "      <th>debt</th>\n",
       "      <th>total_income</th>\n",
       "      <th>purpose</th>\n",
       "    </tr>\n",
       "  </thead>\n",
       "  <tbody>\n",
       "    <tr>\n",
       "      <th>0</th>\n",
       "      <td>1.0</td>\n",
       "      <td>8437</td>\n",
       "      <td>42.0</td>\n",
       "      <td>высшее</td>\n",
       "      <td>0</td>\n",
       "      <td>женат / замужем</td>\n",
       "      <td>0</td>\n",
       "      <td>F</td>\n",
       "      <td>сотрудник</td>\n",
       "      <td>0</td>\n",
       "      <td>253875</td>\n",
       "      <td>покупка жилья</td>\n",
       "    </tr>\n",
       "    <tr>\n",
       "      <th>1</th>\n",
       "      <td>1.0</td>\n",
       "      <td>4024</td>\n",
       "      <td>36.0</td>\n",
       "      <td>среднее</td>\n",
       "      <td>1</td>\n",
       "      <td>женат / замужем</td>\n",
       "      <td>0</td>\n",
       "      <td>F</td>\n",
       "      <td>сотрудник</td>\n",
       "      <td>0</td>\n",
       "      <td>112080</td>\n",
       "      <td>приобретение автомобиля</td>\n",
       "    </tr>\n",
       "    <tr>\n",
       "      <th>2</th>\n",
       "      <td>0.0</td>\n",
       "      <td>5623</td>\n",
       "      <td>33.0</td>\n",
       "      <td>Среднее</td>\n",
       "      <td>1</td>\n",
       "      <td>женат / замужем</td>\n",
       "      <td>0</td>\n",
       "      <td>M</td>\n",
       "      <td>сотрудник</td>\n",
       "      <td>0</td>\n",
       "      <td>145885</td>\n",
       "      <td>покупка жилья</td>\n",
       "    </tr>\n",
       "    <tr>\n",
       "      <th>3</th>\n",
       "      <td>3.0</td>\n",
       "      <td>4124</td>\n",
       "      <td>32.0</td>\n",
       "      <td>среднее</td>\n",
       "      <td>1</td>\n",
       "      <td>женат / замужем</td>\n",
       "      <td>0</td>\n",
       "      <td>M</td>\n",
       "      <td>сотрудник</td>\n",
       "      <td>0</td>\n",
       "      <td>267628</td>\n",
       "      <td>дополнительное образование</td>\n",
       "    </tr>\n",
       "    <tr>\n",
       "      <th>4</th>\n",
       "      <td>0.0</td>\n",
       "      <td>14177</td>\n",
       "      <td>53.0</td>\n",
       "      <td>среднее</td>\n",
       "      <td>1</td>\n",
       "      <td>гражданский брак</td>\n",
       "      <td>1</td>\n",
       "      <td>F</td>\n",
       "      <td>пенсионер</td>\n",
       "      <td>0</td>\n",
       "      <td>158616</td>\n",
       "      <td>сыграть свадьбу</td>\n",
       "    </tr>\n",
       "  </tbody>\n",
       "</table>\n",
       "</div>"
      ],
      "text/plain": [
       "   children  days_employed  dob_years education  education_id  \\\n",
       "0       1.0           8437       42.0    высшее             0   \n",
       "1       1.0           4024       36.0   среднее             1   \n",
       "2       0.0           5623       33.0   Среднее             1   \n",
       "3       3.0           4124       32.0   среднее             1   \n",
       "4       0.0          14177       53.0   среднее             1   \n",
       "\n",
       "      family_status  family_status_id gender income_type  debt  total_income  \\\n",
       "0   женат / замужем                 0      F   сотрудник     0        253875   \n",
       "1   женат / замужем                 0      F   сотрудник     0        112080   \n",
       "2   женат / замужем                 0      M   сотрудник     0        145885   \n",
       "3   женат / замужем                 0      M   сотрудник     0        267628   \n",
       "4  гражданский брак                 1      F   пенсионер     0        158616   \n",
       "\n",
       "                      purpose  \n",
       "0               покупка жилья  \n",
       "1     приобретение автомобиля  \n",
       "2               покупка жилья  \n",
       "3  дополнительное образование  \n",
       "4             сыграть свадьбу  "
      ]
     },
     "execution_count": 18,
     "metadata": {},
     "output_type": "execute_result"
    }
   ],
   "source": [
    "data[['total_income', 'days_employed']] = data[['total_income', 'days_employed']].astype('int')\n",
    "data.head()"
   ]
  },
  {
   "cell_type": "markdown",
   "metadata": {
    "cellId": "gd2filf9jplu279656d07"
   },
   "source": [
    "**Вывод**\n",
    "- Вещественный тип данных, скорее всего возникает в процессе расчетов."
   ]
  },
  {
   "cell_type": "markdown",
   "metadata": {
    "cellId": "2ijuarlxmh53jw5inc9miy"
   },
   "source": [
    "### Обработка дубликатов"
   ]
  },
  {
   "cell_type": "markdown",
   "metadata": {
    "cellId": "9gh48j6np0jaq2zyr5d09b"
   },
   "source": [
    "Проверим наличие явных дубликатов:"
   ]
  },
  {
   "cell_type": "code",
   "execution_count": 19,
   "metadata": {
    "cellId": "992fpkp0rxc8fgn2omybxh"
   },
   "outputs": [
    {
     "name": "stdout",
     "output_type": "stream",
     "text": [
      "Количество дубликатов: 54\n"
     ]
    }
   ],
   "source": [
    "data.duplicated().sum()\n",
    "print('Количество дубликатов: {}'.format(data.duplicated().sum()))"
   ]
  },
  {
   "cell_type": "markdown",
   "metadata": {
    "cellId": "qclseyd9izbpairc1wq17"
   },
   "source": [
    "Для удаления явных дубликатов сначала избавимся от неявных дубликатов."
   ]
  },
  {
   "cell_type": "markdown",
   "metadata": {
    "cellId": "zdbquap6x0sz5oh01hybl"
   },
   "source": [
    "Обработаем столбец `education`."
   ]
  },
  {
   "cell_type": "code",
   "execution_count": 20,
   "metadata": {
    "cellId": "mmcfrmwgbsllc3nslfdy9l"
   },
   "outputs": [
    {
     "data": {
      "text/plain": [
       "среднее                13750\n",
       "высшее                  4718\n",
       "СРЕДНЕЕ                  772\n",
       "Среднее                  711\n",
       "неоконченное высшее      668\n",
       "ВЫСШЕЕ                   274\n",
       "Высшее                   268\n",
       "начальное                250\n",
       "Неоконченное высшее       47\n",
       "НЕОКОНЧЕННОЕ ВЫСШЕЕ       29\n",
       "НАЧАЛЬНОЕ                 17\n",
       "Начальное                 15\n",
       "ученая степень             4\n",
       "УЧЕНАЯ СТЕПЕНЬ             1\n",
       "Ученая степень             1\n",
       "Name: education, dtype: int64"
      ]
     },
     "execution_count": 20,
     "metadata": {},
     "output_type": "execute_result"
    }
   ],
   "source": [
    "data['education'].value_counts()"
   ]
  },
  {
   "cell_type": "markdown",
   "metadata": {
    "cellId": "d7z053nj09gusbhnw5cm9"
   },
   "source": [
    "Приведем значения в столбце `education` к нижнему регистру."
   ]
  },
  {
   "cell_type": "code",
   "execution_count": 21,
   "metadata": {
    "cellId": "3sqbdjukokvnwxyjhghlm"
   },
   "outputs": [
    {
     "data": {
      "text/plain": [
       "среднее                15233\n",
       "высшее                  5260\n",
       "неоконченное высшее      744\n",
       "начальное                282\n",
       "ученая степень             6\n",
       "Name: education, dtype: int64"
      ]
     },
     "execution_count": 21,
     "metadata": {},
     "output_type": "execute_result"
    }
   ],
   "source": [
    "data['education'] = data['education'].str.lower()\n",
    "data['education'].value_counts()"
   ]
  },
  {
   "cell_type": "code",
   "execution_count": 22,
   "metadata": {
    "cellId": "k8tsx96ch3c666vc9r3ac"
   },
   "outputs": [
    {
     "name": "stdout",
     "output_type": "stream",
     "text": [
      "Количество дубликатов: 71\n"
     ]
    }
   ],
   "source": [
    "data.duplicated().sum()\n",
    "print('Количество дубликатов: {}'.format(data.duplicated().sum()))"
   ]
  },
  {
   "cell_type": "markdown",
   "metadata": {
    "cellId": "xeew9x8ioip4y0tnb5oh"
   },
   "source": [
    "Проверим столбец `family_status`."
   ]
  },
  {
   "cell_type": "code",
   "execution_count": 23,
   "metadata": {
    "cellId": "tpeapzizwy4040egnpgtx"
   },
   "outputs": [
    {
     "data": {
      "text/plain": [
       "женат / замужем          12380\n",
       "гражданский брак          4177\n",
       "Не женат / не замужем     2813\n",
       "в разводе                 1195\n",
       "вдовец / вдова             960\n",
       "Name: family_status, dtype: int64"
      ]
     },
     "execution_count": 23,
     "metadata": {},
     "output_type": "execute_result"
    }
   ],
   "source": [
    "data['family_status'].value_counts()"
   ]
  },
  {
   "cell_type": "markdown",
   "metadata": {
    "cellId": "f6pzseillu70f3493dw8x0m"
   },
   "source": [
    "Приведем значения в столбце `family_status` к нижнему регистру."
   ]
  },
  {
   "cell_type": "code",
   "execution_count": 24,
   "metadata": {
    "cellId": "ltai6t3f00hw2d7w5bi8ej"
   },
   "outputs": [
    {
     "data": {
      "text/plain": [
       "женат / замужем          12380\n",
       "гражданский брак          4177\n",
       "не женат / не замужем     2813\n",
       "в разводе                 1195\n",
       "вдовец / вдова             960\n",
       "Name: family_status, dtype: int64"
      ]
     },
     "execution_count": 24,
     "metadata": {},
     "output_type": "execute_result"
    }
   ],
   "source": [
    "data['family_status'] = data['family_status'].str.lower()\n",
    "data['family_status'].value_counts()"
   ]
  },
  {
   "cell_type": "markdown",
   "metadata": {
    "cellId": "r7pb0on319imj8mnyt4n"
   },
   "source": [
    "Проверим столбец `income_type`."
   ]
  },
  {
   "cell_type": "code",
   "execution_count": 25,
   "metadata": {
    "cellId": "wxy9h6rhr2pc1e58l4i91i"
   },
   "outputs": [
    {
     "data": {
      "text/plain": [
       "сотрудник          11119\n",
       "компаньон           5085\n",
       "пенсионер           3856\n",
       "госслужащий         1459\n",
       "предприниматель        2\n",
       "безработный            2\n",
       "в декрете              1\n",
       "студент                1\n",
       "Name: income_type, dtype: int64"
      ]
     },
     "execution_count": 25,
     "metadata": {},
     "output_type": "execute_result"
    }
   ],
   "source": [
    "data['income_type'].value_counts()"
   ]
  },
  {
   "cell_type": "markdown",
   "metadata": {
    "cellId": "t6ht329zudy3vefdoll5s"
   },
   "source": [
    "Посчитаем и удалим явные дубликаты."
   ]
  },
  {
   "cell_type": "code",
   "execution_count": 26,
   "metadata": {
    "cellId": "v6np4xq2112dspgfpt0mp"
   },
   "outputs": [
    {
     "name": "stdout",
     "output_type": "stream",
     "text": [
      "Количество дубликатов: 71\n"
     ]
    }
   ],
   "source": [
    "data.duplicated().sum()\n",
    "print('Количество дубликатов: {}'.format(data.duplicated().sum()))"
   ]
  },
  {
   "cell_type": "code",
   "execution_count": 27,
   "metadata": {
    "cellId": "e1pqw7u8sdq862n7b5kxxg"
   },
   "outputs": [
    {
     "name": "stdout",
     "output_type": "stream",
     "text": [
      "Количество дубликатов: 0\n"
     ]
    }
   ],
   "source": [
    "data = data.drop_duplicates().reset_index(drop=True)\n",
    "print('Количество дубликатов: {}'.format(data.duplicated().sum()))"
   ]
  },
  {
   "cell_type": "markdown",
   "metadata": {
    "cellId": "xnf3a3u6f6lvmi6tnt108"
   },
   "source": [
    "**Вывод**\n",
    "- Были выявлены и удалены явные и неявные дубликаты. Причины возникновения-человеческий фактор и технические ошибки."
   ]
  },
  {
   "cell_type": "markdown",
   "metadata": {
    "cellId": "fj8hizafh6tdbg96ux0a"
   },
   "source": [
    "### Лемматизация"
   ]
  },
  {
   "cell_type": "markdown",
   "metadata": {
    "cellId": "zsok199y9f03wtvuusm2m5"
   },
   "source": [
    "Цели кредитов, в столбце `purpose`, записаны различными формулировками, поэтому просмотрим все уникальные значения, выделим леммы и разделим цели по категориям, для этого добавим столбец `purpose_category`."
   ]
  },
  {
   "cell_type": "code",
   "execution_count": 28,
   "metadata": {
    "cellId": "k3dj19bnchgega4larpr"
   },
   "outputs": [
    {
     "name": "stdout",
     "output_type": "stream",
     "text": [
      "['покупка жилья' 'приобретение автомобиля' 'дополнительное образование'\n",
      " 'сыграть свадьбу' 'операции с жильем' 'образование'\n",
      " 'на проведение свадьбы' 'покупка жилья для семьи' 'покупка недвижимости'\n",
      " 'покупка коммерческой недвижимости' 'покупка жилой недвижимости'\n",
      " 'строительство собственной недвижимости' 'недвижимость'\n",
      " 'строительство недвижимости' 'на покупку подержанного автомобиля'\n",
      " 'на покупку своего автомобиля' 'операции с коммерческой недвижимостью'\n",
      " 'строительство жилой недвижимости' 'жилье'\n",
      " 'операции со своей недвижимостью' 'автомобили' 'заняться образованием'\n",
      " 'сделка с подержанным автомобилем' 'получение образования' 'автомобиль'\n",
      " 'свадьба' 'получение дополнительного образования' 'покупка своего жилья'\n",
      " 'операции с недвижимостью' 'получение высшего образования'\n",
      " 'свой автомобиль' 'сделка с автомобилем' 'профильное образование'\n",
      " 'высшее образование' 'покупка жилья для сдачи' 'на покупку автомобиля'\n",
      " 'ремонт жилью' 'заняться высшим образованием']\n"
     ]
    }
   ],
   "source": [
    "print(data['purpose'].unique())"
   ]
  },
  {
   "cell_type": "markdown",
   "metadata": {
    "cellId": "msast16vp6kp6t38qoyhq"
   },
   "source": [
    "Исходя из списка целей, выделим четыре основные категории:  \n",
    "- недвижимость  \n",
    "- автомобиль  \n",
    "- образование  \n",
    "- свадьба"
   ]
  },
  {
   "cell_type": "code",
   "execution_count": 29,
   "metadata": {
    "cellId": "3oea9syr1kw82gc20qqbv5"
   },
   "outputs": [
    {
     "data": {
      "text/html": [
       "<div>\n",
       "<style scoped>\n",
       "    .dataframe tbody tr th:only-of-type {\n",
       "        vertical-align: middle;\n",
       "    }\n",
       "\n",
       "    .dataframe tbody tr th {\n",
       "        vertical-align: top;\n",
       "    }\n",
       "\n",
       "    .dataframe thead th {\n",
       "        text-align: right;\n",
       "    }\n",
       "</style>\n",
       "<table border=\"1\" class=\"dataframe\">\n",
       "  <thead>\n",
       "    <tr style=\"text-align: right;\">\n",
       "      <th></th>\n",
       "      <th>children</th>\n",
       "      <th>days_employed</th>\n",
       "      <th>dob_years</th>\n",
       "      <th>education</th>\n",
       "      <th>education_id</th>\n",
       "      <th>family_status</th>\n",
       "      <th>family_status_id</th>\n",
       "      <th>gender</th>\n",
       "      <th>income_type</th>\n",
       "      <th>debt</th>\n",
       "      <th>total_income</th>\n",
       "      <th>purpose</th>\n",
       "      <th>purpose_category</th>\n",
       "    </tr>\n",
       "  </thead>\n",
       "  <tbody>\n",
       "    <tr>\n",
       "      <th>0</th>\n",
       "      <td>1.0</td>\n",
       "      <td>8437</td>\n",
       "      <td>42.0</td>\n",
       "      <td>высшее</td>\n",
       "      <td>0</td>\n",
       "      <td>женат / замужем</td>\n",
       "      <td>0</td>\n",
       "      <td>F</td>\n",
       "      <td>сотрудник</td>\n",
       "      <td>0</td>\n",
       "      <td>253875</td>\n",
       "      <td>покупка жилья</td>\n",
       "      <td>недвижимость</td>\n",
       "    </tr>\n",
       "    <tr>\n",
       "      <th>1</th>\n",
       "      <td>1.0</td>\n",
       "      <td>4024</td>\n",
       "      <td>36.0</td>\n",
       "      <td>среднее</td>\n",
       "      <td>1</td>\n",
       "      <td>женат / замужем</td>\n",
       "      <td>0</td>\n",
       "      <td>F</td>\n",
       "      <td>сотрудник</td>\n",
       "      <td>0</td>\n",
       "      <td>112080</td>\n",
       "      <td>приобретение автомобиля</td>\n",
       "      <td>автомобиль</td>\n",
       "    </tr>\n",
       "    <tr>\n",
       "      <th>2</th>\n",
       "      <td>0.0</td>\n",
       "      <td>5623</td>\n",
       "      <td>33.0</td>\n",
       "      <td>среднее</td>\n",
       "      <td>1</td>\n",
       "      <td>женат / замужем</td>\n",
       "      <td>0</td>\n",
       "      <td>M</td>\n",
       "      <td>сотрудник</td>\n",
       "      <td>0</td>\n",
       "      <td>145885</td>\n",
       "      <td>покупка жилья</td>\n",
       "      <td>недвижимость</td>\n",
       "    </tr>\n",
       "    <tr>\n",
       "      <th>3</th>\n",
       "      <td>3.0</td>\n",
       "      <td>4124</td>\n",
       "      <td>32.0</td>\n",
       "      <td>среднее</td>\n",
       "      <td>1</td>\n",
       "      <td>женат / замужем</td>\n",
       "      <td>0</td>\n",
       "      <td>M</td>\n",
       "      <td>сотрудник</td>\n",
       "      <td>0</td>\n",
       "      <td>267628</td>\n",
       "      <td>дополнительное образование</td>\n",
       "      <td>образование</td>\n",
       "    </tr>\n",
       "    <tr>\n",
       "      <th>4</th>\n",
       "      <td>0.0</td>\n",
       "      <td>14177</td>\n",
       "      <td>53.0</td>\n",
       "      <td>среднее</td>\n",
       "      <td>1</td>\n",
       "      <td>гражданский брак</td>\n",
       "      <td>1</td>\n",
       "      <td>F</td>\n",
       "      <td>пенсионер</td>\n",
       "      <td>0</td>\n",
       "      <td>158616</td>\n",
       "      <td>сыграть свадьбу</td>\n",
       "      <td>свадьба</td>\n",
       "    </tr>\n",
       "    <tr>\n",
       "      <th>5</th>\n",
       "      <td>0.0</td>\n",
       "      <td>926</td>\n",
       "      <td>27.0</td>\n",
       "      <td>высшее</td>\n",
       "      <td>0</td>\n",
       "      <td>гражданский брак</td>\n",
       "      <td>1</td>\n",
       "      <td>M</td>\n",
       "      <td>компаньон</td>\n",
       "      <td>0</td>\n",
       "      <td>255763</td>\n",
       "      <td>покупка жилья</td>\n",
       "      <td>недвижимость</td>\n",
       "    </tr>\n",
       "    <tr>\n",
       "      <th>6</th>\n",
       "      <td>0.0</td>\n",
       "      <td>2879</td>\n",
       "      <td>43.0</td>\n",
       "      <td>высшее</td>\n",
       "      <td>0</td>\n",
       "      <td>женат / замужем</td>\n",
       "      <td>0</td>\n",
       "      <td>F</td>\n",
       "      <td>компаньон</td>\n",
       "      <td>0</td>\n",
       "      <td>240525</td>\n",
       "      <td>операции с жильем</td>\n",
       "      <td>недвижимость</td>\n",
       "    </tr>\n",
       "    <tr>\n",
       "      <th>7</th>\n",
       "      <td>0.0</td>\n",
       "      <td>152</td>\n",
       "      <td>50.0</td>\n",
       "      <td>среднее</td>\n",
       "      <td>1</td>\n",
       "      <td>женат / замужем</td>\n",
       "      <td>0</td>\n",
       "      <td>M</td>\n",
       "      <td>сотрудник</td>\n",
       "      <td>0</td>\n",
       "      <td>135823</td>\n",
       "      <td>образование</td>\n",
       "      <td>образование</td>\n",
       "    </tr>\n",
       "    <tr>\n",
       "      <th>8</th>\n",
       "      <td>2.0</td>\n",
       "      <td>6929</td>\n",
       "      <td>35.0</td>\n",
       "      <td>высшее</td>\n",
       "      <td>0</td>\n",
       "      <td>гражданский брак</td>\n",
       "      <td>1</td>\n",
       "      <td>F</td>\n",
       "      <td>сотрудник</td>\n",
       "      <td>0</td>\n",
       "      <td>95856</td>\n",
       "      <td>на проведение свадьбы</td>\n",
       "      <td>свадьба</td>\n",
       "    </tr>\n",
       "    <tr>\n",
       "      <th>9</th>\n",
       "      <td>0.0</td>\n",
       "      <td>2188</td>\n",
       "      <td>41.0</td>\n",
       "      <td>среднее</td>\n",
       "      <td>1</td>\n",
       "      <td>женат / замужем</td>\n",
       "      <td>0</td>\n",
       "      <td>M</td>\n",
       "      <td>сотрудник</td>\n",
       "      <td>0</td>\n",
       "      <td>144425</td>\n",
       "      <td>покупка жилья для семьи</td>\n",
       "      <td>недвижимость</td>\n",
       "    </tr>\n",
       "  </tbody>\n",
       "</table>\n",
       "</div>"
      ],
      "text/plain": [
       "   children  days_employed  dob_years education  education_id  \\\n",
       "0       1.0           8437       42.0    высшее             0   \n",
       "1       1.0           4024       36.0   среднее             1   \n",
       "2       0.0           5623       33.0   среднее             1   \n",
       "3       3.0           4124       32.0   среднее             1   \n",
       "4       0.0          14177       53.0   среднее             1   \n",
       "5       0.0            926       27.0    высшее             0   \n",
       "6       0.0           2879       43.0    высшее             0   \n",
       "7       0.0            152       50.0   среднее             1   \n",
       "8       2.0           6929       35.0    высшее             0   \n",
       "9       0.0           2188       41.0   среднее             1   \n",
       "\n",
       "      family_status  family_status_id gender income_type  debt  total_income  \\\n",
       "0   женат / замужем                 0      F   сотрудник     0        253875   \n",
       "1   женат / замужем                 0      F   сотрудник     0        112080   \n",
       "2   женат / замужем                 0      M   сотрудник     0        145885   \n",
       "3   женат / замужем                 0      M   сотрудник     0        267628   \n",
       "4  гражданский брак                 1      F   пенсионер     0        158616   \n",
       "5  гражданский брак                 1      M   компаньон     0        255763   \n",
       "6   женат / замужем                 0      F   компаньон     0        240525   \n",
       "7   женат / замужем                 0      M   сотрудник     0        135823   \n",
       "8  гражданский брак                 1      F   сотрудник     0         95856   \n",
       "9   женат / замужем                 0      M   сотрудник     0        144425   \n",
       "\n",
       "                      purpose purpose_category  \n",
       "0               покупка жилья     недвижимость  \n",
       "1     приобретение автомобиля       автомобиль  \n",
       "2               покупка жилья     недвижимость  \n",
       "3  дополнительное образование      образование  \n",
       "4             сыграть свадьбу          свадьба  \n",
       "5               покупка жилья     недвижимость  \n",
       "6           операции с жильем     недвижимость  \n",
       "7                 образование      образование  \n",
       "8       на проведение свадьбы          свадьба  \n",
       "9     покупка жилья для семьи     недвижимость  "
      ]
     },
     "execution_count": 29,
     "metadata": {},
     "output_type": "execute_result"
    }
   ],
   "source": [
    "def purpose_lemmas(row):\n",
    "    lemmas_row = m.lemmatize(row)\n",
    "    if 'автомобиль' in lemmas_row:\n",
    "        return 'автомобиль'\n",
    "    if 'недвижимость' in lemmas_row:\n",
    "        return  'недвижимость'\n",
    "    if 'жилье' in lemmas_row:\n",
    "        return  'недвижимость'\n",
    "    if 'свадьба' in lemmas_row:\n",
    "        return  'свадьба'\n",
    "    if 'образование' in lemmas_row:\n",
    "        return 'образование'\n",
    "    \n",
    "data['purpose_category']= data['purpose'].apply(purpose_lemmas)\n",
    "data.head(10)"
   ]
  },
  {
   "cell_type": "code",
   "execution_count": 30,
   "metadata": {
    "cellId": "bu1z211ksc9fl43wcpfzr"
   },
   "outputs": [
    {
     "data": {
      "text/plain": [
       "недвижимость    10811\n",
       "автомобиль       4306\n",
       "образование      4013\n",
       "свадьба          2324\n",
       "Name: purpose_category, dtype: int64"
      ]
     },
     "execution_count": 30,
     "metadata": {},
     "output_type": "execute_result"
    }
   ],
   "source": [
    "data['purpose_category'].value_counts()"
   ]
  },
  {
   "cell_type": "markdown",
   "metadata": {
    "cellId": "92jyesrqq1rrg0rft777m"
   },
   "source": [
    "**Вывод**\n",
    "\n",
    "Разделили цели на четыре категории:  \n",
    "- недвижимость - все, что связано с недвижимостью  \n",
    "- автомобиль - покупка автомобиля  \n",
    "- образование - получение образования  \n",
    "- свадьба - проведение свадьбы"
   ]
  },
  {
   "cell_type": "markdown",
   "metadata": {
    "cellId": "9md11diz218how7kbqketv"
   },
   "source": [
    "### Категоризация данных"
   ]
  },
  {
   "cell_type": "markdown",
   "metadata": {
    "cellId": "yjtamh2awmty3g9q4mbfj"
   },
   "source": [
    "Выделим категории по наличию детей:\n",
    "- 0 - нет детей\n",
    "- 1 - есть дети\n",
    "\n",
    "Категории добавим в столбец `children_category`."
   ]
  },
  {
   "cell_type": "code",
   "execution_count": 31,
   "metadata": {
    "cellId": "2zansrxo9sdbedotvw0dqq"
   },
   "outputs": [
    {
     "data": {
      "text/html": [
       "<div>\n",
       "<style scoped>\n",
       "    .dataframe tbody tr th:only-of-type {\n",
       "        vertical-align: middle;\n",
       "    }\n",
       "\n",
       "    .dataframe tbody tr th {\n",
       "        vertical-align: top;\n",
       "    }\n",
       "\n",
       "    .dataframe thead th {\n",
       "        text-align: right;\n",
       "    }\n",
       "</style>\n",
       "<table border=\"1\" class=\"dataframe\">\n",
       "  <thead>\n",
       "    <tr style=\"text-align: right;\">\n",
       "      <th></th>\n",
       "      <th>children</th>\n",
       "      <th>days_employed</th>\n",
       "      <th>dob_years</th>\n",
       "      <th>education</th>\n",
       "      <th>education_id</th>\n",
       "      <th>family_status</th>\n",
       "      <th>family_status_id</th>\n",
       "      <th>gender</th>\n",
       "      <th>income_type</th>\n",
       "      <th>debt</th>\n",
       "      <th>total_income</th>\n",
       "      <th>purpose</th>\n",
       "      <th>purpose_category</th>\n",
       "      <th>children_category</th>\n",
       "    </tr>\n",
       "  </thead>\n",
       "  <tbody>\n",
       "    <tr>\n",
       "      <th>0</th>\n",
       "      <td>1.0</td>\n",
       "      <td>8437</td>\n",
       "      <td>42.0</td>\n",
       "      <td>высшее</td>\n",
       "      <td>0</td>\n",
       "      <td>женат / замужем</td>\n",
       "      <td>0</td>\n",
       "      <td>F</td>\n",
       "      <td>сотрудник</td>\n",
       "      <td>0</td>\n",
       "      <td>253875</td>\n",
       "      <td>покупка жилья</td>\n",
       "      <td>недвижимость</td>\n",
       "      <td>1.0</td>\n",
       "    </tr>\n",
       "    <tr>\n",
       "      <th>1</th>\n",
       "      <td>1.0</td>\n",
       "      <td>4024</td>\n",
       "      <td>36.0</td>\n",
       "      <td>среднее</td>\n",
       "      <td>1</td>\n",
       "      <td>женат / замужем</td>\n",
       "      <td>0</td>\n",
       "      <td>F</td>\n",
       "      <td>сотрудник</td>\n",
       "      <td>0</td>\n",
       "      <td>112080</td>\n",
       "      <td>приобретение автомобиля</td>\n",
       "      <td>автомобиль</td>\n",
       "      <td>1.0</td>\n",
       "    </tr>\n",
       "    <tr>\n",
       "      <th>2</th>\n",
       "      <td>0.0</td>\n",
       "      <td>5623</td>\n",
       "      <td>33.0</td>\n",
       "      <td>среднее</td>\n",
       "      <td>1</td>\n",
       "      <td>женат / замужем</td>\n",
       "      <td>0</td>\n",
       "      <td>M</td>\n",
       "      <td>сотрудник</td>\n",
       "      <td>0</td>\n",
       "      <td>145885</td>\n",
       "      <td>покупка жилья</td>\n",
       "      <td>недвижимость</td>\n",
       "      <td>0.0</td>\n",
       "    </tr>\n",
       "    <tr>\n",
       "      <th>3</th>\n",
       "      <td>3.0</td>\n",
       "      <td>4124</td>\n",
       "      <td>32.0</td>\n",
       "      <td>среднее</td>\n",
       "      <td>1</td>\n",
       "      <td>женат / замужем</td>\n",
       "      <td>0</td>\n",
       "      <td>M</td>\n",
       "      <td>сотрудник</td>\n",
       "      <td>0</td>\n",
       "      <td>267628</td>\n",
       "      <td>дополнительное образование</td>\n",
       "      <td>образование</td>\n",
       "      <td>1.0</td>\n",
       "    </tr>\n",
       "    <tr>\n",
       "      <th>4</th>\n",
       "      <td>0.0</td>\n",
       "      <td>14177</td>\n",
       "      <td>53.0</td>\n",
       "      <td>среднее</td>\n",
       "      <td>1</td>\n",
       "      <td>гражданский брак</td>\n",
       "      <td>1</td>\n",
       "      <td>F</td>\n",
       "      <td>пенсионер</td>\n",
       "      <td>0</td>\n",
       "      <td>158616</td>\n",
       "      <td>сыграть свадьбу</td>\n",
       "      <td>свадьба</td>\n",
       "      <td>0.0</td>\n",
       "    </tr>\n",
       "  </tbody>\n",
       "</table>\n",
       "</div>"
      ],
      "text/plain": [
       "   children  days_employed  dob_years education  education_id  \\\n",
       "0       1.0           8437       42.0    высшее             0   \n",
       "1       1.0           4024       36.0   среднее             1   \n",
       "2       0.0           5623       33.0   среднее             1   \n",
       "3       3.0           4124       32.0   среднее             1   \n",
       "4       0.0          14177       53.0   среднее             1   \n",
       "\n",
       "      family_status  family_status_id gender income_type  debt  total_income  \\\n",
       "0   женат / замужем                 0      F   сотрудник     0        253875   \n",
       "1   женат / замужем                 0      F   сотрудник     0        112080   \n",
       "2   женат / замужем                 0      M   сотрудник     0        145885   \n",
       "3   женат / замужем                 0      M   сотрудник     0        267628   \n",
       "4  гражданский брак                 1      F   пенсионер     0        158616   \n",
       "\n",
       "                      purpose purpose_category  children_category  \n",
       "0               покупка жилья     недвижимость                1.0  \n",
       "1     приобретение автомобиля       автомобиль                1.0  \n",
       "2               покупка жилья     недвижимость                0.0  \n",
       "3  дополнительное образование      образование                1.0  \n",
       "4             сыграть свадьбу          свадьба                0.0  "
      ]
     },
     "execution_count": 31,
     "metadata": {},
     "output_type": "execute_result"
    }
   ],
   "source": [
    "def total_children_category(children):\n",
    "    if children == 0:\n",
    "        return 0\n",
    "    if children > 0:\n",
    "        return 1\n",
    "    \n",
    "data['children_category'] = data['children'].apply(total_children_category)\n",
    "data.head()"
   ]
  },
  {
   "cell_type": "markdown",
   "metadata": {
    "cellId": "q8skx90n7rr7zro1y0j1"
   },
   "source": [
    "Для дальнейших расчетов, необходимо уровень ежемесячного дохода заемщиков разделить на категории.\n",
    "\n",
    "- 0 - от 0 до 50000  \n",
    "- 1 - от 50001 до 100000  \n",
    "- 2 - от 100001 до 150000  \n",
    "- 3 - от 150001 до 200000  \n",
    "- 4 - от 200001 и выше\n",
    "\n",
    "Категории дохода добавим в столбец `income_category`."
   ]
  },
  {
   "cell_type": "code",
   "execution_count": 32,
   "metadata": {
    "cellId": "ug00rjycblr0rt725dh83t"
   },
   "outputs": [
    {
     "data": {
      "text/html": [
       "<div>\n",
       "<style scoped>\n",
       "    .dataframe tbody tr th:only-of-type {\n",
       "        vertical-align: middle;\n",
       "    }\n",
       "\n",
       "    .dataframe tbody tr th {\n",
       "        vertical-align: top;\n",
       "    }\n",
       "\n",
       "    .dataframe thead th {\n",
       "        text-align: right;\n",
       "    }\n",
       "</style>\n",
       "<table border=\"1\" class=\"dataframe\">\n",
       "  <thead>\n",
       "    <tr style=\"text-align: right;\">\n",
       "      <th></th>\n",
       "      <th>children</th>\n",
       "      <th>days_employed</th>\n",
       "      <th>dob_years</th>\n",
       "      <th>education</th>\n",
       "      <th>education_id</th>\n",
       "      <th>family_status</th>\n",
       "      <th>family_status_id</th>\n",
       "      <th>gender</th>\n",
       "      <th>income_type</th>\n",
       "      <th>debt</th>\n",
       "      <th>total_income</th>\n",
       "      <th>purpose</th>\n",
       "      <th>purpose_category</th>\n",
       "      <th>children_category</th>\n",
       "      <th>income_category</th>\n",
       "    </tr>\n",
       "  </thead>\n",
       "  <tbody>\n",
       "    <tr>\n",
       "      <th>0</th>\n",
       "      <td>1.0</td>\n",
       "      <td>8437</td>\n",
       "      <td>42.0</td>\n",
       "      <td>высшее</td>\n",
       "      <td>0</td>\n",
       "      <td>женат / замужем</td>\n",
       "      <td>0</td>\n",
       "      <td>F</td>\n",
       "      <td>сотрудник</td>\n",
       "      <td>0</td>\n",
       "      <td>253875</td>\n",
       "      <td>покупка жилья</td>\n",
       "      <td>недвижимость</td>\n",
       "      <td>1.0</td>\n",
       "      <td>4</td>\n",
       "    </tr>\n",
       "    <tr>\n",
       "      <th>1</th>\n",
       "      <td>1.0</td>\n",
       "      <td>4024</td>\n",
       "      <td>36.0</td>\n",
       "      <td>среднее</td>\n",
       "      <td>1</td>\n",
       "      <td>женат / замужем</td>\n",
       "      <td>0</td>\n",
       "      <td>F</td>\n",
       "      <td>сотрудник</td>\n",
       "      <td>0</td>\n",
       "      <td>112080</td>\n",
       "      <td>приобретение автомобиля</td>\n",
       "      <td>автомобиль</td>\n",
       "      <td>1.0</td>\n",
       "      <td>2</td>\n",
       "    </tr>\n",
       "    <tr>\n",
       "      <th>2</th>\n",
       "      <td>0.0</td>\n",
       "      <td>5623</td>\n",
       "      <td>33.0</td>\n",
       "      <td>среднее</td>\n",
       "      <td>1</td>\n",
       "      <td>женат / замужем</td>\n",
       "      <td>0</td>\n",
       "      <td>M</td>\n",
       "      <td>сотрудник</td>\n",
       "      <td>0</td>\n",
       "      <td>145885</td>\n",
       "      <td>покупка жилья</td>\n",
       "      <td>недвижимость</td>\n",
       "      <td>0.0</td>\n",
       "      <td>2</td>\n",
       "    </tr>\n",
       "    <tr>\n",
       "      <th>3</th>\n",
       "      <td>3.0</td>\n",
       "      <td>4124</td>\n",
       "      <td>32.0</td>\n",
       "      <td>среднее</td>\n",
       "      <td>1</td>\n",
       "      <td>женат / замужем</td>\n",
       "      <td>0</td>\n",
       "      <td>M</td>\n",
       "      <td>сотрудник</td>\n",
       "      <td>0</td>\n",
       "      <td>267628</td>\n",
       "      <td>дополнительное образование</td>\n",
       "      <td>образование</td>\n",
       "      <td>1.0</td>\n",
       "      <td>4</td>\n",
       "    </tr>\n",
       "    <tr>\n",
       "      <th>4</th>\n",
       "      <td>0.0</td>\n",
       "      <td>14177</td>\n",
       "      <td>53.0</td>\n",
       "      <td>среднее</td>\n",
       "      <td>1</td>\n",
       "      <td>гражданский брак</td>\n",
       "      <td>1</td>\n",
       "      <td>F</td>\n",
       "      <td>пенсионер</td>\n",
       "      <td>0</td>\n",
       "      <td>158616</td>\n",
       "      <td>сыграть свадьбу</td>\n",
       "      <td>свадьба</td>\n",
       "      <td>0.0</td>\n",
       "      <td>3</td>\n",
       "    </tr>\n",
       "  </tbody>\n",
       "</table>\n",
       "</div>"
      ],
      "text/plain": [
       "   children  days_employed  dob_years education  education_id  \\\n",
       "0       1.0           8437       42.0    высшее             0   \n",
       "1       1.0           4024       36.0   среднее             1   \n",
       "2       0.0           5623       33.0   среднее             1   \n",
       "3       3.0           4124       32.0   среднее             1   \n",
       "4       0.0          14177       53.0   среднее             1   \n",
       "\n",
       "      family_status  family_status_id gender income_type  debt  total_income  \\\n",
       "0   женат / замужем                 0      F   сотрудник     0        253875   \n",
       "1   женат / замужем                 0      F   сотрудник     0        112080   \n",
       "2   женат / замужем                 0      M   сотрудник     0        145885   \n",
       "3   женат / замужем                 0      M   сотрудник     0        267628   \n",
       "4  гражданский брак                 1      F   пенсионер     0        158616   \n",
       "\n",
       "                      purpose purpose_category  children_category  \\\n",
       "0               покупка жилья     недвижимость                1.0   \n",
       "1     приобретение автомобиля       автомобиль                1.0   \n",
       "2               покупка жилья     недвижимость                0.0   \n",
       "3  дополнительное образование      образование                1.0   \n",
       "4             сыграть свадьбу          свадьба                0.0   \n",
       "\n",
       "   income_category  \n",
       "0                4  \n",
       "1                2  \n",
       "2                2  \n",
       "3                4  \n",
       "4                3  "
      ]
     },
     "execution_count": 32,
     "metadata": {},
     "output_type": "execute_result"
    }
   ],
   "source": [
    "def total_income_category(income):\n",
    "    if income <= 50000:\n",
    "        return 0\n",
    "    if income <= 100000:\n",
    "        return 1\n",
    "    if income <= 150000:\n",
    "        return 2\n",
    "    if income <= 200000:\n",
    "        return 3\n",
    "    if income > 200000:\n",
    "        return 4\n",
    "\n",
    "data['income_category'] = data['total_income'].apply(total_income_category)\n",
    "data.head()"
   ]
  },
  {
   "cell_type": "markdown",
   "metadata": {
    "cellId": "xwfuqedei3evejuy1vbvw"
   },
   "source": [
    "Выделим словарь по категориям семейного положения, т. к. он понадобится для дальнейших расчетов."
   ]
  },
  {
   "cell_type": "code",
   "execution_count": 33,
   "metadata": {
    "cellId": "tak81gzx89mgduj717zw8w"
   },
   "outputs": [
    {
     "data": {
      "text/html": [
       "<div>\n",
       "<style scoped>\n",
       "    .dataframe tbody tr th:only-of-type {\n",
       "        vertical-align: middle;\n",
       "    }\n",
       "\n",
       "    .dataframe tbody tr th {\n",
       "        vertical-align: top;\n",
       "    }\n",
       "\n",
       "    .dataframe thead th {\n",
       "        text-align: right;\n",
       "    }\n",
       "</style>\n",
       "<table border=\"1\" class=\"dataframe\">\n",
       "  <thead>\n",
       "    <tr style=\"text-align: right;\">\n",
       "      <th></th>\n",
       "      <th>family_status</th>\n",
       "      <th>family_status_id</th>\n",
       "    </tr>\n",
       "  </thead>\n",
       "  <tbody>\n",
       "    <tr>\n",
       "      <th>0</th>\n",
       "      <td>женат / замужем</td>\n",
       "      <td>0</td>\n",
       "    </tr>\n",
       "    <tr>\n",
       "      <th>1</th>\n",
       "      <td>женат / замужем</td>\n",
       "      <td>0</td>\n",
       "    </tr>\n",
       "    <tr>\n",
       "      <th>2</th>\n",
       "      <td>женат / замужем</td>\n",
       "      <td>0</td>\n",
       "    </tr>\n",
       "    <tr>\n",
       "      <th>3</th>\n",
       "      <td>женат / замужем</td>\n",
       "      <td>0</td>\n",
       "    </tr>\n",
       "    <tr>\n",
       "      <th>4</th>\n",
       "      <td>гражданский брак</td>\n",
       "      <td>1</td>\n",
       "    </tr>\n",
       "  </tbody>\n",
       "</table>\n",
       "</div>"
      ],
      "text/plain": [
       "      family_status  family_status_id\n",
       "0   женат / замужем                 0\n",
       "1   женат / замужем                 0\n",
       "2   женат / замужем                 0\n",
       "3   женат / замужем                 0\n",
       "4  гражданский брак                 1"
      ]
     },
     "execution_count": 33,
     "metadata": {},
     "output_type": "execute_result"
    }
   ],
   "source": [
    "family_status_dict = data[['family_status', 'family_status_id']]\n",
    "family_status_dict.head()"
   ]
  },
  {
   "cell_type": "markdown",
   "metadata": {
    "cellId": "3882ra6yulnsrnihc6pier"
   },
   "source": [
    "Удалим дубликаты."
   ]
  },
  {
   "cell_type": "code",
   "execution_count": 34,
   "metadata": {
    "cellId": "4gqcoya85fvs6cm2xevh4e"
   },
   "outputs": [
    {
     "data": {
      "text/html": [
       "<div>\n",
       "<style scoped>\n",
       "    .dataframe tbody tr th:only-of-type {\n",
       "        vertical-align: middle;\n",
       "    }\n",
       "\n",
       "    .dataframe tbody tr th {\n",
       "        vertical-align: top;\n",
       "    }\n",
       "\n",
       "    .dataframe thead th {\n",
       "        text-align: right;\n",
       "    }\n",
       "</style>\n",
       "<table border=\"1\" class=\"dataframe\">\n",
       "  <thead>\n",
       "    <tr style=\"text-align: right;\">\n",
       "      <th></th>\n",
       "      <th>family_status</th>\n",
       "      <th>family_status_id</th>\n",
       "    </tr>\n",
       "  </thead>\n",
       "  <tbody>\n",
       "    <tr>\n",
       "      <th>0</th>\n",
       "      <td>женат / замужем</td>\n",
       "      <td>0</td>\n",
       "    </tr>\n",
       "    <tr>\n",
       "      <th>1</th>\n",
       "      <td>гражданский брак</td>\n",
       "      <td>1</td>\n",
       "    </tr>\n",
       "    <tr>\n",
       "      <th>2</th>\n",
       "      <td>вдовец / вдова</td>\n",
       "      <td>2</td>\n",
       "    </tr>\n",
       "    <tr>\n",
       "      <th>3</th>\n",
       "      <td>в разводе</td>\n",
       "      <td>3</td>\n",
       "    </tr>\n",
       "    <tr>\n",
       "      <th>4</th>\n",
       "      <td>не женат / не замужем</td>\n",
       "      <td>4</td>\n",
       "    </tr>\n",
       "  </tbody>\n",
       "</table>\n",
       "</div>"
      ],
      "text/plain": [
       "           family_status  family_status_id\n",
       "0        женат / замужем                 0\n",
       "1       гражданский брак                 1\n",
       "2         вдовец / вдова                 2\n",
       "3              в разводе                 3\n",
       "4  не женат / не замужем                 4"
      ]
     },
     "execution_count": 34,
     "metadata": {},
     "output_type": "execute_result"
    }
   ],
   "source": [
    "family_status_dict = family_status_dict.drop_duplicates().reset_index(drop=True)\n",
    "family_status_dict"
   ]
  },
  {
   "cell_type": "markdown",
   "metadata": {
    "cellId": "fk5hfjwblqnm4tep88zo3a"
   },
   "source": [
    "**Вывод**\n",
    "\n",
    "Категории ежемесячного дохода (стобец`income_category`):\n",
    "\n",
    "- 0 - от 0 до 50000  \n",
    "- 1 - от 50001 до 100000  \n",
    "- 2 - от 100001 до 150000  \n",
    "- 3 - от 150001 до 200000  \n",
    "- 4 - от 200001 и выше\n",
    "\n",
    "Категории семейного положения (столбец `family_status_id`):\n",
    "\n",
    "- 0 - женат / замужем\n",
    "- 1 - гражданский брак\n",
    "- 2 - вдовец / вдова\n",
    "- 3 - в разводе\n",
    "- 4 - не женат / не замужем\n",
    "\n",
    "Категории по наличию детей (столбец `children_category`):  \n",
    " - 0 - нет детей\n",
    " - 1 - есть дети"
   ]
  },
  {
   "cell_type": "markdown",
   "metadata": {
    "cellId": "5zuoabvhb4krjcq6hnzj9r"
   },
   "source": [
    "## Шаг 3. Ответы на вопросы"
   ]
  },
  {
   "cell_type": "markdown",
   "metadata": {},
   "source": [
    " ### Есть ли зависимость между количеством детей и возвратом кредита в срок?"
   ]
  },
  {
   "cell_type": "code",
   "execution_count": 35,
   "metadata": {},
   "outputs": [],
   "source": [
    "def conversion(column):\n",
    "    conv_table = data.pivot_table(index = column, values = 'debt', aggfunc = ['sum', 'count', 'mean'])\n",
    "    conv_table.columns = ['Всего должников', 'Всего кредитополучателей', 'Доля должников']\n",
    "    conv_table = conv_table.sort_values(by = ['Доля должников'], ascending=False)\n",
    "    return(conv_table.style.format({'Доля должников': '{:.2%}'}))"
   ]
  },
  {
   "cell_type": "code",
   "execution_count": 36,
   "metadata": {},
   "outputs": [
    {
     "data": {
      "text/html": [
       "<style  type=\"text/css\" >\n",
       "</style><table id=\"T_9e25c_\" ><thead>    <tr>        <th class=\"blank level0\" ></th>        <th class=\"col_heading level0 col0\" >Всего должников</th>        <th class=\"col_heading level0 col1\" >Всего кредитополучателей</th>        <th class=\"col_heading level0 col2\" >Доля должников</th>    </tr>    <tr>        <th class=\"index_name level0\" >children</th>        <th class=\"blank\" ></th>        <th class=\"blank\" ></th>        <th class=\"blank\" ></th>    </tr></thead><tbody>\n",
       "                <tr>\n",
       "                        <th id=\"T_9e25c_level0_row0\" class=\"row_heading level0 row0\" >4.0</th>\n",
       "                        <td id=\"T_9e25c_row0_col0\" class=\"data row0 col0\" >4</td>\n",
       "                        <td id=\"T_9e25c_row0_col1\" class=\"data row0 col1\" >41</td>\n",
       "                        <td id=\"T_9e25c_row0_col2\" class=\"data row0 col2\" >9.76%</td>\n",
       "            </tr>\n",
       "            <tr>\n",
       "                        <th id=\"T_9e25c_level0_row1\" class=\"row_heading level0 row1\" >2.0</th>\n",
       "                        <td id=\"T_9e25c_row1_col0\" class=\"data row1 col0\" >194</td>\n",
       "                        <td id=\"T_9e25c_row1_col1\" class=\"data row1 col1\" >2052</td>\n",
       "                        <td id=\"T_9e25c_row1_col2\" class=\"data row1 col2\" >9.45%</td>\n",
       "            </tr>\n",
       "            <tr>\n",
       "                        <th id=\"T_9e25c_level0_row2\" class=\"row_heading level0 row2\" >1.0</th>\n",
       "                        <td id=\"T_9e25c_row2_col0\" class=\"data row2 col0\" >444</td>\n",
       "                        <td id=\"T_9e25c_row2_col1\" class=\"data row2 col1\" >4808</td>\n",
       "                        <td id=\"T_9e25c_row2_col2\" class=\"data row2 col2\" >9.23%</td>\n",
       "            </tr>\n",
       "            <tr>\n",
       "                        <th id=\"T_9e25c_level0_row3\" class=\"row_heading level0 row3\" >3.0</th>\n",
       "                        <td id=\"T_9e25c_row3_col0\" class=\"data row3 col0\" >27</td>\n",
       "                        <td id=\"T_9e25c_row3_col1\" class=\"data row3 col1\" >330</td>\n",
       "                        <td id=\"T_9e25c_row3_col2\" class=\"data row3 col2\" >8.18%</td>\n",
       "            </tr>\n",
       "            <tr>\n",
       "                        <th id=\"T_9e25c_level0_row4\" class=\"row_heading level0 row4\" >0.0</th>\n",
       "                        <td id=\"T_9e25c_row4_col0\" class=\"data row4 col0\" >1063</td>\n",
       "                        <td id=\"T_9e25c_row4_col1\" class=\"data row4 col1\" >14091</td>\n",
       "                        <td id=\"T_9e25c_row4_col2\" class=\"data row4 col2\" >7.54%</td>\n",
       "            </tr>\n",
       "            <tr>\n",
       "                        <th id=\"T_9e25c_level0_row5\" class=\"row_heading level0 row5\" >5.0</th>\n",
       "                        <td id=\"T_9e25c_row5_col0\" class=\"data row5 col0\" >0</td>\n",
       "                        <td id=\"T_9e25c_row5_col1\" class=\"data row5 col1\" >9</td>\n",
       "                        <td id=\"T_9e25c_row5_col2\" class=\"data row5 col2\" >0.00%</td>\n",
       "            </tr>\n",
       "    </tbody></table>"
      ],
      "text/plain": [
       "<pandas.io.formats.style.Styler at 0x7feebb1e7a90>"
      ]
     },
     "execution_count": 36,
     "metadata": {},
     "output_type": "execute_result"
    }
   ],
   "source": [
    "conversion('children')"
   ]
  },
  {
   "cell_type": "markdown",
   "metadata": {},
   "source": [
    "**Вывод:**\n",
    "\n",
    "Из данной таблицы видно, что процент не выплаты кредита в срок больше у клиентов с детьми. И подавляющее большинство просрочек в семьях которых от 1 до 2 детей, но это связано с тем, что таких семей в принципе больше, чем семей с 3 и более детьми."
   ]
  },
  {
   "cell_type": "markdown",
   "metadata": {},
   "source": [
    "### Есть ли зависимость между семейным положением и возвратом кредита в срок?"
   ]
  },
  {
   "cell_type": "code",
   "execution_count": 37,
   "metadata": {},
   "outputs": [
    {
     "data": {
      "text/html": [
       "<style  type=\"text/css\" >\n",
       "</style><table id=\"T_8b0ef_\" ><thead>    <tr>        <th class=\"blank level0\" ></th>        <th class=\"col_heading level0 col0\" >Всего должников</th>        <th class=\"col_heading level0 col1\" >Всего кредитополучателей</th>        <th class=\"col_heading level0 col2\" >Доля должников</th>    </tr>    <tr>        <th class=\"index_name level0\" >family_status</th>        <th class=\"blank\" ></th>        <th class=\"blank\" ></th>        <th class=\"blank\" ></th>    </tr></thead><tbody>\n",
       "                <tr>\n",
       "                        <th id=\"T_8b0ef_level0_row0\" class=\"row_heading level0 row0\" >не женат / не замужем</th>\n",
       "                        <td id=\"T_8b0ef_row0_col0\" class=\"data row0 col0\" >274</td>\n",
       "                        <td id=\"T_8b0ef_row0_col1\" class=\"data row0 col1\" >2810</td>\n",
       "                        <td id=\"T_8b0ef_row0_col2\" class=\"data row0 col2\" >9.75%</td>\n",
       "            </tr>\n",
       "            <tr>\n",
       "                        <th id=\"T_8b0ef_level0_row1\" class=\"row_heading level0 row1\" >гражданский брак</th>\n",
       "                        <td id=\"T_8b0ef_row1_col0\" class=\"data row1 col0\" >388</td>\n",
       "                        <td id=\"T_8b0ef_row1_col1\" class=\"data row1 col1\" >4151</td>\n",
       "                        <td id=\"T_8b0ef_row1_col2\" class=\"data row1 col2\" >9.35%</td>\n",
       "            </tr>\n",
       "            <tr>\n",
       "                        <th id=\"T_8b0ef_level0_row2\" class=\"row_heading level0 row2\" >женат / замужем</th>\n",
       "                        <td id=\"T_8b0ef_row2_col0\" class=\"data row2 col0\" >931</td>\n",
       "                        <td id=\"T_8b0ef_row2_col1\" class=\"data row2 col1\" >12339</td>\n",
       "                        <td id=\"T_8b0ef_row2_col2\" class=\"data row2 col2\" >7.55%</td>\n",
       "            </tr>\n",
       "            <tr>\n",
       "                        <th id=\"T_8b0ef_level0_row3\" class=\"row_heading level0 row3\" >в разводе</th>\n",
       "                        <td id=\"T_8b0ef_row3_col0\" class=\"data row3 col0\" >85</td>\n",
       "                        <td id=\"T_8b0ef_row3_col1\" class=\"data row3 col1\" >1195</td>\n",
       "                        <td id=\"T_8b0ef_row3_col2\" class=\"data row3 col2\" >7.11%</td>\n",
       "            </tr>\n",
       "            <tr>\n",
       "                        <th id=\"T_8b0ef_level0_row4\" class=\"row_heading level0 row4\" >вдовец / вдова</th>\n",
       "                        <td id=\"T_8b0ef_row4_col0\" class=\"data row4 col0\" >63</td>\n",
       "                        <td id=\"T_8b0ef_row4_col1\" class=\"data row4 col1\" >959</td>\n",
       "                        <td id=\"T_8b0ef_row4_col2\" class=\"data row4 col2\" >6.57%</td>\n",
       "            </tr>\n",
       "    </tbody></table>"
      ],
      "text/plain": [
       "<pandas.io.formats.style.Styler at 0x7fef04e6d220>"
      ]
     },
     "execution_count": 37,
     "metadata": {},
     "output_type": "execute_result"
    }
   ],
   "source": [
    "conversion('family_status')"
   ]
  },
  {
   "cell_type": "markdown",
   "metadata": {},
   "source": [
    "**Вывод:**\n",
    "\n",
    "Из данной таблицы видно, что самые дисциплинированные плательщики женатые либо кто был ранее женат/замужем. Возможно по причине большей ответственности перед семьей"
   ]
  },
  {
   "cell_type": "markdown",
   "metadata": {},
   "source": [
    "### Есть ли зависимость между уровнем дохода и возвратом кредита в срок?"
   ]
  },
  {
   "cell_type": "code",
   "execution_count": 40,
   "metadata": {},
   "outputs": [
    {
     "name": "stdout",
     "output_type": "stream",
     "text": [
      "Категории по уровню дохода:\n",
      "0 - от 0 до 50000\n",
      "1 - от 50001 до 100000\n",
      "2 - от 100001 до 150000\n",
      "3 - от 150001 до 200000\n",
      "4 - от 200001 и выше\n"
     ]
    },
    {
     "data": {
      "text/html": [
       "<style  type=\"text/css\" >\n",
       "</style><table id=\"T_ea40d_\" ><thead>    <tr>        <th class=\"blank level0\" ></th>        <th class=\"col_heading level0 col0\" >Всего должников</th>        <th class=\"col_heading level0 col1\" >Всего кредитополучателей</th>        <th class=\"col_heading level0 col2\" >Доля должников</th>    </tr>    <tr>        <th class=\"index_name level0\" >income_category</th>        <th class=\"blank\" ></th>        <th class=\"blank\" ></th>        <th class=\"blank\" ></th>    </tr></thead><tbody>\n",
       "                <tr>\n",
       "                        <th id=\"T_ea40d_level0_row0\" class=\"row_heading level0 row0\" >2</th>\n",
       "                        <td id=\"T_ea40d_row0_col0\" class=\"data row0 col0\" >615</td>\n",
       "                        <td id=\"T_ea40d_row0_col1\" class=\"data row0 col1\" >6995</td>\n",
       "                        <td id=\"T_ea40d_row0_col2\" class=\"data row0 col2\" >8.79%</td>\n",
       "            </tr>\n",
       "            <tr>\n",
       "                        <th id=\"T_ea40d_level0_row1\" class=\"row_heading level0 row1\" >3</th>\n",
       "                        <td id=\"T_ea40d_row1_col0\" class=\"data row1 col0\" >409</td>\n",
       "                        <td id=\"T_ea40d_row1_col1\" class=\"data row1 col1\" >4831</td>\n",
       "                        <td id=\"T_ea40d_row1_col2\" class=\"data row1 col2\" >8.47%</td>\n",
       "            </tr>\n",
       "            <tr>\n",
       "                        <th id=\"T_ea40d_level0_row2\" class=\"row_heading level0 row2\" >1</th>\n",
       "                        <td id=\"T_ea40d_row2_col0\" class=\"data row2 col0\" >331</td>\n",
       "                        <td id=\"T_ea40d_row2_col1\" class=\"data row2 col1\" >4092</td>\n",
       "                        <td id=\"T_ea40d_row2_col2\" class=\"data row2 col2\" >8.09%</td>\n",
       "            </tr>\n",
       "            <tr>\n",
       "                        <th id=\"T_ea40d_level0_row3\" class=\"row_heading level0 row3\" >4</th>\n",
       "                        <td id=\"T_ea40d_row3_col0\" class=\"data row3 col0\" >363</td>\n",
       "                        <td id=\"T_ea40d_row3_col1\" class=\"data row3 col1\" >5164</td>\n",
       "                        <td id=\"T_ea40d_row3_col2\" class=\"data row3 col2\" >7.03%</td>\n",
       "            </tr>\n",
       "            <tr>\n",
       "                        <th id=\"T_ea40d_level0_row4\" class=\"row_heading level0 row4\" >0</th>\n",
       "                        <td id=\"T_ea40d_row4_col0\" class=\"data row4 col0\" >23</td>\n",
       "                        <td id=\"T_ea40d_row4_col1\" class=\"data row4 col1\" >372</td>\n",
       "                        <td id=\"T_ea40d_row4_col2\" class=\"data row4 col2\" >6.18%</td>\n",
       "            </tr>\n",
       "    </tbody></table>"
      ],
      "text/plain": [
       "<pandas.io.formats.style.Styler at 0x7fef26053700>"
      ]
     },
     "execution_count": 40,
     "metadata": {},
     "output_type": "execute_result"
    }
   ],
   "source": [
    "income_category = '''Категории по уровню дохода:\n",
    "0 - от 0 до 50000\n",
    "1 - от 50001 до 100000\n",
    "2 - от 100001 до 150000\n",
    "3 - от 150001 до 200000\n",
    "4 - от 200001 и выше'''\n",
    "print(income_category)\n",
    "\n",
    "conversion('income_category')"
   ]
  },
  {
   "cell_type": "markdown",
   "metadata": {},
   "source": [
    "**Вывод:** \n",
    "\n",
    "Основная масса заемщиков из категории \"2\" - это люди со средним доходом по РФ, но так же и одна из самых безответственных в плане выплаты кредита в срок. Категория \"4\" не задерживает выплаты по кредиту, т.к. их доход выше среднего и думаю они более подкованные в финансовом плане и понимают, чем чревато невыплата кредита в срок."
   ]
  },
  {
   "cell_type": "markdown",
   "metadata": {},
   "source": [
    "### Как разные цели кредита влияют на его возврат в срок?"
   ]
  },
  {
   "cell_type": "code",
   "execution_count": 41,
   "metadata": {},
   "outputs": [
    {
     "data": {
      "text/html": [
       "<style  type=\"text/css\" >\n",
       "</style><table id=\"T_64530_\" ><thead>    <tr>        <th class=\"blank level0\" ></th>        <th class=\"col_heading level0 col0\" >Всего должников</th>        <th class=\"col_heading level0 col1\" >Всего кредитополучателей</th>        <th class=\"col_heading level0 col2\" >Доля должников</th>    </tr>    <tr>        <th class=\"index_name level0\" >purpose_category</th>        <th class=\"blank\" ></th>        <th class=\"blank\" ></th>        <th class=\"blank\" ></th>    </tr></thead><tbody>\n",
       "                <tr>\n",
       "                        <th id=\"T_64530_level0_row0\" class=\"row_heading level0 row0\" >автомобиль</th>\n",
       "                        <td id=\"T_64530_row0_col0\" class=\"data row0 col0\" >403</td>\n",
       "                        <td id=\"T_64530_row0_col1\" class=\"data row0 col1\" >4306</td>\n",
       "                        <td id=\"T_64530_row0_col2\" class=\"data row0 col2\" >9.36%</td>\n",
       "            </tr>\n",
       "            <tr>\n",
       "                        <th id=\"T_64530_level0_row1\" class=\"row_heading level0 row1\" >образование</th>\n",
       "                        <td id=\"T_64530_row1_col0\" class=\"data row1 col0\" >370</td>\n",
       "                        <td id=\"T_64530_row1_col1\" class=\"data row1 col1\" >4013</td>\n",
       "                        <td id=\"T_64530_row1_col2\" class=\"data row1 col2\" >9.22%</td>\n",
       "            </tr>\n",
       "            <tr>\n",
       "                        <th id=\"T_64530_level0_row2\" class=\"row_heading level0 row2\" >свадьба</th>\n",
       "                        <td id=\"T_64530_row2_col0\" class=\"data row2 col0\" >186</td>\n",
       "                        <td id=\"T_64530_row2_col1\" class=\"data row2 col1\" >2324</td>\n",
       "                        <td id=\"T_64530_row2_col2\" class=\"data row2 col2\" >8.00%</td>\n",
       "            </tr>\n",
       "            <tr>\n",
       "                        <th id=\"T_64530_level0_row3\" class=\"row_heading level0 row3\" >недвижимость</th>\n",
       "                        <td id=\"T_64530_row3_col0\" class=\"data row3 col0\" >782</td>\n",
       "                        <td id=\"T_64530_row3_col1\" class=\"data row3 col1\" >10811</td>\n",
       "                        <td id=\"T_64530_row3_col2\" class=\"data row3 col2\" >7.23%</td>\n",
       "            </tr>\n",
       "    </tbody></table>"
      ],
      "text/plain": [
       "<pandas.io.formats.style.Styler at 0x7fef26053c40>"
      ]
     },
     "execution_count": 41,
     "metadata": {},
     "output_type": "execute_result"
    }
   ],
   "source": [
    "conversion('purpose_category')"
   ]
  },
  {
   "cell_type": "markdown",
   "metadata": {},
   "source": [
    "**Вывод:**\n",
    "\n",
    "Покупка недвижимости серьезный шаг, поэтому и подходят к нему осознано и с пониманием, что при несвоевременной оплате можно потерять жилье. А вот покупка автомобиля может быть спонтанна и так же не в соответствии с уровнем дохода."
   ]
  },
  {
   "cell_type": "markdown",
   "metadata": {
    "cellId": "mc0xmcbblqr2e84kw5mvmc"
   },
   "source": [
    "## Шаг 4. Общий вывод"
   ]
  },
  {
   "cell_type": "markdown",
   "metadata": {
    "cellId": "8bwpxcyln96477mvhm25ax"
   },
   "source": [
    " Самые привлекательные клиенты для выдачи им кредита это женатые/замужние люди, без детей, берущие деньги на недвижимость и с доходом от 200001 рублей. \n",
    " А вот одни из самых рискованных клиентов это не женатые/не замужние люди, с 1 или 2 детьми, оформляющие кредит на автомобиль с доходом от 50000 до 200000 рублей"
   ]
  }
 ],
 "metadata": {
  "ExecuteTimeLog": [
   {
    "duration": 3,
    "start_time": "2021-12-08T15:31:08.445Z"
   },
   {
    "duration": 637,
    "start_time": "2021-12-08T15:31:08.455Z"
   },
   {
    "duration": 18,
    "start_time": "2021-12-08T15:31:09.094Z"
   },
   {
    "duration": 7,
    "start_time": "2021-12-08T15:31:09.114Z"
   },
   {
    "duration": 24,
    "start_time": "2021-12-08T15:31:09.122Z"
   },
   {
    "duration": 26,
    "start_time": "2021-12-08T15:31:09.148Z"
   },
   {
    "duration": 17,
    "start_time": "2021-12-08T15:31:09.176Z"
   },
   {
    "duration": 18,
    "start_time": "2021-12-08T15:31:09.195Z"
   },
   {
    "duration": 14,
    "start_time": "2021-12-08T15:31:09.216Z"
   },
   {
    "duration": 16,
    "start_time": "2021-12-08T15:31:09.232Z"
   },
   {
    "duration": 18,
    "start_time": "2021-12-08T15:31:09.249Z"
   },
   {
    "duration": 27,
    "start_time": "2021-12-08T15:31:09.268Z"
   },
   {
    "duration": 15,
    "start_time": "2021-12-08T15:31:09.296Z"
   },
   {
    "duration": 12,
    "start_time": "2021-12-08T15:31:09.313Z"
   },
   {
    "duration": 36,
    "start_time": "2021-12-08T15:31:09.327Z"
   },
   {
    "duration": 27,
    "start_time": "2021-12-08T15:31:09.365Z"
   },
   {
    "duration": 3446,
    "start_time": "2021-12-08T15:31:09.394Z"
   },
   {
    "duration": 7,
    "start_time": "2021-12-08T15:31:12.842Z"
   },
   {
    "duration": 23,
    "start_time": "2021-12-08T15:31:12.851Z"
   },
   {
    "duration": 21,
    "start_time": "2021-12-08T15:31:12.892Z"
   },
   {
    "duration": 5,
    "start_time": "2021-12-08T15:31:12.914Z"
   },
   {
    "duration": 6,
    "start_time": "2021-12-08T15:31:12.921Z"
   },
   {
    "duration": 22,
    "start_time": "2021-12-08T15:31:12.928Z"
   },
   {
    "duration": 47,
    "start_time": "2021-12-08T15:31:12.953Z"
   },
   {
    "duration": 18,
    "start_time": "2021-12-08T15:31:13.002Z"
   },
   {
    "duration": 4,
    "start_time": "2021-12-10T19:13:59.153Z"
   },
   {
    "duration": 718,
    "start_time": "2021-12-10T19:13:59.160Z"
   },
   {
    "duration": 61,
    "start_time": "2021-12-10T19:13:59.880Z"
   },
   {
    "duration": 14,
    "start_time": "2021-12-10T19:13:59.944Z"
   },
   {
    "duration": 28,
    "start_time": "2021-12-10T19:13:59.961Z"
   },
   {
    "duration": 6,
    "start_time": "2021-12-10T19:13:59.991Z"
   },
   {
    "duration": 12,
    "start_time": "2021-12-10T19:14:00.024Z"
   },
   {
    "duration": 23,
    "start_time": "2021-12-10T19:14:00.039Z"
   },
   {
    "duration": 21,
    "start_time": "2021-12-10T19:14:00.064Z"
   },
   {
    "duration": 47,
    "start_time": "2021-12-10T19:14:00.087Z"
   },
   {
    "duration": 19,
    "start_time": "2021-12-10T19:14:00.137Z"
   },
   {
    "duration": 32,
    "start_time": "2021-12-10T19:14:00.159Z"
   },
   {
    "duration": 40,
    "start_time": "2021-12-10T19:14:00.193Z"
   },
   {
    "duration": 17,
    "start_time": "2021-12-10T19:14:00.235Z"
   },
   {
    "duration": 8,
    "start_time": "2021-12-10T19:14:00.254Z"
   },
   {
    "duration": 60,
    "start_time": "2021-12-10T19:14:00.264Z"
   },
   {
    "duration": 7,
    "start_time": "2021-12-10T19:14:00.326Z"
   },
   {
    "duration": 11,
    "start_time": "2021-12-10T19:14:00.335Z"
   },
   {
    "duration": 6,
    "start_time": "2021-12-10T19:14:00.350Z"
   },
   {
    "duration": 29,
    "start_time": "2021-12-10T19:14:00.359Z"
   },
   {
    "duration": 36,
    "start_time": "2021-12-10T19:14:00.390Z"
   },
   {
    "duration": 28,
    "start_time": "2021-12-10T19:14:00.429Z"
   },
   {
    "duration": 9,
    "start_time": "2021-12-10T19:14:00.460Z"
   },
   {
    "duration": 28,
    "start_time": "2021-12-10T19:14:00.471Z"
   },
   {
    "duration": 9,
    "start_time": "2021-12-10T19:14:00.523Z"
   },
   {
    "duration": 45,
    "start_time": "2021-12-10T19:14:00.534Z"
   },
   {
    "duration": 65,
    "start_time": "2021-12-10T19:14:00.581Z"
   },
   {
    "duration": 6,
    "start_time": "2021-12-10T19:14:00.649Z"
   },
   {
    "duration": 4977,
    "start_time": "2021-12-10T19:14:00.657Z"
   },
   {
    "duration": 11,
    "start_time": "2021-12-10T19:14:05.637Z"
   },
   {
    "duration": 37,
    "start_time": "2021-12-10T19:14:05.650Z"
   },
   {
    "duration": 49,
    "start_time": "2021-12-10T19:14:05.689Z"
   },
   {
    "duration": 13,
    "start_time": "2021-12-10T19:14:05.740Z"
   },
   {
    "duration": 26,
    "start_time": "2021-12-10T19:14:05.755Z"
   },
   {
    "duration": 44,
    "start_time": "2021-12-10T19:14:05.783Z"
   },
   {
    "duration": 9,
    "start_time": "2021-12-10T19:14:05.829Z"
   },
   {
    "duration": 33,
    "start_time": "2021-12-10T19:14:05.841Z"
   },
   {
    "duration": 55,
    "start_time": "2021-12-10T19:14:05.877Z"
   },
   {
    "duration": 32,
    "start_time": "2021-12-10T19:14:05.934Z"
   },
   {
    "duration": 5,
    "start_time": "2021-12-11T06:10:28.643Z"
   },
   {
    "duration": 1148,
    "start_time": "2021-12-11T06:10:28.651Z"
   },
   {
    "duration": 66,
    "start_time": "2021-12-11T06:10:29.802Z"
   },
   {
    "duration": 17,
    "start_time": "2021-12-11T06:10:29.871Z"
   },
   {
    "duration": 52,
    "start_time": "2021-12-11T06:10:29.891Z"
   },
   {
    "duration": 7,
    "start_time": "2021-12-11T06:10:29.946Z"
   },
   {
    "duration": 14,
    "start_time": "2021-12-11T06:10:29.956Z"
   },
   {
    "duration": 61,
    "start_time": "2021-12-11T06:10:29.976Z"
   },
   {
    "duration": 28,
    "start_time": "2021-12-11T06:10:30.040Z"
   },
   {
    "duration": 49,
    "start_time": "2021-12-11T06:10:30.071Z"
   },
   {
    "duration": 20,
    "start_time": "2021-12-11T06:10:30.123Z"
   },
   {
    "duration": 23,
    "start_time": "2021-12-11T06:10:30.146Z"
   },
   {
    "duration": 52,
    "start_time": "2021-12-11T06:10:30.171Z"
   },
   {
    "duration": 17,
    "start_time": "2021-12-11T06:10:30.225Z"
   },
   {
    "duration": 8,
    "start_time": "2021-12-11T06:10:30.244Z"
   },
   {
    "duration": 23,
    "start_time": "2021-12-11T06:10:30.254Z"
   },
   {
    "duration": 7,
    "start_time": "2021-12-11T06:10:30.317Z"
   },
   {
    "duration": 9,
    "start_time": "2021-12-11T06:10:30.326Z"
   },
   {
    "duration": 7,
    "start_time": "2021-12-11T06:10:30.338Z"
   },
   {
    "duration": 22,
    "start_time": "2021-12-11T06:10:30.347Z"
   },
   {
    "duration": 45,
    "start_time": "2021-12-11T06:10:30.371Z"
   },
   {
    "duration": 24,
    "start_time": "2021-12-11T06:10:30.418Z"
   },
   {
    "duration": 15,
    "start_time": "2021-12-11T06:10:30.446Z"
   },
   {
    "duration": 54,
    "start_time": "2021-12-11T06:10:30.464Z"
   },
   {
    "duration": 10,
    "start_time": "2021-12-11T06:10:30.520Z"
   },
   {
    "duration": 47,
    "start_time": "2021-12-11T06:10:30.533Z"
   },
   {
    "duration": 71,
    "start_time": "2021-12-11T06:10:30.582Z"
   },
   {
    "duration": 6,
    "start_time": "2021-12-11T06:10:30.656Z"
   },
   {
    "duration": 4676,
    "start_time": "2021-12-11T06:10:30.665Z"
   },
   {
    "duration": 11,
    "start_time": "2021-12-11T06:10:35.345Z"
   },
   {
    "duration": 60,
    "start_time": "2021-12-11T06:10:35.358Z"
   },
   {
    "duration": 17,
    "start_time": "2021-12-11T06:10:35.421Z"
   },
   {
    "duration": 14,
    "start_time": "2021-12-11T06:10:35.440Z"
   },
   {
    "duration": 27,
    "start_time": "2021-12-11T06:10:35.456Z"
   },
   {
    "duration": 41,
    "start_time": "2021-12-11T06:10:35.485Z"
   },
   {
    "duration": 10,
    "start_time": "2021-12-11T06:10:35.528Z"
   },
   {
    "duration": 30,
    "start_time": "2021-12-11T06:10:35.540Z"
   },
   {
    "duration": 63,
    "start_time": "2021-12-11T06:10:35.572Z"
   },
   {
    "duration": 29,
    "start_time": "2021-12-11T06:10:35.638Z"
   },
   {
    "duration": 5,
    "start_time": "2021-12-13T12:53:30.211Z"
   },
   {
    "duration": 832,
    "start_time": "2021-12-13T12:53:30.219Z"
   },
   {
    "duration": 66,
    "start_time": "2021-12-13T12:53:31.055Z"
   },
   {
    "duration": 19,
    "start_time": "2021-12-13T12:53:31.124Z"
   },
   {
    "duration": 137,
    "start_time": "2021-12-13T12:53:31.146Z"
   },
   {
    "duration": 12,
    "start_time": "2021-12-13T12:53:31.285Z"
   },
   {
    "duration": 39,
    "start_time": "2021-12-13T12:53:31.300Z"
   },
   {
    "duration": 74,
    "start_time": "2021-12-13T12:53:31.343Z"
   },
   {
    "duration": 25,
    "start_time": "2021-12-13T12:53:31.421Z"
   },
   {
    "duration": 24,
    "start_time": "2021-12-13T12:53:31.449Z"
   },
   {
    "duration": 57,
    "start_time": "2021-12-13T12:53:31.477Z"
   },
   {
    "duration": 26,
    "start_time": "2021-12-13T12:53:31.537Z"
   },
   {
    "duration": 9,
    "start_time": "2021-12-13T12:53:31.566Z"
   },
   {
    "duration": 57,
    "start_time": "2021-12-13T12:53:31.577Z"
   },
   {
    "duration": 21,
    "start_time": "2021-12-13T12:53:31.636Z"
   },
   {
    "duration": 19,
    "start_time": "2021-12-13T12:53:31.659Z"
   },
   {
    "duration": 8,
    "start_time": "2021-12-13T12:53:31.680Z"
   },
   {
    "duration": 21,
    "start_time": "2021-12-13T12:53:31.720Z"
   },
   {
    "duration": 22,
    "start_time": "2021-12-13T12:53:31.744Z"
   },
   {
    "duration": 76,
    "start_time": "2021-12-13T12:53:31.768Z"
   },
   {
    "duration": 10,
    "start_time": "2021-12-13T12:53:31.846Z"
   },
   {
    "duration": 29,
    "start_time": "2021-12-13T12:53:31.858Z"
   },
   {
    "duration": 77,
    "start_time": "2021-12-13T12:53:31.891Z"
   },
   {
    "duration": 13,
    "start_time": "2021-12-13T12:53:31.970Z"
   },
   {
    "duration": 54,
    "start_time": "2021-12-13T12:53:31.986Z"
   },
   {
    "duration": 11,
    "start_time": "2021-12-13T12:53:32.042Z"
   },
   {
    "duration": 76,
    "start_time": "2021-12-13T12:53:32.056Z"
   },
   {
    "duration": 48,
    "start_time": "2021-12-13T12:53:32.134Z"
   },
   {
    "duration": 6,
    "start_time": "2021-12-13T12:53:32.184Z"
   },
   {
    "duration": 4728,
    "start_time": "2021-12-13T12:53:32.193Z"
   },
   {
    "duration": 12,
    "start_time": "2021-12-13T12:53:36.924Z"
   },
   {
    "duration": 30,
    "start_time": "2021-12-13T12:53:36.938Z"
   },
   {
    "duration": 75,
    "start_time": "2021-12-13T12:53:36.971Z"
   },
   {
    "duration": 19,
    "start_time": "2021-12-13T12:53:37.048Z"
   },
   {
    "duration": 14,
    "start_time": "2021-12-13T12:53:37.069Z"
   },
   {
    "duration": 57,
    "start_time": "2021-12-13T12:53:37.086Z"
   },
   {
    "duration": 4,
    "start_time": "2021-12-13T12:53:37.146Z"
   },
   {
    "duration": 19,
    "start_time": "2021-12-13T12:53:37.153Z"
   },
   {
    "duration": 57,
    "start_time": "2021-12-13T12:53:37.174Z"
   },
   {
    "duration": 21,
    "start_time": "2021-12-13T12:53:37.233Z"
   },
   {
    "duration": 10,
    "start_time": "2023-07-23T11:19:02.059Z"
   },
   {
    "duration": 51,
    "start_time": "2023-07-23T11:21:27.849Z"
   },
   {
    "duration": 409,
    "start_time": "2023-07-23T11:21:34.060Z"
   },
   {
    "duration": 84,
    "start_time": "2023-07-23T11:21:34.471Z"
   },
   {
    "duration": 22,
    "start_time": "2023-07-23T11:21:34.558Z"
   },
   {
    "duration": 17,
    "start_time": "2023-07-23T11:21:34.582Z"
   },
   {
    "duration": 4,
    "start_time": "2023-07-23T11:21:34.601Z"
   },
   {
    "duration": 31,
    "start_time": "2023-07-23T11:21:34.606Z"
   },
   {
    "duration": 25,
    "start_time": "2023-07-23T11:21:34.638Z"
   },
   {
    "duration": 28,
    "start_time": "2023-07-23T11:21:34.665Z"
   },
   {
    "duration": 14,
    "start_time": "2023-07-23T11:21:34.694Z"
   },
   {
    "duration": 11,
    "start_time": "2023-07-23T11:21:34.709Z"
   },
   {
    "duration": 35,
    "start_time": "2023-07-23T11:21:34.721Z"
   },
   {
    "duration": 32,
    "start_time": "2023-07-23T11:21:34.758Z"
   },
   {
    "duration": 27,
    "start_time": "2023-07-23T11:21:34.792Z"
   },
   {
    "duration": 21,
    "start_time": "2023-07-23T11:21:34.823Z"
   },
   {
    "duration": 47,
    "start_time": "2023-07-23T11:21:34.847Z"
   },
   {
    "duration": 7,
    "start_time": "2023-07-23T11:21:34.896Z"
   },
   {
    "duration": 19,
    "start_time": "2023-07-23T11:21:34.905Z"
   },
   {
    "duration": 33,
    "start_time": "2023-07-23T11:21:34.926Z"
   },
   {
    "duration": 72,
    "start_time": "2023-07-23T11:21:34.960Z"
   },
   {
    "duration": 25,
    "start_time": "2023-07-23T11:21:35.034Z"
   },
   {
    "duration": 37,
    "start_time": "2023-07-23T11:21:35.069Z"
   },
   {
    "duration": 75,
    "start_time": "2023-07-23T11:21:35.107Z"
   },
   {
    "duration": 16,
    "start_time": "2023-07-23T11:21:35.185Z"
   },
   {
    "duration": 97,
    "start_time": "2023-07-23T11:21:35.203Z"
   },
   {
    "duration": 40,
    "start_time": "2023-07-23T11:21:35.302Z"
   },
   {
    "duration": 65,
    "start_time": "2023-07-23T11:21:35.343Z"
   },
   {
    "duration": 43,
    "start_time": "2023-07-23T11:21:35.409Z"
   },
   {
    "duration": 24,
    "start_time": "2023-07-23T11:21:35.454Z"
   },
   {
    "duration": 3610,
    "start_time": "2023-07-23T11:21:35.480Z"
   },
   {
    "duration": 7,
    "start_time": "2023-07-23T11:21:39.092Z"
   },
   {
    "duration": 24,
    "start_time": "2023-07-23T11:21:39.101Z"
   },
   {
    "duration": 36,
    "start_time": "2023-07-23T11:21:39.132Z"
   },
   {
    "duration": 23,
    "start_time": "2023-07-23T11:21:39.171Z"
   },
   {
    "duration": 9,
    "start_time": "2023-07-23T11:21:39.195Z"
   },
   {
    "duration": 11,
    "start_time": "2023-07-23T11:21:39.206Z"
   },
   {
    "duration": 504,
    "start_time": "2023-07-23T11:21:39.219Z"
   },
   {
    "duration": 27,
    "start_time": "2023-07-23T11:22:59.377Z"
   },
   {
    "duration": 88,
    "start_time": "2023-07-23T11:23:52.367Z"
   },
   {
    "duration": 22,
    "start_time": "2023-07-23T11:25:59.452Z"
   },
   {
    "duration": 30,
    "start_time": "2023-07-23T11:27:35.949Z"
   },
   {
    "duration": 35,
    "start_time": "2023-07-23T11:33:11.517Z"
   }
  ],
  "kernelspec": {
   "display_name": "Python 3 (ipykernel)",
   "language": "python",
   "name": "python3"
  },
  "language_info": {
   "codemirror_mode": {
    "name": "ipython",
    "version": 3
   },
   "file_extension": ".py",
   "mimetype": "text/x-python",
   "name": "python",
   "nbconvert_exporter": "python",
   "pygments_lexer": "ipython3",
   "version": "3.9.5"
  },
  "notebookId": "80a74985-49c4-4bb9-8b78-dafbc7f72a59",
  "notebookPath": "977f205d-c6bc-49dc-9304-23e347f3e00f (2).ipynb",
  "toc": {
   "base_numbering": 1,
   "nav_menu": {},
   "number_sections": false,
   "sideBar": true,
   "skip_h1_title": false,
   "title_cell": "Оглавление",
   "title_sidebar": "Contents",
   "toc_cell": false,
   "toc_position": {
    "height": "calc(100% - 180px)",
    "left": "10px",
    "top": "150px",
    "width": "165px"
   },
   "toc_section_display": true,
   "toc_window_display": false
  }
 },
 "nbformat": 4,
 "nbformat_minor": 4
}
