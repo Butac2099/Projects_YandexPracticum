{
 "cells": [
  {
   "cell_type": "markdown",
   "metadata": {},
   "source": [
    "# Исследование: музыка больших городов"
   ]
  },
  {
   "cell_type": "markdown",
   "metadata": {},
   "source": [
    "## Введение"
   ]
  },
  {
   "cell_type": "markdown",
   "metadata": {},
   "source": [
    "Сравнение Москвы и Петербурга окружено мифами. Например:\n",
    " * Москва — мегаполис, подчинённый жёсткому ритму рабочей недели;\n",
    " * Петербург — культурная столица, со своими вкусами.\n",
    "\n",
    "На данных Яндекс Музыки вы сравним поведение пользователей двух столиц.\n",
    "\n",
    "**Цель исследования** — проверьте три гипотезы:\n",
    "1. Активность пользователей зависит от дня недели. Причём в Москве и Петербурге это проявляется по-разному.\n",
    "2. В понедельник утром в Москве преобладают одни жанры, а в Петербурге — другие. Так же и вечером пятницы преобладают разные жанры — в зависимости от города. \n",
    "3. Москва и Петербург предпочитают разные жанры музыки. В Москве чаще слушают поп-музыку, в Петербурге — русский рэп.\n",
    "\n",
    "**Ход исследования**\n",
    "\n",
    "Данные о поведении пользователей получим из файла `yandex_df.csv`. О качестве данных ничего не известно. "
   ]
  },
  {
   "cell_type": "markdown",
   "metadata": {},
   "source": [
    "## Этап 1. Обзор данных и их предобработка <a id='step_1'></a>"
   ]
  },
  {
   "cell_type": "markdown",
   "metadata": {},
   "source": [
    "### Импорт библиотек <a id='step_1.1'></a>"
   ]
  },
  {
   "cell_type": "code",
   "execution_count": 1,
   "metadata": {},
   "outputs": [],
   "source": [
    "import pandas as pd\n",
    "import numpy as np\n",
    "from IPython import display\n",
    "\n",
    "import matplotlib.pyplot as plt"
   ]
  },
  {
   "cell_type": "markdown",
   "metadata": {},
   "source": [
    "### Общая информация о данных <a id='step_1.2'></a>"
   ]
  },
  {
   "cell_type": "markdown",
   "metadata": {},
   "source": [
    "Изучим данные, предоставленные сервисом для проекта."
   ]
  },
  {
   "cell_type": "code",
   "execution_count": 2,
   "metadata": {},
   "outputs": [
    {
     "data": {
      "text/html": [
       "<div>\n",
       "<style scoped>\n",
       "    .dataframe tbody tr th:only-of-type {\n",
       "        vertical-align: middle;\n",
       "    }\n",
       "\n",
       "    .dataframe tbody tr th {\n",
       "        vertical-align: top;\n",
       "    }\n",
       "\n",
       "    .dataframe thead th {\n",
       "        text-align: right;\n",
       "    }\n",
       "</style>\n",
       "<table border=\"1\" class=\"dataframe\">\n",
       "  <thead>\n",
       "    <tr style=\"text-align: right;\">\n",
       "      <th></th>\n",
       "      <th>userID</th>\n",
       "      <th>Track</th>\n",
       "      <th>artist</th>\n",
       "      <th>genre</th>\n",
       "      <th>City</th>\n",
       "      <th>time</th>\n",
       "      <th>Day</th>\n",
       "    </tr>\n",
       "  </thead>\n",
       "  <tbody>\n",
       "    <tr>\n",
       "      <th>0</th>\n",
       "      <td>FFB692EC</td>\n",
       "      <td>Kamigata To Boots</td>\n",
       "      <td>The Mass Missile</td>\n",
       "      <td>rock</td>\n",
       "      <td>Saint-Petersburg</td>\n",
       "      <td>20:28:33</td>\n",
       "      <td>Wednesday</td>\n",
       "    </tr>\n",
       "    <tr>\n",
       "      <th>1</th>\n",
       "      <td>55204538</td>\n",
       "      <td>Delayed Because of Accident</td>\n",
       "      <td>Andreas Rönnberg</td>\n",
       "      <td>rock</td>\n",
       "      <td>Moscow</td>\n",
       "      <td>14:07:09</td>\n",
       "      <td>Friday</td>\n",
       "    </tr>\n",
       "    <tr>\n",
       "      <th>2</th>\n",
       "      <td>20EC38</td>\n",
       "      <td>Funiculì funiculà</td>\n",
       "      <td>Mario Lanza</td>\n",
       "      <td>pop</td>\n",
       "      <td>Saint-Petersburg</td>\n",
       "      <td>20:58:07</td>\n",
       "      <td>Wednesday</td>\n",
       "    </tr>\n",
       "    <tr>\n",
       "      <th>3</th>\n",
       "      <td>A3DD03C9</td>\n",
       "      <td>Dragons in the Sunset</td>\n",
       "      <td>Fire + Ice</td>\n",
       "      <td>folk</td>\n",
       "      <td>Saint-Petersburg</td>\n",
       "      <td>08:37:09</td>\n",
       "      <td>Monday</td>\n",
       "    </tr>\n",
       "    <tr>\n",
       "      <th>4</th>\n",
       "      <td>E2DC1FAE</td>\n",
       "      <td>Soul People</td>\n",
       "      <td>Space Echo</td>\n",
       "      <td>dance</td>\n",
       "      <td>Moscow</td>\n",
       "      <td>08:34:34</td>\n",
       "      <td>Monday</td>\n",
       "    </tr>\n",
       "  </tbody>\n",
       "</table>\n",
       "</div>"
      ],
      "text/plain": [
       "     userID                        Track            artist  genre  \\\n",
       "0  FFB692EC            Kamigata To Boots  The Mass Missile   rock   \n",
       "1  55204538  Delayed Because of Accident  Andreas Rönnberg   rock   \n",
       "2    20EC38            Funiculì funiculà       Mario Lanza    pop   \n",
       "3  A3DD03C9        Dragons in the Sunset        Fire + Ice   folk   \n",
       "4  E2DC1FAE                  Soul People        Space Echo  dance   \n",
       "\n",
       "             City        time        Day  \n",
       "0  Saint-Petersburg  20:28:33  Wednesday  \n",
       "1            Moscow  14:07:09     Friday  \n",
       "2  Saint-Petersburg  20:58:07  Wednesday  \n",
       "3  Saint-Petersburg  08:37:09     Monday  \n",
       "4            Moscow  08:34:34     Monday  "
      ]
     },
     "execution_count": 2,
     "metadata": {},
     "output_type": "execute_result"
    }
   ],
   "source": [
    "# Прочитаем файл yandex_music_project.csv с информацией о логах в приложении и сохраним его в переменной df\n",
    "df = pd.read_csv('/datasets/yandex_music_project.csv')\n",
    "df.head()"
   ]
  },
  {
   "cell_type": "code",
   "execution_count": 3,
   "metadata": {},
   "outputs": [
    {
     "name": "stdout",
     "output_type": "stream",
     "text": [
      "<class 'pandas.core.frame.DataFrame'>\n",
      "RangeIndex: 65079 entries, 0 to 65078\n",
      "Data columns (total 7 columns):\n",
      " #   Column    Non-Null Count  Dtype \n",
      "---  ------    --------------  ----- \n",
      " 0     userID  65079 non-null  object\n",
      " 1   Track     63848 non-null  object\n",
      " 2   artist    57876 non-null  object\n",
      " 3   genre     63881 non-null  object\n",
      " 4     City    65079 non-null  object\n",
      " 5   time      65079 non-null  object\n",
      " 6   Day       65079 non-null  object\n",
      "dtypes: object(7)\n",
      "memory usage: 3.5+ MB\n"
     ]
    }
   ],
   "source": [
    "# Получим общую информацию о данных таблицы df\n",
    "display.display(data=df.info())"
   ]
  },
  {
   "cell_type": "markdown",
   "metadata": {},
   "source": [
    "Рассмотрим полученную информацию подробнее. Всего в таблице 7 столбцов и 65 079 строк, тип данных у каждого столбца - < object >.\n",
    "\n",
    "Подробно разберём, какие в таблице столбцы, и какую информацию они содержат:\n",
    "* `userID` — идентификатор пользователя;\n",
    "* `Track` — название трека;\n",
    "* `artist` — имя исполнителя;\n",
    "* `genre` — название жанра;\n",
    "* `City` — город, в котором происходило прослушивание;\n",
    "* `time` — время, в которое пользователь слушал трек;\n",
    "* `Day` — день недели.\n",
    "\n",
    "Количество значений в столбцах различается. Это говорит о том, что в данных есть пропущенные значения. Это может быть связано с техническими проблемами выгрузки данных, либо некорректно внесённых данных в саму базу данных. Также видим, что для удобства анализа данных столбцы требуют приведения в необходимый вид (удаление пробелов, строковые значения). Изменения типов данных не требуется."
   ]
  },
  {
   "cell_type": "markdown",
   "metadata": {},
   "source": [
    "### Обработка пропусков и дубликатов, проверка данных <a id='step_1.3'></a>"
   ]
  },
  {
   "cell_type": "markdown",
   "metadata": {},
   "source": [
    "#### Замена названий стобцов"
   ]
  },
  {
   "cell_type": "markdown",
   "metadata": {},
   "source": [
    "При анализе информации об исходных датасетах мы обратили внимание на то, что для дальнейшего анализа необходимо привести названия столбцов таблицы df к удобному для анализа виду."
   ]
  },
  {
   "cell_type": "code",
   "execution_count": 4,
   "metadata": {},
   "outputs": [
    {
     "data": {
      "text/plain": [
       "Index(['  userID', 'Track', 'artist', 'genre', '  City  ', 'time', 'Day'], dtype='object')"
      ]
     },
     "execution_count": 4,
     "metadata": {},
     "output_type": "execute_result"
    }
   ],
   "source": [
    "# Получим перечень названий столбцов\n",
    "df.columns"
   ]
  },
  {
   "cell_type": "markdown",
   "metadata": {},
   "source": [
    "В названиях столбцов есть пробелы, которые могут затруднять доступ к данным. Кроме того, названия набраны в разных регистрах и не полностью отражают в краткой форме, какая информация в них содержится, что также может усложнить работу с данными. Переименуем столбцы и проверим результат."
   ]
  },
  {
   "cell_type": "code",
   "execution_count": 5,
   "metadata": {},
   "outputs": [
    {
     "data": {
      "text/plain": [
       "Index(['user_id', 'track_name', 'artist_name', 'genre_name', 'city', 'time',\n",
       "       'weekday'],\n",
       "      dtype='object')"
      ]
     },
     "execution_count": 5,
     "metadata": {},
     "output_type": "execute_result"
    }
   ],
   "source": [
    "df.set_axis(['user_id', 'track_name', 'artist_name', 'genre_name', 'city', 'time', 'weekday'],\n",
    "                       axis='columns', inplace=True)\n",
    "df.columns"
   ]
  },
  {
   "cell_type": "markdown",
   "metadata": {},
   "source": [
    "Все названия столбцов имеют подходящий для анализа вид."
   ]
  },
  {
   "cell_type": "markdown",
   "metadata": {},
   "source": [
    "#### Обработка пропусков"
   ]
  },
  {
   "cell_type": "markdown",
   "metadata": {},
   "source": [
    "Проверим данные на наличие пропусков вызовом набора методов для суммирования пропущенных значений."
   ]
  },
  {
   "cell_type": "code",
   "execution_count": 6,
   "metadata": {},
   "outputs": [
    {
     "data": {
      "text/plain": [
       "user_id           0\n",
       "track_name     1231\n",
       "artist_name    7203\n",
       "genre_name     1198\n",
       "city              0\n",
       "time              0\n",
       "weekday           0\n",
       "dtype: int64"
      ]
     },
     "execution_count": 6,
     "metadata": {},
     "output_type": "execute_result"
    }
   ],
   "source": [
    "df.isnull().sum()"
   ]
  },
  {
   "cell_type": "markdown",
   "metadata": {},
   "source": [
    "Пустые значения свидетельствуют о том, что для некоторых треков доступна не вся информация. Причины могут быть разные: скажем, не назван конкретный исполнитель народной песни. Хуже, если возникли проблемы с записью данных. Каждый отдельный случай необходимо разобрать и выявить причину."
   ]
  },
  {
   "cell_type": "markdown",
   "metadata": {},
   "source": [
    "Заменяем пропущенные значения в столбцах с названием трека и исполнителя на строку *'unknown'*."
   ]
  },
  {
   "cell_type": "code",
   "execution_count": 7,
   "metadata": {},
   "outputs": [],
   "source": [
    "df['track_name'] = df['track_name'].fillna('unknown')\n",
    "df['artist_name'] = df['artist_name'].fillna('unknown')"
   ]
  },
  {
   "cell_type": "markdown",
   "metadata": {},
   "source": [
    "В столбце с жанрами есть пустые значения, но их не очень много. Рассчитаем процент пропусков по столбцу `genre_name` к общей выборке."
   ]
  },
  {
   "cell_type": "code",
   "execution_count": 8,
   "metadata": {},
   "outputs": [
    {
     "data": {
      "text/plain": [
       "0.018408395949538255"
      ]
     },
     "execution_count": 8,
     "metadata": {},
     "output_type": "execute_result"
    }
   ],
   "source": [
    "df['genre_name'].isna().mean()"
   ]
  },
  {
   "cell_type": "markdown",
   "metadata": {},
   "source": [
    "Пропуски составляют всего 2% от общей выборки. Мы можем их удалить, после чего проверить, что пропусков в данных не осталось."
   ]
  },
  {
   "cell_type": "code",
   "execution_count": 9,
   "metadata": {},
   "outputs": [
    {
     "data": {
      "text/plain": [
       "user_id        0\n",
       "track_name     0\n",
       "artist_name    0\n",
       "genre_name     0\n",
       "city           0\n",
       "time           0\n",
       "weekday        0\n",
       "dtype: int64"
      ]
     },
     "execution_count": 9,
     "metadata": {},
     "output_type": "execute_result"
    }
   ],
   "source": [
    "df.dropna(subset = ['genre_name'], inplace = True)\n",
    "df.isnull().sum()"
   ]
  },
  {
   "cell_type": "markdown",
   "metadata": {},
   "source": [
    "#### Обработка дубликатов"
   ]
  },
  {
   "cell_type": "markdown",
   "metadata": {},
   "source": [
    "Необходимо установить наличие дубликатов. Если найдутся, удаляем, и проверяем, все ли удалились."
   ]
  },
  {
   "cell_type": "code",
   "execution_count": 10,
   "metadata": {},
   "outputs": [
    {
     "data": {
      "text/plain": [
       "3755"
      ]
     },
     "execution_count": 10,
     "metadata": {},
     "output_type": "execute_result"
    }
   ],
   "source": [
    "df.duplicated().sum()"
   ]
  },
  {
   "cell_type": "code",
   "execution_count": 11,
   "metadata": {},
   "outputs": [],
   "source": [
    "df = df.drop_duplicates().reset_index(drop=True)"
   ]
  },
  {
   "cell_type": "code",
   "execution_count": 12,
   "metadata": {},
   "outputs": [
    {
     "data": {
      "text/plain": [
       "0"
      ]
     },
     "execution_count": 12,
     "metadata": {},
     "output_type": "execute_result"
    }
   ],
   "source": [
    "df.duplicated().sum()"
   ]
  },
  {
   "cell_type": "markdown",
   "metadata": {},
   "source": [
    "Дубликаты могли появиться вследствие сбоя в записи данных. Стоит обратить внимание и разобраться с причинами появления такого «информационного мусора».\n",
    "\n",
    "Также отметим, что помимо \"явных\" дубликатов, могут встречаться \"неявные\". Чтобы убедиться в их отсутствии, следует проверить значения в столбцах."
   ]
  },
  {
   "cell_type": "markdown",
   "metadata": {},
   "source": [
    "#### Проверка данных"
   ]
  },
  {
   "cell_type": "markdown",
   "metadata": {},
   "source": [
    "Изучим значения, которые встречаются в каждом их столбцов таблицы `df`."
   ]
  },
  {
   "cell_type": "markdown",
   "metadata": {},
   "source": [
    "##### Идентификатор пользователя <a id='id'></a>"
   ]
  },
  {
   "cell_type": "code",
   "execution_count": 13,
   "metadata": {},
   "outputs": [
    {
     "data": {
      "text/plain": [
       "count        60126\n",
       "unique       41315\n",
       "top       7D166C63\n",
       "freq            51\n",
       "Name: user_id, dtype: object"
      ]
     },
     "execution_count": 13,
     "metadata": {},
     "output_type": "execute_result"
    }
   ],
   "source": [
    "df['user_id'].describe()"
   ]
  },
  {
   "cell_type": "markdown",
   "metadata": {},
   "source": [
    "В данных встречается 60 126 записей, в которых 41 315 уникальных пользователей."
   ]
  },
  {
   "cell_type": "markdown",
   "metadata": {},
   "source": [
    "##### Название трека <a id='track'></a>"
   ]
  },
  {
   "cell_type": "code",
   "execution_count": 14,
   "metadata": {},
   "outputs": [
    {
     "data": {
      "text/plain": [
       "count       60126\n",
       "unique      46910\n",
       "top       unknown\n",
       "freq          536\n",
       "Name: track_name, dtype: object"
      ]
     },
     "execution_count": 14,
     "metadata": {},
     "output_type": "execute_result"
    }
   ],
   "source": [
    "df['track_name'].describe()"
   ]
  },
  {
   "cell_type": "code",
   "execution_count": 15,
   "metadata": {},
   "outputs": [
    {
     "data": {
      "text/plain": [
       "array(['Kamigata To Boots', 'Delayed Because of Accident',\n",
       "       'Funiculì funiculà', 'Dragons in the Sunset', 'Soul People',\n",
       "       'Преданная', 'True', 'Feeling This Way',\n",
       "       'И вновь продолжается бой', 'Pessimist', 'Gool la Mita',\n",
       "       'Is There Anybody Out There? (Panoramic Paralysis) Mix',\n",
       "       'Мина син генэ кирэк', 'After School Special',\n",
       "       'Make Love Whenever You Can', 'SLAVES OF FEAR', 'Веснянка',\n",
       "       'Pat-a-Cake', 'Sweetback', \"Ya'll In Trouble\"], dtype=object)"
      ]
     },
     "execution_count": 15,
     "metadata": {},
     "output_type": "execute_result"
    }
   ],
   "source": [
    "df['track_name'].unique()[:20]"
   ]
  },
  {
   "cell_type": "markdown",
   "metadata": {},
   "source": [
    "В данных встречается 46 910 уникальных композиций по названию трека."
   ]
  },
  {
   "cell_type": "code",
   "execution_count": 16,
   "metadata": {},
   "outputs": [
    {
     "data": {
      "text/html": [
       "<div>\n",
       "<style scoped>\n",
       "    .dataframe tbody tr th:only-of-type {\n",
       "        vertical-align: middle;\n",
       "    }\n",
       "\n",
       "    .dataframe tbody tr th {\n",
       "        vertical-align: top;\n",
       "    }\n",
       "\n",
       "    .dataframe thead th {\n",
       "        text-align: right;\n",
       "    }\n",
       "</style>\n",
       "<table border=\"1\" class=\"dataframe\">\n",
       "  <thead>\n",
       "    <tr style=\"text-align: right;\">\n",
       "      <th></th>\n",
       "      <th>user_id</th>\n",
       "      <th>track_name</th>\n",
       "    </tr>\n",
       "  </thead>\n",
       "  <tbody>\n",
       "    <tr>\n",
       "      <th>0</th>\n",
       "      <td>E8339398</td>\n",
       "      <td>42</td>\n",
       "    </tr>\n",
       "    <tr>\n",
       "      <th>1</th>\n",
       "      <td>B5496034</td>\n",
       "      <td>34</td>\n",
       "    </tr>\n",
       "    <tr>\n",
       "      <th>2</th>\n",
       "      <td>D6A03F1E</td>\n",
       "      <td>32</td>\n",
       "    </tr>\n",
       "    <tr>\n",
       "      <th>3</th>\n",
       "      <td>B851E1A5</td>\n",
       "      <td>32</td>\n",
       "    </tr>\n",
       "    <tr>\n",
       "      <th>4</th>\n",
       "      <td>53B9A51D</td>\n",
       "      <td>28</td>\n",
       "    </tr>\n",
       "    <tr>\n",
       "      <th>...</th>\n",
       "      <td>...</td>\n",
       "      <td>...</td>\n",
       "    </tr>\n",
       "    <tr>\n",
       "      <th>99</th>\n",
       "      <td>AA950A3A</td>\n",
       "      <td>11</td>\n",
       "    </tr>\n",
       "    <tr>\n",
       "      <th>100</th>\n",
       "      <td>9A9E39A0</td>\n",
       "      <td>11</td>\n",
       "    </tr>\n",
       "    <tr>\n",
       "      <th>101</th>\n",
       "      <td>71255BAD</td>\n",
       "      <td>11</td>\n",
       "    </tr>\n",
       "    <tr>\n",
       "      <th>102</th>\n",
       "      <td>60864740</td>\n",
       "      <td>11</td>\n",
       "    </tr>\n",
       "    <tr>\n",
       "      <th>103</th>\n",
       "      <td>9E93430B</td>\n",
       "      <td>11</td>\n",
       "    </tr>\n",
       "  </tbody>\n",
       "</table>\n",
       "<p>104 rows × 2 columns</p>\n",
       "</div>"
      ],
      "text/plain": [
       "      user_id  track_name\n",
       "0    E8339398          42\n",
       "1    B5496034          34\n",
       "2    D6A03F1E          32\n",
       "3    B851E1A5          32\n",
       "4    53B9A51D          28\n",
       "..        ...         ...\n",
       "99   AA950A3A          11\n",
       "100  9A9E39A0          11\n",
       "101  71255BAD          11\n",
       "102  60864740          11\n",
       "103  9E93430B          11\n",
       "\n",
       "[104 rows x 2 columns]"
      ]
     },
     "execution_count": 16,
     "metadata": {},
     "output_type": "execute_result"
    }
   ],
   "source": [
    "(df\n",
    "     .groupby('user_id')['track_name']\n",
    "     .nunique()\n",
    "     .reset_index()\n",
    "     .query('track_name > 10')\n",
    "     .sort_values(by='track_name', ascending=False)\n",
    "     .reset_index(drop=True)\n",
    ")"
   ]
  },
  {
   "cell_type": "markdown",
   "metadata": {},
   "source": [
    "Отметим, что 104 пользователя слушали более 10 треков с разными названиями. Некоторые из них слушали до 42, 34, 32 треков с разными названиями."
   ]
  },
  {
   "cell_type": "code",
   "execution_count": 17,
   "metadata": {},
   "outputs": [
    {
     "data": {
      "text/plain": [
       "31762"
      ]
     },
     "execution_count": 17,
     "metadata": {},
     "output_type": "execute_result"
    }
   ],
   "source": [
    "(len(df\n",
    "         .groupby('user_id')['track_name']\n",
    "         .nunique()\n",
    "         .reset_index()\n",
    "         .query('track_name == 1'))\n",
    ")"
   ]
  },
  {
   "cell_type": "markdown",
   "metadata": {},
   "source": [
    "Также у нас имеется 31 762 пользователей, которые включали либо только один трек, либо треки, имеющие одинаковые названия."
   ]
  },
  {
   "cell_type": "markdown",
   "metadata": {},
   "source": [
    "##### Имя исполнителя <a id='artist'></a>"
   ]
  },
  {
   "cell_type": "code",
   "execution_count": 18,
   "metadata": {},
   "outputs": [
    {
     "data": {
      "text/plain": [
       "count       60126\n",
       "unique      43344\n",
       "top       unknown\n",
       "freq         5990\n",
       "Name: artist_name, dtype: object"
      ]
     },
     "execution_count": 18,
     "metadata": {},
     "output_type": "execute_result"
    }
   ],
   "source": [
    "df['artist_name'].describe()"
   ]
  },
  {
   "cell_type": "code",
   "execution_count": 19,
   "metadata": {},
   "outputs": [
    {
     "data": {
      "text/plain": [
       "array(['The Mass Missile', 'Andreas Rönnberg', 'Mario Lanza',\n",
       "       'Fire + Ice', 'Space Echo', 'IMPERVTOR', 'Roman Messer',\n",
       "       'Polina Griffith', 'unknown', 'Shireen Abdul Wahab',\n",
       "       'Pink Floyd Floydhead', 'Ильдар Хакимов', 'Detroit Grand Pubahs',\n",
       "       'Arabesque', 'HEALTH', 'Веданъ Колодъ', 'Mother Goose Club',\n",
       "       'The Fabulous Three',\n",
       "       'Lil Tee Chill Tank Young Buck Brother Mohammed and Tara',\n",
       "       'Exotype'], dtype=object)"
      ]
     },
     "execution_count": 19,
     "metadata": {},
     "output_type": "execute_result"
    }
   ],
   "source": [
    "df['artist_name'].unique()[:20]"
   ]
  },
  {
   "cell_type": "markdown",
   "metadata": {},
   "source": [
    "В данных встречается 43 344 уникальных исполнителя."
   ]
  },
  {
   "cell_type": "code",
   "execution_count": 20,
   "metadata": {},
   "outputs": [
    {
     "data": {
      "text/html": [
       "<div>\n",
       "<style scoped>\n",
       "    .dataframe tbody tr th:only-of-type {\n",
       "        vertical-align: middle;\n",
       "    }\n",
       "\n",
       "    .dataframe tbody tr th {\n",
       "        vertical-align: top;\n",
       "    }\n",
       "\n",
       "    .dataframe thead th {\n",
       "        text-align: right;\n",
       "    }\n",
       "</style>\n",
       "<table border=\"1\" class=\"dataframe\">\n",
       "  <thead>\n",
       "    <tr style=\"text-align: right;\">\n",
       "      <th></th>\n",
       "      <th>user_id</th>\n",
       "      <th>artist_name</th>\n",
       "    </tr>\n",
       "  </thead>\n",
       "  <tbody>\n",
       "    <tr>\n",
       "      <th>0</th>\n",
       "      <td>E8339398</td>\n",
       "      <td>38</td>\n",
       "    </tr>\n",
       "    <tr>\n",
       "      <th>1</th>\n",
       "      <td>B5496034</td>\n",
       "      <td>34</td>\n",
       "    </tr>\n",
       "    <tr>\n",
       "      <th>2</th>\n",
       "      <td>B851E1A5</td>\n",
       "      <td>32</td>\n",
       "    </tr>\n",
       "    <tr>\n",
       "      <th>3</th>\n",
       "      <td>D6A03F1E</td>\n",
       "      <td>31</td>\n",
       "    </tr>\n",
       "    <tr>\n",
       "      <th>4</th>\n",
       "      <td>3E4BFAA7</td>\n",
       "      <td>30</td>\n",
       "    </tr>\n",
       "    <tr>\n",
       "      <th>...</th>\n",
       "      <td>...</td>\n",
       "      <td>...</td>\n",
       "    </tr>\n",
       "    <tr>\n",
       "      <th>93</th>\n",
       "      <td>E4F8C670</td>\n",
       "      <td>11</td>\n",
       "    </tr>\n",
       "    <tr>\n",
       "      <th>94</th>\n",
       "      <td>794B409F</td>\n",
       "      <td>11</td>\n",
       "    </tr>\n",
       "    <tr>\n",
       "      <th>95</th>\n",
       "      <td>D540AF61</td>\n",
       "      <td>11</td>\n",
       "    </tr>\n",
       "    <tr>\n",
       "      <th>96</th>\n",
       "      <td>D2CE494E</td>\n",
       "      <td>11</td>\n",
       "    </tr>\n",
       "    <tr>\n",
       "      <th>97</th>\n",
       "      <td>B43EE327</td>\n",
       "      <td>11</td>\n",
       "    </tr>\n",
       "  </tbody>\n",
       "</table>\n",
       "<p>98 rows × 2 columns</p>\n",
       "</div>"
      ],
      "text/plain": [
       "     user_id  artist_name\n",
       "0   E8339398           38\n",
       "1   B5496034           34\n",
       "2   B851E1A5           32\n",
       "3   D6A03F1E           31\n",
       "4   3E4BFAA7           30\n",
       "..       ...          ...\n",
       "93  E4F8C670           11\n",
       "94  794B409F           11\n",
       "95  D540AF61           11\n",
       "96  D2CE494E           11\n",
       "97  B43EE327           11\n",
       "\n",
       "[98 rows x 2 columns]"
      ]
     },
     "execution_count": 20,
     "metadata": {},
     "output_type": "execute_result"
    }
   ],
   "source": [
    "(df\n",
    "     .groupby('user_id')['artist_name']\n",
    "     .nunique()\n",
    "     .reset_index()\n",
    "     .query('artist_name > 10')\n",
    "     .sort_values(by='artist_name', ascending=False)\n",
    "     .reset_index(drop=True)\n",
    ")"
   ]
  },
  {
   "cell_type": "markdown",
   "metadata": {},
   "source": [
    "Отметим, что 98 пользователей слушали более 10 треков с разными исполнителями. Некоторые из них слушали до 38, 34, 32 треков с разными исполнителями."
   ]
  },
  {
   "cell_type": "code",
   "execution_count": 21,
   "metadata": {},
   "outputs": [
    {
     "data": {
      "text/plain": [
       "31885"
      ]
     },
     "execution_count": 21,
     "metadata": {},
     "output_type": "execute_result"
    }
   ],
   "source": [
    "(len(df\n",
    "         .groupby('user_id')['artist_name']\n",
    "         .nunique()\n",
    "         .reset_index()\n",
    "         .query('artist_name == 1'))\n",
    ")"
   ]
  },
  {
   "cell_type": "markdown",
   "metadata": {},
   "source": [
    "Также у нас имеется 31 885 пользователей, которые включали либо только один трек, либо треки, принадлежащие одному исполнителю."
   ]
  },
  {
   "cell_type": "markdown",
   "metadata": {},
   "source": [
    "##### Название жанра <a id='genre'></a>"
   ]
  },
  {
   "cell_type": "code",
   "execution_count": 22,
   "metadata": {},
   "outputs": [
    {
     "data": {
      "text/plain": [
       "count     60126\n",
       "unique      289\n",
       "top         pop\n",
       "freq       8323\n",
       "Name: genre_name, dtype: object"
      ]
     },
     "execution_count": 22,
     "metadata": {},
     "output_type": "execute_result"
    }
   ],
   "source": [
    "df['genre_name'].describe()"
   ]
  },
  {
   "cell_type": "code",
   "execution_count": 23,
   "metadata": {},
   "outputs": [
    {
     "data": {
      "text/plain": [
       "array(['acid', 'acoustic', 'action', 'adult', 'africa', 'afrikaans',\n",
       "       'alternative', 'alternativepunk', 'ambient', 'americana',\n",
       "       'animated', 'anime', 'arabesk', 'arabic', 'arena',\n",
       "       'argentinetango', 'art', 'audiobook', 'author', 'avantgarde',\n",
       "       'axé', 'baile', 'balkan', 'beats', 'bigroom', 'black', 'bluegrass',\n",
       "       'blues', 'bollywood', 'bossa', 'brazilian', 'breakbeat', 'breaks',\n",
       "       'broadway', 'cantautori', 'cantopop', 'canzone', 'caribbean',\n",
       "       'caucasian', 'celtic', 'chamber', 'chanson', 'children', 'chill',\n",
       "       'chinese', 'choral', 'christian', 'christmas', 'classical',\n",
       "       'classicmetal', 'club', 'colombian', 'comedy', 'conjazz',\n",
       "       'contemporary', 'country', 'cuban', 'dance', 'dancehall',\n",
       "       'dancepop', 'dark', 'death', 'deep', 'deutschrock', 'deutschspr',\n",
       "       'dirty', 'disco', 'dnb', 'documentary', 'downbeat', 'downtempo',\n",
       "       'drum', 'dub', 'dubstep', 'eastern', 'easy', 'electronic',\n",
       "       'electropop', 'emo', 'entehno', 'epicmetal', 'estrada', 'ethnic',\n",
       "       'eurofolk', 'european', 'experimental', 'extrememetal', 'fado',\n",
       "       'fairytail', 'film', 'fitness', 'flamenco', 'folk', 'folklore',\n",
       "       'folkmetal', 'folkrock', 'folktronica', 'forró', 'frankreich',\n",
       "       'französisch', 'french', 'funk', 'future', 'gangsta', 'garage',\n",
       "       'german', 'ghazal', 'gitarre', 'glitch', 'gospel', 'gothic',\n",
       "       'grime', 'grunge', 'gypsy', 'handsup', \"hard'n'heavy\", 'hardcore',\n",
       "       'hardstyle', 'hardtechno', 'hip', 'hip-hop', 'hiphop',\n",
       "       'historisch', 'holiday', 'hop', 'horror', 'house', 'hymn', 'idm',\n",
       "       'independent', 'indian', 'indie', 'indipop', 'industrial',\n",
       "       'inspirational', 'instrumental', 'international', 'irish', 'jam',\n",
       "       'japanese', 'jazz', 'jewish', 'jpop', 'jungle', 'k-pop',\n",
       "       'karadeniz', 'karaoke', 'kayokyoku', 'korean', 'laiko', 'latin',\n",
       "       'latino', 'leftfield', 'local', 'lounge', 'loungeelectronic',\n",
       "       'lovers', 'malaysian', 'mandopop', 'marschmusik', 'meditative',\n",
       "       'mediterranean', 'melodic', 'metal', 'metalcore', 'mexican',\n",
       "       'middle', 'minimal', 'miscellaneous', 'modern', 'mood', 'mpb',\n",
       "       'muslim', 'native', 'neoklassik', 'neue', 'new', 'newage',\n",
       "       'newwave', 'nu', 'nujazz', 'numetal', 'oceania', 'old', 'opera',\n",
       "       'orchestral', 'other', 'piano', 'podcasts', 'pop', 'popdance',\n",
       "       'popelectronic', 'popeurodance', 'poprussian', 'post',\n",
       "       'posthardcore', 'postrock', 'power', 'progmetal', 'progressive',\n",
       "       'psychedelic', 'punjabi', 'punk', 'quebecois', 'ragga', 'ram',\n",
       "       'rancheras', 'rap', 'rave', 'reggae', 'reggaeton', 'regional',\n",
       "       'relax', 'religious', 'retro', 'rhythm', 'rnb', 'rnr', 'rock',\n",
       "       'rockabilly', 'rockalternative', 'rockindie', 'rockother',\n",
       "       'romance', 'roots', 'ruspop', 'rusrap', 'rusrock', 'russian',\n",
       "       'salsa', 'samba', 'scenic', 'schlager', 'self', 'sertanejo',\n",
       "       'shanson', 'shoegazing', 'showtunes', 'singer', 'ska', 'skarock',\n",
       "       'slow', 'smooth', 'soft', 'soul', 'soulful', 'sound', 'soundtrack',\n",
       "       'southern', 'specialty', 'speech', 'spiritual', 'sport',\n",
       "       'stonerrock', 'surf', 'swing', 'synthpop', 'synthrock',\n",
       "       'sängerportrait', 'tango', 'tanzorchester', 'taraftar', 'tatar',\n",
       "       'tech', 'techno', 'teen', 'thrash', 'top', 'traditional',\n",
       "       'tradjazz', 'trance', 'tribal', 'trip', 'triphop', 'tropical',\n",
       "       'türk', 'türkçe', 'ukrrock', 'urban', 'uzbek', 'variété', 'vi',\n",
       "       'videogame', 'vocal', 'western', 'world', 'worldbeat', 'ïîï',\n",
       "       'электроника'], dtype=object)"
      ]
     },
     "execution_count": 23,
     "metadata": {},
     "output_type": "execute_result"
    }
   ],
   "source": [
    "df['genre_name'].sort_values().unique()"
   ]
  },
  {
   "cell_type": "markdown",
   "metadata": {},
   "source": [
    "Сохраним список уникальных значений столбца с жанрами в переменной `genres_list`. Отметим, что некоторые жанры выглядят как неявные дубликаты. Их стоит обработать."
   ]
  },
  {
   "cell_type": "code",
   "execution_count": 24,
   "metadata": {},
   "outputs": [],
   "source": [
    "genres_list = df['genre_name'].unique()"
   ]
  },
  {
   "cell_type": "markdown",
   "metadata": {},
   "source": [
    "Объявим функцию `find_genre()` для поиска неявных дубликатов в столбце с жанрами. Например, когда название одного и того же жанра написано разными словами."
   ]
  },
  {
   "cell_type": "code",
   "execution_count": 25,
   "metadata": {},
   "outputs": [],
   "source": [
    "def find_genre(genre):\n",
    "    count_genre = 0\n",
    "    for row in genres_list:\n",
    "        if row == genre:\n",
    "            count_genre += 1\n",
    "    return count_genre"
   ]
  },
  {
   "cell_type": "markdown",
   "metadata": {},
   "source": [
    "Вызовем функцию `find_genre()` для поиска различных вариантов названия жанра хип-хоп в таблице. Поищем варианты:\n",
    "- hiphop\n",
    "- hip\n",
    "- hop\n",
    "- hip-hop"
   ]
  },
  {
   "cell_type": "code",
   "execution_count": 26,
   "metadata": {},
   "outputs": [
    {
     "data": {
      "text/plain": [
       "1"
      ]
     },
     "execution_count": 26,
     "metadata": {},
     "output_type": "execute_result"
    }
   ],
   "source": [
    "find_genre('hiphop')"
   ]
  },
  {
   "cell_type": "code",
   "execution_count": 27,
   "metadata": {},
   "outputs": [
    {
     "data": {
      "text/plain": [
       "1"
      ]
     },
     "execution_count": 27,
     "metadata": {},
     "output_type": "execute_result"
    }
   ],
   "source": [
    "find_genre('hip')"
   ]
  },
  {
   "cell_type": "code",
   "execution_count": 28,
   "metadata": {},
   "outputs": [
    {
     "data": {
      "text/plain": [
       "1"
      ]
     },
     "execution_count": 28,
     "metadata": {},
     "output_type": "execute_result"
    }
   ],
   "source": [
    "find_genre('hop')"
   ]
  },
  {
   "cell_type": "code",
   "execution_count": 29,
   "metadata": {},
   "outputs": [
    {
     "data": {
      "text/plain": [
       "1"
      ]
     },
     "execution_count": 29,
     "metadata": {},
     "output_type": "execute_result"
    }
   ],
   "source": [
    "find_genre('hip-hop')"
   ]
  },
  {
   "cell_type": "markdown",
   "metadata": {},
   "source": [
    "Объявим функцию `find_right_genre()`, которая заменяет неправильное название нужного жанра в столбце `genre_name` на правильное и проверяет успешность выполнения замены.\n",
    "\n",
    "Так исправляем все варианты написания, которые выявила проверка."
   ]
  },
  {
   "cell_type": "code",
   "execution_count": 30,
   "metadata": {},
   "outputs": [],
   "source": [
    "def find_right_genre(df, right, wrong):\n",
    "    df['genre_name'] = df['genre_name'].replace(wrong, right)\n",
    "    result = df[df['genre_name'] == wrong]['genre_name'].count()\n",
    "    return result"
   ]
  },
  {
   "cell_type": "code",
   "execution_count": 31,
   "metadata": {},
   "outputs": [
    {
     "data": {
      "text/plain": [
       "0"
      ]
     },
     "execution_count": 31,
     "metadata": {},
     "output_type": "execute_result"
    }
   ],
   "source": [
    "find_right_genre(df, 'hiphop', 'hip')"
   ]
  },
  {
   "cell_type": "markdown",
   "metadata": {},
   "source": [
    "Проведём аналогичные процедуры для жанров 'africa' (другое название 'afrikaans'), 'arabesk' (другое название 'arabic'), 'latin' (другое название 'latino'), 'poprussian' (другое название 'ruspop'), 'soul' (другое название 'soulful'), 'türk' (другое название 'türkçe'), 'electronic' (другое название 'электроника')."
   ]
  },
  {
   "cell_type": "code",
   "execution_count": 32,
   "metadata": {},
   "outputs": [
    {
     "data": {
      "text/plain": [
       "0"
      ]
     },
     "execution_count": 32,
     "metadata": {},
     "output_type": "execute_result"
    }
   ],
   "source": [
    "find_right_genre(df, 'afrikaans', 'africa')"
   ]
  },
  {
   "cell_type": "code",
   "execution_count": 33,
   "metadata": {},
   "outputs": [
    {
     "data": {
      "text/plain": [
       "0"
      ]
     },
     "execution_count": 33,
     "metadata": {},
     "output_type": "execute_result"
    }
   ],
   "source": [
    "find_right_genre(df, 'latino', 'latin')"
   ]
  },
  {
   "cell_type": "code",
   "execution_count": 34,
   "metadata": {},
   "outputs": [
    {
     "data": {
      "text/plain": [
       "0"
      ]
     },
     "execution_count": 34,
     "metadata": {},
     "output_type": "execute_result"
    }
   ],
   "source": [
    "find_right_genre(df, 'ruspop', 'poprussian')"
   ]
  },
  {
   "cell_type": "code",
   "execution_count": 35,
   "metadata": {},
   "outputs": [
    {
     "data": {
      "text/plain": [
       "0"
      ]
     },
     "execution_count": 35,
     "metadata": {},
     "output_type": "execute_result"
    }
   ],
   "source": [
    "find_right_genre(df, 'soul', 'soulful')"
   ]
  },
  {
   "cell_type": "code",
   "execution_count": 36,
   "metadata": {},
   "outputs": [
    {
     "data": {
      "text/plain": [
       "0"
      ]
     },
     "execution_count": 36,
     "metadata": {},
     "output_type": "execute_result"
    }
   ],
   "source": [
    "find_right_genre(df,  'türkçe', 'türk')"
   ]
  },
  {
   "cell_type": "code",
   "execution_count": 37,
   "metadata": {},
   "outputs": [
    {
     "data": {
      "text/plain": [
       "0"
      ]
     },
     "execution_count": 37,
     "metadata": {},
     "output_type": "execute_result"
    }
   ],
   "source": [
    "find_right_genre(df,  'electronic', 'электроника')"
   ]
  },
  {
   "cell_type": "markdown",
   "metadata": {},
   "source": [
    "Проверим, сколько уникальных значений жанров у нас осталось."
   ]
  },
  {
   "cell_type": "code",
   "execution_count": 38,
   "metadata": {},
   "outputs": [
    {
     "data": {
      "text/plain": [
       "count     60126\n",
       "unique      282\n",
       "top         pop\n",
       "freq       8323\n",
       "Name: genre_name, dtype: object"
      ]
     },
     "execution_count": 38,
     "metadata": {},
     "output_type": "execute_result"
    }
   ],
   "source": [
    "df['genre_name'].describe()"
   ]
  },
  {
   "cell_type": "markdown",
   "metadata": {},
   "source": [
    "Таким образом, в данных имеются композиции, принадлежащие к 280 разным жанрам."
   ]
  },
  {
   "cell_type": "markdown",
   "metadata": {},
   "source": [
    "##### Город <a id='city'></a>"
   ]
  },
  {
   "cell_type": "code",
   "execution_count": 39,
   "metadata": {},
   "outputs": [
    {
     "data": {
      "text/plain": [
       "array(['Saint-Petersburg', 'Moscow'], dtype=object)"
      ]
     },
     "execution_count": 39,
     "metadata": {},
     "output_type": "execute_result"
    }
   ],
   "source": [
    "df['city'].unique()"
   ]
  },
  {
   "cell_type": "code",
   "execution_count": 40,
   "metadata": {},
   "outputs": [
    {
     "data": {
      "text/html": [
       "<div>\n",
       "<style scoped>\n",
       "    .dataframe tbody tr th:only-of-type {\n",
       "        vertical-align: middle;\n",
       "    }\n",
       "\n",
       "    .dataframe tbody tr th {\n",
       "        vertical-align: top;\n",
       "    }\n",
       "\n",
       "    .dataframe thead th {\n",
       "        text-align: right;\n",
       "    }\n",
       "</style>\n",
       "<table border=\"1\" class=\"dataframe\">\n",
       "  <thead>\n",
       "    <tr style=\"text-align: right;\">\n",
       "      <th></th>\n",
       "      <th>city</th>\n",
       "      <th>user_id</th>\n",
       "    </tr>\n",
       "  </thead>\n",
       "  <tbody>\n",
       "    <tr>\n",
       "      <th>0</th>\n",
       "      <td>Moscow</td>\n",
       "      <td>29043</td>\n",
       "    </tr>\n",
       "    <tr>\n",
       "      <th>1</th>\n",
       "      <td>Saint-Petersburg</td>\n",
       "      <td>12305</td>\n",
       "    </tr>\n",
       "  </tbody>\n",
       "</table>\n",
       "</div>"
      ],
      "text/plain": [
       "               city  user_id\n",
       "0            Moscow    29043\n",
       "1  Saint-Petersburg    12305"
      ]
     },
     "execution_count": 40,
     "metadata": {},
     "output_type": "execute_result"
    }
   ],
   "source": [
    "(df\n",
    "     .groupby('city')['user_id']\n",
    "     .nunique()\n",
    "     .reset_index()\n",
    ")"
   ]
  },
  {
   "cell_type": "markdown",
   "metadata": {},
   "source": [
    "Прослушивающих музыку из Москвы в выборке 29 043 пользователя, а из Санкт-Петербурга - 12 305 человек. Поскольку число уникальных пользователей в выборке равно 41 315, а суммарное значение пользователей из Москвы и Санкт-Петербурга выше, некоторые пользователи слушали музыку и в Москве, и в Санкт-Петербурге. В разрезе данной аналитики для нас этот факт не важен. Однако, в случае изменения критериев, возможно, их нужно будет исключить из анализа."
   ]
  },
  {
   "cell_type": "markdown",
   "metadata": {},
   "source": [
    "##### Время прослушивания <a id='time'></a>"
   ]
  },
  {
   "cell_type": "code",
   "execution_count": 41,
   "metadata": {},
   "outputs": [
    {
     "data": {
      "text/plain": [
       "array(['08:00:00', '08:00:02', '08:00:03', ..., '22:00:57', '22:00:58',\n",
       "       '22:00:59'], dtype=object)"
      ]
     },
     "execution_count": 41,
     "metadata": {},
     "output_type": "execute_result"
    }
   ],
   "source": [
    "df['time'].sort_values().unique()"
   ]
  },
  {
   "cell_type": "markdown",
   "metadata": {},
   "source": [
    "У нас имеется информация о прослушивании музыки пользователями с 08:00:00 до 22:00:59."
   ]
  },
  {
   "cell_type": "markdown",
   "metadata": {},
   "source": [
    "##### День недели <a id='day'></a>"
   ]
  },
  {
   "cell_type": "code",
   "execution_count": 42,
   "metadata": {},
   "outputs": [
    {
     "data": {
      "text/plain": [
       "array(['Wednesday', 'Friday', 'Monday'], dtype=object)"
      ]
     },
     "execution_count": 42,
     "metadata": {},
     "output_type": "execute_result"
    }
   ],
   "source": [
    "df['weekday'].unique()"
   ]
  },
  {
   "cell_type": "markdown",
   "metadata": {},
   "source": [
    "Данные о прослушивании музыки представлены за Понедельник, Среду и Пятницу."
   ]
  },
  {
   "cell_type": "markdown",
   "metadata": {},
   "source": [
    "После преобразования всех данных ещё раз проверим отсутствие дубликатов и пропусков. Убеждаемся, что чистка выполнена успешно."
   ]
  },
  {
   "cell_type": "code",
   "execution_count": 43,
   "metadata": {},
   "outputs": [
    {
     "data": {
      "text/plain": [
       "0"
      ]
     },
     "execution_count": 43,
     "metadata": {},
     "output_type": "execute_result"
    }
   ],
   "source": [
    "df.duplicated().sum()"
   ]
  },
  {
   "cell_type": "code",
   "execution_count": 44,
   "metadata": {},
   "outputs": [
    {
     "name": "stdout",
     "output_type": "stream",
     "text": [
      "<class 'pandas.core.frame.DataFrame'>\n",
      "RangeIndex: 60126 entries, 0 to 60125\n",
      "Data columns (total 7 columns):\n",
      " #   Column       Non-Null Count  Dtype \n",
      "---  ------       --------------  ----- \n",
      " 0   user_id      60126 non-null  object\n",
      " 1   track_name   60126 non-null  object\n",
      " 2   artist_name  60126 non-null  object\n",
      " 3   genre_name   60126 non-null  object\n",
      " 4   city         60126 non-null  object\n",
      " 5   time         60126 non-null  object\n",
      " 6   weekday      60126 non-null  object\n",
      "dtypes: object(7)\n",
      "memory usage: 3.2+ MB\n"
     ]
    }
   ],
   "source": [
    "df.info()"
   ]
  },
  {
   "cell_type": "markdown",
   "metadata": {},
   "source": [
    "### Вывод <a id='step_1.4'></a>"
   ]
  },
  {
   "cell_type": "markdown",
   "metadata": {},
   "source": [
    "У нас имеются данные с информацией о прослушивании музыки пользователями. При этом каждое из зафиксированных в данных прослушиваний характеризуется семью признаками: идентификатором пользователя, названием трека, именем исполнителя трека, названием жанра трека, городом, временем и днём недели, в которые пользователь слушал трек.\n",
    "\n",
    "На этапе предобработки в данных обнаружились пропуски и проблемы с названиями столбцов, а также \"явные\" и \"неявные\" дубликаты, которые были обработаны.\n",
    "\n",
    "После этапа предобработки имеем слеующие данные для анализа. В данных встречается 60 126 прослушиваний музыки, в которых 41 315 уникальных пользователей. Из этих пользователей 29 043 человека прослушивали музыку в Москве, а 12 305 - в Санкт-Петербурге. Поскольку число уникальных пользователей в выборке меньше суммарного значения пользователей из Москвы и Санкт-Петербурга выше, это говорит о том, что некоторые пользователи слушали музыку и в Москве, и в Санкт-Петербурге. В разрезе данной аналитики для нас этот факт не важен. Однако, в случае изменения критериев, возможно, их нужно будет исключить из анализа.\n",
    "\n",
    "В данных встречается 46 910 уникальных композиций по названию трека и 43 344 уникальных исполнителя. Отметим, что 104 пользователя слушали более 10 треков с разными названиями, а 98 пользователей слушали более 10 треков с разными исполнителями. При этом некоторые из них слушали до 42 треков с разными названиями и до 38 треков с разными исполнителями. Также у нас имеется около 31 800 пользователей, которые включали либо только один трек, либо треки, имеющие одинаковые названия, либо треки, принадлежащие одному исполнителю. Кроме того, данные содержат композиции, принадлежащие к 280 разным жанрам. \n",
    "\n",
    "Вся информация представлена за Понедельники, Среды и Пятницы и временной период с 08:00:00 до 22:00:59."
   ]
  },
  {
   "cell_type": "markdown",
   "metadata": {},
   "source": [
    "## Проверка гипотез"
   ]
  },
  {
   "cell_type": "markdown",
   "metadata": {},
   "source": [
    "### Сравнение поведения пользователей двух столиц"
   ]
  },
  {
   "cell_type": "markdown",
   "metadata": {},
   "source": [
    "Первая гипотеза утверждает, что пользователи по-разному слушают музыку в Москве и Санкт-Петербурге. Проверим это предположение по данным о трёх днях недели — понедельнике, среде и пятнице"
   ]
  },
  {
   "cell_type": "markdown",
   "metadata": {},
   "source": [
    "Создадим функцию `number_tracks()`, которая посчитает прослушивания для заданного дня и города. Ей понадобятся два параметра:\n",
    "* день недели,\n",
    "* название города.\n",
    "\n",
    "Для этого применим последовательную фильтрацию с логической индексацией."
   ]
  },
  {
   "cell_type": "code",
   "execution_count": 63,
   "metadata": {},
   "outputs": [],
   "source": [
    "def number_tracks(day, city):\n",
    "    track_list = df[(df['weekday'] == day) & (df['city'] == city)]\n",
    "    track_list_count = track_list['user_id'].count()\n",
    "    return track_list_count"
   ]
  },
  {
   "cell_type": "code",
   "execution_count": 64,
   "metadata": {},
   "outputs": [
    {
     "data": {
      "text/plain": [
       "15347"
      ]
     },
     "execution_count": 64,
     "metadata": {},
     "output_type": "execute_result"
    }
   ],
   "source": [
    "number_tracks('Monday', 'Moscow')# количество прослушиваний в Москве по понедельникам"
   ]
  },
  {
   "cell_type": "code",
   "execution_count": 65,
   "metadata": {},
   "outputs": [
    {
     "data": {
      "text/plain": [
       "5519"
      ]
     },
     "execution_count": 65,
     "metadata": {},
     "output_type": "execute_result"
    }
   ],
   "source": [
    "number_tracks('Monday', 'Saint-Petersburg')# количество прослушиваний в Санкт-Петербурге по понедельникам"
   ]
  },
  {
   "cell_type": "code",
   "execution_count": 66,
   "metadata": {},
   "outputs": [
    {
     "data": {
      "text/plain": [
       "10865"
      ]
     },
     "execution_count": 66,
     "metadata": {},
     "output_type": "execute_result"
    }
   ],
   "source": [
    "number_tracks('Wednesday', 'Moscow')# количество прослушиваний в Москве по средам"
   ]
  },
  {
   "cell_type": "code",
   "execution_count": 67,
   "metadata": {},
   "outputs": [
    {
     "data": {
      "text/plain": [
       "6913"
      ]
     },
     "execution_count": 67,
     "metadata": {},
     "output_type": "execute_result"
    }
   ],
   "source": [
    "number_tracks('Wednesday', 'Saint-Petersburg')# количество прослушиваний в Санкт-Петербурге по средам"
   ]
  },
  {
   "cell_type": "code",
   "execution_count": 68,
   "metadata": {},
   "outputs": [
    {
     "data": {
      "text/plain": [
       "15680"
      ]
     },
     "execution_count": 68,
     "metadata": {},
     "output_type": "execute_result"
    }
   ],
   "source": [
    "number_tracks('Friday', 'Moscow')# количество прослушиваний в Москве по пятницам"
   ]
  },
  {
   "cell_type": "code",
   "execution_count": 69,
   "metadata": {},
   "outputs": [
    {
     "data": {
      "text/plain": [
       "5802"
      ]
     },
     "execution_count": 69,
     "metadata": {},
     "output_type": "execute_result"
    }
   ],
   "source": [
    "number_tracks('Friday', 'Saint-Petersburg')# количество прослушиваний в Санкт-Петербурге по пятницам"
   ]
  },
  {
   "cell_type": "code",
   "execution_count": 74,
   "metadata": {},
   "outputs": [
    {
     "name": "stdout",
     "output_type": "stream",
     "text": [
      "               city monday wednesday friday\n",
      "0            Moscow  15347     10865  15680\n",
      "1  Saint-Petersburg   5519      6913   5802\n"
     ]
    }
   ],
   "source": [
    "column = ['city', 'monday', 'wednesday', 'friday'] # Таблица с результатами\n",
    "data = [\n",
    "    ['Moscow', '15347', '10865', '15680'],\n",
    "    ['Saint-Petersburg', '5519', '6913', '5802'],\n",
    "]\n",
    "info = pd.DataFrame(data=data, columns=column)\n",
    "\n",
    "print(info)"
   ]
  },
  {
   "cell_type": "markdown",
   "metadata": {},
   "source": [
    "**Выводы**\n",
    "\n",
    "Данные показывают разницу поведения пользователей:\n",
    "\n",
    "- В Москве пик прослушиваний приходится на понедельник и пятницу, а в среду заметен спад.\n",
    "- В Петербурге, наоборот, больше слушают музыку по средам. Активность в понедельник и пятницу здесь почти в равной мере уступает среде.\n",
    "\n",
    "Значит, данные говорят в пользу первой гипотезы."
   ]
  },
  {
   "cell_type": "markdown",
   "metadata": {},
   "source": [
    "### Музыка в начале и в конце недели"
   ]
  },
  {
   "cell_type": "markdown",
   "metadata": {},
   "source": [
    "Согласно второй гипотезе, утром в понедельник в Москве преобладают одни жанры, а в Петербурге — другие. Так же и вечером пятницы преобладают разные жанры — в зависимости от города."
   ]
  },
  {
   "cell_type": "code",
   "execution_count": 71,
   "metadata": {},
   "outputs": [],
   "source": [
    "# получим таблицы moscow_general из тех строк таблицы df, \n",
    "# для которых значение в столбце 'city' равно 'Moscow'\n",
    "moscow_general = df[df['city'] == 'Moscow']"
   ]
  },
  {
   "cell_type": "code",
   "execution_count": 72,
   "metadata": {},
   "outputs": [],
   "source": [
    "# получим таблицы spb_general из тех строк таблицы df,\n",
    "# для которых значение в столбце 'city' равно 'Saint-Petersburg'\n",
    "spb_general = df[df['city'] == 'Saint-Petersburg']"
   ]
  },
  {
   "cell_type": "markdown",
   "metadata": {},
   "source": [
    "Создадим функцию `genre_weekday()` с четырьмя параметрами:\n",
    "* датафрейм с данными,\n",
    "* день недели,\n",
    "* начальная временная метка в формате 'hh:mm', \n",
    "* последняя временная метка в формате 'hh:mm'.\n",
    "\n",
    "Функция вернет информацию о топ-10 жанров тех треков, которые прослушивали в указанный день, в промежутке между двумя отметками времени."
   ]
  },
  {
   "cell_type": "code",
   "execution_count": 73,
   "metadata": {},
   "outputs": [],
   "source": [
    "# Объявление функции genre_weekday() с параметрами table, day, time1, time2,\n",
    "# которая возвращает информацию о самых популярных жанрах в указанный день в\n",
    "# заданное время:\n",
    "# 1) в переменную genre_df сохраняются те строки переданного датафрейма table, для\n",
    "#    которых одновременно:\n",
    "#    - значение в столбце day равно значению аргумента day\n",
    "#    - значение в столбце time больше значения аргумента time1\n",
    "#    - значение в столбце time меньше значения аргумента time2\n",
    "#    Используйте последовательную фильтрацию с помощью логической индексации.\n",
    "# 2) сгруппировать датафрейм genre_df по столбцу genre, взять один из его\n",
    "#    столбцов и посчитать методом count() количество записей для каждого из\n",
    "#    присутствующих жанров, получившийся Series записать в переменную\n",
    "#    genre_df_count\n",
    "# 3) отсортировать genre_df_count по убыванию встречаемости и сохранить\n",
    "#    в переменную genre_df_sorted\n",
    "# 4) вернуть Series из 10 первых значений genre_df_sorted, это будут топ-10\n",
    "#    популярных жанров (в указанный день, в заданное время)\n",
    "\n",
    "def genre_weekday(df, day, time1, time2):\n",
    "    # последовательная фильтрация\n",
    "    # оставляем в genre_df только те строки df, у которых день равен day\n",
    "    genre_df = df[df['weekday'] == day] # ваш код здесь\n",
    "    # оставляем в genre_df только те строки genre_df, у которых время меньше time2\n",
    "    genre_df = genre_df[genre_df['time'] > time1] # ваш код здесь\n",
    "    # оставляем в genre_df только те строки genre_df, у которых время больше time1\n",
    "    genre_df = genre_df[genre_df['time'] < time2] # ваш код здесь\n",
    "    # сгруппируем отфильтрованный датафрейм по столбцу с названиями жанров, возьмём столбец genre и посчитаем кол-во строк для каждого жанра методом count()\n",
    "    genre_df_grouped = genre_df.groupby('genre_name')['genre_name'].count() # ваш код здесь\n",
    "    # отсортируем результат по убыванию (чтобы в начале Series оказались самые популярные жанры)\n",
    "    genre_df_sorted = genre_df_grouped.sort_values(ascending=False) # ваш код здесь\n",
    "    # вернём Series с 10 самыми популярными жанрами в указанный отрезок времени заданного дня\n",
    "    return genre_df_sorted[:10]"
   ]
  },
  {
   "cell_type": "markdown",
   "metadata": {},
   "source": [
    "Cравним результаты функции `genre_weekday()` для Москвы и Санкт-Петербурга в понедельник утром (с 7:00 до 11:00) и в пятницу вечером (с 17:00 до 23:00):"
   ]
  },
  {
   "cell_type": "code",
   "execution_count": 75,
   "metadata": {},
   "outputs": [
    {
     "data": {
      "text/plain": [
       "genre_name\n",
       "pop            781\n",
       "dance          549\n",
       "electronic     480\n",
       "rock           474\n",
       "hiphop         285\n",
       "ruspop         186\n",
       "world          181\n",
       "rusrap         175\n",
       "alternative    164\n",
       "classical      157\n",
       "Name: genre_name, dtype: int64"
      ]
     },
     "execution_count": 75,
     "metadata": {},
     "output_type": "execute_result"
    }
   ],
   "source": [
    "genre_weekday(moscow_general, 'Monday', '07:00', '11:00')"
   ]
  },
  {
   "cell_type": "code",
   "execution_count": 76,
   "metadata": {},
   "outputs": [
    {
     "data": {
      "text/plain": [
       "genre_name\n",
       "pop            218\n",
       "dance          182\n",
       "rock           162\n",
       "electronic     147\n",
       "hiphop          80\n",
       "ruspop          64\n",
       "alternative     58\n",
       "rusrap          55\n",
       "jazz            44\n",
       "classical       40\n",
       "Name: genre_name, dtype: int64"
      ]
     },
     "execution_count": 76,
     "metadata": {},
     "output_type": "execute_result"
    }
   ],
   "source": [
    "genre_weekday(spb_general, 'Monday', '07:00', '11:00')"
   ]
  },
  {
   "cell_type": "code",
   "execution_count": 77,
   "metadata": {},
   "outputs": [
    {
     "data": {
      "text/plain": [
       "genre_name\n",
       "pop            713\n",
       "rock           517\n",
       "dance          495\n",
       "electronic     482\n",
       "hiphop         273\n",
       "world          208\n",
       "ruspop         170\n",
       "alternative    163\n",
       "classical      163\n",
       "rusrap         142\n",
       "Name: genre_name, dtype: int64"
      ]
     },
     "execution_count": 77,
     "metadata": {},
     "output_type": "execute_result"
    }
   ],
   "source": [
    "genre_weekday(moscow_general, 'Friday', '17:00', '23:00')"
   ]
  },
  {
   "cell_type": "code",
   "execution_count": 78,
   "metadata": {},
   "outputs": [
    {
     "data": {
      "text/plain": [
       "genre_name\n",
       "pop            256\n",
       "rock           216\n",
       "electronic     216\n",
       "dance          210\n",
       "hiphop          97\n",
       "alternative     63\n",
       "jazz            61\n",
       "classical       60\n",
       "rusrap          59\n",
       "world           54\n",
       "Name: genre_name, dtype: int64"
      ]
     },
     "execution_count": 78,
     "metadata": {},
     "output_type": "execute_result"
    }
   ],
   "source": [
    "genre_weekday(spb_general, 'Friday', '17:00', '23:00')"
   ]
  },
  {
   "cell_type": "markdown",
   "metadata": {},
   "source": [
    "**Выводы**\n",
    "\n",
    "Если сравнить топ-10 жанров в понедельник утром, можно сделать такие выводы:\n",
    "\n",
    "1. В Москве и Петербурге слушают похожую музыку. Единственное отличие — в московский рейтинг вошёл жанр “world”, а в петербургский — джаз и классика.\n",
    "\n",
    "2. В Москве пропущенных значений оказалось так много, что значение `'unknown'` заняло десятое место среди самых популярных жанров. Значит, пропущенные значения занимают существенную долю в данных и угрожают достоверности исследования.\n",
    "\n",
    "Вечер пятницы не меняет эту картину. Некоторые жанры поднимаются немного выше, другие спускаются, но в целом топ-10 остаётся тем же самым.\n",
    "\n",
    "Таким образом, вторая гипотеза подтвердилась лишь частично:\n",
    "* Пользователи слушают похожую музыку в начале недели и в конце.\n",
    "* Разница между Москвой и Петербургом не слишком выражена. В Москве чаще слушают русскую популярную музыку, в Петербурге — джаз.\n",
    "\n",
    "Однако пропуски в данных ставят под сомнение этот результат. В Москве их так много, что рейтинг топ-10 мог бы выглядеть иначе, если бы не утерянные  данные о жанрах."
   ]
  },
  {
   "cell_type": "markdown",
   "metadata": {},
   "source": [
    "### Жанровые предпочтения в Москве и Петербурге\n",
    "\n",
    "Гипотеза: Петербург — столица рэпа, музыку этого жанра там слушают чаще, чем в Москве.  А Москва — город контрастов, в котором, тем не менее, преобладает поп-музыка."
   ]
  },
  {
   "cell_type": "markdown",
   "metadata": {},
   "source": [
    "Сгруппируем таблицу `moscow_general` по жанру и посчитаем прослушивания треков каждого жанра"
   ]
  },
  {
   "cell_type": "code",
   "execution_count": 80,
   "metadata": {},
   "outputs": [],
   "source": [
    "moscow_genres = moscow_general.groupby('genre_name')['genre_name'].count().sort_values(ascending=False)"
   ]
  },
  {
   "cell_type": "code",
   "execution_count": 81,
   "metadata": {},
   "outputs": [
    {
     "data": {
      "text/plain": [
       "genre_name\n",
       "pop            5892\n",
       "dance          4435\n",
       "rock           3965\n",
       "electronic     3786\n",
       "hiphop         2094\n",
       "classical      1616\n",
       "world          1432\n",
       "alternative    1379\n",
       "ruspop         1372\n",
       "rusrap         1161\n",
       "Name: genre_name, dtype: int64"
      ]
     },
     "execution_count": 81,
     "metadata": {},
     "output_type": "execute_result"
    }
   ],
   "source": [
    "moscow_genres.head(10)"
   ]
  },
  {
   "cell_type": "code",
   "execution_count": 82,
   "metadata": {},
   "outputs": [],
   "source": [
    "#Аналогично посмотрим по Петербургу\n",
    "spb_genres = spb_general.groupby('genre_name')['genre_name'].count().sort_values(ascending=False)"
   ]
  },
  {
   "cell_type": "code",
   "execution_count": 83,
   "metadata": {},
   "outputs": [
    {
     "data": {
      "text/plain": [
       "genre_name\n",
       "pop            2431\n",
       "dance          1932\n",
       "rock           1879\n",
       "electronic     1737\n",
       "hiphop          960\n",
       "alternative     649\n",
       "classical       646\n",
       "rusrap          564\n",
       "ruspop          539\n",
       "world           515\n",
       "Name: genre_name, dtype: int64"
      ]
     },
     "execution_count": 83,
     "metadata": {},
     "output_type": "execute_result"
    }
   ],
   "source": [
    "spb_genres.head(10)"
   ]
  },
  {
   "cell_type": "markdown",
   "metadata": {},
   "source": [
    "**Выводы**\n",
    "\n",
    "Гипотеза частично подтвердилась:\n",
    "* Поп-музыка — самый популярный жанр в Москве, как и предполагала гипотеза. Более того, в топ-10 жанров встречается близкий жанр — русская популярная музыка.\n",
    "* Вопреки ожиданиям, рэп одинаково популярен в Москве и Петербурге. "
   ]
  },
  {
   "cell_type": "markdown",
   "metadata": {},
   "source": [
    "## Итоги исследования"
   ]
  },
  {
   "cell_type": "markdown",
   "metadata": {},
   "source": [
    "Мы проверили три гипотезы и установили:\n",
    "\n",
    "1. День недели по-разному влияет на активность пользователей в Москве и Петербурге. \n",
    "\n",
    "Первая гипотеза полностью подтвердилась.\n",
    "\n",
    "2. Музыкальные предпочтения не сильно меняются в течение недели — будь то Москва или Петербург. Небольшие различия заметны в начале недели, по понедельникам:\n",
    "* в Москве слушают музыку жанра “world”,\n",
    "* в Петербурге — джаз и классику.\n",
    "\n",
    "Таким образом, вторая гипотеза подтвердилась лишь отчасти. Этот результат мог оказаться иным, если бы не пропуски в данных.\n",
    "\n",
    "3. Во вкусах пользователей Москвы и Петербурга больше общего чем различий. Вопреки ожиданиям, предпочтения жанров в Петербурге напоминают московские.\n",
    "\n",
    "Третья гипотеза не подтвердилась. Если различия в предпочтениях и существуют, на основной массе пользователей они незаметны.\n",
    "\n",
    "**На практике исследования содержат проверки статистических гипотез.**\n",
    "Из данных одного сервиса не всегда можно сделать вывод о всех жителях города.\n",
    "Проверки статистических гипотез покажут, насколько они достоверны, исходя из имеющихся данных."
   ]
  }
 ],
 "metadata": {
  "ExecuteTimeLog": [
   {
    "duration": 681,
    "start_time": "2023-07-23T10:21:35.423Z"
   },
   {
    "duration": 169,
    "start_time": "2023-07-23T10:21:37.396Z"
   },
   {
    "duration": 867,
    "start_time": "2023-07-23T10:25:13.897Z"
   },
   {
    "duration": 162,
    "start_time": "2023-07-23T10:25:16.013Z"
   },
   {
    "duration": 650,
    "start_time": "2023-07-23T10:25:23.737Z"
   },
   {
    "duration": 175,
    "start_time": "2023-07-23T10:25:24.389Z"
   },
   {
    "duration": 116,
    "start_time": "2023-07-23T10:25:24.567Z"
   },
   {
    "duration": 0,
    "start_time": "2023-07-23T10:25:24.688Z"
   },
   {
    "duration": 0,
    "start_time": "2023-07-23T10:25:24.689Z"
   },
   {
    "duration": 0,
    "start_time": "2023-07-23T10:25:24.690Z"
   },
   {
    "duration": 0,
    "start_time": "2023-07-23T10:25:24.692Z"
   },
   {
    "duration": 0,
    "start_time": "2023-07-23T10:25:24.694Z"
   },
   {
    "duration": 0,
    "start_time": "2023-07-23T10:25:24.694Z"
   },
   {
    "duration": 0,
    "start_time": "2023-07-23T10:25:24.696Z"
   },
   {
    "duration": 0,
    "start_time": "2023-07-23T10:25:24.696Z"
   },
   {
    "duration": 0,
    "start_time": "2023-07-23T10:25:24.697Z"
   },
   {
    "duration": 0,
    "start_time": "2023-07-23T10:25:24.698Z"
   },
   {
    "duration": 0,
    "start_time": "2023-07-23T10:25:24.699Z"
   },
   {
    "duration": 0,
    "start_time": "2023-07-23T10:25:24.701Z"
   },
   {
    "duration": 0,
    "start_time": "2023-07-23T10:25:24.703Z"
   },
   {
    "duration": 0,
    "start_time": "2023-07-23T10:25:24.735Z"
   },
   {
    "duration": 0,
    "start_time": "2023-07-23T10:25:24.736Z"
   },
   {
    "duration": 0,
    "start_time": "2023-07-23T10:25:24.737Z"
   },
   {
    "duration": 0,
    "start_time": "2023-07-23T10:25:24.739Z"
   },
   {
    "duration": 0,
    "start_time": "2023-07-23T10:25:24.740Z"
   },
   {
    "duration": 0,
    "start_time": "2023-07-23T10:25:24.742Z"
   },
   {
    "duration": 0,
    "start_time": "2023-07-23T10:25:24.743Z"
   },
   {
    "duration": 0,
    "start_time": "2023-07-23T10:25:24.745Z"
   },
   {
    "duration": 0,
    "start_time": "2023-07-23T10:25:24.747Z"
   },
   {
    "duration": 0,
    "start_time": "2023-07-23T10:25:24.748Z"
   },
   {
    "duration": 0,
    "start_time": "2023-07-23T10:25:24.749Z"
   },
   {
    "duration": 0,
    "start_time": "2023-07-23T10:25:24.751Z"
   },
   {
    "duration": 0,
    "start_time": "2023-07-23T10:25:24.752Z"
   },
   {
    "duration": 0,
    "start_time": "2023-07-23T10:25:24.753Z"
   },
   {
    "duration": 0,
    "start_time": "2023-07-23T10:25:24.754Z"
   },
   {
    "duration": 0,
    "start_time": "2023-07-23T10:25:24.756Z"
   },
   {
    "duration": 0,
    "start_time": "2023-07-23T10:25:24.756Z"
   },
   {
    "duration": 0,
    "start_time": "2023-07-23T10:25:24.757Z"
   },
   {
    "duration": 0,
    "start_time": "2023-07-23T10:25:24.758Z"
   },
   {
    "duration": 0,
    "start_time": "2023-07-23T10:25:24.759Z"
   },
   {
    "duration": 1,
    "start_time": "2023-07-23T10:25:24.760Z"
   },
   {
    "duration": 0,
    "start_time": "2023-07-23T10:25:24.762Z"
   },
   {
    "duration": 0,
    "start_time": "2023-07-23T10:25:24.763Z"
   },
   {
    "duration": 0,
    "start_time": "2023-07-23T10:25:24.764Z"
   },
   {
    "duration": 1,
    "start_time": "2023-07-23T10:25:24.764Z"
   },
   {
    "duration": 0,
    "start_time": "2023-07-23T10:25:24.765Z"
   },
   {
    "duration": 0,
    "start_time": "2023-07-23T10:25:24.766Z"
   },
   {
    "duration": 0,
    "start_time": "2023-07-23T10:25:24.767Z"
   },
   {
    "duration": 0,
    "start_time": "2023-07-23T10:25:24.769Z"
   },
   {
    "duration": 0,
    "start_time": "2023-07-23T10:25:24.770Z"
   },
   {
    "duration": 0,
    "start_time": "2023-07-23T10:25:24.771Z"
   },
   {
    "duration": 0,
    "start_time": "2023-07-23T10:25:24.771Z"
   },
   {
    "duration": 0,
    "start_time": "2023-07-23T10:25:24.772Z"
   },
   {
    "duration": 0,
    "start_time": "2023-07-23T10:25:24.832Z"
   },
   {
    "duration": 0,
    "start_time": "2023-07-23T10:25:24.833Z"
   },
   {
    "duration": 0,
    "start_time": "2023-07-23T10:25:24.834Z"
   },
   {
    "duration": 0,
    "start_time": "2023-07-23T10:25:24.835Z"
   },
   {
    "duration": 0,
    "start_time": "2023-07-23T10:25:24.836Z"
   },
   {
    "duration": 0,
    "start_time": "2023-07-23T10:25:24.837Z"
   },
   {
    "duration": 0,
    "start_time": "2023-07-23T10:25:24.838Z"
   },
   {
    "duration": 0,
    "start_time": "2023-07-23T10:25:24.839Z"
   },
   {
    "duration": 0,
    "start_time": "2023-07-23T10:25:24.840Z"
   },
   {
    "duration": 0,
    "start_time": "2023-07-23T10:25:24.841Z"
   },
   {
    "duration": 0,
    "start_time": "2023-07-23T10:25:24.842Z"
   },
   {
    "duration": 0,
    "start_time": "2023-07-23T10:25:24.843Z"
   },
   {
    "duration": 47,
    "start_time": "2023-07-23T10:26:25.007Z"
   },
   {
    "duration": 189,
    "start_time": "2023-07-23T10:26:27.783Z"
   },
   {
    "duration": 32,
    "start_time": "2023-07-23T10:26:32.500Z"
   },
   {
    "duration": 651,
    "start_time": "2023-07-23T10:26:38.009Z"
   },
   {
    "duration": 168,
    "start_time": "2023-07-23T10:26:38.662Z"
   },
   {
    "duration": 27,
    "start_time": "2023-07-23T10:26:38.831Z"
   },
   {
    "duration": 35,
    "start_time": "2023-07-23T10:26:38.860Z"
   },
   {
    "duration": 28,
    "start_time": "2023-07-23T10:26:38.897Z"
   },
   {
    "duration": 33,
    "start_time": "2023-07-23T10:26:38.927Z"
   },
   {
    "duration": 29,
    "start_time": "2023-07-23T10:26:38.962Z"
   },
   {
    "duration": 25,
    "start_time": "2023-07-23T10:26:38.993Z"
   },
   {
    "duration": 45,
    "start_time": "2023-07-23T10:26:39.020Z"
   },
   {
    "duration": 66,
    "start_time": "2023-07-23T10:26:39.067Z"
   },
   {
    "duration": 72,
    "start_time": "2023-07-23T10:26:39.134Z"
   },
   {
    "duration": 68,
    "start_time": "2023-07-23T10:26:39.208Z"
   },
   {
    "duration": 28,
    "start_time": "2023-07-23T10:26:39.278Z"
   },
   {
    "duration": 72,
    "start_time": "2023-07-23T10:26:39.308Z"
   },
   {
    "duration": 29,
    "start_time": "2023-07-23T10:26:39.382Z"
   },
   {
    "duration": 80,
    "start_time": "2023-07-23T10:26:39.412Z"
   },
   {
    "duration": 75,
    "start_time": "2023-07-23T10:26:39.493Z"
   },
   {
    "duration": 29,
    "start_time": "2023-07-23T10:26:39.569Z"
   },
   {
    "duration": 13,
    "start_time": "2023-07-23T10:26:39.600Z"
   },
   {
    "duration": 102,
    "start_time": "2023-07-23T10:26:39.614Z"
   },
   {
    "duration": 64,
    "start_time": "2023-07-23T10:26:39.718Z"
   },
   {
    "duration": 13,
    "start_time": "2023-07-23T10:26:39.784Z"
   },
   {
    "duration": 51,
    "start_time": "2023-07-23T10:26:39.799Z"
   },
   {
    "duration": 9,
    "start_time": "2023-07-23T10:26:39.852Z"
   },
   {
    "duration": 5,
    "start_time": "2023-07-23T10:26:39.863Z"
   },
   {
    "duration": 9,
    "start_time": "2023-07-23T10:26:39.869Z"
   },
   {
    "duration": 12,
    "start_time": "2023-07-23T10:26:39.880Z"
   },
   {
    "duration": 22,
    "start_time": "2023-07-23T10:26:39.896Z"
   },
   {
    "duration": 23,
    "start_time": "2023-07-23T10:26:39.920Z"
   },
   {
    "duration": 22,
    "start_time": "2023-07-23T10:26:39.944Z"
   },
   {
    "duration": 16,
    "start_time": "2023-07-23T10:26:39.967Z"
   },
   {
    "duration": 19,
    "start_time": "2023-07-23T10:26:39.984Z"
   },
   {
    "duration": 45,
    "start_time": "2023-07-23T10:26:40.004Z"
   },
   {
    "duration": 34,
    "start_time": "2023-07-23T10:26:40.051Z"
   },
   {
    "duration": 18,
    "start_time": "2023-07-23T10:26:40.086Z"
   },
   {
    "duration": 39,
    "start_time": "2023-07-23T10:26:40.106Z"
   },
   {
    "duration": 34,
    "start_time": "2023-07-23T10:26:40.146Z"
   },
   {
    "duration": 24,
    "start_time": "2023-07-23T10:26:40.182Z"
   },
   {
    "duration": 15,
    "start_time": "2023-07-23T10:26:40.208Z"
   },
   {
    "duration": 38,
    "start_time": "2023-07-23T10:26:40.225Z"
   },
   {
    "duration": 54,
    "start_time": "2023-07-23T10:26:40.264Z"
   },
   {
    "duration": 6,
    "start_time": "2023-07-23T10:26:40.319Z"
   },
   {
    "duration": 76,
    "start_time": "2023-07-23T10:26:40.327Z"
   },
   {
    "duration": 26,
    "start_time": "2023-07-23T10:26:40.405Z"
   },
   {
    "duration": 23,
    "start_time": "2023-07-23T10:26:40.432Z"
   },
   {
    "duration": 54,
    "start_time": "2023-07-23T10:26:40.457Z"
   },
   {
    "duration": 48,
    "start_time": "2023-07-23T10:26:40.512Z"
   },
   {
    "duration": 118,
    "start_time": "2023-07-23T10:26:40.561Z"
   },
   {
    "duration": 173,
    "start_time": "2023-07-23T10:26:40.681Z"
   },
   {
    "duration": 17,
    "start_time": "2023-07-23T10:26:40.855Z"
   },
   {
    "duration": 36,
    "start_time": "2023-07-23T10:26:40.873Z"
   },
   {
    "duration": 3,
    "start_time": "2023-07-23T10:26:40.911Z"
   },
   {
    "duration": 88,
    "start_time": "2023-07-23T10:26:40.916Z"
   },
   {
    "duration": 22,
    "start_time": "2023-07-23T10:26:41.006Z"
   },
   {
    "duration": 65,
    "start_time": "2023-07-23T10:26:41.030Z"
   },
   {
    "duration": 28,
    "start_time": "2023-07-23T10:26:41.097Z"
   },
   {
    "duration": 7,
    "start_time": "2023-07-23T10:26:41.127Z"
   },
   {
    "duration": 308,
    "start_time": "2023-07-23T10:26:41.135Z"
   },
   {
    "duration": 372,
    "start_time": "2023-07-23T10:26:41.444Z"
   },
   {
    "duration": 20,
    "start_time": "2023-07-23T10:26:41.818Z"
   },
   {
    "duration": 14,
    "start_time": "2023-07-23T10:26:41.839Z"
   },
   {
    "duration": 680,
    "start_time": "2023-07-23T10:27:47.317Z"
   },
   {
    "duration": 169,
    "start_time": "2023-07-23T10:27:47.999Z"
   },
   {
    "duration": 30,
    "start_time": "2023-07-23T10:27:48.170Z"
   },
   {
    "duration": 4,
    "start_time": "2023-07-23T10:27:48.202Z"
   },
   {
    "duration": 25,
    "start_time": "2023-07-23T10:27:48.207Z"
   },
   {
    "duration": 24,
    "start_time": "2023-07-23T10:27:48.233Z"
   },
   {
    "duration": 20,
    "start_time": "2023-07-23T10:27:48.258Z"
   },
   {
    "duration": 10,
    "start_time": "2023-07-23T10:27:48.280Z"
   },
   {
    "duration": 45,
    "start_time": "2023-07-23T10:27:48.292Z"
   },
   {
    "duration": 58,
    "start_time": "2023-07-23T10:27:48.339Z"
   },
   {
    "duration": 86,
    "start_time": "2023-07-23T10:27:48.398Z"
   },
   {
    "duration": 59,
    "start_time": "2023-07-23T10:27:48.486Z"
   },
   {
    "duration": 25,
    "start_time": "2023-07-23T10:27:48.547Z"
   },
   {
    "duration": 29,
    "start_time": "2023-07-23T10:27:48.574Z"
   },
   {
    "duration": 34,
    "start_time": "2023-07-23T10:27:48.605Z"
   },
   {
    "duration": 69,
    "start_time": "2023-07-23T10:27:48.640Z"
   },
   {
    "duration": 81,
    "start_time": "2023-07-23T10:27:48.710Z"
   },
   {
    "duration": 39,
    "start_time": "2023-07-23T10:27:48.793Z"
   },
   {
    "duration": 49,
    "start_time": "2023-07-23T10:27:48.834Z"
   },
   {
    "duration": 66,
    "start_time": "2023-07-23T10:27:48.884Z"
   },
   {
    "duration": 61,
    "start_time": "2023-07-23T10:27:48.952Z"
   },
   {
    "duration": 22,
    "start_time": "2023-07-23T10:27:49.015Z"
   },
   {
    "duration": 52,
    "start_time": "2023-07-23T10:27:49.038Z"
   },
   {
    "duration": 5,
    "start_time": "2023-07-23T10:27:49.092Z"
   },
   {
    "duration": 14,
    "start_time": "2023-07-23T10:27:49.098Z"
   },
   {
    "duration": 14,
    "start_time": "2023-07-23T10:27:49.114Z"
   },
   {
    "duration": 6,
    "start_time": "2023-07-23T10:27:49.130Z"
   },
   {
    "duration": 8,
    "start_time": "2023-07-23T10:27:49.139Z"
   },
   {
    "duration": 7,
    "start_time": "2023-07-23T10:27:49.149Z"
   },
   {
    "duration": 5,
    "start_time": "2023-07-23T10:27:49.157Z"
   },
   {
    "duration": 13,
    "start_time": "2023-07-23T10:27:49.164Z"
   },
   {
    "duration": 10,
    "start_time": "2023-07-23T10:27:49.179Z"
   },
   {
    "duration": 16,
    "start_time": "2023-07-23T10:27:49.191Z"
   },
   {
    "duration": 28,
    "start_time": "2023-07-23T10:27:49.209Z"
   },
   {
    "duration": 10,
    "start_time": "2023-07-23T10:27:49.239Z"
   },
   {
    "duration": 10,
    "start_time": "2023-07-23T10:27:49.250Z"
   },
   {
    "duration": 11,
    "start_time": "2023-07-23T10:27:49.262Z"
   },
   {
    "duration": 15,
    "start_time": "2023-07-23T10:27:49.275Z"
   },
   {
    "duration": 22,
    "start_time": "2023-07-23T10:27:49.292Z"
   },
   {
    "duration": 33,
    "start_time": "2023-07-23T10:27:49.332Z"
   },
   {
    "duration": 47,
    "start_time": "2023-07-23T10:27:49.367Z"
   },
   {
    "duration": 16,
    "start_time": "2023-07-23T10:27:49.416Z"
   },
   {
    "duration": 61,
    "start_time": "2023-07-23T10:27:49.433Z"
   },
   {
    "duration": 25,
    "start_time": "2023-07-23T10:27:49.496Z"
   },
   {
    "duration": 16,
    "start_time": "2023-07-23T10:27:49.523Z"
   },
   {
    "duration": 12,
    "start_time": "2023-07-23T10:27:49.541Z"
   },
   {
    "duration": 11,
    "start_time": "2023-07-23T10:27:49.555Z"
   },
   {
    "duration": 100,
    "start_time": "2023-07-23T10:27:49.568Z"
   },
   {
    "duration": 188,
    "start_time": "2023-07-23T10:27:49.670Z"
   },
   {
    "duration": 18,
    "start_time": "2023-07-23T10:27:49.860Z"
   },
   {
    "duration": 15,
    "start_time": "2023-07-23T10:27:49.879Z"
   },
   {
    "duration": 4,
    "start_time": "2023-07-23T10:27:49.896Z"
   },
   {
    "duration": 90,
    "start_time": "2023-07-23T10:27:49.901Z"
   },
   {
    "duration": 23,
    "start_time": "2023-07-23T10:27:49.993Z"
   },
   {
    "duration": 57,
    "start_time": "2023-07-23T10:27:50.018Z"
   },
   {
    "duration": 28,
    "start_time": "2023-07-23T10:27:50.076Z"
   },
   {
    "duration": 22,
    "start_time": "2023-07-23T10:27:50.105Z"
   },
   {
    "duration": 332,
    "start_time": "2023-07-23T10:27:50.128Z"
   },
   {
    "duration": 346,
    "start_time": "2023-07-23T10:27:50.461Z"
   },
   {
    "duration": 23,
    "start_time": "2023-07-23T10:27:50.809Z"
   },
   {
    "duration": 9,
    "start_time": "2023-07-23T10:27:50.834Z"
   },
   {
    "duration": 1074,
    "start_time": "2023-07-23T10:30:20.582Z"
   },
   {
    "duration": 5,
    "start_time": "2023-07-23T10:31:43.449Z"
   },
   {
    "duration": 16,
    "start_time": "2023-07-23T10:33:49.101Z"
   },
   {
    "duration": 15,
    "start_time": "2023-07-23T10:33:50.849Z"
   },
   {
    "duration": 22,
    "start_time": "2023-07-23T10:33:52.945Z"
   },
   {
    "duration": 23,
    "start_time": "2023-07-23T10:33:54.031Z"
   },
   {
    "duration": 17,
    "start_time": "2023-07-23T10:33:54.817Z"
   },
   {
    "duration": 16,
    "start_time": "2023-07-23T10:33:55.534Z"
   },
   {
    "duration": 8,
    "start_time": "2023-07-23T10:35:08.960Z"
   },
   {
    "duration": 11,
    "start_time": "2023-07-23T10:36:48.457Z"
   },
   {
    "duration": 10,
    "start_time": "2023-07-23T10:36:50.138Z"
   },
   {
    "duration": 4,
    "start_time": "2023-07-23T10:39:11.907Z"
   },
   {
    "duration": 7,
    "start_time": "2023-07-23T10:40:09.302Z"
   },
   {
    "duration": 19,
    "start_time": "2023-07-23T10:41:43.964Z"
   },
   {
    "duration": 12,
    "start_time": "2023-07-23T10:41:57.787Z"
   },
   {
    "duration": 16,
    "start_time": "2023-07-23T10:42:07.564Z"
   },
   {
    "duration": 14,
    "start_time": "2023-07-23T10:42:15.149Z"
   },
   {
    "duration": 78,
    "start_time": "2023-07-23T10:43:46.486Z"
   },
   {
    "duration": 10,
    "start_time": "2023-07-23T10:44:04.787Z"
   },
   {
    "duration": 4,
    "start_time": "2023-07-23T10:44:19.598Z"
   },
   {
    "duration": 6,
    "start_time": "2023-07-23T10:45:14.215Z"
   },
   {
    "duration": 5,
    "start_time": "2023-07-23T10:45:48.185Z"
   }
  ],
  "kernelspec": {
   "display_name": "Python 3 (ipykernel)",
   "language": "python",
   "name": "python3"
  },
  "language_info": {
   "codemirror_mode": {
    "name": "ipython",
    "version": 3
   },
   "file_extension": ".py",
   "mimetype": "text/x-python",
   "name": "python",
   "nbconvert_exporter": "python",
   "pygments_lexer": "ipython3",
   "version": "3.9.5"
  },
  "toc": {
   "base_numbering": 1,
   "nav_menu": {},
   "number_sections": true,
   "sideBar": true,
   "skip_h1_title": true,
   "title_cell": "Table of Contents",
   "title_sidebar": "Contents",
   "toc_cell": false,
   "toc_position": {},
   "toc_section_display": true,
   "toc_window_display": false
  }
 },
 "nbformat": 4,
 "nbformat_minor": 4
}
