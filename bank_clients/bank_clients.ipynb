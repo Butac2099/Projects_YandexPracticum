{
 "cells": [
  {
   "cell_type": "markdown",
   "id": "58b3bff4",
   "metadata": {
    "deletable": false,
    "editable": false,
    "id": "c81daeeb"
   },
   "source": [
    "# Исследование надежности заемщиков\n"
   ]
  },
  {
   "cell_type": "markdown",
   "id": "d27ab9da",
   "metadata": {
    "deletable": false,
    "editable": false,
    "id": "827c20bf"
   },
   "source": [
    "Во второй части проекта вы выполните шаги 3 и 4. Их вручную проверит ревьюер.\n",
    "Чтобы вам не пришлось писать код заново для шагов 1 и 2, мы добавили авторские решения в ячейки с кодом. \n",
    "\n"
   ]
  },
  {
   "cell_type": "markdown",
   "id": "b427c19e",
   "metadata": {
    "deletable": false,
    "editable": false,
    "id": "744d7639"
   },
   "source": [
    "## Откройте таблицу и изучите общую информацию о данных"
   ]
  },
  {
   "cell_type": "markdown",
   "id": "8ee0e5cd",
   "metadata": {
    "deletable": false,
    "editable": false,
    "id": "e7a14c31"
   },
   "source": [
    "**Задание 1. Импортируйте библиотеку pandas. Считайте данные из csv-файла в датафрейм и сохраните в переменную `data`. Путь к файлу:**\n",
    "\n",
    "`/datasets/data.csv`"
   ]
  },
  {
   "cell_type": "code",
   "execution_count": 1,
   "id": "779b70bf",
   "metadata": {
    "deletable": false,
    "id": "7bcf75c9"
   },
   "outputs": [],
   "source": [
    "import pandas as pd\n",
    "\n",
    "try:\n",
    "    data = pd.read_csv('/datasets/data.csv')\n",
    "except:\n",
    "    data = pd.read_csv('https://code.s3.yandex.net/datasets/data.csv')"
   ]
  },
  {
   "cell_type": "markdown",
   "id": "37a838a3",
   "metadata": {
    "deletable": false,
    "editable": false,
    "id": "b8038fe3"
   },
   "source": [
    "**Задание 2. Выведите первые 20 строчек датафрейма `data` на экран.**"
   ]
  },
  {
   "cell_type": "code",
   "execution_count": 2,
   "id": "6c473d77",
   "metadata": {
    "deletable": false,
    "id": "2a7cab99",
    "outputId": "1a8f3ef2-d323-4ec2-ddf7-89670b5944c4"
   },
   "outputs": [
    {
     "data": {
      "text/html": [
       "<div>\n",
       "<style scoped>\n",
       "    .dataframe tbody tr th:only-of-type {\n",
       "        vertical-align: middle;\n",
       "    }\n",
       "\n",
       "    .dataframe tbody tr th {\n",
       "        vertical-align: top;\n",
       "    }\n",
       "\n",
       "    .dataframe thead th {\n",
       "        text-align: right;\n",
       "    }\n",
       "</style>\n",
       "<table border=\"1\" class=\"dataframe\">\n",
       "  <thead>\n",
       "    <tr style=\"text-align: right;\">\n",
       "      <th></th>\n",
       "      <th>children</th>\n",
       "      <th>days_employed</th>\n",
       "      <th>dob_years</th>\n",
       "      <th>education</th>\n",
       "      <th>education_id</th>\n",
       "      <th>family_status</th>\n",
       "      <th>family_status_id</th>\n",
       "      <th>gender</th>\n",
       "      <th>income_type</th>\n",
       "      <th>debt</th>\n",
       "      <th>total_income</th>\n",
       "      <th>purpose</th>\n",
       "    </tr>\n",
       "  </thead>\n",
       "  <tbody>\n",
       "    <tr>\n",
       "      <th>0</th>\n",
       "      <td>1</td>\n",
       "      <td>-8437.673028</td>\n",
       "      <td>42</td>\n",
       "      <td>высшее</td>\n",
       "      <td>0</td>\n",
       "      <td>женат / замужем</td>\n",
       "      <td>0</td>\n",
       "      <td>F</td>\n",
       "      <td>сотрудник</td>\n",
       "      <td>0</td>\n",
       "      <td>253875.639453</td>\n",
       "      <td>покупка жилья</td>\n",
       "    </tr>\n",
       "    <tr>\n",
       "      <th>1</th>\n",
       "      <td>1</td>\n",
       "      <td>-4024.803754</td>\n",
       "      <td>36</td>\n",
       "      <td>среднее</td>\n",
       "      <td>1</td>\n",
       "      <td>женат / замужем</td>\n",
       "      <td>0</td>\n",
       "      <td>F</td>\n",
       "      <td>сотрудник</td>\n",
       "      <td>0</td>\n",
       "      <td>112080.014102</td>\n",
       "      <td>приобретение автомобиля</td>\n",
       "    </tr>\n",
       "    <tr>\n",
       "      <th>2</th>\n",
       "      <td>0</td>\n",
       "      <td>-5623.422610</td>\n",
       "      <td>33</td>\n",
       "      <td>Среднее</td>\n",
       "      <td>1</td>\n",
       "      <td>женат / замужем</td>\n",
       "      <td>0</td>\n",
       "      <td>M</td>\n",
       "      <td>сотрудник</td>\n",
       "      <td>0</td>\n",
       "      <td>145885.952297</td>\n",
       "      <td>покупка жилья</td>\n",
       "    </tr>\n",
       "    <tr>\n",
       "      <th>3</th>\n",
       "      <td>3</td>\n",
       "      <td>-4124.747207</td>\n",
       "      <td>32</td>\n",
       "      <td>среднее</td>\n",
       "      <td>1</td>\n",
       "      <td>женат / замужем</td>\n",
       "      <td>0</td>\n",
       "      <td>M</td>\n",
       "      <td>сотрудник</td>\n",
       "      <td>0</td>\n",
       "      <td>267628.550329</td>\n",
       "      <td>дополнительное образование</td>\n",
       "    </tr>\n",
       "    <tr>\n",
       "      <th>4</th>\n",
       "      <td>0</td>\n",
       "      <td>340266.072047</td>\n",
       "      <td>53</td>\n",
       "      <td>среднее</td>\n",
       "      <td>1</td>\n",
       "      <td>гражданский брак</td>\n",
       "      <td>1</td>\n",
       "      <td>F</td>\n",
       "      <td>пенсионер</td>\n",
       "      <td>0</td>\n",
       "      <td>158616.077870</td>\n",
       "      <td>сыграть свадьбу</td>\n",
       "    </tr>\n",
       "    <tr>\n",
       "      <th>5</th>\n",
       "      <td>0</td>\n",
       "      <td>-926.185831</td>\n",
       "      <td>27</td>\n",
       "      <td>высшее</td>\n",
       "      <td>0</td>\n",
       "      <td>гражданский брак</td>\n",
       "      <td>1</td>\n",
       "      <td>M</td>\n",
       "      <td>компаньон</td>\n",
       "      <td>0</td>\n",
       "      <td>255763.565419</td>\n",
       "      <td>покупка жилья</td>\n",
       "    </tr>\n",
       "    <tr>\n",
       "      <th>6</th>\n",
       "      <td>0</td>\n",
       "      <td>-2879.202052</td>\n",
       "      <td>43</td>\n",
       "      <td>высшее</td>\n",
       "      <td>0</td>\n",
       "      <td>женат / замужем</td>\n",
       "      <td>0</td>\n",
       "      <td>F</td>\n",
       "      <td>компаньон</td>\n",
       "      <td>0</td>\n",
       "      <td>240525.971920</td>\n",
       "      <td>операции с жильем</td>\n",
       "    </tr>\n",
       "    <tr>\n",
       "      <th>7</th>\n",
       "      <td>0</td>\n",
       "      <td>-152.779569</td>\n",
       "      <td>50</td>\n",
       "      <td>СРЕДНЕЕ</td>\n",
       "      <td>1</td>\n",
       "      <td>женат / замужем</td>\n",
       "      <td>0</td>\n",
       "      <td>M</td>\n",
       "      <td>сотрудник</td>\n",
       "      <td>0</td>\n",
       "      <td>135823.934197</td>\n",
       "      <td>образование</td>\n",
       "    </tr>\n",
       "    <tr>\n",
       "      <th>8</th>\n",
       "      <td>2</td>\n",
       "      <td>-6929.865299</td>\n",
       "      <td>35</td>\n",
       "      <td>ВЫСШЕЕ</td>\n",
       "      <td>0</td>\n",
       "      <td>гражданский брак</td>\n",
       "      <td>1</td>\n",
       "      <td>F</td>\n",
       "      <td>сотрудник</td>\n",
       "      <td>0</td>\n",
       "      <td>95856.832424</td>\n",
       "      <td>на проведение свадьбы</td>\n",
       "    </tr>\n",
       "    <tr>\n",
       "      <th>9</th>\n",
       "      <td>0</td>\n",
       "      <td>-2188.756445</td>\n",
       "      <td>41</td>\n",
       "      <td>среднее</td>\n",
       "      <td>1</td>\n",
       "      <td>женат / замужем</td>\n",
       "      <td>0</td>\n",
       "      <td>M</td>\n",
       "      <td>сотрудник</td>\n",
       "      <td>0</td>\n",
       "      <td>144425.938277</td>\n",
       "      <td>покупка жилья для семьи</td>\n",
       "    </tr>\n",
       "    <tr>\n",
       "      <th>10</th>\n",
       "      <td>2</td>\n",
       "      <td>-4171.483647</td>\n",
       "      <td>36</td>\n",
       "      <td>высшее</td>\n",
       "      <td>0</td>\n",
       "      <td>женат / замужем</td>\n",
       "      <td>0</td>\n",
       "      <td>M</td>\n",
       "      <td>компаньон</td>\n",
       "      <td>0</td>\n",
       "      <td>113943.491460</td>\n",
       "      <td>покупка недвижимости</td>\n",
       "    </tr>\n",
       "    <tr>\n",
       "      <th>11</th>\n",
       "      <td>0</td>\n",
       "      <td>-792.701887</td>\n",
       "      <td>40</td>\n",
       "      <td>среднее</td>\n",
       "      <td>1</td>\n",
       "      <td>женат / замужем</td>\n",
       "      <td>0</td>\n",
       "      <td>F</td>\n",
       "      <td>сотрудник</td>\n",
       "      <td>0</td>\n",
       "      <td>77069.234271</td>\n",
       "      <td>покупка коммерческой недвижимости</td>\n",
       "    </tr>\n",
       "    <tr>\n",
       "      <th>12</th>\n",
       "      <td>0</td>\n",
       "      <td>NaN</td>\n",
       "      <td>65</td>\n",
       "      <td>среднее</td>\n",
       "      <td>1</td>\n",
       "      <td>гражданский брак</td>\n",
       "      <td>1</td>\n",
       "      <td>M</td>\n",
       "      <td>пенсионер</td>\n",
       "      <td>0</td>\n",
       "      <td>NaN</td>\n",
       "      <td>сыграть свадьбу</td>\n",
       "    </tr>\n",
       "    <tr>\n",
       "      <th>13</th>\n",
       "      <td>0</td>\n",
       "      <td>-1846.641941</td>\n",
       "      <td>54</td>\n",
       "      <td>неоконченное высшее</td>\n",
       "      <td>2</td>\n",
       "      <td>женат / замужем</td>\n",
       "      <td>0</td>\n",
       "      <td>F</td>\n",
       "      <td>сотрудник</td>\n",
       "      <td>0</td>\n",
       "      <td>130458.228857</td>\n",
       "      <td>приобретение автомобиля</td>\n",
       "    </tr>\n",
       "    <tr>\n",
       "      <th>14</th>\n",
       "      <td>0</td>\n",
       "      <td>-1844.956182</td>\n",
       "      <td>56</td>\n",
       "      <td>высшее</td>\n",
       "      <td>0</td>\n",
       "      <td>гражданский брак</td>\n",
       "      <td>1</td>\n",
       "      <td>F</td>\n",
       "      <td>компаньон</td>\n",
       "      <td>1</td>\n",
       "      <td>165127.911772</td>\n",
       "      <td>покупка жилой недвижимости</td>\n",
       "    </tr>\n",
       "    <tr>\n",
       "      <th>15</th>\n",
       "      <td>1</td>\n",
       "      <td>-972.364419</td>\n",
       "      <td>26</td>\n",
       "      <td>среднее</td>\n",
       "      <td>1</td>\n",
       "      <td>женат / замужем</td>\n",
       "      <td>0</td>\n",
       "      <td>F</td>\n",
       "      <td>сотрудник</td>\n",
       "      <td>0</td>\n",
       "      <td>116820.904450</td>\n",
       "      <td>строительство собственной недвижимости</td>\n",
       "    </tr>\n",
       "    <tr>\n",
       "      <th>16</th>\n",
       "      <td>0</td>\n",
       "      <td>-1719.934226</td>\n",
       "      <td>35</td>\n",
       "      <td>среднее</td>\n",
       "      <td>1</td>\n",
       "      <td>женат / замужем</td>\n",
       "      <td>0</td>\n",
       "      <td>F</td>\n",
       "      <td>сотрудник</td>\n",
       "      <td>0</td>\n",
       "      <td>289202.704229</td>\n",
       "      <td>недвижимость</td>\n",
       "    </tr>\n",
       "    <tr>\n",
       "      <th>17</th>\n",
       "      <td>0</td>\n",
       "      <td>-2369.999720</td>\n",
       "      <td>33</td>\n",
       "      <td>высшее</td>\n",
       "      <td>0</td>\n",
       "      <td>гражданский брак</td>\n",
       "      <td>1</td>\n",
       "      <td>M</td>\n",
       "      <td>сотрудник</td>\n",
       "      <td>0</td>\n",
       "      <td>90410.586745</td>\n",
       "      <td>строительство недвижимости</td>\n",
       "    </tr>\n",
       "    <tr>\n",
       "      <th>18</th>\n",
       "      <td>0</td>\n",
       "      <td>400281.136913</td>\n",
       "      <td>53</td>\n",
       "      <td>среднее</td>\n",
       "      <td>1</td>\n",
       "      <td>вдовец / вдова</td>\n",
       "      <td>2</td>\n",
       "      <td>F</td>\n",
       "      <td>пенсионер</td>\n",
       "      <td>0</td>\n",
       "      <td>56823.777243</td>\n",
       "      <td>на покупку подержанного автомобиля</td>\n",
       "    </tr>\n",
       "    <tr>\n",
       "      <th>19</th>\n",
       "      <td>0</td>\n",
       "      <td>-10038.818549</td>\n",
       "      <td>48</td>\n",
       "      <td>СРЕДНЕЕ</td>\n",
       "      <td>1</td>\n",
       "      <td>в разводе</td>\n",
       "      <td>3</td>\n",
       "      <td>F</td>\n",
       "      <td>сотрудник</td>\n",
       "      <td>0</td>\n",
       "      <td>242831.107982</td>\n",
       "      <td>на покупку своего автомобиля</td>\n",
       "    </tr>\n",
       "  </tbody>\n",
       "</table>\n",
       "</div>"
      ],
      "text/plain": [
       "    children  days_employed  dob_years            education  education_id  \\\n",
       "0          1   -8437.673028         42               высшее             0   \n",
       "1          1   -4024.803754         36              среднее             1   \n",
       "2          0   -5623.422610         33              Среднее             1   \n",
       "3          3   -4124.747207         32              среднее             1   \n",
       "4          0  340266.072047         53              среднее             1   \n",
       "5          0    -926.185831         27               высшее             0   \n",
       "6          0   -2879.202052         43               высшее             0   \n",
       "7          0    -152.779569         50              СРЕДНЕЕ             1   \n",
       "8          2   -6929.865299         35               ВЫСШЕЕ             0   \n",
       "9          0   -2188.756445         41              среднее             1   \n",
       "10         2   -4171.483647         36               высшее             0   \n",
       "11         0    -792.701887         40              среднее             1   \n",
       "12         0            NaN         65              среднее             1   \n",
       "13         0   -1846.641941         54  неоконченное высшее             2   \n",
       "14         0   -1844.956182         56               высшее             0   \n",
       "15         1    -972.364419         26              среднее             1   \n",
       "16         0   -1719.934226         35              среднее             1   \n",
       "17         0   -2369.999720         33               высшее             0   \n",
       "18         0  400281.136913         53              среднее             1   \n",
       "19         0  -10038.818549         48              СРЕДНЕЕ             1   \n",
       "\n",
       "       family_status  family_status_id gender income_type  debt  \\\n",
       "0    женат / замужем                 0      F   сотрудник     0   \n",
       "1    женат / замужем                 0      F   сотрудник     0   \n",
       "2    женат / замужем                 0      M   сотрудник     0   \n",
       "3    женат / замужем                 0      M   сотрудник     0   \n",
       "4   гражданский брак                 1      F   пенсионер     0   \n",
       "5   гражданский брак                 1      M   компаньон     0   \n",
       "6    женат / замужем                 0      F   компаньон     0   \n",
       "7    женат / замужем                 0      M   сотрудник     0   \n",
       "8   гражданский брак                 1      F   сотрудник     0   \n",
       "9    женат / замужем                 0      M   сотрудник     0   \n",
       "10   женат / замужем                 0      M   компаньон     0   \n",
       "11   женат / замужем                 0      F   сотрудник     0   \n",
       "12  гражданский брак                 1      M   пенсионер     0   \n",
       "13   женат / замужем                 0      F   сотрудник     0   \n",
       "14  гражданский брак                 1      F   компаньон     1   \n",
       "15   женат / замужем                 0      F   сотрудник     0   \n",
       "16   женат / замужем                 0      F   сотрудник     0   \n",
       "17  гражданский брак                 1      M   сотрудник     0   \n",
       "18    вдовец / вдова                 2      F   пенсионер     0   \n",
       "19         в разводе                 3      F   сотрудник     0   \n",
       "\n",
       "     total_income                                 purpose  \n",
       "0   253875.639453                           покупка жилья  \n",
       "1   112080.014102                 приобретение автомобиля  \n",
       "2   145885.952297                           покупка жилья  \n",
       "3   267628.550329              дополнительное образование  \n",
       "4   158616.077870                         сыграть свадьбу  \n",
       "5   255763.565419                           покупка жилья  \n",
       "6   240525.971920                       операции с жильем  \n",
       "7   135823.934197                             образование  \n",
       "8    95856.832424                   на проведение свадьбы  \n",
       "9   144425.938277                 покупка жилья для семьи  \n",
       "10  113943.491460                    покупка недвижимости  \n",
       "11   77069.234271       покупка коммерческой недвижимости  \n",
       "12            NaN                         сыграть свадьбу  \n",
       "13  130458.228857                 приобретение автомобиля  \n",
       "14  165127.911772              покупка жилой недвижимости  \n",
       "15  116820.904450  строительство собственной недвижимости  \n",
       "16  289202.704229                            недвижимость  \n",
       "17   90410.586745              строительство недвижимости  \n",
       "18   56823.777243      на покупку подержанного автомобиля  \n",
       "19  242831.107982            на покупку своего автомобиля  "
      ]
     },
     "execution_count": 2,
     "metadata": {},
     "output_type": "execute_result"
    }
   ],
   "source": [
    "data.head(20)"
   ]
  },
  {
   "cell_type": "markdown",
   "id": "eae98c5d",
   "metadata": {
    "deletable": false,
    "editable": false,
    "id": "1c12e233"
   },
   "source": [
    "**Задание 3. Выведите основную информацию о датафрейме с помощью метода `info()`.**"
   ]
  },
  {
   "cell_type": "code",
   "execution_count": 3,
   "id": "c8d395d9",
   "metadata": {
    "deletable": false,
    "id": "2b757bca",
    "outputId": "15376089-8dad-46c9-b520-c05248d43158"
   },
   "outputs": [
    {
     "name": "stdout",
     "output_type": "stream",
     "text": [
      "<class 'pandas.core.frame.DataFrame'>\n",
      "RangeIndex: 21525 entries, 0 to 21524\n",
      "Data columns (total 12 columns):\n",
      " #   Column            Non-Null Count  Dtype  \n",
      "---  ------            --------------  -----  \n",
      " 0   children          21525 non-null  int64  \n",
      " 1   days_employed     19351 non-null  float64\n",
      " 2   dob_years         21525 non-null  int64  \n",
      " 3   education         21525 non-null  object \n",
      " 4   education_id      21525 non-null  int64  \n",
      " 5   family_status     21525 non-null  object \n",
      " 6   family_status_id  21525 non-null  int64  \n",
      " 7   gender            21525 non-null  object \n",
      " 8   income_type       21525 non-null  object \n",
      " 9   debt              21525 non-null  int64  \n",
      " 10  total_income      19351 non-null  float64\n",
      " 11  purpose           21525 non-null  object \n",
      "dtypes: float64(2), int64(5), object(5)\n",
      "memory usage: 2.0+ MB\n"
     ]
    }
   ],
   "source": [
    "data.info()"
   ]
  },
  {
   "cell_type": "markdown",
   "id": "5f5de183",
   "metadata": {
    "deletable": false,
    "editable": false,
    "id": "333ec665"
   },
   "source": [
    "## Предобработка данных"
   ]
  },
  {
   "cell_type": "markdown",
   "id": "a89f4b8a",
   "metadata": {
    "deletable": false,
    "editable": false,
    "id": "02d92d53"
   },
   "source": [
    "### Удаление пропусков"
   ]
  },
  {
   "cell_type": "markdown",
   "id": "3e4e737b",
   "metadata": {
    "deletable": false,
    "editable": false,
    "id": "cd84967c"
   },
   "source": [
    "**Задание 4. Выведите количество пропущенных значений для каждого столбца. Используйте комбинацию двух методов.**"
   ]
  },
  {
   "cell_type": "code",
   "execution_count": 4,
   "id": "6fbadf9e",
   "metadata": {
    "deletable": false,
    "id": "7f9b2309",
    "outputId": "81f4d817-781c-465c-ed15-91ce4446810d"
   },
   "outputs": [
    {
     "data": {
      "text/plain": [
       "children               0\n",
       "days_employed       2174\n",
       "dob_years              0\n",
       "education              0\n",
       "education_id           0\n",
       "family_status          0\n",
       "family_status_id       0\n",
       "gender                 0\n",
       "income_type            0\n",
       "debt                   0\n",
       "total_income        2174\n",
       "purpose                0\n",
       "dtype: int64"
      ]
     },
     "execution_count": 4,
     "metadata": {},
     "output_type": "execute_result"
    }
   ],
   "source": [
    "data.isna().sum()"
   ]
  },
  {
   "cell_type": "markdown",
   "id": "5a29e38d",
   "metadata": {
    "deletable": false,
    "editable": false,
    "id": "db86e27b"
   },
   "source": [
    "**Задание 5. В двух столбцах есть пропущенные значения. Один из них — `days_employed`. Пропуски в этом столбце вы обработаете на следующем этапе. Другой столбец с пропущенными значениями — `total_income` — хранит данные о доходах. На сумму дохода сильнее всего влияет тип занятости, поэтому заполнить пропуски в этом столбце нужно медианным значением по каждому типу из столбца `income_type`. Например, у человека с типом занятости `сотрудник` пропуск в столбце `total_income` должен быть заполнен медианным доходом среди всех записей с тем же типом.**"
   ]
  },
  {
   "cell_type": "code",
   "execution_count": 5,
   "id": "4fb7ee2b",
   "metadata": {
    "deletable": false,
    "id": "42006a93"
   },
   "outputs": [],
   "source": [
    "for t in data['income_type'].unique():\n",
    "    data.loc[(data['income_type'] == t) & (data['total_income'].isna()), 'total_income'] = \\\n",
    "    data.loc[(data['income_type'] == t), 'total_income'].median()"
   ]
  },
  {
   "cell_type": "markdown",
   "id": "2c48304b",
   "metadata": {
    "deletable": false,
    "editable": false,
    "id": "89da5ece"
   },
   "source": [
    "### Обработка аномальных значений"
   ]
  },
  {
   "cell_type": "markdown",
   "id": "25bedde0",
   "metadata": {
    "deletable": false,
    "editable": false,
    "id": "57964554"
   },
   "source": [
    "**Задание 6. В данных могут встречаться артефакты (аномалии) — значения, которые не отражают действительность и появились по какой-то ошибке. таким артефактом будет отрицательное количество дней трудового стажа в столбце `days_employed`. Для реальных данных это нормально. Обработайте значения в этом столбце: замените все отрицательные значения положительными с помощью метода `abs()`.**"
   ]
  },
  {
   "cell_type": "code",
   "execution_count": 6,
   "id": "950f1577",
   "metadata": {
    "deletable": false,
    "id": "f6f055bf"
   },
   "outputs": [],
   "source": [
    "data['days_employed'] = data['days_employed'].abs()"
   ]
  },
  {
   "cell_type": "markdown",
   "id": "b0ed9535",
   "metadata": {
    "deletable": false,
    "editable": false,
    "id": "6107dd2f"
   },
   "source": [
    "**Задание 7. Для каждого типа занятости выведите медианное значение трудового стажа `days_employed` в днях.**"
   ]
  },
  {
   "cell_type": "code",
   "execution_count": 7,
   "id": "3f85bb8c",
   "metadata": {
    "deletable": false,
    "id": "85a5faf6",
    "outputId": "801ef80e-522b-4668-f34e-565af7432bcf"
   },
   "outputs": [
    {
     "data": {
      "text/plain": [
       "income_type\n",
       "безработный        366413.652744\n",
       "в декрете            3296.759962\n",
       "госслужащий          2689.368353\n",
       "компаньон            1547.382223\n",
       "пенсионер          365213.306266\n",
       "предприниматель       520.848083\n",
       "сотрудник            1574.202821\n",
       "студент               578.751554\n",
       "Name: days_employed, dtype: float64"
      ]
     },
     "execution_count": 7,
     "metadata": {},
     "output_type": "execute_result"
    }
   ],
   "source": [
    "data.groupby('income_type')['days_employed'].agg('median')"
   ]
  },
  {
   "cell_type": "markdown",
   "id": "a998af96",
   "metadata": {
    "deletable": false,
    "editable": false,
    "id": "38d1a030"
   },
   "source": [
    "У двух типов (безработные и пенсионеры) получатся аномально большие значения. Исправить такие значения сложно, поэтому оставьте их как есть. Тем более этот столбец не понадобится вам для исследования."
   ]
  },
  {
   "cell_type": "markdown",
   "id": "ee168050",
   "metadata": {
    "deletable": false,
    "editable": false,
    "id": "d8a9f147"
   },
   "source": [
    "**Задание 8. Выведите перечень уникальных значений столбца `children`.**"
   ]
  },
  {
   "cell_type": "code",
   "execution_count": 8,
   "id": "69ae9912",
   "metadata": {
    "deletable": false,
    "id": "ef5056eb",
    "outputId": "6975b15c-7f95-4697-d16d-a0c79b657b03"
   },
   "outputs": [
    {
     "data": {
      "text/plain": [
       "array([ 1,  0,  3,  2, -1,  4, 20,  5])"
      ]
     },
     "execution_count": 8,
     "metadata": {},
     "output_type": "execute_result"
    }
   ],
   "source": [
    "data['children'].unique()"
   ]
  },
  {
   "cell_type": "markdown",
   "id": "88775f01",
   "metadata": {
    "deletable": false,
    "editable": false,
    "id": "40b9ebf2"
   },
   "source": [
    "**Задание 9. В столбце `children` есть два аномальных значения. Удалите строки, в которых встречаются такие аномальные значения из датафрейма `data`.**"
   ]
  },
  {
   "cell_type": "code",
   "execution_count": 9,
   "id": "9c93bf4c",
   "metadata": {
    "deletable": false,
    "id": "3ff9801d"
   },
   "outputs": [],
   "source": [
    "data = data[(data['children'] != -1) & (data['children'] != 20)]"
   ]
  },
  {
   "cell_type": "markdown",
   "id": "bb85ee3a",
   "metadata": {
    "deletable": false,
    "editable": false,
    "id": "bbc4d0ce"
   },
   "source": [
    "**Задание 10. Ещё раз выведите перечень уникальных значений столбца `children`, чтобы убедиться, что артефакты удалены.**"
   ]
  },
  {
   "cell_type": "code",
   "execution_count": 10,
   "id": "50c377a5",
   "metadata": {
    "deletable": false,
    "id": "ad4fa8b7",
    "outputId": "b2097101-d49d-44d9-901b-32a65c9463d1"
   },
   "outputs": [
    {
     "data": {
      "text/plain": [
       "array([1, 0, 3, 2, 4, 5])"
      ]
     },
     "execution_count": 10,
     "metadata": {},
     "output_type": "execute_result"
    }
   ],
   "source": [
    "data['children'].unique()"
   ]
  },
  {
   "cell_type": "markdown",
   "id": "86a82611",
   "metadata": {
    "deletable": false,
    "editable": false,
    "id": "75440b63"
   },
   "source": [
    "### Удаление пропусков (продолжение)"
   ]
  },
  {
   "cell_type": "markdown",
   "id": "d6babfaa",
   "metadata": {
    "deletable": false,
    "editable": false,
    "id": "f4ea573f"
   },
   "source": [
    "**Задание 11. Заполните пропуски в столбце `days_employed` медианными значениями по каждого типа занятости `income_type`.**"
   ]
  },
  {
   "cell_type": "code",
   "execution_count": 11,
   "id": "693f6bf8",
   "metadata": {
    "deletable": false,
    "id": "af6b1a7e"
   },
   "outputs": [],
   "source": [
    "for t in data['income_type'].unique():\n",
    "    data.loc[(data['income_type'] == t) & (data['days_employed'].isna()), 'days_employed'] = \\\n",
    "    data.loc[(data['income_type'] == t), 'days_employed'].median()"
   ]
  },
  {
   "cell_type": "markdown",
   "id": "1c86255a",
   "metadata": {
    "deletable": false,
    "editable": false,
    "id": "2753f40d"
   },
   "source": [
    "**Задание 12. Убедитесь, что все пропуски заполнены. Проверьте себя и ещё раз выведите количество пропущенных значений для каждого столбца с помощью двух методов.**"
   ]
  },
  {
   "cell_type": "code",
   "execution_count": 12,
   "id": "91d5935b",
   "metadata": {
    "deletable": false,
    "id": "55f78bc2",
    "outputId": "8da1e4e1-358e-4e87-98c9-f261bce0a7b2"
   },
   "outputs": [
    {
     "data": {
      "text/plain": [
       "children            0\n",
       "days_employed       0\n",
       "dob_years           0\n",
       "education           0\n",
       "education_id        0\n",
       "family_status       0\n",
       "family_status_id    0\n",
       "gender              0\n",
       "income_type         0\n",
       "debt                0\n",
       "total_income        0\n",
       "purpose             0\n",
       "dtype: int64"
      ]
     },
     "execution_count": 12,
     "metadata": {},
     "output_type": "execute_result"
    }
   ],
   "source": [
    "data.isna().sum()"
   ]
  },
  {
   "cell_type": "markdown",
   "id": "d2c8ad33",
   "metadata": {
    "deletable": false,
    "editable": false,
    "id": "ddc81e43"
   },
   "source": [
    "### Изменение типов данных"
   ]
  },
  {
   "cell_type": "markdown",
   "id": "e8903fe2",
   "metadata": {
    "deletable": false,
    "editable": false,
    "id": "42d19d24"
   },
   "source": [
    "**Задание 13. Замените вещественный тип данных в столбце `total_income` на целочисленный с помощью метода `astype()`.**"
   ]
  },
  {
   "cell_type": "code",
   "execution_count": 13,
   "id": "d41acff3",
   "metadata": {
    "deletable": false,
    "id": "920b65ad"
   },
   "outputs": [],
   "source": [
    "data['total_income'] = data['total_income'].astype(int)"
   ]
  },
  {
   "cell_type": "markdown",
   "id": "047c0127",
   "metadata": {
    "deletable": false,
    "editable": false,
    "id": "80c420ba"
   },
   "source": [
    "### Обработка дубликатов"
   ]
  },
  {
   "cell_type": "markdown",
   "id": "92c1acb0",
   "metadata": {
    "deletable": false,
    "editable": false
   },
   "source": [
    "**Задание 14. Обработайте неявные дубликаты в столбце `education`. В этом столбце есть одни и те же значения, но записанные по-разному: с использованием заглавных и строчных букв. Приведите их к нижнему регистру. Проверьте остальные столбцы.**"
   ]
  },
  {
   "cell_type": "code",
   "execution_count": 14,
   "id": "23a4a787",
   "metadata": {
    "deletable": false
   },
   "outputs": [],
   "source": [
    "data['education'] = data['education'].str.lower()"
   ]
  },
  {
   "cell_type": "markdown",
   "id": "25b5e929",
   "metadata": {
    "deletable": false,
    "editable": false,
    "id": "dc587695"
   },
   "source": [
    "**Задание 15. Выведите на экран количество строк-дубликатов в данных. Если такие строки присутствуют, удалите их.**"
   ]
  },
  {
   "cell_type": "code",
   "execution_count": 15,
   "id": "3675d367",
   "metadata": {
    "deletable": false,
    "id": "3ee445e4",
    "outputId": "9684deba-1934-42d1-99e1-cda61740f822"
   },
   "outputs": [
    {
     "data": {
      "text/plain": [
       "71"
      ]
     },
     "execution_count": 15,
     "metadata": {},
     "output_type": "execute_result"
    }
   ],
   "source": [
    "data.duplicated().sum()"
   ]
  },
  {
   "cell_type": "code",
   "execution_count": 16,
   "id": "b30e2617",
   "metadata": {
    "deletable": false,
    "id": "8575fe05"
   },
   "outputs": [],
   "source": [
    "data = data.drop_duplicates()"
   ]
  },
  {
   "cell_type": "markdown",
   "id": "76ef2577",
   "metadata": {
    "deletable": false,
    "editable": false,
    "id": "9904cf55"
   },
   "source": [
    "### Категоризация данных"
   ]
  },
  {
   "cell_type": "markdown",
   "id": "43e01440",
   "metadata": {
    "deletable": false,
    "editable": false,
    "id": "72fcc8a2"
   },
   "source": [
    "**Задание 16. На основании диапазонов, указанных ниже, создайте в датафрейме `data` столбец `total_income_category` с категориями:**\n",
    "\n",
    "- 0–30000 — `'E'`;\n",
    "- 30001–50000 — `'D'`;\n",
    "- 50001–200000 — `'C'`;\n",
    "- 200001–1000000 — `'B'`;\n",
    "- 1000001 и выше — `'A'`.\n",
    "\n",
    "\n",
    "**Например, кредитополучателю с доходом 25000 нужно назначить категорию `'E'`, а клиенту, получающему 235000, — `'B'`. Используйте собственную функцию с именем `categorize_income()` и метод `apply()`.**"
   ]
  },
  {
   "cell_type": "code",
   "execution_count": 17,
   "id": "32c71b35",
   "metadata": {
    "deletable": false,
    "id": "e1771346"
   },
   "outputs": [],
   "source": [
    "def categorize_income(income):\n",
    "    try:\n",
    "        if 0 <= income <= 30000:\n",
    "            return 'E'\n",
    "        elif 30001 <= income <= 50000:\n",
    "            return 'D'\n",
    "        elif 50001 <= income <= 200000:\n",
    "            return 'C'\n",
    "        elif 200001 <= income <= 1000000:\n",
    "            return 'B'\n",
    "        elif income >= 1000001:\n",
    "            return 'A'\n",
    "    except:\n",
    "        pass"
   ]
  },
  {
   "cell_type": "code",
   "execution_count": 18,
   "id": "86e0abda",
   "metadata": {
    "deletable": false,
    "id": "d5f3586d"
   },
   "outputs": [],
   "source": [
    "data['total_income_category'] = data['total_income'].apply(categorize_income)"
   ]
  },
  {
   "cell_type": "markdown",
   "id": "7bc014f5",
   "metadata": {
    "deletable": false,
    "editable": false,
    "id": "dde49b5c"
   },
   "source": [
    "**Задание 17. Выведите на экран перечень уникальных целей взятия кредита из столбца `purpose`.**"
   ]
  },
  {
   "cell_type": "code",
   "execution_count": 19,
   "id": "8a1e3b11",
   "metadata": {
    "deletable": false,
    "id": "f67ce9b3",
    "outputId": "673c12d9-7d7e-4ae0-9812-c622c89dd244"
   },
   "outputs": [
    {
     "data": {
      "text/plain": [
       "array(['покупка жилья', 'приобретение автомобиля',\n",
       "       'дополнительное образование', 'сыграть свадьбу',\n",
       "       'операции с жильем', 'образование', 'на проведение свадьбы',\n",
       "       'покупка жилья для семьи', 'покупка недвижимости',\n",
       "       'покупка коммерческой недвижимости', 'покупка жилой недвижимости',\n",
       "       'строительство собственной недвижимости', 'недвижимость',\n",
       "       'строительство недвижимости', 'на покупку подержанного автомобиля',\n",
       "       'на покупку своего автомобиля',\n",
       "       'операции с коммерческой недвижимостью',\n",
       "       'строительство жилой недвижимости', 'жилье',\n",
       "       'операции со своей недвижимостью', 'автомобили',\n",
       "       'заняться образованием', 'сделка с подержанным автомобилем',\n",
       "       'получение образования', 'автомобиль', 'свадьба',\n",
       "       'получение дополнительного образования', 'покупка своего жилья',\n",
       "       'операции с недвижимостью', 'получение высшего образования',\n",
       "       'свой автомобиль', 'сделка с автомобилем',\n",
       "       'профильное образование', 'высшее образование',\n",
       "       'покупка жилья для сдачи', 'на покупку автомобиля', 'ремонт жилью',\n",
       "       'заняться высшим образованием'], dtype=object)"
      ]
     },
     "execution_count": 19,
     "metadata": {},
     "output_type": "execute_result"
    }
   ],
   "source": [
    "data['purpose'].unique()"
   ]
  },
  {
   "cell_type": "markdown",
   "id": "8ea357cd",
   "metadata": {
    "deletable": false,
    "editable": false,
    "id": "85d0aef0"
   },
   "source": [
    "**Задание 18. Создайте функцию, которая на основании данных из столбца `purpose` сформирует новый столбец `purpose_category`, в который войдут следующие категории:**\n",
    "\n",
    "- `'операции с автомобилем'`,\n",
    "- `'операции с недвижимостью'`,\n",
    "- `'проведение свадьбы'`,\n",
    "- `'получение образования'`.\n",
    "\n",
    "**Например, если в столбце `purpose` находится подстрока `'на покупку автомобиля'`, то в столбце `purpose_category` должна появиться строка `'операции с автомобилем'`.**\n",
    "\n",
    "**Используйте собственную функцию с именем `categorize_purpose()` и метод `apply()`. Изучите данные в столбце `purpose` и определите, какие подстроки помогут вам правильно определить категорию.**"
   ]
  },
  {
   "cell_type": "code",
   "execution_count": 20,
   "id": "4fedb031",
   "metadata": {
    "deletable": false,
    "id": "e149fab4"
   },
   "outputs": [],
   "source": [
    "def categorize_purpose(row):\n",
    "    try:\n",
    "        if 'автом' in row:\n",
    "            return 'операции с автомобилем'\n",
    "        elif 'жил' in row or 'недвиж' in row:\n",
    "            return 'операции с недвижимостью'\n",
    "        elif 'свад' in row:\n",
    "            return 'проведение свадьбы'\n",
    "        elif 'образов' in row:\n",
    "            return 'получение образования'\n",
    "    except:\n",
    "        return 'нет категории'"
   ]
  },
  {
   "cell_type": "code",
   "execution_count": 21,
   "id": "6ec22ab4",
   "metadata": {
    "deletable": false,
    "id": "bf36e69b"
   },
   "outputs": [],
   "source": [
    "data['purpose_category'] = data['purpose'].apply(categorize_purpose)"
   ]
  },
  {
   "cell_type": "markdown",
   "id": "b6318576",
   "metadata": {
    "deletable": false,
    "editable": false,
    "id": "09b242bf"
   },
   "source": [
    "### Шаг 3. Исследуйте данные и ответьте на вопросы"
   ]
  },
  {
   "cell_type": "markdown",
   "id": "a2edef7a",
   "metadata": {
    "deletable": false,
    "editable": false,
    "id": "c5d66278"
   },
   "source": [
    "#### 3.1 Есть ли зависимость между количеством детей и возвратом кредита в срок?"
   ]
  },
  {
   "cell_type": "code",
   "execution_count": 22,
   "id": "57c1f9c1",
   "metadata": {},
   "outputs": [],
   "source": [
    "def conversion(column):\n",
    "    conv_table = data.pivot_table(index = column, values = 'debt', aggfunc = ['sum', 'count', 'mean'])\n",
    "    conv_table.columns = ['Всего должников', 'Всего кредитополучателей', 'Доля должников']\n",
    "    conv_table = conv_table.sort_values(by = ['Доля должников'], ascending=False)\n",
    "    return(conv_table.style.format({'Доля должников': '{:.2%}'}))"
   ]
  },
  {
   "cell_type": "code",
   "execution_count": 23,
   "id": "5a1035a3",
   "metadata": {
    "deletable": false,
    "id": "2cacfc4a"
   },
   "outputs": [
    {
     "data": {
      "text/html": [
       "<style  type=\"text/css\" >\n",
       "</style><table id=\"T_7462b_\" ><thead>    <tr>        <th class=\"blank level0\" ></th>        <th class=\"col_heading level0 col0\" >Всего должников</th>        <th class=\"col_heading level0 col1\" >Всего кредитополучателей</th>        <th class=\"col_heading level0 col2\" >Доля должников</th>    </tr>    <tr>        <th class=\"index_name level0\" >children</th>        <th class=\"blank\" ></th>        <th class=\"blank\" ></th>        <th class=\"blank\" ></th>    </tr></thead><tbody>\n",
       "                <tr>\n",
       "                        <th id=\"T_7462b_level0_row0\" class=\"row_heading level0 row0\" >4</th>\n",
       "                        <td id=\"T_7462b_row0_col0\" class=\"data row0 col0\" >4</td>\n",
       "                        <td id=\"T_7462b_row0_col1\" class=\"data row0 col1\" >41</td>\n",
       "                        <td id=\"T_7462b_row0_col2\" class=\"data row0 col2\" >9.76%</td>\n",
       "            </tr>\n",
       "            <tr>\n",
       "                        <th id=\"T_7462b_level0_row1\" class=\"row_heading level0 row1\" >2</th>\n",
       "                        <td id=\"T_7462b_row1_col0\" class=\"data row1 col0\" >194</td>\n",
       "                        <td id=\"T_7462b_row1_col1\" class=\"data row1 col1\" >2052</td>\n",
       "                        <td id=\"T_7462b_row1_col2\" class=\"data row1 col2\" >9.45%</td>\n",
       "            </tr>\n",
       "            <tr>\n",
       "                        <th id=\"T_7462b_level0_row2\" class=\"row_heading level0 row2\" >1</th>\n",
       "                        <td id=\"T_7462b_row2_col0\" class=\"data row2 col0\" >444</td>\n",
       "                        <td id=\"T_7462b_row2_col1\" class=\"data row2 col1\" >4808</td>\n",
       "                        <td id=\"T_7462b_row2_col2\" class=\"data row2 col2\" >9.23%</td>\n",
       "            </tr>\n",
       "            <tr>\n",
       "                        <th id=\"T_7462b_level0_row3\" class=\"row_heading level0 row3\" >3</th>\n",
       "                        <td id=\"T_7462b_row3_col0\" class=\"data row3 col0\" >27</td>\n",
       "                        <td id=\"T_7462b_row3_col1\" class=\"data row3 col1\" >330</td>\n",
       "                        <td id=\"T_7462b_row3_col2\" class=\"data row3 col2\" >8.18%</td>\n",
       "            </tr>\n",
       "            <tr>\n",
       "                        <th id=\"T_7462b_level0_row4\" class=\"row_heading level0 row4\" >0</th>\n",
       "                        <td id=\"T_7462b_row4_col0\" class=\"data row4 col0\" >1063</td>\n",
       "                        <td id=\"T_7462b_row4_col1\" class=\"data row4 col1\" >14091</td>\n",
       "                        <td id=\"T_7462b_row4_col2\" class=\"data row4 col2\" >7.54%</td>\n",
       "            </tr>\n",
       "            <tr>\n",
       "                        <th id=\"T_7462b_level0_row5\" class=\"row_heading level0 row5\" >5</th>\n",
       "                        <td id=\"T_7462b_row5_col0\" class=\"data row5 col0\" >0</td>\n",
       "                        <td id=\"T_7462b_row5_col1\" class=\"data row5 col1\" >9</td>\n",
       "                        <td id=\"T_7462b_row5_col2\" class=\"data row5 col2\" >0.00%</td>\n",
       "            </tr>\n",
       "    </tbody></table>"
      ],
      "text/plain": [
       "<pandas.io.formats.style.Styler at 0x7fa8e644c3a0>"
      ]
     },
     "execution_count": 23,
     "metadata": {},
     "output_type": "execute_result"
    }
   ],
   "source": [
    "conversion('children')"
   ]
  },
  {
   "cell_type": "markdown",
   "id": "f9705931",
   "metadata": {
    "deletable": false,
    "id": "3a6b99ec"
   },
   "source": [
    "    Вывод: Из данной таблицы видно, что процент не выплаты кредита в срок больше у клиентов с детьми. И подавляющее большинство просрочек в семьях которых от 1 до 2 детей, но это связано с тем, что таких семей в принципе больше, чем семей с 3 и более детьми."
   ]
  },
  {
   "cell_type": "markdown",
   "id": "7aba4585",
   "metadata": {},
   "source": [
    "Не уверен, что правильно понял про переименования столбцов, но функцию написал"
   ]
  },
  {
   "cell_type": "markdown",
   "id": "a825afc0",
   "metadata": {
    "deletable": false,
    "editable": false,
    "id": "97be82ca"
   },
   "source": [
    "#### 3.2 Есть ли зависимость между семейным положением и возвратом кредита в срок?"
   ]
  },
  {
   "cell_type": "code",
   "execution_count": 24,
   "id": "facf26ab",
   "metadata": {
    "deletable": false,
    "id": "dc3f7ee8",
    "scrolled": true
   },
   "outputs": [
    {
     "data": {
      "text/html": [
       "<style  type=\"text/css\" >\n",
       "</style><table id=\"T_2c614_\" ><thead>    <tr>        <th class=\"blank level0\" ></th>        <th class=\"col_heading level0 col0\" >Всего должников</th>        <th class=\"col_heading level0 col1\" >Всего кредитополучателей</th>        <th class=\"col_heading level0 col2\" >Доля должников</th>    </tr>    <tr>        <th class=\"index_name level0\" >family_status</th>        <th class=\"blank\" ></th>        <th class=\"blank\" ></th>        <th class=\"blank\" ></th>    </tr></thead><tbody>\n",
       "                <tr>\n",
       "                        <th id=\"T_2c614_level0_row0\" class=\"row_heading level0 row0\" >Не женат / не замужем</th>\n",
       "                        <td id=\"T_2c614_row0_col0\" class=\"data row0 col0\" >273</td>\n",
       "                        <td id=\"T_2c614_row0_col1\" class=\"data row0 col1\" >2796</td>\n",
       "                        <td id=\"T_2c614_row0_col2\" class=\"data row0 col2\" >9.76%</td>\n",
       "            </tr>\n",
       "            <tr>\n",
       "                        <th id=\"T_2c614_level0_row1\" class=\"row_heading level0 row1\" >гражданский брак</th>\n",
       "                        <td id=\"T_2c614_row1_col0\" class=\"data row1 col0\" >385</td>\n",
       "                        <td id=\"T_2c614_row1_col1\" class=\"data row1 col1\" >4134</td>\n",
       "                        <td id=\"T_2c614_row1_col2\" class=\"data row1 col2\" >9.31%</td>\n",
       "            </tr>\n",
       "            <tr>\n",
       "                        <th id=\"T_2c614_level0_row2\" class=\"row_heading level0 row2\" >женат / замужем</th>\n",
       "                        <td id=\"T_2c614_row2_col0\" class=\"data row2 col0\" >927</td>\n",
       "                        <td id=\"T_2c614_row2_col1\" class=\"data row2 col1\" >12261</td>\n",
       "                        <td id=\"T_2c614_row2_col2\" class=\"data row2 col2\" >7.56%</td>\n",
       "            </tr>\n",
       "            <tr>\n",
       "                        <th id=\"T_2c614_level0_row3\" class=\"row_heading level0 row3\" >в разводе</th>\n",
       "                        <td id=\"T_2c614_row3_col0\" class=\"data row3 col0\" >84</td>\n",
       "                        <td id=\"T_2c614_row3_col1\" class=\"data row3 col1\" >1189</td>\n",
       "                        <td id=\"T_2c614_row3_col2\" class=\"data row3 col2\" >7.06%</td>\n",
       "            </tr>\n",
       "            <tr>\n",
       "                        <th id=\"T_2c614_level0_row4\" class=\"row_heading level0 row4\" >вдовец / вдова</th>\n",
       "                        <td id=\"T_2c614_row4_col0\" class=\"data row4 col0\" >63</td>\n",
       "                        <td id=\"T_2c614_row4_col1\" class=\"data row4 col1\" >951</td>\n",
       "                        <td id=\"T_2c614_row4_col2\" class=\"data row4 col2\" >6.62%</td>\n",
       "            </tr>\n",
       "    </tbody></table>"
      ],
      "text/plain": [
       "<pandas.io.formats.style.Styler at 0x7fa8e64358b0>"
      ]
     },
     "execution_count": 24,
     "metadata": {},
     "output_type": "execute_result"
    }
   ],
   "source": [
    "# Ваш код будет здесь. Вы можете создавать новые ячейки.\n",
    "conversion('family_status')"
   ]
  },
  {
   "cell_type": "markdown",
   "id": "e510d678",
   "metadata": {
    "deletable": false,
    "id": "1cef7837"
   },
   "source": [
    "Вывод: Из данной таблицы видно, что самые дисциплинированные плательщики женатые либо кто был ранее женат/замужем. Возможно по причине большей ответственности перед семьей."
   ]
  },
  {
   "cell_type": "markdown",
   "id": "3118d994",
   "metadata": {
    "deletable": false,
    "editable": false,
    "id": "1e8b2fca"
   },
   "source": [
    "#### 3.3 Есть ли зависимость между уровнем дохода и возвратом кредита в срок?"
   ]
  },
  {
   "cell_type": "code",
   "execution_count": 25,
   "id": "4784d8dc",
   "metadata": {
    "deletable": false,
    "id": "cd7e3720"
   },
   "outputs": [
    {
     "name": "stdout",
     "output_type": "stream",
     "text": [
      "Категории по уровню дохода:\n",
      "E — 0–30000,\n",
      "D — 30001–50000,\n",
      "C — 50001–200000,\n",
      "B — 200001–1000000,\n",
      "A — 1000001 и выше\n"
     ]
    },
    {
     "data": {
      "text/html": [
       "<style  type=\"text/css\" >\n",
       "</style><table id=\"T_c8423_\" ><thead>    <tr>        <th class=\"blank level0\" ></th>        <th class=\"col_heading level0 col0\" >Всего должников</th>        <th class=\"col_heading level0 col1\" >Всего кредитополучателей</th>        <th class=\"col_heading level0 col2\" >Доля должников</th>    </tr>    <tr>        <th class=\"index_name level0\" >total_income_category</th>        <th class=\"blank\" ></th>        <th class=\"blank\" ></th>        <th class=\"blank\" ></th>    </tr></thead><tbody>\n",
       "                <tr>\n",
       "                        <th id=\"T_c8423_level0_row0\" class=\"row_heading level0 row0\" >E</th>\n",
       "                        <td id=\"T_c8423_row0_col0\" class=\"data row0 col0\" >2</td>\n",
       "                        <td id=\"T_c8423_row0_col1\" class=\"data row0 col1\" >22</td>\n",
       "                        <td id=\"T_c8423_row0_col2\" class=\"data row0 col2\" >9.09%</td>\n",
       "            </tr>\n",
       "            <tr>\n",
       "                        <th id=\"T_c8423_level0_row1\" class=\"row_heading level0 row1\" >C</th>\n",
       "                        <td id=\"T_c8423_row1_col0\" class=\"data row1 col0\" >1353</td>\n",
       "                        <td id=\"T_c8423_row1_col1\" class=\"data row1 col1\" >15921</td>\n",
       "                        <td id=\"T_c8423_row1_col2\" class=\"data row1 col2\" >8.50%</td>\n",
       "            </tr>\n",
       "            <tr>\n",
       "                        <th id=\"T_c8423_level0_row2\" class=\"row_heading level0 row2\" >A</th>\n",
       "                        <td id=\"T_c8423_row2_col0\" class=\"data row2 col0\" >2</td>\n",
       "                        <td id=\"T_c8423_row2_col1\" class=\"data row2 col1\" >25</td>\n",
       "                        <td id=\"T_c8423_row2_col2\" class=\"data row2 col2\" >8.00%</td>\n",
       "            </tr>\n",
       "            <tr>\n",
       "                        <th id=\"T_c8423_level0_row3\" class=\"row_heading level0 row3\" >B</th>\n",
       "                        <td id=\"T_c8423_row3_col0\" class=\"data row3 col0\" >354</td>\n",
       "                        <td id=\"T_c8423_row3_col1\" class=\"data row3 col1\" >5014</td>\n",
       "                        <td id=\"T_c8423_row3_col2\" class=\"data row3 col2\" >7.06%</td>\n",
       "            </tr>\n",
       "            <tr>\n",
       "                        <th id=\"T_c8423_level0_row4\" class=\"row_heading level0 row4\" >D</th>\n",
       "                        <td id=\"T_c8423_row4_col0\" class=\"data row4 col0\" >21</td>\n",
       "                        <td id=\"T_c8423_row4_col1\" class=\"data row4 col1\" >349</td>\n",
       "                        <td id=\"T_c8423_row4_col2\" class=\"data row4 col2\" >6.02%</td>\n",
       "            </tr>\n",
       "    </tbody></table>"
      ],
      "text/plain": [
       "<pandas.io.formats.style.Styler at 0x7fa8e6435e50>"
      ]
     },
     "execution_count": 25,
     "metadata": {},
     "output_type": "execute_result"
    }
   ],
   "source": [
    "# Ваш код будет здесь. Вы можете создавать новые ячейки.\n",
    "income_category = '''Категории по уровню дохода:\n",
    "E — 0–30000,\n",
    "D — 30001–50000,\n",
    "C — 50001–200000,\n",
    "B — 200001–1000000,\n",
    "A — 1000001 и выше'''\n",
    "print(income_category)\n",
    "\n",
    "conversion('total_income_category')"
   ]
  },
  {
   "cell_type": "markdown",
   "id": "caa37bc4",
   "metadata": {
    "deletable": false,
    "id": "e8593def"
   },
   "source": [
    "Вывод: Основная масса заемщиков из категории \"C\" - это люди со средним доходом по РФ, но так же и одна из самых безответственных в плане выплаты кредита в срок. Категория \"B\" не задерживает выплаты по кредиту, т.к. их доход выше среднего и думаю они более подкованные в финансовом плане и понимают, чем чревато невыплата кредита в срок."
   ]
  },
  {
   "cell_type": "markdown",
   "id": "f2a3a0b4",
   "metadata": {
    "deletable": false,
    "editable": false,
    "id": "99ecbd1f"
   },
   "source": [
    "#### 3.4 Как разные цели кредита влияют на его возврат в срок?"
   ]
  },
  {
   "cell_type": "code",
   "execution_count": 26,
   "id": "41d9ccbd",
   "metadata": {
    "deletable": false,
    "id": "2b687290"
   },
   "outputs": [
    {
     "data": {
      "text/html": [
       "<style  type=\"text/css\" >\n",
       "</style><table id=\"T_ac77b_\" ><thead>    <tr>        <th class=\"blank level0\" ></th>        <th class=\"col_heading level0 col0\" >Всего должников</th>        <th class=\"col_heading level0 col1\" >Всего кредитополучателей</th>        <th class=\"col_heading level0 col2\" >Доля должников</th>    </tr>    <tr>        <th class=\"index_name level0\" >purpose_category</th>        <th class=\"blank\" ></th>        <th class=\"blank\" ></th>        <th class=\"blank\" ></th>    </tr></thead><tbody>\n",
       "                <tr>\n",
       "                        <th id=\"T_ac77b_level0_row0\" class=\"row_heading level0 row0\" >операции с автомобилем</th>\n",
       "                        <td id=\"T_ac77b_row0_col0\" class=\"data row0 col0\" >400</td>\n",
       "                        <td id=\"T_ac77b_row0_col1\" class=\"data row0 col1\" >4279</td>\n",
       "                        <td id=\"T_ac77b_row0_col2\" class=\"data row0 col2\" >9.35%</td>\n",
       "            </tr>\n",
       "            <tr>\n",
       "                        <th id=\"T_ac77b_level0_row1\" class=\"row_heading level0 row1\" >получение образования</th>\n",
       "                        <td id=\"T_ac77b_row1_col0\" class=\"data row1 col0\" >369</td>\n",
       "                        <td id=\"T_ac77b_row1_col1\" class=\"data row1 col1\" >3988</td>\n",
       "                        <td id=\"T_ac77b_row1_col2\" class=\"data row1 col2\" >9.25%</td>\n",
       "            </tr>\n",
       "            <tr>\n",
       "                        <th id=\"T_ac77b_level0_row2\" class=\"row_heading level0 row2\" >проведение свадьбы</th>\n",
       "                        <td id=\"T_ac77b_row2_col0\" class=\"data row2 col0\" >183</td>\n",
       "                        <td id=\"T_ac77b_row2_col1\" class=\"data row2 col1\" >2313</td>\n",
       "                        <td id=\"T_ac77b_row2_col2\" class=\"data row2 col2\" >7.91%</td>\n",
       "            </tr>\n",
       "            <tr>\n",
       "                        <th id=\"T_ac77b_level0_row3\" class=\"row_heading level0 row3\" >операции с недвижимостью</th>\n",
       "                        <td id=\"T_ac77b_row3_col0\" class=\"data row3 col0\" >780</td>\n",
       "                        <td id=\"T_ac77b_row3_col1\" class=\"data row3 col1\" >10751</td>\n",
       "                        <td id=\"T_ac77b_row3_col2\" class=\"data row3 col2\" >7.26%</td>\n",
       "            </tr>\n",
       "    </tbody></table>"
      ],
      "text/plain": [
       "<pandas.io.formats.style.Styler at 0x7fa8e471b820>"
      ]
     },
     "execution_count": 26,
     "metadata": {},
     "output_type": "execute_result"
    }
   ],
   "source": [
    "# Ваш код будет здесь. Вы можете создавать новые ячейки.\n",
    "conversion('purpose_category')"
   ]
  },
  {
   "cell_type": "markdown",
   "id": "707254bc",
   "metadata": {
    "deletable": false,
    "id": "b4bb2ce6"
   },
   "source": [
    "Вывод: Покупка недвижимости серьезный шаг, поэтому и подходят к нему осознано и с пониманием, что при несвоевременной оплате можно потерять жилье. А вот покупка автомобиля может быть спонтанна и так же не в соответствии с уровнем дохода. "
   ]
  },
  {
   "cell_type": "markdown",
   "id": "af820b0e",
   "metadata": {
    "deletable": false,
    "editable": false,
    "id": "09c3ac4c"
   },
   "source": [
    "#### 3.5 Приведите возможные причины появления пропусков в исходных данных."
   ]
  },
  {
   "cell_type": "markdown",
   "id": "4b1a7229",
   "metadata": {
    "deletable": false,
    "id": "9da2ceda"
   },
   "source": [
    "Ответ: Ошибки ввода данных, сокрытие информации, человеческий фактор, некоректный запрос."
   ]
  },
  {
   "cell_type": "markdown",
   "id": "fc970fae",
   "metadata": {
    "deletable": false,
    "editable": false,
    "id": "7b0487d6"
   },
   "source": [
    "#### 3.6 Объясните, почему заполнить пропуски медианным значением — лучшее решение для количественных переменных."
   ]
  },
  {
   "cell_type": "markdown",
   "id": "cc40f8c6",
   "metadata": {
    "deletable": false,
    "id": "7ecf2b8e"
   },
   "source": [
    "Ответ: Т.к. медиана устойчива к аномальным значениям в данных. На результат не повлияет аномально низкое или аномально большое значение."
   ]
  },
  {
   "cell_type": "markdown",
   "id": "a890f07d",
   "metadata": {
    "deletable": false,
    "editable": false,
    "id": "6db5255a"
   },
   "source": [
    "### Шаг 4: общий вывод."
   ]
  },
  {
   "cell_type": "markdown",
   "id": "05de53e5",
   "metadata": {
    "deletable": false,
    "id": "bad65432"
   },
   "source": [
    "Напишите ваш общий вывод."
   ]
  },
  {
   "cell_type": "markdown",
   "id": "f797ece6",
   "metadata": {},
   "source": [
    " Самые привлекательные клиенты для выдачи им кредита это женатые/замужние люди, без детей, берущие деньги на недвижимость и с доходом от 200001 рублей. \n",
    " А вот одни из самых рискованных клиентов это не женатые/не замужние люди, с 1 или 2 детьми, оформляющие кредит на автомобиль с доходом от 50000 до 200000 рублей"
   ]
  }
 ],
 "metadata": {
  "ExecuteTimeLog": [
   {
    "duration": 50,
    "start_time": "2022-10-20T16:37:58.800Z"
   },
   {
    "duration": 699,
    "start_time": "2022-10-20T16:38:11.721Z"
   },
   {
    "duration": 22,
    "start_time": "2022-10-20T16:38:12.422Z"
   },
   {
    "duration": 14,
    "start_time": "2022-10-20T16:38:12.445Z"
   },
   {
    "duration": 8,
    "start_time": "2022-10-20T16:38:12.461Z"
   },
   {
    "duration": 36,
    "start_time": "2022-10-20T16:38:12.470Z"
   },
   {
    "duration": 4,
    "start_time": "2022-10-20T16:38:12.507Z"
   },
   {
    "duration": 19,
    "start_time": "2022-10-20T16:38:12.512Z"
   },
   {
    "duration": 11,
    "start_time": "2022-10-20T16:38:12.534Z"
   },
   {
    "duration": 8,
    "start_time": "2022-10-20T16:38:12.547Z"
   },
   {
    "duration": 4,
    "start_time": "2022-10-20T16:38:12.556Z"
   },
   {
    "duration": 44,
    "start_time": "2022-10-20T16:38:12.561Z"
   },
   {
    "duration": 12,
    "start_time": "2022-10-20T16:38:12.606Z"
   },
   {
    "duration": 20,
    "start_time": "2022-10-20T16:38:12.620Z"
   },
   {
    "duration": 22,
    "start_time": "2022-10-20T16:38:12.644Z"
   },
   {
    "duration": 30,
    "start_time": "2022-10-20T16:38:12.668Z"
   },
   {
    "duration": 23,
    "start_time": "2022-10-20T16:38:12.700Z"
   },
   {
    "duration": 6,
    "start_time": "2022-10-20T16:38:12.725Z"
   },
   {
    "duration": 26,
    "start_time": "2022-10-20T16:38:12.732Z"
   },
   {
    "duration": 14,
    "start_time": "2022-10-20T16:38:12.760Z"
   },
   {
    "duration": 6,
    "start_time": "2022-10-20T16:38:12.776Z"
   },
   {
    "duration": 21,
    "start_time": "2022-10-20T16:38:12.783Z"
   },
   {
    "duration": 24,
    "start_time": "2022-10-20T16:38:12.806Z"
   },
   {
    "duration": 5,
    "start_time": "2022-10-20T16:38:12.832Z"
   },
   {
    "duration": 5,
    "start_time": "2022-10-20T16:38:12.839Z"
   },
   {
    "duration": 8,
    "start_time": "2022-10-20T16:38:12.846Z"
   },
   {
    "duration": 22,
    "start_time": "2022-10-20T16:39:42.398Z"
   },
   {
    "duration": 17,
    "start_time": "2022-10-20T16:40:05.810Z"
   },
   {
    "duration": 7,
    "start_time": "2022-10-20T16:56:22.359Z"
   },
   {
    "duration": 6,
    "start_time": "2022-10-20T17:04:08.320Z"
   },
   {
    "duration": 6,
    "start_time": "2022-10-20T17:09:59.669Z"
   },
   {
    "duration": 5,
    "start_time": "2022-10-20T17:16:01.558Z"
   },
   {
    "duration": 6,
    "start_time": "2022-10-20T17:16:07.652Z"
   },
   {
    "duration": 10,
    "start_time": "2022-10-20T17:45:23.230Z"
   },
   {
    "duration": 65,
    "start_time": "2022-10-20T17:45:58.384Z"
   },
   {
    "duration": 10,
    "start_time": "2022-10-20T17:46:02.899Z"
   },
   {
    "duration": 10,
    "start_time": "2022-10-20T17:47:14.679Z"
   },
   {
    "duration": 1205,
    "start_time": "2022-10-20T17:51:01.498Z"
   },
   {
    "duration": 1393,
    "start_time": "2022-10-20T17:52:52.888Z"
   },
   {
    "duration": 11,
    "start_time": "2022-10-20T17:53:55.728Z"
   },
   {
    "duration": 10,
    "start_time": "2022-10-20T17:54:19.862Z"
   },
   {
    "duration": 81,
    "start_time": "2022-10-20T17:54:35.554Z"
   },
   {
    "duration": 12,
    "start_time": "2022-10-20T17:55:26.288Z"
   },
   {
    "duration": 1206,
    "start_time": "2022-10-20T17:55:54.946Z"
   },
   {
    "duration": 10,
    "start_time": "2022-10-20T17:56:00.423Z"
   },
   {
    "duration": 69,
    "start_time": "2022-10-20T17:58:54.456Z"
   },
   {
    "duration": 11,
    "start_time": "2022-10-20T17:59:01.583Z"
   },
   {
    "duration": 11,
    "start_time": "2022-10-20T17:59:25.672Z"
   },
   {
    "duration": 10,
    "start_time": "2022-10-20T17:59:40.107Z"
   },
   {
    "duration": 1149,
    "start_time": "2022-10-20T18:06:20.818Z"
   },
   {
    "duration": 16,
    "start_time": "2022-10-20T18:19:12.658Z"
   },
   {
    "duration": 10,
    "start_time": "2022-10-20T18:20:57.032Z"
   },
   {
    "duration": 11,
    "start_time": "2022-10-20T18:22:55.933Z"
   },
   {
    "duration": 12,
    "start_time": "2022-10-20T18:54:39.356Z"
   },
   {
    "duration": 8,
    "start_time": "2022-10-20T18:55:26.578Z"
   },
   {
    "duration": 431,
    "start_time": "2022-10-20T18:56:25.935Z"
   },
   {
    "duration": 14,
    "start_time": "2022-10-20T18:59:21.847Z"
   },
   {
    "duration": 17,
    "start_time": "2022-10-20T19:00:25.936Z"
   },
   {
    "duration": 25,
    "start_time": "2022-10-20T19:01:27.187Z"
   },
   {
    "duration": 17,
    "start_time": "2022-10-20T19:02:15.052Z"
   },
   {
    "duration": 17,
    "start_time": "2022-10-20T19:02:37.284Z"
   },
   {
    "duration": 2525,
    "start_time": "2022-10-20T19:04:21.094Z"
   },
   {
    "duration": 14,
    "start_time": "2022-10-20T19:06:19.959Z"
   },
   {
    "duration": 17,
    "start_time": "2022-10-20T19:07:49.645Z"
   },
   {
    "duration": 55,
    "start_time": "2022-10-22T08:39:23.783Z"
   },
   {
    "duration": 495,
    "start_time": "2022-10-22T08:39:31.673Z"
   },
   {
    "duration": 24,
    "start_time": "2022-10-22T08:39:32.170Z"
   },
   {
    "duration": 15,
    "start_time": "2022-10-22T08:39:32.196Z"
   },
   {
    "duration": 12,
    "start_time": "2022-10-22T08:39:32.214Z"
   },
   {
    "duration": 54,
    "start_time": "2022-10-22T08:39:32.228Z"
   },
   {
    "duration": 5,
    "start_time": "2022-10-22T08:39:32.284Z"
   },
   {
    "duration": 16,
    "start_time": "2022-10-22T08:39:32.290Z"
   },
   {
    "duration": 10,
    "start_time": "2022-10-22T08:39:32.308Z"
   },
   {
    "duration": 14,
    "start_time": "2022-10-22T08:39:32.320Z"
   },
   {
    "duration": 18,
    "start_time": "2022-10-22T08:39:32.337Z"
   },
   {
    "duration": 38,
    "start_time": "2022-10-22T08:39:32.356Z"
   },
   {
    "duration": 9,
    "start_time": "2022-10-22T08:39:32.396Z"
   },
   {
    "duration": 4,
    "start_time": "2022-10-22T08:39:32.407Z"
   },
   {
    "duration": 19,
    "start_time": "2022-10-22T08:39:32.413Z"
   },
   {
    "duration": 38,
    "start_time": "2022-10-22T08:39:32.433Z"
   },
   {
    "duration": 18,
    "start_time": "2022-10-22T08:39:32.472Z"
   },
   {
    "duration": 3,
    "start_time": "2022-10-22T08:39:32.492Z"
   },
   {
    "duration": 13,
    "start_time": "2022-10-22T08:39:32.497Z"
   },
   {
    "duration": 7,
    "start_time": "2022-10-22T08:39:32.512Z"
   },
   {
    "duration": 4,
    "start_time": "2022-10-22T08:39:32.520Z"
   },
   {
    "duration": 15,
    "start_time": "2022-10-22T08:39:32.555Z"
   },
   {
    "duration": 455,
    "start_time": "2022-10-22T08:39:32.572Z"
   },
   {
    "duration": 32,
    "start_time": "2022-10-22T08:39:33.029Z"
   },
   {
    "duration": 16,
    "start_time": "2022-10-22T08:39:33.063Z"
   },
   {
    "duration": 17,
    "start_time": "2022-10-22T08:39:33.081Z"
   },
   {
    "duration": 17,
    "start_time": "2022-10-22T08:40:59.974Z"
   },
   {
    "duration": 15,
    "start_time": "2022-10-22T08:41:40.753Z"
   },
   {
    "duration": 18,
    "start_time": "2022-10-22T08:44:33.281Z"
   },
   {
    "duration": 253,
    "start_time": "2022-10-22T08:44:49.042Z"
   },
   {
    "duration": 433,
    "start_time": "2022-10-22T08:45:03.894Z"
   },
   {
    "duration": 24,
    "start_time": "2022-10-22T08:45:04.329Z"
   },
   {
    "duration": 26,
    "start_time": "2022-10-22T08:45:04.354Z"
   },
   {
    "duration": 16,
    "start_time": "2022-10-22T08:45:04.382Z"
   },
   {
    "duration": 45,
    "start_time": "2022-10-22T08:45:04.400Z"
   },
   {
    "duration": 17,
    "start_time": "2022-10-22T08:45:04.447Z"
   },
   {
    "duration": 22,
    "start_time": "2022-10-22T08:45:04.466Z"
   },
   {
    "duration": 14,
    "start_time": "2022-10-22T08:45:04.490Z"
   },
   {
    "duration": 24,
    "start_time": "2022-10-22T08:45:04.506Z"
   },
   {
    "duration": 9,
    "start_time": "2022-10-22T08:45:04.532Z"
   },
   {
    "duration": 39,
    "start_time": "2022-10-22T08:45:04.543Z"
   },
   {
    "duration": 9,
    "start_time": "2022-10-22T08:45:04.584Z"
   },
   {
    "duration": 9,
    "start_time": "2022-10-22T08:45:04.595Z"
   },
   {
    "duration": 23,
    "start_time": "2022-10-22T08:45:04.608Z"
   },
   {
    "duration": 49,
    "start_time": "2022-10-22T08:45:04.633Z"
   },
   {
    "duration": 18,
    "start_time": "2022-10-22T08:45:04.684Z"
   },
   {
    "duration": 18,
    "start_time": "2022-10-22T08:45:04.704Z"
   },
   {
    "duration": 17,
    "start_time": "2022-10-22T08:45:04.723Z"
   },
   {
    "duration": 15,
    "start_time": "2022-10-22T08:45:04.742Z"
   },
   {
    "duration": 9,
    "start_time": "2022-10-22T08:45:04.759Z"
   },
   {
    "duration": 18,
    "start_time": "2022-10-22T08:45:04.770Z"
   },
   {
    "duration": 318,
    "start_time": "2022-10-22T08:45:04.789Z"
   },
   {
    "duration": 20,
    "start_time": "2022-10-22T08:45:05.110Z"
   },
   {
    "duration": 30,
    "start_time": "2022-10-22T08:45:05.133Z"
   },
   {
    "duration": 27,
    "start_time": "2022-10-22T08:45:05.165Z"
   },
   {
    "duration": 580,
    "start_time": "2022-10-22T08:51:02.853Z"
   },
   {
    "duration": 29,
    "start_time": "2022-10-22T08:51:03.436Z"
   },
   {
    "duration": 42,
    "start_time": "2022-10-22T08:51:03.467Z"
   },
   {
    "duration": 16,
    "start_time": "2022-10-22T08:51:03.512Z"
   },
   {
    "duration": 65,
    "start_time": "2022-10-22T08:51:03.531Z"
   },
   {
    "duration": 10,
    "start_time": "2022-10-22T08:51:03.600Z"
   },
   {
    "duration": 61,
    "start_time": "2022-10-22T08:51:03.612Z"
   },
   {
    "duration": 15,
    "start_time": "2022-10-22T08:51:03.676Z"
   },
   {
    "duration": 11,
    "start_time": "2022-10-22T08:51:03.693Z"
   },
   {
    "duration": 5,
    "start_time": "2022-10-22T08:51:03.708Z"
   },
   {
    "duration": 46,
    "start_time": "2022-10-22T08:51:03.715Z"
   },
   {
    "duration": 13,
    "start_time": "2022-10-22T08:51:03.764Z"
   },
   {
    "duration": 12,
    "start_time": "2022-10-22T08:51:03.778Z"
   },
   {
    "duration": 15,
    "start_time": "2022-10-22T08:51:03.793Z"
   },
   {
    "duration": 26,
    "start_time": "2022-10-22T08:51:03.810Z"
   },
   {
    "duration": 33,
    "start_time": "2022-10-22T08:51:03.838Z"
   },
   {
    "duration": 17,
    "start_time": "2022-10-22T08:51:03.873Z"
   },
   {
    "duration": 20,
    "start_time": "2022-10-22T08:51:03.891Z"
   },
   {
    "duration": 16,
    "start_time": "2022-10-22T08:51:03.912Z"
   },
   {
    "duration": 15,
    "start_time": "2022-10-22T08:51:03.930Z"
   },
   {
    "duration": 41,
    "start_time": "2022-10-22T08:51:03.946Z"
   },
   {
    "duration": 339,
    "start_time": "2022-10-22T08:51:03.989Z"
   },
   {
    "duration": 33,
    "start_time": "2022-10-22T08:51:04.330Z"
   },
   {
    "duration": 22,
    "start_time": "2022-10-22T08:51:04.365Z"
   },
   {
    "duration": 27,
    "start_time": "2022-10-22T08:51:04.390Z"
   },
   {
    "duration": 327,
    "start_time": "2022-10-22T08:51:22.972Z"
   },
   {
    "duration": 442,
    "start_time": "2022-10-22T08:51:36.403Z"
   },
   {
    "duration": 21,
    "start_time": "2022-10-22T08:51:36.847Z"
   },
   {
    "duration": 14,
    "start_time": "2022-10-22T08:51:36.869Z"
   },
   {
    "duration": 9,
    "start_time": "2022-10-22T08:51:36.884Z"
   },
   {
    "duration": 34,
    "start_time": "2022-10-22T08:51:36.894Z"
   },
   {
    "duration": 26,
    "start_time": "2022-10-22T08:51:36.930Z"
   },
   {
    "duration": 14,
    "start_time": "2022-10-22T08:51:36.958Z"
   },
   {
    "duration": 6,
    "start_time": "2022-10-22T08:51:36.973Z"
   },
   {
    "duration": 10,
    "start_time": "2022-10-22T08:51:36.981Z"
   },
   {
    "duration": 6,
    "start_time": "2022-10-22T08:51:36.993Z"
   },
   {
    "duration": 53,
    "start_time": "2022-10-22T08:51:37.001Z"
   },
   {
    "duration": 10,
    "start_time": "2022-10-22T08:51:37.056Z"
   },
   {
    "duration": 5,
    "start_time": "2022-10-22T08:51:37.068Z"
   },
   {
    "duration": 14,
    "start_time": "2022-10-22T08:51:37.075Z"
   },
   {
    "duration": 22,
    "start_time": "2022-10-22T08:51:37.091Z"
   },
   {
    "duration": 44,
    "start_time": "2022-10-22T08:51:37.115Z"
   },
   {
    "duration": 4,
    "start_time": "2022-10-22T08:51:37.161Z"
   },
   {
    "duration": 17,
    "start_time": "2022-10-22T08:51:37.167Z"
   },
   {
    "duration": 7,
    "start_time": "2022-10-22T08:51:37.186Z"
   },
   {
    "duration": 6,
    "start_time": "2022-10-22T08:51:37.194Z"
   },
   {
    "duration": 20,
    "start_time": "2022-10-22T08:51:37.202Z"
   },
   {
    "duration": 301,
    "start_time": "2022-10-22T08:51:37.224Z"
   },
   {
    "duration": 33,
    "start_time": "2022-10-22T08:51:37.527Z"
   },
   {
    "duration": 24,
    "start_time": "2022-10-22T08:51:37.563Z"
   },
   {
    "duration": 22,
    "start_time": "2022-10-22T08:51:37.589Z"
   },
   {
    "duration": 367,
    "start_time": "2022-10-22T09:02:51.026Z"
   },
   {
    "duration": 533,
    "start_time": "2022-10-22T09:02:59.445Z"
   },
   {
    "duration": 29,
    "start_time": "2022-10-22T09:02:59.981Z"
   },
   {
    "duration": 21,
    "start_time": "2022-10-22T09:03:00.013Z"
   },
   {
    "duration": 16,
    "start_time": "2022-10-22T09:03:00.059Z"
   },
   {
    "duration": 60,
    "start_time": "2022-10-22T09:03:00.077Z"
   },
   {
    "duration": 3,
    "start_time": "2022-10-22T09:03:00.139Z"
   },
   {
    "duration": 41,
    "start_time": "2022-10-22T09:03:00.144Z"
   },
   {
    "duration": 26,
    "start_time": "2022-10-22T09:03:00.187Z"
   },
   {
    "duration": 32,
    "start_time": "2022-10-22T09:03:00.216Z"
   },
   {
    "duration": 27,
    "start_time": "2022-10-22T09:03:00.255Z"
   },
   {
    "duration": 74,
    "start_time": "2022-10-22T09:03:00.284Z"
   },
   {
    "duration": 25,
    "start_time": "2022-10-22T09:03:00.360Z"
   },
   {
    "duration": 24,
    "start_time": "2022-10-22T09:03:00.387Z"
   },
   {
    "duration": 78,
    "start_time": "2022-10-22T09:03:00.414Z"
   },
   {
    "duration": 69,
    "start_time": "2022-10-22T09:03:00.494Z"
   },
   {
    "duration": 50,
    "start_time": "2022-10-22T09:03:00.568Z"
   },
   {
    "duration": 22,
    "start_time": "2022-10-22T09:03:00.621Z"
   },
   {
    "duration": 65,
    "start_time": "2022-10-22T09:03:00.645Z"
   },
   {
    "duration": 36,
    "start_time": "2022-10-22T09:03:00.712Z"
   },
   {
    "duration": 28,
    "start_time": "2022-10-22T09:03:00.750Z"
   },
   {
    "duration": 35,
    "start_time": "2022-10-22T09:03:00.781Z"
   },
   {
    "duration": 387,
    "start_time": "2022-10-22T09:03:00.818Z"
   },
   {
    "duration": 0,
    "start_time": "2022-10-22T09:03:01.207Z"
   },
   {
    "duration": 0,
    "start_time": "2022-10-22T09:03:01.208Z"
   },
   {
    "duration": 0,
    "start_time": "2022-10-22T09:03:01.209Z"
   },
   {
    "duration": 203,
    "start_time": "2022-10-22T09:03:17.947Z"
   },
   {
    "duration": 473,
    "start_time": "2022-10-22T09:03:34.877Z"
   },
   {
    "duration": 33,
    "start_time": "2022-10-22T09:03:35.353Z"
   },
   {
    "duration": 14,
    "start_time": "2022-10-22T09:03:35.388Z"
   },
   {
    "duration": 11,
    "start_time": "2022-10-22T09:03:35.404Z"
   },
   {
    "duration": 74,
    "start_time": "2022-10-22T09:03:35.417Z"
   },
   {
    "duration": 4,
    "start_time": "2022-10-22T09:03:35.493Z"
   },
   {
    "duration": 14,
    "start_time": "2022-10-22T09:03:35.499Z"
   },
   {
    "duration": 6,
    "start_time": "2022-10-22T09:03:35.515Z"
   },
   {
    "duration": 18,
    "start_time": "2022-10-22T09:03:35.523Z"
   },
   {
    "duration": 34,
    "start_time": "2022-10-22T09:03:35.543Z"
   },
   {
    "duration": 42,
    "start_time": "2022-10-22T09:03:35.580Z"
   },
   {
    "duration": 10,
    "start_time": "2022-10-22T09:03:35.624Z"
   },
   {
    "duration": 7,
    "start_time": "2022-10-22T09:03:35.635Z"
   },
   {
    "duration": 18,
    "start_time": "2022-10-22T09:03:35.645Z"
   },
   {
    "duration": 40,
    "start_time": "2022-10-22T09:03:35.665Z"
   },
   {
    "duration": 17,
    "start_time": "2022-10-22T09:03:35.707Z"
   },
   {
    "duration": 3,
    "start_time": "2022-10-22T09:03:35.726Z"
   },
   {
    "duration": 41,
    "start_time": "2022-10-22T09:03:35.731Z"
   },
   {
    "duration": 11,
    "start_time": "2022-10-22T09:03:35.776Z"
   },
   {
    "duration": 16,
    "start_time": "2022-10-22T09:03:35.789Z"
   },
   {
    "duration": 15,
    "start_time": "2022-10-22T09:03:35.807Z"
   },
   {
    "duration": 312,
    "start_time": "2022-10-22T09:03:35.823Z"
   },
   {
    "duration": 0,
    "start_time": "2022-10-22T09:03:36.136Z"
   },
   {
    "duration": 0,
    "start_time": "2022-10-22T09:03:36.137Z"
   },
   {
    "duration": 0,
    "start_time": "2022-10-22T09:03:36.138Z"
   },
   {
    "duration": 214,
    "start_time": "2022-10-22T09:04:30.536Z"
   },
   {
    "duration": 223,
    "start_time": "2022-10-22T09:05:07.642Z"
   },
   {
    "duration": 500,
    "start_time": "2022-10-22T09:05:19.686Z"
   },
   {
    "duration": 22,
    "start_time": "2022-10-22T09:05:20.188Z"
   },
   {
    "duration": 17,
    "start_time": "2022-10-22T09:05:20.212Z"
   },
   {
    "duration": 23,
    "start_time": "2022-10-22T09:05:20.232Z"
   },
   {
    "duration": 38,
    "start_time": "2022-10-22T09:05:20.257Z"
   },
   {
    "duration": 3,
    "start_time": "2022-10-22T09:05:20.296Z"
   },
   {
    "duration": 17,
    "start_time": "2022-10-22T09:05:20.301Z"
   },
   {
    "duration": 7,
    "start_time": "2022-10-22T09:05:20.320Z"
   },
   {
    "duration": 8,
    "start_time": "2022-10-22T09:05:20.329Z"
   },
   {
    "duration": 5,
    "start_time": "2022-10-22T09:05:20.355Z"
   },
   {
    "duration": 45,
    "start_time": "2022-10-22T09:05:20.362Z"
   },
   {
    "duration": 10,
    "start_time": "2022-10-22T09:05:20.409Z"
   },
   {
    "duration": 9,
    "start_time": "2022-10-22T09:05:20.420Z"
   },
   {
    "duration": 33,
    "start_time": "2022-10-22T09:05:20.431Z"
   },
   {
    "duration": 35,
    "start_time": "2022-10-22T09:05:20.466Z"
   },
   {
    "duration": 30,
    "start_time": "2022-10-22T09:05:20.503Z"
   },
   {
    "duration": 4,
    "start_time": "2022-10-22T09:05:20.535Z"
   },
   {
    "duration": 25,
    "start_time": "2022-10-22T09:05:20.541Z"
   },
   {
    "duration": 14,
    "start_time": "2022-10-22T09:05:20.568Z"
   },
   {
    "duration": 26,
    "start_time": "2022-10-22T09:05:20.584Z"
   },
   {
    "duration": 24,
    "start_time": "2022-10-22T09:05:20.612Z"
   },
   {
    "duration": 297,
    "start_time": "2022-10-22T09:05:20.638Z"
   },
   {
    "duration": 0,
    "start_time": "2022-10-22T09:05:20.936Z"
   },
   {
    "duration": 0,
    "start_time": "2022-10-22T09:05:20.937Z"
   },
   {
    "duration": 0,
    "start_time": "2022-10-22T09:05:20.938Z"
   },
   {
    "duration": 564,
    "start_time": "2022-10-22T09:05:31.028Z"
   },
   {
    "duration": 31,
    "start_time": "2022-10-22T09:05:31.595Z"
   },
   {
    "duration": 30,
    "start_time": "2022-10-22T09:05:31.628Z"
   },
   {
    "duration": 84,
    "start_time": "2022-10-22T09:05:31.660Z"
   },
   {
    "duration": 90,
    "start_time": "2022-10-22T09:05:31.746Z"
   },
   {
    "duration": 4,
    "start_time": "2022-10-22T09:05:31.839Z"
   },
   {
    "duration": 55,
    "start_time": "2022-10-22T09:05:31.845Z"
   },
   {
    "duration": 18,
    "start_time": "2022-10-22T09:05:31.901Z"
   },
   {
    "duration": 39,
    "start_time": "2022-10-22T09:05:31.921Z"
   },
   {
    "duration": 49,
    "start_time": "2022-10-22T09:05:31.967Z"
   },
   {
    "duration": 44,
    "start_time": "2022-10-22T09:05:32.017Z"
   },
   {
    "duration": 16,
    "start_time": "2022-10-22T09:05:32.064Z"
   },
   {
    "duration": 13,
    "start_time": "2022-10-22T09:05:32.081Z"
   },
   {
    "duration": 26,
    "start_time": "2022-10-22T09:05:32.095Z"
   },
   {
    "duration": 48,
    "start_time": "2022-10-22T09:05:32.122Z"
   },
   {
    "duration": 25,
    "start_time": "2022-10-22T09:05:32.173Z"
   },
   {
    "duration": 3,
    "start_time": "2022-10-22T09:05:32.200Z"
   },
   {
    "duration": 12,
    "start_time": "2022-10-22T09:05:32.205Z"
   },
   {
    "duration": 8,
    "start_time": "2022-10-22T09:05:32.219Z"
   },
   {
    "duration": 14,
    "start_time": "2022-10-22T09:05:32.229Z"
   },
   {
    "duration": 15,
    "start_time": "2022-10-22T09:05:32.260Z"
   },
   {
    "duration": 297,
    "start_time": "2022-10-22T09:05:32.278Z"
   },
   {
    "duration": 19,
    "start_time": "2022-10-22T09:05:32.577Z"
   },
   {
    "duration": 17,
    "start_time": "2022-10-22T09:05:32.598Z"
   },
   {
    "duration": 46,
    "start_time": "2022-10-22T09:05:32.617Z"
   },
   {
    "duration": 27,
    "start_time": "2022-10-22T09:16:39.406Z"
   },
   {
    "duration": 19,
    "start_time": "2022-10-22T09:18:52.522Z"
   },
   {
    "duration": 26,
    "start_time": "2022-10-22T09:23:09.985Z"
   },
   {
    "duration": 19,
    "start_time": "2022-10-22T09:23:19.589Z"
   },
   {
    "duration": 38,
    "start_time": "2022-10-22T09:41:55.542Z"
   },
   {
    "duration": 26,
    "start_time": "2022-10-22T09:42:01.242Z"
   },
   {
    "duration": 80,
    "start_time": "2022-10-22T10:24:59.635Z"
   },
   {
    "duration": 14,
    "start_time": "2022-10-22T10:25:10.028Z"
   },
   {
    "duration": 4,
    "start_time": "2022-10-22T10:25:15.247Z"
   },
   {
    "duration": 9,
    "start_time": "2022-10-22T10:25:16.692Z"
   },
   {
    "duration": 24,
    "start_time": "2022-10-22T10:25:18.300Z"
   },
   {
    "duration": 37,
    "start_time": "2022-10-22T10:25:29.270Z"
   },
   {
    "duration": 103,
    "start_time": "2022-10-22T10:25:33.325Z"
   },
   {
    "duration": 21,
    "start_time": "2022-10-22T10:26:09.991Z"
   },
   {
    "duration": 455,
    "start_time": "2022-10-22T11:04:20.326Z"
   },
   {
    "duration": 34,
    "start_time": "2022-10-22T11:04:20.783Z"
   },
   {
    "duration": 20,
    "start_time": "2022-10-22T11:04:20.818Z"
   },
   {
    "duration": 13,
    "start_time": "2022-10-22T11:04:20.841Z"
   },
   {
    "duration": 67,
    "start_time": "2022-10-22T11:04:20.856Z"
   },
   {
    "duration": 4,
    "start_time": "2022-10-22T11:04:20.924Z"
   },
   {
    "duration": 16,
    "start_time": "2022-10-22T11:04:20.930Z"
   },
   {
    "duration": 5,
    "start_time": "2022-10-22T11:04:20.948Z"
   },
   {
    "duration": 14,
    "start_time": "2022-10-22T11:04:20.955Z"
   },
   {
    "duration": 15,
    "start_time": "2022-10-22T11:04:20.974Z"
   },
   {
    "duration": 50,
    "start_time": "2022-10-22T11:04:20.995Z"
   },
   {
    "duration": 9,
    "start_time": "2022-10-22T11:04:21.047Z"
   },
   {
    "duration": 4,
    "start_time": "2022-10-22T11:04:21.057Z"
   },
   {
    "duration": 24,
    "start_time": "2022-10-22T11:04:21.063Z"
   },
   {
    "duration": 35,
    "start_time": "2022-10-22T11:04:21.093Z"
   },
   {
    "duration": 15,
    "start_time": "2022-10-22T11:04:21.130Z"
   },
   {
    "duration": 4,
    "start_time": "2022-10-22T11:04:21.146Z"
   },
   {
    "duration": 14,
    "start_time": "2022-10-22T11:04:21.151Z"
   },
   {
    "duration": 13,
    "start_time": "2022-10-22T11:04:21.166Z"
   },
   {
    "duration": 6,
    "start_time": "2022-10-22T11:04:21.181Z"
   },
   {
    "duration": 31,
    "start_time": "2022-10-22T11:04:21.193Z"
   },
   {
    "duration": 276,
    "start_time": "2022-10-22T11:04:21.226Z"
   },
   {
    "duration": 18,
    "start_time": "2022-10-22T11:04:21.505Z"
   },
   {
    "duration": 16,
    "start_time": "2022-10-22T11:04:21.525Z"
   },
   {
    "duration": 22,
    "start_time": "2022-10-22T11:04:21.543Z"
   },
   {
    "duration": 46,
    "start_time": "2022-10-24T16:35:26.111Z"
   },
   {
    "duration": 41,
    "start_time": "2022-10-24T16:35:32.629Z"
   },
   {
    "duration": 1086,
    "start_time": "2022-10-24T16:35:40.036Z"
   },
   {
    "duration": 21,
    "start_time": "2022-10-24T16:35:41.124Z"
   },
   {
    "duration": 19,
    "start_time": "2022-10-24T16:35:41.147Z"
   },
   {
    "duration": 10,
    "start_time": "2022-10-24T16:35:41.168Z"
   },
   {
    "duration": 43,
    "start_time": "2022-10-24T16:35:41.180Z"
   },
   {
    "duration": 3,
    "start_time": "2022-10-24T16:35:41.225Z"
   },
   {
    "duration": 14,
    "start_time": "2022-10-24T16:35:41.230Z"
   },
   {
    "duration": 5,
    "start_time": "2022-10-24T16:35:41.245Z"
   },
   {
    "duration": 10,
    "start_time": "2022-10-24T16:35:41.251Z"
   },
   {
    "duration": 5,
    "start_time": "2022-10-24T16:35:41.262Z"
   },
   {
    "duration": 31,
    "start_time": "2022-10-24T16:35:41.268Z"
   },
   {
    "duration": 10,
    "start_time": "2022-10-24T16:35:41.319Z"
   },
   {
    "duration": 3,
    "start_time": "2022-10-24T16:35:41.331Z"
   },
   {
    "duration": 14,
    "start_time": "2022-10-24T16:35:41.337Z"
   },
   {
    "duration": 24,
    "start_time": "2022-10-24T16:35:41.353Z"
   },
   {
    "duration": 16,
    "start_time": "2022-10-24T16:35:41.379Z"
   },
   {
    "duration": 4,
    "start_time": "2022-10-24T16:35:41.397Z"
   },
   {
    "duration": 21,
    "start_time": "2022-10-24T16:35:41.421Z"
   },
   {
    "duration": 30,
    "start_time": "2022-10-24T16:35:41.444Z"
   },
   {
    "duration": 10,
    "start_time": "2022-10-24T16:35:41.476Z"
   },
   {
    "duration": 16,
    "start_time": "2022-10-24T16:35:41.488Z"
   },
   {
    "duration": 50,
    "start_time": "2022-10-24T16:35:41.505Z"
   },
   {
    "duration": 0,
    "start_time": "2022-10-24T16:35:41.556Z"
   },
   {
    "duration": 0,
    "start_time": "2022-10-24T16:35:41.558Z"
   },
   {
    "duration": 0,
    "start_time": "2022-10-24T16:35:41.560Z"
   },
   {
    "duration": 0,
    "start_time": "2022-10-24T16:35:41.561Z"
   },
   {
    "duration": 61,
    "start_time": "2022-10-24T16:35:57.860Z"
   },
   {
    "duration": 48,
    "start_time": "2022-10-24T16:36:04.756Z"
   },
   {
    "duration": 102,
    "start_time": "2022-10-24T16:36:59.091Z"
   },
   {
    "duration": 476,
    "start_time": "2022-10-24T16:37:04.895Z"
   },
   {
    "duration": 21,
    "start_time": "2022-10-24T16:37:05.373Z"
   },
   {
    "duration": 68,
    "start_time": "2022-10-24T16:37:05.395Z"
   },
   {
    "duration": 58,
    "start_time": "2022-10-24T16:37:05.464Z"
   },
   {
    "duration": 51,
    "start_time": "2022-10-24T16:37:05.523Z"
   },
   {
    "duration": 10,
    "start_time": "2022-10-24T16:37:05.575Z"
   },
   {
    "duration": 47,
    "start_time": "2022-10-24T16:37:05.586Z"
   },
   {
    "duration": 36,
    "start_time": "2022-10-24T16:37:05.634Z"
   },
   {
    "duration": 63,
    "start_time": "2022-10-24T16:37:05.671Z"
   },
   {
    "duration": 53,
    "start_time": "2022-10-24T16:37:05.735Z"
   },
   {
    "duration": 93,
    "start_time": "2022-10-24T16:37:05.791Z"
   },
   {
    "duration": 8,
    "start_time": "2022-10-24T16:37:05.886Z"
   },
   {
    "duration": 38,
    "start_time": "2022-10-24T16:37:05.896Z"
   },
   {
    "duration": 91,
    "start_time": "2022-10-24T16:37:05.937Z"
   },
   {
    "duration": 37,
    "start_time": "2022-10-24T16:37:06.030Z"
   },
   {
    "duration": 22,
    "start_time": "2022-10-24T16:37:06.068Z"
   },
   {
    "duration": 25,
    "start_time": "2022-10-24T16:37:06.092Z"
   },
   {
    "duration": 35,
    "start_time": "2022-10-24T16:37:06.118Z"
   },
   {
    "duration": 43,
    "start_time": "2022-10-24T16:37:06.154Z"
   },
   {
    "duration": 64,
    "start_time": "2022-10-24T16:37:06.198Z"
   },
   {
    "duration": 58,
    "start_time": "2022-10-24T16:37:06.263Z"
   },
   {
    "duration": 95,
    "start_time": "2022-10-24T16:37:06.323Z"
   },
   {
    "duration": 0,
    "start_time": "2022-10-24T16:37:06.420Z"
   },
   {
    "duration": 0,
    "start_time": "2022-10-24T16:37:06.421Z"
   },
   {
    "duration": 0,
    "start_time": "2022-10-24T16:37:06.422Z"
   },
   {
    "duration": 0,
    "start_time": "2022-10-24T16:37:06.423Z"
   },
   {
    "duration": 46,
    "start_time": "2022-10-24T16:37:24.045Z"
   },
   {
    "duration": 183,
    "start_time": "2022-10-24T16:38:13.521Z"
   },
   {
    "duration": 65,
    "start_time": "2022-10-24T16:41:35.489Z"
   },
   {
    "duration": 57,
    "start_time": "2022-10-24T16:41:50.796Z"
   },
   {
    "duration": 442,
    "start_time": "2022-10-24T16:42:12.171Z"
   },
   {
    "duration": 56,
    "start_time": "2022-10-24T16:42:40.395Z"
   },
   {
    "duration": 9,
    "start_time": "2022-10-24T16:42:47.671Z"
   },
   {
    "duration": 243,
    "start_time": "2022-10-24T16:44:50.497Z"
   },
   {
    "duration": 473,
    "start_time": "2022-10-24T16:45:01.838Z"
   },
   {
    "duration": 21,
    "start_time": "2022-10-24T16:45:02.313Z"
   },
   {
    "duration": 20,
    "start_time": "2022-10-24T16:45:02.336Z"
   },
   {
    "duration": 23,
    "start_time": "2022-10-24T16:45:02.358Z"
   },
   {
    "duration": 60,
    "start_time": "2022-10-24T16:45:02.383Z"
   },
   {
    "duration": 4,
    "start_time": "2022-10-24T16:45:02.444Z"
   },
   {
    "duration": 24,
    "start_time": "2022-10-24T16:45:02.450Z"
   },
   {
    "duration": 16,
    "start_time": "2022-10-24T16:45:02.476Z"
   },
   {
    "duration": 47,
    "start_time": "2022-10-24T16:45:02.493Z"
   },
   {
    "duration": 11,
    "start_time": "2022-10-24T16:45:02.542Z"
   },
   {
    "duration": 57,
    "start_time": "2022-10-24T16:45:02.554Z"
   },
   {
    "duration": 44,
    "start_time": "2022-10-24T16:45:02.612Z"
   },
   {
    "duration": 9,
    "start_time": "2022-10-24T16:45:02.659Z"
   },
   {
    "duration": 73,
    "start_time": "2022-10-24T16:45:02.671Z"
   },
   {
    "duration": 48,
    "start_time": "2022-10-24T16:45:02.748Z"
   },
   {
    "duration": 41,
    "start_time": "2022-10-24T16:45:02.797Z"
   },
   {
    "duration": 9,
    "start_time": "2022-10-24T16:45:02.840Z"
   },
   {
    "duration": 33,
    "start_time": "2022-10-24T16:45:02.850Z"
   },
   {
    "duration": 48,
    "start_time": "2022-10-24T16:45:02.884Z"
   },
   {
    "duration": 110,
    "start_time": "2022-10-24T16:45:02.933Z"
   },
   {
    "duration": 14,
    "start_time": "2022-10-24T16:45:03.045Z"
   },
   {
    "duration": 10,
    "start_time": "2022-10-24T16:45:03.062Z"
   },
   {
    "duration": 339,
    "start_time": "2022-10-24T16:45:03.074Z"
   },
   {
    "duration": 21,
    "start_time": "2022-10-24T16:45:03.415Z"
   },
   {
    "duration": 16,
    "start_time": "2022-10-24T16:45:03.439Z"
   },
   {
    "duration": 24,
    "start_time": "2022-10-24T16:45:03.457Z"
   },
   {
    "duration": 278,
    "start_time": "2022-10-24T16:45:09.960Z"
   },
   {
    "duration": 4,
    "start_time": "2022-10-24T16:45:30.955Z"
   },
   {
    "duration": 20,
    "start_time": "2022-10-24T16:45:33.531Z"
   },
   {
    "duration": 436,
    "start_time": "2022-10-24T16:45:40.641Z"
   },
   {
    "duration": 21,
    "start_time": "2022-10-24T16:45:41.079Z"
   },
   {
    "duration": 24,
    "start_time": "2022-10-24T16:45:41.101Z"
   },
   {
    "duration": 31,
    "start_time": "2022-10-24T16:45:41.127Z"
   },
   {
    "duration": 73,
    "start_time": "2022-10-24T16:45:41.161Z"
   },
   {
    "duration": 3,
    "start_time": "2022-10-24T16:45:41.236Z"
   },
   {
    "duration": 42,
    "start_time": "2022-10-24T16:45:41.241Z"
   },
   {
    "duration": 44,
    "start_time": "2022-10-24T16:45:41.284Z"
   },
   {
    "duration": 46,
    "start_time": "2022-10-24T16:45:41.329Z"
   },
   {
    "duration": 21,
    "start_time": "2022-10-24T16:45:41.376Z"
   },
   {
    "duration": 69,
    "start_time": "2022-10-24T16:45:41.398Z"
   },
   {
    "duration": 13,
    "start_time": "2022-10-24T16:45:41.469Z"
   },
   {
    "duration": 40,
    "start_time": "2022-10-24T16:45:41.484Z"
   },
   {
    "duration": 57,
    "start_time": "2022-10-24T16:45:41.527Z"
   },
   {
    "duration": 96,
    "start_time": "2022-10-24T16:45:41.586Z"
   },
   {
    "duration": 40,
    "start_time": "2022-10-24T16:45:41.684Z"
   },
   {
    "duration": 13,
    "start_time": "2022-10-24T16:45:41.726Z"
   },
   {
    "duration": 60,
    "start_time": "2022-10-24T16:45:41.741Z"
   },
   {
    "duration": 61,
    "start_time": "2022-10-24T16:45:41.804Z"
   },
   {
    "duration": 35,
    "start_time": "2022-10-24T16:45:41.867Z"
   },
   {
    "duration": 34,
    "start_time": "2022-10-24T16:45:41.904Z"
   },
   {
    "duration": 45,
    "start_time": "2022-10-24T16:45:41.940Z"
   },
   {
    "duration": 301,
    "start_time": "2022-10-24T16:45:41.987Z"
   },
   {
    "duration": 19,
    "start_time": "2022-10-24T16:45:42.289Z"
   },
   {
    "duration": 41,
    "start_time": "2022-10-24T16:45:42.310Z"
   },
   {
    "duration": 48,
    "start_time": "2022-10-24T16:45:42.353Z"
   },
   {
    "duration": 20,
    "start_time": "2022-10-24T16:45:55.569Z"
   },
   {
    "duration": 5,
    "start_time": "2022-10-24T16:47:15.588Z"
   },
   {
    "duration": 25,
    "start_time": "2022-10-24T16:47:19.040Z"
   },
   {
    "duration": 5,
    "start_time": "2022-10-24T16:48:39.194Z"
   },
   {
    "duration": 478,
    "start_time": "2022-10-24T16:48:58.988Z"
   },
   {
    "duration": 21,
    "start_time": "2022-10-24T16:48:59.468Z"
   },
   {
    "duration": 34,
    "start_time": "2022-10-24T16:48:59.491Z"
   },
   {
    "duration": 16,
    "start_time": "2022-10-24T16:48:59.527Z"
   },
   {
    "duration": 45,
    "start_time": "2022-10-24T16:48:59.545Z"
   },
   {
    "duration": 4,
    "start_time": "2022-10-24T16:48:59.592Z"
   },
   {
    "duration": 29,
    "start_time": "2022-10-24T16:48:59.597Z"
   },
   {
    "duration": 19,
    "start_time": "2022-10-24T16:48:59.628Z"
   },
   {
    "duration": 31,
    "start_time": "2022-10-24T16:48:59.649Z"
   },
   {
    "duration": 12,
    "start_time": "2022-10-24T16:48:59.683Z"
   },
   {
    "duration": 59,
    "start_time": "2022-10-24T16:48:59.696Z"
   },
   {
    "duration": 10,
    "start_time": "2022-10-24T16:48:59.756Z"
   },
   {
    "duration": 39,
    "start_time": "2022-10-24T16:48:59.768Z"
   },
   {
    "duration": 46,
    "start_time": "2022-10-24T16:48:59.809Z"
   },
   {
    "duration": 85,
    "start_time": "2022-10-24T16:48:59.857Z"
   },
   {
    "duration": 21,
    "start_time": "2022-10-24T16:48:59.944Z"
   },
   {
    "duration": 13,
    "start_time": "2022-10-24T16:48:59.967Z"
   },
   {
    "duration": 40,
    "start_time": "2022-10-24T16:48:59.982Z"
   },
   {
    "duration": 53,
    "start_time": "2022-10-24T16:49:00.024Z"
   },
   {
    "duration": 29,
    "start_time": "2022-10-24T16:49:00.079Z"
   },
   {
    "duration": 57,
    "start_time": "2022-10-24T16:49:00.110Z"
   },
   {
    "duration": 55,
    "start_time": "2022-10-24T16:49:00.169Z"
   },
   {
    "duration": 356,
    "start_time": "2022-10-24T16:49:00.227Z"
   },
   {
    "duration": 24,
    "start_time": "2022-10-24T16:49:00.585Z"
   },
   {
    "duration": 36,
    "start_time": "2022-10-24T16:49:00.621Z"
   },
   {
    "duration": 54,
    "start_time": "2022-10-24T16:49:00.658Z"
   },
   {
    "duration": 140,
    "start_time": "2022-10-24T16:50:03.471Z"
   },
   {
    "duration": 25,
    "start_time": "2022-10-24T16:50:16.660Z"
   },
   {
    "duration": 558,
    "start_time": "2022-10-24T16:50:45.432Z"
   },
   {
    "duration": 29,
    "start_time": "2022-10-24T16:50:45.992Z"
   },
   {
    "duration": 19,
    "start_time": "2022-10-24T16:50:46.026Z"
   },
   {
    "duration": 13,
    "start_time": "2022-10-24T16:50:46.048Z"
   },
   {
    "duration": 69,
    "start_time": "2022-10-24T16:50:46.063Z"
   },
   {
    "duration": 3,
    "start_time": "2022-10-24T16:50:46.134Z"
   },
   {
    "duration": 14,
    "start_time": "2022-10-24T16:50:46.140Z"
   },
   {
    "duration": 8,
    "start_time": "2022-10-24T16:50:46.155Z"
   },
   {
    "duration": 16,
    "start_time": "2022-10-24T16:50:46.165Z"
   },
   {
    "duration": 5,
    "start_time": "2022-10-24T16:50:46.184Z"
   },
   {
    "duration": 69,
    "start_time": "2022-10-24T16:50:46.191Z"
   },
   {
    "duration": 12,
    "start_time": "2022-10-24T16:50:46.262Z"
   },
   {
    "duration": 14,
    "start_time": "2022-10-24T16:50:46.276Z"
   },
   {
    "duration": 23,
    "start_time": "2022-10-24T16:50:46.292Z"
   },
   {
    "duration": 35,
    "start_time": "2022-10-24T16:50:46.317Z"
   },
   {
    "duration": 23,
    "start_time": "2022-10-24T16:50:46.354Z"
   },
   {
    "duration": 4,
    "start_time": "2022-10-24T16:50:46.379Z"
   },
   {
    "duration": 23,
    "start_time": "2022-10-24T16:50:46.386Z"
   },
   {
    "duration": 19,
    "start_time": "2022-10-24T16:50:46.411Z"
   },
   {
    "duration": 8,
    "start_time": "2022-10-24T16:50:46.432Z"
   },
   {
    "duration": 19,
    "start_time": "2022-10-24T16:50:46.442Z"
   },
   {
    "duration": 4,
    "start_time": "2022-10-24T16:50:46.464Z"
   },
   {
    "duration": 302,
    "start_time": "2022-10-24T16:50:46.469Z"
   },
   {
    "duration": 19,
    "start_time": "2022-10-24T16:50:46.772Z"
   },
   {
    "duration": 35,
    "start_time": "2022-10-24T16:50:46.793Z"
   },
   {
    "duration": 18,
    "start_time": "2022-10-24T16:50:46.830Z"
   },
   {
    "duration": 44,
    "start_time": "2022-10-24T16:51:08.524Z"
   },
   {
    "duration": 4,
    "start_time": "2022-10-24T16:51:15.568Z"
   },
   {
    "duration": 6,
    "start_time": "2022-10-24T16:51:40.595Z"
   },
   {
    "duration": 28,
    "start_time": "2022-10-24T16:51:42.599Z"
   },
   {
    "duration": 26,
    "start_time": "2022-10-24T16:51:43.653Z"
   },
   {
    "duration": 26,
    "start_time": "2022-10-24T16:51:48.128Z"
   },
   {
    "duration": 27,
    "start_time": "2022-10-24T16:53:31.144Z"
   },
   {
    "duration": 4,
    "start_time": "2022-10-24T17:00:42.339Z"
   },
   {
    "duration": 18,
    "start_time": "2022-10-24T17:00:44.182Z"
   },
   {
    "duration": 4,
    "start_time": "2022-10-24T17:00:50.559Z"
   },
   {
    "duration": 3,
    "start_time": "2022-10-24T17:01:25.391Z"
   },
   {
    "duration": 39,
    "start_time": "2022-10-24T17:01:37.771Z"
   },
   {
    "duration": 22,
    "start_time": "2022-10-24T17:01:55.202Z"
   },
   {
    "duration": 24,
    "start_time": "2022-10-24T17:05:13.656Z"
   },
   {
    "duration": 23,
    "start_time": "2022-10-24T17:06:17.279Z"
   },
   {
    "duration": 19,
    "start_time": "2022-10-24T17:07:58.139Z"
   },
   {
    "duration": 26,
    "start_time": "2022-10-24T17:10:32.805Z"
   },
   {
    "duration": 3,
    "start_time": "2022-10-24T17:10:52.242Z"
   },
   {
    "duration": 5,
    "start_time": "2022-10-24T17:10:59.054Z"
   },
   {
    "duration": 30,
    "start_time": "2022-10-24T17:11:01.882Z"
   },
   {
    "duration": 7,
    "start_time": "2022-10-24T17:11:19.139Z"
   },
   {
    "duration": 4,
    "start_time": "2022-10-24T17:11:40.383Z"
   },
   {
    "duration": 55,
    "start_time": "2022-10-24T17:12:05.713Z"
   },
   {
    "duration": 4,
    "start_time": "2022-10-24T17:12:10.779Z"
   },
   {
    "duration": 23,
    "start_time": "2022-10-24T17:12:14.371Z"
   },
   {
    "duration": 39,
    "start_time": "2022-10-24T17:12:25.833Z"
   },
   {
    "duration": 3,
    "start_time": "2022-10-24T17:17:58.707Z"
   },
   {
    "duration": 26,
    "start_time": "2022-10-24T17:17:59.445Z"
   },
   {
    "duration": 4,
    "start_time": "2022-10-24T17:18:39.894Z"
   },
   {
    "duration": 27,
    "start_time": "2022-10-24T17:18:43.801Z"
   },
   {
    "duration": 105,
    "start_time": "2022-10-24T17:19:12.637Z"
   },
   {
    "duration": 50,
    "start_time": "2022-10-24T17:32:36.693Z"
   },
   {
    "duration": 46,
    "start_time": "2022-10-24T17:32:42.237Z"
   },
   {
    "duration": 3,
    "start_time": "2022-10-24T17:38:34.200Z"
   },
   {
    "duration": 28,
    "start_time": "2022-10-24T17:39:11.538Z"
   },
   {
    "duration": 35,
    "start_time": "2022-10-24T17:39:33.366Z"
   },
   {
    "duration": 44,
    "start_time": "2022-10-24T17:39:48.402Z"
   },
   {
    "duration": 3,
    "start_time": "2022-10-24T17:41:07.492Z"
   },
   {
    "duration": 21,
    "start_time": "2022-10-24T17:41:09.668Z"
   },
   {
    "duration": 25,
    "start_time": "2022-10-24T17:41:28.472Z"
   },
   {
    "duration": 28,
    "start_time": "2022-10-24T17:41:32.826Z"
   },
   {
    "duration": 29,
    "start_time": "2022-10-24T17:41:37.645Z"
   },
   {
    "duration": 36,
    "start_time": "2022-10-24T17:48:09.830Z"
   },
   {
    "duration": 5,
    "start_time": "2022-10-24T17:48:17.269Z"
   },
   {
    "duration": 5,
    "start_time": "2022-10-24T17:48:19.267Z"
   },
   {
    "duration": 4,
    "start_time": "2022-10-24T17:51:51.479Z"
   },
   {
    "duration": 28,
    "start_time": "2022-10-24T17:51:53.232Z"
   },
   {
    "duration": 48,
    "start_time": "2022-10-24T17:59:47.959Z"
   },
   {
    "duration": 5,
    "start_time": "2022-10-24T18:00:55.546Z"
   },
   {
    "duration": 84,
    "start_time": "2022-10-24T18:00:58.643Z"
   },
   {
    "duration": 4,
    "start_time": "2022-10-24T18:12:04.714Z"
   },
   {
    "duration": 253,
    "start_time": "2022-10-24T18:12:08.258Z"
   },
   {
    "duration": 4,
    "start_time": "2022-10-24T18:12:21.142Z"
   },
   {
    "duration": 26,
    "start_time": "2022-10-24T18:12:23.060Z"
   },
   {
    "duration": 5,
    "start_time": "2022-10-24T18:17:36.049Z"
   },
   {
    "duration": 3,
    "start_time": "2022-10-24T18:17:54.592Z"
   },
   {
    "duration": 31,
    "start_time": "2022-10-24T18:17:56.852Z"
   },
   {
    "duration": 3,
    "start_time": "2022-10-24T18:18:37.290Z"
   },
   {
    "duration": 23,
    "start_time": "2022-10-24T18:18:38.668Z"
   },
   {
    "duration": 4,
    "start_time": "2022-10-24T18:19:12.443Z"
   },
   {
    "duration": 34,
    "start_time": "2022-10-24T18:19:13.811Z"
   },
   {
    "duration": 4,
    "start_time": "2022-10-24T18:27:21.066Z"
   },
   {
    "duration": 36,
    "start_time": "2022-10-24T18:27:23.815Z"
   },
   {
    "duration": 5,
    "start_time": "2022-10-24T18:27:44.756Z"
   },
   {
    "duration": 24,
    "start_time": "2022-10-24T18:27:46.389Z"
   },
   {
    "duration": 4,
    "start_time": "2022-10-24T18:34:14.089Z"
   },
   {
    "duration": 42,
    "start_time": "2022-10-24T18:34:14.697Z"
   },
   {
    "duration": 3,
    "start_time": "2022-10-24T18:34:19.743Z"
   },
   {
    "duration": 23,
    "start_time": "2022-10-24T18:34:20.255Z"
   },
   {
    "duration": 6,
    "start_time": "2022-10-24T18:35:40.747Z"
   },
   {
    "duration": 28,
    "start_time": "2022-10-24T18:35:43.855Z"
   },
   {
    "duration": 5,
    "start_time": "2022-10-24T18:36:05.962Z"
   },
   {
    "duration": 35,
    "start_time": "2022-10-24T18:36:06.709Z"
   },
   {
    "duration": 3,
    "start_time": "2022-10-24T18:36:43.749Z"
   },
   {
    "duration": 34,
    "start_time": "2022-10-24T18:36:45.939Z"
   },
   {
    "duration": 21,
    "start_time": "2022-10-24T18:38:07.424Z"
   },
   {
    "duration": 32,
    "start_time": "2022-10-24T18:38:08.055Z"
   },
   {
    "duration": 23,
    "start_time": "2022-10-24T18:38:13.952Z"
   },
   {
    "duration": 4,
    "start_time": "2022-10-24T18:38:24.556Z"
   },
   {
    "duration": 28,
    "start_time": "2022-10-24T18:38:28.008Z"
   },
   {
    "duration": 468,
    "start_time": "2022-10-24T19:21:28.501Z"
   },
   {
    "duration": 24,
    "start_time": "2022-10-24T19:21:28.971Z"
   },
   {
    "duration": 16,
    "start_time": "2022-10-24T19:21:28.997Z"
   },
   {
    "duration": 11,
    "start_time": "2022-10-24T19:21:29.015Z"
   },
   {
    "duration": 33,
    "start_time": "2022-10-24T19:21:29.027Z"
   },
   {
    "duration": 31,
    "start_time": "2022-10-24T19:21:29.062Z"
   },
   {
    "duration": 9,
    "start_time": "2022-10-24T19:21:29.095Z"
   },
   {
    "duration": 4,
    "start_time": "2022-10-24T19:21:29.105Z"
   },
   {
    "duration": 9,
    "start_time": "2022-10-24T19:21:29.111Z"
   },
   {
    "duration": 5,
    "start_time": "2022-10-24T19:21:29.122Z"
   },
   {
    "duration": 66,
    "start_time": "2022-10-24T19:21:29.128Z"
   },
   {
    "duration": 10,
    "start_time": "2022-10-24T19:21:29.195Z"
   },
   {
    "duration": 9,
    "start_time": "2022-10-24T19:21:29.207Z"
   },
   {
    "duration": 12,
    "start_time": "2022-10-24T19:21:29.217Z"
   },
   {
    "duration": 22,
    "start_time": "2022-10-24T19:21:29.230Z"
   },
   {
    "duration": 41,
    "start_time": "2022-10-24T19:21:29.253Z"
   },
   {
    "duration": 3,
    "start_time": "2022-10-24T19:21:29.296Z"
   },
   {
    "duration": 16,
    "start_time": "2022-10-24T19:21:29.301Z"
   },
   {
    "duration": 8,
    "start_time": "2022-10-24T19:21:29.318Z"
   },
   {
    "duration": 4,
    "start_time": "2022-10-24T19:21:29.327Z"
   },
   {
    "duration": 11,
    "start_time": "2022-10-24T19:21:29.332Z"
   },
   {
    "duration": 7,
    "start_time": "2022-10-24T19:21:29.345Z"
   },
   {
    "duration": 333,
    "start_time": "2022-10-24T19:21:29.353Z"
   },
   {
    "duration": 33,
    "start_time": "2022-10-24T19:21:29.691Z"
   },
   {
    "duration": 30,
    "start_time": "2022-10-24T19:21:29.726Z"
   },
   {
    "duration": 51,
    "start_time": "2022-10-24T19:21:29.758Z"
   },
   {
    "duration": 4,
    "start_time": "2022-10-24T19:26:15.345Z"
   },
   {
    "duration": 445,
    "start_time": "2022-10-24T19:26:24.417Z"
   },
   {
    "duration": 23,
    "start_time": "2022-10-24T19:26:24.864Z"
   },
   {
    "duration": 15,
    "start_time": "2022-10-24T19:26:24.888Z"
   },
   {
    "duration": 13,
    "start_time": "2022-10-24T19:26:24.904Z"
   },
   {
    "duration": 33,
    "start_time": "2022-10-24T19:26:24.919Z"
   },
   {
    "duration": 3,
    "start_time": "2022-10-24T19:26:24.953Z"
   },
   {
    "duration": 10,
    "start_time": "2022-10-24T19:26:24.958Z"
   },
   {
    "duration": 23,
    "start_time": "2022-10-24T19:26:24.970Z"
   },
   {
    "duration": 15,
    "start_time": "2022-10-24T19:26:24.994Z"
   },
   {
    "duration": 8,
    "start_time": "2022-10-24T19:26:25.010Z"
   },
   {
    "duration": 39,
    "start_time": "2022-10-24T19:26:25.019Z"
   },
   {
    "duration": 9,
    "start_time": "2022-10-24T19:26:25.060Z"
   },
   {
    "duration": 20,
    "start_time": "2022-10-24T19:26:25.071Z"
   },
   {
    "duration": 14,
    "start_time": "2022-10-24T19:26:25.093Z"
   },
   {
    "duration": 20,
    "start_time": "2022-10-24T19:26:25.109Z"
   },
   {
    "duration": 17,
    "start_time": "2022-10-24T19:26:25.131Z"
   },
   {
    "duration": 5,
    "start_time": "2022-10-24T19:26:25.150Z"
   },
   {
    "duration": 34,
    "start_time": "2022-10-24T19:26:25.157Z"
   },
   {
    "duration": 7,
    "start_time": "2022-10-24T19:26:25.193Z"
   },
   {
    "duration": 3,
    "start_time": "2022-10-24T19:26:25.202Z"
   },
   {
    "duration": 10,
    "start_time": "2022-10-24T19:26:25.207Z"
   },
   {
    "duration": 8,
    "start_time": "2022-10-24T19:26:25.219Z"
   },
   {
    "duration": 320,
    "start_time": "2022-10-24T19:26:25.228Z"
   },
   {
    "duration": 42,
    "start_time": "2022-10-24T19:26:25.550Z"
   },
   {
    "duration": 27,
    "start_time": "2022-10-24T19:26:25.593Z"
   },
   {
    "duration": 28,
    "start_time": "2022-10-24T19:26:25.621Z"
   }
  ],
  "colab": {
   "name": "dpp_template_part2.ipynb",
   "provenance": []
  },
  "kernelspec": {
   "display_name": "Python 3 (ipykernel)",
   "language": "python",
   "name": "python3"
  },
  "language_info": {
   "codemirror_mode": {
    "name": "ipython",
    "version": 3
   },
   "file_extension": ".py",
   "mimetype": "text/x-python",
   "name": "python",
   "nbconvert_exporter": "python",
   "pygments_lexer": "ipython3",
   "version": "3.11.0"
  },
  "toc": {
   "base_numbering": 1,
   "nav_menu": {},
   "number_sections": true,
   "sideBar": true,
   "skip_h1_title": true,
   "title_cell": "Table of Contents",
   "title_sidebar": "Contents",
   "toc_cell": false,
   "toc_position": {},
   "toc_section_display": true,
   "toc_window_display": false
  }
 },
 "nbformat": 4,
 "nbformat_minor": 5
}
