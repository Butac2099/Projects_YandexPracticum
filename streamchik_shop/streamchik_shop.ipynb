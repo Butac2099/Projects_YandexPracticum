{
 "cells": [
  {
   "cell_type": "markdown",
   "metadata": {},
   "source": [
    "# Проект для интернет-магазина «Стримчик»\n",
    "\n",
    "В нашем распоряжении данные о продажах игр, оценки пользователей и экспертов, жанры и платформы на декабрь 2016 года. Нужно научиться определять рыночную стоимость объектов недвижимости. Наша задача — выявить определяющие успешность игры закономерности, что поможет отпределить потенциально популярный продукт и спланировать рекламные кампании на 2017 год."
   ]
  },
  {
   "cell_type": "markdown",
   "metadata": {},
   "source": [
    "## Просмотр и обработка датасета"
   ]
  },
  {
   "cell_type": "code",
   "execution_count": 1,
   "metadata": {},
   "outputs": [],
   "source": [
    "import pandas as pd\n",
    "import matplotlib.pyplot as plt\n",
    "from scipy import stats as st"
   ]
  },
  {
   "cell_type": "code",
   "execution_count": 2,
   "metadata": {},
   "outputs": [
    {
     "data": {
      "text/html": [
       "<div>\n",
       "<style scoped>\n",
       "    .dataframe tbody tr th:only-of-type {\n",
       "        vertical-align: middle;\n",
       "    }\n",
       "\n",
       "    .dataframe tbody tr th {\n",
       "        vertical-align: top;\n",
       "    }\n",
       "\n",
       "    .dataframe thead th {\n",
       "        text-align: right;\n",
       "    }\n",
       "</style>\n",
       "<table border=\"1\" class=\"dataframe\">\n",
       "  <thead>\n",
       "    <tr style=\"text-align: right;\">\n",
       "      <th></th>\n",
       "      <th>Name</th>\n",
       "      <th>Platform</th>\n",
       "      <th>Year_of_Release</th>\n",
       "      <th>Genre</th>\n",
       "      <th>NA_sales</th>\n",
       "      <th>EU_sales</th>\n",
       "      <th>JP_sales</th>\n",
       "      <th>Other_sales</th>\n",
       "      <th>Critic_Score</th>\n",
       "      <th>User_Score</th>\n",
       "      <th>Rating</th>\n",
       "    </tr>\n",
       "  </thead>\n",
       "  <tbody>\n",
       "    <tr>\n",
       "      <th>0</th>\n",
       "      <td>Wii Sports</td>\n",
       "      <td>Wii</td>\n",
       "      <td>2006.0</td>\n",
       "      <td>Sports</td>\n",
       "      <td>41.36</td>\n",
       "      <td>28.96</td>\n",
       "      <td>3.77</td>\n",
       "      <td>8.45</td>\n",
       "      <td>76.0</td>\n",
       "      <td>8</td>\n",
       "      <td>E</td>\n",
       "    </tr>\n",
       "    <tr>\n",
       "      <th>1</th>\n",
       "      <td>Super Mario Bros.</td>\n",
       "      <td>NES</td>\n",
       "      <td>1985.0</td>\n",
       "      <td>Platform</td>\n",
       "      <td>29.08</td>\n",
       "      <td>3.58</td>\n",
       "      <td>6.81</td>\n",
       "      <td>0.77</td>\n",
       "      <td>NaN</td>\n",
       "      <td>NaN</td>\n",
       "      <td>NaN</td>\n",
       "    </tr>\n",
       "    <tr>\n",
       "      <th>2</th>\n",
       "      <td>Mario Kart Wii</td>\n",
       "      <td>Wii</td>\n",
       "      <td>2008.0</td>\n",
       "      <td>Racing</td>\n",
       "      <td>15.68</td>\n",
       "      <td>12.76</td>\n",
       "      <td>3.79</td>\n",
       "      <td>3.29</td>\n",
       "      <td>82.0</td>\n",
       "      <td>8.3</td>\n",
       "      <td>E</td>\n",
       "    </tr>\n",
       "    <tr>\n",
       "      <th>3</th>\n",
       "      <td>Wii Sports Resort</td>\n",
       "      <td>Wii</td>\n",
       "      <td>2009.0</td>\n",
       "      <td>Sports</td>\n",
       "      <td>15.61</td>\n",
       "      <td>10.93</td>\n",
       "      <td>3.28</td>\n",
       "      <td>2.95</td>\n",
       "      <td>80.0</td>\n",
       "      <td>8</td>\n",
       "      <td>E</td>\n",
       "    </tr>\n",
       "    <tr>\n",
       "      <th>4</th>\n",
       "      <td>Pokemon Red/Pokemon Blue</td>\n",
       "      <td>GB</td>\n",
       "      <td>1996.0</td>\n",
       "      <td>Role-Playing</td>\n",
       "      <td>11.27</td>\n",
       "      <td>8.89</td>\n",
       "      <td>10.22</td>\n",
       "      <td>1.00</td>\n",
       "      <td>NaN</td>\n",
       "      <td>NaN</td>\n",
       "      <td>NaN</td>\n",
       "    </tr>\n",
       "    <tr>\n",
       "      <th>5</th>\n",
       "      <td>Tetris</td>\n",
       "      <td>GB</td>\n",
       "      <td>1989.0</td>\n",
       "      <td>Puzzle</td>\n",
       "      <td>23.20</td>\n",
       "      <td>2.26</td>\n",
       "      <td>4.22</td>\n",
       "      <td>0.58</td>\n",
       "      <td>NaN</td>\n",
       "      <td>NaN</td>\n",
       "      <td>NaN</td>\n",
       "    </tr>\n",
       "    <tr>\n",
       "      <th>6</th>\n",
       "      <td>New Super Mario Bros.</td>\n",
       "      <td>DS</td>\n",
       "      <td>2006.0</td>\n",
       "      <td>Platform</td>\n",
       "      <td>11.28</td>\n",
       "      <td>9.14</td>\n",
       "      <td>6.50</td>\n",
       "      <td>2.88</td>\n",
       "      <td>89.0</td>\n",
       "      <td>8.5</td>\n",
       "      <td>E</td>\n",
       "    </tr>\n",
       "    <tr>\n",
       "      <th>7</th>\n",
       "      <td>Wii Play</td>\n",
       "      <td>Wii</td>\n",
       "      <td>2006.0</td>\n",
       "      <td>Misc</td>\n",
       "      <td>13.96</td>\n",
       "      <td>9.18</td>\n",
       "      <td>2.93</td>\n",
       "      <td>2.84</td>\n",
       "      <td>58.0</td>\n",
       "      <td>6.6</td>\n",
       "      <td>E</td>\n",
       "    </tr>\n",
       "    <tr>\n",
       "      <th>8</th>\n",
       "      <td>New Super Mario Bros. Wii</td>\n",
       "      <td>Wii</td>\n",
       "      <td>2009.0</td>\n",
       "      <td>Platform</td>\n",
       "      <td>14.44</td>\n",
       "      <td>6.94</td>\n",
       "      <td>4.70</td>\n",
       "      <td>2.24</td>\n",
       "      <td>87.0</td>\n",
       "      <td>8.4</td>\n",
       "      <td>E</td>\n",
       "    </tr>\n",
       "    <tr>\n",
       "      <th>9</th>\n",
       "      <td>Duck Hunt</td>\n",
       "      <td>NES</td>\n",
       "      <td>1984.0</td>\n",
       "      <td>Shooter</td>\n",
       "      <td>26.93</td>\n",
       "      <td>0.63</td>\n",
       "      <td>0.28</td>\n",
       "      <td>0.47</td>\n",
       "      <td>NaN</td>\n",
       "      <td>NaN</td>\n",
       "      <td>NaN</td>\n",
       "    </tr>\n",
       "    <tr>\n",
       "      <th>10</th>\n",
       "      <td>Nintendogs</td>\n",
       "      <td>DS</td>\n",
       "      <td>2005.0</td>\n",
       "      <td>Simulation</td>\n",
       "      <td>9.05</td>\n",
       "      <td>10.95</td>\n",
       "      <td>1.93</td>\n",
       "      <td>2.74</td>\n",
       "      <td>NaN</td>\n",
       "      <td>NaN</td>\n",
       "      <td>NaN</td>\n",
       "    </tr>\n",
       "    <tr>\n",
       "      <th>11</th>\n",
       "      <td>Mario Kart DS</td>\n",
       "      <td>DS</td>\n",
       "      <td>2005.0</td>\n",
       "      <td>Racing</td>\n",
       "      <td>9.71</td>\n",
       "      <td>7.47</td>\n",
       "      <td>4.13</td>\n",
       "      <td>1.90</td>\n",
       "      <td>91.0</td>\n",
       "      <td>8.6</td>\n",
       "      <td>E</td>\n",
       "    </tr>\n",
       "    <tr>\n",
       "      <th>12</th>\n",
       "      <td>Pokemon Gold/Pokemon Silver</td>\n",
       "      <td>GB</td>\n",
       "      <td>1999.0</td>\n",
       "      <td>Role-Playing</td>\n",
       "      <td>9.00</td>\n",
       "      <td>6.18</td>\n",
       "      <td>7.20</td>\n",
       "      <td>0.71</td>\n",
       "      <td>NaN</td>\n",
       "      <td>NaN</td>\n",
       "      <td>NaN</td>\n",
       "    </tr>\n",
       "    <tr>\n",
       "      <th>13</th>\n",
       "      <td>Wii Fit</td>\n",
       "      <td>Wii</td>\n",
       "      <td>2007.0</td>\n",
       "      <td>Sports</td>\n",
       "      <td>8.92</td>\n",
       "      <td>8.03</td>\n",
       "      <td>3.60</td>\n",
       "      <td>2.15</td>\n",
       "      <td>80.0</td>\n",
       "      <td>7.7</td>\n",
       "      <td>E</td>\n",
       "    </tr>\n",
       "    <tr>\n",
       "      <th>14</th>\n",
       "      <td>Kinect Adventures!</td>\n",
       "      <td>X360</td>\n",
       "      <td>2010.0</td>\n",
       "      <td>Misc</td>\n",
       "      <td>15.00</td>\n",
       "      <td>4.89</td>\n",
       "      <td>0.24</td>\n",
       "      <td>1.69</td>\n",
       "      <td>61.0</td>\n",
       "      <td>6.3</td>\n",
       "      <td>E</td>\n",
       "    </tr>\n",
       "    <tr>\n",
       "      <th>15</th>\n",
       "      <td>Wii Fit Plus</td>\n",
       "      <td>Wii</td>\n",
       "      <td>2009.0</td>\n",
       "      <td>Sports</td>\n",
       "      <td>9.01</td>\n",
       "      <td>8.49</td>\n",
       "      <td>2.53</td>\n",
       "      <td>1.77</td>\n",
       "      <td>80.0</td>\n",
       "      <td>7.4</td>\n",
       "      <td>E</td>\n",
       "    </tr>\n",
       "    <tr>\n",
       "      <th>16</th>\n",
       "      <td>Grand Theft Auto V</td>\n",
       "      <td>PS3</td>\n",
       "      <td>2013.0</td>\n",
       "      <td>Action</td>\n",
       "      <td>7.02</td>\n",
       "      <td>9.09</td>\n",
       "      <td>0.98</td>\n",
       "      <td>3.96</td>\n",
       "      <td>97.0</td>\n",
       "      <td>8.2</td>\n",
       "      <td>M</td>\n",
       "    </tr>\n",
       "    <tr>\n",
       "      <th>17</th>\n",
       "      <td>Grand Theft Auto: San Andreas</td>\n",
       "      <td>PS2</td>\n",
       "      <td>2004.0</td>\n",
       "      <td>Action</td>\n",
       "      <td>9.43</td>\n",
       "      <td>0.40</td>\n",
       "      <td>0.41</td>\n",
       "      <td>10.57</td>\n",
       "      <td>95.0</td>\n",
       "      <td>9</td>\n",
       "      <td>M</td>\n",
       "    </tr>\n",
       "    <tr>\n",
       "      <th>18</th>\n",
       "      <td>Super Mario World</td>\n",
       "      <td>SNES</td>\n",
       "      <td>1990.0</td>\n",
       "      <td>Platform</td>\n",
       "      <td>12.78</td>\n",
       "      <td>3.75</td>\n",
       "      <td>3.54</td>\n",
       "      <td>0.55</td>\n",
       "      <td>NaN</td>\n",
       "      <td>NaN</td>\n",
       "      <td>NaN</td>\n",
       "    </tr>\n",
       "    <tr>\n",
       "      <th>19</th>\n",
       "      <td>Brain Age: Train Your Brain in Minutes a Day</td>\n",
       "      <td>DS</td>\n",
       "      <td>2005.0</td>\n",
       "      <td>Misc</td>\n",
       "      <td>4.74</td>\n",
       "      <td>9.20</td>\n",
       "      <td>4.16</td>\n",
       "      <td>2.04</td>\n",
       "      <td>77.0</td>\n",
       "      <td>7.9</td>\n",
       "      <td>E</td>\n",
       "    </tr>\n",
       "  </tbody>\n",
       "</table>\n",
       "</div>"
      ],
      "text/plain": [
       "                                            Name Platform  Year_of_Release  \\\n",
       "0                                     Wii Sports      Wii           2006.0   \n",
       "1                              Super Mario Bros.      NES           1985.0   \n",
       "2                                 Mario Kart Wii      Wii           2008.0   \n",
       "3                              Wii Sports Resort      Wii           2009.0   \n",
       "4                       Pokemon Red/Pokemon Blue       GB           1996.0   \n",
       "5                                         Tetris       GB           1989.0   \n",
       "6                          New Super Mario Bros.       DS           2006.0   \n",
       "7                                       Wii Play      Wii           2006.0   \n",
       "8                      New Super Mario Bros. Wii      Wii           2009.0   \n",
       "9                                      Duck Hunt      NES           1984.0   \n",
       "10                                    Nintendogs       DS           2005.0   \n",
       "11                                 Mario Kart DS       DS           2005.0   \n",
       "12                   Pokemon Gold/Pokemon Silver       GB           1999.0   \n",
       "13                                       Wii Fit      Wii           2007.0   \n",
       "14                            Kinect Adventures!     X360           2010.0   \n",
       "15                                  Wii Fit Plus      Wii           2009.0   \n",
       "16                            Grand Theft Auto V      PS3           2013.0   \n",
       "17                 Grand Theft Auto: San Andreas      PS2           2004.0   \n",
       "18                             Super Mario World     SNES           1990.0   \n",
       "19  Brain Age: Train Your Brain in Minutes a Day       DS           2005.0   \n",
       "\n",
       "           Genre  NA_sales  EU_sales  JP_sales  Other_sales  Critic_Score  \\\n",
       "0         Sports     41.36     28.96      3.77         8.45          76.0   \n",
       "1       Platform     29.08      3.58      6.81         0.77           NaN   \n",
       "2         Racing     15.68     12.76      3.79         3.29          82.0   \n",
       "3         Sports     15.61     10.93      3.28         2.95          80.0   \n",
       "4   Role-Playing     11.27      8.89     10.22         1.00           NaN   \n",
       "5         Puzzle     23.20      2.26      4.22         0.58           NaN   \n",
       "6       Platform     11.28      9.14      6.50         2.88          89.0   \n",
       "7           Misc     13.96      9.18      2.93         2.84          58.0   \n",
       "8       Platform     14.44      6.94      4.70         2.24          87.0   \n",
       "9        Shooter     26.93      0.63      0.28         0.47           NaN   \n",
       "10    Simulation      9.05     10.95      1.93         2.74           NaN   \n",
       "11        Racing      9.71      7.47      4.13         1.90          91.0   \n",
       "12  Role-Playing      9.00      6.18      7.20         0.71           NaN   \n",
       "13        Sports      8.92      8.03      3.60         2.15          80.0   \n",
       "14          Misc     15.00      4.89      0.24         1.69          61.0   \n",
       "15        Sports      9.01      8.49      2.53         1.77          80.0   \n",
       "16        Action      7.02      9.09      0.98         3.96          97.0   \n",
       "17        Action      9.43      0.40      0.41        10.57          95.0   \n",
       "18      Platform     12.78      3.75      3.54         0.55           NaN   \n",
       "19          Misc      4.74      9.20      4.16         2.04          77.0   \n",
       "\n",
       "   User_Score Rating  \n",
       "0           8      E  \n",
       "1         NaN    NaN  \n",
       "2         8.3      E  \n",
       "3           8      E  \n",
       "4         NaN    NaN  \n",
       "5         NaN    NaN  \n",
       "6         8.5      E  \n",
       "7         6.6      E  \n",
       "8         8.4      E  \n",
       "9         NaN    NaN  \n",
       "10        NaN    NaN  \n",
       "11        8.6      E  \n",
       "12        NaN    NaN  \n",
       "13        7.7      E  \n",
       "14        6.3      E  \n",
       "15        7.4      E  \n",
       "16        8.2      M  \n",
       "17          9      M  \n",
       "18        NaN    NaN  \n",
       "19        7.9      E  "
      ]
     },
     "execution_count": 2,
     "metadata": {},
     "output_type": "execute_result"
    }
   ],
   "source": [
    "games = pd.read_csv('/datasets/games.csv')\n",
    "\n",
    "games.head(20)"
   ]
  },
  {
   "cell_type": "code",
   "execution_count": 3,
   "metadata": {
    "scrolled": true
   },
   "outputs": [
    {
     "name": "stdout",
     "output_type": "stream",
     "text": [
      "<class 'pandas.core.frame.DataFrame'>\n",
      "RangeIndex: 16715 entries, 0 to 16714\n",
      "Data columns (total 11 columns):\n",
      " #   Column           Non-Null Count  Dtype  \n",
      "---  ------           --------------  -----  \n",
      " 0   Name             16713 non-null  object \n",
      " 1   Platform         16715 non-null  object \n",
      " 2   Year_of_Release  16446 non-null  float64\n",
      " 3   Genre            16713 non-null  object \n",
      " 4   NA_sales         16715 non-null  float64\n",
      " 5   EU_sales         16715 non-null  float64\n",
      " 6   JP_sales         16715 non-null  float64\n",
      " 7   Other_sales      16715 non-null  float64\n",
      " 8   Critic_Score     8137 non-null   float64\n",
      " 9   User_Score       10014 non-null  object \n",
      " 10  Rating           9949 non-null   object \n",
      "dtypes: float64(6), object(5)\n",
      "memory usage: 1.4+ MB\n"
     ]
    }
   ],
   "source": [
    "games.info()"
   ]
  },
  {
   "cell_type": "code",
   "execution_count": 4,
   "metadata": {},
   "outputs": [
    {
     "data": {
      "text/plain": [
       "0"
      ]
     },
     "execution_count": 4,
     "metadata": {},
     "output_type": "execute_result"
    }
   ],
   "source": [
    "games.duplicated().sum() #проверим датасет на дубликаты"
   ]
  },
  {
   "cell_type": "code",
   "execution_count": 5,
   "metadata": {},
   "outputs": [
    {
     "data": {
      "text/html": [
       "<div>\n",
       "<style scoped>\n",
       "    .dataframe tbody tr th:only-of-type {\n",
       "        vertical-align: middle;\n",
       "    }\n",
       "\n",
       "    .dataframe tbody tr th {\n",
       "        vertical-align: top;\n",
       "    }\n",
       "\n",
       "    .dataframe thead th {\n",
       "        text-align: right;\n",
       "    }\n",
       "</style>\n",
       "<table border=\"1\" class=\"dataframe\">\n",
       "  <thead>\n",
       "    <tr style=\"text-align: right;\">\n",
       "      <th></th>\n",
       "      <th>name</th>\n",
       "      <th>platform</th>\n",
       "      <th>year_of_release</th>\n",
       "      <th>genre</th>\n",
       "      <th>na_sales</th>\n",
       "      <th>eu_sales</th>\n",
       "      <th>jp_sales</th>\n",
       "      <th>other_sales</th>\n",
       "      <th>critic_score</th>\n",
       "      <th>user_score</th>\n",
       "      <th>rating</th>\n",
       "    </tr>\n",
       "  </thead>\n",
       "  <tbody>\n",
       "    <tr>\n",
       "      <th>0</th>\n",
       "      <td>Wii Sports</td>\n",
       "      <td>Wii</td>\n",
       "      <td>2006.0</td>\n",
       "      <td>Sports</td>\n",
       "      <td>41.36</td>\n",
       "      <td>28.96</td>\n",
       "      <td>3.77</td>\n",
       "      <td>8.45</td>\n",
       "      <td>76.0</td>\n",
       "      <td>8</td>\n",
       "      <td>E</td>\n",
       "    </tr>\n",
       "    <tr>\n",
       "      <th>1</th>\n",
       "      <td>Super Mario Bros.</td>\n",
       "      <td>NES</td>\n",
       "      <td>1985.0</td>\n",
       "      <td>Platform</td>\n",
       "      <td>29.08</td>\n",
       "      <td>3.58</td>\n",
       "      <td>6.81</td>\n",
       "      <td>0.77</td>\n",
       "      <td>NaN</td>\n",
       "      <td>NaN</td>\n",
       "      <td>NaN</td>\n",
       "    </tr>\n",
       "    <tr>\n",
       "      <th>2</th>\n",
       "      <td>Mario Kart Wii</td>\n",
       "      <td>Wii</td>\n",
       "      <td>2008.0</td>\n",
       "      <td>Racing</td>\n",
       "      <td>15.68</td>\n",
       "      <td>12.76</td>\n",
       "      <td>3.79</td>\n",
       "      <td>3.29</td>\n",
       "      <td>82.0</td>\n",
       "      <td>8.3</td>\n",
       "      <td>E</td>\n",
       "    </tr>\n",
       "    <tr>\n",
       "      <th>3</th>\n",
       "      <td>Wii Sports Resort</td>\n",
       "      <td>Wii</td>\n",
       "      <td>2009.0</td>\n",
       "      <td>Sports</td>\n",
       "      <td>15.61</td>\n",
       "      <td>10.93</td>\n",
       "      <td>3.28</td>\n",
       "      <td>2.95</td>\n",
       "      <td>80.0</td>\n",
       "      <td>8</td>\n",
       "      <td>E</td>\n",
       "    </tr>\n",
       "    <tr>\n",
       "      <th>4</th>\n",
       "      <td>Pokemon Red/Pokemon Blue</td>\n",
       "      <td>GB</td>\n",
       "      <td>1996.0</td>\n",
       "      <td>Role-Playing</td>\n",
       "      <td>11.27</td>\n",
       "      <td>8.89</td>\n",
       "      <td>10.22</td>\n",
       "      <td>1.00</td>\n",
       "      <td>NaN</td>\n",
       "      <td>NaN</td>\n",
       "      <td>NaN</td>\n",
       "    </tr>\n",
       "  </tbody>\n",
       "</table>\n",
       "</div>"
      ],
      "text/plain": [
       "                       name platform  year_of_release         genre  na_sales  \\\n",
       "0                Wii Sports      Wii           2006.0        Sports     41.36   \n",
       "1         Super Mario Bros.      NES           1985.0      Platform     29.08   \n",
       "2            Mario Kart Wii      Wii           2008.0        Racing     15.68   \n",
       "3         Wii Sports Resort      Wii           2009.0        Sports     15.61   \n",
       "4  Pokemon Red/Pokemon Blue       GB           1996.0  Role-Playing     11.27   \n",
       "\n",
       "   eu_sales  jp_sales  other_sales  critic_score user_score rating  \n",
       "0     28.96      3.77         8.45          76.0          8      E  \n",
       "1      3.58      6.81         0.77           NaN        NaN    NaN  \n",
       "2     12.76      3.79         3.29          82.0        8.3      E  \n",
       "3     10.93      3.28         2.95          80.0          8      E  \n",
       "4      8.89     10.22         1.00           NaN        NaN    NaN  "
      ]
     },
     "execution_count": 5,
     "metadata": {},
     "output_type": "execute_result"
    }
   ],
   "source": [
    "games.columns = games.columns.str.lower() #приводим название столбцов к нижнему регистру\n",
    "\n",
    "games.head()"
   ]
  },
  {
   "cell_type": "markdown",
   "metadata": {},
   "source": [
    "**В информации о датасете заметил, что 'name' содержит пропуски, нужно их посмотреть для принятия решения заполнить/удалить/оставить**"
   ]
  },
  {
   "cell_type": "code",
   "execution_count": 6,
   "metadata": {},
   "outputs": [
    {
     "data": {
      "text/html": [
       "<div>\n",
       "<style scoped>\n",
       "    .dataframe tbody tr th:only-of-type {\n",
       "        vertical-align: middle;\n",
       "    }\n",
       "\n",
       "    .dataframe tbody tr th {\n",
       "        vertical-align: top;\n",
       "    }\n",
       "\n",
       "    .dataframe thead th {\n",
       "        text-align: right;\n",
       "    }\n",
       "</style>\n",
       "<table border=\"1\" class=\"dataframe\">\n",
       "  <thead>\n",
       "    <tr style=\"text-align: right;\">\n",
       "      <th></th>\n",
       "      <th>name</th>\n",
       "      <th>platform</th>\n",
       "      <th>year_of_release</th>\n",
       "      <th>genre</th>\n",
       "      <th>na_sales</th>\n",
       "      <th>eu_sales</th>\n",
       "      <th>jp_sales</th>\n",
       "      <th>other_sales</th>\n",
       "      <th>critic_score</th>\n",
       "      <th>user_score</th>\n",
       "      <th>rating</th>\n",
       "    </tr>\n",
       "  </thead>\n",
       "  <tbody>\n",
       "    <tr>\n",
       "      <th>659</th>\n",
       "      <td>NaN</td>\n",
       "      <td>GEN</td>\n",
       "      <td>1993.0</td>\n",
       "      <td>NaN</td>\n",
       "      <td>1.78</td>\n",
       "      <td>0.53</td>\n",
       "      <td>0.00</td>\n",
       "      <td>0.08</td>\n",
       "      <td>NaN</td>\n",
       "      <td>NaN</td>\n",
       "      <td>NaN</td>\n",
       "    </tr>\n",
       "    <tr>\n",
       "      <th>14244</th>\n",
       "      <td>NaN</td>\n",
       "      <td>GEN</td>\n",
       "      <td>1993.0</td>\n",
       "      <td>NaN</td>\n",
       "      <td>0.00</td>\n",
       "      <td>0.00</td>\n",
       "      <td>0.03</td>\n",
       "      <td>0.00</td>\n",
       "      <td>NaN</td>\n",
       "      <td>NaN</td>\n",
       "      <td>NaN</td>\n",
       "    </tr>\n",
       "  </tbody>\n",
       "</table>\n",
       "</div>"
      ],
      "text/plain": [
       "      name platform  year_of_release genre  na_sales  eu_sales  jp_sales  \\\n",
       "659    NaN      GEN           1993.0   NaN      1.78      0.53      0.00   \n",
       "14244  NaN      GEN           1993.0   NaN      0.00      0.00      0.03   \n",
       "\n",
       "       other_sales  critic_score user_score rating  \n",
       "659           0.08           NaN        NaN    NaN  \n",
       "14244         0.00           NaN        NaN    NaN  "
      ]
     },
     "metadata": {},
     "output_type": "display_data"
    }
   ],
   "source": [
    "display(games[games['name'].isna()])"
   ]
  },
  {
   "cell_type": "markdown",
   "metadata": {},
   "source": [
    "**Видно что практически вся информация по этим играм отсутствует, поэтому можно их удалить**"
   ]
  },
  {
   "cell_type": "code",
   "execution_count": 7,
   "metadata": {},
   "outputs": [],
   "source": [
    "games = games.dropna(subset=['name'])"
   ]
  },
  {
   "cell_type": "code",
   "execution_count": 8,
   "metadata": {},
   "outputs": [
    {
     "name": "stdout",
     "output_type": "stream",
     "text": [
      "<class 'pandas.core.frame.DataFrame'>\n",
      "Int64Index: 16713 entries, 0 to 16714\n",
      "Data columns (total 11 columns):\n",
      " #   Column           Non-Null Count  Dtype  \n",
      "---  ------           --------------  -----  \n",
      " 0   name             16713 non-null  object \n",
      " 1   platform         16713 non-null  object \n",
      " 2   year_of_release  16444 non-null  float64\n",
      " 3   genre            16713 non-null  object \n",
      " 4   na_sales         16713 non-null  float64\n",
      " 5   eu_sales         16713 non-null  float64\n",
      " 6   jp_sales         16713 non-null  float64\n",
      " 7   other_sales      16713 non-null  float64\n",
      " 8   critic_score     8137 non-null   float64\n",
      " 9   user_score       10014 non-null  object \n",
      " 10  rating           9949 non-null   object \n",
      "dtypes: float64(6), object(5)\n",
      "memory usage: 1.5+ MB\n"
     ]
    }
   ],
   "source": [
    "games.info()"
   ]
  },
  {
   "cell_type": "code",
   "execution_count": 9,
   "metadata": {},
   "outputs": [
    {
     "name": "stdout",
     "output_type": "stream",
     "text": [
      "Пропусков в столбце year_of_release : 1.6095255190570215 %\n"
     ]
    }
   ],
   "source": [
    "#посмотрим процент пропусков в 'year_of_release'\n",
    "percent = 100 / games['name'].count() * (games['name'].count() - games['year_of_release'].count()) \n",
    "print('Пропусков в столбце', 'year_of_release',':', percent,'%' )"
   ]
  },
  {
   "cell_type": "markdown",
   "metadata": {},
   "source": [
    "**Видим что пропусков в столбце всего 1.6%, поэтому данные строки можно исключить, т.к. они никак не повлияют на дальнейший анализ, но работать будет проще**"
   ]
  },
  {
   "cell_type": "code",
   "execution_count": 10,
   "metadata": {},
   "outputs": [
    {
     "name": "stdout",
     "output_type": "stream",
     "text": [
      "<class 'pandas.core.frame.DataFrame'>\n",
      "Int64Index: 16444 entries, 0 to 16714\n",
      "Data columns (total 11 columns):\n",
      " #   Column           Non-Null Count  Dtype  \n",
      "---  ------           --------------  -----  \n",
      " 0   name             16444 non-null  object \n",
      " 1   platform         16444 non-null  object \n",
      " 2   year_of_release  16444 non-null  float64\n",
      " 3   genre            16444 non-null  object \n",
      " 4   na_sales         16444 non-null  float64\n",
      " 5   eu_sales         16444 non-null  float64\n",
      " 6   jp_sales         16444 non-null  float64\n",
      " 7   other_sales      16444 non-null  float64\n",
      " 8   critic_score     7983 non-null   float64\n",
      " 9   user_score       9839 non-null   object \n",
      " 10  rating           9768 non-null   object \n",
      "dtypes: float64(6), object(5)\n",
      "memory usage: 1.5+ MB\n"
     ]
    }
   ],
   "source": [
    "games = games.dropna(subset=['year_of_release'])\n",
    "games.info()"
   ]
  },
  {
   "cell_type": "code",
   "execution_count": 11,
   "metadata": {},
   "outputs": [],
   "source": [
    "games['year_of_release'] = games['year_of_release'].astype(int) \n",
    "#преобразуем столбец с годом релиза в тип int. т.к. год целое число"
   ]
  },
  {
   "cell_type": "code",
   "execution_count": 12,
   "metadata": {},
   "outputs": [
    {
     "name": "stdout",
     "output_type": "stream",
     "text": [
      "<class 'pandas.core.frame.DataFrame'>\n",
      "Int64Index: 16444 entries, 0 to 16714\n",
      "Data columns (total 11 columns):\n",
      " #   Column           Non-Null Count  Dtype  \n",
      "---  ------           --------------  -----  \n",
      " 0   name             16444 non-null  object \n",
      " 1   platform         16444 non-null  object \n",
      " 2   year_of_release  16444 non-null  int64  \n",
      " 3   genre            16444 non-null  object \n",
      " 4   na_sales         16444 non-null  float64\n",
      " 5   eu_sales         16444 non-null  float64\n",
      " 6   jp_sales         16444 non-null  float64\n",
      " 7   other_sales      16444 non-null  float64\n",
      " 8   critic_score     7983 non-null   float64\n",
      " 9   user_score       9839 non-null   object \n",
      " 10  rating           9768 non-null   object \n",
      "dtypes: float64(5), int64(1), object(5)\n",
      "memory usage: 1.5+ MB\n"
     ]
    }
   ],
   "source": [
    "games.info()"
   ]
  },
  {
   "cell_type": "markdown",
   "metadata": {},
   "source": [
    "**Заполнять пропуски не вижу смылса, т.к. заполнение 'critic_score' и 'user_score' средним/медианой исказит результаты корреляционного анализа и стат-тестов, аналогично и с 'rating'**"
   ]
  },
  {
   "cell_type": "markdown",
   "metadata": {},
   "source": [
    "**Причиной пропусков могло быть: ошибка ввода данных, сокрытие информации, человеческий фактор, некоректный запрос.**"
   ]
  },
  {
   "cell_type": "code",
   "execution_count": 13,
   "metadata": {},
   "outputs": [
    {
     "data": {
      "text/html": [
       "<div>\n",
       "<style scoped>\n",
       "    .dataframe tbody tr th:only-of-type {\n",
       "        vertical-align: middle;\n",
       "    }\n",
       "\n",
       "    .dataframe tbody tr th {\n",
       "        vertical-align: top;\n",
       "    }\n",
       "\n",
       "    .dataframe thead th {\n",
       "        text-align: right;\n",
       "    }\n",
       "</style>\n",
       "<table border=\"1\" class=\"dataframe\">\n",
       "  <thead>\n",
       "    <tr style=\"text-align: right;\">\n",
       "      <th></th>\n",
       "      <th>name</th>\n",
       "      <th>platform</th>\n",
       "      <th>year_of_release</th>\n",
       "      <th>genre</th>\n",
       "      <th>na_sales</th>\n",
       "      <th>eu_sales</th>\n",
       "      <th>jp_sales</th>\n",
       "      <th>other_sales</th>\n",
       "      <th>critic_score</th>\n",
       "      <th>user_score</th>\n",
       "      <th>rating</th>\n",
       "    </tr>\n",
       "  </thead>\n",
       "  <tbody>\n",
       "    <tr>\n",
       "      <th>119</th>\n",
       "      <td>Zumba Fitness</td>\n",
       "      <td>Wii</td>\n",
       "      <td>2010</td>\n",
       "      <td>Sports</td>\n",
       "      <td>3.45</td>\n",
       "      <td>2.59</td>\n",
       "      <td>0.0</td>\n",
       "      <td>0.66</td>\n",
       "      <td>NaN</td>\n",
       "      <td>tbd</td>\n",
       "      <td>E</td>\n",
       "    </tr>\n",
       "    <tr>\n",
       "      <th>301</th>\n",
       "      <td>Namco Museum: 50th Anniversary</td>\n",
       "      <td>PS2</td>\n",
       "      <td>2005</td>\n",
       "      <td>Misc</td>\n",
       "      <td>2.08</td>\n",
       "      <td>1.35</td>\n",
       "      <td>0.0</td>\n",
       "      <td>0.54</td>\n",
       "      <td>61.0</td>\n",
       "      <td>tbd</td>\n",
       "      <td>E10+</td>\n",
       "    </tr>\n",
       "    <tr>\n",
       "      <th>520</th>\n",
       "      <td>Zumba Fitness 2</td>\n",
       "      <td>Wii</td>\n",
       "      <td>2011</td>\n",
       "      <td>Sports</td>\n",
       "      <td>1.51</td>\n",
       "      <td>1.03</td>\n",
       "      <td>0.0</td>\n",
       "      <td>0.27</td>\n",
       "      <td>NaN</td>\n",
       "      <td>tbd</td>\n",
       "      <td>T</td>\n",
       "    </tr>\n",
       "    <tr>\n",
       "      <th>645</th>\n",
       "      <td>uDraw Studio</td>\n",
       "      <td>Wii</td>\n",
       "      <td>2010</td>\n",
       "      <td>Misc</td>\n",
       "      <td>1.65</td>\n",
       "      <td>0.57</td>\n",
       "      <td>0.0</td>\n",
       "      <td>0.20</td>\n",
       "      <td>71.0</td>\n",
       "      <td>tbd</td>\n",
       "      <td>E</td>\n",
       "    </tr>\n",
       "    <tr>\n",
       "      <th>718</th>\n",
       "      <td>Just Dance Kids</td>\n",
       "      <td>Wii</td>\n",
       "      <td>2010</td>\n",
       "      <td>Misc</td>\n",
       "      <td>1.52</td>\n",
       "      <td>0.54</td>\n",
       "      <td>0.0</td>\n",
       "      <td>0.18</td>\n",
       "      <td>NaN</td>\n",
       "      <td>tbd</td>\n",
       "      <td>E</td>\n",
       "    </tr>\n",
       "    <tr>\n",
       "      <th>...</th>\n",
       "      <td>...</td>\n",
       "      <td>...</td>\n",
       "      <td>...</td>\n",
       "      <td>...</td>\n",
       "      <td>...</td>\n",
       "      <td>...</td>\n",
       "      <td>...</td>\n",
       "      <td>...</td>\n",
       "      <td>...</td>\n",
       "      <td>...</td>\n",
       "      <td>...</td>\n",
       "    </tr>\n",
       "    <tr>\n",
       "      <th>16695</th>\n",
       "      <td>Planet Monsters</td>\n",
       "      <td>GBA</td>\n",
       "      <td>2001</td>\n",
       "      <td>Action</td>\n",
       "      <td>0.01</td>\n",
       "      <td>0.00</td>\n",
       "      <td>0.0</td>\n",
       "      <td>0.00</td>\n",
       "      <td>67.0</td>\n",
       "      <td>tbd</td>\n",
       "      <td>E</td>\n",
       "    </tr>\n",
       "    <tr>\n",
       "      <th>16697</th>\n",
       "      <td>Bust-A-Move 3000</td>\n",
       "      <td>GC</td>\n",
       "      <td>2003</td>\n",
       "      <td>Puzzle</td>\n",
       "      <td>0.01</td>\n",
       "      <td>0.00</td>\n",
       "      <td>0.0</td>\n",
       "      <td>0.00</td>\n",
       "      <td>53.0</td>\n",
       "      <td>tbd</td>\n",
       "      <td>E</td>\n",
       "    </tr>\n",
       "    <tr>\n",
       "      <th>16698</th>\n",
       "      <td>Mega Brain Boost</td>\n",
       "      <td>DS</td>\n",
       "      <td>2008</td>\n",
       "      <td>Puzzle</td>\n",
       "      <td>0.01</td>\n",
       "      <td>0.00</td>\n",
       "      <td>0.0</td>\n",
       "      <td>0.00</td>\n",
       "      <td>48.0</td>\n",
       "      <td>tbd</td>\n",
       "      <td>E</td>\n",
       "    </tr>\n",
       "    <tr>\n",
       "      <th>16704</th>\n",
       "      <td>Plushees</td>\n",
       "      <td>DS</td>\n",
       "      <td>2008</td>\n",
       "      <td>Simulation</td>\n",
       "      <td>0.01</td>\n",
       "      <td>0.00</td>\n",
       "      <td>0.0</td>\n",
       "      <td>0.00</td>\n",
       "      <td>NaN</td>\n",
       "      <td>tbd</td>\n",
       "      <td>E</td>\n",
       "    </tr>\n",
       "    <tr>\n",
       "      <th>16706</th>\n",
       "      <td>Men in Black II: Alien Escape</td>\n",
       "      <td>GC</td>\n",
       "      <td>2003</td>\n",
       "      <td>Shooter</td>\n",
       "      <td>0.01</td>\n",
       "      <td>0.00</td>\n",
       "      <td>0.0</td>\n",
       "      <td>0.00</td>\n",
       "      <td>NaN</td>\n",
       "      <td>tbd</td>\n",
       "      <td>T</td>\n",
       "    </tr>\n",
       "  </tbody>\n",
       "</table>\n",
       "<p>2376 rows × 11 columns</p>\n",
       "</div>"
      ],
      "text/plain": [
       "                                 name platform  year_of_release       genre  \\\n",
       "119                     Zumba Fitness      Wii             2010      Sports   \n",
       "301    Namco Museum: 50th Anniversary      PS2             2005        Misc   \n",
       "520                   Zumba Fitness 2      Wii             2011      Sports   \n",
       "645                      uDraw Studio      Wii             2010        Misc   \n",
       "718                   Just Dance Kids      Wii             2010        Misc   \n",
       "...                               ...      ...              ...         ...   \n",
       "16695                 Planet Monsters      GBA             2001      Action   \n",
       "16697                Bust-A-Move 3000       GC             2003      Puzzle   \n",
       "16698                Mega Brain Boost       DS             2008      Puzzle   \n",
       "16704                        Plushees       DS             2008  Simulation   \n",
       "16706   Men in Black II: Alien Escape       GC             2003     Shooter   \n",
       "\n",
       "       na_sales  eu_sales  jp_sales  other_sales  critic_score user_score  \\\n",
       "119        3.45      2.59       0.0         0.66           NaN        tbd   \n",
       "301        2.08      1.35       0.0         0.54          61.0        tbd   \n",
       "520        1.51      1.03       0.0         0.27           NaN        tbd   \n",
       "645        1.65      0.57       0.0         0.20          71.0        tbd   \n",
       "718        1.52      0.54       0.0         0.18           NaN        tbd   \n",
       "...         ...       ...       ...          ...           ...        ...   \n",
       "16695      0.01      0.00       0.0         0.00          67.0        tbd   \n",
       "16697      0.01      0.00       0.0         0.00          53.0        tbd   \n",
       "16698      0.01      0.00       0.0         0.00          48.0        tbd   \n",
       "16704      0.01      0.00       0.0         0.00           NaN        tbd   \n",
       "16706      0.01      0.00       0.0         0.00           NaN        tbd   \n",
       "\n",
       "      rating  \n",
       "119        E  \n",
       "301     E10+  \n",
       "520        T  \n",
       "645        E  \n",
       "718        E  \n",
       "...      ...  \n",
       "16695      E  \n",
       "16697      E  \n",
       "16698      E  \n",
       "16704      E  \n",
       "16706      T  \n",
       "\n",
       "[2376 rows x 11 columns]"
      ]
     },
     "metadata": {},
     "output_type": "display_data"
    }
   ],
   "source": [
    "display(games[games['user_score'] == 'tbd'])"
   ]
  },
  {
   "cell_type": "markdown",
   "metadata": {},
   "source": [
    "**В 'user_score' есть значение 'tbd', что означает \"подлежит уточнению\". Скорее всего для выставления рейтинга пользователей слишком мало оценок у данных игр, поэтому для упрощения понимания дальнейшего анализа датасета 'tbd' можно заменить на пропуски 'NaN'**"
   ]
  },
  {
   "cell_type": "code",
   "execution_count": 14,
   "metadata": {},
   "outputs": [],
   "source": [
    "games.loc[games['user_score'] == 'tbd', 'user_score'] = float('nan')"
   ]
  },
  {
   "cell_type": "code",
   "execution_count": 15,
   "metadata": {},
   "outputs": [
    {
     "name": "stdout",
     "output_type": "stream",
     "text": [
      "<class 'pandas.core.frame.DataFrame'>\n",
      "Int64Index: 16444 entries, 0 to 16714\n",
      "Data columns (total 11 columns):\n",
      " #   Column           Non-Null Count  Dtype  \n",
      "---  ------           --------------  -----  \n",
      " 0   name             16444 non-null  object \n",
      " 1   platform         16444 non-null  object \n",
      " 2   year_of_release  16444 non-null  int64  \n",
      " 3   genre            16444 non-null  object \n",
      " 4   na_sales         16444 non-null  float64\n",
      " 5   eu_sales         16444 non-null  float64\n",
      " 6   jp_sales         16444 non-null  float64\n",
      " 7   other_sales      16444 non-null  float64\n",
      " 8   critic_score     7983 non-null   float64\n",
      " 9   user_score       7463 non-null   object \n",
      " 10  rating           9768 non-null   object \n",
      "dtypes: float64(5), int64(1), object(5)\n",
      "memory usage: 1.5+ MB\n"
     ]
    }
   ],
   "source": [
    "games.info()"
   ]
  },
  {
   "cell_type": "code",
   "execution_count": 16,
   "metadata": {},
   "outputs": [],
   "source": [
    "games['user_score'] = games['user_score'].astype(float)"
   ]
  },
  {
   "cell_type": "code",
   "execution_count": 17,
   "metadata": {},
   "outputs": [
    {
     "name": "stdout",
     "output_type": "stream",
     "text": [
      "<class 'pandas.core.frame.DataFrame'>\n",
      "Int64Index: 16444 entries, 0 to 16714\n",
      "Data columns (total 11 columns):\n",
      " #   Column           Non-Null Count  Dtype  \n",
      "---  ------           --------------  -----  \n",
      " 0   name             16444 non-null  object \n",
      " 1   platform         16444 non-null  object \n",
      " 2   year_of_release  16444 non-null  int64  \n",
      " 3   genre            16444 non-null  object \n",
      " 4   na_sales         16444 non-null  float64\n",
      " 5   eu_sales         16444 non-null  float64\n",
      " 6   jp_sales         16444 non-null  float64\n",
      " 7   other_sales      16444 non-null  float64\n",
      " 8   critic_score     7983 non-null   float64\n",
      " 9   user_score       7463 non-null   float64\n",
      " 10  rating           9768 non-null   object \n",
      "dtypes: float64(6), int64(1), object(4)\n",
      "memory usage: 1.5+ MB\n"
     ]
    }
   ],
   "source": [
    "games.info()"
   ]
  },
  {
   "cell_type": "code",
   "execution_count": 18,
   "metadata": {},
   "outputs": [],
   "source": [
    "#Комментарий студента\n",
    "games['rating'] = games['rating'].fillna('без рейтинга') #сделаем заглушку в столбце с рейтингом"
   ]
  },
  {
   "cell_type": "code",
   "execution_count": 19,
   "metadata": {},
   "outputs": [],
   "source": [
    "#добавим новый столбец с общим количеством продаж\n",
    "games['total_sales'] = games[['na_sales', 'eu_sales', 'jp_sales', 'other_sales']].sum(axis=1)"
   ]
  },
  {
   "cell_type": "code",
   "execution_count": 20,
   "metadata": {},
   "outputs": [
    {
     "data": {
      "text/html": [
       "<div>\n",
       "<style scoped>\n",
       "    .dataframe tbody tr th:only-of-type {\n",
       "        vertical-align: middle;\n",
       "    }\n",
       "\n",
       "    .dataframe tbody tr th {\n",
       "        vertical-align: top;\n",
       "    }\n",
       "\n",
       "    .dataframe thead th {\n",
       "        text-align: right;\n",
       "    }\n",
       "</style>\n",
       "<table border=\"1\" class=\"dataframe\">\n",
       "  <thead>\n",
       "    <tr style=\"text-align: right;\">\n",
       "      <th></th>\n",
       "      <th>name</th>\n",
       "      <th>platform</th>\n",
       "      <th>year_of_release</th>\n",
       "      <th>genre</th>\n",
       "      <th>na_sales</th>\n",
       "      <th>eu_sales</th>\n",
       "      <th>jp_sales</th>\n",
       "      <th>other_sales</th>\n",
       "      <th>critic_score</th>\n",
       "      <th>user_score</th>\n",
       "      <th>rating</th>\n",
       "      <th>total_sales</th>\n",
       "    </tr>\n",
       "  </thead>\n",
       "  <tbody>\n",
       "    <tr>\n",
       "      <th>0</th>\n",
       "      <td>Wii Sports</td>\n",
       "      <td>Wii</td>\n",
       "      <td>2006</td>\n",
       "      <td>Sports</td>\n",
       "      <td>41.36</td>\n",
       "      <td>28.96</td>\n",
       "      <td>3.77</td>\n",
       "      <td>8.45</td>\n",
       "      <td>76.0</td>\n",
       "      <td>8.0</td>\n",
       "      <td>E</td>\n",
       "      <td>82.54</td>\n",
       "    </tr>\n",
       "    <tr>\n",
       "      <th>1</th>\n",
       "      <td>Super Mario Bros.</td>\n",
       "      <td>NES</td>\n",
       "      <td>1985</td>\n",
       "      <td>Platform</td>\n",
       "      <td>29.08</td>\n",
       "      <td>3.58</td>\n",
       "      <td>6.81</td>\n",
       "      <td>0.77</td>\n",
       "      <td>NaN</td>\n",
       "      <td>NaN</td>\n",
       "      <td>без рейтинга</td>\n",
       "      <td>40.24</td>\n",
       "    </tr>\n",
       "    <tr>\n",
       "      <th>2</th>\n",
       "      <td>Mario Kart Wii</td>\n",
       "      <td>Wii</td>\n",
       "      <td>2008</td>\n",
       "      <td>Racing</td>\n",
       "      <td>15.68</td>\n",
       "      <td>12.76</td>\n",
       "      <td>3.79</td>\n",
       "      <td>3.29</td>\n",
       "      <td>82.0</td>\n",
       "      <td>8.3</td>\n",
       "      <td>E</td>\n",
       "      <td>35.52</td>\n",
       "    </tr>\n",
       "    <tr>\n",
       "      <th>3</th>\n",
       "      <td>Wii Sports Resort</td>\n",
       "      <td>Wii</td>\n",
       "      <td>2009</td>\n",
       "      <td>Sports</td>\n",
       "      <td>15.61</td>\n",
       "      <td>10.93</td>\n",
       "      <td>3.28</td>\n",
       "      <td>2.95</td>\n",
       "      <td>80.0</td>\n",
       "      <td>8.0</td>\n",
       "      <td>E</td>\n",
       "      <td>32.77</td>\n",
       "    </tr>\n",
       "    <tr>\n",
       "      <th>4</th>\n",
       "      <td>Pokemon Red/Pokemon Blue</td>\n",
       "      <td>GB</td>\n",
       "      <td>1996</td>\n",
       "      <td>Role-Playing</td>\n",
       "      <td>11.27</td>\n",
       "      <td>8.89</td>\n",
       "      <td>10.22</td>\n",
       "      <td>1.00</td>\n",
       "      <td>NaN</td>\n",
       "      <td>NaN</td>\n",
       "      <td>без рейтинга</td>\n",
       "      <td>31.38</td>\n",
       "    </tr>\n",
       "  </tbody>\n",
       "</table>\n",
       "</div>"
      ],
      "text/plain": [
       "                       name platform  year_of_release         genre  na_sales  \\\n",
       "0                Wii Sports      Wii             2006        Sports     41.36   \n",
       "1         Super Mario Bros.      NES             1985      Platform     29.08   \n",
       "2            Mario Kart Wii      Wii             2008        Racing     15.68   \n",
       "3         Wii Sports Resort      Wii             2009        Sports     15.61   \n",
       "4  Pokemon Red/Pokemon Blue       GB             1996  Role-Playing     11.27   \n",
       "\n",
       "   eu_sales  jp_sales  other_sales  critic_score  user_score        rating  \\\n",
       "0     28.96      3.77         8.45          76.0         8.0             E   \n",
       "1      3.58      6.81         0.77           NaN         NaN  без рейтинга   \n",
       "2     12.76      3.79         3.29          82.0         8.3             E   \n",
       "3     10.93      3.28         2.95          80.0         8.0             E   \n",
       "4      8.89     10.22         1.00           NaN         NaN  без рейтинга   \n",
       "\n",
       "   total_sales  \n",
       "0        82.54  \n",
       "1        40.24  \n",
       "2        35.52  \n",
       "3        32.77  \n",
       "4        31.38  "
      ]
     },
     "execution_count": 20,
     "metadata": {},
     "output_type": "execute_result"
    }
   ],
   "source": [
    "games.head()"
   ]
  },
  {
   "cell_type": "markdown",
   "metadata": {},
   "source": [
    "## Исследовательский анализ данных"
   ]
  },
  {
   "cell_type": "code",
   "execution_count": 22,
   "metadata": {
    "scrolled": false
   },
   "outputs": [
    {
     "data": {
      "text/plain": [
       "Text(0.5, 1.0, 'Кол-во релизов в год')"
      ]
     },
     "metadata": {},
     "output_type": "display_data"
    },
    {
     "data": {
      "image/png": "[encoded data removed]",
      "text/plain": [
       "<Figure size 1080x432 with 1 Axes>"
      ]
     },
     "metadata": {
      "needs_background": "light"
     },
     "output_type": "display_data"
    }
   ],
   "source": [
    "#посмотрим количество релизов по годам\n",
    "display(games.groupby('year_of_release')['name'].count().plot(style='o-', figsize=(15, 6)).set_title('Кол-во релизов в год'))"
   ]
  },
  {
   "cell_type": "markdown",
   "metadata": {},
   "source": [
    "**Самым богатым на релизы был период с 2006 по 2011. После 2011 года идет резкое падение, практически в 2 раза.**"
   ]
  },
  {
   "cell_type": "code",
   "execution_count": 23,
   "metadata": {
    "scrolled": false
   },
   "outputs": [
    {
     "data": {
      "text/plain": [
       "Text(0.5, 1.0, 'Кол-во релизов на платформе')"
      ]
     },
     "metadata": {},
     "output_type": "display_data"
    },
    {
     "data": {
      "image/png": "[encoded data removed]",
      "text/plain": [
       "<Figure size 1080x432 with 1 Axes>"
      ]
     },
     "metadata": {
      "needs_background": "light"
     },
     "output_type": "display_data"
    }
   ],
   "source": [
    "display(\n",
    "    games.groupby('platform')['name'].count().sort_values(ascending=False)\n",
    "    .plot(kind='bar', figsize=(15, 6)).set_title('Кол-во релизов на платформе')\n",
    ")"
   ]
  },
  {
   "cell_type": "code",
   "execution_count": 24,
   "metadata": {},
   "outputs": [
    {
     "data": {
      "text/plain": [
       "<AxesSubplot:xlabel='year_of_release'>"
      ]
     },
     "execution_count": 24,
     "metadata": {},
     "output_type": "execute_result"
    },
    {
     "data": {
      "image/png": "[encoded data removed]",
      "text/plain": [
       "<Figure size 1440x720 with 1 Axes>"
      ]
     },
     "metadata": {
      "needs_background": "light"
     },
     "output_type": "display_data"
    }
   ],
   "source": [
    "games.pivot_table(index='year_of_release', columns='platform', values='total_sales', aggfunc='sum').plot(figsize=(20, 10))"
   ]
  },
  {
   "cell_type": "markdown",
   "metadata": {},
   "source": [
    "**Для анализа возьмем последние 5 лет, т.е. период с 2012 по 2016 года. Большинство платформ уже не выпускаются и игр на них не выходить и учет их в анализе может сильно исказить вывод**"
   ]
  },
  {
   "cell_type": "code",
   "execution_count": 55,
   "metadata": {},
   "outputs": [
    {
     "data": {
      "text/plain": [
       "<AxesSubplot:xlabel='year_of_release'>"
      ]
     },
     "execution_count": 55,
     "metadata": {},
     "output_type": "execute_result"
    },
    {
     "data": {
      "image/png": "[encoded data removed]",
      "text/plain": [
       "<Figure size 1080x360 with 1 Axes>"
      ]
     },
     "metadata": {
      "needs_background": "light"
     },
     "output_type": "display_data"
    }
   ],
   "source": [
    "period_years = games.query('year_of_release >= 2012')\n",
    "top_platforms_sales = period_years.groupby('platform')['total_sales'].sum().sort_values(ascending=False).head(10).index\n",
    "\n",
    "top_platforms_pivot = (\n",
    "    period_years.query('platform in @top_platforms_sales')\n",
    "    .pivot_table(index='year_of_release', columns='platform', values='total_sales', aggfunc='sum')\n",
    ")\n",
    "\n",
    "top_platforms_pivot.plot(figsize=(15, 5))\n"
   ]
  },
  {
   "cell_type": "code",
   "execution_count": 26,
   "metadata": {},
   "outputs": [
    {
     "data": {
      "text/plain": [
       "Text(0.5, 1.0, 'Глобальные продажи по платформам')"
      ]
     },
     "execution_count": 26,
     "metadata": {},
     "output_type": "execute_result"
    },
    {
     "data": {
      "image/png": "[encoded data removed]",
      "text/plain": [
       "<Figure size 1224x432 with 1 Axes>"
      ]
     },
     "metadata": {
      "needs_background": "light"
     },
     "output_type": "display_data"
    }
   ],
   "source": [
    "period_years.boxplot(column='total_sales', by='platform', figsize=(17,6)).set_title('Глобальные продажи по платформам')"
   ]
  },
  {
   "cell_type": "code",
   "execution_count": 27,
   "metadata": {},
   "outputs": [
    {
     "data": {
      "text/plain": [
       "(-0.3, 2.0)"
      ]
     },
     "execution_count": 27,
     "metadata": {},
     "output_type": "execute_result"
    },
    {
     "data": {
      "image/png": "[encoded data removed]",
      "text/plain": [
       "<Figure size 1224x432 with 1 Axes>"
      ]
     },
     "metadata": {
      "needs_background": "light"
     },
     "output_type": "display_data"
    }
   ],
   "source": [
    "period_years.boxplot(column='total_sales', by='platform', figsize=(17,6)).set_title('Глобальные продажи по платформам')\n",
    "plt.ylim(-0.3, 2) #посмотри поближе боксплоты"
   ]
  },
  {
   "cell_type": "markdown",
   "metadata": {},
   "source": [
    "**Предварительно, самыми интересными платформами считаю PS4, Xbox One, 3DS и PC. Хоть продаж у PS3 и Xbox  360 выше, чем на других платформах, но срок их жизни подошел к концу, с выходом следующего поколения приставок**"
   ]
  },
  {
   "cell_type": "markdown",
   "metadata": {},
   "source": [
    "**Посмотрим зависимость продаж от оценок критиков и игроков на Playstation 4**"
   ]
  },
  {
   "cell_type": "code",
   "execution_count": 28,
   "metadata": {},
   "outputs": [
    {
     "name": "stdout",
     "output_type": "stream",
     "text": [
      "Корреляция между оценками критиков и продажами: 0.40656790206178095\n"
     ]
    },
    {
     "data": {
      "image/png": "[encoded data removed]",
      "text/plain": [
       "<Figure size 432x288 with 1 Axes>"
      ]
     },
     "metadata": {
      "needs_background": "light"
     },
     "output_type": "display_data"
    }
   ],
   "source": [
    "#создадим датасет с топовыми платформами за период с 2012 по 2016\n",
    "top_platforms = period_years.query('platform in @top_platforms_sales')\n",
    "\n",
    "ps4_corr = top_platforms[top_platforms['platform'] == 'PS4'] #выделим игры только с PS4\n",
    "\n",
    "ps4_corr.plot(x='total_sales', y='critic_score', kind='scatter',  alpha=0.1).set_title('Влияние оценок критиков на продажи')\n",
    "print('Корреляция между оценками критиков и продажами:', ps4_corr['critic_score'].corr(ps4_corr['total_sales']))"
   ]
  },
  {
   "cell_type": "code",
   "execution_count": 29,
   "metadata": {},
   "outputs": [
    {
     "name": "stdout",
     "output_type": "stream",
     "text": [
      "Корреляция между оценками игроков и продажами: -0.031957110204556376\n"
     ]
    },
    {
     "data": {
      "image/png": "[encoded data removed]",
      "text/plain": [
       "<Figure size 432x288 with 1 Axes>"
      ]
     },
     "metadata": {
      "needs_background": "light"
     },
     "output_type": "display_data"
    }
   ],
   "source": [
    "ps4_corr.plot(x='total_sales', y='user_score', kind='scatter',  alpha=0.1).set_title('Влияние оценок игроков на продажи')\n",
    "print('Корреляция между оценками игроков и продажами:', ps4_corr['user_score'].corr(ps4_corr['total_sales']))"
   ]
  },
  {
   "cell_type": "code",
   "execution_count": 30,
   "metadata": {
    "scrolled": true
   },
   "outputs": [
    {
     "name": "stdout",
     "output_type": "stream",
     "text": [
      "Корреляция между оценками игроков и продажами на X360 0.0061639786462133256\n",
      "Корреляция между оценками игроков и продажами на 3DS 0.19758263411038596\n",
      "Корреляция между оценками игроков и продажами на XOne -0.06892505328279412\n",
      "Корреляция между оценками игроков и продажами на WiiU 0.4002190202148617\n",
      "Корреляция между оценками игроков и продажами на PC -0.12186747630735577\n",
      "Корреляция между оценками игроков и продажами на PSV -0.004339437514314869\n"
     ]
    },
    {
     "data": {
      "image/png": "[encoded data removed]",
      "text/plain": [
       "<Figure size 432x288 with 1 Axes>"
      ]
     },
     "metadata": {
      "needs_background": "light"
     },
     "output_type": "display_data"
    },
    {
     "data": {
      "image/png": "[encoded data removed]",
      "text/plain": [
       "<Figure size 432x288 with 1 Axes>"
      ]
     },
     "metadata": {
      "needs_background": "light"
     },
     "output_type": "display_data"
    },
    {
     "data": {
      "image/png": "[encoded data removed]",
      "text/plain": [
       "<Figure size 432x288 with 1 Axes>"
      ]
     },
     "metadata": {
      "needs_background": "light"
     },
     "output_type": "display_data"
    },
    {
     "data": {
      "image/png": "[encoded data removed]",
      "text/plain": [
       "<Figure size 432x288 with 1 Axes>"
      ]
     },
     "metadata": {
      "needs_background": "light"
     },
     "output_type": "display_data"
    },
    {
     "data": {
      "image/png": "[encoded data removed]",
      "text/plain": [
       "<Figure size 432x288 with 1 Axes>"
      ]
     },
     "metadata": {
      "needs_background": "light"
     },
     "output_type": "display_data"
    },
    {
     "data": {
      "image/png": "[encoded data removed]",
      "text/plain": [
       "<Figure size 432x288 with 1 Axes>"
      ]
     },
     "metadata": {
      "needs_background": "light"
     },
     "output_type": "display_data"
    }
   ],
   "source": [
    "platform_few = ['X360', '3DS', 'XOne', 'WiiU', 'PC', 'PSV']\n",
    "\n",
    "for t in platform_few:\n",
    "    top_platforms[top_platforms['platform'] == t].plot(x='total_sales', y='user_score', kind='scatter',  alpha=0.1, title=t)\n",
    "    current = top_platforms.query('platform == @t')\n",
    "    print('Корреляция между оценками игроков и продажами на', t, current['total_sales'].corr(current['user_score']))"
   ]
  },
  {
   "cell_type": "code",
   "execution_count": 31,
   "metadata": {
    "scrolled": false
   },
   "outputs": [
    {
     "name": "stdout",
     "output_type": "stream",
     "text": [
      "Корреляция между оценками критиков и продажами на X360 0.36057348885073365\n",
      "Корреляция между оценками критиков и продажами на 3DS 0.32080286953607845\n",
      "Корреляция между оценками критиков и продажами на XOne 0.41699832800840175\n",
      "Корреляция между оценками критиков и продажами на WiiU 0.3483797601201749\n",
      "Корреляция между оценками критиков и продажами на PC 0.23724324311567918\n",
      "Корреляция между оценками критиков и продажами на PSV 0.09448789929316172\n"
     ]
    },
    {
     "data": {
      "image/png": "[encoded data removed]",
      "text/plain": [
       "<Figure size 432x288 with 1 Axes>"
      ]
     },
     "metadata": {
      "needs_background": "light"
     },
     "output_type": "display_data"
    },
    {
     "data": {
      "image/png": "[encoded data removed]",
      "text/plain": [
       "<Figure size 432x288 with 1 Axes>"
      ]
     },
     "metadata": {
      "needs_background": "light"
     },
     "output_type": "display_data"
    },
    {
     "data": {
      "image/png": "[encoded data removed]",
      "text/plain": [
       "<Figure size 432x288 with 1 Axes>"
      ]
     },
     "metadata": {
      "needs_background": "light"
     },
     "output_type": "display_data"
    },
    {
     "data": {
      "image/png": "[encoded data removed]",
      "text/plain": [
       "<Figure size 432x288 with 1 Axes>"
      ]
     },
     "metadata": {
      "needs_background": "light"
     },
     "output_type": "display_data"
    },
    {
     "data": {
      "image/png": "[encoded data removed]",
      "text/plain": [
       "<Figure size 432x288 with 1 Axes>"
      ]
     },
     "metadata": {
      "needs_background": "light"
     },
     "output_type": "display_data"
    },
    {
     "data": {
      "image/png": "[encoded data removed]",
      "text/plain": [
       "<Figure size 432x288 with 1 Axes>"
      ]
     },
     "metadata": {
      "needs_background": "light"
     },
     "output_type": "display_data"
    }
   ],
   "source": [
    "for t in platform_few:\n",
    "    top_platforms[top_platforms['platform'] == t].plot(x='total_sales', y='critic_score', kind='scatter',  alpha=0.1, title=t)\n",
    "    current = top_platforms.query('platform == @t')\n",
    "    print('Корреляция между оценками критиков и продажами на', t, current['total_sales'].corr(current['critic_score']))"
   ]
  },
  {
   "cell_type": "markdown",
   "metadata": {},
   "source": [
    "**Посмотрим распредение продаж и количества наименований по жанрам**"
   ]
  },
  {
   "cell_type": "code",
   "execution_count": 32,
   "metadata": {},
   "outputs": [
    {
     "data": {
      "text/plain": [
       "genre\n",
       "Action          1031\n",
       "Role-Playing     370\n",
       "Adventure        302\n",
       "Sports           268\n",
       "Shooter          235\n",
       "Misc             192\n",
       "Racing           115\n",
       "Fighting         109\n",
       "Platform          85\n",
       "Simulation        80\n",
       "Strategy          71\n",
       "Puzzle            28\n",
       "Name: name, dtype: int64"
      ]
     },
     "metadata": {},
     "output_type": "display_data"
    }
   ],
   "source": [
    "sales_genres = period_years.groupby('genre')['name'].count()\n",
    "display(sales_genres.sort_values(ascending=False))"
   ]
  },
  {
   "cell_type": "code",
   "execution_count": 33,
   "metadata": {},
   "outputs": [
    {
     "data": {
      "text/plain": [
       "genre\n",
       "Action          441.12\n",
       "Shooter         304.73\n",
       "Role-Playing    192.80\n",
       "Sports          181.07\n",
       "Misc             85.04\n",
       "Platform         61.00\n",
       "Racing           53.50\n",
       "Fighting         44.49\n",
       "Simulation       35.12\n",
       "Adventure        29.43\n",
       "Strategy         13.34\n",
       "Puzzle            4.89\n",
       "Name: total_sales, dtype: float64"
      ]
     },
     "metadata": {},
     "output_type": "display_data"
    }
   ],
   "source": [
    "sales_genres = period_years.groupby('genre')['total_sales'].sum()\n",
    "display(sales_genres.sort_values(ascending=False))"
   ]
  },
  {
   "cell_type": "markdown",
   "metadata": {},
   "source": [
    "**Самые популярные жанры у игроков Action, Shooter, Role-Playing, Sports, что можно увидеть из группировок выше. Action самый выпускаемый жанр, больше более чем в 2 раза выходило тайтлов с этим жанром в сравнении с ближайшим жанром Role-Playing. В кол-ве продаж Action так же впереди, но вот на втором месте уже Shooter. Из чего можно сделать вывод, что игроков интересуют игры с сюжетом, а если еще они приправлены красивыми спецэффектами, то эту игру точно купят**"
   ]
  },
  {
   "cell_type": "code",
   "execution_count": 34,
   "metadata": {},
   "outputs": [
    {
     "data": {
      "text/plain": [
       "genre\n",
       "Shooter         0.440\n",
       "Sports          0.240\n",
       "Platform        0.210\n",
       "Role-Playing    0.140\n",
       "Racing          0.140\n",
       "Fighting        0.130\n",
       "Action          0.120\n",
       "Misc            0.120\n",
       "Simulation      0.120\n",
       "Strategy        0.080\n",
       "Puzzle          0.045\n",
       "Adventure       0.030\n",
       "Name: total_sales, dtype: float64"
      ]
     },
     "metadata": {},
     "output_type": "display_data"
    }
   ],
   "source": [
    "sales_genres_median = period_years.groupby('genre')['total_sales'].median()\n",
    "display(sales_genres_median.sort_values(ascending=False))"
   ]
  },
  {
   "cell_type": "code",
   "execution_count": 35,
   "metadata": {},
   "outputs": [
    {
     "data": {
      "text/plain": [
       "Text(0.5, 1.0, 'Медиана продаж по жанрам')"
      ]
     },
     "execution_count": 35,
     "metadata": {},
     "output_type": "execute_result"
    },
    {
     "data": {
      "image/png": "[encoded data removed]",
      "text/plain": [
       "<Figure size 1224x432 with 1 Axes>"
      ]
     },
     "metadata": {
      "needs_background": "light"
     },
     "output_type": "display_data"
    }
   ],
   "source": [
    "period_years.boxplot(column='total_sales', by='genre', figsize=(17,6)).set_title('Медиана продаж по жанрам')\n",
    "#plt.ylim(-0.3, 2) #посмотри поближе боксплоты"
   ]
  },
  {
   "cell_type": "code",
   "execution_count": 36,
   "metadata": {},
   "outputs": [
    {
     "data": {
      "text/plain": [
       "(-0.3, 4.0)"
      ]
     },
     "execution_count": 36,
     "metadata": {},
     "output_type": "execute_result"
    },
    {
     "data": {
      "image/png": "[encoded data removed]",
      "text/plain": [
       "<Figure size 1224x720 with 1 Axes>"
      ]
     },
     "metadata": {
      "needs_background": "light"
     },
     "output_type": "display_data"
    }
   ],
   "source": [
    "period_years.boxplot(column='total_sales', by='genre', figsize=(17,10)).set_title('Медиана продаж по жанрам')\n",
    "plt.ylim(-0.3, 4) #посмотри поближе боксплоты"
   ]
  },
  {
   "cell_type": "markdown",
   "metadata": {},
   "source": [
    "**Из диаграммы размаха видно, что шутеры, спорт и платформеры одни из самых прибыльных жанров.**"
   ]
  },
  {
   "cell_type": "code",
   "execution_count": 37,
   "metadata": {},
   "outputs": [
    {
     "data": {
      "text/html": [
       "<div>\n",
       "<style scoped>\n",
       "    .dataframe tbody tr th:only-of-type {\n",
       "        vertical-align: middle;\n",
       "    }\n",
       "\n",
       "    .dataframe tbody tr th {\n",
       "        vertical-align: top;\n",
       "    }\n",
       "\n",
       "    .dataframe thead th {\n",
       "        text-align: right;\n",
       "    }\n",
       "</style>\n",
       "<table border=\"1\" class=\"dataframe\">\n",
       "  <thead>\n",
       "    <tr style=\"text-align: right;\">\n",
       "      <th></th>\n",
       "      <th>name</th>\n",
       "      <th>platform</th>\n",
       "      <th>year_of_release</th>\n",
       "      <th>genre</th>\n",
       "      <th>na_sales</th>\n",
       "      <th>eu_sales</th>\n",
       "      <th>jp_sales</th>\n",
       "      <th>other_sales</th>\n",
       "      <th>critic_score</th>\n",
       "      <th>user_score</th>\n",
       "      <th>rating</th>\n",
       "      <th>total_sales</th>\n",
       "    </tr>\n",
       "  </thead>\n",
       "  <tbody>\n",
       "    <tr>\n",
       "      <th>72</th>\n",
       "      <td>Minecraft</td>\n",
       "      <td>X360</td>\n",
       "      <td>2013</td>\n",
       "      <td>Misc</td>\n",
       "      <td>5.70</td>\n",
       "      <td>2.65</td>\n",
       "      <td>0.02</td>\n",
       "      <td>0.81</td>\n",
       "      <td>NaN</td>\n",
       "      <td>NaN</td>\n",
       "      <td>без рейтинга</td>\n",
       "      <td>9.18</td>\n",
       "    </tr>\n",
       "    <tr>\n",
       "      <th>116</th>\n",
       "      <td>Just Dance 4</td>\n",
       "      <td>Wii</td>\n",
       "      <td>2012</td>\n",
       "      <td>Misc</td>\n",
       "      <td>4.05</td>\n",
       "      <td>2.16</td>\n",
       "      <td>0.00</td>\n",
       "      <td>0.55</td>\n",
       "      <td>74.0</td>\n",
       "      <td>7.3</td>\n",
       "      <td>E10+</td>\n",
       "      <td>6.76</td>\n",
       "    </tr>\n",
       "    <tr>\n",
       "      <th>180</th>\n",
       "      <td>Minecraft</td>\n",
       "      <td>PS3</td>\n",
       "      <td>2014</td>\n",
       "      <td>Misc</td>\n",
       "      <td>2.03</td>\n",
       "      <td>2.37</td>\n",
       "      <td>0.00</td>\n",
       "      <td>0.87</td>\n",
       "      <td>NaN</td>\n",
       "      <td>NaN</td>\n",
       "      <td>без рейтинга</td>\n",
       "      <td>5.27</td>\n",
       "    </tr>\n",
       "    <tr>\n",
       "      <th>248</th>\n",
       "      <td>Nintendo Land</td>\n",
       "      <td>WiiU</td>\n",
       "      <td>2012</td>\n",
       "      <td>Misc</td>\n",
       "      <td>2.52</td>\n",
       "      <td>1.11</td>\n",
       "      <td>0.46</td>\n",
       "      <td>0.33</td>\n",
       "      <td>77.0</td>\n",
       "      <td>7.9</td>\n",
       "      <td>E10+</td>\n",
       "      <td>4.42</td>\n",
       "    </tr>\n",
       "    <tr>\n",
       "      <th>261</th>\n",
       "      <td>Minecraft</td>\n",
       "      <td>PS4</td>\n",
       "      <td>2014</td>\n",
       "      <td>Misc</td>\n",
       "      <td>1.48</td>\n",
       "      <td>2.02</td>\n",
       "      <td>0.14</td>\n",
       "      <td>0.68</td>\n",
       "      <td>NaN</td>\n",
       "      <td>NaN</td>\n",
       "      <td>без рейтинга</td>\n",
       "      <td>4.32</td>\n",
       "    </tr>\n",
       "    <tr>\n",
       "      <th>359</th>\n",
       "      <td>Just Dance 2014</td>\n",
       "      <td>Wii</td>\n",
       "      <td>2013</td>\n",
       "      <td>Misc</td>\n",
       "      <td>1.88</td>\n",
       "      <td>1.39</td>\n",
       "      <td>0.00</td>\n",
       "      <td>0.31</td>\n",
       "      <td>NaN</td>\n",
       "      <td>6.2</td>\n",
       "      <td>E10+</td>\n",
       "      <td>3.58</td>\n",
       "    </tr>\n",
       "    <tr>\n",
       "      <th>439</th>\n",
       "      <td>Mario Party 9</td>\n",
       "      <td>Wii</td>\n",
       "      <td>2012</td>\n",
       "      <td>Misc</td>\n",
       "      <td>1.06</td>\n",
       "      <td>1.09</td>\n",
       "      <td>0.76</td>\n",
       "      <td>0.22</td>\n",
       "      <td>73.0</td>\n",
       "      <td>6.8</td>\n",
       "      <td>E</td>\n",
       "      <td>3.13</td>\n",
       "    </tr>\n",
       "    <tr>\n",
       "      <th>543</th>\n",
       "      <td>Minecraft</td>\n",
       "      <td>XOne</td>\n",
       "      <td>2014</td>\n",
       "      <td>Misc</td>\n",
       "      <td>1.61</td>\n",
       "      <td>0.90</td>\n",
       "      <td>0.00</td>\n",
       "      <td>0.25</td>\n",
       "      <td>NaN</td>\n",
       "      <td>NaN</td>\n",
       "      <td>без рейтинга</td>\n",
       "      <td>2.76</td>\n",
       "    </tr>\n",
       "    <tr>\n",
       "      <th>850</th>\n",
       "      <td>Just Dance 2015</td>\n",
       "      <td>Wii</td>\n",
       "      <td>2014</td>\n",
       "      <td>Misc</td>\n",
       "      <td>0.99</td>\n",
       "      <td>0.85</td>\n",
       "      <td>0.00</td>\n",
       "      <td>0.17</td>\n",
       "      <td>NaN</td>\n",
       "      <td>8.4</td>\n",
       "      <td>E10+</td>\n",
       "      <td>2.01</td>\n",
       "    </tr>\n",
       "    <tr>\n",
       "      <th>868</th>\n",
       "      <td>Minecraft</td>\n",
       "      <td>PSV</td>\n",
       "      <td>2014</td>\n",
       "      <td>Misc</td>\n",
       "      <td>0.18</td>\n",
       "      <td>0.64</td>\n",
       "      <td>0.90</td>\n",
       "      <td>0.24</td>\n",
       "      <td>NaN</td>\n",
       "      <td>NaN</td>\n",
       "      <td>без рейтинга</td>\n",
       "      <td>1.96</td>\n",
       "    </tr>\n",
       "  </tbody>\n",
       "</table>\n",
       "</div>"
      ],
      "text/plain": [
       "                name platform  year_of_release genre  na_sales  eu_sales  \\\n",
       "72         Minecraft     X360             2013  Misc      5.70      2.65   \n",
       "116     Just Dance 4      Wii             2012  Misc      4.05      2.16   \n",
       "180        Minecraft      PS3             2014  Misc      2.03      2.37   \n",
       "248    Nintendo Land     WiiU             2012  Misc      2.52      1.11   \n",
       "261        Minecraft      PS4             2014  Misc      1.48      2.02   \n",
       "359  Just Dance 2014      Wii             2013  Misc      1.88      1.39   \n",
       "439    Mario Party 9      Wii             2012  Misc      1.06      1.09   \n",
       "543        Minecraft     XOne             2014  Misc      1.61      0.90   \n",
       "850  Just Dance 2015      Wii             2014  Misc      0.99      0.85   \n",
       "868        Minecraft      PSV             2014  Misc      0.18      0.64   \n",
       "\n",
       "     jp_sales  other_sales  critic_score  user_score        rating  \\\n",
       "72       0.02         0.81           NaN         NaN  без рейтинга   \n",
       "116      0.00         0.55          74.0         7.3          E10+   \n",
       "180      0.00         0.87           NaN         NaN  без рейтинга   \n",
       "248      0.46         0.33          77.0         7.9          E10+   \n",
       "261      0.14         0.68           NaN         NaN  без рейтинга   \n",
       "359      0.00         0.31           NaN         6.2          E10+   \n",
       "439      0.76         0.22          73.0         6.8             E   \n",
       "543      0.00         0.25           NaN         NaN  без рейтинга   \n",
       "850      0.00         0.17           NaN         8.4          E10+   \n",
       "868      0.90         0.24           NaN         NaN  без рейтинга   \n",
       "\n",
       "     total_sales  \n",
       "72          9.18  \n",
       "116         6.76  \n",
       "180         5.27  \n",
       "248         4.42  \n",
       "261         4.32  \n",
       "359         3.58  \n",
       "439         3.13  \n",
       "543         2.76  \n",
       "850         2.01  \n",
       "868         1.96  "
      ]
     },
     "metadata": {},
     "output_type": "display_data"
    }
   ],
   "source": [
    "display(top_platforms[top_platforms['genre'] == 'Misc'].head(10))"
   ]
  },
  {
   "cell_type": "markdown",
   "metadata": {},
   "source": [
    "**В списке видно жанр Misc (англ. \"разное\"), данный жанр включает в себя игры, которые не относятся к, так сказать, \"основным\" жанрам. В нем могуть быть игры с музыкальной направленностью (серия Just Dance). Еще есть, так называемые, песочницы, где игрок представлен сам себе, может ходить куда хочет, может строить/рушить, например Minecraft**"
   ]
  },
  {
   "cell_type": "markdown",
   "metadata": {},
   "source": [
    "## ПОРТРЕТ ИГРОКА"
   ]
  },
  {
   "cell_type": "markdown",
   "metadata": {},
   "source": [
    "**Посмотрим как выглядит игрок в разных частях света: Европа, Япония и Северная Америка**"
   ]
  },
  {
   "cell_type": "markdown",
   "metadata": {},
   "source": [
    "**Сначала посмотрим на ТОП 5 платформ**"
   ]
  },
  {
   "cell_type": "code",
   "execution_count": 38,
   "metadata": {},
   "outputs": [
    {
     "data": {
      "text/plain": [
       "Text(0.5, 1.0, 'ТОП 5 платформ игроков в Европе')"
      ]
     },
     "execution_count": 38,
     "metadata": {},
     "output_type": "execute_result"
    },
    {
     "data": {
      "image/png": "[encoded data removed]",
      "text/plain": [
       "<Figure size 432x288 with 1 Axes>"
      ]
     },
     "metadata": {
      "needs_background": "light"
     },
     "output_type": "display_data"
    }
   ],
   "source": [
    "(\n",
    "    period_years.groupby('platform')['eu_sales'].sum().sort_values(ascending=False).head()\n",
    "    .plot(kind='bar').set_title('ТОП 5 платформ игроков в Европе')\n",
    ")"
   ]
  },
  {
   "cell_type": "code",
   "execution_count": 39,
   "metadata": {},
   "outputs": [
    {
     "data": {
      "text/plain": [
       "Text(0.5, 1.0, 'ТОП 5 платформ игроков в Японии')"
      ]
     },
     "execution_count": 39,
     "metadata": {},
     "output_type": "execute_result"
    },
    {
     "data": {
      "image/png": "[encoded data removed]",
      "text/plain": [
       "<Figure size 432x288 with 1 Axes>"
      ]
     },
     "metadata": {
      "needs_background": "light"
     },
     "output_type": "display_data"
    }
   ],
   "source": [
    "(\n",
    "    period_years.groupby('platform')['jp_sales'].sum().sort_values(ascending=False).head()\n",
    "    .plot(kind='bar').set_title('ТОП 5 платформ игроков в Японии')\n",
    ")"
   ]
  },
  {
   "cell_type": "code",
   "execution_count": 40,
   "metadata": {},
   "outputs": [
    {
     "data": {
      "text/plain": [
       "Text(0.5, 1.0, 'ТОП 5 платформ игроков в Северной Америке')"
      ]
     },
     "execution_count": 40,
     "metadata": {},
     "output_type": "execute_result"
    },
    {
     "data": {
      "image/png": "[encoded data removed]",
      "text/plain": [
       "<Figure size 432x288 with 1 Axes>"
      ]
     },
     "metadata": {
      "needs_background": "light"
     },
     "output_type": "display_data"
    }
   ],
   "source": [
    "(\n",
    "    period_years.groupby('platform')['na_sales'].sum().sort_values(ascending=False).head()\n",
    "    .plot(kind='bar').set_title('ТОП 5 платформ игроков в Северной Америке')\n",
    ")"
   ]
  },
  {
   "cell_type": "markdown",
   "metadata": {},
   "source": [
    "**В каждом регионе свой лидер:**\n",
    "- **в Европе у большинства игроков системы Playstation будь то 3 или 4 версия приставки, не очень дела у 3DS и PC в сумме их меньше чем Xbox 360, который находится на третьем месте по популярности;**\n",
    "- **в Японии поддерживают отечественного производителя, т.к. все 5 мест занимают платформы произведенные в стране \"восходящего солнца\". На первом месте с большим отрывом идет 3DS на неё приходится половина от всех продаж ТОП 5 платофрм в Японии;**\n",
    "- **в Северной Америке так же стараются поддерживать отечественного производителя, т.к. Xbox 360 самая популярная приставка у игроков. Но и Playstation не отстает.**"
   ]
  },
  {
   "cell_type": "markdown",
   "metadata": {},
   "source": [
    "**Взглянем на ТОП 5 жанров, которые предпочитают игроки**"
   ]
  },
  {
   "cell_type": "code",
   "execution_count": 41,
   "metadata": {},
   "outputs": [
    {
     "data": {
      "text/plain": [
       "Text(0.5, 1.0, 'ТОП 5 жанров игроков в Европе')"
      ]
     },
     "execution_count": 41,
     "metadata": {},
     "output_type": "execute_result"
    },
    {
     "data": {
      "image/png": "[encoded data removed]",
      "text/plain": [
       "<Figure size 432x288 with 1 Axes>"
      ]
     },
     "metadata": {
      "needs_background": "light"
     },
     "output_type": "display_data"
    }
   ],
   "source": [
    "(\n",
    "    period_years.groupby('genre')['eu_sales'].sum().sort_values(ascending=False).head()\n",
    "    .plot(kind='bar').set_title('ТОП 5 жанров игроков в Европе')\n",
    ")"
   ]
  },
  {
   "cell_type": "code",
   "execution_count": 42,
   "metadata": {},
   "outputs": [
    {
     "data": {
      "text/plain": [
       "Text(0.5, 1.0, 'ТОП 5 жанров игроков в Японии')"
      ]
     },
     "execution_count": 42,
     "metadata": {},
     "output_type": "execute_result"
    },
    {
     "data": {
      "image/png": "[encoded data removed]",
      "text/plain": [
       "<Figure size 432x288 with 1 Axes>"
      ]
     },
     "metadata": {
      "needs_background": "light"
     },
     "output_type": "display_data"
    }
   ],
   "source": [
    "(\n",
    "    period_years.groupby('genre')['jp_sales'].sum().sort_values(ascending=False).head()\n",
    "    .plot(kind='bar').set_title('ТОП 5 жанров игроков в Японии')\n",
    ")"
   ]
  },
  {
   "cell_type": "code",
   "execution_count": 43,
   "metadata": {},
   "outputs": [
    {
     "data": {
      "text/plain": [
       "Text(0.5, 1.0, 'ТОП 5 жанров игроков в Северной Америке')"
      ]
     },
     "execution_count": 43,
     "metadata": {},
     "output_type": "execute_result"
    },
    {
     "data": {
      "image/png": "[encoded data removed]",
      "text/plain": [
       "<Figure size 432x288 with 1 Axes>"
      ]
     },
     "metadata": {
      "needs_background": "light"
     },
     "output_type": "display_data"
    }
   ],
   "source": [
    "(\n",
    "    period_years.groupby('genre')['na_sales'].sum().sort_values(ascending=False).head()\n",
    "    .plot(kind='bar').set_title('ТОП 5 жанров игроков в Северной Америке')\n",
    ")"
   ]
  },
  {
   "cell_type": "markdown",
   "metadata": {},
   "source": [
    "- **Игроки в Европе и Северной Америке очень похожи, первые 4 места отданы экшену, шутерам/стрелялкам, спортивным играм и рпг. Но все же в Европе еще любят гонки, а в Америке жанр \"Misc\", который включает в себя множество других жанров, которые нельзя отнести к \"основным\" жанрам**\n",
    "- **Японские игроки отличаются от европейских и американских игроков. В Японии хоть основное предпочтение отдают жанрам рпг и экшену, но вот менее популярные жанры, так же попавшие в ТОП 5, это \"разное\" и платформеры и замыкает пятерку жанров шутеры**"
   ]
  },
  {
   "cell_type": "markdown",
   "metadata": {},
   "source": [
    "**Влияние рейтинга на продажи в регионах**"
   ]
  },
  {
   "cell_type": "code",
   "execution_count": 44,
   "metadata": {},
   "outputs": [
    {
     "name": "stdout",
     "output_type": "stream",
     "text": [
      "Рейтинг:\n",
      "E    — Для всех возрастов,\n",
      "EC   — 3+,\n",
      "E10+ — 10+,\n",
      "T    — 13+,\n",
      "M    — 17+,\n",
      "RP   — Рейтинг ожидается\n"
     ]
    },
    {
     "data": {
      "text/plain": [
       "Text(0.5, 1.0, 'Влияние рейтинга на продажи в Европе')"
      ]
     },
     "execution_count": 44,
     "metadata": {},
     "output_type": "execute_result"
    },
    {
     "data": {
      "image/png": "[encoded data removed]",
      "text/plain": [
       "<Figure size 432x288 with 1 Axes>"
      ]
     },
     "metadata": {
      "needs_background": "light"
     },
     "output_type": "display_data"
    }
   ],
   "source": [
    "print(\n",
    "    '''Рейтинг:\n",
    "E    — Для всех возрастов,\n",
    "EC   — 3+,\n",
    "E10+ — 10+,\n",
    "T    — 13+,\n",
    "M    — 17+,\n",
    "RP   — Рейтинг ожидается'''\n",
    ")\n",
    "\n",
    "(\n",
    "    period_years.groupby('rating')['eu_sales'].sum().sort_values(ascending=False)\n",
    "    .plot(kind='bar').set_title('Влияние рейтинга на продажи в Европе')\n",
    ")"
   ]
  },
  {
   "cell_type": "code",
   "execution_count": 45,
   "metadata": {
    "scrolled": false
   },
   "outputs": [
    {
     "name": "stdout",
     "output_type": "stream",
     "text": [
      "Рейтинг:\n",
      "E    — Для всех возрастов,\n",
      "EC   — 3+,\n",
      "E10+ — 10+,\n",
      "T    — 13+,\n",
      "M    — 17+,\n",
      "RP   — Рейтинг ожидается\n"
     ]
    },
    {
     "data": {
      "text/plain": [
       "Text(0.5, 1.0, 'Влияние рейтинга на продажи в Японии')"
      ]
     },
     "execution_count": 45,
     "metadata": {},
     "output_type": "execute_result"
    },
    {
     "data": {
      "image/png": "[encoded data removed]",
      "text/plain": [
       "<Figure size 432x288 with 1 Axes>"
      ]
     },
     "metadata": {
      "needs_background": "light"
     },
     "output_type": "display_data"
    }
   ],
   "source": [
    "print(\n",
    "    '''Рейтинг:\n",
    "E    — Для всех возрастов,\n",
    "EC   — 3+,\n",
    "E10+ — 10+,\n",
    "T    — 13+,\n",
    "M    — 17+,\n",
    "RP   — Рейтинг ожидается'''\n",
    ")\n",
    "\n",
    "(\n",
    "    period_years.groupby('rating')['jp_sales'].sum().sort_values(ascending=False)\n",
    "    .plot(kind='bar').set_title('Влияние рейтинга на продажи в Японии')\n",
    ")"
   ]
  },
  {
   "cell_type": "code",
   "execution_count": 46,
   "metadata": {},
   "outputs": [
    {
     "data": {
      "text/plain": [
       "genre\n",
       "Action          156\n",
       "Role-Playing     79\n",
       "Misc             41\n",
       "Adventure        33\n",
       "Simulation       20\n",
       "Platform         19\n",
       "Puzzle           13\n",
       "Sports           12\n",
       "Strategy         11\n",
       "Fighting          9\n",
       "Shooter           2\n",
       "Racing            1\n",
       "Name: platform, dtype: int64"
      ]
     },
     "metadata": {},
     "output_type": "display_data"
    }
   ],
   "source": [
    "#узнаем популярные жанры на 3DS\n",
    "jp = period_years[period_years['platform'] == '3DS']\n",
    "display(jp.groupby('genre')['platform'].count().sort_values(ascending=False))"
   ]
  },
  {
   "cell_type": "code",
   "execution_count": 47,
   "metadata": {
    "scrolled": false
   },
   "outputs": [
    {
     "name": "stdout",
     "output_type": "stream",
     "text": [
      "Рейтинг:\n",
      "E    — Для всех возрастов,\n",
      "EC   — 3+,\n",
      "E10+ — 10+,\n",
      "T    — 13+,\n",
      "M    — 17+,\n",
      "RP   — Рейтинг ожидается\n"
     ]
    },
    {
     "data": {
      "text/plain": [
       "Text(0.5, 1.0, 'Влияние рейтинга на продажи в Северной Америке')"
      ]
     },
     "execution_count": 47,
     "metadata": {},
     "output_type": "execute_result"
    },
    {
     "data": {
      "image/png": "[encoded data removed]",
      "text/plain": [
       "<Figure size 432x288 with 1 Axes>"
      ]
     },
     "metadata": {
      "needs_background": "light"
     },
     "output_type": "display_data"
    }
   ],
   "source": [
    "print(\n",
    "    '''Рейтинг:\n",
    "E    — Для всех возрастов,\n",
    "EC   — 3+,\n",
    "E10+ — 10+,\n",
    "T    — 13+,\n",
    "M    — 17+,\n",
    "RP   — Рейтинг ожидается'''\n",
    ")\n",
    "\n",
    "(\n",
    "    period_years.groupby('rating')['na_sales'].sum().sort_values(ascending=False)\n",
    "    .plot(kind='bar').set_title('Влияние рейтинга на продажи в Северной Америке')\n",
    ")"
   ]
  },
  {
   "cell_type": "markdown",
   "metadata": {},
   "source": [
    "\n",
    "- **Здесь как и с жанрами Европа и Америка предпочитает игры с одинаковыми рейтингами. Но выделяется рейтинг \"М\", оно и понятно, ведь экшен и шутеры в основном создаются для взрослой публики. Рейтинги \"Т\" и \"Е\" с другими производными тоже популярны, в них попадают гонки и спортивные игры. Интересно то, что довольно большая доля игр не имеет рейтинга, для рынка Европы это обьясняется тем, что рейтинг представлен агенством ESRB, рейтинги которого расчитаны на рынок США и Канады. А вот как в Северной Америке покупали игры без рейтинга не ясно**\n",
    "- **В Японии в основном играют в игры с рейтингом \"без рейтинга\", причина в том, что представленный датасет имеет рейтинг ESRB, который предназначен для рынков США и Канады. На втором месте игры с рейтингом \"Е\" т.е. игры для всех возрастов, что было видно в ТОП платформ Японии, там преобладает приставка 3DS, в библиотеке которой перобладают игры жанров рпг, приключения и разное**"
   ]
  },
  {
   "cell_type": "code",
   "execution_count": 48,
   "metadata": {},
   "outputs": [
    {
     "name": "stdout",
     "output_type": "stream",
     "text": [
      "0 0.0\n"
     ]
    },
    {
     "data": {
      "text/plain": [
       "без рейтинга    1275\n",
       "M                498\n",
       "T                412\n",
       "E                395\n",
       "E10+             306\n",
       "Name: rating, dtype: int64"
      ]
     },
     "execution_count": 48,
     "metadata": {},
     "output_type": "execute_result"
    }
   ],
   "source": [
    "# Комментарий ревьюера\n",
    "temp = period_years.copy()\n",
    "print(temp.rating.isna().sum(), temp.rating.isna().sum()/len(temp))\n",
    "temp.rating.value_counts()"
   ]
  },
  {
   "cell_type": "markdown",
   "metadata": {},
   "source": [
    "## Проверка гипотез"
   ]
  },
  {
   "cell_type": "markdown",
   "metadata": {},
   "source": [
    "**Гипотеза:** Средние пользовательские рейтинги платформ Xbox One и PC одинаковые\n",
    "\n",
    "```\n",
    "H_0: Рейтинг пользователей на Xbox One = рейтингу пользователей на PC\n",
    "H_1: Рейтинг пользователей на Xbox One ≠ рейтингу пользователей на PC\n",
    "```"
   ]
  },
  {
   "cell_type": "code",
   "execution_count": 49,
   "metadata": {
    "scrolled": true
   },
   "outputs": [
    {
     "name": "stdout",
     "output_type": "stream",
     "text": [
      "0.5489537965134912\n",
      "He получилось отвергнуть нулевую гипотезу\n"
     ]
    }
   ],
   "source": [
    "xbox_rating = period_years.loc[period_years['platform'] == 'XOne', 'user_score'].dropna()\n",
    "pc_rating = period_years.loc[period_years['platform'] == 'PC', 'user_score'].dropna()\n",
    "\n",
    "results = st.ttest_ind (xbox_rating, \n",
    "                        pc_rating,\n",
    "                        equal_var=False)\n",
    "\n",
    "alpha = .05\n",
    "\n",
    "print(results.pvalue)\n",
    "\n",
    "if results.pvalue < alpha:\n",
    "    print(\"Отвергаем нулевую гипотезу\")\n",
    "else:\n",
    "    print(\"He получилось отвергнуть нулевую гипотезу\")"
   ]
  },
  {
   "cell_type": "code",
   "execution_count": 50,
   "metadata": {},
   "outputs": [
    {
     "data": {
      "text/html": [
       "<div>\n",
       "<style scoped>\n",
       "    .dataframe tbody tr th:only-of-type {\n",
       "        vertical-align: middle;\n",
       "    }\n",
       "\n",
       "    .dataframe tbody tr th {\n",
       "        vertical-align: top;\n",
       "    }\n",
       "\n",
       "    .dataframe thead th {\n",
       "        text-align: right;\n",
       "    }\n",
       "</style>\n",
       "<table border=\"1\" class=\"dataframe\">\n",
       "  <thead>\n",
       "    <tr style=\"text-align: right;\">\n",
       "      <th></th>\n",
       "      <th>Средний балл</th>\n",
       "    </tr>\n",
       "    <tr>\n",
       "      <th>platform</th>\n",
       "      <th></th>\n",
       "    </tr>\n",
       "  </thead>\n",
       "  <tbody>\n",
       "    <tr>\n",
       "      <th>PC</th>\n",
       "      <td>6.454315</td>\n",
       "    </tr>\n",
       "    <tr>\n",
       "      <th>XOne</th>\n",
       "      <td>6.538182</td>\n",
       "    </tr>\n",
       "  </tbody>\n",
       "</table>\n",
       "</div>"
      ],
      "text/plain": [
       "          Средний балл\n",
       "platform              \n",
       "PC            6.454315\n",
       "XOne          6.538182"
      ]
     },
     "metadata": {},
     "output_type": "display_data"
    }
   ],
   "source": [
    "xopc = period_years[(period_years['platform'] == 'XOne') | (period_years['platform'] == 'PC')].dropna()\n",
    "xopc_mean = xopc.pivot_table(index = 'platform', values = 'user_score', aggfunc = 'mean')\n",
    "xopc_mean.columns = ['Средний балл']\n",
    "display(xopc_mean)"
   ]
  },
  {
   "cell_type": "markdown",
   "metadata": {},
   "source": [
    "**Гипотеза:** Средние пользовательские рейтинги жанров Action и Sports разные\n",
    "\n",
    "```\n",
    "H_0: Рейтинг пользователей жанра Action = рейтингу пользователей жанра Sports\n",
    "H_1: Рейтинг пользователей жанра Action ≠ рейтингу пользователей жанра Sports\n",
    "```"
   ]
  },
  {
   "cell_type": "code",
   "execution_count": 51,
   "metadata": {},
   "outputs": [
    {
     "name": "stdout",
     "output_type": "stream",
     "text": [
      "4.24307776572644e-20\n",
      "Отвергаем нулевую гипотезу\n"
     ]
    }
   ],
   "source": [
    "action_rating = period_years.loc[period_years['genre'] == 'Action', 'user_score'].dropna()\n",
    "sports_rating = period_years.loc[period_years['genre'] == 'Sports', 'user_score'].dropna()\n",
    "\n",
    "results = st.ttest_ind (action_rating, \n",
    "                        sports_rating,\n",
    "                        equal_var=False)\n",
    "\n",
    "alpha = .05\n",
    "\n",
    "print(results.pvalue)\n",
    "\n",
    "if results.pvalue < alpha:\n",
    "    print(\"Отвергаем нулевую гипотезу\")\n",
    "else:\n",
    "    print(\"He получилось отвергнуть нулевую гипотезу\")"
   ]
  },
  {
   "cell_type": "code",
   "execution_count": 52,
   "metadata": {},
   "outputs": [
    {
     "data": {
      "text/html": [
       "<div>\n",
       "<style scoped>\n",
       "    .dataframe tbody tr th:only-of-type {\n",
       "        vertical-align: middle;\n",
       "    }\n",
       "\n",
       "    .dataframe tbody tr th {\n",
       "        vertical-align: top;\n",
       "    }\n",
       "\n",
       "    .dataframe thead th {\n",
       "        text-align: right;\n",
       "    }\n",
       "</style>\n",
       "<table border=\"1\" class=\"dataframe\">\n",
       "  <thead>\n",
       "    <tr style=\"text-align: right;\">\n",
       "      <th></th>\n",
       "      <th>Средний балл</th>\n",
       "    </tr>\n",
       "    <tr>\n",
       "      <th>genre</th>\n",
       "      <th></th>\n",
       "    </tr>\n",
       "  </thead>\n",
       "  <tbody>\n",
       "    <tr>\n",
       "      <th>Action</th>\n",
       "      <td>6.899306</td>\n",
       "    </tr>\n",
       "    <tr>\n",
       "      <th>Sports</th>\n",
       "      <td>5.819858</td>\n",
       "    </tr>\n",
       "  </tbody>\n",
       "</table>\n",
       "</div>"
      ],
      "text/plain": [
       "        Средний балл\n",
       "genre               \n",
       "Action      6.899306\n",
       "Sports      5.819858"
      ]
     },
     "metadata": {},
     "output_type": "display_data"
    }
   ],
   "source": [
    "spoction = period_years[(period_years['genre'] == 'Action') | (period_years['genre'] == 'Sports')].dropna()\n",
    "spoction_mean = spoction.pivot_table(index = 'genre', values = 'user_score', aggfunc = 'mean')\n",
    "spoction_mean.columns = ['Средний балл']\n",
    "display(spoction_mean)"
   ]
  },
  {
   "cell_type": "markdown",
   "metadata": {},
   "source": [
    "\n",
    "\n",
    "- **Т.к. нулевая гипотеза всегда формулируется так, чтобы использовать знак равенства. То у нас получилось:**\n",
    "    - Средние пользовательские рейтинги платформ Xbox One и PC одинаковые (Да, одинаковые)\n",
    "    - Средние пользовательские рейтинги жанров Action и Sports разные (Разницы нет, рейтинги равны)\n",
    "- **Задача стояла сравнить среднее, а так как мы сравниваем среднее двух генеральных совокупностей, то используется метод для проверки гипотезы о равенстве среднего двух генеральных совокупностей по взятым из них выборкам**"
   ]
  },
  {
   "cell_type": "markdown",
   "metadata": {},
   "source": [
    "## ВЫВОД "
   ]
  },
  {
   "cell_type": "markdown",
   "metadata": {},
   "source": [
    "**После проведенного анализа можно сделать следующие выводы:**\n",
    "- Основной акцент рекламы в будущем году нужно перевести на несколько платформ: **PS4** - т.к. это приставка нового поколения, а значит кол-во игр и новых пользователей будет расти и **3DS** - очень популярная приставка в Японии и Европе;\n",
    "- Самые прибыльные жанры **шутеры, спортивные и платформеры**, поэтому на них так же стоит акцентировать внимание;\n",
    "- Игры с рейтингом **М(17+) и E(0+)**, так же нужно добавить рейтинги для других регионов, для более глубого анализа;\n",
    "- Основными регионами выбрал бы Европу и Японию"
   ]
  }
 ],
 "metadata": {
  "ExecuteTimeLog": [
   {
    "duration": 426,
    "start_time": "2022-11-21T16:41:11.845Z"
   },
   {
    "duration": 209,
    "start_time": "2022-11-21T16:41:47.877Z"
   },
   {
    "duration": 14,
    "start_time": "2022-11-21T16:42:12.303Z"
   },
   {
    "duration": 23,
    "start_time": "2022-11-21T16:43:11.867Z"
   },
   {
    "duration": 67,
    "start_time": "2022-11-21T16:52:17.196Z"
   },
   {
    "duration": 7,
    "start_time": "2022-11-21T16:52:41.924Z"
   },
   {
    "duration": 7,
    "start_time": "2022-11-21T16:53:03.147Z"
   },
   {
    "duration": 8,
    "start_time": "2022-11-21T16:53:22.829Z"
   },
   {
    "duration": 8,
    "start_time": "2022-11-21T16:59:15.410Z"
   },
   {
    "duration": 6,
    "start_time": "2022-11-21T17:16:39.141Z"
   },
   {
    "duration": 7,
    "start_time": "2022-11-21T17:16:47.836Z"
   },
   {
    "duration": 10,
    "start_time": "2022-11-21T17:19:02.553Z"
   },
   {
    "duration": 7,
    "start_time": "2022-11-21T17:19:15.773Z"
   },
   {
    "duration": 469,
    "start_time": "2022-11-21T17:19:33.948Z"
   },
   {
    "duration": 79,
    "start_time": "2022-11-21T17:19:34.420Z"
   },
   {
    "duration": 14,
    "start_time": "2022-11-21T17:19:34.501Z"
   },
   {
    "duration": 6,
    "start_time": "2022-11-21T17:19:34.517Z"
   },
   {
    "duration": 4,
    "start_time": "2022-11-21T17:19:55.810Z"
   },
   {
    "duration": 15,
    "start_time": "2022-11-21T17:20:05.953Z"
   },
   {
    "duration": 78,
    "start_time": "2022-11-21T17:27:08.223Z"
   },
   {
    "duration": 17,
    "start_time": "2022-11-21T17:29:02.878Z"
   },
   {
    "duration": 386,
    "start_time": "2022-11-21T17:31:06.535Z"
   },
   {
    "duration": 87,
    "start_time": "2022-11-21T17:31:06.923Z"
   },
   {
    "duration": 23,
    "start_time": "2022-11-21T17:31:07.012Z"
   },
   {
    "duration": 39,
    "start_time": "2022-11-21T17:31:07.039Z"
   },
   {
    "duration": 77,
    "start_time": "2022-11-21T17:31:07.080Z"
   },
   {
    "duration": 5,
    "start_time": "2022-11-21T17:33:06.740Z"
   },
   {
    "duration": 7,
    "start_time": "2022-11-21T17:33:16.003Z"
   },
   {
    "duration": 19,
    "start_time": "2022-11-21T17:35:39.770Z"
   },
   {
    "duration": 22,
    "start_time": "2022-11-21T17:35:52.618Z"
   },
   {
    "duration": 20,
    "start_time": "2022-11-21T17:36:32.921Z"
   },
   {
    "duration": 16,
    "start_time": "2022-11-21T17:37:05.415Z"
   },
   {
    "duration": 10,
    "start_time": "2022-11-21T17:37:32.465Z"
   },
   {
    "duration": 16,
    "start_time": "2022-11-21T17:38:21.525Z"
   },
   {
    "duration": 6,
    "start_time": "2022-11-21T17:38:46.476Z"
   },
   {
    "duration": 15,
    "start_time": "2022-11-21T17:38:48.824Z"
   },
   {
    "duration": 25,
    "start_time": "2022-11-21T17:39:17.104Z"
   },
   {
    "duration": 5,
    "start_time": "2022-11-21T17:39:28.509Z"
   },
   {
    "duration": 8,
    "start_time": "2022-11-21T17:39:30.149Z"
   },
   {
    "duration": 836,
    "start_time": "2022-11-21T17:39:54.063Z"
   },
   {
    "duration": 410,
    "start_time": "2022-11-21T17:40:05.202Z"
   },
   {
    "duration": 81,
    "start_time": "2022-11-21T17:40:05.614Z"
   },
   {
    "duration": 18,
    "start_time": "2022-11-21T17:40:05.696Z"
   },
   {
    "duration": 20,
    "start_time": "2022-11-21T17:40:05.717Z"
   },
   {
    "duration": 35,
    "start_time": "2022-11-21T17:40:05.741Z"
   },
   {
    "duration": 38,
    "start_time": "2022-11-21T17:40:05.778Z"
   },
   {
    "duration": 97,
    "start_time": "2022-11-21T17:40:05.818Z"
   },
   {
    "duration": 0,
    "start_time": "2022-11-21T17:40:05.917Z"
   },
   {
    "duration": 0,
    "start_time": "2022-11-21T17:40:05.919Z"
   },
   {
    "duration": 8,
    "start_time": "2022-11-21T17:40:57.923Z"
   },
   {
    "duration": 388,
    "start_time": "2022-11-21T17:41:12.020Z"
   },
   {
    "duration": 80,
    "start_time": "2022-11-21T17:41:12.411Z"
   },
   {
    "duration": 16,
    "start_time": "2022-11-21T17:41:12.493Z"
   },
   {
    "duration": 16,
    "start_time": "2022-11-21T17:41:12.510Z"
   },
   {
    "duration": 18,
    "start_time": "2022-11-21T17:41:12.528Z"
   },
   {
    "duration": 89,
    "start_time": "2022-11-21T17:41:12.548Z"
   },
   {
    "duration": 0,
    "start_time": "2022-11-21T17:41:12.638Z"
   },
   {
    "duration": 0,
    "start_time": "2022-11-21T17:41:12.640Z"
   },
   {
    "duration": 0,
    "start_time": "2022-11-21T17:41:12.642Z"
   },
   {
    "duration": 8,
    "start_time": "2022-11-21T17:42:58.654Z"
   },
   {
    "duration": 15,
    "start_time": "2022-11-21T17:43:00.615Z"
   },
   {
    "duration": 9,
    "start_time": "2022-11-21T17:43:05.710Z"
   },
   {
    "duration": 4,
    "start_time": "2022-11-21T17:44:15.327Z"
   },
   {
    "duration": 8,
    "start_time": "2022-11-21T17:44:30.013Z"
   },
   {
    "duration": 8,
    "start_time": "2022-11-21T17:47:38.651Z"
   },
   {
    "duration": 26,
    "start_time": "2022-11-21T17:47:46.107Z"
   },
   {
    "duration": 5,
    "start_time": "2022-11-21T17:53:30.009Z"
   },
   {
    "duration": 14,
    "start_time": "2022-11-21T17:53:44.234Z"
   },
   {
    "duration": 422,
    "start_time": "2022-11-21T17:58:47.371Z"
   },
   {
    "duration": 78,
    "start_time": "2022-11-21T17:58:47.794Z"
   },
   {
    "duration": 16,
    "start_time": "2022-11-21T17:58:47.874Z"
   },
   {
    "duration": 16,
    "start_time": "2022-11-21T17:58:47.892Z"
   },
   {
    "duration": 80,
    "start_time": "2022-11-21T17:58:47.910Z"
   },
   {
    "duration": 0,
    "start_time": "2022-11-21T17:58:47.992Z"
   },
   {
    "duration": 0,
    "start_time": "2022-11-21T17:58:47.993Z"
   },
   {
    "duration": 0,
    "start_time": "2022-11-21T17:58:47.994Z"
   },
   {
    "duration": 0,
    "start_time": "2022-11-21T17:58:47.995Z"
   },
   {
    "duration": 0,
    "start_time": "2022-11-21T17:58:47.996Z"
   },
   {
    "duration": 0,
    "start_time": "2022-11-21T17:58:47.997Z"
   },
   {
    "duration": 0,
    "start_time": "2022-11-21T17:58:47.999Z"
   },
   {
    "duration": 421,
    "start_time": "2022-11-21T17:58:58.281Z"
   },
   {
    "duration": 79,
    "start_time": "2022-11-21T17:58:58.704Z"
   },
   {
    "duration": 16,
    "start_time": "2022-11-21T17:58:58.785Z"
   },
   {
    "duration": 15,
    "start_time": "2022-11-21T17:58:58.803Z"
   },
   {
    "duration": 24,
    "start_time": "2022-11-21T17:58:58.820Z"
   },
   {
    "duration": 11,
    "start_time": "2022-11-21T17:58:58.845Z"
   },
   {
    "duration": 31,
    "start_time": "2022-11-21T17:58:58.858Z"
   },
   {
    "duration": 3,
    "start_time": "2022-11-21T17:58:58.890Z"
   },
   {
    "duration": 14,
    "start_time": "2022-11-21T17:58:58.895Z"
   },
   {
    "duration": 31,
    "start_time": "2022-11-21T17:58:58.911Z"
   },
   {
    "duration": 10,
    "start_time": "2022-11-21T17:58:58.944Z"
   },
   {
    "duration": 37,
    "start_time": "2022-11-21T17:58:58.956Z"
   },
   {
    "duration": 21,
    "start_time": "2022-11-21T18:12:17.969Z"
   },
   {
    "duration": 6,
    "start_time": "2022-11-21T18:16:15.989Z"
   },
   {
    "duration": 24,
    "start_time": "2022-11-21T18:16:34.229Z"
   },
   {
    "duration": 85,
    "start_time": "2022-11-21T18:27:24.108Z"
   },
   {
    "duration": 7,
    "start_time": "2022-11-21T18:27:40.529Z"
   },
   {
    "duration": 450,
    "start_time": "2022-11-21T18:27:47.451Z"
   },
   {
    "duration": 76,
    "start_time": "2022-11-21T18:27:47.903Z"
   },
   {
    "duration": 15,
    "start_time": "2022-11-21T18:27:47.981Z"
   },
   {
    "duration": 15,
    "start_time": "2022-11-21T18:27:47.997Z"
   },
   {
    "duration": 27,
    "start_time": "2022-11-21T18:27:48.015Z"
   },
   {
    "duration": 20,
    "start_time": "2022-11-21T18:27:48.044Z"
   },
   {
    "duration": 22,
    "start_time": "2022-11-21T18:27:48.066Z"
   },
   {
    "duration": 3,
    "start_time": "2022-11-21T18:27:48.090Z"
   },
   {
    "duration": 10,
    "start_time": "2022-11-21T18:27:48.095Z"
   },
   {
    "duration": 20,
    "start_time": "2022-11-21T18:27:48.107Z"
   },
   {
    "duration": 4,
    "start_time": "2022-11-21T18:27:48.129Z"
   },
   {
    "duration": 45,
    "start_time": "2022-11-21T18:27:48.134Z"
   },
   {
    "duration": 24,
    "start_time": "2022-11-21T18:27:48.180Z"
   },
   {
    "duration": 5,
    "start_time": "2022-11-21T18:27:48.206Z"
   },
   {
    "duration": 11,
    "start_time": "2022-11-21T18:28:06.035Z"
   },
   {
    "duration": 14,
    "start_time": "2022-11-21T18:28:18.221Z"
   },
   {
    "duration": 5,
    "start_time": "2022-11-21T18:29:38.226Z"
   },
   {
    "duration": 14,
    "start_time": "2022-11-21T18:29:52.551Z"
   },
   {
    "duration": 5,
    "start_time": "2022-11-21T18:30:12.754Z"
   },
   {
    "duration": 14,
    "start_time": "2022-11-21T18:30:14.802Z"
   },
   {
    "duration": 93,
    "start_time": "2022-11-21T18:30:32.778Z"
   },
   {
    "duration": 14,
    "start_time": "2022-11-21T18:30:37.850Z"
   },
   {
    "duration": 7,
    "start_time": "2022-11-21T18:31:34.686Z"
   },
   {
    "duration": 16,
    "start_time": "2022-11-21T18:43:37.669Z"
   },
   {
    "duration": 6,
    "start_time": "2022-11-21T18:43:43.800Z"
   },
   {
    "duration": 7,
    "start_time": "2022-11-21T18:44:04.727Z"
   },
   {
    "duration": 14,
    "start_time": "2022-11-21T18:44:06.728Z"
   },
   {
    "duration": 7,
    "start_time": "2022-11-21T18:49:17.693Z"
   },
   {
    "duration": 14,
    "start_time": "2022-11-21T18:49:44.568Z"
   },
   {
    "duration": 8,
    "start_time": "2022-11-21T18:52:31.372Z"
   },
   {
    "duration": 8,
    "start_time": "2022-11-21T18:54:29.482Z"
   },
   {
    "duration": 375,
    "start_time": "2022-11-21T18:56:44.522Z"
   },
   {
    "duration": 78,
    "start_time": "2022-11-21T18:56:44.899Z"
   },
   {
    "duration": 15,
    "start_time": "2022-11-21T18:56:44.978Z"
   },
   {
    "duration": 14,
    "start_time": "2022-11-21T18:56:44.995Z"
   },
   {
    "duration": 23,
    "start_time": "2022-11-21T18:56:45.012Z"
   },
   {
    "duration": 12,
    "start_time": "2022-11-21T18:56:45.037Z"
   },
   {
    "duration": 37,
    "start_time": "2022-11-21T18:56:45.051Z"
   },
   {
    "duration": 6,
    "start_time": "2022-11-21T18:56:45.090Z"
   },
   {
    "duration": 21,
    "start_time": "2022-11-21T18:56:45.098Z"
   },
   {
    "duration": 4,
    "start_time": "2022-11-21T18:56:45.121Z"
   },
   {
    "duration": 20,
    "start_time": "2022-11-21T18:56:45.127Z"
   },
   {
    "duration": 48,
    "start_time": "2022-11-21T18:56:45.149Z"
   },
   {
    "duration": 5,
    "start_time": "2022-11-21T18:56:45.199Z"
   },
   {
    "duration": 15,
    "start_time": "2022-11-21T18:56:45.206Z"
   },
   {
    "duration": 4,
    "start_time": "2022-11-21T18:56:45.223Z"
   },
   {
    "duration": 31,
    "start_time": "2022-11-21T18:56:45.229Z"
   },
   {
    "duration": 7,
    "start_time": "2022-11-21T18:56:45.277Z"
   },
   {
    "duration": 15,
    "start_time": "2022-11-21T18:56:45.286Z"
   },
   {
    "duration": 9,
    "start_time": "2022-11-21T18:56:45.303Z"
   },
   {
    "duration": 9,
    "start_time": "2022-11-21T18:59:34.599Z"
   },
   {
    "duration": 9,
    "start_time": "2022-11-21T19:01:58.250Z"
   },
   {
    "duration": 9,
    "start_time": "2022-11-21T19:05:40.889Z"
   },
   {
    "duration": 8,
    "start_time": "2022-11-21T19:06:06.256Z"
   },
   {
    "duration": 8,
    "start_time": "2022-11-21T19:06:52.145Z"
   },
   {
    "duration": 10,
    "start_time": "2022-11-21T19:07:04.090Z"
   },
   {
    "duration": 8,
    "start_time": "2022-11-21T19:07:06.182Z"
   },
   {
    "duration": 8,
    "start_time": "2022-11-21T19:08:32.806Z"
   },
   {
    "duration": 45,
    "start_time": "2022-11-22T15:44:20.572Z"
   },
   {
    "duration": 552,
    "start_time": "2022-11-22T15:44:33.678Z"
   },
   {
    "duration": 215,
    "start_time": "2022-11-22T15:44:34.232Z"
   },
   {
    "duration": 14,
    "start_time": "2022-11-22T15:44:34.448Z"
   },
   {
    "duration": 13,
    "start_time": "2022-11-22T15:44:34.463Z"
   },
   {
    "duration": 20,
    "start_time": "2022-11-22T15:44:34.478Z"
   },
   {
    "duration": 9,
    "start_time": "2022-11-22T15:44:34.499Z"
   },
   {
    "duration": 13,
    "start_time": "2022-11-22T15:44:34.509Z"
   },
   {
    "duration": 6,
    "start_time": "2022-11-22T15:44:34.524Z"
   },
   {
    "duration": 19,
    "start_time": "2022-11-22T15:44:34.531Z"
   },
   {
    "duration": 4,
    "start_time": "2022-11-22T15:44:34.552Z"
   },
   {
    "duration": 31,
    "start_time": "2022-11-22T15:44:34.557Z"
   },
   {
    "duration": 21,
    "start_time": "2022-11-22T15:44:34.590Z"
   },
   {
    "duration": 4,
    "start_time": "2022-11-22T15:44:34.613Z"
   },
   {
    "duration": 16,
    "start_time": "2022-11-22T15:44:34.619Z"
   },
   {
    "duration": 4,
    "start_time": "2022-11-22T15:44:34.637Z"
   },
   {
    "duration": 36,
    "start_time": "2022-11-22T15:44:34.642Z"
   },
   {
    "duration": 6,
    "start_time": "2022-11-22T15:44:34.679Z"
   },
   {
    "duration": 13,
    "start_time": "2022-11-22T15:44:34.686Z"
   },
   {
    "duration": 12,
    "start_time": "2022-11-22T15:44:34.701Z"
   },
   {
    "duration": 12,
    "start_time": "2022-11-22T15:44:34.715Z"
   },
   {
    "duration": 8,
    "start_time": "2022-11-22T15:44:34.728Z"
   },
   {
    "duration": 88,
    "start_time": "2022-11-22T15:44:34.738Z"
   },
   {
    "duration": 8,
    "start_time": "2022-11-22T15:44:49.262Z"
   },
   {
    "duration": 65,
    "start_time": "2022-11-22T15:47:29.744Z"
   },
   {
    "duration": 9,
    "start_time": "2022-11-22T15:49:17.797Z"
   },
   {
    "duration": 658,
    "start_time": "2022-11-22T15:49:40.018Z"
   },
   {
    "duration": 218,
    "start_time": "2022-11-22T15:49:59.706Z"
   },
   {
    "duration": 240,
    "start_time": "2022-11-22T15:52:18.824Z"
   },
   {
    "duration": 296,
    "start_time": "2022-11-22T15:52:27.485Z"
   },
   {
    "duration": 240,
    "start_time": "2022-11-22T15:52:35.339Z"
   },
   {
    "duration": 29,
    "start_time": "2022-11-22T15:55:54.519Z"
   },
   {
    "duration": 18,
    "start_time": "2022-11-22T15:56:04.000Z"
   },
   {
    "duration": 256,
    "start_time": "2022-11-22T15:56:24.453Z"
   },
   {
    "duration": 6,
    "start_time": "2022-11-22T16:10:11.973Z"
   },
   {
    "duration": 23,
    "start_time": "2022-11-22T16:10:21.218Z"
   },
   {
    "duration": 36,
    "start_time": "2022-11-22T16:11:33.932Z"
   },
   {
    "duration": 299,
    "start_time": "2022-11-22T16:13:59.490Z"
   },
   {
    "duration": 100,
    "start_time": "2022-11-22T16:15:46.542Z"
   },
   {
    "duration": 312,
    "start_time": "2022-11-22T16:15:56.892Z"
   },
   {
    "duration": 305,
    "start_time": "2022-11-22T16:16:13.056Z"
   },
   {
    "duration": 319,
    "start_time": "2022-11-22T16:25:11.413Z"
   },
   {
    "duration": 395,
    "start_time": "2022-11-22T16:25:46.698Z"
   },
   {
    "duration": 90,
    "start_time": "2022-11-22T16:25:47.094Z"
   },
   {
    "duration": 19,
    "start_time": "2022-11-22T16:25:47.185Z"
   },
   {
    "duration": 13,
    "start_time": "2022-11-22T16:25:47.206Z"
   },
   {
    "duration": 14,
    "start_time": "2022-11-22T16:25:47.221Z"
   },
   {
    "duration": 8,
    "start_time": "2022-11-22T16:25:47.237Z"
   },
   {
    "duration": 13,
    "start_time": "2022-11-22T16:25:47.246Z"
   },
   {
    "duration": 11,
    "start_time": "2022-11-22T16:25:47.286Z"
   },
   {
    "duration": 17,
    "start_time": "2022-11-22T16:25:47.298Z"
   },
   {
    "duration": 5,
    "start_time": "2022-11-22T16:25:47.317Z"
   },
   {
    "duration": 15,
    "start_time": "2022-11-22T16:25:47.323Z"
   },
   {
    "duration": 19,
    "start_time": "2022-11-22T16:25:47.340Z"
   },
   {
    "duration": 8,
    "start_time": "2022-11-22T16:25:47.383Z"
   },
   {
    "duration": 17,
    "start_time": "2022-11-22T16:25:47.394Z"
   },
   {
    "duration": 7,
    "start_time": "2022-11-22T16:25:47.413Z"
   },
   {
    "duration": 19,
    "start_time": "2022-11-22T16:25:47.421Z"
   },
   {
    "duration": 6,
    "start_time": "2022-11-22T16:25:47.441Z"
   },
   {
    "duration": 14,
    "start_time": "2022-11-22T16:25:47.448Z"
   },
   {
    "duration": 24,
    "start_time": "2022-11-22T16:25:47.463Z"
   },
   {
    "duration": 16,
    "start_time": "2022-11-22T16:25:47.490Z"
   },
   {
    "duration": 72,
    "start_time": "2022-11-22T16:25:47.507Z"
   },
   {
    "duration": 0,
    "start_time": "2022-11-22T16:25:47.589Z"
   },
   {
    "duration": 777,
    "start_time": "2022-11-22T16:26:13.040Z"
   },
   {
    "duration": 291,
    "start_time": "2022-11-22T16:26:18.274Z"
   },
   {
    "duration": 551,
    "start_time": "2022-11-22T16:28:05.794Z"
   },
   {
    "duration": 564,
    "start_time": "2022-11-22T16:28:18.034Z"
   },
   {
    "duration": 735,
    "start_time": "2022-11-22T16:40:53.659Z"
   },
   {
    "duration": 73,
    "start_time": "2022-11-22T16:40:54.396Z"
   },
   {
    "duration": 20,
    "start_time": "2022-11-22T16:40:54.470Z"
   },
   {
    "duration": 21,
    "start_time": "2022-11-22T16:40:54.494Z"
   },
   {
    "duration": 18,
    "start_time": "2022-11-22T16:40:54.516Z"
   },
   {
    "duration": 9,
    "start_time": "2022-11-22T16:40:54.536Z"
   },
   {
    "duration": 40,
    "start_time": "2022-11-22T16:40:54.547Z"
   },
   {
    "duration": 10,
    "start_time": "2022-11-22T16:40:54.589Z"
   },
   {
    "duration": 23,
    "start_time": "2022-11-22T16:40:54.602Z"
   },
   {
    "duration": 4,
    "start_time": "2022-11-22T16:40:54.627Z"
   },
   {
    "duration": 18,
    "start_time": "2022-11-22T16:40:54.633Z"
   },
   {
    "duration": 46,
    "start_time": "2022-11-22T16:40:54.652Z"
   },
   {
    "duration": 5,
    "start_time": "2022-11-22T16:40:54.700Z"
   },
   {
    "duration": 16,
    "start_time": "2022-11-22T16:40:54.706Z"
   },
   {
    "duration": 4,
    "start_time": "2022-11-22T16:40:54.723Z"
   },
   {
    "duration": 15,
    "start_time": "2022-11-22T16:40:54.729Z"
   },
   {
    "duration": 38,
    "start_time": "2022-11-22T16:40:54.745Z"
   },
   {
    "duration": 28,
    "start_time": "2022-11-22T16:40:54.785Z"
   },
   {
    "duration": 9,
    "start_time": "2022-11-22T16:40:54.814Z"
   },
   {
    "duration": 8,
    "start_time": "2022-11-22T16:40:54.825Z"
   },
   {
    "duration": 622,
    "start_time": "2022-11-22T16:40:54.834Z"
   },
   {
    "duration": 301,
    "start_time": "2022-11-22T16:40:55.457Z"
   },
   {
    "duration": 98,
    "start_time": "2022-11-22T16:40:55.759Z"
   },
   {
    "duration": 11,
    "start_time": "2022-11-22T16:42:30.812Z"
   },
   {
    "duration": 637,
    "start_time": "2022-11-22T16:42:36.549Z"
   },
   {
    "duration": 547,
    "start_time": "2022-11-22T16:43:08.754Z"
   },
   {
    "duration": 506,
    "start_time": "2022-11-22T16:43:50.486Z"
   },
   {
    "duration": 513,
    "start_time": "2022-11-22T16:44:05.113Z"
   },
   {
    "duration": 9,
    "start_time": "2022-11-22T16:44:32.773Z"
   },
   {
    "duration": 645,
    "start_time": "2022-11-22T16:46:24.808Z"
   },
   {
    "duration": 80,
    "start_time": "2022-11-22T16:46:25.455Z"
   },
   {
    "duration": 17,
    "start_time": "2022-11-22T16:46:25.536Z"
   },
   {
    "duration": 14,
    "start_time": "2022-11-22T16:46:25.555Z"
   },
   {
    "duration": 25,
    "start_time": "2022-11-22T16:46:25.580Z"
   },
   {
    "duration": 13,
    "start_time": "2022-11-22T16:46:25.606Z"
   },
   {
    "duration": 15,
    "start_time": "2022-11-22T16:46:25.621Z"
   },
   {
    "duration": 17,
    "start_time": "2022-11-22T16:46:25.638Z"
   },
   {
    "duration": 46,
    "start_time": "2022-11-22T16:46:25.657Z"
   },
   {
    "duration": 3,
    "start_time": "2022-11-22T16:46:25.706Z"
   },
   {
    "duration": 16,
    "start_time": "2022-11-22T16:46:25.711Z"
   },
   {
    "duration": 20,
    "start_time": "2022-11-22T16:46:25.729Z"
   },
   {
    "duration": 42,
    "start_time": "2022-11-22T16:46:25.750Z"
   },
   {
    "duration": 30,
    "start_time": "2022-11-22T16:46:25.795Z"
   },
   {
    "duration": 5,
    "start_time": "2022-11-22T16:46:25.827Z"
   },
   {
    "duration": 23,
    "start_time": "2022-11-22T16:46:25.833Z"
   },
   {
    "duration": 6,
    "start_time": "2022-11-22T16:46:25.857Z"
   },
   {
    "duration": 27,
    "start_time": "2022-11-22T16:46:25.865Z"
   },
   {
    "duration": 10,
    "start_time": "2022-11-22T16:46:25.895Z"
   },
   {
    "duration": 12,
    "start_time": "2022-11-22T16:46:25.906Z"
   },
   {
    "duration": 601,
    "start_time": "2022-11-22T16:46:25.920Z"
   },
   {
    "duration": 309,
    "start_time": "2022-11-22T16:46:26.522Z"
   },
   {
    "duration": 85,
    "start_time": "2022-11-22T16:46:26.833Z"
   },
   {
    "duration": 340,
    "start_time": "2022-11-22T16:47:21.166Z"
   },
   {
    "duration": 221,
    "start_time": "2022-11-22T16:49:09.394Z"
   },
   {
    "duration": 207,
    "start_time": "2022-11-22T16:51:06.664Z"
   },
   {
    "duration": 274,
    "start_time": "2022-11-22T16:52:51.487Z"
   },
   {
    "duration": 268,
    "start_time": "2022-11-22T16:52:58.048Z"
   },
   {
    "duration": 225,
    "start_time": "2022-11-22T16:53:13.113Z"
   },
   {
    "duration": 211,
    "start_time": "2022-11-22T16:54:48.408Z"
   },
   {
    "duration": 319,
    "start_time": "2022-11-22T16:55:12.441Z"
   },
   {
    "duration": 277,
    "start_time": "2022-11-22T16:55:23.274Z"
   },
   {
    "duration": 11,
    "start_time": "2022-11-22T16:57:31.044Z"
   },
   {
    "duration": 700,
    "start_time": "2022-11-22T16:58:11.950Z"
   },
   {
    "duration": 89,
    "start_time": "2022-11-22T16:58:12.653Z"
   },
   {
    "duration": 14,
    "start_time": "2022-11-22T16:58:12.744Z"
   },
   {
    "duration": 30,
    "start_time": "2022-11-22T16:58:12.760Z"
   },
   {
    "duration": 44,
    "start_time": "2022-11-22T16:58:12.792Z"
   },
   {
    "duration": 11,
    "start_time": "2022-11-22T16:58:12.838Z"
   },
   {
    "duration": 22,
    "start_time": "2022-11-22T16:58:12.851Z"
   },
   {
    "duration": 41,
    "start_time": "2022-11-22T16:58:12.875Z"
   },
   {
    "duration": 30,
    "start_time": "2022-11-22T16:58:12.917Z"
   },
   {
    "duration": 5,
    "start_time": "2022-11-22T16:58:12.953Z"
   },
   {
    "duration": 14,
    "start_time": "2022-11-22T16:58:12.959Z"
   },
   {
    "duration": 64,
    "start_time": "2022-11-22T16:58:12.976Z"
   },
   {
    "duration": 8,
    "start_time": "2022-11-22T16:58:13.042Z"
   },
   {
    "duration": 34,
    "start_time": "2022-11-22T16:58:13.052Z"
   },
   {
    "duration": 31,
    "start_time": "2022-11-22T16:58:13.088Z"
   },
   {
    "duration": 18,
    "start_time": "2022-11-22T16:58:13.122Z"
   },
   {
    "duration": 6,
    "start_time": "2022-11-22T16:58:13.142Z"
   },
   {
    "duration": 14,
    "start_time": "2022-11-22T16:58:13.150Z"
   },
   {
    "duration": 8,
    "start_time": "2022-11-22T16:58:13.166Z"
   },
   {
    "duration": 14,
    "start_time": "2022-11-22T16:58:13.176Z"
   },
   {
    "duration": 658,
    "start_time": "2022-11-22T16:58:13.192Z"
   },
   {
    "duration": 420,
    "start_time": "2022-11-22T16:58:13.852Z"
   },
   {
    "duration": 367,
    "start_time": "2022-11-22T16:58:14.274Z"
   },
   {
    "duration": 1535,
    "start_time": "2022-11-22T16:58:59.974Z"
   },
   {
    "duration": 660,
    "start_time": "2022-11-22T16:59:25.456Z"
   },
   {
    "duration": 76,
    "start_time": "2022-11-22T16:59:26.118Z"
   },
   {
    "duration": 15,
    "start_time": "2022-11-22T16:59:26.196Z"
   },
   {
    "duration": 13,
    "start_time": "2022-11-22T16:59:26.214Z"
   },
   {
    "duration": 19,
    "start_time": "2022-11-22T16:59:26.229Z"
   },
   {
    "duration": 34,
    "start_time": "2022-11-22T16:59:26.250Z"
   },
   {
    "duration": 16,
    "start_time": "2022-11-22T16:59:26.285Z"
   },
   {
    "duration": 6,
    "start_time": "2022-11-22T16:59:26.302Z"
   },
   {
    "duration": 16,
    "start_time": "2022-11-22T16:59:26.309Z"
   },
   {
    "duration": 3,
    "start_time": "2022-11-22T16:59:26.328Z"
   },
   {
    "duration": 16,
    "start_time": "2022-11-22T16:59:26.333Z"
   },
   {
    "duration": 53,
    "start_time": "2022-11-22T16:59:26.350Z"
   },
   {
    "duration": 5,
    "start_time": "2022-11-22T16:59:26.404Z"
   },
   {
    "duration": 15,
    "start_time": "2022-11-22T16:59:26.410Z"
   },
   {
    "duration": 5,
    "start_time": "2022-11-22T16:59:26.427Z"
   },
   {
    "duration": 20,
    "start_time": "2022-11-22T16:59:26.434Z"
   },
   {
    "duration": 6,
    "start_time": "2022-11-22T16:59:26.456Z"
   },
   {
    "duration": 27,
    "start_time": "2022-11-22T16:59:26.463Z"
   },
   {
    "duration": 8,
    "start_time": "2022-11-22T16:59:26.491Z"
   },
   {
    "duration": 10,
    "start_time": "2022-11-22T16:59:26.501Z"
   },
   {
    "duration": 577,
    "start_time": "2022-11-22T16:59:26.513Z"
   },
   {
    "duration": 279,
    "start_time": "2022-11-22T16:59:27.091Z"
   },
   {
    "duration": 288,
    "start_time": "2022-11-22T16:59:27.371Z"
   },
   {
    "duration": 1328,
    "start_time": "2022-11-22T16:59:27.661Z"
   },
   {
    "duration": 152,
    "start_time": "2022-11-22T16:59:52.653Z"
   },
   {
    "duration": 133,
    "start_time": "2022-11-22T17:00:00.114Z"
   },
   {
    "duration": 134,
    "start_time": "2022-11-22T17:00:04.184Z"
   },
   {
    "duration": 139,
    "start_time": "2022-11-22T17:00:07.553Z"
   },
   {
    "duration": 149,
    "start_time": "2022-11-22T17:00:12.311Z"
   },
   {
    "duration": 146,
    "start_time": "2022-11-22T17:00:19.035Z"
   },
   {
    "duration": 149,
    "start_time": "2022-11-22T17:00:23.842Z"
   },
   {
    "duration": 152,
    "start_time": "2022-11-22T17:00:54.990Z"
   },
   {
    "duration": 156,
    "start_time": "2022-11-22T17:01:40.273Z"
   },
   {
    "duration": 140,
    "start_time": "2022-11-22T17:02:00.816Z"
   },
   {
    "duration": 139,
    "start_time": "2022-11-22T17:03:20.190Z"
   },
   {
    "duration": 225,
    "start_time": "2022-11-22T17:03:38.567Z"
   },
   {
    "duration": 1490,
    "start_time": "2022-11-22T17:10:25.204Z"
   },
   {
    "duration": 1223,
    "start_time": "2022-11-22T17:10:40.270Z"
   },
   {
    "duration": 8,
    "start_time": "2022-11-22T17:11:09.443Z"
   },
   {
    "duration": 623,
    "start_time": "2022-11-22T17:11:28.319Z"
   },
   {
    "duration": 74,
    "start_time": "2022-11-22T17:11:28.944Z"
   },
   {
    "duration": 22,
    "start_time": "2022-11-22T17:11:29.025Z"
   },
   {
    "duration": 14,
    "start_time": "2022-11-22T17:11:29.048Z"
   },
   {
    "duration": 24,
    "start_time": "2022-11-22T17:11:29.064Z"
   },
   {
    "duration": 13,
    "start_time": "2022-11-22T17:11:29.090Z"
   },
   {
    "duration": 14,
    "start_time": "2022-11-22T17:11:29.104Z"
   },
   {
    "duration": 6,
    "start_time": "2022-11-22T17:11:29.120Z"
   },
   {
    "duration": 18,
    "start_time": "2022-11-22T17:11:29.127Z"
   },
   {
    "duration": 3,
    "start_time": "2022-11-22T17:11:29.147Z"
   },
   {
    "duration": 15,
    "start_time": "2022-11-22T17:11:29.177Z"
   },
   {
    "duration": 21,
    "start_time": "2022-11-22T17:11:29.194Z"
   },
   {
    "duration": 7,
    "start_time": "2022-11-22T17:11:29.217Z"
   },
   {
    "duration": 14,
    "start_time": "2022-11-22T17:11:29.227Z"
   },
   {
    "duration": 5,
    "start_time": "2022-11-22T17:11:29.242Z"
   },
   {
    "duration": 38,
    "start_time": "2022-11-22T17:11:29.248Z"
   },
   {
    "duration": 5,
    "start_time": "2022-11-22T17:11:29.288Z"
   },
   {
    "duration": 19,
    "start_time": "2022-11-22T17:11:29.295Z"
   },
   {
    "duration": 9,
    "start_time": "2022-11-22T17:11:29.316Z"
   },
   {
    "duration": 8,
    "start_time": "2022-11-22T17:11:29.327Z"
   },
   {
    "duration": 568,
    "start_time": "2022-11-22T17:11:29.337Z"
   },
   {
    "duration": 294,
    "start_time": "2022-11-22T17:11:29.907Z"
   },
   {
    "duration": 319,
    "start_time": "2022-11-22T17:11:30.204Z"
   },
   {
    "duration": 78,
    "start_time": "2022-11-22T17:11:30.525Z"
   },
   {
    "duration": 0,
    "start_time": "2022-11-22T17:11:30.605Z"
   },
   {
    "duration": 0,
    "start_time": "2022-11-22T17:11:30.606Z"
   },
   {
    "duration": 8,
    "start_time": "2022-11-22T17:11:44.978Z"
   },
   {
    "duration": 262,
    "start_time": "2022-11-22T17:17:23.138Z"
   },
   {
    "duration": 126,
    "start_time": "2022-11-22T17:18:15.900Z"
   },
   {
    "duration": 131,
    "start_time": "2022-11-22T17:19:03.441Z"
   },
   {
    "duration": 131,
    "start_time": "2022-11-22T17:19:38.046Z"
   },
   {
    "duration": 133,
    "start_time": "2022-11-22T17:19:40.718Z"
   },
   {
    "duration": 9,
    "start_time": "2022-11-22T17:21:37.921Z"
   },
   {
    "duration": 7,
    "start_time": "2022-11-22T17:21:57.516Z"
   },
   {
    "duration": 9,
    "start_time": "2022-11-22T17:22:24.340Z"
   },
   {
    "duration": 12,
    "start_time": "2022-11-22T17:22:49.511Z"
   },
   {
    "duration": 7,
    "start_time": "2022-11-22T17:23:05.294Z"
   },
   {
    "duration": 7,
    "start_time": "2022-11-22T17:24:26.472Z"
   },
   {
    "duration": 12,
    "start_time": "2022-11-22T17:32:59.504Z"
   },
   {
    "duration": 10,
    "start_time": "2022-11-22T17:35:36.499Z"
   },
   {
    "duration": 147,
    "start_time": "2022-11-22T17:35:59.269Z"
   },
   {
    "duration": 9,
    "start_time": "2022-11-22T17:36:05.319Z"
   },
   {
    "duration": 30,
    "start_time": "2022-11-22T17:37:10.487Z"
   },
   {
    "duration": 30,
    "start_time": "2022-11-22T17:38:03.169Z"
   },
   {
    "duration": 68,
    "start_time": "2022-11-22T17:38:16.746Z"
   },
   {
    "duration": 64,
    "start_time": "2022-11-22T17:42:24.168Z"
   },
   {
    "duration": 15,
    "start_time": "2022-11-22T17:42:48.973Z"
   },
   {
    "duration": 15,
    "start_time": "2022-11-22T17:42:57.827Z"
   },
   {
    "duration": 13,
    "start_time": "2022-11-22T17:43:41.617Z"
   },
   {
    "duration": 15,
    "start_time": "2022-11-22T17:43:57.868Z"
   },
   {
    "duration": 16,
    "start_time": "2022-11-22T17:45:10.072Z"
   },
   {
    "duration": 17,
    "start_time": "2022-11-22T17:46:26.980Z"
   },
   {
    "duration": 16,
    "start_time": "2022-11-22T17:46:50.629Z"
   },
   {
    "duration": 18,
    "start_time": "2022-11-22T17:47:16.082Z"
   },
   {
    "duration": 4,
    "start_time": "2022-11-22T17:48:23.278Z"
   },
   {
    "duration": 6,
    "start_time": "2022-11-22T17:48:36.769Z"
   },
   {
    "duration": 8,
    "start_time": "2022-11-22T17:48:56.386Z"
   },
   {
    "duration": 6,
    "start_time": "2022-11-22T17:49:17.721Z"
   },
   {
    "duration": 114,
    "start_time": "2022-11-22T17:49:50.579Z"
   },
   {
    "duration": 11,
    "start_time": "2022-11-22T17:49:54.686Z"
   },
   {
    "duration": 10,
    "start_time": "2022-11-22T17:49:59.382Z"
   },
   {
    "duration": 129,
    "start_time": "2022-11-22T17:50:26.699Z"
   },
   {
    "duration": 107,
    "start_time": "2022-11-22T17:50:34.743Z"
   },
   {
    "duration": 128,
    "start_time": "2022-11-22T17:51:52.245Z"
   },
   {
    "duration": 118,
    "start_time": "2022-11-22T17:52:38.896Z"
   },
   {
    "duration": 195,
    "start_time": "2022-11-22T17:53:32.491Z"
   },
   {
    "duration": 124,
    "start_time": "2022-11-22T17:53:41.973Z"
   },
   {
    "duration": 116,
    "start_time": "2022-11-22T17:53:45.951Z"
   },
   {
    "duration": 135,
    "start_time": "2022-11-22T17:54:44.100Z"
   },
   {
    "duration": 110,
    "start_time": "2022-11-22T17:55:10.141Z"
   },
   {
    "duration": 139,
    "start_time": "2022-11-22T18:00:03.325Z"
   },
   {
    "duration": 139,
    "start_time": "2022-11-22T18:00:30.013Z"
   },
   {
    "duration": 133,
    "start_time": "2022-11-22T18:00:42.578Z"
   },
   {
    "duration": 131,
    "start_time": "2022-11-22T18:00:48.329Z"
   },
   {
    "duration": 120,
    "start_time": "2022-11-22T18:01:28.723Z"
   },
   {
    "duration": 133,
    "start_time": "2022-11-22T18:01:55.273Z"
   },
   {
    "duration": 187,
    "start_time": "2022-11-22T18:02:14.481Z"
   },
   {
    "duration": 9,
    "start_time": "2022-11-22T18:04:01.725Z"
   },
   {
    "duration": 637,
    "start_time": "2022-11-22T18:04:17.173Z"
   },
   {
    "duration": 74,
    "start_time": "2022-11-22T18:04:17.811Z"
   },
   {
    "duration": 15,
    "start_time": "2022-11-22T18:04:17.887Z"
   },
   {
    "duration": 14,
    "start_time": "2022-11-22T18:04:17.903Z"
   },
   {
    "duration": 14,
    "start_time": "2022-11-22T18:04:17.919Z"
   },
   {
    "duration": 10,
    "start_time": "2022-11-22T18:04:17.934Z"
   },
   {
    "duration": 33,
    "start_time": "2022-11-22T18:04:17.945Z"
   },
   {
    "duration": 6,
    "start_time": "2022-11-22T18:04:17.980Z"
   },
   {
    "duration": 18,
    "start_time": "2022-11-22T18:04:17.988Z"
   },
   {
    "duration": 3,
    "start_time": "2022-11-22T18:04:18.008Z"
   },
   {
    "duration": 14,
    "start_time": "2022-11-22T18:04:18.013Z"
   },
   {
    "duration": 19,
    "start_time": "2022-11-22T18:04:18.029Z"
   },
   {
    "duration": 31,
    "start_time": "2022-11-22T18:04:18.049Z"
   },
   {
    "duration": 14,
    "start_time": "2022-11-22T18:04:18.083Z"
   },
   {
    "duration": 5,
    "start_time": "2022-11-22T18:04:18.098Z"
   },
   {
    "duration": 17,
    "start_time": "2022-11-22T18:04:18.104Z"
   },
   {
    "duration": 7,
    "start_time": "2022-11-22T18:04:18.122Z"
   },
   {
    "duration": 15,
    "start_time": "2022-11-22T18:04:18.130Z"
   },
   {
    "duration": 7,
    "start_time": "2022-11-22T18:04:18.177Z"
   },
   {
    "duration": 9,
    "start_time": "2022-11-22T18:04:18.186Z"
   },
   {
    "duration": 555,
    "start_time": "2022-11-22T18:04:18.196Z"
   },
   {
    "duration": 278,
    "start_time": "2022-11-22T18:04:18.753Z"
   },
   {
    "duration": 332,
    "start_time": "2022-11-22T18:04:19.033Z"
   },
   {
    "duration": 129,
    "start_time": "2022-11-22T18:04:19.367Z"
   },
   {
    "duration": 135,
    "start_time": "2022-11-22T18:04:19.497Z"
   },
   {
    "duration": 7,
    "start_time": "2022-11-22T18:04:19.634Z"
   },
   {
    "duration": 17,
    "start_time": "2022-11-22T18:04:19.642Z"
   },
   {
    "duration": 135,
    "start_time": "2022-11-22T18:04:19.661Z"
   },
   {
    "duration": 119,
    "start_time": "2022-11-22T18:04:19.797Z"
   },
   {
    "duration": 125,
    "start_time": "2022-11-22T18:04:19.918Z"
   },
   {
    "duration": 137,
    "start_time": "2022-11-22T18:04:20.044Z"
   },
   {
    "duration": 132,
    "start_time": "2022-11-22T18:04:20.183Z"
   },
   {
    "duration": 127,
    "start_time": "2022-11-22T18:04:20.317Z"
   },
   {
    "duration": 79,
    "start_time": "2022-11-22T18:04:20.446Z"
   },
   {
    "duration": 5,
    "start_time": "2022-11-22T18:04:39.420Z"
   },
   {
    "duration": 5,
    "start_time": "2022-11-22T18:04:55.291Z"
   },
   {
    "duration": 8,
    "start_time": "2022-11-22T18:04:58.187Z"
   },
   {
    "duration": 4,
    "start_time": "2022-11-22T18:05:01.945Z"
   },
   {
    "duration": 7,
    "start_time": "2022-11-22T18:06:25.853Z"
   },
   {
    "duration": 7,
    "start_time": "2022-11-22T18:07:46.782Z"
   },
   {
    "duration": 8,
    "start_time": "2022-11-22T18:11:19.719Z"
   },
   {
    "duration": 4,
    "start_time": "2022-11-22T18:11:46.221Z"
   },
   {
    "duration": 8,
    "start_time": "2022-11-22T18:15:32.323Z"
   },
   {
    "duration": 8,
    "start_time": "2022-11-22T18:15:54.145Z"
   },
   {
    "duration": 8,
    "start_time": "2022-11-22T18:16:12.955Z"
   },
   {
    "duration": 7,
    "start_time": "2022-11-22T18:17:37.884Z"
   },
   {
    "duration": 8,
    "start_time": "2022-11-22T18:17:45.482Z"
   },
   {
    "duration": 8,
    "start_time": "2022-11-22T18:17:54.390Z"
   },
   {
    "duration": 7,
    "start_time": "2022-11-22T18:19:41.182Z"
   },
   {
    "duration": 8,
    "start_time": "2022-11-22T18:19:44.380Z"
   },
   {
    "duration": 114,
    "start_time": "2022-11-22T18:26:43.303Z"
   },
   {
    "duration": 378,
    "start_time": "2022-11-22T18:30:02.697Z"
   },
   {
    "duration": 113,
    "start_time": "2022-11-22T18:30:25.490Z"
   },
   {
    "duration": 1236,
    "start_time": "2022-11-23T16:08:41.489Z"
   },
   {
    "duration": 210,
    "start_time": "2022-11-23T16:08:42.727Z"
   },
   {
    "duration": 17,
    "start_time": "2022-11-23T16:08:42.938Z"
   },
   {
    "duration": 17,
    "start_time": "2022-11-23T16:08:42.957Z"
   },
   {
    "duration": 16,
    "start_time": "2022-11-23T16:08:42.976Z"
   },
   {
    "duration": 9,
    "start_time": "2022-11-23T16:08:42.994Z"
   },
   {
    "duration": 14,
    "start_time": "2022-11-23T16:08:43.005Z"
   },
   {
    "duration": 6,
    "start_time": "2022-11-23T16:08:43.021Z"
   },
   {
    "duration": 40,
    "start_time": "2022-11-23T16:08:43.028Z"
   },
   {
    "duration": 4,
    "start_time": "2022-11-23T16:08:43.069Z"
   },
   {
    "duration": 17,
    "start_time": "2022-11-23T16:08:43.074Z"
   },
   {
    "duration": 19,
    "start_time": "2022-11-23T16:08:43.093Z"
   },
   {
    "duration": 5,
    "start_time": "2022-11-23T16:08:43.114Z"
   },
   {
    "duration": 15,
    "start_time": "2022-11-23T16:08:43.151Z"
   },
   {
    "duration": 5,
    "start_time": "2022-11-23T16:08:43.167Z"
   },
   {
    "duration": 17,
    "start_time": "2022-11-23T16:08:43.173Z"
   },
   {
    "duration": 6,
    "start_time": "2022-11-23T16:08:43.192Z"
   },
   {
    "duration": 16,
    "start_time": "2022-11-23T16:08:43.199Z"
   },
   {
    "duration": 8,
    "start_time": "2022-11-23T16:08:43.217Z"
   },
   {
    "duration": 33,
    "start_time": "2022-11-23T16:08:43.226Z"
   },
   {
    "duration": 592,
    "start_time": "2022-11-23T16:08:43.262Z"
   },
   {
    "duration": 299,
    "start_time": "2022-11-23T16:08:43.856Z"
   },
   {
    "duration": 274,
    "start_time": "2022-11-23T16:08:44.157Z"
   },
   {
    "duration": 151,
    "start_time": "2022-11-23T16:08:44.432Z"
   },
   {
    "duration": 147,
    "start_time": "2022-11-23T16:08:44.584Z"
   },
   {
    "duration": 19,
    "start_time": "2022-11-23T16:08:44.733Z"
   },
   {
    "duration": 8,
    "start_time": "2022-11-23T16:08:44.754Z"
   },
   {
    "duration": 146,
    "start_time": "2022-11-23T16:08:44.763Z"
   },
   {
    "duration": 129,
    "start_time": "2022-11-23T16:08:44.911Z"
   },
   {
    "duration": 192,
    "start_time": "2022-11-23T16:08:45.042Z"
   },
   {
    "duration": 141,
    "start_time": "2022-11-23T16:08:45.236Z"
   },
   {
    "duration": 137,
    "start_time": "2022-11-23T16:08:45.386Z"
   },
   {
    "duration": 131,
    "start_time": "2022-11-23T16:08:45.524Z"
   },
   {
    "duration": 132,
    "start_time": "2022-11-23T16:08:45.656Z"
   },
   {
    "duration": 8,
    "start_time": "2022-11-23T16:08:45.790Z"
   },
   {
    "duration": 11,
    "start_time": "2022-11-23T16:08:45.799Z"
   },
   {
    "duration": 5,
    "start_time": "2022-11-23T16:22:28.388Z"
   },
   {
    "duration": 101,
    "start_time": "2022-11-23T16:23:46.800Z"
   },
   {
    "duration": 6,
    "start_time": "2022-11-23T16:24:12.470Z"
   },
   {
    "duration": 8,
    "start_time": "2022-11-23T16:27:36.485Z"
   },
   {
    "duration": 7,
    "start_time": "2022-11-23T16:46:22.168Z"
   },
   {
    "duration": 8,
    "start_time": "2022-11-23T16:46:28.636Z"
   },
   {
    "duration": 8,
    "start_time": "2022-11-23T16:46:47.647Z"
   },
   {
    "duration": 7,
    "start_time": "2022-11-23T16:46:50.947Z"
   },
   {
    "duration": 5,
    "start_time": "2022-11-23T16:50:11.481Z"
   },
   {
    "duration": 7,
    "start_time": "2022-11-23T16:52:00.039Z"
   },
   {
    "duration": 9,
    "start_time": "2022-11-23T16:52:26.622Z"
   },
   {
    "duration": 8,
    "start_time": "2022-11-23T16:52:34.009Z"
   },
   {
    "duration": 131,
    "start_time": "2022-11-23T16:56:23.366Z"
   },
   {
    "duration": 142,
    "start_time": "2022-11-23T16:56:28.418Z"
   },
   {
    "duration": 1138,
    "start_time": "2022-11-23T17:27:46.563Z"
   },
   {
    "duration": 79,
    "start_time": "2022-11-23T17:27:47.703Z"
   },
   {
    "duration": 16,
    "start_time": "2022-11-23T17:27:47.784Z"
   },
   {
    "duration": 14,
    "start_time": "2022-11-23T17:27:47.802Z"
   },
   {
    "duration": 34,
    "start_time": "2022-11-23T17:27:47.818Z"
   },
   {
    "duration": 8,
    "start_time": "2022-11-23T17:27:47.854Z"
   },
   {
    "duration": 14,
    "start_time": "2022-11-23T17:27:47.864Z"
   },
   {
    "duration": 6,
    "start_time": "2022-11-23T17:27:47.879Z"
   },
   {
    "duration": 25,
    "start_time": "2022-11-23T17:27:47.887Z"
   },
   {
    "duration": 4,
    "start_time": "2022-11-23T17:27:47.914Z"
   },
   {
    "duration": 39,
    "start_time": "2022-11-23T17:27:47.920Z"
   },
   {
    "duration": 21,
    "start_time": "2022-11-23T17:27:47.961Z"
   },
   {
    "duration": 5,
    "start_time": "2022-11-23T17:27:47.984Z"
   },
   {
    "duration": 14,
    "start_time": "2022-11-23T17:27:47.993Z"
   },
   {
    "duration": 25,
    "start_time": "2022-11-23T17:27:48.008Z"
   },
   {
    "duration": 27,
    "start_time": "2022-11-23T17:27:48.035Z"
   },
   {
    "duration": 7,
    "start_time": "2022-11-23T17:27:48.064Z"
   },
   {
    "duration": 14,
    "start_time": "2022-11-23T17:27:48.072Z"
   },
   {
    "duration": 8,
    "start_time": "2022-11-23T17:27:48.088Z"
   },
   {
    "duration": 7,
    "start_time": "2022-11-23T17:27:48.098Z"
   },
   {
    "duration": 538,
    "start_time": "2022-11-23T17:27:48.106Z"
   },
   {
    "duration": 267,
    "start_time": "2022-11-23T17:27:48.651Z"
   },
   {
    "duration": 248,
    "start_time": "2022-11-23T17:27:48.920Z"
   },
   {
    "duration": 140,
    "start_time": "2022-11-23T17:27:49.169Z"
   },
   {
    "duration": 142,
    "start_time": "2022-11-23T17:27:49.310Z"
   },
   {
    "duration": 7,
    "start_time": "2022-11-23T17:27:49.454Z"
   },
   {
    "duration": 11,
    "start_time": "2022-11-23T17:27:49.462Z"
   },
   {
    "duration": 133,
    "start_time": "2022-11-23T17:27:49.474Z"
   },
   {
    "duration": 119,
    "start_time": "2022-11-23T17:27:49.608Z"
   },
   {
    "duration": 185,
    "start_time": "2022-11-23T17:27:49.728Z"
   },
   {
    "duration": 122,
    "start_time": "2022-11-23T17:27:49.915Z"
   },
   {
    "duration": 138,
    "start_time": "2022-11-23T17:27:50.038Z"
   },
   {
    "duration": 131,
    "start_time": "2022-11-23T17:27:50.177Z"
   },
   {
    "duration": 147,
    "start_time": "2022-11-23T17:27:50.311Z"
   },
   {
    "duration": 135,
    "start_time": "2022-11-23T17:27:50.459Z"
   },
   {
    "duration": 130,
    "start_time": "2022-11-23T17:27:50.596Z"
   },
   {
    "duration": 4,
    "start_time": "2022-11-23T17:27:50.728Z"
   },
   {
    "duration": 21,
    "start_time": "2022-11-23T17:27:50.734Z"
   },
   {
    "duration": 4,
    "start_time": "2022-11-23T17:27:50.757Z"
   },
   {
    "duration": 9,
    "start_time": "2022-11-23T17:27:50.763Z"
   },
   {
    "duration": 7,
    "start_time": "2022-11-23T17:28:38.610Z"
   },
   {
    "duration": 13,
    "start_time": "2022-11-23T17:28:40.614Z"
   },
   {
    "duration": 1144,
    "start_time": "2022-11-23T17:28:47.157Z"
   },
   {
    "duration": 73,
    "start_time": "2022-11-23T17:28:48.303Z"
   },
   {
    "duration": 14,
    "start_time": "2022-11-23T17:28:48.377Z"
   },
   {
    "duration": 14,
    "start_time": "2022-11-23T17:28:48.393Z"
   },
   {
    "duration": 16,
    "start_time": "2022-11-23T17:28:48.408Z"
   },
   {
    "duration": 10,
    "start_time": "2022-11-23T17:28:48.425Z"
   },
   {
    "duration": 13,
    "start_time": "2022-11-23T17:28:48.452Z"
   },
   {
    "duration": 5,
    "start_time": "2022-11-23T17:28:48.466Z"
   },
   {
    "duration": 15,
    "start_time": "2022-11-23T17:28:48.473Z"
   },
   {
    "duration": 3,
    "start_time": "2022-11-23T17:28:48.491Z"
   },
   {
    "duration": 15,
    "start_time": "2022-11-23T17:28:48.496Z"
   },
   {
    "duration": 50,
    "start_time": "2022-11-23T17:28:48.513Z"
   },
   {
    "duration": 4,
    "start_time": "2022-11-23T17:28:48.565Z"
   },
   {
    "duration": 17,
    "start_time": "2022-11-23T17:28:48.570Z"
   },
   {
    "duration": 6,
    "start_time": "2022-11-23T17:28:48.588Z"
   },
   {
    "duration": 14,
    "start_time": "2022-11-23T17:28:48.596Z"
   },
   {
    "duration": 5,
    "start_time": "2022-11-23T17:28:48.612Z"
   },
   {
    "duration": 36,
    "start_time": "2022-11-23T17:28:48.619Z"
   },
   {
    "duration": 8,
    "start_time": "2022-11-23T17:28:48.656Z"
   },
   {
    "duration": 6,
    "start_time": "2022-11-23T17:28:48.666Z"
   },
   {
    "duration": 578,
    "start_time": "2022-11-23T17:28:48.674Z"
   },
   {
    "duration": 285,
    "start_time": "2022-11-23T17:28:49.253Z"
   },
   {
    "duration": 240,
    "start_time": "2022-11-23T17:28:49.539Z"
   },
   {
    "duration": 130,
    "start_time": "2022-11-23T17:28:49.780Z"
   },
   {
    "duration": 134,
    "start_time": "2022-11-23T17:28:49.912Z"
   },
   {
    "duration": 10,
    "start_time": "2022-11-23T17:28:50.047Z"
   },
   {
    "duration": 16,
    "start_time": "2022-11-23T17:28:50.059Z"
   },
   {
    "duration": 137,
    "start_time": "2022-11-23T17:28:50.078Z"
   },
   {
    "duration": 128,
    "start_time": "2022-11-23T17:28:50.217Z"
   },
   {
    "duration": 191,
    "start_time": "2022-11-23T17:28:50.352Z"
   },
   {
    "duration": 141,
    "start_time": "2022-11-23T17:28:50.545Z"
   },
   {
    "duration": 140,
    "start_time": "2022-11-23T17:28:50.688Z"
   },
   {
    "duration": 134,
    "start_time": "2022-11-23T17:28:50.830Z"
   },
   {
    "duration": 134,
    "start_time": "2022-11-23T17:28:50.966Z"
   },
   {
    "duration": 132,
    "start_time": "2022-11-23T17:28:51.101Z"
   },
   {
    "duration": 133,
    "start_time": "2022-11-23T17:28:51.234Z"
   },
   {
    "duration": 4,
    "start_time": "2022-11-23T17:28:51.369Z"
   },
   {
    "duration": 22,
    "start_time": "2022-11-23T17:28:51.375Z"
   },
   {
    "duration": 24,
    "start_time": "2022-11-23T17:28:51.399Z"
   },
   {
    "duration": 8,
    "start_time": "2022-11-23T17:28:51.425Z"
   },
   {
    "duration": 1213,
    "start_time": "2022-11-23T18:17:39.359Z"
   },
   {
    "duration": 134,
    "start_time": "2022-11-23T18:17:48.696Z"
   },
   {
    "duration": 5,
    "start_time": "2022-11-23T18:18:02.553Z"
   },
   {
    "duration": 4,
    "start_time": "2022-11-23T18:18:02.723Z"
   },
   {
    "duration": 144,
    "start_time": "2022-11-23T18:18:26.756Z"
   },
   {
    "duration": 18,
    "start_time": "2022-11-23T18:18:29.477Z"
   },
   {
    "duration": 21,
    "start_time": "2022-11-23T18:18:34.703Z"
   },
   {
    "duration": 165,
    "start_time": "2022-11-23T18:18:58.281Z"
   },
   {
    "duration": 139,
    "start_time": "2022-11-23T18:19:04.034Z"
   },
   {
    "duration": 139,
    "start_time": "2022-11-23T18:19:10.251Z"
   },
   {
    "duration": 144,
    "start_time": "2022-11-23T18:19:14.867Z"
   },
   {
    "duration": 158,
    "start_time": "2022-11-23T18:20:27.282Z"
   },
   {
    "duration": 246,
    "start_time": "2022-11-23T18:22:06.834Z"
   },
   {
    "duration": 11,
    "start_time": "2022-11-23T20:00:54.620Z"
   },
   {
    "duration": 22,
    "start_time": "2022-11-23T20:00:59.926Z"
   },
   {
    "duration": 20,
    "start_time": "2022-11-23T20:11:24.224Z"
   },
   {
    "duration": 12,
    "start_time": "2022-11-23T20:39:18.902Z"
   },
   {
    "duration": 116,
    "start_time": "2022-11-23T20:40:50.076Z"
   },
   {
    "duration": 13,
    "start_time": "2022-11-23T20:40:55.095Z"
   },
   {
    "duration": 39,
    "start_time": "2022-11-23T20:41:14.760Z"
   },
   {
    "duration": 61,
    "start_time": "2022-11-23T20:42:26.672Z"
   },
   {
    "duration": 40,
    "start_time": "2022-11-23T20:44:31.301Z"
   },
   {
    "duration": 21,
    "start_time": "2022-11-23T20:45:36.758Z"
   },
   {
    "duration": 13,
    "start_time": "2022-11-23T20:47:41.149Z"
   },
   {
    "duration": 7,
    "start_time": "2022-11-23T20:48:43.178Z"
   },
   {
    "duration": 7,
    "start_time": "2022-11-23T20:50:05.880Z"
   },
   {
    "duration": 8,
    "start_time": "2022-11-23T20:50:29.653Z"
   },
   {
    "duration": 8,
    "start_time": "2022-11-23T21:03:12.961Z"
   },
   {
    "duration": 7,
    "start_time": "2022-11-23T21:04:01.026Z"
   },
   {
    "duration": 981,
    "start_time": "2022-11-23T22:15:37.012Z"
   },
   {
    "duration": 70,
    "start_time": "2022-11-23T22:15:37.995Z"
   },
   {
    "duration": 14,
    "start_time": "2022-11-23T22:15:38.067Z"
   },
   {
    "duration": 14,
    "start_time": "2022-11-23T22:15:38.083Z"
   },
   {
    "duration": 14,
    "start_time": "2022-11-23T22:15:38.099Z"
   },
   {
    "duration": 9,
    "start_time": "2022-11-23T22:15:38.115Z"
   },
   {
    "duration": 34,
    "start_time": "2022-11-23T22:15:38.125Z"
   },
   {
    "duration": 7,
    "start_time": "2022-11-23T22:15:38.161Z"
   },
   {
    "duration": 17,
    "start_time": "2022-11-23T22:15:38.169Z"
   },
   {
    "duration": 3,
    "start_time": "2022-11-23T22:15:38.190Z"
   },
   {
    "duration": 14,
    "start_time": "2022-11-23T22:15:38.195Z"
   },
   {
    "duration": 54,
    "start_time": "2022-11-23T22:15:38.211Z"
   },
   {
    "duration": 5,
    "start_time": "2022-11-23T22:15:38.267Z"
   },
   {
    "duration": 15,
    "start_time": "2022-11-23T22:15:38.274Z"
   },
   {
    "duration": 5,
    "start_time": "2022-11-23T22:15:38.291Z"
   },
   {
    "duration": 13,
    "start_time": "2022-11-23T22:15:38.298Z"
   },
   {
    "duration": 18,
    "start_time": "2022-11-23T22:15:38.313Z"
   },
   {
    "duration": 16,
    "start_time": "2022-11-23T22:15:38.351Z"
   },
   {
    "duration": 9,
    "start_time": "2022-11-23T22:15:38.368Z"
   },
   {
    "duration": 17,
    "start_time": "2022-11-23T22:15:38.379Z"
   },
   {
    "duration": 538,
    "start_time": "2022-11-23T22:15:38.398Z"
   },
   {
    "duration": 278,
    "start_time": "2022-11-23T22:15:38.938Z"
   },
   {
    "duration": 232,
    "start_time": "2022-11-23T22:15:39.217Z"
   },
   {
    "duration": 150,
    "start_time": "2022-11-23T22:15:39.451Z"
   },
   {
    "duration": 156,
    "start_time": "2022-11-23T22:15:39.603Z"
   },
   {
    "duration": 7,
    "start_time": "2022-11-23T22:15:39.761Z"
   },
   {
    "duration": 8,
    "start_time": "2022-11-23T22:15:39.769Z"
   },
   {
    "duration": 17,
    "start_time": "2022-11-23T22:15:39.780Z"
   },
   {
    "duration": 143,
    "start_time": "2022-11-23T22:15:39.798Z"
   },
   {
    "duration": 120,
    "start_time": "2022-11-23T22:15:39.942Z"
   },
   {
    "duration": 189,
    "start_time": "2022-11-23T22:15:40.064Z"
   },
   {
    "duration": 133,
    "start_time": "2022-11-23T22:15:40.255Z"
   },
   {
    "duration": 133,
    "start_time": "2022-11-23T22:15:40.389Z"
   },
   {
    "duration": 118,
    "start_time": "2022-11-23T22:15:40.524Z"
   },
   {
    "duration": 135,
    "start_time": "2022-11-23T22:15:40.644Z"
   },
   {
    "duration": 125,
    "start_time": "2022-11-23T22:15:40.780Z"
   },
   {
    "duration": 7,
    "start_time": "2022-11-23T22:15:40.907Z"
   },
   {
    "duration": 138,
    "start_time": "2022-11-23T22:15:40.916Z"
   },
   {
    "duration": 7,
    "start_time": "2022-11-23T22:15:41.055Z"
   },
   {
    "duration": 12,
    "start_time": "2022-11-23T22:15:41.063Z"
   },
   {
    "duration": 1106,
    "start_time": "2022-11-24T12:40:28.559Z"
   },
   {
    "duration": 80,
    "start_time": "2022-11-24T12:40:29.667Z"
   },
   {
    "duration": 14,
    "start_time": "2022-11-24T12:40:29.749Z"
   },
   {
    "duration": 25,
    "start_time": "2022-11-24T12:40:29.765Z"
   },
   {
    "duration": 14,
    "start_time": "2022-11-24T12:40:29.791Z"
   },
   {
    "duration": 8,
    "start_time": "2022-11-24T12:40:29.807Z"
   },
   {
    "duration": 18,
    "start_time": "2022-11-24T12:40:29.817Z"
   },
   {
    "duration": 6,
    "start_time": "2022-11-24T12:40:29.836Z"
   },
   {
    "duration": 40,
    "start_time": "2022-11-24T12:40:29.844Z"
   },
   {
    "duration": 4,
    "start_time": "2022-11-24T12:40:29.887Z"
   },
   {
    "duration": 20,
    "start_time": "2022-11-24T12:40:29.893Z"
   },
   {
    "duration": 22,
    "start_time": "2022-11-24T12:40:29.915Z"
   },
   {
    "duration": 6,
    "start_time": "2022-11-24T12:40:29.939Z"
   },
   {
    "duration": 34,
    "start_time": "2022-11-24T12:40:29.947Z"
   },
   {
    "duration": 12,
    "start_time": "2022-11-24T12:40:29.983Z"
   },
   {
    "duration": 68,
    "start_time": "2022-11-24T12:40:29.998Z"
   },
   {
    "duration": 41,
    "start_time": "2022-11-24T12:40:30.069Z"
   },
   {
    "duration": 60,
    "start_time": "2022-11-24T12:40:30.113Z"
   },
   {
    "duration": 60,
    "start_time": "2022-11-24T12:40:30.175Z"
   },
   {
    "duration": 70,
    "start_time": "2022-11-24T12:40:30.237Z"
   },
   {
    "duration": 583,
    "start_time": "2022-11-24T12:40:30.309Z"
   },
   {
    "duration": 274,
    "start_time": "2022-11-24T12:40:30.893Z"
   },
   {
    "duration": 238,
    "start_time": "2022-11-24T12:40:31.169Z"
   },
   {
    "duration": 152,
    "start_time": "2022-11-24T12:40:31.408Z"
   },
   {
    "duration": 145,
    "start_time": "2022-11-24T12:40:31.562Z"
   },
   {
    "duration": 8,
    "start_time": "2022-11-24T12:40:31.709Z"
   },
   {
    "duration": 76,
    "start_time": "2022-11-24T12:40:31.718Z"
   },
   {
    "duration": 37,
    "start_time": "2022-11-24T12:40:31.798Z"
   },
   {
    "duration": 140,
    "start_time": "2022-11-24T12:40:31.836Z"
   },
   {
    "duration": 116,
    "start_time": "2022-11-24T12:40:31.978Z"
   },
   {
    "duration": 183,
    "start_time": "2022-11-24T12:40:32.096Z"
   },
   {
    "duration": 144,
    "start_time": "2022-11-24T12:40:32.281Z"
   },
   {
    "duration": 130,
    "start_time": "2022-11-24T12:40:32.427Z"
   },
   {
    "duration": 136,
    "start_time": "2022-11-24T12:40:32.558Z"
   },
   {
    "duration": 163,
    "start_time": "2022-11-24T12:40:32.696Z"
   },
   {
    "duration": 141,
    "start_time": "2022-11-24T12:40:32.860Z"
   },
   {
    "duration": 9,
    "start_time": "2022-11-24T12:40:33.003Z"
   },
   {
    "duration": 153,
    "start_time": "2022-11-24T12:40:33.014Z"
   },
   {
    "duration": 8,
    "start_time": "2022-11-24T12:40:33.176Z"
   },
   {
    "duration": 15,
    "start_time": "2022-11-24T12:40:33.185Z"
   },
   {
    "duration": 72,
    "start_time": "2022-11-24T12:52:32.127Z"
   },
   {
    "duration": 1124,
    "start_time": "2022-11-24T12:52:43.753Z"
   },
   {
    "duration": 90,
    "start_time": "2022-11-24T12:52:44.880Z"
   },
   {
    "duration": 20,
    "start_time": "2022-11-24T12:52:44.972Z"
   },
   {
    "duration": 19,
    "start_time": "2022-11-24T12:52:44.994Z"
   },
   {
    "duration": 35,
    "start_time": "2022-11-24T12:52:45.016Z"
   },
   {
    "duration": 13,
    "start_time": "2022-11-24T12:52:45.053Z"
   },
   {
    "duration": 18,
    "start_time": "2022-11-24T12:52:45.068Z"
   },
   {
    "duration": 23,
    "start_time": "2022-11-24T12:52:45.088Z"
   },
   {
    "duration": 25,
    "start_time": "2022-11-24T12:52:45.113Z"
   },
   {
    "duration": 3,
    "start_time": "2022-11-24T12:52:45.140Z"
   },
   {
    "duration": 15,
    "start_time": "2022-11-24T12:52:45.145Z"
   },
   {
    "duration": 28,
    "start_time": "2022-11-24T12:52:45.162Z"
   },
   {
    "duration": 5,
    "start_time": "2022-11-24T12:52:45.191Z"
   },
   {
    "duration": 22,
    "start_time": "2022-11-24T12:52:45.199Z"
   },
   {
    "duration": 5,
    "start_time": "2022-11-24T12:52:45.223Z"
   },
   {
    "duration": 20,
    "start_time": "2022-11-24T12:52:45.230Z"
   },
   {
    "duration": 6,
    "start_time": "2022-11-24T12:52:45.252Z"
   },
   {
    "duration": 32,
    "start_time": "2022-11-24T12:52:45.259Z"
   },
   {
    "duration": 113,
    "start_time": "2022-11-24T12:52:45.293Z"
   },
   {
    "duration": 8,
    "start_time": "2022-11-24T12:52:45.408Z"
   },
   {
    "duration": 16,
    "start_time": "2022-11-24T12:52:45.418Z"
   },
   {
    "duration": 606,
    "start_time": "2022-11-24T12:52:45.436Z"
   },
   {
    "duration": 292,
    "start_time": "2022-11-24T12:52:46.043Z"
   },
   {
    "duration": 261,
    "start_time": "2022-11-24T12:52:46.337Z"
   },
   {
    "duration": 166,
    "start_time": "2022-11-24T12:52:46.599Z"
   },
   {
    "duration": 171,
    "start_time": "2022-11-24T12:52:46.767Z"
   },
   {
    "duration": 7,
    "start_time": "2022-11-24T12:52:46.940Z"
   },
   {
    "duration": 14,
    "start_time": "2022-11-24T12:52:46.949Z"
   },
   {
    "duration": 27,
    "start_time": "2022-11-24T12:52:46.965Z"
   },
   {
    "duration": 143,
    "start_time": "2022-11-24T12:52:46.994Z"
   },
   {
    "duration": 128,
    "start_time": "2022-11-24T12:52:47.138Z"
   },
   {
    "duration": 193,
    "start_time": "2022-11-24T12:52:47.268Z"
   },
   {
    "duration": 148,
    "start_time": "2022-11-24T12:52:47.463Z"
   },
   {
    "duration": 136,
    "start_time": "2022-11-24T12:52:47.613Z"
   },
   {
    "duration": 136,
    "start_time": "2022-11-24T12:52:47.751Z"
   },
   {
    "duration": 142,
    "start_time": "2022-11-24T12:52:47.889Z"
   },
   {
    "duration": 146,
    "start_time": "2022-11-24T12:52:48.033Z"
   },
   {
    "duration": 8,
    "start_time": "2022-11-24T12:52:48.181Z"
   },
   {
    "duration": 154,
    "start_time": "2022-11-24T12:52:48.191Z"
   },
   {
    "duration": 8,
    "start_time": "2022-11-24T12:52:48.347Z"
   },
   {
    "duration": 27,
    "start_time": "2022-11-24T12:52:48.359Z"
   },
   {
    "duration": 6,
    "start_time": "2022-11-24T13:41:53.534Z"
   },
   {
    "duration": 11,
    "start_time": "2022-11-24T14:02:58.775Z"
   },
   {
    "duration": 1245,
    "start_time": "2022-11-24T16:01:31.496Z"
   },
   {
    "duration": 519,
    "start_time": "2022-11-24T16:01:32.743Z"
   },
   {
    "duration": 16,
    "start_time": "2022-11-24T16:01:33.264Z"
   },
   {
    "duration": 39,
    "start_time": "2022-11-24T16:01:33.281Z"
   },
   {
    "duration": 61,
    "start_time": "2022-11-24T16:01:33.322Z"
   },
   {
    "duration": 38,
    "start_time": "2022-11-24T16:01:33.385Z"
   },
   {
    "duration": 41,
    "start_time": "2022-11-24T16:01:33.425Z"
   },
   {
    "duration": 23,
    "start_time": "2022-11-24T16:01:33.467Z"
   },
   {
    "duration": 42,
    "start_time": "2022-11-24T16:01:33.492Z"
   },
   {
    "duration": 11,
    "start_time": "2022-11-24T16:01:33.536Z"
   },
   {
    "duration": 48,
    "start_time": "2022-11-24T16:01:33.548Z"
   },
   {
    "duration": 55,
    "start_time": "2022-11-24T16:01:33.597Z"
   },
   {
    "duration": 11,
    "start_time": "2022-11-24T16:01:33.654Z"
   },
   {
    "duration": 56,
    "start_time": "2022-11-24T16:01:33.669Z"
   },
   {
    "duration": 16,
    "start_time": "2022-11-24T16:01:33.727Z"
   },
   {
    "duration": 60,
    "start_time": "2022-11-24T16:01:33.745Z"
   },
   {
    "duration": 18,
    "start_time": "2022-11-24T16:01:33.807Z"
   },
   {
    "duration": 47,
    "start_time": "2022-11-24T16:01:33.827Z"
   },
   {
    "duration": 78,
    "start_time": "2022-11-24T16:01:33.878Z"
   },
   {
    "duration": 8,
    "start_time": "2022-11-24T16:01:33.958Z"
   },
   {
    "duration": 31,
    "start_time": "2022-11-24T16:01:33.968Z"
   },
   {
    "duration": 568,
    "start_time": "2022-11-24T16:01:34.001Z"
   },
   {
    "duration": 292,
    "start_time": "2022-11-24T16:01:34.571Z"
   },
   {
    "duration": 252,
    "start_time": "2022-11-24T16:01:34.864Z"
   },
   {
    "duration": 166,
    "start_time": "2022-11-24T16:01:35.117Z"
   },
   {
    "duration": 166,
    "start_time": "2022-11-24T16:01:35.286Z"
   },
   {
    "duration": 7,
    "start_time": "2022-11-24T16:01:35.453Z"
   },
   {
    "duration": 12,
    "start_time": "2022-11-24T16:01:35.462Z"
   },
   {
    "duration": 30,
    "start_time": "2022-11-24T16:01:35.476Z"
   },
   {
    "duration": 136,
    "start_time": "2022-11-24T16:01:35.508Z"
   },
   {
    "duration": 119,
    "start_time": "2022-11-24T16:01:35.651Z"
   },
   {
    "duration": 209,
    "start_time": "2022-11-24T16:01:35.772Z"
   },
   {
    "duration": 139,
    "start_time": "2022-11-24T16:01:35.983Z"
   },
   {
    "duration": 134,
    "start_time": "2022-11-24T16:01:36.125Z"
   },
   {
    "duration": 153,
    "start_time": "2022-11-24T16:01:36.261Z"
   },
   {
    "duration": 128,
    "start_time": "2022-11-24T16:01:36.415Z"
   },
   {
    "duration": 129,
    "start_time": "2022-11-24T16:01:36.553Z"
   },
   {
    "duration": 7,
    "start_time": "2022-11-24T16:01:36.684Z"
   },
   {
    "duration": 126,
    "start_time": "2022-11-24T16:01:36.693Z"
   },
   {
    "duration": 9,
    "start_time": "2022-11-24T16:01:36.820Z"
   },
   {
    "duration": 24,
    "start_time": "2022-11-24T16:01:36.832Z"
   },
   {
    "duration": 34,
    "start_time": "2022-11-24T16:01:36.858Z"
   },
   {
    "duration": 266,
    "start_time": "2022-11-24T16:10:27.265Z"
   },
   {
    "duration": 268,
    "start_time": "2022-11-24T16:16:37.840Z"
   },
   {
    "duration": 328,
    "start_time": "2022-11-24T16:17:52.332Z"
   },
   {
    "duration": 270,
    "start_time": "2022-11-24T16:22:30.531Z"
   },
   {
    "duration": 352,
    "start_time": "2022-11-24T16:22:38.744Z"
   },
   {
    "duration": 255,
    "start_time": "2022-11-24T16:24:06.468Z"
   },
   {
    "duration": 263,
    "start_time": "2022-11-24T16:24:12.913Z"
   },
   {
    "duration": 268,
    "start_time": "2022-11-24T16:24:17.047Z"
   },
   {
    "duration": 272,
    "start_time": "2022-11-24T16:24:24.599Z"
   },
   {
    "duration": 245,
    "start_time": "2022-11-24T16:25:39.159Z"
   },
   {
    "duration": 209,
    "start_time": "2022-11-24T16:25:58.976Z"
   },
   {
    "duration": 111,
    "start_time": "2022-11-24T16:27:27.053Z"
   },
   {
    "duration": 13,
    "start_time": "2022-11-24T16:28:12.566Z"
   },
   {
    "duration": 219,
    "start_time": "2022-11-24T16:28:20.144Z"
   },
   {
    "duration": 11,
    "start_time": "2022-11-24T16:32:13.080Z"
   },
   {
    "duration": 13,
    "start_time": "2022-11-24T16:32:22.756Z"
   },
   {
    "duration": 319,
    "start_time": "2022-11-24T16:34:46.406Z"
   },
   {
    "duration": 5,
    "start_time": "2022-11-24T16:35:21.954Z"
   },
   {
    "duration": 6,
    "start_time": "2022-11-24T16:35:31.886Z"
   },
   {
    "duration": 214,
    "start_time": "2022-11-24T16:37:21.177Z"
   },
   {
    "duration": 250,
    "start_time": "2022-11-24T16:41:46.137Z"
   },
   {
    "duration": 10,
    "start_time": "2022-11-24T16:42:05.107Z"
   },
   {
    "duration": 1068,
    "start_time": "2022-11-24T16:43:06.033Z"
   },
   {
    "duration": 70,
    "start_time": "2022-11-24T16:43:07.104Z"
   },
   {
    "duration": 13,
    "start_time": "2022-11-24T16:43:07.176Z"
   },
   {
    "duration": 15,
    "start_time": "2022-11-24T16:43:07.191Z"
   },
   {
    "duration": 15,
    "start_time": "2022-11-24T16:43:07.207Z"
   },
   {
    "duration": 28,
    "start_time": "2022-11-24T16:43:07.224Z"
   },
   {
    "duration": 13,
    "start_time": "2022-11-24T16:43:07.254Z"
   },
   {
    "duration": 5,
    "start_time": "2022-11-24T16:43:07.269Z"
   },
   {
    "duration": 18,
    "start_time": "2022-11-24T16:43:07.275Z"
   },
   {
    "duration": 3,
    "start_time": "2022-11-24T16:43:07.295Z"
   },
   {
    "duration": 15,
    "start_time": "2022-11-24T16:43:07.300Z"
   },
   {
    "duration": 51,
    "start_time": "2022-11-24T16:43:07.317Z"
   },
   {
    "duration": 5,
    "start_time": "2022-11-24T16:43:07.369Z"
   },
   {
    "duration": 16,
    "start_time": "2022-11-24T16:43:07.375Z"
   },
   {
    "duration": 5,
    "start_time": "2022-11-24T16:43:07.393Z"
   },
   {
    "duration": 14,
    "start_time": "2022-11-24T16:43:07.400Z"
   },
   {
    "duration": 5,
    "start_time": "2022-11-24T16:43:07.416Z"
   },
   {
    "duration": 41,
    "start_time": "2022-11-24T16:43:07.422Z"
   },
   {
    "duration": 73,
    "start_time": "2022-11-24T16:43:07.465Z"
   },
   {
    "duration": 18,
    "start_time": "2022-11-24T16:43:07.539Z"
   },
   {
    "duration": 8,
    "start_time": "2022-11-24T16:43:07.559Z"
   },
   {
    "duration": 553,
    "start_time": "2022-11-24T16:43:07.569Z"
   },
   {
    "duration": 275,
    "start_time": "2022-11-24T16:43:08.124Z"
   },
   {
    "duration": 224,
    "start_time": "2022-11-24T16:43:08.401Z"
   },
   {
    "duration": 144,
    "start_time": "2022-11-24T16:43:08.627Z"
   },
   {
    "duration": 147,
    "start_time": "2022-11-24T16:43:08.773Z"
   },
   {
    "duration": 6,
    "start_time": "2022-11-24T16:43:08.922Z"
   },
   {
    "duration": 24,
    "start_time": "2022-11-24T16:43:08.931Z"
   },
   {
    "duration": 17,
    "start_time": "2022-11-24T16:43:08.957Z"
   },
   {
    "duration": 128,
    "start_time": "2022-11-24T16:43:08.976Z"
   },
   {
    "duration": 114,
    "start_time": "2022-11-24T16:43:09.105Z"
   },
   {
    "duration": 196,
    "start_time": "2022-11-24T16:43:09.220Z"
   },
   {
    "duration": 139,
    "start_time": "2022-11-24T16:43:09.417Z"
   },
   {
    "duration": 137,
    "start_time": "2022-11-24T16:43:09.558Z"
   },
   {
    "duration": 131,
    "start_time": "2022-11-24T16:43:09.697Z"
   },
   {
    "duration": 134,
    "start_time": "2022-11-24T16:43:09.830Z"
   },
   {
    "duration": 125,
    "start_time": "2022-11-24T16:43:09.965Z"
   },
   {
    "duration": 7,
    "start_time": "2022-11-24T16:43:10.092Z"
   },
   {
    "duration": 138,
    "start_time": "2022-11-24T16:43:10.101Z"
   },
   {
    "duration": 17,
    "start_time": "2022-11-24T16:43:10.241Z"
   },
   {
    "duration": 19,
    "start_time": "2022-11-24T16:43:10.260Z"
   },
   {
    "duration": 15,
    "start_time": "2022-11-24T16:43:10.281Z"
   },
   {
    "duration": 119,
    "start_time": "2022-11-24T16:47:47.564Z"
   },
   {
    "duration": 220,
    "start_time": "2022-11-24T16:48:30.788Z"
   },
   {
    "duration": 119,
    "start_time": "2022-11-24T16:48:59.574Z"
   },
   {
    "duration": 120,
    "start_time": "2022-11-24T16:49:12.939Z"
   },
   {
    "duration": 15,
    "start_time": "2022-11-24T16:50:19.878Z"
   },
   {
    "duration": 352,
    "start_time": "2022-11-24T16:50:28.488Z"
   },
   {
    "duration": 287,
    "start_time": "2022-11-24T16:50:37.899Z"
   },
   {
    "duration": 315,
    "start_time": "2022-11-24T16:51:44.748Z"
   },
   {
    "duration": 244,
    "start_time": "2022-11-24T16:51:59.974Z"
   },
   {
    "duration": 250,
    "start_time": "2022-11-24T16:52:36.211Z"
   },
   {
    "duration": 291,
    "start_time": "2022-11-24T16:52:45.965Z"
   },
   {
    "duration": 443,
    "start_time": "2022-11-24T16:52:52.178Z"
   },
   {
    "duration": 278,
    "start_time": "2022-11-24T16:52:57.561Z"
   },
   {
    "duration": 236,
    "start_time": "2022-11-24T16:53:47.535Z"
   },
   {
    "duration": 239,
    "start_time": "2022-11-24T16:55:28.641Z"
   },
   {
    "duration": 271,
    "start_time": "2022-11-24T16:55:29.997Z"
   },
   {
    "duration": 354,
    "start_time": "2022-11-24T16:58:16.484Z"
   },
   {
    "duration": 74,
    "start_time": "2022-11-24T17:15:41.200Z"
   },
   {
    "duration": 78,
    "start_time": "2022-11-24T17:15:46.191Z"
   },
   {
    "duration": 1342,
    "start_time": "2022-11-24T17:16:00.003Z"
   },
   {
    "duration": 114,
    "start_time": "2022-11-24T17:19:10.360Z"
   },
   {
    "duration": 163,
    "start_time": "2022-11-24T17:19:16.248Z"
   },
   {
    "duration": 154,
    "start_time": "2022-11-24T17:19:26.403Z"
   },
   {
    "duration": 1433,
    "start_time": "2022-11-24T17:19:34.365Z"
   },
   {
    "duration": 134,
    "start_time": "2022-11-24T17:29:15.218Z"
   },
   {
    "duration": 1381,
    "start_time": "2022-11-24T17:29:24.357Z"
   },
   {
    "duration": 9,
    "start_time": "2022-11-24T17:30:22.755Z"
   },
   {
    "duration": 9,
    "start_time": "2022-11-24T17:30:26.891Z"
   },
   {
    "duration": 9,
    "start_time": "2022-11-24T17:30:34.651Z"
   },
   {
    "duration": 1265,
    "start_time": "2022-11-24T17:30:39.203Z"
   },
   {
    "duration": 1435,
    "start_time": "2022-11-24T17:35:10.091Z"
   },
   {
    "duration": 3,
    "start_time": "2022-11-24T17:35:27.996Z"
   },
   {
    "duration": 1257,
    "start_time": "2022-11-24T17:35:36.784Z"
   },
   {
    "duration": 113,
    "start_time": "2022-11-24T17:35:59.266Z"
   },
   {
    "duration": 1617,
    "start_time": "2022-11-24T17:36:26.903Z"
   },
   {
    "duration": 1239,
    "start_time": "2022-11-24T17:36:39.325Z"
   },
   {
    "duration": 129,
    "start_time": "2022-11-24T17:41:40.950Z"
   },
   {
    "duration": 1129,
    "start_time": "2022-11-24T17:42:35.407Z"
   },
   {
    "duration": 119,
    "start_time": "2022-11-24T17:43:13.999Z"
   },
   {
    "duration": 119,
    "start_time": "2022-11-24T17:43:55.436Z"
   },
   {
    "duration": 1248,
    "start_time": "2022-11-24T17:47:52.719Z"
   },
   {
    "duration": 1107,
    "start_time": "2022-11-24T17:51:18.364Z"
   },
   {
    "duration": 1312,
    "start_time": "2022-11-24T17:51:43.103Z"
   },
   {
    "duration": 1100,
    "start_time": "2022-11-24T17:51:58.930Z"
   },
   {
    "duration": 15,
    "start_time": "2022-11-24T17:52:50.591Z"
   },
   {
    "duration": 10,
    "start_time": "2022-11-24T17:53:40.524Z"
   },
   {
    "duration": 10,
    "start_time": "2022-11-24T17:53:57.081Z"
   },
   {
    "duration": 13,
    "start_time": "2022-11-24T17:54:15.476Z"
   },
   {
    "duration": 1385,
    "start_time": "2022-11-24T17:59:20.270Z"
   },
   {
    "duration": 15,
    "start_time": "2022-11-24T18:01:01.002Z"
   },
   {
    "duration": 12,
    "start_time": "2022-11-24T18:02:00.009Z"
   },
   {
    "duration": 15,
    "start_time": "2022-11-24T18:02:23.856Z"
   },
   {
    "duration": 15,
    "start_time": "2022-11-24T18:06:30.250Z"
   },
   {
    "duration": 849,
    "start_time": "2022-11-24T18:07:57.955Z"
   },
   {
    "duration": 15,
    "start_time": "2022-11-24T18:13:59.479Z"
   },
   {
    "duration": 14,
    "start_time": "2022-11-24T18:14:19.447Z"
   },
   {
    "duration": 1118,
    "start_time": "2022-11-24T18:17:04.538Z"
   },
   {
    "duration": 14,
    "start_time": "2022-11-24T18:17:18.143Z"
   },
   {
    "duration": 10,
    "start_time": "2022-11-24T18:21:25.218Z"
   },
   {
    "duration": 9,
    "start_time": "2022-11-24T18:21:57.917Z"
   },
   {
    "duration": 323,
    "start_time": "2022-11-24T18:27:15.194Z"
   },
   {
    "duration": 16,
    "start_time": "2022-11-24T18:27:51.575Z"
   },
   {
    "duration": 7,
    "start_time": "2022-11-24T18:32:48.892Z"
   },
   {
    "duration": 8,
    "start_time": "2022-11-24T18:32:56.968Z"
   },
   {
    "duration": 7,
    "start_time": "2022-11-24T18:37:20.795Z"
   },
   {
    "duration": 11,
    "start_time": "2022-11-24T18:39:45.577Z"
   },
   {
    "duration": 3,
    "start_time": "2022-11-24T18:40:38.832Z"
   },
   {
    "duration": 284,
    "start_time": "2022-11-24T18:40:42.587Z"
   },
   {
    "duration": 256,
    "start_time": "2022-11-24T18:41:35.182Z"
   },
   {
    "duration": 342,
    "start_time": "2022-11-24T18:41:46.040Z"
   },
   {
    "duration": 127,
    "start_time": "2022-11-24T18:42:13.769Z"
   },
   {
    "duration": 281,
    "start_time": "2022-11-24T18:42:17.924Z"
   },
   {
    "duration": 356,
    "start_time": "2022-11-24T18:42:28.943Z"
   },
   {
    "duration": 125,
    "start_time": "2022-11-24T18:44:46.777Z"
   },
   {
    "duration": 297,
    "start_time": "2022-11-24T18:44:50.973Z"
   },
   {
    "duration": 137,
    "start_time": "2022-11-24T18:44:55.195Z"
   },
   {
    "duration": 135,
    "start_time": "2022-11-24T18:46:46.494Z"
   },
   {
    "duration": 127,
    "start_time": "2022-11-24T18:46:50.276Z"
   },
   {
    "duration": 126,
    "start_time": "2022-11-24T18:46:53.688Z"
   },
   {
    "duration": 8,
    "start_time": "2022-11-24T18:48:37.485Z"
   },
   {
    "duration": 115,
    "start_time": "2022-11-24T18:48:41.566Z"
   },
   {
    "duration": 157,
    "start_time": "2022-11-24T18:48:45.564Z"
   },
   {
    "duration": 127,
    "start_time": "2022-11-24T18:48:52.639Z"
   },
   {
    "duration": 97,
    "start_time": "2022-11-24T18:54:29.892Z"
   },
   {
    "duration": 29,
    "start_time": "2022-11-24T18:54:51.202Z"
   },
   {
    "duration": 1435,
    "start_time": "2022-11-24T18:55:11.636Z"
   },
   {
    "duration": 1210,
    "start_time": "2022-11-27T09:11:53.304Z"
   },
   {
    "duration": 114,
    "start_time": "2022-11-27T09:11:54.516Z"
   },
   {
    "duration": 16,
    "start_time": "2022-11-27T09:11:54.646Z"
   },
   {
    "duration": 17,
    "start_time": "2022-11-27T09:11:54.664Z"
   },
   {
    "duration": 22,
    "start_time": "2022-11-27T09:11:54.683Z"
   },
   {
    "duration": 28,
    "start_time": "2022-11-27T09:11:54.707Z"
   },
   {
    "duration": 21,
    "start_time": "2022-11-27T09:11:54.737Z"
   },
   {
    "duration": 7,
    "start_time": "2022-11-27T09:11:54.760Z"
   },
   {
    "duration": 23,
    "start_time": "2022-11-27T09:11:54.769Z"
   },
   {
    "duration": 5,
    "start_time": "2022-11-27T09:11:54.795Z"
   },
   {
    "duration": 26,
    "start_time": "2022-11-27T09:11:54.802Z"
   },
   {
    "duration": 41,
    "start_time": "2022-11-27T09:11:54.831Z"
   },
   {
    "duration": 44,
    "start_time": "2022-11-27T09:11:54.876Z"
   },
   {
    "duration": 24,
    "start_time": "2022-11-27T09:11:54.924Z"
   },
   {
    "duration": 6,
    "start_time": "2022-11-27T09:11:54.950Z"
   },
   {
    "duration": 22,
    "start_time": "2022-11-27T09:11:54.957Z"
   },
   {
    "duration": 13,
    "start_time": "2022-11-27T09:11:54.981Z"
   },
   {
    "duration": 17,
    "start_time": "2022-11-27T09:11:54.995Z"
   },
   {
    "duration": 89,
    "start_time": "2022-11-27T09:11:55.014Z"
   },
   {
    "duration": 7,
    "start_time": "2022-11-27T09:11:55.105Z"
   },
   {
    "duration": 17,
    "start_time": "2022-11-27T09:11:55.113Z"
   },
   {
    "duration": 566,
    "start_time": "2022-11-27T09:11:55.132Z"
   },
   {
    "duration": 278,
    "start_time": "2022-11-27T09:11:55.700Z"
   },
   {
    "duration": 257,
    "start_time": "2022-11-27T09:11:55.979Z"
   },
   {
    "duration": 245,
    "start_time": "2022-11-27T09:11:56.237Z"
   },
   {
    "duration": 144,
    "start_time": "2022-11-27T09:11:56.483Z"
   },
   {
    "duration": 144,
    "start_time": "2022-11-27T09:11:56.628Z"
   },
   {
    "duration": 1286,
    "start_time": "2022-11-27T09:11:56.773Z"
   },
   {
    "duration": 6,
    "start_time": "2022-11-27T09:11:58.060Z"
   },
   {
    "duration": 11,
    "start_time": "2022-11-27T09:11:58.067Z"
   },
   {
    "duration": 19,
    "start_time": "2022-11-27T09:11:58.079Z"
   },
   {
    "duration": 258,
    "start_time": "2022-11-27T09:11:58.099Z"
   },
   {
    "duration": 300,
    "start_time": "2022-11-27T09:11:58.359Z"
   },
   {
    "duration": 17,
    "start_time": "2022-11-27T09:11:58.660Z"
   },
   {
    "duration": 132,
    "start_time": "2022-11-27T09:11:58.678Z"
   },
   {
    "duration": 118,
    "start_time": "2022-11-27T09:11:58.811Z"
   },
   {
    "duration": 212,
    "start_time": "2022-11-27T09:11:58.931Z"
   },
   {
    "duration": 129,
    "start_time": "2022-11-27T09:11:59.145Z"
   },
   {
    "duration": 127,
    "start_time": "2022-11-27T09:11:59.275Z"
   },
   {
    "duration": 131,
    "start_time": "2022-11-27T09:11:59.404Z"
   },
   {
    "duration": 125,
    "start_time": "2022-11-27T09:11:59.539Z"
   },
   {
    "duration": 119,
    "start_time": "2022-11-27T09:11:59.666Z"
   },
   {
    "duration": 16,
    "start_time": "2022-11-27T09:11:59.786Z"
   },
   {
    "duration": 115,
    "start_time": "2022-11-27T09:11:59.804Z"
   },
   {
    "duration": 8,
    "start_time": "2022-11-27T09:11:59.921Z"
   },
   {
    "duration": 123,
    "start_time": "2022-11-27T09:11:59.930Z"
   },
   {
    "duration": 0,
    "start_time": "2022-11-27T09:12:00.054Z"
   },
   {
    "duration": 6,
    "start_time": "2022-11-27T09:13:46.846Z"
   },
   {
    "duration": 7,
    "start_time": "2022-11-27T09:13:59.535Z"
   },
   {
    "duration": 3,
    "start_time": "2022-11-27T09:57:00.237Z"
   },
   {
    "duration": 4,
    "start_time": "2022-11-27T09:57:18.584Z"
   },
   {
    "duration": 9,
    "start_time": "2022-11-27T09:58:45.739Z"
   },
   {
    "duration": 42,
    "start_time": "2022-11-27T09:59:24.698Z"
   },
   {
    "duration": 10,
    "start_time": "2022-11-27T09:59:39.652Z"
   },
   {
    "duration": 8,
    "start_time": "2022-11-27T10:00:13.887Z"
   },
   {
    "duration": 4,
    "start_time": "2022-11-27T10:00:19.383Z"
   },
   {
    "duration": 13,
    "start_time": "2022-11-27T10:00:40.424Z"
   },
   {
    "duration": 15,
    "start_time": "2022-11-27T10:03:02.594Z"
   },
   {
    "duration": 6,
    "start_time": "2022-11-27T10:03:08.195Z"
   },
   {
    "duration": 14,
    "start_time": "2022-11-27T10:03:13.251Z"
   },
   {
    "duration": 3,
    "start_time": "2022-11-27T10:05:52.176Z"
   },
   {
    "duration": 3,
    "start_time": "2022-11-27T10:06:19.888Z"
   },
   {
    "duration": 788,
    "start_time": "2022-11-27T10:11:03.599Z"
   },
   {
    "duration": 19,
    "start_time": "2022-11-27T10:16:26.166Z"
   },
   {
    "duration": 26,
    "start_time": "2022-11-27T10:26:32.589Z"
   },
   {
    "duration": 4,
    "start_time": "2022-11-27T10:28:38.992Z"
   },
   {
    "duration": 978,
    "start_time": "2022-11-27T10:29:50.352Z"
   },
   {
    "duration": 68,
    "start_time": "2022-11-27T10:29:51.332Z"
   },
   {
    "duration": 12,
    "start_time": "2022-11-27T10:29:51.402Z"
   },
   {
    "duration": 36,
    "start_time": "2022-11-27T10:29:51.416Z"
   },
   {
    "duration": 35,
    "start_time": "2022-11-27T10:29:51.453Z"
   },
   {
    "duration": 20,
    "start_time": "2022-11-27T10:29:51.489Z"
   },
   {
    "duration": 42,
    "start_time": "2022-11-27T10:29:51.510Z"
   },
   {
    "duration": 52,
    "start_time": "2022-11-27T10:29:51.554Z"
   },
   {
    "duration": 62,
    "start_time": "2022-11-27T10:29:51.608Z"
   },
   {
    "duration": 13,
    "start_time": "2022-11-27T10:29:51.673Z"
   },
   {
    "duration": 49,
    "start_time": "2022-11-27T10:29:51.687Z"
   },
   {
    "duration": 59,
    "start_time": "2022-11-27T10:29:51.737Z"
   },
   {
    "duration": 22,
    "start_time": "2022-11-27T10:29:51.798Z"
   },
   {
    "duration": 52,
    "start_time": "2022-11-27T10:29:51.822Z"
   },
   {
    "duration": 44,
    "start_time": "2022-11-27T10:29:51.875Z"
   },
   {
    "duration": 58,
    "start_time": "2022-11-27T10:29:51.921Z"
   },
   {
    "duration": 26,
    "start_time": "2022-11-27T10:29:51.982Z"
   },
   {
    "duration": 56,
    "start_time": "2022-11-27T10:29:52.010Z"
   },
   {
    "duration": 48,
    "start_time": "2022-11-27T10:29:52.068Z"
   },
   {
    "duration": 98,
    "start_time": "2022-11-27T10:29:52.118Z"
   },
   {
    "duration": 7,
    "start_time": "2022-11-27T10:29:52.218Z"
   },
   {
    "duration": 33,
    "start_time": "2022-11-27T10:29:52.226Z"
   },
   {
    "duration": 548,
    "start_time": "2022-11-27T10:29:52.260Z"
   },
   {
    "duration": 266,
    "start_time": "2022-11-27T10:29:52.809Z"
   },
   {
    "duration": 253,
    "start_time": "2022-11-27T10:29:53.076Z"
   },
   {
    "duration": 237,
    "start_time": "2022-11-27T10:29:53.330Z"
   },
   {
    "duration": 149,
    "start_time": "2022-11-27T10:29:53.569Z"
   },
   {
    "duration": 139,
    "start_time": "2022-11-27T10:29:53.721Z"
   },
   {
    "duration": 959,
    "start_time": "2022-11-27T10:29:53.861Z"
   },
   {
    "duration": 6,
    "start_time": "2022-11-27T10:29:54.822Z"
   },
   {
    "duration": 52,
    "start_time": "2022-11-27T10:29:54.830Z"
   },
   {
    "duration": 55,
    "start_time": "2022-11-27T10:29:54.884Z"
   },
   {
    "duration": 322,
    "start_time": "2022-11-27T10:29:54.941Z"
   },
   {
    "duration": 307,
    "start_time": "2022-11-27T10:29:55.265Z"
   },
   {
    "duration": 24,
    "start_time": "2022-11-27T10:29:55.573Z"
   },
   {
    "duration": 159,
    "start_time": "2022-11-27T10:29:55.599Z"
   },
   {
    "duration": 109,
    "start_time": "2022-11-27T10:29:55.760Z"
   },
   {
    "duration": 152,
    "start_time": "2022-11-27T10:29:55.871Z"
   },
   {
    "duration": 145,
    "start_time": "2022-11-27T10:29:56.025Z"
   },
   {
    "duration": 215,
    "start_time": "2022-11-27T10:29:56.171Z"
   },
   {
    "duration": 130,
    "start_time": "2022-11-27T10:29:56.387Z"
   },
   {
    "duration": 137,
    "start_time": "2022-11-27T10:29:56.518Z"
   },
   {
    "duration": 116,
    "start_time": "2022-11-27T10:29:56.657Z"
   },
   {
    "duration": 7,
    "start_time": "2022-11-27T10:29:56.775Z"
   },
   {
    "duration": 126,
    "start_time": "2022-11-27T10:29:56.783Z"
   },
   {
    "duration": 8,
    "start_time": "2022-11-27T10:29:56.910Z"
   },
   {
    "duration": 33,
    "start_time": "2022-11-27T10:29:56.920Z"
   },
   {
    "duration": 28,
    "start_time": "2022-11-27T10:29:56.954Z"
   },
   {
    "duration": 1511,
    "start_time": "2022-11-27T10:41:37.778Z"
   },
   {
    "duration": 286,
    "start_time": "2022-11-27T10:41:46.987Z"
   },
   {
    "duration": 10385,
    "start_time": "2022-11-27T10:41:59.577Z"
   },
   {
    "duration": 10,
    "start_time": "2022-11-27T10:44:21.155Z"
   },
   {
    "duration": 8,
    "start_time": "2022-11-27T10:44:32.371Z"
   },
   {
    "duration": 8,
    "start_time": "2022-11-27T10:44:42.074Z"
   },
   {
    "duration": 8,
    "start_time": "2022-11-27T10:45:02.055Z"
   },
   {
    "duration": 17348,
    "start_time": "2022-11-27T10:45:13.405Z"
   },
   {
    "duration": 90,
    "start_time": "2022-11-27T10:47:51.661Z"
   },
   {
    "duration": 93,
    "start_time": "2022-11-27T10:48:47.851Z"
   },
   {
    "duration": 96,
    "start_time": "2022-11-27T10:49:22.327Z"
   },
   {
    "duration": 102,
    "start_time": "2022-11-27T10:49:49.971Z"
   },
   {
    "duration": 97,
    "start_time": "2022-11-27T10:51:52.645Z"
   },
   {
    "duration": 16,
    "start_time": "2022-11-27T10:59:21.592Z"
   },
   {
    "duration": 107,
    "start_time": "2022-11-27T11:03:32.703Z"
   },
   {
    "duration": 59,
    "start_time": "2022-11-27T11:04:18.967Z"
   },
   {
    "duration": 6,
    "start_time": "2022-11-27T11:06:29.043Z"
   },
   {
    "duration": 11,
    "start_time": "2022-11-27T11:06:46.985Z"
   },
   {
    "duration": 32,
    "start_time": "2022-11-27T11:06:55.428Z"
   },
   {
    "duration": 29,
    "start_time": "2022-11-27T11:08:45.134Z"
   },
   {
    "duration": 27,
    "start_time": "2022-11-27T11:08:51.540Z"
   },
   {
    "duration": 36,
    "start_time": "2022-11-27T11:11:22.776Z"
   },
   {
    "duration": 5,
    "start_time": "2022-11-27T11:12:41.912Z"
   },
   {
    "duration": 6,
    "start_time": "2022-11-27T11:12:52.837Z"
   },
   {
    "duration": 26,
    "start_time": "2022-11-27T11:15:39.654Z"
   },
   {
    "duration": 26,
    "start_time": "2022-11-27T11:16:31.720Z"
   },
   {
    "duration": 40,
    "start_time": "2022-11-27T11:18:50.672Z"
   },
   {
    "duration": 25,
    "start_time": "2022-11-27T11:19:16.849Z"
   },
   {
    "duration": 27,
    "start_time": "2022-11-27T11:21:40.255Z"
   },
   {
    "duration": 34,
    "start_time": "2022-11-27T11:21:47.189Z"
   },
   {
    "duration": 14,
    "start_time": "2022-11-27T11:24:28.962Z"
   },
   {
    "duration": 14,
    "start_time": "2022-11-27T11:26:21.815Z"
   },
   {
    "duration": 26,
    "start_time": "2022-11-27T11:26:27.463Z"
   },
   {
    "duration": 29,
    "start_time": "2022-11-27T11:26:31.814Z"
   },
   {
    "duration": 11,
    "start_time": "2022-11-27T11:27:12.851Z"
   },
   {
    "duration": 26,
    "start_time": "2022-11-27T11:27:39.415Z"
   },
   {
    "duration": 26,
    "start_time": "2022-11-27T11:27:46.662Z"
   },
   {
    "duration": 26,
    "start_time": "2022-11-27T11:27:52.322Z"
   },
   {
    "duration": 27,
    "start_time": "2022-11-27T11:27:57.831Z"
   },
   {
    "duration": 28,
    "start_time": "2022-11-27T11:28:26.622Z"
   },
   {
    "duration": 30,
    "start_time": "2022-11-27T11:30:55.541Z"
   },
   {
    "duration": 26,
    "start_time": "2022-11-27T11:30:59.842Z"
   },
   {
    "duration": 33,
    "start_time": "2022-11-27T11:31:21.608Z"
   },
   {
    "duration": 29,
    "start_time": "2022-11-27T11:32:59.354Z"
   },
   {
    "duration": 1006,
    "start_time": "2022-11-27T11:33:21.125Z"
   },
   {
    "duration": 69,
    "start_time": "2022-11-27T11:33:22.132Z"
   },
   {
    "duration": 12,
    "start_time": "2022-11-27T11:33:22.203Z"
   },
   {
    "duration": 12,
    "start_time": "2022-11-27T11:33:22.217Z"
   },
   {
    "duration": 14,
    "start_time": "2022-11-27T11:33:22.230Z"
   },
   {
    "duration": 10,
    "start_time": "2022-11-27T11:33:22.245Z"
   },
   {
    "duration": 12,
    "start_time": "2022-11-27T11:33:22.256Z"
   },
   {
    "duration": 29,
    "start_time": "2022-11-27T11:33:22.269Z"
   },
   {
    "duration": 16,
    "start_time": "2022-11-27T11:33:22.299Z"
   },
   {
    "duration": 4,
    "start_time": "2022-11-27T11:33:22.317Z"
   },
   {
    "duration": 16,
    "start_time": "2022-11-27T11:33:22.322Z"
   },
   {
    "duration": 18,
    "start_time": "2022-11-27T11:33:22.339Z"
   },
   {
    "duration": 7,
    "start_time": "2022-11-27T11:33:22.358Z"
   },
   {
    "duration": 39,
    "start_time": "2022-11-27T11:33:22.366Z"
   },
   {
    "duration": 4,
    "start_time": "2022-11-27T11:33:22.406Z"
   },
   {
    "duration": 14,
    "start_time": "2022-11-27T11:33:22.411Z"
   },
   {
    "duration": 4,
    "start_time": "2022-11-27T11:33:22.426Z"
   },
   {
    "duration": 8,
    "start_time": "2022-11-27T11:33:22.431Z"
   },
   {
    "duration": 13,
    "start_time": "2022-11-27T11:33:22.441Z"
   },
   {
    "duration": 99,
    "start_time": "2022-11-27T11:33:22.456Z"
   },
   {
    "duration": 8,
    "start_time": "2022-11-27T11:33:22.556Z"
   },
   {
    "duration": 33,
    "start_time": "2022-11-27T11:33:22.565Z"
   },
   {
    "duration": 503,
    "start_time": "2022-11-27T11:33:22.599Z"
   },
   {
    "duration": 276,
    "start_time": "2022-11-27T11:33:23.104Z"
   },
   {
    "duration": 256,
    "start_time": "2022-11-27T11:33:23.382Z"
   },
   {
    "duration": 240,
    "start_time": "2022-11-27T11:33:23.639Z"
   },
   {
    "duration": 153,
    "start_time": "2022-11-27T11:33:23.880Z"
   },
   {
    "duration": 133,
    "start_time": "2022-11-27T11:33:24.036Z"
   },
   {
    "duration": 863,
    "start_time": "2022-11-27T11:33:24.171Z"
   },
   {
    "duration": 7,
    "start_time": "2022-11-27T11:33:25.035Z"
   },
   {
    "duration": 12,
    "start_time": "2022-11-27T11:33:25.043Z"
   },
   {
    "duration": 9,
    "start_time": "2022-11-27T11:33:25.056Z"
   },
   {
    "duration": 252,
    "start_time": "2022-11-27T11:33:25.066Z"
   },
   {
    "duration": 292,
    "start_time": "2022-11-27T11:33:25.320Z"
   },
   {
    "duration": 18,
    "start_time": "2022-11-27T11:33:25.614Z"
   },
   {
    "duration": 139,
    "start_time": "2022-11-27T11:33:25.634Z"
   },
   {
    "duration": 110,
    "start_time": "2022-11-27T11:33:25.775Z"
   },
   {
    "duration": 149,
    "start_time": "2022-11-27T11:33:25.887Z"
   },
   {
    "duration": 125,
    "start_time": "2022-11-27T11:33:26.037Z"
   },
   {
    "duration": 199,
    "start_time": "2022-11-27T11:33:26.163Z"
   },
   {
    "duration": 133,
    "start_time": "2022-11-27T11:33:26.364Z"
   },
   {
    "duration": 120,
    "start_time": "2022-11-27T11:33:26.499Z"
   },
   {
    "duration": 0,
    "start_time": "2022-11-27T11:33:26.621Z"
   },
   {
    "duration": 0,
    "start_time": "2022-11-27T11:33:26.623Z"
   },
   {
    "duration": 0,
    "start_time": "2022-11-27T11:33:26.624Z"
   },
   {
    "duration": 0,
    "start_time": "2022-11-27T11:33:26.626Z"
   },
   {
    "duration": 0,
    "start_time": "2022-11-27T11:33:26.627Z"
   },
   {
    "duration": 0,
    "start_time": "2022-11-27T11:33:26.629Z"
   },
   {
    "duration": 0,
    "start_time": "2022-11-27T11:33:26.630Z"
   },
   {
    "duration": 41,
    "start_time": "2022-11-27T11:36:24.046Z"
   },
   {
    "duration": 31,
    "start_time": "2022-11-27T11:37:18.797Z"
   },
   {
    "duration": 29,
    "start_time": "2022-11-27T11:37:58.454Z"
   },
   {
    "duration": 27,
    "start_time": "2022-11-27T11:38:52.103Z"
   },
   {
    "duration": 28,
    "start_time": "2022-11-27T11:38:57.839Z"
   },
   {
    "duration": 37,
    "start_time": "2022-11-27T11:39:36.390Z"
   },
   {
    "duration": 32,
    "start_time": "2022-11-27T11:39:52.489Z"
   },
   {
    "duration": 31,
    "start_time": "2022-11-27T11:39:59.477Z"
   },
   {
    "duration": 28,
    "start_time": "2022-11-27T11:40:05.384Z"
   },
   {
    "duration": 3,
    "start_time": "2022-11-27T11:41:08.296Z"
   },
   {
    "duration": 1038,
    "start_time": "2022-11-27T11:41:23.186Z"
   },
   {
    "duration": 70,
    "start_time": "2022-11-27T11:41:24.226Z"
   },
   {
    "duration": 13,
    "start_time": "2022-11-27T11:41:24.297Z"
   },
   {
    "duration": 16,
    "start_time": "2022-11-27T11:41:24.312Z"
   },
   {
    "duration": 14,
    "start_time": "2022-11-27T11:41:24.329Z"
   },
   {
    "duration": 10,
    "start_time": "2022-11-27T11:41:24.344Z"
   },
   {
    "duration": 16,
    "start_time": "2022-11-27T11:41:24.355Z"
   },
   {
    "duration": 5,
    "start_time": "2022-11-27T11:41:24.372Z"
   },
   {
    "duration": 13,
    "start_time": "2022-11-27T11:41:24.397Z"
   },
   {
    "duration": 2,
    "start_time": "2022-11-27T11:41:24.413Z"
   },
   {
    "duration": 14,
    "start_time": "2022-11-27T11:41:24.417Z"
   },
   {
    "duration": 17,
    "start_time": "2022-11-27T11:41:24.432Z"
   },
   {
    "duration": 4,
    "start_time": "2022-11-27T11:41:24.450Z"
   },
   {
    "duration": 14,
    "start_time": "2022-11-27T11:41:24.455Z"
   },
   {
    "duration": 28,
    "start_time": "2022-11-27T11:41:24.471Z"
   },
   {
    "duration": 13,
    "start_time": "2022-11-27T11:41:24.501Z"
   },
   {
    "duration": 4,
    "start_time": "2022-11-27T11:41:24.516Z"
   },
   {
    "duration": 9,
    "start_time": "2022-11-27T11:41:24.521Z"
   },
   {
    "duration": 13,
    "start_time": "2022-11-27T11:41:24.532Z"
   },
   {
    "duration": 93,
    "start_time": "2022-11-27T11:41:24.546Z"
   },
   {
    "duration": 7,
    "start_time": "2022-11-27T11:41:24.641Z"
   },
   {
    "duration": 12,
    "start_time": "2022-11-27T11:41:24.650Z"
   },
   {
    "duration": 595,
    "start_time": "2022-11-27T11:41:24.664Z"
   },
   {
    "duration": 290,
    "start_time": "2022-11-27T11:41:25.260Z"
   },
   {
    "duration": 251,
    "start_time": "2022-11-27T11:41:25.552Z"
   },
   {
    "duration": 255,
    "start_time": "2022-11-27T11:41:25.805Z"
   },
   {
    "duration": 139,
    "start_time": "2022-11-27T11:41:26.061Z"
   },
   {
    "duration": 133,
    "start_time": "2022-11-27T11:41:26.203Z"
   },
   {
    "duration": 759,
    "start_time": "2022-11-27T11:41:26.338Z"
   },
   {
    "duration": 6,
    "start_time": "2022-11-27T11:41:27.098Z"
   },
   {
    "duration": 8,
    "start_time": "2022-11-27T11:41:27.106Z"
   },
   {
    "duration": 8,
    "start_time": "2022-11-27T11:41:27.115Z"
   },
   {
    "duration": 250,
    "start_time": "2022-11-27T11:41:27.124Z"
   },
   {
    "duration": 280,
    "start_time": "2022-11-27T11:41:27.375Z"
   },
   {
    "duration": 15,
    "start_time": "2022-11-27T11:41:27.657Z"
   },
   {
    "duration": 125,
    "start_time": "2022-11-27T11:41:27.674Z"
   },
   {
    "duration": 108,
    "start_time": "2022-11-27T11:41:27.801Z"
   },
   {
    "duration": 132,
    "start_time": "2022-11-27T11:41:27.911Z"
   },
   {
    "duration": 124,
    "start_time": "2022-11-27T11:41:28.045Z"
   },
   {
    "duration": 191,
    "start_time": "2022-11-27T11:41:28.171Z"
   },
   {
    "duration": 120,
    "start_time": "2022-11-27T11:41:28.363Z"
   },
   {
    "duration": 2,
    "start_time": "2022-11-27T11:41:28.485Z"
   },
   {
    "duration": 134,
    "start_time": "2022-11-27T11:41:28.489Z"
   },
   {
    "duration": 114,
    "start_time": "2022-11-27T11:41:28.624Z"
   },
   {
    "duration": 8,
    "start_time": "2022-11-27T11:41:28.740Z"
   },
   {
    "duration": 114,
    "start_time": "2022-11-27T11:41:28.749Z"
   },
   {
    "duration": 8,
    "start_time": "2022-11-27T11:41:28.865Z"
   },
   {
    "duration": 24,
    "start_time": "2022-11-27T11:41:28.875Z"
   },
   {
    "duration": 10,
    "start_time": "2022-11-27T11:41:28.901Z"
   },
   {
    "duration": 15,
    "start_time": "2022-11-27T12:31:21.842Z"
   },
   {
    "duration": 14,
    "start_time": "2022-11-27T12:31:28.449Z"
   },
   {
    "duration": 15,
    "start_time": "2022-11-27T12:31:32.894Z"
   },
   {
    "duration": 13,
    "start_time": "2022-11-27T12:31:59.505Z"
   },
   {
    "duration": 1024,
    "start_time": "2022-11-27T12:32:05.303Z"
   },
   {
    "duration": 67,
    "start_time": "2022-11-27T12:32:06.329Z"
   },
   {
    "duration": 14,
    "start_time": "2022-11-27T12:32:06.397Z"
   },
   {
    "duration": 18,
    "start_time": "2022-11-27T12:32:06.412Z"
   },
   {
    "duration": 13,
    "start_time": "2022-11-27T12:32:06.431Z"
   },
   {
    "duration": 14,
    "start_time": "2022-11-27T12:32:06.445Z"
   },
   {
    "duration": 8,
    "start_time": "2022-11-27T12:32:06.460Z"
   },
   {
    "duration": 34,
    "start_time": "2022-11-27T12:32:06.469Z"
   },
   {
    "duration": 5,
    "start_time": "2022-11-27T12:32:06.505Z"
   },
   {
    "duration": 16,
    "start_time": "2022-11-27T12:32:06.512Z"
   },
   {
    "duration": 3,
    "start_time": "2022-11-27T12:32:06.529Z"
   },
   {
    "duration": 14,
    "start_time": "2022-11-27T12:32:06.533Z"
   },
   {
    "duration": 19,
    "start_time": "2022-11-27T12:32:06.548Z"
   },
   {
    "duration": 32,
    "start_time": "2022-11-27T12:32:06.568Z"
   },
   {
    "duration": 17,
    "start_time": "2022-11-27T12:32:06.602Z"
   },
   {
    "duration": 4,
    "start_time": "2022-11-27T12:32:06.621Z"
   },
   {
    "duration": 13,
    "start_time": "2022-11-27T12:32:06.627Z"
   },
   {
    "duration": 3,
    "start_time": "2022-11-27T12:32:06.642Z"
   },
   {
    "duration": 7,
    "start_time": "2022-11-27T12:32:06.647Z"
   },
   {
    "duration": 16,
    "start_time": "2022-11-27T12:32:06.656Z"
   },
   {
    "duration": 67,
    "start_time": "2022-11-27T12:32:06.697Z"
   },
   {
    "duration": 6,
    "start_time": "2022-11-27T12:32:06.766Z"
   },
   {
    "duration": 27,
    "start_time": "2022-11-27T12:32:06.773Z"
   },
   {
    "duration": 497,
    "start_time": "2022-11-27T12:32:06.801Z"
   },
   {
    "duration": 245,
    "start_time": "2022-11-27T12:32:07.299Z"
   },
   {
    "duration": 233,
    "start_time": "2022-11-27T12:32:07.546Z"
   },
   {
    "duration": 238,
    "start_time": "2022-11-27T12:32:07.781Z"
   },
   {
    "duration": 139,
    "start_time": "2022-11-27T12:32:08.023Z"
   },
   {
    "duration": 135,
    "start_time": "2022-11-27T12:32:08.164Z"
   },
   {
    "duration": 801,
    "start_time": "2022-11-27T12:32:08.300Z"
   },
   {
    "duration": 6,
    "start_time": "2022-11-27T12:32:09.103Z"
   },
   {
    "duration": 9,
    "start_time": "2022-11-27T12:32:09.110Z"
   },
   {
    "duration": 10,
    "start_time": "2022-11-27T12:32:09.120Z"
   },
   {
    "duration": 267,
    "start_time": "2022-11-27T12:32:09.131Z"
   },
   {
    "duration": 282,
    "start_time": "2022-11-27T12:32:09.399Z"
   },
   {
    "duration": 19,
    "start_time": "2022-11-27T12:32:09.684Z"
   },
   {
    "duration": 123,
    "start_time": "2022-11-27T12:32:09.705Z"
   },
   {
    "duration": 113,
    "start_time": "2022-11-27T12:32:09.830Z"
   },
   {
    "duration": 132,
    "start_time": "2022-11-27T12:32:09.944Z"
   },
   {
    "duration": 130,
    "start_time": "2022-11-27T12:32:10.078Z"
   },
   {
    "duration": 178,
    "start_time": "2022-11-27T12:32:10.210Z"
   },
   {
    "duration": 120,
    "start_time": "2022-11-27T12:32:10.389Z"
   },
   {
    "duration": 2,
    "start_time": "2022-11-27T12:32:10.510Z"
   },
   {
    "duration": 128,
    "start_time": "2022-11-27T12:32:10.514Z"
   },
   {
    "duration": 118,
    "start_time": "2022-11-27T12:32:10.644Z"
   },
   {
    "duration": 16,
    "start_time": "2022-11-27T12:32:10.763Z"
   },
   {
    "duration": 118,
    "start_time": "2022-11-27T12:32:10.781Z"
   },
   {
    "duration": 8,
    "start_time": "2022-11-27T12:32:10.900Z"
   },
   {
    "duration": 10,
    "start_time": "2022-11-27T12:32:10.909Z"
   },
   {
    "duration": 6,
    "start_time": "2022-11-27T12:32:10.920Z"
   },
   {
    "duration": 7,
    "start_time": "2022-11-27T12:34:54.909Z"
   },
   {
    "duration": 360,
    "start_time": "2022-11-27T12:35:18.923Z"
   },
   {
    "duration": 239,
    "start_time": "2022-11-27T12:35:54.987Z"
   },
   {
    "duration": 139,
    "start_time": "2022-11-27T12:36:16.036Z"
   },
   {
    "duration": 137,
    "start_time": "2022-11-27T12:37:36.266Z"
   },
   {
    "duration": 253,
    "start_time": "2022-11-27T12:38:07.429Z"
   },
   {
    "duration": 157,
    "start_time": "2022-11-27T12:46:08.109Z"
   },
   {
    "duration": 152,
    "start_time": "2022-11-27T12:46:56.511Z"
   },
   {
    "duration": 159,
    "start_time": "2022-11-27T12:47:21.056Z"
   },
   {
    "duration": 153,
    "start_time": "2022-11-27T12:47:53.188Z"
   },
   {
    "duration": 151,
    "start_time": "2022-11-27T12:48:10.654Z"
   },
   {
    "duration": 132,
    "start_time": "2022-11-27T12:48:17.286Z"
   },
   {
    "duration": 140,
    "start_time": "2022-11-27T12:48:19.359Z"
   },
   {
    "duration": 128,
    "start_time": "2022-11-27T12:48:22.588Z"
   },
   {
    "duration": 135,
    "start_time": "2022-11-27T12:48:30.597Z"
   },
   {
    "duration": 254,
    "start_time": "2022-11-27T12:48:50.097Z"
   },
   {
    "duration": 262,
    "start_time": "2022-11-27T12:49:25.387Z"
   },
   {
    "duration": 369,
    "start_time": "2022-11-27T12:49:57.116Z"
   },
   {
    "duration": 719,
    "start_time": "2022-11-27T13:02:30.970Z"
   },
   {
    "duration": 739,
    "start_time": "2022-11-27T13:02:45.400Z"
   },
   {
    "duration": 774,
    "start_time": "2022-11-27T13:02:57.289Z"
   },
   {
    "duration": 859,
    "start_time": "2022-11-27T13:03:03.681Z"
   },
   {
    "duration": 789,
    "start_time": "2022-11-27T13:04:11.416Z"
   },
   {
    "duration": 807,
    "start_time": "2022-11-27T13:05:21.046Z"
   },
   {
    "duration": 59,
    "start_time": "2022-11-27T13:24:02.156Z"
   },
   {
    "duration": 50,
    "start_time": "2022-11-27T13:24:41.187Z"
   },
   {
    "duration": 47,
    "start_time": "2022-11-27T13:24:57.667Z"
   },
   {
    "duration": 1039,
    "start_time": "2022-11-27T13:25:06.504Z"
   },
   {
    "duration": 75,
    "start_time": "2022-11-27T13:25:07.546Z"
   },
   {
    "duration": 13,
    "start_time": "2022-11-27T13:25:07.623Z"
   },
   {
    "duration": 14,
    "start_time": "2022-11-27T13:25:07.638Z"
   },
   {
    "duration": 13,
    "start_time": "2022-11-27T13:25:07.654Z"
   },
   {
    "duration": 41,
    "start_time": "2022-11-27T13:25:07.669Z"
   },
   {
    "duration": 10,
    "start_time": "2022-11-27T13:25:07.711Z"
   },
   {
    "duration": 14,
    "start_time": "2022-11-27T13:25:07.723Z"
   },
   {
    "duration": 6,
    "start_time": "2022-11-27T13:25:07.738Z"
   },
   {
    "duration": 17,
    "start_time": "2022-11-27T13:25:07.747Z"
   },
   {
    "duration": 33,
    "start_time": "2022-11-27T13:25:07.765Z"
   },
   {
    "duration": 17,
    "start_time": "2022-11-27T13:25:07.799Z"
   },
   {
    "duration": 31,
    "start_time": "2022-11-27T13:25:07.818Z"
   },
   {
    "duration": 6,
    "start_time": "2022-11-27T13:25:07.851Z"
   },
   {
    "duration": 15,
    "start_time": "2022-11-27T13:25:07.859Z"
   },
   {
    "duration": 23,
    "start_time": "2022-11-27T13:25:07.875Z"
   },
   {
    "duration": 21,
    "start_time": "2022-11-27T13:25:07.899Z"
   },
   {
    "duration": 4,
    "start_time": "2022-11-27T13:25:07.921Z"
   },
   {
    "duration": 18,
    "start_time": "2022-11-27T13:25:07.927Z"
   },
   {
    "duration": 18,
    "start_time": "2022-11-27T13:25:07.948Z"
   },
   {
    "duration": 88,
    "start_time": "2022-11-27T13:25:07.968Z"
   },
   {
    "duration": 190,
    "start_time": "2022-11-27T13:25:08.057Z"
   },
   {
    "duration": 282,
    "start_time": "2022-11-27T13:25:08.249Z"
   },
   {
    "duration": 537,
    "start_time": "2022-11-27T13:25:08.533Z"
   },
   {
    "duration": 275,
    "start_time": "2022-11-27T13:25:09.072Z"
   },
   {
    "duration": 271,
    "start_time": "2022-11-27T13:25:09.348Z"
   },
   {
    "duration": 347,
    "start_time": "2022-11-27T13:25:09.621Z"
   },
   {
    "duration": 165,
    "start_time": "2022-11-27T13:25:09.978Z"
   },
   {
    "duration": 141,
    "start_time": "2022-11-27T13:25:10.145Z"
   },
   {
    "duration": 784,
    "start_time": "2022-11-27T13:25:10.288Z"
   },
   {
    "duration": 800,
    "start_time": "2022-11-27T13:25:11.074Z"
   },
   {
    "duration": 7,
    "start_time": "2022-11-27T13:25:11.875Z"
   },
   {
    "duration": 21,
    "start_time": "2022-11-27T13:25:11.883Z"
   },
   {
    "duration": 10,
    "start_time": "2022-11-27T13:25:11.905Z"
   },
   {
    "duration": 287,
    "start_time": "2022-11-27T13:25:11.917Z"
   },
   {
    "duration": 404,
    "start_time": "2022-11-27T13:25:12.205Z"
   },
   {
    "duration": 53,
    "start_time": "2022-11-27T13:25:12.611Z"
   },
   {
    "duration": 0,
    "start_time": "2022-11-27T13:25:12.666Z"
   },
   {
    "duration": 0,
    "start_time": "2022-11-27T13:25:12.667Z"
   },
   {
    "duration": 0,
    "start_time": "2022-11-27T13:25:12.669Z"
   },
   {
    "duration": 0,
    "start_time": "2022-11-27T13:25:12.670Z"
   },
   {
    "duration": 0,
    "start_time": "2022-11-27T13:25:12.672Z"
   },
   {
    "duration": 0,
    "start_time": "2022-11-27T13:25:12.673Z"
   },
   {
    "duration": 0,
    "start_time": "2022-11-27T13:25:12.674Z"
   },
   {
    "duration": 0,
    "start_time": "2022-11-27T13:25:12.675Z"
   },
   {
    "duration": 0,
    "start_time": "2022-11-27T13:25:12.677Z"
   },
   {
    "duration": 0,
    "start_time": "2022-11-27T13:25:12.678Z"
   },
   {
    "duration": 0,
    "start_time": "2022-11-27T13:25:12.678Z"
   },
   {
    "duration": 0,
    "start_time": "2022-11-27T13:25:12.679Z"
   },
   {
    "duration": 0,
    "start_time": "2022-11-27T13:25:12.681Z"
   },
   {
    "duration": 0,
    "start_time": "2022-11-27T13:25:12.682Z"
   },
   {
    "duration": 0,
    "start_time": "2022-11-27T13:25:12.684Z"
   },
   {
    "duration": 113,
    "start_time": "2022-11-27T13:30:07.031Z"
   },
   {
    "duration": 1057,
    "start_time": "2022-11-27T13:32:35.223Z"
   },
   {
    "duration": 70,
    "start_time": "2022-11-27T13:32:36.281Z"
   },
   {
    "duration": 13,
    "start_time": "2022-11-27T13:32:36.352Z"
   },
   {
    "duration": 13,
    "start_time": "2022-11-27T13:32:36.367Z"
   },
   {
    "duration": 24,
    "start_time": "2022-11-27T13:32:36.382Z"
   },
   {
    "duration": 29,
    "start_time": "2022-11-27T13:32:36.407Z"
   },
   {
    "duration": 8,
    "start_time": "2022-11-27T13:32:36.438Z"
   },
   {
    "duration": 14,
    "start_time": "2022-11-27T13:32:36.448Z"
   },
   {
    "duration": 6,
    "start_time": "2022-11-27T13:32:36.464Z"
   },
   {
    "duration": 18,
    "start_time": "2022-11-27T13:32:36.472Z"
   },
   {
    "duration": 3,
    "start_time": "2022-11-27T13:32:36.497Z"
   },
   {
    "duration": 15,
    "start_time": "2022-11-27T13:32:36.502Z"
   },
   {
    "duration": 18,
    "start_time": "2022-11-27T13:32:36.518Z"
   },
   {
    "duration": 5,
    "start_time": "2022-11-27T13:32:36.539Z"
   },
   {
    "duration": 16,
    "start_time": "2022-11-27T13:32:36.545Z"
   },
   {
    "duration": 4,
    "start_time": "2022-11-27T13:32:36.563Z"
   },
   {
    "duration": 40,
    "start_time": "2022-11-27T13:32:36.568Z"
   },
   {
    "duration": 3,
    "start_time": "2022-11-27T13:32:36.610Z"
   },
   {
    "duration": 7,
    "start_time": "2022-11-27T13:32:36.615Z"
   },
   {
    "duration": 15,
    "start_time": "2022-11-27T13:32:36.623Z"
   },
   {
    "duration": 91,
    "start_time": "2022-11-27T13:32:36.639Z"
   },
   {
    "duration": 182,
    "start_time": "2022-11-27T13:32:36.731Z"
   },
   {
    "duration": 307,
    "start_time": "2022-11-27T13:32:36.915Z"
   },
   {
    "duration": 528,
    "start_time": "2022-11-27T13:32:37.224Z"
   },
   {
    "duration": 280,
    "start_time": "2022-11-27T13:32:37.754Z"
   },
   {
    "duration": 245,
    "start_time": "2022-11-27T13:32:38.035Z"
   },
   {
    "duration": 324,
    "start_time": "2022-11-27T13:32:38.282Z"
   },
   {
    "duration": 147,
    "start_time": "2022-11-27T13:32:38.607Z"
   },
   {
    "duration": 145,
    "start_time": "2022-11-27T13:32:38.755Z"
   },
   {
    "duration": 835,
    "start_time": "2022-11-27T13:32:38.901Z"
   },
   {
    "duration": 844,
    "start_time": "2022-11-27T13:32:39.738Z"
   },
   {
    "duration": 14,
    "start_time": "2022-11-27T13:32:40.584Z"
   },
   {
    "duration": 10,
    "start_time": "2022-11-27T13:32:40.600Z"
   },
   {
    "duration": 10,
    "start_time": "2022-11-27T13:32:40.611Z"
   },
   {
    "duration": 276,
    "start_time": "2022-11-27T13:32:40.623Z"
   },
   {
    "duration": 393,
    "start_time": "2022-11-27T13:32:40.901Z"
   },
   {
    "duration": 17,
    "start_time": "2022-11-27T13:32:41.297Z"
   },
   {
    "duration": 133,
    "start_time": "2022-11-27T13:32:41.316Z"
   },
   {
    "duration": 117,
    "start_time": "2022-11-27T13:32:41.450Z"
   },
   {
    "duration": 131,
    "start_time": "2022-11-27T13:32:41.568Z"
   },
   {
    "duration": 130,
    "start_time": "2022-11-27T13:32:41.702Z"
   },
   {
    "duration": 125,
    "start_time": "2022-11-27T13:32:41.833Z"
   },
   {
    "duration": 132,
    "start_time": "2022-11-27T13:32:41.960Z"
   },
   {
    "duration": 135,
    "start_time": "2022-11-27T13:32:42.098Z"
   },
   {
    "duration": 126,
    "start_time": "2022-11-27T13:32:42.234Z"
   },
   {
    "duration": 9,
    "start_time": "2022-11-27T13:32:42.362Z"
   },
   {
    "duration": 112,
    "start_time": "2022-11-27T13:32:42.373Z"
   },
   {
    "duration": 16,
    "start_time": "2022-11-27T13:32:42.487Z"
   },
   {
    "duration": 13,
    "start_time": "2022-11-27T13:32:42.504Z"
   },
   {
    "duration": 11,
    "start_time": "2022-11-27T13:32:42.518Z"
   },
   {
    "duration": 20,
    "start_time": "2022-11-27T13:44:25.148Z"
   },
   {
    "duration": 15,
    "start_time": "2022-11-27T13:45:38.034Z"
   },
   {
    "duration": 4,
    "start_time": "2022-11-27T14:02:53.081Z"
   },
   {
    "duration": 4,
    "start_time": "2022-11-27T14:03:01.047Z"
   },
   {
    "duration": 10,
    "start_time": "2022-11-27T14:03:26.503Z"
   },
   {
    "duration": 7,
    "start_time": "2022-11-27T14:03:31.982Z"
   },
   {
    "duration": 8,
    "start_time": "2022-11-27T14:03:38.316Z"
   },
   {
    "duration": 7,
    "start_time": "2022-11-27T14:03:42.283Z"
   },
   {
    "duration": 100,
    "start_time": "2022-11-27T14:03:45.673Z"
   },
   {
    "duration": 8,
    "start_time": "2022-11-27T14:03:52.790Z"
   },
   {
    "duration": 4,
    "start_time": "2022-11-27T14:03:56.474Z"
   },
   {
    "duration": 5,
    "start_time": "2022-11-27T14:04:23.399Z"
   },
   {
    "duration": 5,
    "start_time": "2022-11-27T14:04:26.921Z"
   },
   {
    "duration": 8,
    "start_time": "2022-11-27T14:04:48.375Z"
   },
   {
    "duration": 12,
    "start_time": "2022-11-27T14:06:05.827Z"
   },
   {
    "duration": 6,
    "start_time": "2022-11-27T14:06:12.527Z"
   },
   {
    "duration": 12,
    "start_time": "2022-11-27T14:09:40.804Z"
   },
   {
    "duration": 13,
    "start_time": "2022-11-27T14:10:35.304Z"
   },
   {
    "duration": 8,
    "start_time": "2022-11-27T14:10:58.700Z"
   },
   {
    "duration": 10,
    "start_time": "2022-11-27T14:11:08.012Z"
   },
   {
    "duration": 19,
    "start_time": "2022-11-27T14:16:57.658Z"
   },
   {
    "duration": 19,
    "start_time": "2022-11-27T14:17:23.696Z"
   },
   {
    "duration": 13,
    "start_time": "2022-11-27T14:18:48.981Z"
   },
   {
    "duration": 209,
    "start_time": "2022-11-27T14:20:36.418Z"
   },
   {
    "duration": 12,
    "start_time": "2022-11-27T14:20:49.521Z"
   },
   {
    "duration": 13,
    "start_time": "2022-11-27T14:20:56.541Z"
   },
   {
    "duration": 197,
    "start_time": "2022-11-27T14:23:34.380Z"
   },
   {
    "duration": 14,
    "start_time": "2022-11-27T14:23:47.995Z"
   },
   {
    "duration": 21,
    "start_time": "2022-11-27T14:24:36.276Z"
   },
   {
    "duration": 14,
    "start_time": "2022-11-27T14:25:57.862Z"
   },
   {
    "duration": 17,
    "start_time": "2022-11-27T14:27:59.771Z"
   },
   {
    "duration": 14,
    "start_time": "2022-11-27T14:28:07.085Z"
   },
   {
    "duration": 16,
    "start_time": "2022-11-27T14:28:11.147Z"
   },
   {
    "duration": 19,
    "start_time": "2022-11-27T14:28:21.390Z"
   },
   {
    "duration": 1135,
    "start_time": "2022-11-28T00:34:41.821Z"
   },
   {
    "duration": 71,
    "start_time": "2022-11-28T00:34:42.958Z"
   },
   {
    "duration": 14,
    "start_time": "2022-11-28T00:34:43.031Z"
   },
   {
    "duration": 15,
    "start_time": "2022-11-28T00:34:43.048Z"
   },
   {
    "duration": 14,
    "start_time": "2022-11-28T00:34:43.065Z"
   },
   {
    "duration": 14,
    "start_time": "2022-11-28T00:34:43.104Z"
   },
   {
    "duration": 10,
    "start_time": "2022-11-28T00:34:43.120Z"
   },
   {
    "duration": 14,
    "start_time": "2022-11-28T00:34:43.131Z"
   },
   {
    "duration": 6,
    "start_time": "2022-11-28T00:34:43.146Z"
   },
   {
    "duration": 20,
    "start_time": "2022-11-28T00:34:43.156Z"
   },
   {
    "duration": 4,
    "start_time": "2022-11-28T00:34:43.205Z"
   },
   {
    "duration": 16,
    "start_time": "2022-11-28T00:34:43.211Z"
   },
   {
    "duration": 20,
    "start_time": "2022-11-28T00:34:43.229Z"
   },
   {
    "duration": 5,
    "start_time": "2022-11-28T00:34:43.250Z"
   },
   {
    "duration": 19,
    "start_time": "2022-11-28T00:34:43.257Z"
   },
   {
    "duration": 31,
    "start_time": "2022-11-28T00:34:43.277Z"
   },
   {
    "duration": 20,
    "start_time": "2022-11-28T00:34:43.309Z"
   },
   {
    "duration": 3,
    "start_time": "2022-11-28T00:34:43.331Z"
   },
   {
    "duration": 8,
    "start_time": "2022-11-28T00:34:43.336Z"
   },
   {
    "duration": 15,
    "start_time": "2022-11-28T00:34:43.346Z"
   },
   {
    "duration": 96,
    "start_time": "2022-11-28T00:34:43.363Z"
   },
   {
    "duration": 203,
    "start_time": "2022-11-28T00:34:43.461Z"
   },
   {
    "duration": 291,
    "start_time": "2022-11-28T00:34:43.665Z"
   },
   {
    "duration": 540,
    "start_time": "2022-11-28T00:34:43.958Z"
   },
   {
    "duration": 287,
    "start_time": "2022-11-28T00:34:44.499Z"
   },
   {
    "duration": 269,
    "start_time": "2022-11-28T00:34:44.788Z"
   },
   {
    "duration": 329,
    "start_time": "2022-11-28T00:34:45.058Z"
   },
   {
    "duration": 167,
    "start_time": "2022-11-28T00:34:45.390Z"
   },
   {
    "duration": 146,
    "start_time": "2022-11-28T00:34:45.558Z"
   },
   {
    "duration": 780,
    "start_time": "2022-11-28T00:34:45.706Z"
   },
   {
    "duration": 805,
    "start_time": "2022-11-28T00:34:46.488Z"
   },
   {
    "duration": 15,
    "start_time": "2022-11-28T00:34:47.295Z"
   },
   {
    "duration": 16,
    "start_time": "2022-11-28T00:34:47.312Z"
   },
   {
    "duration": 17,
    "start_time": "2022-11-28T00:34:47.330Z"
   },
   {
    "duration": 270,
    "start_time": "2022-11-28T00:34:47.350Z"
   },
   {
    "duration": 412,
    "start_time": "2022-11-28T00:34:47.622Z"
   },
   {
    "duration": 16,
    "start_time": "2022-11-28T00:34:48.036Z"
   },
   {
    "duration": 125,
    "start_time": "2022-11-28T00:34:48.054Z"
   },
   {
    "duration": 129,
    "start_time": "2022-11-28T00:34:48.181Z"
   },
   {
    "duration": 133,
    "start_time": "2022-11-28T00:34:48.311Z"
   },
   {
    "duration": 143,
    "start_time": "2022-11-28T00:34:48.446Z"
   },
   {
    "duration": 131,
    "start_time": "2022-11-28T00:34:48.591Z"
   },
   {
    "duration": 133,
    "start_time": "2022-11-28T00:34:48.724Z"
   },
   {
    "duration": 147,
    "start_time": "2022-11-28T00:34:48.859Z"
   },
   {
    "duration": 122,
    "start_time": "2022-11-28T00:34:49.008Z"
   },
   {
    "duration": 7,
    "start_time": "2022-11-28T00:34:49.131Z"
   },
   {
    "duration": 123,
    "start_time": "2022-11-28T00:34:49.139Z"
   },
   {
    "duration": 8,
    "start_time": "2022-11-28T00:34:49.263Z"
   },
   {
    "duration": 9,
    "start_time": "2022-11-28T00:34:49.272Z"
   },
   {
    "duration": 29,
    "start_time": "2022-11-28T00:34:49.282Z"
   },
   {
    "duration": 6,
    "start_time": "2022-11-28T00:34:49.313Z"
   },
   {
    "duration": 17,
    "start_time": "2022-11-28T00:34:49.321Z"
   },
   {
    "duration": 1117,
    "start_time": "2023-03-05T09:39:00.881Z"
   },
   {
    "duration": 192,
    "start_time": "2023-03-05T09:39:02.000Z"
   },
   {
    "duration": 16,
    "start_time": "2023-03-05T09:39:02.193Z"
   },
   {
    "duration": 37,
    "start_time": "2023-03-05T09:39:02.210Z"
   },
   {
    "duration": 16,
    "start_time": "2023-03-05T09:39:02.250Z"
   },
   {
    "duration": 41,
    "start_time": "2023-03-05T09:39:02.268Z"
   },
   {
    "duration": 27,
    "start_time": "2023-03-05T09:39:02.311Z"
   },
   {
    "duration": 14,
    "start_time": "2023-03-05T09:39:02.339Z"
   },
   {
    "duration": 27,
    "start_time": "2023-03-05T09:39:02.355Z"
   },
   {
    "duration": 25,
    "start_time": "2023-03-05T09:39:02.383Z"
   },
   {
    "duration": 5,
    "start_time": "2023-03-05T09:39:02.410Z"
   },
   {
    "duration": 14,
    "start_time": "2023-03-05T09:39:02.416Z"
   },
   {
    "duration": 19,
    "start_time": "2023-03-05T09:39:02.432Z"
   },
   {
    "duration": 5,
    "start_time": "2023-03-05T09:39:02.455Z"
   },
   {
    "duration": 14,
    "start_time": "2023-03-05T09:39:02.461Z"
   },
   {
    "duration": 4,
    "start_time": "2023-03-05T09:39:02.476Z"
   },
   {
    "duration": 16,
    "start_time": "2023-03-05T09:39:02.482Z"
   },
   {
    "duration": 3,
    "start_time": "2023-03-05T09:39:02.500Z"
   },
   {
    "duration": 8,
    "start_time": "2023-03-05T09:39:02.505Z"
   },
   {
    "duration": 44,
    "start_time": "2023-03-05T09:39:02.515Z"
   },
   {
    "duration": 72,
    "start_time": "2023-03-05T09:39:02.560Z"
   },
   {
    "duration": 180,
    "start_time": "2023-03-05T09:39:02.655Z"
   },
   {
    "duration": 271,
    "start_time": "2023-03-05T09:39:02.836Z"
   },
   {
    "duration": 513,
    "start_time": "2023-03-05T09:39:03.108Z"
   },
   {
    "duration": 280,
    "start_time": "2023-03-05T09:39:03.622Z"
   },
   {
    "duration": 283,
    "start_time": "2023-03-05T09:39:03.903Z"
   },
   {
    "duration": 317,
    "start_time": "2023-03-05T09:39:04.188Z"
   },
   {
    "duration": 169,
    "start_time": "2023-03-05T09:39:04.506Z"
   },
   {
    "duration": 154,
    "start_time": "2023-03-05T09:39:04.677Z"
   },
   {
    "duration": 822,
    "start_time": "2023-03-05T09:39:04.833Z"
   },
   {
    "duration": 807,
    "start_time": "2023-03-05T09:39:05.657Z"
   },
   {
    "duration": 6,
    "start_time": "2023-03-05T09:39:06.465Z"
   },
   {
    "duration": 7,
    "start_time": "2023-03-05T09:39:06.473Z"
   },
   {
    "duration": 6,
    "start_time": "2023-03-05T09:39:06.482Z"
   },
   {
    "duration": 316,
    "start_time": "2023-03-05T09:39:06.489Z"
   },
   {
    "duration": 438,
    "start_time": "2023-03-05T09:39:06.807Z"
   },
   {
    "duration": 19,
    "start_time": "2023-03-05T09:39:07.246Z"
   },
   {
    "duration": 130,
    "start_time": "2023-03-05T09:39:07.266Z"
   },
   {
    "duration": 115,
    "start_time": "2023-03-05T09:39:07.398Z"
   },
   {
    "duration": 131,
    "start_time": "2023-03-05T09:39:07.515Z"
   },
   {
    "duration": 139,
    "start_time": "2023-03-05T09:39:07.657Z"
   },
   {
    "duration": 128,
    "start_time": "2023-03-05T09:39:07.797Z"
   },
   {
    "duration": 135,
    "start_time": "2023-03-05T09:39:07.927Z"
   },
   {
    "duration": 134,
    "start_time": "2023-03-05T09:39:08.063Z"
   },
   {
    "duration": 127,
    "start_time": "2023-03-05T09:39:08.199Z"
   },
   {
    "duration": 8,
    "start_time": "2023-03-05T09:39:08.328Z"
   },
   {
    "duration": 134,
    "start_time": "2023-03-05T09:39:08.338Z"
   },
   {
    "duration": 9,
    "start_time": "2023-03-05T09:39:08.473Z"
   },
   {
    "duration": 6,
    "start_time": "2023-03-05T09:39:08.484Z"
   },
   {
    "duration": 16,
    "start_time": "2023-03-05T09:39:08.491Z"
   },
   {
    "duration": 8,
    "start_time": "2023-03-05T09:39:08.509Z"
   },
   {
    "duration": 52,
    "start_time": "2023-03-05T09:39:08.518Z"
   },
   {
    "duration": 19,
    "start_time": "2023-03-05T09:39:32.977Z"
   },
   {
    "duration": 20,
    "start_time": "2023-03-05T09:39:49.621Z"
   },
   {
    "duration": 264,
    "start_time": "2023-03-05T09:39:54.622Z"
   }
  ],
  "kernelspec": {
   "display_name": "Python 3 (ipykernel)",
   "language": "python",
   "name": "python3"
  },
  "language_info": {
   "codemirror_mode": {
    "name": "ipython",
    "version": 3
   },
   "file_extension": ".py",
   "mimetype": "text/x-python",
   "name": "python",
   "nbconvert_exporter": "python",
   "pygments_lexer": "ipython3",
   "version": "3.11.0"
  },
  "toc": {
   "base_numbering": 1,
   "nav_menu": {},
   "number_sections": true,
   "sideBar": true,
   "skip_h1_title": true,
   "title_cell": "Table of Contents",
   "title_sidebar": "Contents",
   "toc_cell": false,
   "toc_position": {},
   "toc_section_display": true,
   "toc_window_display": false
  }
 },
 "nbformat": 4,
 "nbformat_minor": 2
}
