{
 "cells": [
  {
   "cell_type": "markdown",
   "metadata": {},
   "source": [
    "# А/B-тестирование"
   ]
  },
  {
   "cell_type": "markdown",
   "metadata": {},
   "source": [
    "**Цель: провести оценку результатов A/B-теста и вернуться с итоговыми выводами/рекомендациями. Тест подразумевал увеличение конверсии по каждой метрике на 10 и более %**\n",
    "\n",
    "**А — контрольная, B — новая платёжная воронка**\n",
    "\n",
    "**Техническое задание:**\n",
    "\n",
    "- Название теста: `recommender_system_test`;\n",
    "- группы: А — контрольная, B — новая платёжная воронка;\n",
    "- дата запуска: 2020-12-07;\n",
    "- дата остановки набора новых пользователей: 2020-12-21;\n",
    "- дата остановки: 2021-01-04;\n",
    "- аудитория: 15% новых пользователей из региона EU;\n",
    "- назначение теста: тестирование изменений, связанных с внедрением улучшенной рекомендательной системы;\n",
    "- ожидаемое количество участников теста: 6000.\n",
    "- ожидаемый эффект: за 14 дней с момента регистрации пользователи покажут улучшение каждой метрики не менее, чем на 10%:\n",
    "    - конверсии в просмотр карточек товаров — событие `product_page`,\n",
    "    - просмотры корзины — `product_cart`,\n",
    "    - покупки — `purchase`.\n",
    "\n",
    "**План исследования**\n",
    "Шаг 1. Первичное знакомство\n",
    "Шаг 2. Предобработка данных:\n",
    "Шаг 3. Исследовательский анализ данных:\n",
    "Шаг 4. Оценить результаты A/B-тестирования\n",
    "Шаг 5. Описать выводы по этапу исследовательского анализа данных и по проведённой оценке результатов A/B-тестирования. Сделать общее заключение о корректности проведения теста"
   ]
  },
  {
   "cell_type": "markdown",
   "metadata": {},
   "source": [
    "## Первичное знакомство"
   ]
  },
  {
   "cell_type": "code",
   "execution_count": 1,
   "metadata": {},
   "outputs": [
    {
     "name": "stdout",
     "output_type": "stream",
     "text": [
      "Note: you may need to restart the kernel to use updated packages.\n"
     ]
    }
   ],
   "source": [
    "%pip install -U kaleido -q"
   ]
  },
  {
   "cell_type": "code",
   "execution_count": 2,
   "metadata": {},
   "outputs": [],
   "source": [
    "#загрузим библиотеки\n",
    "import pandas as pd\n",
    "import scipy.stats as stats\n",
    "import math as mth\n",
    "import datetime as dt\n",
    "from datetime import timedelta\n",
    "import numpy as np\n",
    "import matplotlib.pyplot as plt\n",
    "from plotly import graph_objects as go\n",
    "import plotly.express as px\n",
    "import plotly.io as pio\n",
    "pio.renderers.default=\"png\"\n",
    "import seaborn as sns\n",
    "sns.set(rc={'figure.figsize':(15,10)})\n",
    "\n",
    "import warnings\n",
    "warnings.simplefilter('ignore')"
   ]
  },
  {
   "cell_type": "code",
   "execution_count": 3,
   "metadata": {},
   "outputs": [
    {
     "data": {
      "text/html": [
       "<div>\n",
       "<style scoped>\n",
       "    .dataframe tbody tr th:only-of-type {\n",
       "        vertical-align: middle;\n",
       "    }\n",
       "\n",
       "    .dataframe tbody tr th {\n",
       "        vertical-align: top;\n",
       "    }\n",
       "\n",
       "    .dataframe thead th {\n",
       "        text-align: right;\n",
       "    }\n",
       "</style>\n",
       "<table border=\"1\" class=\"dataframe\">\n",
       "  <thead>\n",
       "    <tr style=\"text-align: right;\">\n",
       "      <th></th>\n",
       "      <th>name</th>\n",
       "      <th>regions</th>\n",
       "      <th>start_dt</th>\n",
       "      <th>finish_dt</th>\n",
       "    </tr>\n",
       "  </thead>\n",
       "  <tbody>\n",
       "    <tr>\n",
       "      <th>0</th>\n",
       "      <td>Christmas&amp;New Year Promo</td>\n",
       "      <td>EU, N.America</td>\n",
       "      <td>2020-12-25</td>\n",
       "      <td>2021-01-03</td>\n",
       "    </tr>\n",
       "    <tr>\n",
       "      <th>1</th>\n",
       "      <td>St. Valentine's Day Giveaway</td>\n",
       "      <td>EU, CIS, APAC, N.America</td>\n",
       "      <td>2020-02-14</td>\n",
       "      <td>2020-02-16</td>\n",
       "    </tr>\n",
       "    <tr>\n",
       "      <th>2</th>\n",
       "      <td>St. Patric's Day Promo</td>\n",
       "      <td>EU, N.America</td>\n",
       "      <td>2020-03-17</td>\n",
       "      <td>2020-03-19</td>\n",
       "    </tr>\n",
       "    <tr>\n",
       "      <th>3</th>\n",
       "      <td>Easter Promo</td>\n",
       "      <td>EU, CIS, APAC, N.America</td>\n",
       "      <td>2020-04-12</td>\n",
       "      <td>2020-04-19</td>\n",
       "    </tr>\n",
       "    <tr>\n",
       "      <th>4</th>\n",
       "      <td>4th of July Promo</td>\n",
       "      <td>N.America</td>\n",
       "      <td>2020-07-04</td>\n",
       "      <td>2020-07-11</td>\n",
       "    </tr>\n",
       "  </tbody>\n",
       "</table>\n",
       "</div>"
      ],
      "text/plain": [
       "                           name                   regions    start_dt  \\\n",
       "0      Christmas&New Year Promo             EU, N.America  2020-12-25   \n",
       "1  St. Valentine's Day Giveaway  EU, CIS, APAC, N.America  2020-02-14   \n",
       "2        St. Patric's Day Promo             EU, N.America  2020-03-17   \n",
       "3                  Easter Promo  EU, CIS, APAC, N.America  2020-04-12   \n",
       "4             4th of July Promo                 N.America  2020-07-04   \n",
       "\n",
       "    finish_dt  \n",
       "0  2021-01-03  \n",
       "1  2020-02-16  \n",
       "2  2020-03-19  \n",
       "3  2020-04-19  \n",
       "4  2020-07-11  "
      ]
     },
     "execution_count": 3,
     "metadata": {},
     "output_type": "execute_result"
    }
   ],
   "source": [
    "#загрузим датафрейм - календарь маркетинговых событий на 2020 год\n",
    "try:\n",
    "    ab_project_marketing_events = pd.read_csv('/datasets/ab_project_marketing_events.csv')\n",
    "except:\n",
    "    ab_project_marketing_events = pd.read_csv(r\"C:\\scripts\\ab_project_marketing_events.csv\")\n",
    "    \n",
    "ab_project_marketing_events.head()"
   ]
  },
  {
   "cell_type": "code",
   "execution_count": 4,
   "metadata": {},
   "outputs": [
    {
     "data": {
      "text/html": [
       "<div>\n",
       "<style scoped>\n",
       "    .dataframe tbody tr th:only-of-type {\n",
       "        vertical-align: middle;\n",
       "    }\n",
       "\n",
       "    .dataframe tbody tr th {\n",
       "        vertical-align: top;\n",
       "    }\n",
       "\n",
       "    .dataframe thead th {\n",
       "        text-align: right;\n",
       "    }\n",
       "</style>\n",
       "<table border=\"1\" class=\"dataframe\">\n",
       "  <thead>\n",
       "    <tr style=\"text-align: right;\">\n",
       "      <th></th>\n",
       "      <th>user_id</th>\n",
       "      <th>event_dt</th>\n",
       "      <th>event_name</th>\n",
       "      <th>details</th>\n",
       "    </tr>\n",
       "  </thead>\n",
       "  <tbody>\n",
       "    <tr>\n",
       "      <th>0</th>\n",
       "      <td>E1BDDCE0DAFA2679</td>\n",
       "      <td>2020-12-07 20:22:03</td>\n",
       "      <td>purchase</td>\n",
       "      <td>99.99</td>\n",
       "    </tr>\n",
       "    <tr>\n",
       "      <th>1</th>\n",
       "      <td>7B6452F081F49504</td>\n",
       "      <td>2020-12-07 09:22:53</td>\n",
       "      <td>purchase</td>\n",
       "      <td>9.99</td>\n",
       "    </tr>\n",
       "    <tr>\n",
       "      <th>2</th>\n",
       "      <td>9CD9F34546DF254C</td>\n",
       "      <td>2020-12-07 12:59:29</td>\n",
       "      <td>purchase</td>\n",
       "      <td>4.99</td>\n",
       "    </tr>\n",
       "    <tr>\n",
       "      <th>3</th>\n",
       "      <td>96F27A054B191457</td>\n",
       "      <td>2020-12-07 04:02:40</td>\n",
       "      <td>purchase</td>\n",
       "      <td>4.99</td>\n",
       "    </tr>\n",
       "    <tr>\n",
       "      <th>4</th>\n",
       "      <td>1FD7660FDF94CA1F</td>\n",
       "      <td>2020-12-07 10:15:09</td>\n",
       "      <td>purchase</td>\n",
       "      <td>4.99</td>\n",
       "    </tr>\n",
       "  </tbody>\n",
       "</table>\n",
       "</div>"
      ],
      "text/plain": [
       "            user_id             event_dt event_name  details\n",
       "0  E1BDDCE0DAFA2679  2020-12-07 20:22:03   purchase    99.99\n",
       "1  7B6452F081F49504  2020-12-07 09:22:53   purchase     9.99\n",
       "2  9CD9F34546DF254C  2020-12-07 12:59:29   purchase     4.99\n",
       "3  96F27A054B191457  2020-12-07 04:02:40   purchase     4.99\n",
       "4  1FD7660FDF94CA1F  2020-12-07 10:15:09   purchase     4.99"
      ]
     },
     "execution_count": 4,
     "metadata": {},
     "output_type": "execute_result"
    }
   ],
   "source": [
    "#загрузим датафрейм - действия новых пользователей в период с 7 декабря 2020 по 4 января 2021 года\n",
    "try:\n",
    "    final_ab_events = pd.read_csv('/datasets/final_ab_events.csv')\n",
    "except:\n",
    "    final_ab_events = pd.read_csv(r\"C:\\scripts\\final_ab_events.csv\")\n",
    "\n",
    "final_ab_events.head()"
   ]
  },
  {
   "cell_type": "code",
   "execution_count": 5,
   "metadata": {},
   "outputs": [
    {
     "data": {
      "text/html": [
       "<div>\n",
       "<style scoped>\n",
       "    .dataframe tbody tr th:only-of-type {\n",
       "        vertical-align: middle;\n",
       "    }\n",
       "\n",
       "    .dataframe tbody tr th {\n",
       "        vertical-align: top;\n",
       "    }\n",
       "\n",
       "    .dataframe thead th {\n",
       "        text-align: right;\n",
       "    }\n",
       "</style>\n",
       "<table border=\"1\" class=\"dataframe\">\n",
       "  <thead>\n",
       "    <tr style=\"text-align: right;\">\n",
       "      <th></th>\n",
       "      <th>user_id</th>\n",
       "      <th>first_date</th>\n",
       "      <th>region</th>\n",
       "      <th>device</th>\n",
       "    </tr>\n",
       "  </thead>\n",
       "  <tbody>\n",
       "    <tr>\n",
       "      <th>0</th>\n",
       "      <td>D72A72121175D8BE</td>\n",
       "      <td>2020-12-07</td>\n",
       "      <td>EU</td>\n",
       "      <td>PC</td>\n",
       "    </tr>\n",
       "    <tr>\n",
       "      <th>1</th>\n",
       "      <td>F1C668619DFE6E65</td>\n",
       "      <td>2020-12-07</td>\n",
       "      <td>N.America</td>\n",
       "      <td>Android</td>\n",
       "    </tr>\n",
       "    <tr>\n",
       "      <th>2</th>\n",
       "      <td>2E1BF1D4C37EA01F</td>\n",
       "      <td>2020-12-07</td>\n",
       "      <td>EU</td>\n",
       "      <td>PC</td>\n",
       "    </tr>\n",
       "    <tr>\n",
       "      <th>3</th>\n",
       "      <td>50734A22C0C63768</td>\n",
       "      <td>2020-12-07</td>\n",
       "      <td>EU</td>\n",
       "      <td>iPhone</td>\n",
       "    </tr>\n",
       "    <tr>\n",
       "      <th>4</th>\n",
       "      <td>E1BDDCE0DAFA2679</td>\n",
       "      <td>2020-12-07</td>\n",
       "      <td>N.America</td>\n",
       "      <td>iPhone</td>\n",
       "    </tr>\n",
       "  </tbody>\n",
       "</table>\n",
       "</div>"
      ],
      "text/plain": [
       "            user_id  first_date     region   device\n",
       "0  D72A72121175D8BE  2020-12-07         EU       PC\n",
       "1  F1C668619DFE6E65  2020-12-07  N.America  Android\n",
       "2  2E1BF1D4C37EA01F  2020-12-07         EU       PC\n",
       "3  50734A22C0C63768  2020-12-07         EU   iPhone\n",
       "4  E1BDDCE0DAFA2679  2020-12-07  N.America   iPhone"
      ]
     },
     "execution_count": 5,
     "metadata": {},
     "output_type": "execute_result"
    }
   ],
   "source": [
    "#загрузим датафрейм - пользователи, зарегистрировавшиеся с 7 по 21 декабря 2020 года\n",
    "try:\n",
    "    final_ab_new_users = pd.read_csv('/datasets/final_ab_new_users.csv')\n",
    "except:\n",
    "    final_ab_new_users = pd.read_csv(r\"C:\\scripts\\final_ab_new_users.csv\")\n",
    "\n",
    "final_ab_new_users.head()"
   ]
  },
  {
   "cell_type": "code",
   "execution_count": 6,
   "metadata": {},
   "outputs": [
    {
     "data": {
      "text/html": [
       "<div>\n",
       "<style scoped>\n",
       "    .dataframe tbody tr th:only-of-type {\n",
       "        vertical-align: middle;\n",
       "    }\n",
       "\n",
       "    .dataframe tbody tr th {\n",
       "        vertical-align: top;\n",
       "    }\n",
       "\n",
       "    .dataframe thead th {\n",
       "        text-align: right;\n",
       "    }\n",
       "</style>\n",
       "<table border=\"1\" class=\"dataframe\">\n",
       "  <thead>\n",
       "    <tr style=\"text-align: right;\">\n",
       "      <th></th>\n",
       "      <th>user_id</th>\n",
       "      <th>group</th>\n",
       "      <th>ab_test</th>\n",
       "    </tr>\n",
       "  </thead>\n",
       "  <tbody>\n",
       "    <tr>\n",
       "      <th>0</th>\n",
       "      <td>D1ABA3E2887B6A73</td>\n",
       "      <td>A</td>\n",
       "      <td>recommender_system_test</td>\n",
       "    </tr>\n",
       "    <tr>\n",
       "      <th>1</th>\n",
       "      <td>A7A3664BD6242119</td>\n",
       "      <td>A</td>\n",
       "      <td>recommender_system_test</td>\n",
       "    </tr>\n",
       "    <tr>\n",
       "      <th>2</th>\n",
       "      <td>DABC14FDDFADD29E</td>\n",
       "      <td>A</td>\n",
       "      <td>recommender_system_test</td>\n",
       "    </tr>\n",
       "    <tr>\n",
       "      <th>3</th>\n",
       "      <td>04988C5DF189632E</td>\n",
       "      <td>A</td>\n",
       "      <td>recommender_system_test</td>\n",
       "    </tr>\n",
       "    <tr>\n",
       "      <th>4</th>\n",
       "      <td>482F14783456D21B</td>\n",
       "      <td>B</td>\n",
       "      <td>recommender_system_test</td>\n",
       "    </tr>\n",
       "  </tbody>\n",
       "</table>\n",
       "</div>"
      ],
      "text/plain": [
       "            user_id group                  ab_test\n",
       "0  D1ABA3E2887B6A73     A  recommender_system_test\n",
       "1  A7A3664BD6242119     A  recommender_system_test\n",
       "2  DABC14FDDFADD29E     A  recommender_system_test\n",
       "3  04988C5DF189632E     A  recommender_system_test\n",
       "4  482F14783456D21B     B  recommender_system_test"
      ]
     },
     "execution_count": 6,
     "metadata": {},
     "output_type": "execute_result"
    }
   ],
   "source": [
    "#загрузим датафрейм - таблица участников тестов\n",
    "try:\n",
    "    final_ab_participants = pd.read_csv('/datasets/final_ab_participants.csv')\n",
    "except:\n",
    "    final_ab_participants = pd.read_csv(r\"C:\\scripts\\final_ab_participants.csv\")\n",
    "\n",
    "final_ab_participants.head()"
   ]
  },
  {
   "cell_type": "markdown",
   "metadata": {},
   "source": [
    "## Предобработка данных"
   ]
  },
  {
   "cell_type": "code",
   "execution_count": 7,
   "metadata": {},
   "outputs": [
    {
     "name": "stdout",
     "output_type": "stream",
     "text": [
      "<class 'pandas.core.frame.DataFrame'>\n",
      "RangeIndex: 14 entries, 0 to 13\n",
      "Data columns (total 4 columns):\n",
      " #   Column     Non-Null Count  Dtype \n",
      "---  ------     --------------  ----- \n",
      " 0   name       14 non-null     object\n",
      " 1   regions    14 non-null     object\n",
      " 2   start_dt   14 non-null     object\n",
      " 3   finish_dt  14 non-null     object\n",
      "dtypes: object(4)\n",
      "memory usage: 576.0+ bytes\n",
      "<class 'pandas.core.frame.DataFrame'>\n",
      "RangeIndex: 440317 entries, 0 to 440316\n",
      "Data columns (total 4 columns):\n",
      " #   Column      Non-Null Count   Dtype  \n",
      "---  ------      --------------   -----  \n",
      " 0   user_id     440317 non-null  object \n",
      " 1   event_dt    440317 non-null  object \n",
      " 2   event_name  440317 non-null  object \n",
      " 3   details     62740 non-null   float64\n",
      "dtypes: float64(1), object(3)\n",
      "memory usage: 13.4+ MB\n",
      "<class 'pandas.core.frame.DataFrame'>\n",
      "RangeIndex: 61733 entries, 0 to 61732\n",
      "Data columns (total 4 columns):\n",
      " #   Column      Non-Null Count  Dtype \n",
      "---  ------      --------------  ----- \n",
      " 0   user_id     61733 non-null  object\n",
      " 1   first_date  61733 non-null  object\n",
      " 2   region      61733 non-null  object\n",
      " 3   device      61733 non-null  object\n",
      "dtypes: object(4)\n",
      "memory usage: 1.9+ MB\n",
      "<class 'pandas.core.frame.DataFrame'>\n",
      "RangeIndex: 18268 entries, 0 to 18267\n",
      "Data columns (total 3 columns):\n",
      " #   Column   Non-Null Count  Dtype \n",
      "---  ------   --------------  ----- \n",
      " 0   user_id  18268 non-null  object\n",
      " 1   group    18268 non-null  object\n",
      " 2   ab_test  18268 non-null  object\n",
      "dtypes: object(3)\n",
      "memory usage: 428.3+ KB\n"
     ]
    }
   ],
   "source": [
    "list = ab_project_marketing_events, final_ab_events, final_ab_new_users, final_ab_participants\n",
    "\n",
    "for row in list:\n",
    "    row.info()"
   ]
  },
  {
   "cell_type": "code",
   "execution_count": 8,
   "metadata": {},
   "outputs": [],
   "source": [
    "ab_project_marketing_events['start_dt'] = pd.to_datetime(ab_project_marketing_events['start_dt'], format='%Y-%m-%d')"
   ]
  },
  {
   "cell_type": "code",
   "execution_count": 9,
   "metadata": {},
   "outputs": [],
   "source": [
    "ab_project_marketing_events['finish_dt'] = pd.to_datetime(ab_project_marketing_events['finish_dt'], format='%Y-%m-%d')"
   ]
  },
  {
   "cell_type": "code",
   "execution_count": 10,
   "metadata": {},
   "outputs": [],
   "source": [
    "final_ab_events['event_dt'] = pd.to_datetime(final_ab_events['event_dt'], format='%Y-%m-%dT%H:%M:%S')"
   ]
  },
  {
   "cell_type": "code",
   "execution_count": 11,
   "metadata": {},
   "outputs": [],
   "source": [
    "final_ab_new_users['first_date'] = pd.to_datetime(final_ab_new_users['first_date'], format='%Y-%m-%d')"
   ]
  },
  {
   "cell_type": "code",
   "execution_count": 12,
   "metadata": {},
   "outputs": [
    {
     "name": "stdout",
     "output_type": "stream",
     "text": [
      "<class 'pandas.core.frame.DataFrame'>\n",
      "RangeIndex: 14 entries, 0 to 13\n",
      "Data columns (total 4 columns):\n",
      " #   Column     Non-Null Count  Dtype         \n",
      "---  ------     --------------  -----         \n",
      " 0   name       14 non-null     object        \n",
      " 1   regions    14 non-null     object        \n",
      " 2   start_dt   14 non-null     datetime64[ns]\n",
      " 3   finish_dt  14 non-null     datetime64[ns]\n",
      "dtypes: datetime64[ns](2), object(2)\n",
      "memory usage: 576.0+ bytes\n",
      "<class 'pandas.core.frame.DataFrame'>\n",
      "RangeIndex: 440317 entries, 0 to 440316\n",
      "Data columns (total 4 columns):\n",
      " #   Column      Non-Null Count   Dtype         \n",
      "---  ------      --------------   -----         \n",
      " 0   user_id     440317 non-null  object        \n",
      " 1   event_dt    440317 non-null  datetime64[ns]\n",
      " 2   event_name  440317 non-null  object        \n",
      " 3   details     62740 non-null   float64       \n",
      "dtypes: datetime64[ns](1), float64(1), object(2)\n",
      "memory usage: 13.4+ MB\n",
      "<class 'pandas.core.frame.DataFrame'>\n",
      "RangeIndex: 61733 entries, 0 to 61732\n",
      "Data columns (total 4 columns):\n",
      " #   Column      Non-Null Count  Dtype         \n",
      "---  ------      --------------  -----         \n",
      " 0   user_id     61733 non-null  object        \n",
      " 1   first_date  61733 non-null  datetime64[ns]\n",
      " 2   region      61733 non-null  object        \n",
      " 3   device      61733 non-null  object        \n",
      "dtypes: datetime64[ns](1), object(3)\n",
      "memory usage: 1.9+ MB\n",
      "<class 'pandas.core.frame.DataFrame'>\n",
      "RangeIndex: 18268 entries, 0 to 18267\n",
      "Data columns (total 3 columns):\n",
      " #   Column   Non-Null Count  Dtype \n",
      "---  ------   --------------  ----- \n",
      " 0   user_id  18268 non-null  object\n",
      " 1   group    18268 non-null  object\n",
      " 2   ab_test  18268 non-null  object\n",
      "dtypes: object(3)\n",
      "memory usage: 428.3+ KB\n"
     ]
    }
   ],
   "source": [
    "list = ab_project_marketing_events, final_ab_events, final_ab_new_users, final_ab_participants\n",
    "\n",
    "for row in list:\n",
    "    row.info()"
   ]
  },
  {
   "cell_type": "code",
   "execution_count": 13,
   "metadata": {},
   "outputs": [
    {
     "name": "stdout",
     "output_type": "stream",
     "text": [
      "name         0\n",
      "regions      0\n",
      "start_dt     0\n",
      "finish_dt    0\n",
      "dtype: int64\n",
      "user_id            0\n",
      "event_dt           0\n",
      "event_name         0\n",
      "details       377577\n",
      "dtype: int64\n",
      "user_id       0\n",
      "first_date    0\n",
      "region        0\n",
      "device        0\n",
      "dtype: int64\n",
      "user_id    0\n",
      "group      0\n",
      "ab_test    0\n",
      "dtype: int64\n"
     ]
    }
   ],
   "source": [
    "#проверим на пропуски\n",
    "list = [ab_project_marketing_events, final_ab_events, final_ab_new_users, final_ab_participants]\n",
    "\n",
    "for row in list:\n",
    "    print(row.isna().sum())"
   ]
  },
  {
   "cell_type": "markdown",
   "metadata": {},
   "source": [
    "Видим пропуски в final_ab_events в поле details"
   ]
  },
  {
   "cell_type": "code",
   "execution_count": 14,
   "metadata": {},
   "outputs": [
    {
     "name": "stdout",
     "output_type": "stream",
     "text": [
      "Кол-во дубликатов - 0\n",
      "Кол-во дубликатов - 0\n",
      "Кол-во дубликатов - 0\n",
      "Кол-во дубликатов - 0\n"
     ]
    }
   ],
   "source": [
    "#проверим на дубликаты\n",
    "list = ab_project_marketing_events, final_ab_events, final_ab_new_users, final_ab_participants\n",
    "\n",
    "for row in list:\n",
    "    print('Кол-во дубликатов -', row.duplicated().sum())"
   ]
  },
  {
   "cell_type": "markdown",
   "metadata": {},
   "source": [
    "Дубликаты отсутствуют"
   ]
  },
  {
   "cell_type": "code",
   "execution_count": 15,
   "metadata": {},
   "outputs": [
    {
     "data": {
      "text/html": [
       "<div>\n",
       "<style scoped>\n",
       "    .dataframe tbody tr th:only-of-type {\n",
       "        vertical-align: middle;\n",
       "    }\n",
       "\n",
       "    .dataframe tbody tr th {\n",
       "        vertical-align: top;\n",
       "    }\n",
       "\n",
       "    .dataframe thead th {\n",
       "        text-align: right;\n",
       "    }\n",
       "</style>\n",
       "<table border=\"1\" class=\"dataframe\">\n",
       "  <thead>\n",
       "    <tr style=\"text-align: right;\">\n",
       "      <th></th>\n",
       "      <th>event_dt</th>\n",
       "    </tr>\n",
       "  </thead>\n",
       "  <tbody>\n",
       "    <tr>\n",
       "      <th>count</th>\n",
       "      <td>440317</td>\n",
       "    </tr>\n",
       "    <tr>\n",
       "      <th>unique</th>\n",
       "      <td>267268</td>\n",
       "    </tr>\n",
       "    <tr>\n",
       "      <th>top</th>\n",
       "      <td>2020-12-14 18:54:55</td>\n",
       "    </tr>\n",
       "    <tr>\n",
       "      <th>freq</th>\n",
       "      <td>10</td>\n",
       "    </tr>\n",
       "    <tr>\n",
       "      <th>first</th>\n",
       "      <td>2020-12-07 00:00:33</td>\n",
       "    </tr>\n",
       "    <tr>\n",
       "      <th>last</th>\n",
       "      <td>2020-12-30 23:36:33</td>\n",
       "    </tr>\n",
       "  </tbody>\n",
       "</table>\n",
       "</div>"
      ],
      "text/plain": [
       "                   event_dt\n",
       "count                440317\n",
       "unique               267268\n",
       "top     2020-12-14 18:54:55\n",
       "freq                     10\n",
       "first   2020-12-07 00:00:33\n",
       "last    2020-12-30 23:36:33"
      ]
     },
     "execution_count": 15,
     "metadata": {},
     "output_type": "execute_result"
    }
   ],
   "source": [
    "#посмотрим столбец с датой и временем события\n",
    "final_ab_events[['event_dt']].describe()"
   ]
  },
  {
   "cell_type": "markdown",
   "metadata": {},
   "source": [
    "Тест закончился раньше. Должен был 4 января, а в итогк 30 декабря. Интересно почему?"
   ]
  },
  {
   "cell_type": "code",
   "execution_count": 16,
   "metadata": {},
   "outputs": [
    {
     "data": {
      "text/html": [
       "<div>\n",
       "<style scoped>\n",
       "    .dataframe tbody tr th:only-of-type {\n",
       "        vertical-align: middle;\n",
       "    }\n",
       "\n",
       "    .dataframe tbody tr th {\n",
       "        vertical-align: top;\n",
       "    }\n",
       "\n",
       "    .dataframe thead th {\n",
       "        text-align: right;\n",
       "    }\n",
       "</style>\n",
       "<table border=\"1\" class=\"dataframe\">\n",
       "  <thead>\n",
       "    <tr style=\"text-align: right;\">\n",
       "      <th></th>\n",
       "      <th>first_date</th>\n",
       "    </tr>\n",
       "  </thead>\n",
       "  <tbody>\n",
       "    <tr>\n",
       "      <th>count</th>\n",
       "      <td>6701</td>\n",
       "    </tr>\n",
       "    <tr>\n",
       "      <th>unique</th>\n",
       "      <td>15</td>\n",
       "    </tr>\n",
       "    <tr>\n",
       "      <th>top</th>\n",
       "      <td>2020-12-21 00:00:00</td>\n",
       "    </tr>\n",
       "    <tr>\n",
       "      <th>freq</th>\n",
       "      <td>723</td>\n",
       "    </tr>\n",
       "    <tr>\n",
       "      <th>first</th>\n",
       "      <td>2020-12-07 00:00:00</td>\n",
       "    </tr>\n",
       "    <tr>\n",
       "      <th>last</th>\n",
       "      <td>2020-12-21 00:00:00</td>\n",
       "    </tr>\n",
       "  </tbody>\n",
       "</table>\n",
       "</div>"
      ],
      "text/plain": [
       "                 first_date\n",
       "count                  6701\n",
       "unique                   15\n",
       "top     2020-12-21 00:00:00\n",
       "freq                    723\n",
       "first   2020-12-07 00:00:00\n",
       "last    2020-12-21 00:00:00"
      ]
     },
     "execution_count": 16,
     "metadata": {},
     "output_type": "execute_result"
    }
   ],
   "source": [
    "#посмотрим столбец с датой и временем регистрации\n",
    "usr_test = final_ab_participants[final_ab_participants['ab_test'] == 'recommender_system_test']\n",
    "usr_test_ab = usr_test.merge(final_ab_new_users, on='user_id', how='inner')\n",
    "\n",
    "usr_test_ab[['first_date']].describe()"
   ]
  },
  {
   "cell_type": "markdown",
   "metadata": {},
   "source": [
    "Мы владеем данными с 7.12 по 21.12"
   ]
  },
  {
   "cell_type": "code",
   "execution_count": 17,
   "metadata": {},
   "outputs": [
    {
     "name": "stdout",
     "output_type": "stream",
     "text": [
      "Кол-во новых пользоватлей из EU 42340\n"
     ]
    }
   ],
   "source": [
    "#проверка условия ТЗ - 15% новых пользователей из региона EU\n",
    "#считаем кол-во зарегистрированных пользователей с 7.12 по 21.12\n",
    "new_usr_eu = final_ab_new_users[(final_ab_new_users['region']=='EU') \n",
    "                                  & (final_ab_new_users['first_date'] <= '2020-12-21')]['user_id'].nunique()\n",
    "print ('Кол-во новых пользоватлей из EU', new_usr_eu)"
   ]
  },
  {
   "cell_type": "code",
   "execution_count": 18,
   "metadata": {},
   "outputs": [
    {
     "data": {
      "text/plain": [
       "array(['recommender_system_test', 'interface_eu_test'], dtype=object)"
      ]
     },
     "execution_count": 18,
     "metadata": {},
     "output_type": "execute_result"
    }
   ],
   "source": [
    "#проверим исходный датафрейм по уникальным значениям тестов\n",
    "final_ab_participants['ab_test'].unique()"
   ]
  },
  {
   "cell_type": "code",
   "execution_count": 19,
   "metadata": {},
   "outputs": [
    {
     "name": "stdout",
     "output_type": "stream",
     "text": [
      "Кол-во новых пользователей из EU в тесте - 6351\n"
     ]
    }
   ],
   "source": [
    "#посчитаем кол-во участников теста recommender_system_test из EU\n",
    "usr_test_ab_eu = usr_test_ab[usr_test_ab['region'] == 'EU']['user_id'].nunique()\n",
    "print ('Кол-во новых пользователей из EU в тесте -', usr_test_ab_eu)"
   ]
  },
  {
   "cell_type": "code",
   "execution_count": 20,
   "metadata": {},
   "outputs": [
    {
     "name": "stdout",
     "output_type": "stream",
     "text": [
      "Доля пользователей из EU - 15 %\n"
     ]
    }
   ],
   "source": [
    "print('Доля пользователей из EU -', round(usr_test_ab_eu/new_usr_eu * 100), '%')"
   ]
  },
  {
   "cell_type": "markdown",
   "metadata": {},
   "source": [
    "Условие ТЗ о 15% новых пользователей, которые должны быть из региона EU соблюдено"
   ]
  },
  {
   "cell_type": "code",
   "execution_count": 21,
   "metadata": {},
   "outputs": [
    {
     "name": "stdout",
     "output_type": "stream",
     "text": [
      "Кол-во уникальных пользователей -  6701\n"
     ]
    }
   ],
   "source": [
    "print ('Кол-во уникальных пользователей - ', usr_test_ab['user_id'].nunique())"
   ]
  },
  {
   "cell_type": "code",
   "execution_count": 22,
   "metadata": {},
   "outputs": [
    {
     "data": {
      "text/plain": [
       "group\n",
       "A    3824\n",
       "B    2877\n",
       "Name: user_id, dtype: int64"
      ]
     },
     "execution_count": 22,
     "metadata": {},
     "output_type": "execute_result"
    }
   ],
   "source": [
    "#проверим, что нет пересечений с конкурирующим тестом\n",
    "usr_test_ab.groupby('group')['user_id'].nunique()"
   ]
  },
  {
   "cell_type": "code",
   "execution_count": 23,
   "metadata": {},
   "outputs": [
    {
     "name": "stdout",
     "output_type": "stream",
     "text": [
      "Группа А больше группы В на - 33 %\n"
     ]
    }
   ],
   "source": [
    "total_A = usr_test_ab.query('group == \"A\"')['user_id'].nunique()\n",
    "total_B = usr_test_ab.query('group == \"B\"')['user_id'].nunique()\n",
    "\n",
    "print('Группа А больше группы В на -', round(total_A/total_B*100)-100, '%')"
   ]
  },
  {
   "cell_type": "markdown",
   "metadata": {},
   "source": [
    "Между группами нет пересечений, сумма равняется общему количеству пользователей. Но группы распределены неравномерно, группа А больше на 33% группы B"
   ]
  },
  {
   "cell_type": "code",
   "execution_count": 24,
   "metadata": {},
   "outputs": [
    {
     "name": "stdout",
     "output_type": "stream",
     "text": [
      "Кол-во пользователей, которые пересекаются - 1602\n"
     ]
    }
   ],
   "source": [
    "duplicate = (\n",
    "    final_ab_participants.groupby('user_id')\n",
    "    .agg({'ab_test': 'nunique'})\n",
    "    .sort_values(by='ab_test', ascending=False)\n",
    "    .reset_index()\n",
    "    .query('ab_test == 2')\n",
    ")\n",
    "print ('Кол-во пользователей, которые пересекаются -', duplicate['user_id'].nunique())"
   ]
  },
  {
   "cell_type": "markdown",
   "metadata": {},
   "source": [
    "1602 пользователя фигурируют в обоих тестах, необходимо удалить их из теста"
   ]
  },
  {
   "cell_type": "code",
   "execution_count": 25,
   "metadata": {},
   "outputs": [
    {
     "data": {
      "text/plain": [
       "group\n",
       "A    2903\n",
       "B    2196\n",
       "Name: user_id, dtype: int64"
      ]
     },
     "execution_count": 25,
     "metadata": {},
     "output_type": "execute_result"
    }
   ],
   "source": [
    "#удалим пользователей, которые участвуют в двух тестах одновременно\n",
    "usr_test_ab_group = (\n",
    "    usr_test_ab.query('user_id not in @duplicate[\"user_id\"]')\n",
    "                        .groupby('group')['user_id']\n",
    "                        .nunique()\n",
    ")\n",
    "usr_test_ab_group"
   ]
  },
  {
   "cell_type": "code",
   "execution_count": 26,
   "metadata": {},
   "outputs": [
    {
     "name": "stdout",
     "output_type": "stream",
     "text": [
      "Группа А больше группы В на - 32 %\n"
     ]
    }
   ],
   "source": [
    "total_A_new = usr_test_ab.query('user_id not in @duplicate[\"user_id\"] and group==\"A\"')['user_id'].nunique()\n",
    "total_B_new = usr_test_ab.query('user_id not in @duplicate[\"user_id\"] and group==\"B\"')['user_id'].nunique()\n",
    "\n",
    "print('Группа А больше группы В на -', round(total_A_new/total_B_new*100)-100, '%')"
   ]
  },
  {
   "cell_type": "markdown",
   "metadata": {},
   "source": [
    "Группы распределены неравномерно, группа А больше группа В на 32%. После очистки датафрейма выборка уменьшилась и составляет уже 5099"
   ]
  },
  {
   "cell_type": "code",
   "execution_count": 27,
   "metadata": {},
   "outputs": [
    {
     "data": {
      "text/html": [
       "<div>\n",
       "<style scoped>\n",
       "    .dataframe tbody tr th:only-of-type {\n",
       "        vertical-align: middle;\n",
       "    }\n",
       "\n",
       "    .dataframe tbody tr th {\n",
       "        vertical-align: top;\n",
       "    }\n",
       "\n",
       "    .dataframe thead th {\n",
       "        text-align: right;\n",
       "    }\n",
       "</style>\n",
       "<table border=\"1\" class=\"dataframe\">\n",
       "  <thead>\n",
       "    <tr style=\"text-align: right;\">\n",
       "      <th></th>\n",
       "      <th>user_id</th>\n",
       "      <th>group</th>\n",
       "      <th>ab_test</th>\n",
       "      <th>first_date</th>\n",
       "      <th>region</th>\n",
       "      <th>device</th>\n",
       "    </tr>\n",
       "  </thead>\n",
       "  <tbody>\n",
       "    <tr>\n",
       "      <th>0</th>\n",
       "      <td>D1ABA3E2887B6A73</td>\n",
       "      <td>A</td>\n",
       "      <td>recommender_system_test</td>\n",
       "      <td>2020-12-07</td>\n",
       "      <td>EU</td>\n",
       "      <td>PC</td>\n",
       "    </tr>\n",
       "    <tr>\n",
       "      <th>1</th>\n",
       "      <td>A7A3664BD6242119</td>\n",
       "      <td>A</td>\n",
       "      <td>recommender_system_test</td>\n",
       "      <td>2020-12-20</td>\n",
       "      <td>EU</td>\n",
       "      <td>iPhone</td>\n",
       "    </tr>\n",
       "    <tr>\n",
       "      <th>4</th>\n",
       "      <td>482F14783456D21B</td>\n",
       "      <td>B</td>\n",
       "      <td>recommender_system_test</td>\n",
       "      <td>2020-12-14</td>\n",
       "      <td>EU</td>\n",
       "      <td>PC</td>\n",
       "    </tr>\n",
       "    <tr>\n",
       "      <th>5</th>\n",
       "      <td>4FF2998A348C484F</td>\n",
       "      <td>A</td>\n",
       "      <td>recommender_system_test</td>\n",
       "      <td>2020-12-20</td>\n",
       "      <td>EU</td>\n",
       "      <td>Mac</td>\n",
       "    </tr>\n",
       "    <tr>\n",
       "      <th>6</th>\n",
       "      <td>7473E0943673C09E</td>\n",
       "      <td>A</td>\n",
       "      <td>recommender_system_test</td>\n",
       "      <td>2020-12-16</td>\n",
       "      <td>EU</td>\n",
       "      <td>iPhone</td>\n",
       "    </tr>\n",
       "    <tr>\n",
       "      <th>...</th>\n",
       "      <td>...</td>\n",
       "      <td>...</td>\n",
       "      <td>...</td>\n",
       "      <td>...</td>\n",
       "      <td>...</td>\n",
       "      <td>...</td>\n",
       "    </tr>\n",
       "    <tr>\n",
       "      <th>6696</th>\n",
       "      <td>053FB26D6D49EDDC</td>\n",
       "      <td>A</td>\n",
       "      <td>recommender_system_test</td>\n",
       "      <td>2020-12-10</td>\n",
       "      <td>N.America</td>\n",
       "      <td>Android</td>\n",
       "    </tr>\n",
       "    <tr>\n",
       "      <th>6697</th>\n",
       "      <td>9D263B8EF15CF188</td>\n",
       "      <td>B</td>\n",
       "      <td>recommender_system_test</td>\n",
       "      <td>2020-12-16</td>\n",
       "      <td>N.America</td>\n",
       "      <td>Mac</td>\n",
       "    </tr>\n",
       "    <tr>\n",
       "      <th>6698</th>\n",
       "      <td>F2FBBA33F37DEC46</td>\n",
       "      <td>A</td>\n",
       "      <td>recommender_system_test</td>\n",
       "      <td>2020-12-18</td>\n",
       "      <td>APAC</td>\n",
       "      <td>Mac</td>\n",
       "    </tr>\n",
       "    <tr>\n",
       "      <th>6699</th>\n",
       "      <td>29C92313A98B1176</td>\n",
       "      <td>B</td>\n",
       "      <td>recommender_system_test</td>\n",
       "      <td>2020-12-07</td>\n",
       "      <td>APAC</td>\n",
       "      <td>Android</td>\n",
       "    </tr>\n",
       "    <tr>\n",
       "      <th>6700</th>\n",
       "      <td>6715343AFBA285AE</td>\n",
       "      <td>B</td>\n",
       "      <td>recommender_system_test</td>\n",
       "      <td>2020-12-07</td>\n",
       "      <td>CIS</td>\n",
       "      <td>Android</td>\n",
       "    </tr>\n",
       "  </tbody>\n",
       "</table>\n",
       "<p>5099 rows × 6 columns</p>\n",
       "</div>"
      ],
      "text/plain": [
       "               user_id group                  ab_test first_date     region  \\\n",
       "0     D1ABA3E2887B6A73     A  recommender_system_test 2020-12-07         EU   \n",
       "1     A7A3664BD6242119     A  recommender_system_test 2020-12-20         EU   \n",
       "4     482F14783456D21B     B  recommender_system_test 2020-12-14         EU   \n",
       "5     4FF2998A348C484F     A  recommender_system_test 2020-12-20         EU   \n",
       "6     7473E0943673C09E     A  recommender_system_test 2020-12-16         EU   \n",
       "...                ...   ...                      ...        ...        ...   \n",
       "6696  053FB26D6D49EDDC     A  recommender_system_test 2020-12-10  N.America   \n",
       "6697  9D263B8EF15CF188     B  recommender_system_test 2020-12-16  N.America   \n",
       "6698  F2FBBA33F37DEC46     A  recommender_system_test 2020-12-18       APAC   \n",
       "6699  29C92313A98B1176     B  recommender_system_test 2020-12-07       APAC   \n",
       "6700  6715343AFBA285AE     B  recommender_system_test 2020-12-07        CIS   \n",
       "\n",
       "       device  \n",
       "0          PC  \n",
       "1      iPhone  \n",
       "4          PC  \n",
       "5         Mac  \n",
       "6      iPhone  \n",
       "...       ...  \n",
       "6696  Android  \n",
       "6697      Mac  \n",
       "6698      Mac  \n",
       "6699  Android  \n",
       "6700  Android  \n",
       "\n",
       "[5099 rows x 6 columns]"
      ]
     },
     "execution_count": 27,
     "metadata": {},
     "output_type": "execute_result"
    }
   ],
   "source": [
    "#итоговый датафрейм\n",
    "usr_test_ab_new =  usr_test_ab.query('user_id not in @duplicate[\"user_id\"]')\n",
    "usr_test_ab_new"
   ]
  },
  {
   "cell_type": "code",
   "execution_count": 28,
   "metadata": {},
   "outputs": [
    {
     "name": "stdout",
     "output_type": "stream",
     "text": [
      "<class 'pandas.core.frame.DataFrame'>\n",
      "Int64Index: 21115 entries, 0 to 21114\n",
      "Data columns (total 9 columns):\n",
      " #   Column      Non-Null Count  Dtype         \n",
      "---  ------      --------------  -----         \n",
      " 0   user_id     21115 non-null  object        \n",
      " 1   group       21115 non-null  object        \n",
      " 2   ab_test     21115 non-null  object        \n",
      " 3   first_date  21115 non-null  datetime64[ns]\n",
      " 4   region      21115 non-null  object        \n",
      " 5   device      21115 non-null  object        \n",
      " 6   event_dt    18804 non-null  datetime64[ns]\n",
      " 7   event_name  18804 non-null  object        \n",
      " 8   details     2483 non-null   float64       \n",
      "dtypes: datetime64[ns](2), float64(1), object(6)\n",
      "memory usage: 1.6+ MB\n"
     ]
    }
   ],
   "source": [
    "#соединим логи с событиями и итоговый датафрейм с пользователями\n",
    "test_ab_new = usr_test_ab_new.merge(final_ab_events, on='user_id', how='left')\n",
    "test_ab_new.info()"
   ]
  },
  {
   "cell_type": "markdown",
   "metadata": {},
   "source": [
    "Пропуски есть в столбцах event_dt и event_name, т.е. данные клиенты только зарегистрировались и дальше не продвинулись"
   ]
  },
  {
   "cell_type": "code",
   "execution_count": 29,
   "metadata": {},
   "outputs": [
    {
     "name": "stdout",
     "output_type": "stream",
     "text": [
      "<class 'pandas.core.frame.DataFrame'>\n",
      "Int64Index: 21115 entries, 0 to 21114\n",
      "Data columns (total 9 columns):\n",
      " #   Column      Non-Null Count  Dtype         \n",
      "---  ------      --------------  -----         \n",
      " 0   user_id     21115 non-null  object        \n",
      " 1   group       21115 non-null  object        \n",
      " 2   ab_test     21115 non-null  object        \n",
      " 3   first_date  21115 non-null  datetime64[ns]\n",
      " 4   region      21115 non-null  object        \n",
      " 5   device      21115 non-null  object        \n",
      " 6   event_dt    18804 non-null  datetime64[ns]\n",
      " 7   event_name  21115 non-null  object        \n",
      " 8   details     2483 non-null   float64       \n",
      "dtypes: datetime64[ns](2), float64(1), object(6)\n",
      "memory usage: 1.6+ MB\n"
     ]
    }
   ],
   "source": [
    "#заполним пропуски в event_name значением registration\n",
    "test_ab_new['event_name'] = test_ab_new['event_name'].fillna('registration')\n",
    "test_ab_new.info()"
   ]
  },
  {
   "cell_type": "markdown",
   "metadata": {},
   "source": [
    "Заполнили пропуски в поле event_name значением registration, т.к. пользователи, которые остановились на регистрации нам тоже полезны"
   ]
  },
  {
   "cell_type": "code",
   "execution_count": 30,
   "metadata": {},
   "outputs": [
    {
     "name": "stdout",
     "output_type": "stream",
     "text": [
      "<class 'pandas.core.frame.DataFrame'>\n",
      "Int64Index: 21115 entries, 0 to 21114\n",
      "Data columns (total 9 columns):\n",
      " #   Column      Non-Null Count  Dtype         \n",
      "---  ------      --------------  -----         \n",
      " 0   user_id     21115 non-null  object        \n",
      " 1   group       21115 non-null  object        \n",
      " 2   ab_test     21115 non-null  object        \n",
      " 3   first_date  21115 non-null  datetime64[ns]\n",
      " 4   region      21115 non-null  object        \n",
      " 5   device      21115 non-null  object        \n",
      " 6   event_dt    21115 non-null  datetime64[ns]\n",
      " 7   event_name  21115 non-null  object        \n",
      " 8   details     2483 non-null   float64       \n",
      "dtypes: datetime64[ns](2), float64(1), object(6)\n",
      "memory usage: 1.6+ MB\n"
     ]
    }
   ],
   "source": [
    "#заполним пропуски в event_dt значением из first_date\n",
    "test_ab_new['event_dt'] = test_ab_new['event_dt'].fillna(test_ab_new['first_date'])\n",
    "test_ab_new.info()"
   ]
  },
  {
   "cell_type": "markdown",
   "metadata": {},
   "source": [
    "Заполнили пропуски в поле event_dt значением из first_date, т.к. кроме регистрации, у пользователей событий не было, значит можно считать, что first_date равен event_dt"
   ]
  },
  {
   "cell_type": "code",
   "execution_count": 31,
   "metadata": {},
   "outputs": [
    {
     "data": {
      "text/html": [
       "<div>\n",
       "<style scoped>\n",
       "    .dataframe tbody tr th:only-of-type {\n",
       "        vertical-align: middle;\n",
       "    }\n",
       "\n",
       "    .dataframe tbody tr th {\n",
       "        vertical-align: top;\n",
       "    }\n",
       "\n",
       "    .dataframe thead th {\n",
       "        text-align: right;\n",
       "    }\n",
       "</style>\n",
       "<table border=\"1\" class=\"dataframe\">\n",
       "  <thead>\n",
       "    <tr style=\"text-align: right;\">\n",
       "      <th></th>\n",
       "      <th>user_id</th>\n",
       "      <th>group</th>\n",
       "      <th>ab_test</th>\n",
       "      <th>first_date</th>\n",
       "      <th>region</th>\n",
       "      <th>device</th>\n",
       "      <th>event_dt</th>\n",
       "      <th>day</th>\n",
       "      <th>event_name</th>\n",
       "      <th>details</th>\n",
       "    </tr>\n",
       "  </thead>\n",
       "  <tbody>\n",
       "    <tr>\n",
       "      <th>0</th>\n",
       "      <td>D1ABA3E2887B6A73</td>\n",
       "      <td>A</td>\n",
       "      <td>recommender_system_test</td>\n",
       "      <td>2020-12-07</td>\n",
       "      <td>EU</td>\n",
       "      <td>PC</td>\n",
       "      <td>2020-12-07 14:43:27</td>\n",
       "      <td>7</td>\n",
       "      <td>purchase</td>\n",
       "      <td>99.99</td>\n",
       "    </tr>\n",
       "    <tr>\n",
       "      <th>1</th>\n",
       "      <td>D1ABA3E2887B6A73</td>\n",
       "      <td>A</td>\n",
       "      <td>recommender_system_test</td>\n",
       "      <td>2020-12-07</td>\n",
       "      <td>EU</td>\n",
       "      <td>PC</td>\n",
       "      <td>2020-12-25 00:04:56</td>\n",
       "      <td>25</td>\n",
       "      <td>purchase</td>\n",
       "      <td>4.99</td>\n",
       "    </tr>\n",
       "    <tr>\n",
       "      <th>2</th>\n",
       "      <td>D1ABA3E2887B6A73</td>\n",
       "      <td>A</td>\n",
       "      <td>recommender_system_test</td>\n",
       "      <td>2020-12-07</td>\n",
       "      <td>EU</td>\n",
       "      <td>PC</td>\n",
       "      <td>2020-12-07 14:43:29</td>\n",
       "      <td>7</td>\n",
       "      <td>product_cart</td>\n",
       "      <td>NaN</td>\n",
       "    </tr>\n",
       "    <tr>\n",
       "      <th>3</th>\n",
       "      <td>D1ABA3E2887B6A73</td>\n",
       "      <td>A</td>\n",
       "      <td>recommender_system_test</td>\n",
       "      <td>2020-12-07</td>\n",
       "      <td>EU</td>\n",
       "      <td>PC</td>\n",
       "      <td>2020-12-25 00:04:57</td>\n",
       "      <td>25</td>\n",
       "      <td>product_cart</td>\n",
       "      <td>NaN</td>\n",
       "    </tr>\n",
       "    <tr>\n",
       "      <th>4</th>\n",
       "      <td>D1ABA3E2887B6A73</td>\n",
       "      <td>A</td>\n",
       "      <td>recommender_system_test</td>\n",
       "      <td>2020-12-07</td>\n",
       "      <td>EU</td>\n",
       "      <td>PC</td>\n",
       "      <td>2020-12-07 14:43:27</td>\n",
       "      <td>7</td>\n",
       "      <td>product_page</td>\n",
       "      <td>NaN</td>\n",
       "    </tr>\n",
       "    <tr>\n",
       "      <th>...</th>\n",
       "      <td>...</td>\n",
       "      <td>...</td>\n",
       "      <td>...</td>\n",
       "      <td>...</td>\n",
       "      <td>...</td>\n",
       "      <td>...</td>\n",
       "      <td>...</td>\n",
       "      <td>...</td>\n",
       "      <td>...</td>\n",
       "      <td>...</td>\n",
       "    </tr>\n",
       "    <tr>\n",
       "      <th>21110</th>\n",
       "      <td>6715343AFBA285AE</td>\n",
       "      <td>B</td>\n",
       "      <td>recommender_system_test</td>\n",
       "      <td>2020-12-07</td>\n",
       "      <td>CIS</td>\n",
       "      <td>Android</td>\n",
       "      <td>2020-12-07 10:12:15</td>\n",
       "      <td>7</td>\n",
       "      <td>login</td>\n",
       "      <td>NaN</td>\n",
       "    </tr>\n",
       "    <tr>\n",
       "      <th>21111</th>\n",
       "      <td>6715343AFBA285AE</td>\n",
       "      <td>B</td>\n",
       "      <td>recommender_system_test</td>\n",
       "      <td>2020-12-07</td>\n",
       "      <td>CIS</td>\n",
       "      <td>Android</td>\n",
       "      <td>2020-12-08 22:51:16</td>\n",
       "      <td>8</td>\n",
       "      <td>login</td>\n",
       "      <td>NaN</td>\n",
       "    </tr>\n",
       "    <tr>\n",
       "      <th>21112</th>\n",
       "      <td>6715343AFBA285AE</td>\n",
       "      <td>B</td>\n",
       "      <td>recommender_system_test</td>\n",
       "      <td>2020-12-07</td>\n",
       "      <td>CIS</td>\n",
       "      <td>Android</td>\n",
       "      <td>2020-12-09 02:28:03</td>\n",
       "      <td>9</td>\n",
       "      <td>login</td>\n",
       "      <td>NaN</td>\n",
       "    </tr>\n",
       "    <tr>\n",
       "      <th>21113</th>\n",
       "      <td>6715343AFBA285AE</td>\n",
       "      <td>B</td>\n",
       "      <td>recommender_system_test</td>\n",
       "      <td>2020-12-07</td>\n",
       "      <td>CIS</td>\n",
       "      <td>Android</td>\n",
       "      <td>2020-12-10 22:55:14</td>\n",
       "      <td>10</td>\n",
       "      <td>login</td>\n",
       "      <td>NaN</td>\n",
       "    </tr>\n",
       "    <tr>\n",
       "      <th>21114</th>\n",
       "      <td>6715343AFBA285AE</td>\n",
       "      <td>B</td>\n",
       "      <td>recommender_system_test</td>\n",
       "      <td>2020-12-07</td>\n",
       "      <td>CIS</td>\n",
       "      <td>Android</td>\n",
       "      <td>2020-12-14 12:40:41</td>\n",
       "      <td>14</td>\n",
       "      <td>login</td>\n",
       "      <td>NaN</td>\n",
       "    </tr>\n",
       "  </tbody>\n",
       "</table>\n",
       "<p>21115 rows × 10 columns</p>\n",
       "</div>"
      ],
      "text/plain": [
       "                user_id group                  ab_test first_date region  \\\n",
       "0      D1ABA3E2887B6A73     A  recommender_system_test 2020-12-07     EU   \n",
       "1      D1ABA3E2887B6A73     A  recommender_system_test 2020-12-07     EU   \n",
       "2      D1ABA3E2887B6A73     A  recommender_system_test 2020-12-07     EU   \n",
       "3      D1ABA3E2887B6A73     A  recommender_system_test 2020-12-07     EU   \n",
       "4      D1ABA3E2887B6A73     A  recommender_system_test 2020-12-07     EU   \n",
       "...                 ...   ...                      ...        ...    ...   \n",
       "21110  6715343AFBA285AE     B  recommender_system_test 2020-12-07    CIS   \n",
       "21111  6715343AFBA285AE     B  recommender_system_test 2020-12-07    CIS   \n",
       "21112  6715343AFBA285AE     B  recommender_system_test 2020-12-07    CIS   \n",
       "21113  6715343AFBA285AE     B  recommender_system_test 2020-12-07    CIS   \n",
       "21114  6715343AFBA285AE     B  recommender_system_test 2020-12-07    CIS   \n",
       "\n",
       "        device            event_dt  day    event_name  details  \n",
       "0           PC 2020-12-07 14:43:27    7      purchase    99.99  \n",
       "1           PC 2020-12-25 00:04:56   25      purchase     4.99  \n",
       "2           PC 2020-12-07 14:43:29    7  product_cart      NaN  \n",
       "3           PC 2020-12-25 00:04:57   25  product_cart      NaN  \n",
       "4           PC 2020-12-07 14:43:27    7  product_page      NaN  \n",
       "...        ...                 ...  ...           ...      ...  \n",
       "21110  Android 2020-12-07 10:12:15    7         login      NaN  \n",
       "21111  Android 2020-12-08 22:51:16    8         login      NaN  \n",
       "21112  Android 2020-12-09 02:28:03    9         login      NaN  \n",
       "21113  Android 2020-12-10 22:55:14   10         login      NaN  \n",
       "21114  Android 2020-12-14 12:40:41   14         login      NaN  \n",
       "\n",
       "[21115 rows x 10 columns]"
      ]
     },
     "execution_count": 31,
     "metadata": {},
     "output_type": "execute_result"
    }
   ],
   "source": [
    "#добавим поле с датами событий\n",
    "test_ab_new.insert(7, 'day', test_ab_new['event_dt'].dt.day, True)\n",
    "test_ab_new"
   ]
  },
  {
   "cell_type": "code",
   "execution_count": 32,
   "metadata": {},
   "outputs": [
    {
     "data": {
      "text/plain": [
       "5099"
      ]
     },
     "execution_count": 32,
     "metadata": {},
     "output_type": "execute_result"
    }
   ],
   "source": [
    "#посмотрим, что все 5099 уникальных клиентов фигурируют в итоговом датафрейм с логами\n",
    "total_test = test_ab_new['user_id'].nunique()\n",
    "total_test"
   ]
  },
  {
   "cell_type": "code",
   "execution_count": 33,
   "metadata": {},
   "outputs": [
    {
     "data": {
      "text/plain": [
       "21115"
      ]
     },
     "execution_count": 33,
     "metadata": {},
     "output_type": "execute_result"
    }
   ],
   "source": [
    "#посмотрим сколько всего событий в итоговом датафрейме\n",
    "total = test_ab_new['event_name'].count()\n",
    "total"
   ]
  },
  {
   "cell_type": "code",
   "execution_count": 34,
   "metadata": {},
   "outputs": [
    {
     "data": {
      "text/html": [
       "<div>\n",
       "<style scoped>\n",
       "    .dataframe tbody tr th:only-of-type {\n",
       "        vertical-align: middle;\n",
       "    }\n",
       "\n",
       "    .dataframe tbody tr th {\n",
       "        vertical-align: top;\n",
       "    }\n",
       "\n",
       "    .dataframe thead th {\n",
       "        text-align: right;\n",
       "    }\n",
       "</style>\n",
       "<table border=\"1\" class=\"dataframe\">\n",
       "  <thead>\n",
       "    <tr style=\"text-align: right;\">\n",
       "      <th></th>\n",
       "      <th>name</th>\n",
       "      <th>regions</th>\n",
       "      <th>start_dt</th>\n",
       "      <th>finish_dt</th>\n",
       "    </tr>\n",
       "  </thead>\n",
       "  <tbody>\n",
       "    <tr>\n",
       "      <th>6</th>\n",
       "      <td>Chinese New Year Promo</td>\n",
       "      <td>APAC</td>\n",
       "      <td>2020-01-25</td>\n",
       "      <td>2020-02-07</td>\n",
       "    </tr>\n",
       "    <tr>\n",
       "      <th>1</th>\n",
       "      <td>St. Valentine's Day Giveaway</td>\n",
       "      <td>EU, CIS, APAC, N.America</td>\n",
       "      <td>2020-02-14</td>\n",
       "      <td>2020-02-16</td>\n",
       "    </tr>\n",
       "    <tr>\n",
       "      <th>8</th>\n",
       "      <td>International Women's Day Promo</td>\n",
       "      <td>EU, CIS, APAC</td>\n",
       "      <td>2020-03-08</td>\n",
       "      <td>2020-03-10</td>\n",
       "    </tr>\n",
       "    <tr>\n",
       "      <th>2</th>\n",
       "      <td>St. Patric's Day Promo</td>\n",
       "      <td>EU, N.America</td>\n",
       "      <td>2020-03-17</td>\n",
       "      <td>2020-03-19</td>\n",
       "    </tr>\n",
       "    <tr>\n",
       "      <th>3</th>\n",
       "      <td>Easter Promo</td>\n",
       "      <td>EU, CIS, APAC, N.America</td>\n",
       "      <td>2020-04-12</td>\n",
       "      <td>2020-04-19</td>\n",
       "    </tr>\n",
       "    <tr>\n",
       "      <th>7</th>\n",
       "      <td>Labor day (May 1st) Ads Campaign</td>\n",
       "      <td>EU, CIS, APAC</td>\n",
       "      <td>2020-05-01</td>\n",
       "      <td>2020-05-03</td>\n",
       "    </tr>\n",
       "    <tr>\n",
       "      <th>9</th>\n",
       "      <td>Victory Day CIS (May 9th) Event</td>\n",
       "      <td>CIS</td>\n",
       "      <td>2020-05-09</td>\n",
       "      <td>2020-05-11</td>\n",
       "    </tr>\n",
       "    <tr>\n",
       "      <th>11</th>\n",
       "      <td>Dragon Boat Festival Giveaway</td>\n",
       "      <td>APAC</td>\n",
       "      <td>2020-06-25</td>\n",
       "      <td>2020-07-01</td>\n",
       "    </tr>\n",
       "    <tr>\n",
       "      <th>4</th>\n",
       "      <td>4th of July Promo</td>\n",
       "      <td>N.America</td>\n",
       "      <td>2020-07-04</td>\n",
       "      <td>2020-07-11</td>\n",
       "    </tr>\n",
       "    <tr>\n",
       "      <th>13</th>\n",
       "      <td>Chinese Moon Festival</td>\n",
       "      <td>APAC</td>\n",
       "      <td>2020-10-01</td>\n",
       "      <td>2020-10-07</td>\n",
       "    </tr>\n",
       "    <tr>\n",
       "      <th>12</th>\n",
       "      <td>Single's Day Gift Promo</td>\n",
       "      <td>APAC</td>\n",
       "      <td>2020-11-11</td>\n",
       "      <td>2020-11-12</td>\n",
       "    </tr>\n",
       "    <tr>\n",
       "      <th>5</th>\n",
       "      <td>Black Friday Ads Campaign</td>\n",
       "      <td>EU, CIS, APAC, N.America</td>\n",
       "      <td>2020-11-26</td>\n",
       "      <td>2020-12-01</td>\n",
       "    </tr>\n",
       "    <tr>\n",
       "      <th>0</th>\n",
       "      <td>Christmas&amp;New Year Promo</td>\n",
       "      <td>EU, N.America</td>\n",
       "      <td>2020-12-25</td>\n",
       "      <td>2021-01-03</td>\n",
       "    </tr>\n",
       "    <tr>\n",
       "      <th>10</th>\n",
       "      <td>CIS New Year Gift Lottery</td>\n",
       "      <td>CIS</td>\n",
       "      <td>2020-12-30</td>\n",
       "      <td>2021-01-07</td>\n",
       "    </tr>\n",
       "  </tbody>\n",
       "</table>\n",
       "</div>"
      ],
      "text/plain": [
       "                                name                   regions   start_dt  \\\n",
       "6             Chinese New Year Promo                      APAC 2020-01-25   \n",
       "1       St. Valentine's Day Giveaway  EU, CIS, APAC, N.America 2020-02-14   \n",
       "8    International Women's Day Promo             EU, CIS, APAC 2020-03-08   \n",
       "2             St. Patric's Day Promo             EU, N.America 2020-03-17   \n",
       "3                       Easter Promo  EU, CIS, APAC, N.America 2020-04-12   \n",
       "7   Labor day (May 1st) Ads Campaign             EU, CIS, APAC 2020-05-01   \n",
       "9    Victory Day CIS (May 9th) Event                       CIS 2020-05-09   \n",
       "11     Dragon Boat Festival Giveaway                      APAC 2020-06-25   \n",
       "4                  4th of July Promo                 N.America 2020-07-04   \n",
       "13             Chinese Moon Festival                      APAC 2020-10-01   \n",
       "12           Single's Day Gift Promo                      APAC 2020-11-11   \n",
       "5          Black Friday Ads Campaign  EU, CIS, APAC, N.America 2020-11-26   \n",
       "0           Christmas&New Year Promo             EU, N.America 2020-12-25   \n",
       "10         CIS New Year Gift Lottery                       CIS 2020-12-30   \n",
       "\n",
       "    finish_dt  \n",
       "6  2020-02-07  \n",
       "1  2020-02-16  \n",
       "8  2020-03-10  \n",
       "2  2020-03-19  \n",
       "3  2020-04-19  \n",
       "7  2020-05-03  \n",
       "9  2020-05-11  \n",
       "11 2020-07-01  \n",
       "4  2020-07-11  \n",
       "13 2020-10-07  \n",
       "12 2020-11-12  \n",
       "5  2020-12-01  \n",
       "0  2021-01-03  \n",
       "10 2021-01-07  "
      ]
     },
     "execution_count": 34,
     "metadata": {},
     "output_type": "execute_result"
    }
   ],
   "source": [
    "ab_project_marketing_events.sort_values(by='start_dt')"
   ]
  },
  {
   "cell_type": "code",
   "execution_count": 35,
   "metadata": {},
   "outputs": [
    {
     "name": "stdout",
     "output_type": "stream",
     "text": [
      "Всего событий в итоговом датафрейме - 20640\n"
     ]
    }
   ],
   "source": [
    "#удалим события,которые произошли через 14 после регистрации\n",
    "test_ab_new['delta'] = test_ab_new['event_dt'] -  test_ab_new['first_date']\n",
    "d15 = pd.Timedelta(days=15)\n",
    "test_ab_new = test_ab_new[test_ab_new[ 'delta' ] <= d15].copy()\n",
    "print('Всего событий в итоговом датафрейме -', test_ab_new['event_name'].count())"
   ]
  },
  {
   "cell_type": "code",
   "execution_count": 36,
   "metadata": {},
   "outputs": [
    {
     "name": "stdout",
     "output_type": "stream",
     "text": [
      "Удалено - 2 %\n"
     ]
    }
   ],
   "source": [
    "print('Удалено -', round(100-(test_ab_new['event_name'].count()/total*100)),'%')"
   ]
  },
  {
   "cell_type": "markdown",
   "metadata": {},
   "source": [
    "Удалено 2% от изначального кол-ва событий"
   ]
  },
  {
   "cell_type": "code",
   "execution_count": 37,
   "metadata": {},
   "outputs": [
    {
     "data": {
      "text/html": [
       "<div>\n",
       "<style scoped>\n",
       "    .dataframe tbody tr th:only-of-type {\n",
       "        vertical-align: middle;\n",
       "    }\n",
       "\n",
       "    .dataframe tbody tr th {\n",
       "        vertical-align: top;\n",
       "    }\n",
       "\n",
       "    .dataframe thead th {\n",
       "        text-align: right;\n",
       "    }\n",
       "</style>\n",
       "<table border=\"1\" class=\"dataframe\">\n",
       "  <thead>\n",
       "    <tr style=\"text-align: right;\">\n",
       "      <th></th>\n",
       "      <th>user_id</th>\n",
       "      <th>group</th>\n",
       "      <th>ab_test</th>\n",
       "      <th>first_date</th>\n",
       "      <th>region</th>\n",
       "      <th>device</th>\n",
       "      <th>event_dt</th>\n",
       "      <th>day</th>\n",
       "      <th>event_name</th>\n",
       "      <th>details</th>\n",
       "      <th>delta</th>\n",
       "    </tr>\n",
       "  </thead>\n",
       "  <tbody>\n",
       "    <tr>\n",
       "      <th>14903</th>\n",
       "      <td>6E3DF9C69A6B607E</td>\n",
       "      <td>A</td>\n",
       "      <td>recommender_system_test</td>\n",
       "      <td>2020-12-14</td>\n",
       "      <td>EU</td>\n",
       "      <td>iPhone</td>\n",
       "      <td>2020-12-28 23:22:32</td>\n",
       "      <td>28</td>\n",
       "      <td>product_page</td>\n",
       "      <td>NaN</td>\n",
       "      <td>14 days 23:22:32</td>\n",
       "    </tr>\n",
       "    <tr>\n",
       "      <th>14910</th>\n",
       "      <td>6E3DF9C69A6B607E</td>\n",
       "      <td>A</td>\n",
       "      <td>recommender_system_test</td>\n",
       "      <td>2020-12-14</td>\n",
       "      <td>EU</td>\n",
       "      <td>iPhone</td>\n",
       "      <td>2020-12-28 23:22:32</td>\n",
       "      <td>28</td>\n",
       "      <td>login</td>\n",
       "      <td>NaN</td>\n",
       "      <td>14 days 23:22:32</td>\n",
       "    </tr>\n",
       "    <tr>\n",
       "      <th>14896</th>\n",
       "      <td>6E3DF9C69A6B607E</td>\n",
       "      <td>A</td>\n",
       "      <td>recommender_system_test</td>\n",
       "      <td>2020-12-14</td>\n",
       "      <td>EU</td>\n",
       "      <td>iPhone</td>\n",
       "      <td>2020-12-28 23:22:32</td>\n",
       "      <td>28</td>\n",
       "      <td>product_cart</td>\n",
       "      <td>NaN</td>\n",
       "      <td>14 days 23:22:32</td>\n",
       "    </tr>\n",
       "    <tr>\n",
       "      <th>4289</th>\n",
       "      <td>EAA6967BB9807DF2</td>\n",
       "      <td>A</td>\n",
       "      <td>recommender_system_test</td>\n",
       "      <td>2020-12-08</td>\n",
       "      <td>EU</td>\n",
       "      <td>PC</td>\n",
       "      <td>2020-12-22 22:54:40</td>\n",
       "      <td>22</td>\n",
       "      <td>product_page</td>\n",
       "      <td>NaN</td>\n",
       "      <td>14 days 22:54:40</td>\n",
       "    </tr>\n",
       "    <tr>\n",
       "      <th>4293</th>\n",
       "      <td>EAA6967BB9807DF2</td>\n",
       "      <td>A</td>\n",
       "      <td>recommender_system_test</td>\n",
       "      <td>2020-12-08</td>\n",
       "      <td>EU</td>\n",
       "      <td>PC</td>\n",
       "      <td>2020-12-22 22:54:38</td>\n",
       "      <td>22</td>\n",
       "      <td>login</td>\n",
       "      <td>NaN</td>\n",
       "      <td>14 days 22:54:38</td>\n",
       "    </tr>\n",
       "    <tr>\n",
       "      <th>...</th>\n",
       "      <td>...</td>\n",
       "      <td>...</td>\n",
       "      <td>...</td>\n",
       "      <td>...</td>\n",
       "      <td>...</td>\n",
       "      <td>...</td>\n",
       "      <td>...</td>\n",
       "      <td>...</td>\n",
       "      <td>...</td>\n",
       "      <td>...</td>\n",
       "      <td>...</td>\n",
       "    </tr>\n",
       "    <tr>\n",
       "      <th>19104</th>\n",
       "      <td>08530541B3E53C8A</td>\n",
       "      <td>B</td>\n",
       "      <td>recommender_system_test</td>\n",
       "      <td>2020-12-21</td>\n",
       "      <td>EU</td>\n",
       "      <td>iPhone</td>\n",
       "      <td>2020-12-21 00:00:00</td>\n",
       "      <td>21</td>\n",
       "      <td>registration</td>\n",
       "      <td>NaN</td>\n",
       "      <td>0 days 00:00:00</td>\n",
       "    </tr>\n",
       "    <tr>\n",
       "      <th>19105</th>\n",
       "      <td>3A8B9884EF17D2B3</td>\n",
       "      <td>A</td>\n",
       "      <td>recommender_system_test</td>\n",
       "      <td>2020-12-08</td>\n",
       "      <td>EU</td>\n",
       "      <td>iPhone</td>\n",
       "      <td>2020-12-08 00:00:00</td>\n",
       "      <td>8</td>\n",
       "      <td>registration</td>\n",
       "      <td>NaN</td>\n",
       "      <td>0 days 00:00:00</td>\n",
       "    </tr>\n",
       "    <tr>\n",
       "      <th>19106</th>\n",
       "      <td>E6BD9A774D155DEE</td>\n",
       "      <td>A</td>\n",
       "      <td>recommender_system_test</td>\n",
       "      <td>2020-12-08</td>\n",
       "      <td>EU</td>\n",
       "      <td>PC</td>\n",
       "      <td>2020-12-08 00:00:00</td>\n",
       "      <td>8</td>\n",
       "      <td>registration</td>\n",
       "      <td>NaN</td>\n",
       "      <td>0 days 00:00:00</td>\n",
       "    </tr>\n",
       "    <tr>\n",
       "      <th>19107</th>\n",
       "      <td>53F5CBB3C34747E5</td>\n",
       "      <td>A</td>\n",
       "      <td>recommender_system_test</td>\n",
       "      <td>2020-12-12</td>\n",
       "      <td>EU</td>\n",
       "      <td>iPhone</td>\n",
       "      <td>2020-12-12 00:00:00</td>\n",
       "      <td>12</td>\n",
       "      <td>registration</td>\n",
       "      <td>NaN</td>\n",
       "      <td>0 days 00:00:00</td>\n",
       "    </tr>\n",
       "    <tr>\n",
       "      <th>14872</th>\n",
       "      <td>91476358F67AAE80</td>\n",
       "      <td>B</td>\n",
       "      <td>recommender_system_test</td>\n",
       "      <td>2020-12-15</td>\n",
       "      <td>EU</td>\n",
       "      <td>PC</td>\n",
       "      <td>2020-12-15 00:00:00</td>\n",
       "      <td>15</td>\n",
       "      <td>registration</td>\n",
       "      <td>NaN</td>\n",
       "      <td>0 days 00:00:00</td>\n",
       "    </tr>\n",
       "  </tbody>\n",
       "</table>\n",
       "<p>20640 rows × 11 columns</p>\n",
       "</div>"
      ],
      "text/plain": [
       "                user_id group                  ab_test first_date region  \\\n",
       "14903  6E3DF9C69A6B607E     A  recommender_system_test 2020-12-14     EU   \n",
       "14910  6E3DF9C69A6B607E     A  recommender_system_test 2020-12-14     EU   \n",
       "14896  6E3DF9C69A6B607E     A  recommender_system_test 2020-12-14     EU   \n",
       "4289   EAA6967BB9807DF2     A  recommender_system_test 2020-12-08     EU   \n",
       "4293   EAA6967BB9807DF2     A  recommender_system_test 2020-12-08     EU   \n",
       "...                 ...   ...                      ...        ...    ...   \n",
       "19104  08530541B3E53C8A     B  recommender_system_test 2020-12-21     EU   \n",
       "19105  3A8B9884EF17D2B3     A  recommender_system_test 2020-12-08     EU   \n",
       "19106  E6BD9A774D155DEE     A  recommender_system_test 2020-12-08     EU   \n",
       "19107  53F5CBB3C34747E5     A  recommender_system_test 2020-12-12     EU   \n",
       "14872  91476358F67AAE80     B  recommender_system_test 2020-12-15     EU   \n",
       "\n",
       "       device            event_dt  day    event_name  details            delta  \n",
       "14903  iPhone 2020-12-28 23:22:32   28  product_page      NaN 14 days 23:22:32  \n",
       "14910  iPhone 2020-12-28 23:22:32   28         login      NaN 14 days 23:22:32  \n",
       "14896  iPhone 2020-12-28 23:22:32   28  product_cart      NaN 14 days 23:22:32  \n",
       "4289       PC 2020-12-22 22:54:40   22  product_page      NaN 14 days 22:54:40  \n",
       "4293       PC 2020-12-22 22:54:38   22         login      NaN 14 days 22:54:38  \n",
       "...       ...                 ...  ...           ...      ...              ...  \n",
       "19104  iPhone 2020-12-21 00:00:00   21  registration      NaN  0 days 00:00:00  \n",
       "19105  iPhone 2020-12-08 00:00:00    8  registration      NaN  0 days 00:00:00  \n",
       "19106      PC 2020-12-08 00:00:00    8  registration      NaN  0 days 00:00:00  \n",
       "19107  iPhone 2020-12-12 00:00:00   12  registration      NaN  0 days 00:00:00  \n",
       "14872      PC 2020-12-15 00:00:00   15  registration      NaN  0 days 00:00:00  \n",
       "\n",
       "[20640 rows x 11 columns]"
      ]
     },
     "execution_count": 37,
     "metadata": {},
     "output_type": "execute_result"
    }
   ],
   "source": [
    "test_ab_new.sort_values(by='delta', ascending=False)"
   ]
  },
  {
   "cell_type": "code",
   "execution_count": 38,
   "metadata": {},
   "outputs": [
    {
     "data": {
      "text/html": [
       "<div>\n",
       "<style scoped>\n",
       "    .dataframe tbody tr th:only-of-type {\n",
       "        vertical-align: middle;\n",
       "    }\n",
       "\n",
       "    .dataframe tbody tr th {\n",
       "        vertical-align: top;\n",
       "    }\n",
       "\n",
       "    .dataframe thead th {\n",
       "        text-align: right;\n",
       "    }\n",
       "</style>\n",
       "<table border=\"1\" class=\"dataframe\">\n",
       "  <thead>\n",
       "    <tr style=\"text-align: right;\">\n",
       "      <th></th>\n",
       "      <th>user_id</th>\n",
       "      <th>ratio</th>\n",
       "    </tr>\n",
       "    <tr>\n",
       "      <th>region</th>\n",
       "      <th></th>\n",
       "      <th></th>\n",
       "    </tr>\n",
       "  </thead>\n",
       "  <tbody>\n",
       "    <tr>\n",
       "      <th>EU</th>\n",
       "      <td>4749</td>\n",
       "      <td>93.14</td>\n",
       "    </tr>\n",
       "    <tr>\n",
       "      <th>N.America</th>\n",
       "      <td>223</td>\n",
       "      <td>4.37</td>\n",
       "    </tr>\n",
       "    <tr>\n",
       "      <th>APAC</th>\n",
       "      <td>72</td>\n",
       "      <td>1.41</td>\n",
       "    </tr>\n",
       "    <tr>\n",
       "      <th>CIS</th>\n",
       "      <td>55</td>\n",
       "      <td>1.08</td>\n",
       "    </tr>\n",
       "  </tbody>\n",
       "</table>\n",
       "</div>"
      ],
      "text/plain": [
       "           user_id  ratio\n",
       "region                   \n",
       "EU            4749  93.14\n",
       "N.America      223   4.37\n",
       "APAC            72   1.41\n",
       "CIS             55   1.08"
      ]
     },
     "execution_count": 38,
     "metadata": {},
     "output_type": "execute_result"
    }
   ],
   "source": [
    "#распределение пользователей теста по региональной принадлежности\n",
    "region = test_ab_new.groupby('region').agg({'user_id':'nunique'}).sort_values(by='user_id', ascending=False)\n",
    "region['ratio'] = round(region['user_id']/total_test*100, 2)\n",
    "region"
   ]
  },
  {
   "cell_type": "markdown",
   "metadata": {},
   "source": [
    "Из EU 93%, N.America 4% и по APAC и CIS 1% \t"
   ]
  },
  {
   "cell_type": "markdown",
   "metadata": {},
   "source": [
    " - После удаления пересекающихся идентификаторов (id) мы потеряли 24% исходных данных \n",
    " - События совершенны через 14 дней после даты регистрации\n",
    " - В результате фильтрации и удаления данных мы потеряли 2% событий от изначального количества\n",
    " - После очистки наблюдается неравномерное распределение пользователей между группами A и B: группа A больше на 32% по сравнению с группой B\n",
    " - Большинство пользователей (93%) — это Европа (EU). 4% пользователей находятся в Северной Америке (N.America), а по 1% пользователей находятся в других регионах — Азиатско-Тихоокеанском регионе (APAC) и СНГ (CIS)\t\n",
    " - Из-за праздников тест закончился раньше, что повлияло на объем данных.\n",
    "\n",
    "**С точки зрения соответствия ТЗ можно сделать следующие выводы:**\n",
    " - Частично соблюдены требования ТЗ в отношении дат начала и окончания теста, так как дата начала теста не была изменена, но тест закончился раньше запланированного срока;\n",
    " - Было соблюдено условие ТЗ, касающееся количества новых пользователей из региона EU: 15%\n",
    " - В связи с потерями данных после удаления пересекающихся id, ожидаемый объем выборки в 6000 человек не был достигнут полностью, однако достигнуто 5 тыс. пользователей, что составляет около 83% от запланированного\n",
    " - Было соблюдено условие ТЗ относительно проверки изменения метрик за 14 дней после регистрации пользователей."
   ]
  },
  {
   "cell_type": "markdown",
   "metadata": {},
   "source": [
    "## Иследовательский анализ данных"
   ]
  },
  {
   "cell_type": "code",
   "execution_count": 39,
   "metadata": {},
   "outputs": [
    {
     "data": {
      "text/html": [
       "<div>\n",
       "<style scoped>\n",
       "    .dataframe tbody tr th:only-of-type {\n",
       "        vertical-align: middle;\n",
       "    }\n",
       "\n",
       "    .dataframe tbody tr th {\n",
       "        vertical-align: top;\n",
       "    }\n",
       "\n",
       "    .dataframe thead th {\n",
       "        text-align: right;\n",
       "    }\n",
       "</style>\n",
       "<table border=\"1\" class=\"dataframe\">\n",
       "  <thead>\n",
       "    <tr style=\"text-align: right;\">\n",
       "      <th></th>\n",
       "      <th>event_name</th>\n",
       "    </tr>\n",
       "  </thead>\n",
       "  <tbody>\n",
       "    <tr>\n",
       "      <th>count</th>\n",
       "      <td>2903.000000</td>\n",
       "    </tr>\n",
       "    <tr>\n",
       "      <th>mean</th>\n",
       "      <td>5.263520</td>\n",
       "    </tr>\n",
       "    <tr>\n",
       "      <th>std</th>\n",
       "      <td>4.222507</td>\n",
       "    </tr>\n",
       "    <tr>\n",
       "      <th>min</th>\n",
       "      <td>1.000000</td>\n",
       "    </tr>\n",
       "    <tr>\n",
       "      <th>25%</th>\n",
       "      <td>1.000000</td>\n",
       "    </tr>\n",
       "    <tr>\n",
       "      <th>50%</th>\n",
       "      <td>4.000000</td>\n",
       "    </tr>\n",
       "    <tr>\n",
       "      <th>75%</th>\n",
       "      <td>8.000000</td>\n",
       "    </tr>\n",
       "    <tr>\n",
       "      <th>max</th>\n",
       "      <td>24.000000</td>\n",
       "    </tr>\n",
       "  </tbody>\n",
       "</table>\n",
       "</div>"
      ],
      "text/plain": [
       "        event_name\n",
       "count  2903.000000\n",
       "mean      5.263520\n",
       "std       4.222507\n",
       "min       1.000000\n",
       "25%       1.000000\n",
       "50%       4.000000\n",
       "75%       8.000000\n",
       "max      24.000000"
      ]
     },
     "execution_count": 39,
     "metadata": {},
     "output_type": "execute_result"
    }
   ],
   "source": [
    "#посмотрим распределение кол-во событий на одного пользователя\n",
    "test_ab_new.query('group == \"A\"').groupby('user_id').agg({'event_name':'count'}).describe()"
   ]
  },
  {
   "cell_type": "code",
   "execution_count": 40,
   "metadata": {},
   "outputs": [
    {
     "data": {
      "text/html": [
       "<div>\n",
       "<style scoped>\n",
       "    .dataframe tbody tr th:only-of-type {\n",
       "        vertical-align: middle;\n",
       "    }\n",
       "\n",
       "    .dataframe tbody tr th {\n",
       "        vertical-align: top;\n",
       "    }\n",
       "\n",
       "    .dataframe thead th {\n",
       "        text-align: right;\n",
       "    }\n",
       "</style>\n",
       "<table border=\"1\" class=\"dataframe\">\n",
       "  <thead>\n",
       "    <tr style=\"text-align: right;\">\n",
       "      <th></th>\n",
       "      <th>event_name</th>\n",
       "    </tr>\n",
       "  </thead>\n",
       "  <tbody>\n",
       "    <tr>\n",
       "      <th>count</th>\n",
       "      <td>2196.000000</td>\n",
       "    </tr>\n",
       "    <tr>\n",
       "      <th>mean</th>\n",
       "      <td>2.440801</td>\n",
       "    </tr>\n",
       "    <tr>\n",
       "      <th>std</th>\n",
       "      <td>2.819013</td>\n",
       "    </tr>\n",
       "    <tr>\n",
       "      <th>min</th>\n",
       "      <td>1.000000</td>\n",
       "    </tr>\n",
       "    <tr>\n",
       "      <th>25%</th>\n",
       "      <td>1.000000</td>\n",
       "    </tr>\n",
       "    <tr>\n",
       "      <th>50%</th>\n",
       "      <td>1.000000</td>\n",
       "    </tr>\n",
       "    <tr>\n",
       "      <th>75%</th>\n",
       "      <td>3.000000</td>\n",
       "    </tr>\n",
       "    <tr>\n",
       "      <th>max</th>\n",
       "      <td>24.000000</td>\n",
       "    </tr>\n",
       "  </tbody>\n",
       "</table>\n",
       "</div>"
      ],
      "text/plain": [
       "        event_name\n",
       "count  2196.000000\n",
       "mean      2.440801\n",
       "std       2.819013\n",
       "min       1.000000\n",
       "25%       1.000000\n",
       "50%       1.000000\n",
       "75%       3.000000\n",
       "max      24.000000"
      ]
     },
     "execution_count": 40,
     "metadata": {},
     "output_type": "execute_result"
    }
   ],
   "source": [
    "test_ab_new.query('group == \"B\"').groupby('user_id').agg({'event_name':'count'}).describe()"
   ]
  },
  {
   "cell_type": "markdown",
   "metadata": {},
   "source": [
    "В группе А среднее кол-во событий равно 5,2, а медиана равна 4\n",
    "\n",
    "В группе В среднее кол-во событий равно 2,4, а медиана равна 1\n",
    "\n",
    "В обоих группах присутствуют выбросы, возможно один пользователь совершал несколько покупок\n",
    "\n",
    "Для дальнейшего анализа будет использоваться медианное значение — в группе А оно равно 4 событиям, в группе B — 1 событию. Медиана в группе А значительно выше, чем в группе B"
   ]
  },
  {
   "cell_type": "code",
   "execution_count": 41,
   "metadata": {},
   "outputs": [
    {
     "data": {
      "text/html": [
       "<div>\n",
       "<style scoped>\n",
       "    .dataframe tbody tr th:only-of-type {\n",
       "        vertical-align: middle;\n",
       "    }\n",
       "\n",
       "    .dataframe tbody tr th {\n",
       "        vertical-align: top;\n",
       "    }\n",
       "\n",
       "    .dataframe thead th {\n",
       "        text-align: right;\n",
       "    }\n",
       "</style>\n",
       "<table border=\"1\" class=\"dataframe\">\n",
       "  <thead>\n",
       "    <tr style=\"text-align: right;\">\n",
       "      <th></th>\n",
       "      <th>user_id</th>\n",
       "    </tr>\n",
       "    <tr>\n",
       "      <th>event_name</th>\n",
       "      <th></th>\n",
       "    </tr>\n",
       "  </thead>\n",
       "  <tbody>\n",
       "    <tr>\n",
       "      <th>login</th>\n",
       "      <td>8274</td>\n",
       "    </tr>\n",
       "    <tr>\n",
       "      <th>product_page</th>\n",
       "      <td>5158</td>\n",
       "    </tr>\n",
       "    <tr>\n",
       "      <th>product_cart</th>\n",
       "      <td>2473</td>\n",
       "    </tr>\n",
       "    <tr>\n",
       "      <th>purchase</th>\n",
       "      <td>2424</td>\n",
       "    </tr>\n",
       "    <tr>\n",
       "      <th>registration</th>\n",
       "      <td>2311</td>\n",
       "    </tr>\n",
       "  </tbody>\n",
       "</table>\n",
       "</div>"
      ],
      "text/plain": [
       "              user_id\n",
       "event_name           \n",
       "login            8274\n",
       "product_page     5158\n",
       "product_cart     2473\n",
       "purchase         2424\n",
       "registration     2311"
      ]
     },
     "execution_count": 41,
     "metadata": {},
     "output_type": "execute_result"
    }
   ],
   "source": [
    "#посмотрим какие события есть в логах\n",
    "test_ab_new.groupby('event_name').agg({'user_id':'count'}).sort_values(by='user_id', ascending=False)"
   ]
  },
  {
   "cell_type": "markdown",
   "metadata": {},
   "source": [
    "Больше всего событий с получением логина, далее просмотр карточек, просмотр корзины и на четвертом месте покупка"
   ]
  },
  {
   "cell_type": "code",
   "execution_count": 42,
   "metadata": {},
   "outputs": [
    {
     "data": {
      "text/html": [
       "<div>\n",
       "<style scoped>\n",
       "    .dataframe tbody tr th:only-of-type {\n",
       "        vertical-align: middle;\n",
       "    }\n",
       "\n",
       "    .dataframe tbody tr th {\n",
       "        vertical-align: top;\n",
       "    }\n",
       "\n",
       "    .dataframe thead th {\n",
       "        text-align: right;\n",
       "    }\n",
       "</style>\n",
       "<table border=\"1\" class=\"dataframe\">\n",
       "  <thead>\n",
       "    <tr style=\"text-align: right;\">\n",
       "      <th></th>\n",
       "      <th>event_name</th>\n",
       "      <th>user_id</th>\n",
       "    </tr>\n",
       "  </thead>\n",
       "  <tbody>\n",
       "    <tr>\n",
       "      <th>0</th>\n",
       "      <td>login</td>\n",
       "      <td>2082</td>\n",
       "    </tr>\n",
       "    <tr>\n",
       "      <th>1</th>\n",
       "      <td>product_cart</td>\n",
       "      <td>631</td>\n",
       "    </tr>\n",
       "    <tr>\n",
       "      <th>2</th>\n",
       "      <td>product_page</td>\n",
       "      <td>1360</td>\n",
       "    </tr>\n",
       "    <tr>\n",
       "      <th>3</th>\n",
       "      <td>purchase</td>\n",
       "      <td>652</td>\n",
       "    </tr>\n",
       "    <tr>\n",
       "      <th>4</th>\n",
       "      <td>registration</td>\n",
       "      <td>821</td>\n",
       "    </tr>\n",
       "  </tbody>\n",
       "</table>\n",
       "</div>"
      ],
      "text/plain": [
       "     event_name  user_id\n",
       "0         login     2082\n",
       "1  product_cart      631\n",
       "2  product_page     1360\n",
       "3      purchase      652\n",
       "4  registration      821"
      ]
     },
     "execution_count": 42,
     "metadata": {},
     "output_type": "execute_result"
    }
   ],
   "source": [
    "#посмотрим сколько пользователей совершали каждое из этих событий\n",
    "funnel_A = test_ab_new.query('group == \"A\"').groupby('event_name').agg({'user_id':'nunique'}).reset_index()\n",
    "funnel_A"
   ]
  },
  {
   "cell_type": "markdown",
   "metadata": {},
   "source": [
    "- При построении воронки необходимо учитывать, что только 2903 события типа \"регистрация\" были зарегистрированы фактически;\n",
    "- Только 2082 пользователя получили логин;\n",
    "- Из них только 1360 пользователей посмотрели карточки;\n",
    "- Далее 631 пользователя добавили товары в корзину;\n",
    "- И только 652 пользователя осуществили покупку."
   ]
  },
  {
   "cell_type": "code",
   "execution_count": 43,
   "metadata": {},
   "outputs": [
    {
     "data": {
      "text/html": [
       "<div>\n",
       "<style scoped>\n",
       "    .dataframe tbody tr th:only-of-type {\n",
       "        vertical-align: middle;\n",
       "    }\n",
       "\n",
       "    .dataframe tbody tr th {\n",
       "        vertical-align: top;\n",
       "    }\n",
       "\n",
       "    .dataframe thead th {\n",
       "        text-align: right;\n",
       "    }\n",
       "</style>\n",
       "<table border=\"1\" class=\"dataframe\">\n",
       "  <thead>\n",
       "    <tr style=\"text-align: right;\">\n",
       "      <th></th>\n",
       "      <th>event_name</th>\n",
       "      <th>user_id</th>\n",
       "    </tr>\n",
       "  </thead>\n",
       "  <tbody>\n",
       "    <tr>\n",
       "      <th>4</th>\n",
       "      <td>registration</td>\n",
       "      <td>2903</td>\n",
       "    </tr>\n",
       "    <tr>\n",
       "      <th>0</th>\n",
       "      <td>login</td>\n",
       "      <td>2082</td>\n",
       "    </tr>\n",
       "    <tr>\n",
       "      <th>2</th>\n",
       "      <td>product_page</td>\n",
       "      <td>1360</td>\n",
       "    </tr>\n",
       "    <tr>\n",
       "      <th>1</th>\n",
       "      <td>product_cart</td>\n",
       "      <td>631</td>\n",
       "    </tr>\n",
       "    <tr>\n",
       "      <th>3</th>\n",
       "      <td>purchase</td>\n",
       "      <td>652</td>\n",
       "    </tr>\n",
       "  </tbody>\n",
       "</table>\n",
       "</div>"
      ],
      "text/plain": [
       "     event_name  user_id\n",
       "4  registration     2903\n",
       "0         login     2082\n",
       "2  product_page     1360\n",
       "1  product_cart      631\n",
       "3      purchase      652"
      ]
     },
     "execution_count": 43,
     "metadata": {},
     "output_type": "execute_result"
    }
   ],
   "source": [
    "funnel_A.loc[4, 'user_id'] = 2903\n",
    "funnel_A = funnel_A.reindex([4, 0, 2, 1, 3])\n",
    "funnel_A"
   ]
  },
  {
   "cell_type": "code",
   "execution_count": 44,
   "metadata": {},
   "outputs": [
    {
     "data": {
      "image/png": "[encoded data removed]",
      "text/plain": [
       "<Figure size 1080x720 with 1 Axes>"
      ]
     },
     "metadata": {},
     "output_type": "display_data"
    }
   ],
   "source": [
    "sns.barplot(data=funnel_A, x='event_name', y='user_id')\n",
    "plt.title('Воронка А')\n",
    "plt.xlabel('события')\n",
    "plt.ylabel('кол-во событий')\n",
    "plt.show()"
   ]
  },
  {
   "cell_type": "markdown",
   "metadata": {},
   "source": [
    "Итоговая воронка по группе А - готова. Стоит отметить, что при событии \"просмотр корзины\" значение меньше, чем при событии \"покупка\". Вероятнее всего, это объясняется наличием альтернативного пути оплаты, который не требует использования корзины."
   ]
  },
  {
   "cell_type": "code",
   "execution_count": 45,
   "metadata": {},
   "outputs": [
    {
     "data": {
      "text/html": [
       "<div>\n",
       "<style scoped>\n",
       "    .dataframe tbody tr th:only-of-type {\n",
       "        vertical-align: middle;\n",
       "    }\n",
       "\n",
       "    .dataframe tbody tr th {\n",
       "        vertical-align: top;\n",
       "    }\n",
       "\n",
       "    .dataframe thead th {\n",
       "        text-align: right;\n",
       "    }\n",
       "</style>\n",
       "<table border=\"1\" class=\"dataframe\">\n",
       "  <thead>\n",
       "    <tr style=\"text-align: right;\">\n",
       "      <th></th>\n",
       "      <th>event_name</th>\n",
       "      <th>user_id</th>\n",
       "      <th>ratio_first</th>\n",
       "      <th>ratio_prev</th>\n",
       "    </tr>\n",
       "  </thead>\n",
       "  <tbody>\n",
       "    <tr>\n",
       "      <th>4</th>\n",
       "      <td>registration</td>\n",
       "      <td>2903</td>\n",
       "      <td>100.00</td>\n",
       "      <td>inf</td>\n",
       "    </tr>\n",
       "    <tr>\n",
       "      <th>0</th>\n",
       "      <td>login</td>\n",
       "      <td>2082</td>\n",
       "      <td>71.72</td>\n",
       "      <td>71.72</td>\n",
       "    </tr>\n",
       "    <tr>\n",
       "      <th>2</th>\n",
       "      <td>product_page</td>\n",
       "      <td>1360</td>\n",
       "      <td>46.85</td>\n",
       "      <td>65.32</td>\n",
       "    </tr>\n",
       "    <tr>\n",
       "      <th>1</th>\n",
       "      <td>product_cart</td>\n",
       "      <td>631</td>\n",
       "      <td>21.74</td>\n",
       "      <td>46.40</td>\n",
       "    </tr>\n",
       "    <tr>\n",
       "      <th>3</th>\n",
       "      <td>purchase</td>\n",
       "      <td>652</td>\n",
       "      <td>22.46</td>\n",
       "      <td>103.33</td>\n",
       "    </tr>\n",
       "  </tbody>\n",
       "</table>\n",
       "</div>"
      ],
      "text/plain": [
       "     event_name  user_id  ratio_first  ratio_prev\n",
       "4  registration     2903       100.00         inf\n",
       "0         login     2082        71.72       71.72\n",
       "2  product_page     1360        46.85       65.32\n",
       "1  product_cart      631        21.74       46.40\n",
       "3      purchase      652        22.46      103.33"
      ]
     },
     "execution_count": 45,
     "metadata": {},
     "output_type": "execute_result"
    }
   ],
   "source": [
    "funnel_A['ratio_first'] = round(funnel_A['user_id']/total_A_new*100,2)\n",
    "funnel_A['ratio_prev'] = round(funnel_A['user_id']/funnel_A['user_id'].shift(1, fill_value=0)*100,2)\n",
    "funnel_A"
   ]
  },
  {
   "cell_type": "markdown",
   "metadata": {},
   "source": [
    "**Обнаружены узкие места в воронке:**\n",
    "\n",
    "1. Низкое преобразование на первом шаге, то есть конверсия в получение логина и просмотр карточек\n",
    "2. Низкая конверсия на предыдущем этапе - просмотр корзины, однако, необходимо учесть, что существует обходной путь оплаты покупки, который может быть использован."
   ]
  },
  {
   "cell_type": "code",
   "execution_count": 46,
   "metadata": {},
   "outputs": [
    {
     "data": {
      "text/html": [
       "<div>\n",
       "<style scoped>\n",
       "    .dataframe tbody tr th:only-of-type {\n",
       "        vertical-align: middle;\n",
       "    }\n",
       "\n",
       "    .dataframe tbody tr th {\n",
       "        vertical-align: top;\n",
       "    }\n",
       "\n",
       "    .dataframe thead th {\n",
       "        text-align: right;\n",
       "    }\n",
       "</style>\n",
       "<table border=\"1\" class=\"dataframe\">\n",
       "  <thead>\n",
       "    <tr style=\"text-align: right;\">\n",
       "      <th></th>\n",
       "      <th>event_name</th>\n",
       "      <th>user_id</th>\n",
       "    </tr>\n",
       "  </thead>\n",
       "  <tbody>\n",
       "    <tr>\n",
       "      <th>0</th>\n",
       "      <td>login</td>\n",
       "      <td>705</td>\n",
       "    </tr>\n",
       "    <tr>\n",
       "      <th>1</th>\n",
       "      <td>product_cart</td>\n",
       "      <td>195</td>\n",
       "    </tr>\n",
       "    <tr>\n",
       "      <th>2</th>\n",
       "      <td>product_page</td>\n",
       "      <td>397</td>\n",
       "    </tr>\n",
       "    <tr>\n",
       "      <th>3</th>\n",
       "      <td>purchase</td>\n",
       "      <td>198</td>\n",
       "    </tr>\n",
       "    <tr>\n",
       "      <th>4</th>\n",
       "      <td>registration</td>\n",
       "      <td>1490</td>\n",
       "    </tr>\n",
       "  </tbody>\n",
       "</table>\n",
       "</div>"
      ],
      "text/plain": [
       "     event_name  user_id\n",
       "0         login      705\n",
       "1  product_cart      195\n",
       "2  product_page      397\n",
       "3      purchase      198\n",
       "4  registration     1490"
      ]
     },
     "execution_count": 46,
     "metadata": {},
     "output_type": "execute_result"
    }
   ],
   "source": [
    "funnel_B = test_ab_new.query('group == \"B\"').groupby('event_name').agg({'user_id':'nunique'}).reset_index()\n",
    "funnel_B"
   ]
  },
  {
   "cell_type": "markdown",
   "metadata": {},
   "source": [
    "При построении воронки нужно помнить, что зарегистрировалось фактически 2196 пользователей. Из них только 755 получили логин. Далее, 397 пользователей посмотрели карточки, 195 посмотрели корзину и 198 совершили покупку."
   ]
  },
  {
   "cell_type": "code",
   "execution_count": 47,
   "metadata": {},
   "outputs": [
    {
     "data": {
      "text/html": [
       "<div>\n",
       "<style scoped>\n",
       "    .dataframe tbody tr th:only-of-type {\n",
       "        vertical-align: middle;\n",
       "    }\n",
       "\n",
       "    .dataframe tbody tr th {\n",
       "        vertical-align: top;\n",
       "    }\n",
       "\n",
       "    .dataframe thead th {\n",
       "        text-align: right;\n",
       "    }\n",
       "</style>\n",
       "<table border=\"1\" class=\"dataframe\">\n",
       "  <thead>\n",
       "    <tr style=\"text-align: right;\">\n",
       "      <th></th>\n",
       "      <th>event_name</th>\n",
       "      <th>user_id</th>\n",
       "    </tr>\n",
       "  </thead>\n",
       "  <tbody>\n",
       "    <tr>\n",
       "      <th>4</th>\n",
       "      <td>registration</td>\n",
       "      <td>2196</td>\n",
       "    </tr>\n",
       "    <tr>\n",
       "      <th>0</th>\n",
       "      <td>login</td>\n",
       "      <td>705</td>\n",
       "    </tr>\n",
       "    <tr>\n",
       "      <th>2</th>\n",
       "      <td>product_page</td>\n",
       "      <td>397</td>\n",
       "    </tr>\n",
       "    <tr>\n",
       "      <th>1</th>\n",
       "      <td>product_cart</td>\n",
       "      <td>195</td>\n",
       "    </tr>\n",
       "    <tr>\n",
       "      <th>3</th>\n",
       "      <td>purchase</td>\n",
       "      <td>198</td>\n",
       "    </tr>\n",
       "  </tbody>\n",
       "</table>\n",
       "</div>"
      ],
      "text/plain": [
       "     event_name  user_id\n",
       "4  registration     2196\n",
       "0         login      705\n",
       "2  product_page      397\n",
       "1  product_cart      195\n",
       "3      purchase      198"
      ]
     },
     "execution_count": 47,
     "metadata": {},
     "output_type": "execute_result"
    }
   ],
   "source": [
    "funnel_B.loc[4, 'user_id'] = 2196\n",
    "funnel_B = funnel_B.reindex([4, 0, 2, 1, 3])\n",
    "funnel_B"
   ]
  },
  {
   "cell_type": "code",
   "execution_count": 48,
   "metadata": {},
   "outputs": [
    {
     "data": {
      "image/png": "[encoded data removed]",
      "text/plain": [
       "<Figure size 1080x720 with 1 Axes>"
      ]
     },
     "metadata": {},
     "output_type": "display_data"
    }
   ],
   "source": [
    "sns.barplot(data=funnel_B, x='event_name', y='user_id')\n",
    "plt.title('Воронка B')\n",
    "plt.xlabel('события')\n",
    "plt.ylabel('кол-во событий')\n",
    "plt.show()"
   ]
  },
  {
   "cell_type": "markdown",
   "metadata": {},
   "source": [
    "Итоговая воронка по группе B - готова. Замечено, что значение события \"просмотр корзины\" меньше, чем у события \"покупка\". Скорее всего, это объясняется наличием альтернативной опции оплаты покупки, которая не требует использования корзины."
   ]
  },
  {
   "cell_type": "code",
   "execution_count": 49,
   "metadata": {},
   "outputs": [
    {
     "data": {
      "text/html": [
       "<div>\n",
       "<style scoped>\n",
       "    .dataframe tbody tr th:only-of-type {\n",
       "        vertical-align: middle;\n",
       "    }\n",
       "\n",
       "    .dataframe tbody tr th {\n",
       "        vertical-align: top;\n",
       "    }\n",
       "\n",
       "    .dataframe thead th {\n",
       "        text-align: right;\n",
       "    }\n",
       "</style>\n",
       "<table border=\"1\" class=\"dataframe\">\n",
       "  <thead>\n",
       "    <tr style=\"text-align: right;\">\n",
       "      <th></th>\n",
       "      <th>event_name</th>\n",
       "      <th>user_id</th>\n",
       "      <th>ratio_first</th>\n",
       "      <th>ratio_prev</th>\n",
       "    </tr>\n",
       "  </thead>\n",
       "  <tbody>\n",
       "    <tr>\n",
       "      <th>4</th>\n",
       "      <td>registration</td>\n",
       "      <td>2196</td>\n",
       "      <td>100.00</td>\n",
       "      <td>inf</td>\n",
       "    </tr>\n",
       "    <tr>\n",
       "      <th>0</th>\n",
       "      <td>login</td>\n",
       "      <td>705</td>\n",
       "      <td>32.10</td>\n",
       "      <td>32.10</td>\n",
       "    </tr>\n",
       "    <tr>\n",
       "      <th>2</th>\n",
       "      <td>product_page</td>\n",
       "      <td>397</td>\n",
       "      <td>18.08</td>\n",
       "      <td>56.31</td>\n",
       "    </tr>\n",
       "    <tr>\n",
       "      <th>1</th>\n",
       "      <td>product_cart</td>\n",
       "      <td>195</td>\n",
       "      <td>8.88</td>\n",
       "      <td>49.12</td>\n",
       "    </tr>\n",
       "    <tr>\n",
       "      <th>3</th>\n",
       "      <td>purchase</td>\n",
       "      <td>198</td>\n",
       "      <td>9.02</td>\n",
       "      <td>101.54</td>\n",
       "    </tr>\n",
       "  </tbody>\n",
       "</table>\n",
       "</div>"
      ],
      "text/plain": [
       "     event_name  user_id  ratio_first  ratio_prev\n",
       "4  registration     2196       100.00         inf\n",
       "0         login      705        32.10       32.10\n",
       "2  product_page      397        18.08       56.31\n",
       "1  product_cart      195         8.88       49.12\n",
       "3      purchase      198         9.02      101.54"
      ]
     },
     "execution_count": 49,
     "metadata": {},
     "output_type": "execute_result"
    }
   ],
   "source": [
    "funnel_B['ratio_first'] = round(funnel_B['user_id']/total_B_new*100,2)\n",
    "funnel_B['ratio_prev'] = round(funnel_B['user_id']/funnel_B['user_id'].shift(1, fill_value=0)*100,2)\n",
    "funnel_B"
   ]
  },
  {
   "cell_type": "markdown",
   "metadata": {},
   "source": [
    "Воронка имеет низкую проходимость на каждом из этапов, что указывает на серьезные проблемы в ее функционировании. Существует предположение, что при настройке новой платежной воронки, была допущена ошибка, приведшая к нарушению функционала воронки и негативно сказавшаяся на его эффективности."
   ]
  },
  {
   "cell_type": "code",
   "execution_count": 50,
   "metadata": {},
   "outputs": [
    {
     "data": {
      "image/png": "[encoded data removed]"
     },
     "metadata": {},
     "output_type": "display_data"
    }
   ],
   "source": [
    "#посмотрим как число событий в выборках распределено по дням между группами\n",
    "test_ab_new_cnt = (\n",
    "    test_ab_new.groupby(['day', 'group']).agg({'event_name':'count'})\n",
    "    .reset_index().sort_values(by='event_name', ascending=False)\n",
    ")\n",
    "test_ab_new_cnt.columns = ['day', 'group', 'cnt_events']\n",
    "\n",
    "fig = px.bar(\n",
    "    test_ab_new_cnt, \n",
    "    x='day', \n",
    "    y='cnt_events', \n",
    "    color='group', \n",
    "    barmode='overlay', \n",
    "    text='cnt_events',\n",
    "    title='Кол-во событий по дням'\n",
    ")\n",
    "fig.show()"
   ]
  },
  {
   "cell_type": "markdown",
   "metadata": {},
   "source": [
    "Значительный рост событий начался в промежутке от 15 до 21 числа, после чего произошел спад. Поэтому тест завершился 30 числа, так как дальнейшее продолжение теста не имело бы смысла из-за снижения количества событий. При этом стоит отметить, что группа А демонстрировала лучшую эффективность на протяжении всего теста, в то время как группа B не оправдала ожиданий."
   ]
  },
  {
   "cell_type": "code",
   "execution_count": 51,
   "metadata": {},
   "outputs": [
    {
     "data": {
      "image/png": "[encoded data removed]"
     },
     "metadata": {},
     "output_type": "display_data"
    }
   ],
   "source": [
    "fig = go.Figure()\n",
    "\n",
    "fig.add_trace(go.Funnel(name='Группа А',\n",
    "                        y=funnel_A['event_name'],\n",
    "                        x=funnel_A['user_id'],\n",
    "                        textinfo=\"value+percent initial+percent previous\"))\n",
    "\n",
    "fig.add_trace(go.Funnel(name='Группа B',\n",
    "                        y=funnel_B['event_name'],\n",
    "                        x=funnel_B['user_id'],\n",
    "                        textinfo=\"value+percent initial+percent previous\"))\n",
    "\n",
    "fig.update_layout(title='Воронка событий', yaxis_title='events')\n",
    "    \n",
    "fig.show()"
   ]
  },
  {
   "cell_type": "code",
   "execution_count": 52,
   "metadata": {},
   "outputs": [
    {
     "name": "stdout",
     "output_type": "stream",
     "text": [
      "Только зарегистрировались - 2311\n"
     ]
    }
   ],
   "source": [
    "#посмотрим пользователей, которые не совершали событий после регистрации\n",
    "print('Только зарегистрировались -', test_ab_new.query('event_name == \"registration\"')['user_id'].nunique())"
   ]
  },
  {
   "cell_type": "code",
   "execution_count": 53,
   "metadata": {},
   "outputs": [
    {
     "data": {
      "text/plain": [
       "group\n",
       "A     821\n",
       "B    1490\n",
       "Name: user_id, dtype: int64"
      ]
     },
     "execution_count": 53,
     "metadata": {},
     "output_type": "execute_result"
    }
   ],
   "source": [
    "test_ab_new.query('event_name == \"registration\"').groupby('group')['user_id'].nunique()"
   ]
  },
  {
   "cell_type": "code",
   "execution_count": 54,
   "metadata": {},
   "outputs": [
    {
     "data": {
      "image/png": "[encoded data removed]"
     },
     "metadata": {},
     "output_type": "display_data"
    }
   ],
   "source": [
    "fig = (\n",
    "    test_ab_new.query('event_name == \"registration\"')\n",
    "    .groupby(['event_dt', 'group'])\n",
    "    .agg({'user_id':'nunique'})\n",
    "    .reset_index()\n",
    "    .sort_values(by='user_id', ascending=False)\n",
    ")\n",
    "\n",
    "fig.columns = ['day', 'group', 'сnt_user_id']\n",
    "\n",
    "fig = px.bar(\n",
    "    fig, \n",
    "    x='day', \n",
    "    y='сnt_user_id', \n",
    "    color='group', \n",
    "    barmode='overlay', \n",
    "    text='сnt_user_id',\n",
    "    title='Пользователи, которые только зарегистрировались'\n",
    ")\n",
    "fig.show()"
   ]
  },
  {
   "cell_type": "code",
   "execution_count": 55,
   "metadata": {},
   "outputs": [
    {
     "data": {
      "text/html": [
       "<div>\n",
       "<style scoped>\n",
       "    .dataframe tbody tr th:only-of-type {\n",
       "        vertical-align: middle;\n",
       "    }\n",
       "\n",
       "    .dataframe tbody tr th {\n",
       "        vertical-align: top;\n",
       "    }\n",
       "\n",
       "    .dataframe thead th {\n",
       "        text-align: right;\n",
       "    }\n",
       "</style>\n",
       "<table border=\"1\" class=\"dataframe\">\n",
       "  <thead>\n",
       "    <tr style=\"text-align: right;\">\n",
       "      <th></th>\n",
       "      <th>region</th>\n",
       "      <th>user_id</th>\n",
       "    </tr>\n",
       "  </thead>\n",
       "  <tbody>\n",
       "    <tr>\n",
       "      <th>2</th>\n",
       "      <td>EU</td>\n",
       "      <td>2155</td>\n",
       "    </tr>\n",
       "    <tr>\n",
       "      <th>3</th>\n",
       "      <td>N.America</td>\n",
       "      <td>104</td>\n",
       "    </tr>\n",
       "    <tr>\n",
       "      <th>0</th>\n",
       "      <td>APAC</td>\n",
       "      <td>27</td>\n",
       "    </tr>\n",
       "    <tr>\n",
       "      <th>1</th>\n",
       "      <td>CIS</td>\n",
       "      <td>25</td>\n",
       "    </tr>\n",
       "  </tbody>\n",
       "</table>\n",
       "</div>"
      ],
      "text/plain": [
       "      region  user_id\n",
       "2         EU     2155\n",
       "3  N.America      104\n",
       "0       APAC       27\n",
       "1        CIS       25"
      ]
     },
     "execution_count": 55,
     "metadata": {},
     "output_type": "execute_result"
    }
   ],
   "source": [
    "(\n",
    "    test_ab_new.query('event_name == \"registration\"')\n",
    "    .groupby(['region'])\n",
    "    .agg({'user_id':'nunique'})\n",
    "    .reset_index()\n",
    "    .sort_values(by='user_id', ascending=False)\n",
    ")"
   ]
  },
  {
   "cell_type": "markdown",
   "metadata": {},
   "source": [
    "Почти половина всех участников теста (45%) только зарегистрировались и не продолжили взаимодействие. Среди пользователей из группы B эта доля составила 70%. После 14 числа подобные клиенты сосредоточились только в группе B. Кроме того, практически все пользователи находятся в регионе EU."
   ]
  },
  {
   "cell_type": "markdown",
   "metadata": {},
   "source": [
    " - На протяжении теста группа А демонстрировала лучшую эффективность как в плане конверсии, так и по количеству событий, в то время как группа В оказалась неэффективной с показателями в несколько раз ниже относительно контрольной группы А.\n",
    " - Тест был завершен раньше из-за снижения активности пользователей.\n",
    " - 45% всех участников теста зарегистрировались. \n",
    " - Результаты теста можно считать провальными из-за низкой эффективности группы В и раннего завершения теста из-за снижения активности пользователей."
   ]
  },
  {
   "cell_type": "markdown",
   "metadata": {},
   "source": [
    "## Оценка результата A/B-тестирования"
   ]
  },
  {
   "cell_type": "markdown",
   "metadata": {},
   "source": [
    "**H_0**: Доля конверсии группы А по каждому этапу и доля конверсии группы В по каждому этапу равны\n",
    "\n",
    "**H_1**: Доля конверсии группы А по каждому этапу и доля конверсии группы В по каждому этапу не равны\n",
    "\n",
    "alpha = 0.05"
   ]
  },
  {
   "cell_type": "code",
   "execution_count": 56,
   "metadata": {},
   "outputs": [
    {
     "data": {
      "text/plain": [
       "group\n",
       "A        2903\n",
       "B        2196\n",
       "total    5099\n",
       "Name: user_id, dtype: int64"
      ]
     },
     "execution_count": 56,
     "metadata": {},
     "output_type": "execute_result"
    }
   ],
   "source": [
    "#статистическая разница долей\n",
    "usr_test_ab_group['total'] = usr_test_ab_group['A'] + usr_test_ab_group['B']\n",
    "usr_test_ab_group"
   ]
  },
  {
   "cell_type": "code",
   "execution_count": 57,
   "metadata": {},
   "outputs": [
    {
     "data": {
      "text/html": [
       "<div>\n",
       "<style scoped>\n",
       "    .dataframe tbody tr th:only-of-type {\n",
       "        vertical-align: middle;\n",
       "    }\n",
       "\n",
       "    .dataframe tbody tr th {\n",
       "        vertical-align: top;\n",
       "    }\n",
       "\n",
       "    .dataframe thead th {\n",
       "        text-align: right;\n",
       "    }\n",
       "</style>\n",
       "<table border=\"1\" class=\"dataframe\">\n",
       "  <thead>\n",
       "    <tr style=\"text-align: right;\">\n",
       "      <th></th>\n",
       "      <th>event_name</th>\n",
       "      <th>A</th>\n",
       "      <th>B</th>\n",
       "      <th>total</th>\n",
       "    </tr>\n",
       "  </thead>\n",
       "  <tbody>\n",
       "    <tr>\n",
       "      <th>0</th>\n",
       "      <td>login</td>\n",
       "      <td>2082</td>\n",
       "      <td>705</td>\n",
       "      <td>2787</td>\n",
       "    </tr>\n",
       "    <tr>\n",
       "      <th>1</th>\n",
       "      <td>product_page</td>\n",
       "      <td>1360</td>\n",
       "      <td>397</td>\n",
       "      <td>1757</td>\n",
       "    </tr>\n",
       "    <tr>\n",
       "      <th>2</th>\n",
       "      <td>product_cart</td>\n",
       "      <td>631</td>\n",
       "      <td>195</td>\n",
       "      <td>826</td>\n",
       "    </tr>\n",
       "    <tr>\n",
       "      <th>3</th>\n",
       "      <td>purchase</td>\n",
       "      <td>652</td>\n",
       "      <td>198</td>\n",
       "      <td>850</td>\n",
       "    </tr>\n",
       "  </tbody>\n",
       "</table>\n",
       "</div>"
      ],
      "text/plain": [
       "     event_name     A    B  total\n",
       "0         login  2082  705   2787\n",
       "1  product_page  1360  397   1757\n",
       "2  product_cart   631  195    826\n",
       "3      purchase   652  198    850"
      ]
     },
     "execution_count": 57,
     "metadata": {},
     "output_type": "execute_result"
    }
   ],
   "source": [
    "funnel = pd.merge(funnel_A[['event_name', 'user_id']], \n",
    "                  funnel_B[['event_name', 'user_id']], \n",
    "                  on='event_name', \n",
    "                  suffixes=('_A', '_B'))\n",
    "\n",
    "funnel = funnel[funnel['event_name'] != 'registration'].reset_index(drop=True)\n",
    "\n",
    "funnel.rename(columns={'user_id_A': 'A', \n",
    "                       'user_id_B': 'B'}, inplace=True)\n",
    "funnel['total'] = funnel['A'] + funnel['B']\n",
    "\n",
    "funnel = funnel[['event_name', 'A', 'B', 'total']]\n",
    "funnel"
   ]
  },
  {
   "cell_type": "code",
   "execution_count": 60,
   "metadata": {},
   "outputs": [],
   "source": [
    "def z_test (group1, group2, alpha):\n",
    "    for i in funnel.index: \n",
    "        p1=funnel[group1][i]/usr_test_ab_group[group1]\n",
    "        \n",
    "        p2=funnel[group2][i]/usr_test_ab_group[group2]\n",
    "        \n",
    "        print(funnel[group1][i], funnel[group2][i],usr_test_ab_group[group1] , usr_test_ab_group[group2])\n",
    "        \n",
    "        p_combined=((funnel[group1][i]+funnel[group2][i])/(usr_test_ab_group[group1]+usr_test_ab_group[group2]))\n",
    "        \n",
    "        difference=p1-p2\n",
    "        \n",
    "        z_value=difference/mth.sqrt(p_combined*(1-p_combined)*(1/usr_test_ab_group[group1]+1/usr_test_ab_group[group2]))\n",
    "        \n",
    "        distr=stats.norm(0, 1)\n",
    "        \n",
    "        p_value=(1-distr.cdf(abs(z_value)))*2 \n",
    "        \n",
    "        print ('{} p-значение:{}'.format(funnel['event_name'][i], p_value)) \n",
    "        \n",
    "        if (p_value<alpha ): \n",
    "            print('Отвергаем нулевую гипотезу') \n",
    "        else: \n",
    "            print('Не удалось отвергнуть нулевую гипотезу')"
   ]
  },
  {
   "cell_type": "code",
   "execution_count": 61,
   "metadata": {},
   "outputs": [
    {
     "name": "stdout",
     "output_type": "stream",
     "text": [
      "2082 705 2903 2196\n",
      "login p-значение:0.0\n",
      "Отвергаем нулевую гипотезу\n",
      "1360 397 2903 2196\n",
      "product_page p-значение:0.0\n",
      "Отвергаем нулевую гипотезу\n",
      "631 195 2903 2196\n",
      "product_cart p-значение:0.0\n",
      "Отвергаем нулевую гипотезу\n",
      "652 198 2903 2196\n",
      "purchase p-значение:0.0\n",
      "Отвергаем нулевую гипотезу\n"
     ]
    }
   ],
   "source": [
    "z_test('A', 'B', 0.05)"
   ]
  },
  {
   "cell_type": "markdown",
   "metadata": {},
   "source": [
    "Между группами между долями есть значимая разница, также это показывает исследовательский анализ"
   ]
  },
  {
   "cell_type": "markdown",
   "metadata": {},
   "source": [
    "## Вывод и рекомендации"
   ]
  },
  {
   "cell_type": "markdown",
   "metadata": {},
   "source": [
    " - Тест можно считать провальным\n",
    " - Группа А превосходит группу В по конверсии и количеству событий; группа В оказалась неэффективной, показатели гораздо ниже, чем у контрольной группы А.\n",
    " - Тест был прерван из-за снижения активности пользователей в течение его проведения.\n",
    " - На протяжении теста проходили маркетинговые активности, которые могли повлиять на результаты теста, возможно, что они были причиной неожиданных результатов.\n",
    " - Из-за ошибок в начальной выборке было потеряно 24% данных.\n",
    " - Большинство участников теста из региона EU (70%), хотя в других регионах также пользуются приложением\n",
    "\n",
    "**Рекомендации:**\n",
    "\n",
    " - В следующий раз необходимо более подробно готовиться к проведению тестирования. Следует проверять начальную выборку, избегать пересечений с конкурирующими тестами и исключать маркетинговые акции на этапе тестирования.\n",
    " - Следует провести проверку приложения на технические аспекты, включая путь клиента, так как около 40% клиентов, зарегистрировавшихся на сайте, не достигают экрана для входа. Однако, группе В была зафиксирована высокая потеря клиентов, возможно, эта группа задевает весь функционал настройки новой платежной воронки."
   ]
  }
 ],
 "metadata": {
  "ExecuteTimeLog": [
   {
    "duration": 8488,
    "start_time": "2023-04-06T16:29:40.694Z"
   },
   {
    "duration": 1843,
    "start_time": "2023-04-06T16:29:49.186Z"
   },
   {
    "duration": 100,
    "start_time": "2023-04-06T16:29:51.030Z"
   },
   {
    "duration": 1960,
    "start_time": "2023-04-06T16:29:51.132Z"
   },
   {
    "duration": 233,
    "start_time": "2023-04-06T16:29:53.095Z"
   },
   {
    "duration": 126,
    "start_time": "2023-04-06T16:29:53.330Z"
   },
   {
    "duration": 109,
    "start_time": "2023-04-06T16:29:53.458Z"
   },
   {
    "duration": 5,
    "start_time": "2023-04-06T16:29:53.569Z"
   },
   {
    "duration": 39,
    "start_time": "2023-04-06T16:29:53.576Z"
   },
   {
    "duration": 160,
    "start_time": "2023-04-06T16:29:53.620Z"
   },
   {
    "duration": 466,
    "start_time": "2023-04-06T16:29:53.782Z"
   },
   {
    "duration": 120,
    "start_time": "2023-04-06T16:29:54.250Z"
   },
   {
    "duration": 72,
    "start_time": "2023-04-06T16:29:54.373Z"
   },
   {
    "duration": 97,
    "start_time": "2023-04-06T16:29:54.448Z"
   },
   {
    "duration": 298,
    "start_time": "2023-04-06T16:29:54.547Z"
   },
   {
    "duration": 9,
    "start_time": "2023-04-06T16:29:54.846Z"
   },
   {
    "duration": 68,
    "start_time": "2023-04-06T16:29:54.857Z"
   },
   {
    "duration": 21,
    "start_time": "2023-04-06T16:29:54.926Z"
   },
   {
    "duration": 6,
    "start_time": "2023-04-06T16:29:54.949Z"
   },
   {
    "duration": 36,
    "start_time": "2023-04-06T16:29:54.956Z"
   },
   {
    "duration": 10,
    "start_time": "2023-04-06T16:29:55.000Z"
   },
   {
    "duration": 13,
    "start_time": "2023-04-06T16:29:55.012Z"
   },
   {
    "duration": 18,
    "start_time": "2023-04-06T16:29:55.026Z"
   },
   {
    "duration": 22,
    "start_time": "2023-04-06T16:29:55.046Z"
   },
   {
    "duration": 52,
    "start_time": "2023-04-06T16:29:55.070Z"
   },
   {
    "duration": 154,
    "start_time": "2023-04-06T16:29:55.124Z"
   },
   {
    "duration": 44,
    "start_time": "2023-04-06T16:29:55.279Z"
   },
   {
    "duration": 26,
    "start_time": "2023-04-06T16:29:55.331Z"
   },
   {
    "duration": 179,
    "start_time": "2023-04-06T16:29:55.359Z"
   },
   {
    "duration": 21,
    "start_time": "2023-04-06T16:29:55.540Z"
   },
   {
    "duration": 37,
    "start_time": "2023-04-06T16:29:55.563Z"
   },
   {
    "duration": 25,
    "start_time": "2023-04-06T16:29:55.602Z"
   },
   {
    "duration": 8,
    "start_time": "2023-04-06T16:29:55.628Z"
   },
   {
    "duration": 24,
    "start_time": "2023-04-06T16:29:55.638Z"
   },
   {
    "duration": 34,
    "start_time": "2023-04-06T16:29:55.664Z"
   },
   {
    "duration": 22,
    "start_time": "2023-04-06T16:29:55.701Z"
   },
   {
    "duration": 23,
    "start_time": "2023-04-06T16:29:55.725Z"
   },
   {
    "duration": 26,
    "start_time": "2023-04-06T16:29:55.750Z"
   },
   {
    "duration": 19,
    "start_time": "2023-04-06T16:29:55.779Z"
   },
   {
    "duration": 28,
    "start_time": "2023-04-06T16:29:55.801Z"
   },
   {
    "duration": 13,
    "start_time": "2023-04-06T16:29:55.831Z"
   },
   {
    "duration": 21,
    "start_time": "2023-04-06T16:29:55.846Z"
   },
   {
    "duration": 43,
    "start_time": "2023-04-06T16:29:55.869Z"
   },
   {
    "duration": 11,
    "start_time": "2023-04-06T16:29:55.914Z"
   },
   {
    "duration": 19,
    "start_time": "2023-04-06T16:29:55.927Z"
   },
   {
    "duration": 11,
    "start_time": "2023-04-06T16:29:55.947Z"
   },
   {
    "duration": 265,
    "start_time": "2023-04-06T16:29:55.961Z"
   },
   {
    "duration": 12,
    "start_time": "2023-04-06T16:29:56.228Z"
   },
   {
    "duration": 19,
    "start_time": "2023-04-06T16:29:56.242Z"
   },
   {
    "duration": 9,
    "start_time": "2023-04-06T16:29:56.263Z"
   },
   {
    "duration": 229,
    "start_time": "2023-04-06T16:29:56.287Z"
   },
   {
    "duration": 17,
    "start_time": "2023-04-06T16:29:56.517Z"
   },
   {
    "duration": 1474,
    "start_time": "2023-04-06T16:29:56.536Z"
   },
   {
    "duration": 185,
    "start_time": "2023-04-06T16:29:58.013Z"
   },
   {
    "duration": 16,
    "start_time": "2023-04-06T16:29:58.201Z"
   },
   {
    "duration": 15,
    "start_time": "2023-04-06T16:29:58.219Z"
   },
   {
    "duration": 201,
    "start_time": "2023-04-06T16:29:58.235Z"
   },
   {
    "duration": 17,
    "start_time": "2023-04-06T16:29:58.438Z"
   },
   {
    "duration": 6,
    "start_time": "2023-04-06T16:29:58.456Z"
   },
   {
    "duration": 48,
    "start_time": "2023-04-06T16:29:58.463Z"
   },
   {
    "duration": 6,
    "start_time": "2023-04-06T16:29:58.513Z"
   },
   {
    "duration": 21,
    "start_time": "2023-04-06T16:29:58.520Z"
   },
   {
    "duration": 121,
    "start_time": "2023-04-06T16:40:27.272Z"
   },
   {
    "duration": 72,
    "start_time": "2023-04-06T17:12:42.481Z"
   },
   {
    "duration": 8,
    "start_time": "2023-04-06T17:13:10.418Z"
   },
   {
    "duration": 53,
    "start_time": "2023-04-06T17:13:14.902Z"
   },
   {
    "duration": 54,
    "start_time": "2023-04-06T17:16:16.855Z"
   },
   {
    "duration": 31,
    "start_time": "2023-04-06T17:28:52.144Z"
   },
   {
    "duration": 11,
    "start_time": "2023-04-06T17:29:30.080Z"
   },
   {
    "duration": 6,
    "start_time": "2023-04-06T17:30:52.205Z"
   },
   {
    "duration": 11,
    "start_time": "2023-04-06T17:45:41.638Z"
   },
   {
    "duration": 21,
    "start_time": "2023-04-06T17:47:26.801Z"
   },
   {
    "duration": 2775,
    "start_time": "2023-04-06T18:08:37.317Z"
   },
   {
    "duration": 1531,
    "start_time": "2023-04-06T18:08:40.096Z"
   },
   {
    "duration": 36,
    "start_time": "2023-04-06T18:08:41.629Z"
   },
   {
    "duration": 539,
    "start_time": "2023-04-06T18:08:41.668Z"
   },
   {
    "duration": 94,
    "start_time": "2023-04-06T18:08:42.209Z"
   },
   {
    "duration": 43,
    "start_time": "2023-04-06T18:08:42.306Z"
   },
   {
    "duration": 143,
    "start_time": "2023-04-06T18:08:42.352Z"
   },
   {
    "duration": 4,
    "start_time": "2023-04-06T18:08:42.497Z"
   },
   {
    "duration": 7,
    "start_time": "2023-04-06T18:08:42.503Z"
   },
   {
    "duration": 126,
    "start_time": "2023-04-06T18:08:42.513Z"
   },
   {
    "duration": 406,
    "start_time": "2023-04-06T18:08:42.641Z"
   },
   {
    "duration": 92,
    "start_time": "2023-04-06T18:08:43.049Z"
   },
   {
    "duration": 103,
    "start_time": "2023-04-06T18:08:43.144Z"
   },
   {
    "duration": 89,
    "start_time": "2023-04-06T18:08:43.249Z"
   },
   {
    "duration": 251,
    "start_time": "2023-04-06T18:08:43.340Z"
   },
   {
    "duration": 59,
    "start_time": "2023-04-06T18:08:43.592Z"
   },
   {
    "duration": 65,
    "start_time": "2023-04-06T18:08:43.654Z"
   },
   {
    "duration": 22,
    "start_time": "2023-04-06T18:08:43.720Z"
   },
   {
    "duration": 6,
    "start_time": "2023-04-06T18:08:43.745Z"
   },
   {
    "duration": 35,
    "start_time": "2023-04-06T18:08:43.753Z"
   },
   {
    "duration": 4,
    "start_time": "2023-04-06T18:08:43.790Z"
   },
   {
    "duration": 9,
    "start_time": "2023-04-06T18:08:43.796Z"
   },
   {
    "duration": 26,
    "start_time": "2023-04-06T18:08:43.807Z"
   },
   {
    "duration": 18,
    "start_time": "2023-04-06T18:08:43.835Z"
   },
   {
    "duration": 51,
    "start_time": "2023-04-06T18:08:43.856Z"
   },
   {
    "duration": 146,
    "start_time": "2023-04-06T18:08:43.909Z"
   },
   {
    "duration": 38,
    "start_time": "2023-04-06T18:08:44.057Z"
   },
   {
    "duration": 42,
    "start_time": "2023-04-06T18:08:44.101Z"
   },
   {
    "duration": 215,
    "start_time": "2023-04-06T18:08:44.145Z"
   },
   {
    "duration": 33,
    "start_time": "2023-04-06T18:08:44.362Z"
   },
   {
    "duration": 30,
    "start_time": "2023-04-06T18:08:44.397Z"
   },
   {
    "duration": 28,
    "start_time": "2023-04-06T18:08:44.429Z"
   },
   {
    "duration": 35,
    "start_time": "2023-04-06T18:08:44.459Z"
   },
   {
    "duration": 40,
    "start_time": "2023-04-06T18:08:44.496Z"
   },
   {
    "duration": 7,
    "start_time": "2023-04-06T18:08:44.538Z"
   },
   {
    "duration": 23,
    "start_time": "2023-04-06T18:08:44.547Z"
   },
   {
    "duration": 28,
    "start_time": "2023-04-06T18:08:44.572Z"
   },
   {
    "duration": 24,
    "start_time": "2023-04-06T18:08:44.603Z"
   },
   {
    "duration": 10,
    "start_time": "2023-04-06T18:08:44.628Z"
   },
   {
    "duration": 49,
    "start_time": "2023-04-06T18:08:44.640Z"
   },
   {
    "duration": 19,
    "start_time": "2023-04-06T18:08:44.691Z"
   },
   {
    "duration": 28,
    "start_time": "2023-04-06T18:08:44.713Z"
   },
   {
    "duration": 51,
    "start_time": "2023-04-06T18:08:44.744Z"
   },
   {
    "duration": 16,
    "start_time": "2023-04-06T18:08:44.797Z"
   },
   {
    "duration": 32,
    "start_time": "2023-04-06T18:08:44.816Z"
   },
   {
    "duration": 12,
    "start_time": "2023-04-06T18:08:44.850Z"
   },
   {
    "duration": 235,
    "start_time": "2023-04-06T18:08:44.864Z"
   },
   {
    "duration": 14,
    "start_time": "2023-04-06T18:08:45.101Z"
   },
   {
    "duration": 31,
    "start_time": "2023-04-06T18:08:45.117Z"
   },
   {
    "duration": 11,
    "start_time": "2023-04-06T18:08:45.150Z"
   },
   {
    "duration": 276,
    "start_time": "2023-04-06T18:08:45.163Z"
   },
   {
    "duration": 13,
    "start_time": "2023-04-06T18:08:45.441Z"
   },
   {
    "duration": 1639,
    "start_time": "2023-04-06T18:08:45.457Z"
   },
   {
    "duration": 220,
    "start_time": "2023-04-06T18:08:47.098Z"
   },
   {
    "duration": 20,
    "start_time": "2023-04-06T18:08:47.321Z"
   },
   {
    "duration": 24,
    "start_time": "2023-04-06T18:08:47.344Z"
   },
   {
    "duration": 250,
    "start_time": "2023-04-06T18:08:47.373Z"
   },
   {
    "duration": 23,
    "start_time": "2023-04-06T18:08:47.625Z"
   },
   {
    "duration": 7,
    "start_time": "2023-04-06T18:08:47.650Z"
   },
   {
    "duration": 57,
    "start_time": "2023-04-06T18:08:47.658Z"
   },
   {
    "duration": 7,
    "start_time": "2023-04-06T18:08:47.718Z"
   },
   {
    "duration": 21,
    "start_time": "2023-04-06T18:08:47.727Z"
   },
   {
    "duration": 7619,
    "start_time": "2023-04-07T20:15:42.883Z"
   },
   {
    "duration": 1819,
    "start_time": "2023-04-07T20:15:50.504Z"
   },
   {
    "duration": 34,
    "start_time": "2023-04-07T20:15:52.324Z"
   },
   {
    "duration": 497,
    "start_time": "2023-04-07T20:15:52.360Z"
   },
   {
    "duration": 75,
    "start_time": "2023-04-07T20:15:52.859Z"
   },
   {
    "duration": 31,
    "start_time": "2023-04-07T20:15:52.935Z"
   },
   {
    "duration": 89,
    "start_time": "2023-04-07T20:15:52.967Z"
   },
   {
    "duration": 4,
    "start_time": "2023-04-07T20:15:53.058Z"
   },
   {
    "duration": 8,
    "start_time": "2023-04-07T20:15:53.064Z"
   },
   {
    "duration": 109,
    "start_time": "2023-04-07T20:15:53.076Z"
   },
   {
    "duration": 19,
    "start_time": "2023-04-07T20:15:53.186Z"
   },
   {
    "duration": 72,
    "start_time": "2023-04-07T20:15:53.206Z"
   },
   {
    "duration": 72,
    "start_time": "2023-04-07T20:15:53.280Z"
   },
   {
    "duration": 249,
    "start_time": "2023-04-07T20:15:53.354Z"
   },
   {
    "duration": 59,
    "start_time": "2023-04-07T20:15:53.605Z"
   },
   {
    "duration": 60,
    "start_time": "2023-04-07T20:15:53.666Z"
   },
   {
    "duration": 21,
    "start_time": "2023-04-07T20:15:53.728Z"
   },
   {
    "duration": 5,
    "start_time": "2023-04-07T20:15:53.751Z"
   },
   {
    "duration": 7,
    "start_time": "2023-04-07T20:15:53.758Z"
   },
   {
    "duration": 3,
    "start_time": "2023-04-07T20:15:53.767Z"
   },
   {
    "duration": 38,
    "start_time": "2023-04-07T20:15:53.771Z"
   },
   {
    "duration": 10,
    "start_time": "2023-04-07T20:15:53.811Z"
   },
   {
    "duration": 17,
    "start_time": "2023-04-07T20:15:53.823Z"
   },
   {
    "duration": 31,
    "start_time": "2023-04-07T20:15:53.842Z"
   },
   {
    "duration": 151,
    "start_time": "2023-04-07T20:15:53.903Z"
   },
   {
    "duration": 30,
    "start_time": "2023-04-07T20:15:54.056Z"
   },
   {
    "duration": 27,
    "start_time": "2023-04-07T20:15:54.106Z"
   },
   {
    "duration": 146,
    "start_time": "2023-04-07T20:15:54.138Z"
   },
   {
    "duration": 22,
    "start_time": "2023-04-07T20:15:54.285Z"
   },
   {
    "duration": 18,
    "start_time": "2023-04-07T20:15:54.309Z"
   },
   {
    "duration": 27,
    "start_time": "2023-04-07T20:15:54.329Z"
   },
   {
    "duration": 7,
    "start_time": "2023-04-07T20:15:54.358Z"
   },
   {
    "duration": 38,
    "start_time": "2023-04-07T20:15:54.366Z"
   },
   {
    "duration": 11,
    "start_time": "2023-04-07T20:15:54.406Z"
   },
   {
    "duration": 35,
    "start_time": "2023-04-07T20:15:54.419Z"
   },
   {
    "duration": 5,
    "start_time": "2023-04-07T20:15:54.455Z"
   },
   {
    "duration": 28,
    "start_time": "2023-04-07T20:15:54.462Z"
   },
   {
    "duration": 21,
    "start_time": "2023-04-07T20:15:54.491Z"
   },
   {
    "duration": 25,
    "start_time": "2023-04-07T20:15:54.514Z"
   },
   {
    "duration": 19,
    "start_time": "2023-04-07T20:15:54.541Z"
   },
   {
    "duration": 11,
    "start_time": "2023-04-07T20:15:54.562Z"
   },
   {
    "duration": 16,
    "start_time": "2023-04-07T20:15:54.604Z"
   },
   {
    "duration": 8,
    "start_time": "2023-04-07T20:15:54.622Z"
   },
   {
    "duration": 226,
    "start_time": "2023-04-07T20:15:54.632Z"
   },
   {
    "duration": 13,
    "start_time": "2023-04-07T20:15:54.860Z"
   },
   {
    "duration": 29,
    "start_time": "2023-04-07T20:15:54.875Z"
   },
   {
    "duration": 9,
    "start_time": "2023-04-07T20:15:54.907Z"
   },
   {
    "duration": 198,
    "start_time": "2023-04-07T20:15:54.918Z"
   },
   {
    "duration": 13,
    "start_time": "2023-04-07T20:15:55.118Z"
   },
   {
    "duration": 1314,
    "start_time": "2023-04-07T20:15:55.133Z"
   },
   {
    "duration": 186,
    "start_time": "2023-04-07T20:15:56.450Z"
   },
   {
    "duration": 13,
    "start_time": "2023-04-07T20:15:56.638Z"
   },
   {
    "duration": 11,
    "start_time": "2023-04-07T20:15:56.653Z"
   },
   {
    "duration": 199,
    "start_time": "2023-04-07T20:15:56.665Z"
   },
   {
    "duration": 38,
    "start_time": "2023-04-07T20:15:56.866Z"
   },
   {
    "duration": 6,
    "start_time": "2023-04-07T20:15:56.905Z"
   },
   {
    "duration": 58,
    "start_time": "2023-04-07T20:15:56.913Z"
   },
   {
    "duration": 47,
    "start_time": "2023-04-07T20:15:56.973Z"
   },
   {
    "duration": 25,
    "start_time": "2023-04-07T20:15:57.021Z"
   },
   {
    "duration": 6,
    "start_time": "2023-04-07T20:26:23.193Z"
   },
   {
    "duration": 11,
    "start_time": "2023-04-07T20:26:24.955Z"
   }
  ],
  "kernelspec": {
   "display_name": "Python 3 (ipykernel)",
   "language": "python",
   "name": "python3"
  },
  "language_info": {
   "codemirror_mode": {
    "name": "ipython",
    "version": 3
   },
   "file_extension": ".py",
   "mimetype": "text/x-python",
   "name": "python",
   "nbconvert_exporter": "python",
   "pygments_lexer": "ipython3",
   "version": "3.11.0"
  },
  "toc": {
   "base_numbering": 1,
   "nav_menu": {},
   "number_sections": true,
   "sideBar": true,
   "skip_h1_title": true,
   "title_cell": "Table of Contents",
   "title_sidebar": "Contents",
   "toc_cell": false,
   "toc_position": {},
   "toc_section_display": true,
   "toc_window_display": true
  }
 },
 "nbformat": 4,
 "nbformat_minor": 2
}
